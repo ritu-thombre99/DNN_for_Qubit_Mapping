{
 "cells": [
  {
   "cell_type": "code",
   "execution_count": 1,
   "id": "975d5b27",
   "metadata": {},
   "outputs": [],
   "source": [
    "# pip install qiskit==0.31.0"
   ]
  },
  {
   "cell_type": "code",
   "execution_count": 201,
   "id": "a2159363",
   "metadata": {},
   "outputs": [],
   "source": [
    "import qiskit\n",
    "from qiskit import QuantumCircuit, QuantumRegister, ClassicalRegister, execute, BasicAer\n",
    "import numpy as np\n",
    "from qiskit.visualization import plot_histogram\n",
    "from qiskit import BasicAer, execute\n",
    "from tqdm import tqdm\n",
    "import numpy as np\n",
    "backend = BasicAer.get_backend(\"qasm_simulator\")\n",
    "\n",
    "def qft(num_qubits,is_inverse):\n",
    "    qft_gate = QFT(num_qubits=num_qubits, do_swaps=False, inverse=is_inverse).to_gate()\n",
    "    return qft_gate\n",
    "def subroutine_add_const(num_qubits,const):\n",
    "    qc = QuantumCircuit(num_qubits)\n",
    "    for i in range(num_qubits):\n",
    "        angle = const*np.pi/(2**i)\n",
    "        qc.p(angle,i)\n",
    "    return qc.to_gate()"
   ]
  },
  {
   "cell_type": "code",
   "execution_count": 124,
   "id": "ba35afc9",
   "metadata": {},
   "outputs": [],
   "source": [
    "qft_circuits=[]\n",
    "for i in range(1,8):\n",
    "    qft_gate = qft(num_qubits=i,is_inverse=False)\n",
    "    for j in range(8-i):\n",
    "        qr = QuantumRegister(7)\n",
    "        cr = ClassicalRegister(7)\n",
    "        qc = QuantumCircuit(qr,cr)\n",
    "        qc.append(qft_gate, qr[j:j+i])\n",
    "        qc.measure(qr,cr)\n",
    "        qft_circuits.append(qc)\n",
    "# qft_circuits[0].draw(output='mpl')"
   ]
  },
  {
   "cell_type": "code",
   "execution_count": 125,
   "id": "72c4c455",
   "metadata": {
    "scrolled": false
   },
   "outputs": [
    {
     "name": "stderr",
     "output_type": "stream",
     "text": [
      "100%|████████████████████████████████████████████████████████████████████████████████████████████████████| 10795/10795 [00:54<00:00, 199.90it/s]\n"
     ]
    }
   ],
   "source": [
    "addition_circuits = []\n",
    "with tqdm(total=10795) as pbar:\n",
    "    for bits in range(1,8):\n",
    "        max_num = 2**bits\n",
    "        for i in range(max_num):\n",
    "            for j in range(1,max_num):\n",
    "                if i+j < max_num:\n",
    "                    qr = QuantumRegister(7)\n",
    "                    cr = ClassicalRegister(7)\n",
    "                    qc = QuantumCircuit(qr,cr)\n",
    "                    qft_gate = qft(num_qubits=bits,is_inverse=False)\n",
    "                    qc.append(qft_gate, qr[:bits])\n",
    "\n",
    "                    qc.append(subroutine_add_const(bits,i), qr[:bits])\n",
    "                    qc.append(subroutine_add_const(bits,j), qr[:bits])\n",
    "\n",
    "                    inverse_qft_gate = qft(num_qubits=bits,is_inverse=True)\n",
    "                    qc.append(inverse_qft_gate, qr[:bits])\n",
    "                    qc.measure(qr,cr)\n",
    "\n",
    "                    # counts = execute(qc,backend,shots=100).result().get_counts()\n",
    "                    # bin_val = int(list(counts.keys())[0],2)\n",
    "                    pbar.update(1)\n",
    "                    addition_circuits.append(qc)"
   ]
  },
  {
   "cell_type": "code",
   "execution_count": null,
   "id": "9e272abd",
   "metadata": {},
   "outputs": [],
   "source": []
  },
  {
   "cell_type": "code",
   "execution_count": 373,
   "id": "37c61fc8",
   "metadata": {},
   "outputs": [],
   "source": [
    "def ghz_recursive(qc, quantum_register, low, mid, high):\n",
    "    if low<mid and mid<high and low>=0 and mid>=0 and high>=0:\n",
    "        # print(low, (low+mid)//2, mid, (mid+high+1)//2) \n",
    "        if low< (low+mid)//2:\n",
    "            qc.cnot(quantum_register[low], quantum_register[(low+mid)//2])\n",
    "        if mid < (mid+high+1)//2:\n",
    "            qc.cnot(quantum_register[mid], quantum_register[(mid+high+1)//2])\n",
    "        ghz_recursive(qc, quantum_register, low, (low+mid)//2, mid-1)\n",
    "        ghz_recursive(qc, quantum_register, mid, (mid+high+1)//2, high)\n",
    "def generate_ghz_logn(n):\n",
    "    quantum_register = QuantumRegister(n)\n",
    "    qc = QuantumCircuit(quantum_register)\n",
    "\n",
    "    ####### your code goes here #######\n",
    "    qc.h(quantum_register[0])\n",
    "    qc.cnot(quantum_register[0], quantum_register[n//2])\n",
    "    ghz_recursive(qc, quantum_register, 0, n//2, n-1)\n",
    "\n",
    "    return qc.to_gate()\n",
    "\n",
    "\n",
    "ghz_rec_circuits=[]\n",
    "for i in range(2,8):\n",
    "    ghz_circuit = generate_ghz_logn(i)\n",
    "    for j in range(8-i):\n",
    "        qr = QuantumRegister(7)\n",
    "        cr = ClassicalRegister(7)\n",
    "        qc = QuantumCircuit(qr,cr)\n",
    "        qc.append(ghz_circuit, qr[j:j+i])\n",
    "        qc.measure(qr,cr)\n",
    "        ghz_rec_circuits.append(qc)\n",
    "# qft_circuits[0].draw(output='mpl')"
   ]
  },
  {
   "cell_type": "code",
   "execution_count": 374,
   "id": "bc8343a3",
   "metadata": {},
   "outputs": [],
   "source": [
    "def generate_ghz(n):\n",
    "    quantum_register = QuantumRegister(n)\n",
    "    qc = QuantumCircuit(quantum_register)\n",
    "\n",
    "    ####### your code goes here #######\n",
    "    qc.h(quantum_register[0])\n",
    "    for i in range(1,n):\n",
    "        qc.cnot(quantum_register[0], quantum_register[i])\n",
    "    return qc.to_gate()\n",
    "\n",
    "\n",
    "ghz_circuits=[]\n",
    "for i in range(2,8):\n",
    "    ghz_circuit = generate_ghz(i)\n",
    "    for j in range(8-i):\n",
    "        qr = QuantumRegister(7)\n",
    "        cr = ClassicalRegister(7)\n",
    "        qc = QuantumCircuit(qr,cr)\n",
    "        qc.append(ghz_circuit, qr[j:j+i])\n",
    "        qc.measure(qr,cr)\n",
    "        ghz_circuits.append(qc)"
   ]
  },
  {
   "cell_type": "code",
   "execution_count": null,
   "id": "a42519c5",
   "metadata": {},
   "outputs": [],
   "source": []
  },
  {
   "cell_type": "code",
   "execution_count": 375,
   "id": "4d42f6f4",
   "metadata": {},
   "outputs": [],
   "source": [
    "def oracle_func(qc,database,oracle,num_to_find):\n",
    "    bin_to_find = (bin(num_to_find)[2:]).rjust(len(database),'0')\n",
    "    \n",
    "    bin_to_find = bin_to_find[::-1]\n",
    "    for i in range(len(bin_to_find)):\n",
    "        if bin_to_find[i] == '0':\n",
    "            qc.x(database[i])\n",
    "    qc.mct(database[:], oracle[0]) \n",
    "    for i in range(len(bin_to_find)):\n",
    "        if bin_to_find[i] == '0':\n",
    "            qc.x(database[i])\n",
    "def grover_circuit(num_qubits, num_iteration, num_to_find):\n",
    "    database = QuantumRegister(num_qubits-1)\n",
    "    oracle = QuantumRegister(1)\n",
    "    qc = QuantumCircuit(database,oracle)\n",
    "    \n",
    "    # initialization\n",
    "    qc.h(database[:])\n",
    "    qc.x(oracle[0])\n",
    "    qc.h(oracle[0])\n",
    "    \n",
    "    # iters\n",
    "    for j in range(num_iteration):\n",
    "        # oracle\n",
    "        oracle_func(qc,database,oracle,num_to_find)\n",
    "\n",
    "        # diffusion\n",
    "        qc.h(database[:])\n",
    "        qc.x(database[:])\n",
    "        qc.h(database[-1])\n",
    "        qc.mct(database[0:-1], database[-1])\n",
    "        qc.h(database[-1])\n",
    "        qc.x(database[:])\n",
    "        qc.h(database[:])\n",
    "    qc.h(oracle[0])\n",
    "    qc.x(oracle[0])\n",
    "    return qc.to_gate()"
   ]
  },
  {
   "cell_type": "code",
   "execution_count": null,
   "id": "8063c610",
   "metadata": {},
   "outputs": [],
   "source": []
  },
  {
   "cell_type": "code",
   "execution_count": null,
   "id": "8d9b824f",
   "metadata": {},
   "outputs": [],
   "source": []
  },
  {
   "cell_type": "code",
   "execution_count": 376,
   "id": "e5bae67e",
   "metadata": {},
   "outputs": [
    {
     "name": "stderr",
     "output_type": "stream",
     "text": [
      "100%|█████████████████████████████████████████████████████████████████████████████████████████████████████████| 868/868 [00:12<00:00, 71.38it/s]\n"
     ]
    }
   ],
   "source": [
    "grover_circuits=[]\n",
    "with tqdm(total=868) as pbar:\n",
    "    for bits in range(3,8):\n",
    "        max_num = 2**(bits-1)\n",
    "        iterations = int(np.floor((np.pi/4)*np.sqrt(max_num)))\n",
    "        for itrs in range(1,iterations+1):\n",
    "            for num_to_find in range(max_num):\n",
    "                grover_gate = grover_circuit(num_qubits=bits, num_iteration=itrs, num_to_find=num_to_find)\n",
    "                for j in range(8-bits):\n",
    "                    qr = QuantumRegister(7)\n",
    "                    cr = ClassicalRegister(7)\n",
    "                    qc = QuantumCircuit(qr,cr)\n",
    "                    qc.append(grover_gate, qr[j:j+bits])\n",
    "                    qc.measure(qr,cr)\n",
    "                    grover_circuits.append(qc)\n",
    "                    pbar.update(1)"
   ]
  },
  {
   "cell_type": "code",
   "execution_count": 377,
   "id": "2910cab3",
   "metadata": {},
   "outputs": [
    {
     "data": {
      "text/plain": [
       "868"
      ]
     },
     "execution_count": 377,
     "metadata": {},
     "output_type": "execute_result"
    }
   ],
   "source": [
    "len(grover_circuits)"
   ]
  },
  {
   "cell_type": "code",
   "execution_count": 378,
   "id": "a2aa1578",
   "metadata": {},
   "outputs": [],
   "source": [
    "from qiskit.circuit.library import PhaseEstimation"
   ]
  },
  {
   "cell_type": "code",
   "execution_count": 379,
   "id": "199b0848",
   "metadata": {},
   "outputs": [
    {
     "data": {
      "image/png": "[encoded data removed]",
      "text/plain": [
       "<Figure size 185.453x117.056 with 1 Axes>"
      ]
     },
     "execution_count": 379,
     "metadata": {},
     "output_type": "execute_result"
    }
   ],
   "source": [
    "U = QuantumCircuit(1)\n",
    "U.p(9*np.pi/16,0)\n",
    "U.draw(output='mpl')"
   ]
  },
  {
   "cell_type": "code",
   "execution_count": 380,
   "id": "3eff7e2c",
   "metadata": {},
   "outputs": [],
   "source": [
    "def get_unitary(bits_for_unitary,phase):\n",
    "    qc = QuantumCircuit(bits_for_unitary)\n",
    "    qc.p(phase,0)\n",
    "    return qc\n",
    "def get_qpe(num_qubits, phase, bits_for_unitary):\n",
    "    U = get_unitary(bits_for_unitary,phase)\n",
    "    iqft = QFT(num_qubits=num_qubits, do_swaps=False, inverse=True)\n",
    "    QPE = PhaseEstimation(num_evaluation_qubits=num_qubits, unitary=U, iqft=iqft)\n",
    "    return QPE"
   ]
  },
  {
   "cell_type": "code",
   "execution_count": 381,
   "id": "37216b52",
   "metadata": {},
   "outputs": [
    {
     "data": {
      "image/png": "[encoded data removed]",
      "text/plain": [
       "<Figure size 1333.49x451.5 with 1 Axes>"
      ]
     },
     "execution_count": 381,
     "metadata": {},
     "output_type": "execute_result"
    }
   ],
   "source": [
    "qpe = get_qpe(3, 7*np.pi/4, 2)\n",
    "qpe.decompose().draw(output='mpl')"
   ]
  },
  {
   "cell_type": "code",
   "execution_count": 382,
   "id": "e1730cc7",
   "metadata": {},
   "outputs": [],
   "source": [
    "def get_qpe_circuits_for_phase(phase):\n",
    "    circ_list = []\n",
    "    for eval_bits in range(3,8):\n",
    "        for unitary_bits in range(1, 7-eval_bits+1):\n",
    "            circ_size = eval_bits+unitary_bits\n",
    "            qpe = get_qpe(eval_bits, phase, unitary_bits)\n",
    "            for j in range(circ_size,8):\n",
    "                qr = QuantumRegister(7)\n",
    "                cr = ClassicalRegister(eval_bits)\n",
    "                qc = QuantumCircuit(qr,cr)\n",
    "                for eig_bits in range(j-1,j-1-unitary_bits,-1):\n",
    "                    qc.x(qr[eig_bits])\n",
    "                qc.append(qpe, qr[j-circ_size:j])\n",
    "                qc.measure(qr[:eval_bits],cr)\n",
    "                circ_list.append(qc)\n",
    "    return circ_list\n",
    "phases = [(np.random.randint(1,64))/64 for _ in range(20)]\n",
    "qpe_circuits = []\n",
    "for p in phases:\n",
    "    qpe_circuits= qpe_circuits+get_qpe_circuits_for_phase(p)"
   ]
  },
  {
   "cell_type": "code",
   "execution_count": null,
   "id": "e2c2315b",
   "metadata": {},
   "outputs": [],
   "source": []
  },
  {
   "cell_type": "code",
   "execution_count": 383,
   "id": "0f8f0156",
   "metadata": {},
   "outputs": [],
   "source": [
    "test_dataset = qft_circuits + addition_circuits + ghz_rec_circuits + ghz_circuits + grover_circuits + qpe_circuits"
   ]
  },
  {
   "cell_type": "code",
   "execution_count": 392,
   "id": "54dd1e2d",
   "metadata": {},
   "outputs": [
    {
     "name": "stderr",
     "output_type": "stream",
     "text": [
      "100%|████████████████████████████████████████████████████████████████████████████████████████████████████| 12133/12133 [01:02<00:00, 195.32it/s]\n"
     ]
    }
   ],
   "source": [
    "depths = []\n",
    "for i in tqdm(range(len(test_dataset))):\n",
    "    tqc = test_dataset[i].decompose()\n",
    "    if tqc.depth() not in depths:\n",
    "        depths.append(tqc.depth())"
   ]
  },
  {
   "cell_type": "code",
   "execution_count": 393,
   "id": "8a49de93",
   "metadata": {},
   "outputs": [
    {
     "data": {
      "text/plain": [
       "[2, 5, 3, 4, 6, 7, 8, 12, 11, 22, 19, 32, 27, 42, 35, 52, 43, 62, 51]"
      ]
     },
     "execution_count": 393,
     "metadata": {},
     "output_type": "execute_result"
    }
   ],
   "source": [
    "depths"
   ]
  },
  {
   "cell_type": "code",
   "execution_count": null,
   "id": "9cd7beb2",
   "metadata": {},
   "outputs": [],
   "source": []
  },
  {
   "cell_type": "code",
   "execution_count": null,
   "id": "ee8dcb7a",
   "metadata": {},
   "outputs": [],
   "source": []
  },
  {
   "cell_type": "code",
   "execution_count": null,
   "id": "12356080",
   "metadata": {},
   "outputs": [],
   "source": []
  },
  {
   "cell_type": "code",
   "execution_count": null,
   "id": "040e7712",
   "metadata": {},
   "outputs": [],
   "source": []
  },
  {
   "cell_type": "code",
   "execution_count": null,
   "id": "b66c7d1b",
   "metadata": {},
   "outputs": [],
   "source": []
  },
  {
   "cell_type": "code",
   "execution_count": null,
   "id": "21064bf3",
   "metadata": {},
   "outputs": [],
   "source": []
  },
  {
   "cell_type": "code",
   "execution_count": 399,
   "id": "55bd9fc5",
   "metadata": {},
   "outputs": [],
   "source": [
    "import tensorflow as tf\n",
    "from tensorflow import keras"
   ]
  },
  {
   "cell_type": "code",
   "execution_count": 400,
   "id": "6004a6bf",
   "metadata": {},
   "outputs": [],
   "source": [
    "from Dataset import *"
   ]
  },
  {
   "cell_type": "code",
   "execution_count": 405,
   "id": "47323f55",
   "metadata": {},
   "outputs": [
    {
     "name": "stderr",
     "output_type": "stream",
     "text": [
      "2023-11-26 21:47:29.620831: I tensorflow/stream_executor/platform/default/dso_loader.cc:44] Successfully opened dynamic library libcuda.so.1\n",
      "2023-11-26 21:47:30.837094: E tensorflow/stream_executor/cuda/cuda_gpu_executor.cc:967] could not open file to read NUMA node: /sys/bus/pci/devices/0000:01:00.0/numa_node\n",
      "Your kernel may have been built without NUMA support.\n",
      "2023-11-26 21:47:30.839927: I tensorflow/core/common_runtime/gpu/gpu_device.cc:1561] Found device 0 with properties: \n",
      "pciBusID: 0000:01:00.0 name: NVIDIA GeForce GTX 1650 Ti computeCapability: 7.5\n",
      "coreClock: 1.485GHz coreCount: 16 deviceMemorySize: 4.00GiB deviceMemoryBandwidth: 178.84GiB/s\n",
      "2023-11-26 21:47:30.840144: W tensorflow/stream_executor/platform/default/dso_loader.cc:55] Could not load dynamic library 'libcudart.so.10.1'; dlerror: libcudart.so.10.1: cannot open shared object file: No such file or directory\n",
      "2023-11-26 21:47:30.840278: W tensorflow/stream_executor/platform/default/dso_loader.cc:55] Could not load dynamic library 'libcublas.so.10'; dlerror: libcublas.so.10: cannot open shared object file: No such file or directory\n",
      "2023-11-26 21:47:30.840327: W tensorflow/stream_executor/platform/default/dso_loader.cc:55] Could not load dynamic library 'libcufft.so.10'; dlerror: libcufft.so.10: cannot open shared object file: No such file or directory\n",
      "2023-11-26 21:47:30.840373: W tensorflow/stream_executor/platform/default/dso_loader.cc:55] Could not load dynamic library 'libcurand.so.10'; dlerror: libcurand.so.10: cannot open shared object file: No such file or directory\n",
      "2023-11-26 21:47:30.840417: W tensorflow/stream_executor/platform/default/dso_loader.cc:55] Could not load dynamic library 'libcusolver.so.10'; dlerror: libcusolver.so.10: cannot open shared object file: No such file or directory\n",
      "2023-11-26 21:47:30.840462: W tensorflow/stream_executor/platform/default/dso_loader.cc:55] Could not load dynamic library 'libcusparse.so.10'; dlerror: libcusparse.so.10: cannot open shared object file: No such file or directory\n",
      "2023-11-26 21:47:30.840517: W tensorflow/stream_executor/platform/default/dso_loader.cc:55] Could not load dynamic library 'libcudnn.so.7'; dlerror: libcudnn.so.7: cannot open shared object file: No such file or directory\n",
      "2023-11-26 21:47:30.840526: W tensorflow/core/common_runtime/gpu/gpu_device.cc:1598] Cannot dlopen some GPU libraries. Please make sure the missing libraries mentioned above are installed properly if you would like to use GPU. Follow the guide at https://www.tensorflow.org/install/gpu for how to download and setup the required libraries for your platform.\n",
      "Skipping registering GPU devices...\n",
      "2023-11-26 21:47:30.842011: I tensorflow/core/platform/cpu_feature_guard.cc:143] Your CPU supports instructions that this TensorFlow binary was not compiled to use: AVX2 FMA\n",
      "2023-11-26 21:47:30.854797: I tensorflow/core/platform/profile_utils/cpu_utils.cc:102] CPU Frequency: 2495725000 Hz\n",
      "2023-11-26 21:47:30.855591: I tensorflow/compiler/xla/service/service.cc:168] XLA service 0x7f2124000b70 initialized for platform Host (this does not guarantee that XLA will be used). Devices:\n",
      "2023-11-26 21:47:30.855612: I tensorflow/compiler/xla/service/service.cc:176]   StreamExecutor device (0): Host, Default Version\n",
      "2023-11-26 21:47:30.857677: I tensorflow/core/common_runtime/gpu/gpu_device.cc:1102] Device interconnect StreamExecutor with strength 1 edge matrix:\n",
      "2023-11-26 21:47:30.857702: I tensorflow/core/common_runtime/gpu/gpu_device.cc:1108]      \n"
     ]
    }
   ],
   "source": [
    "loaded_model = tf.keras.models.load_model(\"models/mlp.keras\")"
   ]
  },
  {
   "cell_type": "code",
   "execution_count": 406,
   "id": "8769fe6e",
   "metadata": {},
   "outputs": [
    {
     "name": "stdout",
     "output_type": "stream",
     "text": [
      "Model: \"model\"\n",
      "_________________________________________________________________\n",
      "Layer (type)                 Output Shape              Param #   \n",
      "=================================================================\n",
      "input (InputLayer)           [(None, 89)]              0         \n",
      "_________________________________________________________________\n",
      "dense (Dense)                (None, 70)                6300      \n",
      "_________________________________________________________________\n",
      "dense_1 (Dense)              (None, 49)                3479      \n",
      "=================================================================\n",
      "Total params: 9,779\n",
      "Trainable params: 9,779\n",
      "Non-trainable params: 0\n",
      "_________________________________________________________________\n"
     ]
    }
   ],
   "source": [
    "loaded_model.summary()"
   ]
  },
  {
   "cell_type": "code",
   "execution_count": null,
   "id": "59dbb66a",
   "metadata": {},
   "outputs": [],
   "source": []
  }
 ],
 "metadata": {
  "kernelspec": {
   "display_name": "Python [conda env:dnn_for_qubit_mapping]",
   "language": "python",
   "name": "conda-env-dnn_for_qubit_mapping-py"
  },
  "language_info": {
   "codemirror_mode": {
    "name": "ipython",
    "version": 3
   },
   "file_extension": ".py",
   "mimetype": "text/x-python",
   "name": "python",
   "nbconvert_exporter": "python",
   "pygments_lexer": "ipython3",
   "version": "3.8.18"
  }
 },
 "nbformat": 4,
 "nbformat_minor": 5
}
