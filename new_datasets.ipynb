{
 "cells": [
  {
   "cell_type": "code",
   "execution_count": 1,
   "id": "975d5b27",
   "metadata": {},
   "outputs": [],
   "source": [
    "# pip install qiskit==0.31.0"
   ]
  },
  {
   "cell_type": "code",
   "execution_count": 392,
   "id": "54dd1e2d",
   "metadata": {},
   "outputs": [
    {
     "name": "stderr",
     "output_type": "stream",
     "text": [
      "100%|████████████████████████████████████████████████████████████████████████████████████████████████████| 12133/12133 [01:02<00:00, 195.32it/s]\n"
     ]
    }
   ],
   "source": [
    "depths = []\n",
    "for i in tqdm(range(len(test_dataset))):\n",
    "    tqc = test_dataset[i].decompose()\n",
    "    if tqc.depth() not in depths:\n",
    "        depths.append(tqc.depth())"
   ]
  },
  {
   "cell_type": "code",
   "execution_count": 393,
   "id": "8a49de93",
   "metadata": {},
   "outputs": [
    {
     "data": {
      "text/plain": [
       "[2, 5, 3, 4, 6, 7, 8, 12, 11, 22, 19, 32, 27, 42, 35, 52, 43, 62, 51]"
      ]
     },
     "execution_count": 393,
     "metadata": {},
     "output_type": "execute_result"
    }
   ],
   "source": [
    "depths"
   ]
  },
  {
   "cell_type": "code",
   "execution_count": null,
   "id": "c4a8d2e1",
   "metadata": {},
   "outputs": [],
   "source": []
  },
  {
   "cell_type": "code",
   "execution_count": null,
   "id": "80068027",
   "metadata": {},
   "outputs": [
    {
     "name": "stdout",
     "output_type": "stream",
     "text": [
      "Generating QFT circuits\n",
      "Generating Addition circuits\n"
     ]
    },
    {
     "name": "stderr",
     "output_type": "stream",
     "text": [
      " 44%|████████████████████████████████████████████▌                                                        | 4762/10795 [00:22<00:31, 190.47it/s]"
     ]
    }
   ],
   "source": [
    "from get_test_datasets import return_dataset\n",
    "test_dataset = return_dataset()"
   ]
  },
  {
   "cell_type": "code",
   "execution_count": null,
   "id": "f6621701",
   "metadata": {},
   "outputs": [],
   "source": []
  },
  {
   "cell_type": "code",
   "execution_count": null,
   "id": "719313a9",
   "metadata": {},
   "outputs": [],
   "source": []
  },
  {
   "cell_type": "code",
   "execution_count": 451,
   "id": "39db8ee8",
   "metadata": {},
   "outputs": [],
   "source": [
    "mlp_edge_feature = tf.keras.models.load_model(\"models/mlp_edge_features.keras\")\n",
    "dnn = tf.keras.models.load_model(\"models/dnn.keras\")"
   ]
  },
  {
   "cell_type": "code",
   "execution_count": 455,
   "id": "9cd7beb2",
   "metadata": {},
   "outputs": [],
   "source": [
    "from mlp_graph_feature import get_graph_features,clear_dataset"
   ]
  },
  {
   "cell_type": "code",
   "execution_count": 456,
   "id": "9b7cc316",
   "metadata": {},
   "outputs": [],
   "source": [
    "\n",
    "def pred_layout(l, num_qubits):\n",
    "    layout=[]\n",
    "    for i in range(len(l[0])):\n",
    "        layout_i = []\n",
    "        for slots in l[:num_qubits]:\n",
    "            if np.argmax(slots[i]) != num_qubits:\n",
    "                layout_i.append(np.argmax(slots[i]))\n",
    "            else:\n",
    "                layout_i.append(np.nan)\n",
    "        layout.append(layout_i)\n",
    "    return layout\n",
    "\n",
    "def controlla_rip(l):\n",
    "    rip = []\n",
    "    for i in range(len(l)):\n",
    "        for j in range(i+1, len(l)):\n",
    "            if l[i] == l[j]:\n",
    "                if (i,j) not in rip:\n",
    "                    rip.append((i,j))\n",
    "\n",
    "    return rip\n",
    "\n",
    "def pred_layout_diff_elem(l,num_qubits):\n",
    "    layout=[]\n",
    "    for i in range(len(l[0])):\n",
    "        check = 0\n",
    "        while check != 1:\n",
    "            layout_i = []\n",
    "            for slots in l[:num_qubits]:\n",
    "                if np.argmax(slots[i]) != num_qubits:\n",
    "                    layout_i.append(np.argmax(slots[i]))\n",
    "                else:\n",
    "                    layout_i.append(np.nan)\n",
    "            rip = controlla_rip(layout_i)\n",
    "            if rip == []:\n",
    "                check = 1\n",
    "            else:\n",
    "                for index in rip:\n",
    "                    if l[index[0]][i][layout_i[index[0]]] > l[index[1]][i][layout_i[index[1]]]:\n",
    "                        l[index[1]][i][layout_i[index[1]]]=0\n",
    "                    else:\n",
    "                        l[index[0]][i][layout_i[index[0]]] = 0\n",
    "\n",
    "        layout.append(layout_i)\n",
    "    return layout\n"
   ]
  },
  {
   "cell_type": "code",
   "execution_count": 457,
   "id": "ee8dcb7a",
   "metadata": {},
   "outputs": [
    {
     "name": "stdout",
     "output_type": "stream",
     "text": [
      "2023-07-12 23:13:07.484273\n",
      "Backend topology: 2023-07-12 23:13:07.484273\n",
      "<qiskit.providers.models.backendproperties.BackendProperties object at 0x7f20d12e93d0>\n",
      "[[0, 1], [1, 0], [1, 2], [1, 3], [2, 1], [3, 1], [3, 5], [4, 5], [5, 3], [5, 4], [5, 6], [6, 5]]\n"
     ]
    },
    {
     "name": "stderr",
     "output_type": "stream",
     "text": [
      "ibmqfactory.load_account:WARNING:2023-11-26 23:13:14,765: Credentials are already in use. The existing account in the session will be replaced.\n"
     ]
    },
    {
     "name": "stdout",
     "output_type": "stream",
     "text": [
      "Depth: [364, 364, 364, 364, 364, 364]\n",
      "na\n",
      "{1: Qubit(QuantumRegister(7, 'q'), 0), 2: Qubit(QuantumRegister(7, 'q'), 1), 0: Qubit(QuantumRegister(7, 'q'), 2), 3: Qubit(QuantumRegister(7, 'q'), 3), 6: Qubit(QuantumRegister(7, 'q'), 4), 5: Qubit(QuantumRegister(7, 'q'), 5), 4: Qubit(QuantumRegister(7, 'q'), 6)}\n",
      "Connections: ['01', '10', '12', '13', '21', '31', '35', '45', '53', '54', '56', '65']\n",
      "(1, 89)\n"
     ]
    },
    {
     "data": {
      "text/html": [
       "<div>\n",
       "<style scoped>\n",
       "    .dataframe tbody tr th:only-of-type {\n",
       "        vertical-align: middle;\n",
       "    }\n",
       "\n",
       "    .dataframe tbody tr th {\n",
       "        vertical-align: top;\n",
       "    }\n",
       "\n",
       "    .dataframe thead th {\n",
       "        text-align: right;\n",
       "    }\n",
       "</style>\n",
       "<table border=\"1\" class=\"dataframe\">\n",
       "  <thead>\n",
       "    <tr style=\"text-align: right;\">\n",
       "      <th></th>\n",
       "      <th>last_update_date</th>\n",
       "      <th>backend_name</th>\n",
       "      <th>N_qubtis</th>\n",
       "      <th>N_cx</th>\n",
       "      <th>cx_01</th>\n",
       "      <th>cx_02</th>\n",
       "      <th>cx_03</th>\n",
       "      <th>cx_04</th>\n",
       "      <th>cx_05</th>\n",
       "      <th>cx_06</th>\n",
       "      <th>...</th>\n",
       "      <th>T1_6</th>\n",
       "      <th>T2_6</th>\n",
       "      <th>readout_error_6</th>\n",
       "      <th>0</th>\n",
       "      <th>1</th>\n",
       "      <th>2</th>\n",
       "      <th>3</th>\n",
       "      <th>4</th>\n",
       "      <th>5</th>\n",
       "      <th>6</th>\n",
       "    </tr>\n",
       "  </thead>\n",
       "  <tbody>\n",
       "    <tr>\n",
       "      <th>0</th>\n",
       "      <td>2023-07-12 21:21:56-07:00</td>\n",
       "      <td>ibm_lagos</td>\n",
       "      <td>7</td>\n",
       "      <td>204</td>\n",
       "      <td>14</td>\n",
       "      <td>0</td>\n",
       "      <td>0</td>\n",
       "      <td>0</td>\n",
       "      <td>0</td>\n",
       "      <td>0</td>\n",
       "      <td>...</td>\n",
       "      <td>141.629633</td>\n",
       "      <td>155.987712</td>\n",
       "      <td>0.0143</td>\n",
       "      <td>2</td>\n",
       "      <td>0</td>\n",
       "      <td>1</td>\n",
       "      <td>3</td>\n",
       "      <td>6</td>\n",
       "      <td>5</td>\n",
       "      <td>4</td>\n",
       "    </tr>\n",
       "  </tbody>\n",
       "</table>\n",
       "<p>1 rows × 98 columns</p>\n",
       "</div>"
      ],
      "text/plain": [
       "           last_update_date backend_name  N_qubtis  N_cx  cx_01  cx_02  cx_03  \\\n",
       "0 2023-07-12 21:21:56-07:00    ibm_lagos         7   204     14      0      0   \n",
       "\n",
       "   cx_04  cx_05  cx_06  ...        T1_6        T2_6  readout_error_6  0  1  2  \\\n",
       "0      0      0      0  ...  141.629633  155.987712           0.0143  2  0  1   \n",
       "\n",
       "   3  4  5  6  \n",
       "0  3  6  5  4  \n",
       "\n",
       "[1 rows x 98 columns]"
      ]
     },
     "metadata": {},
     "output_type": "display_data"
    },
    {
     "name": "stdout",
     "output_type": "stream",
     "text": [
      "[[0 1 2 3 4 5 6]] [[0 1 2 3 4 5 6]]\n",
      "[array([[1., 0., 0., 0., 0., 0., 0., 0.]], dtype=float32), array([[0., 1., 0., 0., 0., 0., 0., 0.]], dtype=float32), array([[0., 0., 1., 0., 0., 0., 0., 0.]], dtype=float32), array([[0., 0., 0., 1., 0., 0., 0., 0.]], dtype=float32), array([[0., 0., 0., 0., 1., 0., 0., 0.]], dtype=float32), array([[0., 0., 0., 0., 0., 1., 0., 0.]], dtype=float32), array([[0., 0., 0., 0., 0., 0., 1., 0.]], dtype=float32)] [2 0 1 3 6 5 4]\n"
     ]
    }
   ],
   "source": [
    "def get_labels(y):\n",
    "    labels = []\n",
    "    for i in range(len(y)):\n",
    "        labels.append(np.where(y[i]==np.max(y[i]))[0][0])\n",
    "    return labels\n",
    "\n",
    "num_qubits = 7\n",
    "last_num_qubits = len(df.columns)-num_qubits\n",
    "\n",
    "\n",
    "for qc in test_dataset[8989:8990]:\n",
    "    data = datetime.datetime.today() - datetime.timedelta(days=random.randint(1,150))\n",
    "    backends = ['ibm_lagos','ibm_perth','ibm_nairobi']\n",
    "    backend = backends[np.random.randint(0,3)]\n",
    "    l = add_line(qc,backend, optimization_level=3, refresh=True, show= False, datatime=data)\n",
    "    \n",
    "    d={}\n",
    "    for i in range(len(l[0])):\n",
    "        d[str(l[0][i])] = l[1][i]\n",
    "    df = pd.DataFrame(d, index=[0])\n",
    "    df = clear_dataset(df, 7)\n",
    "#     x = get_graph_features(df)\n",
    "    x = df.iloc[:, 2:last_num_qubits].values\n",
    "    print(x.shape)\n",
    "#     print(x.shape)\n",
    "    labels = df.iloc[:, last_num_qubits:].values\n",
    "    display(df)\n",
    "#     pred = (mlp_edge_feature.predict(x))\n",
    "#     predicted=get_labels(np.reshape(pred,(7,7)))\n",
    "    predicted = dnn.predict(x)\n",
    "    \n",
    "    \n",
    "    pred_or = np.array(pred_layout(predicted, num_qubits))\n",
    "    pred_nr = np.array(pred_layout_diff_elem(predicted,num_qubits))\n",
    "    print(pred_or, pred_nr)\n",
    "    print(predicted, labels[0])    \n",
    "#     print(predicted==labels[0])"
   ]
  },
  {
   "cell_type": "code",
   "execution_count": null,
   "id": "12356080",
   "metadata": {},
   "outputs": [],
   "source": []
  },
  {
   "cell_type": "code",
   "execution_count": null,
   "id": "040e7712",
   "metadata": {},
   "outputs": [],
   "source": []
  },
  {
   "cell_type": "code",
   "execution_count": null,
   "id": "b66c7d1b",
   "metadata": {},
   "outputs": [],
   "source": []
  },
  {
   "cell_type": "code",
   "execution_count": null,
   "id": "21064bf3",
   "metadata": {},
   "outputs": [],
   "source": []
  },
  {
   "cell_type": "code",
   "execution_count": 399,
   "id": "55bd9fc5",
   "metadata": {},
   "outputs": [],
   "source": [
    "import tensorflow as tf\n",
    "from tensorflow import keras"
   ]
  },
  {
   "cell_type": "code",
   "execution_count": 400,
   "id": "6004a6bf",
   "metadata": {},
   "outputs": [],
   "source": [
    "from Dataset import *"
   ]
  },
  {
   "cell_type": "code",
   "execution_count": 435,
   "id": "47323f55",
   "metadata": {},
   "outputs": [],
   "source": [
    "loaded_model = tf.keras.models.load_model(\"models/mlp_edge_features.keras\")"
   ]
  },
  {
   "cell_type": "code",
   "execution_count": 436,
   "id": "8769fe6e",
   "metadata": {},
   "outputs": [
    {
     "name": "stdout",
     "output_type": "stream",
     "text": [
      "Model: \"model\"\n",
      "_________________________________________________________________\n",
      "Layer (type)                 Output Shape              Param #   \n",
      "=================================================================\n",
      "input (InputLayer)           [(None, 378)]             0         \n",
      "_________________________________________________________________\n",
      "dense (Dense)                (None, 189)               71631     \n",
      "_________________________________________________________________\n",
      "dense_1 (Dense)              (None, 94)                17860     \n",
      "_________________________________________________________________\n",
      "dense_2 (Dense)              (None, 49)                4655      \n",
      "=================================================================\n",
      "Total params: 94,146\n",
      "Trainable params: 94,146\n",
      "Non-trainable params: 0\n",
      "_________________________________________________________________\n"
     ]
    }
   ],
   "source": [
    "loaded_model.summary()"
   ]
  },
  {
   "cell_type": "code",
   "execution_count": null,
   "id": "59dbb66a",
   "metadata": {},
   "outputs": [],
   "source": []
  }
 ],
 "metadata": {
  "kernelspec": {
   "display_name": "Python [conda env:dnn_for_qubit_mapping]",
   "language": "python",
   "name": "conda-env-dnn_for_qubit_mapping-py"
  },
  "language_info": {
   "codemirror_mode": {
    "name": "ipython",
    "version": 3
   },
   "file_extension": ".py",
   "mimetype": "text/x-python",
   "name": "python",
   "nbconvert_exporter": "python",
   "pygments_lexer": "ipython3",
   "version": "3.8.18"
  }
 },
 "nbformat": 4,
 "nbformat_minor": 5
}
