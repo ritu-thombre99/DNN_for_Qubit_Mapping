{
 "cells": [
  {
   "cell_type": "code",
   "execution_count": 1,
   "id": "975d5b27",
   "metadata": {},
   "outputs": [],
   "source": [
    "# pip install qiskit==0.31.0"
   ]
  },
  {
   "cell_type": "code",
   "execution_count": 201,
   "id": "a2159363",
   "metadata": {},
   "outputs": [],
   "source": [
    "import qiskit\n",
    "from qiskit import QuantumCircuit, QuantumRegister, ClassicalRegister, execute, BasicAer\n",
    "import numpy as np\n",
    "from qiskit.visualization import plot_histogram\n",
    "from qiskit import BasicAer, execute\n",
    "from tqdm import tqdm\n",
    "import numpy as np\n",
    "backend = BasicAer.get_backend(\"qasm_simulator\")\n",
    "\n",
    "def qft(num_qubits,is_inverse):\n",
    "    qft_gate = QFT(num_qubits=num_qubits, do_swaps=False, inverse=is_inverse).to_gate()\n",
    "    return qft_gate\n",
    "def subroutine_add_const(num_qubits,const):\n",
    "    qc = QuantumCircuit(num_qubits)\n",
    "    for i in range(num_qubits):\n",
    "        angle = const*np.pi/(2**i)\n",
    "        qc.p(angle,i)\n",
    "    return qc.to_gate()"
   ]
  },
  {
   "cell_type": "code",
   "execution_count": 124,
   "id": "ba35afc9",
   "metadata": {},
   "outputs": [],
   "source": [
    "qft_circuits=[]\n",
    "for i in range(1,8):\n",
    "    qft_gate = qft(num_qubits=i,is_inverse=False)\n",
    "    for j in range(8-i):\n",
    "        qr = QuantumRegister(7)\n",
    "        cr = ClassicalRegister(7)\n",
    "        qc = QuantumCircuit(qr,cr)\n",
    "        qc.append(qft_gate, qr[j:j+i])\n",
    "        qc.measure(qr,cr)\n",
    "        qft_circuits.append(qc)\n",
    "# qft_circuits[0].draw(output='mpl')"
   ]
  },
  {
   "cell_type": "code",
   "execution_count": 125,
   "id": "72c4c455",
   "metadata": {
    "scrolled": false
   },
   "outputs": [
    {
     "name": "stderr",
     "output_type": "stream",
     "text": [
      "100%|████████████████████████████████████████████████████████████████████████████████████████████████████| 10795/10795 [00:54<00:00, 199.90it/s]\n"
     ]
    }
   ],
   "source": [
    "addition_circuits = []\n",
    "with tqdm(total=10795) as pbar:\n",
    "    for bits in range(1,8):\n",
    "        max_num = 2**bits\n",
    "        for i in range(max_num):\n",
    "            for j in range(1,max_num):\n",
    "                if i+j < max_num:\n",
    "                    qr = QuantumRegister(7)\n",
    "                    cr = ClassicalRegister(7)\n",
    "                    qc = QuantumCircuit(qr,cr)\n",
    "                    qft_gate = qft(num_qubits=bits,is_inverse=False)\n",
    "                    qc.append(qft_gate, qr[:bits])\n",
    "\n",
    "                    qc.append(subroutine_add_const(bits,i), qr[:bits])\n",
    "                    qc.append(subroutine_add_const(bits,j), qr[:bits])\n",
    "\n",
    "                    inverse_qft_gate = qft(num_qubits=bits,is_inverse=True)\n",
    "                    qc.append(inverse_qft_gate, qr[:bits])\n",
    "                    qc.measure(qr,cr)\n",
    "\n",
    "                    # counts = execute(qc,backend,shots=100).result().get_counts()\n",
    "                    # bin_val = int(list(counts.keys())[0],2)\n",
    "                    pbar.update(1)\n",
    "                    addition_circuits.append(qc)"
   ]
  },
  {
   "cell_type": "code",
   "execution_count": null,
   "id": "9e272abd",
   "metadata": {},
   "outputs": [],
   "source": []
  },
  {
   "cell_type": "code",
   "execution_count": 373,
   "id": "37c61fc8",
   "metadata": {},
   "outputs": [],
   "source": [
    "def ghz_recursive(qc, quantum_register, low, mid, high):\n",
    "    if low<mid and mid<high and low>=0 and mid>=0 and high>=0:\n",
    "        # print(low, (low+mid)//2, mid, (mid+high+1)//2) \n",
    "        if low< (low+mid)//2:\n",
    "            qc.cnot(quantum_register[low], quantum_register[(low+mid)//2])\n",
    "        if mid < (mid+high+1)//2:\n",
    "            qc.cnot(quantum_register[mid], quantum_register[(mid+high+1)//2])\n",
    "        ghz_recursive(qc, quantum_register, low, (low+mid)//2, mid-1)\n",
    "        ghz_recursive(qc, quantum_register, mid, (mid+high+1)//2, high)\n",
    "def generate_ghz_logn(n):\n",
    "    quantum_register = QuantumRegister(n)\n",
    "    qc = QuantumCircuit(quantum_register)\n",
    "\n",
    "    ####### your code goes here #######\n",
    "    qc.h(quantum_register[0])\n",
    "    qc.cnot(quantum_register[0], quantum_register[n//2])\n",
    "    ghz_recursive(qc, quantum_register, 0, n//2, n-1)\n",
    "\n",
    "    return qc.to_gate()\n",
    "\n",
    "\n",
    "ghz_rec_circuits=[]\n",
    "for i in range(2,8):\n",
    "    ghz_circuit = generate_ghz_logn(i)\n",
    "    for j in range(8-i):\n",
    "        qr = QuantumRegister(7)\n",
    "        cr = ClassicalRegister(7)\n",
    "        qc = QuantumCircuit(qr,cr)\n",
    "        qc.append(ghz_circuit, qr[j:j+i])\n",
    "        qc.measure(qr,cr)\n",
    "        ghz_rec_circuits.append(qc)\n",
    "# qft_circuits[0].draw(output='mpl')"
   ]
  },
  {
   "cell_type": "code",
   "execution_count": 374,
   "id": "bc8343a3",
   "metadata": {},
   "outputs": [],
   "source": [
    "def generate_ghz(n):\n",
    "    quantum_register = QuantumRegister(n)\n",
    "    qc = QuantumCircuit(quantum_register)\n",
    "\n",
    "    ####### your code goes here #######\n",
    "    qc.h(quantum_register[0])\n",
    "    for i in range(1,n):\n",
    "        qc.cnot(quantum_register[0], quantum_register[i])\n",
    "    return qc.to_gate()\n",
    "\n",
    "\n",
    "ghz_circuits=[]\n",
    "for i in range(2,8):\n",
    "    ghz_circuit = generate_ghz(i)\n",
    "    for j in range(8-i):\n",
    "        qr = QuantumRegister(7)\n",
    "        cr = ClassicalRegister(7)\n",
    "        qc = QuantumCircuit(qr,cr)\n",
    "        qc.append(ghz_circuit, qr[j:j+i])\n",
    "        qc.measure(qr,cr)\n",
    "        ghz_circuits.append(qc)"
   ]
  },
  {
   "cell_type": "code",
   "execution_count": null,
   "id": "a42519c5",
   "metadata": {},
   "outputs": [],
   "source": []
  },
  {
   "cell_type": "code",
   "execution_count": 375,
   "id": "4d42f6f4",
   "metadata": {},
   "outputs": [],
   "source": [
    "def oracle_func(qc,database,oracle,num_to_find):\n",
    "    bin_to_find = (bin(num_to_find)[2:]).rjust(len(database),'0')\n",
    "    \n",
    "    bin_to_find = bin_to_find[::-1]\n",
    "    for i in range(len(bin_to_find)):\n",
    "        if bin_to_find[i] == '0':\n",
    "            qc.x(database[i])\n",
    "    qc.mct(database[:], oracle[0]) \n",
    "    for i in range(len(bin_to_find)):\n",
    "        if bin_to_find[i] == '0':\n",
    "            qc.x(database[i])\n",
    "def grover_circuit(num_qubits, num_iteration, num_to_find):\n",
    "    database = QuantumRegister(num_qubits-1)\n",
    "    oracle = QuantumRegister(1)\n",
    "    qc = QuantumCircuit(database,oracle)\n",
    "    \n",
    "    # initialization\n",
    "    qc.h(database[:])\n",
    "    qc.x(oracle[0])\n",
    "    qc.h(oracle[0])\n",
    "    \n",
    "    # iters\n",
    "    for j in range(num_iteration):\n",
    "        # oracle\n",
    "        oracle_func(qc,database,oracle,num_to_find)\n",
    "\n",
    "        # diffusion\n",
    "        qc.h(database[:])\n",
    "        qc.x(database[:])\n",
    "        qc.h(database[-1])\n",
    "        qc.mct(database[0:-1], database[-1])\n",
    "        qc.h(database[-1])\n",
    "        qc.x(database[:])\n",
    "        qc.h(database[:])\n",
    "    qc.h(oracle[0])\n",
    "    qc.x(oracle[0])\n",
    "    return qc.to_gate()"
   ]
  },
  {
   "cell_type": "code",
   "execution_count": null,
   "id": "8063c610",
   "metadata": {},
   "outputs": [],
   "source": []
  },
  {
   "cell_type": "code",
   "execution_count": null,
   "id": "8d9b824f",
   "metadata": {},
   "outputs": [],
   "source": []
  },
  {
   "cell_type": "code",
   "execution_count": 376,
   "id": "e5bae67e",
   "metadata": {},
   "outputs": [
    {
     "name": "stderr",
     "output_type": "stream",
     "text": [
      "100%|█████████████████████████████████████████████████████████████████████████████████████████████████████████| 868/868 [00:12<00:00, 71.38it/s]\n"
     ]
    }
   ],
   "source": [
    "grover_circuits=[]\n",
    "with tqdm(total=868) as pbar:\n",
    "    for bits in range(3,8):\n",
    "        max_num = 2**(bits-1)\n",
    "        iterations = int(np.floor((np.pi/4)*np.sqrt(max_num)))\n",
    "        for itrs in range(1,iterations+1):\n",
    "            for num_to_find in range(max_num):\n",
    "                grover_gate = grover_circuit(num_qubits=bits, num_iteration=itrs, num_to_find=num_to_find)\n",
    "                for j in range(8-bits):\n",
    "                    qr = QuantumRegister(7)\n",
    "                    cr = ClassicalRegister(7)\n",
    "                    qc = QuantumCircuit(qr,cr)\n",
    "                    qc.append(grover_gate, qr[j:j+bits])\n",
    "                    qc.measure(qr,cr)\n",
    "                    grover_circuits.append(qc)\n",
    "                    pbar.update(1)"
   ]
  },
  {
   "cell_type": "code",
   "execution_count": 377,
   "id": "2910cab3",
   "metadata": {},
   "outputs": [
    {
     "data": {
      "text/plain": [
       "868"
      ]
     },
     "execution_count": 377,
     "metadata": {},
     "output_type": "execute_result"
    }
   ],
   "source": [
    "len(grover_circuits)"
   ]
  },
  {
   "cell_type": "code",
   "execution_count": 378,
   "id": "a2aa1578",
   "metadata": {},
   "outputs": [],
   "source": [
    "from qiskit.circuit.library import PhaseEstimation"
   ]
  },
  {
   "cell_type": "code",
   "execution_count": 380,
   "id": "3eff7e2c",
   "metadata": {},
   "outputs": [],
   "source": [
    "def get_unitary(bits_for_unitary,phase):\n",
    "    qc = QuantumCircuit(bits_for_unitary)\n",
    "    qc.p(phase,0)\n",
    "    return qc\n",
    "def get_qpe(num_qubits, phase, bits_for_unitary):\n",
    "    U = get_unitary(bits_for_unitary,phase)\n",
    "    iqft = QFT(num_qubits=num_qubits, do_swaps=False, inverse=True)\n",
    "    QPE = PhaseEstimation(num_evaluation_qubits=num_qubits, unitary=U, iqft=iqft)\n",
    "    return QPE"
   ]
  },
  {
   "cell_type": "code",
   "execution_count": 382,
   "id": "e1730cc7",
   "metadata": {},
   "outputs": [],
   "source": [
    "def get_qpe_circuits_for_phase(phase):\n",
    "    circ_list = []\n",
    "    for eval_bits in range(3,8):\n",
    "        for unitary_bits in range(1, 7-eval_bits+1):\n",
    "            circ_size = eval_bits+unitary_bits\n",
    "            qpe = get_qpe(eval_bits, phase, unitary_bits)\n",
    "            for j in range(circ_size,8):\n",
    "                qr = QuantumRegister(7)\n",
    "                cr = ClassicalRegister(eval_bits)\n",
    "                qc = QuantumCircuit(qr,cr)\n",
    "                for eig_bits in range(j-1,j-1-unitary_bits,-1):\n",
    "                    qc.x(qr[eig_bits])\n",
    "                qc.append(qpe, qr[j-circ_size:j])\n",
    "                qc.measure(qr[:eval_bits],cr)\n",
    "                circ_list.append(qc)\n",
    "    return circ_list\n",
    "phases = [(np.random.randint(1,64))/64 for _ in range(20)]\n",
    "qpe_circuits = []\n",
    "for p in phases:\n",
    "    qpe_circuits= qpe_circuits+get_qpe_circuits_for_phase(p)"
   ]
  },
  {
   "cell_type": "code",
   "execution_count": null,
   "id": "e2c2315b",
   "metadata": {},
   "outputs": [],
   "source": []
  },
  {
   "cell_type": "code",
   "execution_count": 383,
   "id": "0f8f0156",
   "metadata": {},
   "outputs": [],
   "source": [
    "test_dataset = qft_circuits + addition_circuits + ghz_rec_circuits + ghz_circuits + grover_circuits + qpe_circuits"
   ]
  },
  {
   "cell_type": "code",
   "execution_count": 392,
   "id": "54dd1e2d",
   "metadata": {},
   "outputs": [
    {
     "name": "stderr",
     "output_type": "stream",
     "text": [
      "100%|████████████████████████████████████████████████████████████████████████████████████████████████████| 12133/12133 [01:02<00:00, 195.32it/s]\n"
     ]
    }
   ],
   "source": [
    "depths = []\n",
    "for i in tqdm(range(len(test_dataset))):\n",
    "    tqc = test_dataset[i].decompose()\n",
    "    if tqc.depth() not in depths:\n",
    "        depths.append(tqc.depth())"
   ]
  },
  {
   "cell_type": "code",
   "execution_count": 393,
   "id": "8a49de93",
   "metadata": {},
   "outputs": [
    {
     "data": {
      "text/plain": [
       "[2, 5, 3, 4, 6, 7, 8, 12, 11, 22, 19, 32, 27, 42, 35, 52, 43, 62, 51]"
      ]
     },
     "execution_count": 393,
     "metadata": {},
     "output_type": "execute_result"
    }
   ],
   "source": [
    "depths"
   ]
  },
  {
   "cell_type": "code",
   "execution_count": 430,
   "id": "9cd7beb2",
   "metadata": {},
   "outputs": [],
   "source": [
    "from mlp_graph_feature import get_graph_features,clear_dataset"
   ]
  },
  {
   "cell_type": "code",
   "execution_count": 434,
   "id": "ee8dcb7a",
   "metadata": {},
   "outputs": [
    {
     "name": "stdout",
     "output_type": "stream",
     "text": [
      "2023-11-21 22:58:57.442995\n",
      "Backend topology: 2023-11-21 22:58:57.442995\n",
      "<qiskit.providers.models.backendproperties.BackendProperties object at 0x7f20f82c2e20>\n",
      "[[0, 1], [1, 0], [1, 2], [1, 3], [2, 1], [3, 1], [3, 5], [4, 5], [5, 3], [5, 4], [5, 6], [6, 5]]\n",
      "Depth: [6, 6, 6, 6, 6, 6]\n",
      "na\n",
      "{0: Qubit(QuantumRegister(7, 'q'), 0), 1: Qubit(QuantumRegister(7, 'q'), 1), 2: Qubit(QuantumRegister(7, 'q'), 2), 3: Qubit(QuantumRegister(7, 'q'), 3), 4: Qubit(QuantumRegister(7, 'q'), 4), 5: Qubit(QuantumRegister(7, 'q'), 5), 6: Qubit(QuantumRegister(7, 'q'), 6)}\n"
     ]
    },
    {
     "name": "stderr",
     "output_type": "stream",
     "text": [
      "ibmqfactory.load_account:WARNING:2023-11-26 22:58:59,643: Credentials are already in use. The existing account in the session will be replaced.\n"
     ]
    },
    {
     "name": "stdout",
     "output_type": "stream",
     "text": [
      "Connections: ['01', '10', '12', '13', '21', '31', '35', '45', '53', '54', '56', '65']\n"
     ]
    },
    {
     "name": "stderr",
     "output_type": "stream",
     "text": [
      "100%|████████████████████████████████████████████████████████████████████████████████████████████████████████████| 1/1 [00:00<00:00, 118.82it/s]"
     ]
    },
    {
     "name": "stdout",
     "output_type": "stream",
     "text": [
      "(1, 378)\n"
     ]
    },
    {
     "name": "stderr",
     "output_type": "stream",
     "text": [
      "\n"
     ]
    },
    {
     "data": {
      "text/html": [
       "<div>\n",
       "<style scoped>\n",
       "    .dataframe tbody tr th:only-of-type {\n",
       "        vertical-align: middle;\n",
       "    }\n",
       "\n",
       "    .dataframe tbody tr th {\n",
       "        vertical-align: top;\n",
       "    }\n",
       "\n",
       "    .dataframe thead th {\n",
       "        text-align: right;\n",
       "    }\n",
       "</style>\n",
       "<table border=\"1\" class=\"dataframe\">\n",
       "  <thead>\n",
       "    <tr style=\"text-align: right;\">\n",
       "      <th></th>\n",
       "      <th>last_update_date</th>\n",
       "      <th>backend_name</th>\n",
       "      <th>N_qubtis</th>\n",
       "      <th>N_cx</th>\n",
       "      <th>cx_01</th>\n",
       "      <th>cx_02</th>\n",
       "      <th>cx_03</th>\n",
       "      <th>cx_04</th>\n",
       "      <th>cx_05</th>\n",
       "      <th>cx_06</th>\n",
       "      <th>...</th>\n",
       "      <th>T1_6</th>\n",
       "      <th>T2_6</th>\n",
       "      <th>readout_error_6</th>\n",
       "      <th>0</th>\n",
       "      <th>1</th>\n",
       "      <th>2</th>\n",
       "      <th>3</th>\n",
       "      <th>4</th>\n",
       "      <th>5</th>\n",
       "      <th>6</th>\n",
       "    </tr>\n",
       "  </thead>\n",
       "  <tbody>\n",
       "    <tr>\n",
       "      <th>0</th>\n",
       "      <td>2023-11-21 22:32:45-08:00</td>\n",
       "      <td>ibm_perth</td>\n",
       "      <td>7</td>\n",
       "      <td>0</td>\n",
       "      <td>0</td>\n",
       "      <td>0</td>\n",
       "      <td>0</td>\n",
       "      <td>0</td>\n",
       "      <td>0</td>\n",
       "      <td>0</td>\n",
       "      <td>...</td>\n",
       "      <td>134.790035</td>\n",
       "      <td>162.022568</td>\n",
       "      <td>0.0135</td>\n",
       "      <td>0</td>\n",
       "      <td>1</td>\n",
       "      <td>2</td>\n",
       "      <td>3</td>\n",
       "      <td>4</td>\n",
       "      <td>5</td>\n",
       "      <td>6</td>\n",
       "    </tr>\n",
       "  </tbody>\n",
       "</table>\n",
       "<p>1 rows × 98 columns</p>\n",
       "</div>"
      ],
      "text/plain": [
       "           last_update_date backend_name  N_qubtis  N_cx  cx_01  cx_02  cx_03  \\\n",
       "0 2023-11-21 22:32:45-08:00    ibm_perth         7     0      0      0      0   \n",
       "\n",
       "   cx_04  cx_05  cx_06  ...        T1_6        T2_6  readout_error_6  0  1  2  \\\n",
       "0      0      0      0  ...  134.790035  162.022568           0.0135  0  1  2   \n",
       "\n",
       "   3  4  5  6  \n",
       "0  3  4  5  6  \n",
       "\n",
       "[1 rows x 98 columns]"
      ]
     },
     "metadata": {},
     "output_type": "display_data"
    },
    {
     "name": "stdout",
     "output_type": "stream",
     "text": [
      "WARNING:tensorflow:Model was constructed with shape (None, 89) for input Tensor(\"input:0\", shape=(None, 89), dtype=float32), but it was called on an input with incompatible shape (None, 378).\n"
     ]
    },
    {
     "ename": "ValueError",
     "evalue": "in user code:\n\n    /home/ritu/anaconda3/envs/dnn_for_qubit_mapping/lib/python3.8/site-packages/tensorflow/python/keras/engine/training.py:1147 predict_function  *\n        outputs = self.distribute_strategy.run(\n    /home/ritu/anaconda3/envs/dnn_for_qubit_mapping/lib/python3.8/site-packages/tensorflow/python/distribute/distribute_lib.py:951 run  **\n        return self._extended.call_for_each_replica(fn, args=args, kwargs=kwargs)\n    /home/ritu/anaconda3/envs/dnn_for_qubit_mapping/lib/python3.8/site-packages/tensorflow/python/distribute/distribute_lib.py:2290 call_for_each_replica\n        return self._call_for_each_replica(fn, args, kwargs)\n    /home/ritu/anaconda3/envs/dnn_for_qubit_mapping/lib/python3.8/site-packages/tensorflow/python/distribute/distribute_lib.py:2649 _call_for_each_replica\n        return fn(*args, **kwargs)\n    /home/ritu/anaconda3/envs/dnn_for_qubit_mapping/lib/python3.8/site-packages/tensorflow/python/keras/engine/training.py:1122 predict_step  **\n        return self(x, training=False)\n    /home/ritu/anaconda3/envs/dnn_for_qubit_mapping/lib/python3.8/site-packages/tensorflow/python/keras/engine/base_layer.py:927 __call__\n        outputs = call_fn(cast_inputs, *args, **kwargs)\n    /home/ritu/anaconda3/envs/dnn_for_qubit_mapping/lib/python3.8/site-packages/tensorflow/python/keras/engine/network.py:717 call\n        return self._run_internal_graph(\n    /home/ritu/anaconda3/envs/dnn_for_qubit_mapping/lib/python3.8/site-packages/tensorflow/python/keras/engine/network.py:888 _run_internal_graph\n        output_tensors = layer(computed_tensors, **kwargs)\n    /home/ritu/anaconda3/envs/dnn_for_qubit_mapping/lib/python3.8/site-packages/tensorflow/python/keras/engine/base_layer.py:885 __call__\n        input_spec.assert_input_compatibility(self.input_spec, inputs,\n    /home/ritu/anaconda3/envs/dnn_for_qubit_mapping/lib/python3.8/site-packages/tensorflow/python/keras/engine/input_spec.py:212 assert_input_compatibility\n        raise ValueError(\n\n    ValueError: Input 0 of layer dense is incompatible with the layer: expected axis -1 of input shape to have value 89 but received input with shape [None, 378]\n",
     "output_type": "error",
     "traceback": [
      "\u001b[0;31m---------------------------------------------------------------------------\u001b[0m",
      "\u001b[0;31mValueError\u001b[0m                                Traceback (most recent call last)",
      "Cell \u001b[0;32mIn[434], line 21\u001b[0m\n\u001b[1;32m     19\u001b[0m labels \u001b[38;5;241m=\u001b[39m df\u001b[38;5;241m.\u001b[39miloc[:, last_num_qubits:]\u001b[38;5;241m.\u001b[39mvalues\n\u001b[1;32m     20\u001b[0m display(df)\n\u001b[0;32m---> 21\u001b[0m \u001b[38;5;28mprint\u001b[39m(\u001b[43mloaded_model\u001b[49m\u001b[38;5;241;43m.\u001b[39;49m\u001b[43mpredict\u001b[49m\u001b[43m(\u001b[49m\u001b[43mx\u001b[49m\u001b[43m)\u001b[49m)\n\u001b[1;32m     22\u001b[0m \u001b[38;5;28mprint\u001b[39m(labels)\n",
      "File \u001b[0;32m~/anaconda3/envs/dnn_for_qubit_mapping/lib/python3.8/site-packages/tensorflow/python/keras/engine/training.py:88\u001b[0m, in \u001b[0;36mdisable_multi_worker.<locals>._method_wrapper\u001b[0;34m(self, *args, **kwargs)\u001b[0m\n\u001b[1;32m     85\u001b[0m \u001b[38;5;28;01mif\u001b[39;00m \u001b[38;5;28mself\u001b[39m\u001b[38;5;241m.\u001b[39m_in_multi_worker_mode():  \u001b[38;5;66;03m# pylint: disable=protected-access\u001b[39;00m\n\u001b[1;32m     86\u001b[0m   \u001b[38;5;28;01mraise\u001b[39;00m \u001b[38;5;167;01mValueError\u001b[39;00m(\u001b[38;5;124m'\u001b[39m\u001b[38;5;132;01m{}\u001b[39;00m\u001b[38;5;124m is not supported in multi-worker mode.\u001b[39m\u001b[38;5;124m'\u001b[39m\u001b[38;5;241m.\u001b[39mformat(\n\u001b[1;32m     87\u001b[0m       method\u001b[38;5;241m.\u001b[39m\u001b[38;5;18m__name__\u001b[39m))\n\u001b[0;32m---> 88\u001b[0m \u001b[38;5;28;01mreturn\u001b[39;00m \u001b[43mmethod\u001b[49m\u001b[43m(\u001b[49m\u001b[38;5;28;43mself\u001b[39;49m\u001b[43m,\u001b[49m\u001b[43m \u001b[49m\u001b[38;5;241;43m*\u001b[39;49m\u001b[43margs\u001b[49m\u001b[43m,\u001b[49m\u001b[43m \u001b[49m\u001b[38;5;241;43m*\u001b[39;49m\u001b[38;5;241;43m*\u001b[39;49m\u001b[43mkwargs\u001b[49m\u001b[43m)\u001b[49m\n",
      "File \u001b[0;32m~/anaconda3/envs/dnn_for_qubit_mapping/lib/python3.8/site-packages/tensorflow/python/keras/engine/training.py:1268\u001b[0m, in \u001b[0;36mModel.predict\u001b[0;34m(self, x, batch_size, verbose, steps, callbacks, max_queue_size, workers, use_multiprocessing)\u001b[0m\n\u001b[1;32m   1266\u001b[0m \u001b[38;5;28;01mfor\u001b[39;00m step \u001b[38;5;129;01min\u001b[39;00m data_handler\u001b[38;5;241m.\u001b[39msteps():\n\u001b[1;32m   1267\u001b[0m   callbacks\u001b[38;5;241m.\u001b[39mon_predict_batch_begin(step)\n\u001b[0;32m-> 1268\u001b[0m   tmp_batch_outputs \u001b[38;5;241m=\u001b[39m \u001b[43mpredict_function\u001b[49m\u001b[43m(\u001b[49m\u001b[43miterator\u001b[49m\u001b[43m)\u001b[49m\n\u001b[1;32m   1269\u001b[0m   \u001b[38;5;66;03m# Catch OutOfRangeError for Datasets of unknown size.\u001b[39;00m\n\u001b[1;32m   1270\u001b[0m   \u001b[38;5;66;03m# This blocks until the batch has finished executing.\u001b[39;00m\n\u001b[1;32m   1271\u001b[0m   \u001b[38;5;66;03m# TODO(b/150292341): Allow multiple async steps here.\u001b[39;00m\n\u001b[1;32m   1272\u001b[0m   \u001b[38;5;28;01mif\u001b[39;00m \u001b[38;5;129;01mnot\u001b[39;00m data_handler\u001b[38;5;241m.\u001b[39minferred_steps:\n",
      "File \u001b[0;32m~/anaconda3/envs/dnn_for_qubit_mapping/lib/python3.8/site-packages/tensorflow/python/eager/def_function.py:580\u001b[0m, in \u001b[0;36mFunction.__call__\u001b[0;34m(self, *args, **kwds)\u001b[0m\n\u001b[1;32m    578\u001b[0m     xla_context\u001b[38;5;241m.\u001b[39mExit()\n\u001b[1;32m    579\u001b[0m \u001b[38;5;28;01melse\u001b[39;00m:\n\u001b[0;32m--> 580\u001b[0m   result \u001b[38;5;241m=\u001b[39m \u001b[38;5;28;43mself\u001b[39;49m\u001b[38;5;241;43m.\u001b[39;49m\u001b[43m_call\u001b[49m\u001b[43m(\u001b[49m\u001b[38;5;241;43m*\u001b[39;49m\u001b[43margs\u001b[49m\u001b[43m,\u001b[49m\u001b[43m \u001b[49m\u001b[38;5;241;43m*\u001b[39;49m\u001b[38;5;241;43m*\u001b[39;49m\u001b[43mkwds\u001b[49m\u001b[43m)\u001b[49m\n\u001b[1;32m    582\u001b[0m \u001b[38;5;28;01mif\u001b[39;00m tracing_count \u001b[38;5;241m==\u001b[39m \u001b[38;5;28mself\u001b[39m\u001b[38;5;241m.\u001b[39m_get_tracing_count():\n\u001b[1;32m    583\u001b[0m   \u001b[38;5;28mself\u001b[39m\u001b[38;5;241m.\u001b[39m_call_counter\u001b[38;5;241m.\u001b[39mcalled_without_tracing()\n",
      "File \u001b[0;32m~/anaconda3/envs/dnn_for_qubit_mapping/lib/python3.8/site-packages/tensorflow/python/eager/def_function.py:618\u001b[0m, in \u001b[0;36mFunction._call\u001b[0;34m(self, *args, **kwds)\u001b[0m\n\u001b[1;32m    615\u001b[0m \u001b[38;5;28mself\u001b[39m\u001b[38;5;241m.\u001b[39m_lock\u001b[38;5;241m.\u001b[39mrelease()\n\u001b[1;32m    616\u001b[0m \u001b[38;5;66;03m# In this case we have not created variables on the first call. So we can\u001b[39;00m\n\u001b[1;32m    617\u001b[0m \u001b[38;5;66;03m# run the first trace but we should fail if variables are created.\u001b[39;00m\n\u001b[0;32m--> 618\u001b[0m results \u001b[38;5;241m=\u001b[39m \u001b[38;5;28;43mself\u001b[39;49m\u001b[38;5;241;43m.\u001b[39;49m\u001b[43m_stateful_fn\u001b[49m\u001b[43m(\u001b[49m\u001b[38;5;241;43m*\u001b[39;49m\u001b[43margs\u001b[49m\u001b[43m,\u001b[49m\u001b[43m \u001b[49m\u001b[38;5;241;43m*\u001b[39;49m\u001b[38;5;241;43m*\u001b[39;49m\u001b[43mkwds\u001b[49m\u001b[43m)\u001b[49m\n\u001b[1;32m    619\u001b[0m \u001b[38;5;28;01mif\u001b[39;00m \u001b[38;5;28mself\u001b[39m\u001b[38;5;241m.\u001b[39m_created_variables:\n\u001b[1;32m    620\u001b[0m   \u001b[38;5;28;01mraise\u001b[39;00m \u001b[38;5;167;01mValueError\u001b[39;00m(\u001b[38;5;124m\"\u001b[39m\u001b[38;5;124mCreating variables on a non-first call to a function\u001b[39m\u001b[38;5;124m\"\u001b[39m\n\u001b[1;32m    621\u001b[0m                    \u001b[38;5;124m\"\u001b[39m\u001b[38;5;124m decorated with tf.function.\u001b[39m\u001b[38;5;124m\"\u001b[39m)\n",
      "File \u001b[0;32m~/anaconda3/envs/dnn_for_qubit_mapping/lib/python3.8/site-packages/tensorflow/python/eager/function.py:2419\u001b[0m, in \u001b[0;36mFunction.__call__\u001b[0;34m(self, *args, **kwargs)\u001b[0m\n\u001b[1;32m   2417\u001b[0m \u001b[38;5;250m\u001b[39m\u001b[38;5;124;03m\"\"\"Calls a graph function specialized to the inputs.\"\"\"\u001b[39;00m\n\u001b[1;32m   2418\u001b[0m \u001b[38;5;28;01mwith\u001b[39;00m \u001b[38;5;28mself\u001b[39m\u001b[38;5;241m.\u001b[39m_lock:\n\u001b[0;32m-> 2419\u001b[0m   graph_function, args, kwargs \u001b[38;5;241m=\u001b[39m \u001b[38;5;28;43mself\u001b[39;49m\u001b[38;5;241;43m.\u001b[39;49m\u001b[43m_maybe_define_function\u001b[49m\u001b[43m(\u001b[49m\u001b[43margs\u001b[49m\u001b[43m,\u001b[49m\u001b[43m \u001b[49m\u001b[43mkwargs\u001b[49m\u001b[43m)\u001b[49m\n\u001b[1;32m   2420\u001b[0m \u001b[38;5;28;01mreturn\u001b[39;00m graph_function\u001b[38;5;241m.\u001b[39m_filtered_call(args, kwargs)\n",
      "File \u001b[0;32m~/anaconda3/envs/dnn_for_qubit_mapping/lib/python3.8/site-packages/tensorflow/python/eager/function.py:2774\u001b[0m, in \u001b[0;36mFunction._maybe_define_function\u001b[0;34m(self, args, kwargs)\u001b[0m\n\u001b[1;32m   2764\u001b[0m \u001b[38;5;28;01mwith\u001b[39;00m ag_ctx\u001b[38;5;241m.\u001b[39mControlStatusCtx(\n\u001b[1;32m   2765\u001b[0m     status\u001b[38;5;241m=\u001b[39mag_status, options\u001b[38;5;241m=\u001b[39m\u001b[38;5;28mself\u001b[39m\u001b[38;5;241m.\u001b[39m_autograph_options):\n\u001b[1;32m   2766\u001b[0m \n\u001b[0;32m   (...)\u001b[0m\n\u001b[1;32m   2769\u001b[0m   \u001b[38;5;66;03m# and 2. there's no provided input signature\u001b[39;00m\n\u001b[1;32m   2770\u001b[0m   \u001b[38;5;66;03m# and 3. there's been a cache miss for this calling context\u001b[39;00m\n\u001b[1;32m   2771\u001b[0m   \u001b[38;5;28;01mif\u001b[39;00m (\u001b[38;5;28mself\u001b[39m\u001b[38;5;241m.\u001b[39m_experimental_relax_shapes\n\u001b[1;32m   2772\u001b[0m       \u001b[38;5;129;01mand\u001b[39;00m \u001b[38;5;28mself\u001b[39m\u001b[38;5;241m.\u001b[39minput_signature \u001b[38;5;129;01mis\u001b[39;00m \u001b[38;5;28;01mNone\u001b[39;00m\n\u001b[1;32m   2773\u001b[0m       \u001b[38;5;129;01mand\u001b[39;00m call_context_key \u001b[38;5;129;01min\u001b[39;00m \u001b[38;5;28mself\u001b[39m\u001b[38;5;241m.\u001b[39m_function_cache\u001b[38;5;241m.\u001b[39mmissed):\n\u001b[0;32m-> 2774\u001b[0m     \u001b[38;5;28;01mreturn\u001b[39;00m \u001b[38;5;28;43mself\u001b[39;49m\u001b[38;5;241;43m.\u001b[39;49m\u001b[43m_define_function_with_shape_relaxation\u001b[49m\u001b[43m(\u001b[49m\u001b[43margs\u001b[49m\u001b[43m,\u001b[49m\u001b[43m \u001b[49m\u001b[43mkwargs\u001b[49m\u001b[43m)\u001b[49m\n\u001b[1;32m   2776\u001b[0m   \u001b[38;5;28mself\u001b[39m\u001b[38;5;241m.\u001b[39m_function_cache\u001b[38;5;241m.\u001b[39mmissed\u001b[38;5;241m.\u001b[39madd(call_context_key)\n\u001b[1;32m   2777\u001b[0m   graph_function \u001b[38;5;241m=\u001b[39m \u001b[38;5;28mself\u001b[39m\u001b[38;5;241m.\u001b[39m_create_graph_function(args, kwargs)\n",
      "File \u001b[0;32m~/anaconda3/envs/dnn_for_qubit_mapping/lib/python3.8/site-packages/tensorflow/python/eager/function.py:2705\u001b[0m, in \u001b[0;36mFunction._define_function_with_shape_relaxation\u001b[0;34m(self, args, kwargs)\u001b[0m\n\u001b[1;32m   2700\u001b[0m   relaxed_arg_shapes \u001b[38;5;241m=\u001b[39m [\n\u001b[1;32m   2701\u001b[0m       common_shape(x, y) \u001b[38;5;28;01mfor\u001b[39;00m (x, y) \u001b[38;5;129;01min\u001b[39;00m \u001b[38;5;28mzip\u001b[39m(\n\u001b[1;32m   2702\u001b[0m           arg_shapes, relaxed_arg_shapes)]\n\u001b[1;32m   2703\u001b[0m \u001b[38;5;28mself\u001b[39m\u001b[38;5;241m.\u001b[39m_function_cache\u001b[38;5;241m.\u001b[39marg_relaxed_shapes[rank_only_cache_key] \u001b[38;5;241m=\u001b[39m (\n\u001b[1;32m   2704\u001b[0m     relaxed_arg_shapes)\n\u001b[0;32m-> 2705\u001b[0m graph_function \u001b[38;5;241m=\u001b[39m \u001b[38;5;28;43mself\u001b[39;49m\u001b[38;5;241;43m.\u001b[39;49m\u001b[43m_create_graph_function\u001b[49m\u001b[43m(\u001b[49m\n\u001b[1;32m   2706\u001b[0m \u001b[43m    \u001b[49m\u001b[43margs\u001b[49m\u001b[43m,\u001b[49m\u001b[43m \u001b[49m\u001b[43mkwargs\u001b[49m\u001b[43m,\u001b[49m\u001b[43m \u001b[49m\u001b[43moverride_flat_arg_shapes\u001b[49m\u001b[38;5;241;43m=\u001b[39;49m\u001b[43mrelaxed_arg_shapes\u001b[49m\u001b[43m)\u001b[49m\n\u001b[1;32m   2707\u001b[0m \u001b[38;5;28mself\u001b[39m\u001b[38;5;241m.\u001b[39m_function_cache\u001b[38;5;241m.\u001b[39marg_relaxed[rank_only_cache_key] \u001b[38;5;241m=\u001b[39m graph_function\n\u001b[1;32m   2709\u001b[0m \u001b[38;5;28;01mreturn\u001b[39;00m graph_function, args, kwargs\n",
      "File \u001b[0;32m~/anaconda3/envs/dnn_for_qubit_mapping/lib/python3.8/site-packages/tensorflow/python/eager/function.py:2657\u001b[0m, in \u001b[0;36mFunction._create_graph_function\u001b[0;34m(self, args, kwargs, override_flat_arg_shapes)\u001b[0m\n\u001b[1;32m   2652\u001b[0m missing_arg_names \u001b[38;5;241m=\u001b[39m [\n\u001b[1;32m   2653\u001b[0m     \u001b[38;5;124m\"\u001b[39m\u001b[38;5;132;01m%s\u001b[39;00m\u001b[38;5;124m_\u001b[39m\u001b[38;5;132;01m%d\u001b[39;00m\u001b[38;5;124m\"\u001b[39m \u001b[38;5;241m%\u001b[39m (arg, i) \u001b[38;5;28;01mfor\u001b[39;00m i, arg \u001b[38;5;129;01min\u001b[39;00m \u001b[38;5;28menumerate\u001b[39m(missing_arg_names)\n\u001b[1;32m   2654\u001b[0m ]\n\u001b[1;32m   2655\u001b[0m arg_names \u001b[38;5;241m=\u001b[39m base_arg_names \u001b[38;5;241m+\u001b[39m missing_arg_names\n\u001b[1;32m   2656\u001b[0m graph_function \u001b[38;5;241m=\u001b[39m ConcreteFunction(\n\u001b[0;32m-> 2657\u001b[0m     \u001b[43mfunc_graph_module\u001b[49m\u001b[38;5;241;43m.\u001b[39;49m\u001b[43mfunc_graph_from_py_func\u001b[49m\u001b[43m(\u001b[49m\n\u001b[1;32m   2658\u001b[0m \u001b[43m        \u001b[49m\u001b[38;5;28;43mself\u001b[39;49m\u001b[38;5;241;43m.\u001b[39;49m\u001b[43m_name\u001b[49m\u001b[43m,\u001b[49m\n\u001b[1;32m   2659\u001b[0m \u001b[43m        \u001b[49m\u001b[38;5;28;43mself\u001b[39;49m\u001b[38;5;241;43m.\u001b[39;49m\u001b[43m_python_function\u001b[49m\u001b[43m,\u001b[49m\n\u001b[1;32m   2660\u001b[0m \u001b[43m        \u001b[49m\u001b[43margs\u001b[49m\u001b[43m,\u001b[49m\n\u001b[1;32m   2661\u001b[0m \u001b[43m        \u001b[49m\u001b[43mkwargs\u001b[49m\u001b[43m,\u001b[49m\n\u001b[1;32m   2662\u001b[0m \u001b[43m        \u001b[49m\u001b[38;5;28;43mself\u001b[39;49m\u001b[38;5;241;43m.\u001b[39;49m\u001b[43minput_signature\u001b[49m\u001b[43m,\u001b[49m\n\u001b[1;32m   2663\u001b[0m \u001b[43m        \u001b[49m\u001b[43mautograph\u001b[49m\u001b[38;5;241;43m=\u001b[39;49m\u001b[38;5;28;43mself\u001b[39;49m\u001b[38;5;241;43m.\u001b[39;49m\u001b[43m_autograph\u001b[49m\u001b[43m,\u001b[49m\n\u001b[1;32m   2664\u001b[0m \u001b[43m        \u001b[49m\u001b[43mautograph_options\u001b[49m\u001b[38;5;241;43m=\u001b[39;49m\u001b[38;5;28;43mself\u001b[39;49m\u001b[38;5;241;43m.\u001b[39;49m\u001b[43m_autograph_options\u001b[49m\u001b[43m,\u001b[49m\n\u001b[1;32m   2665\u001b[0m \u001b[43m        \u001b[49m\u001b[43marg_names\u001b[49m\u001b[38;5;241;43m=\u001b[39;49m\u001b[43marg_names\u001b[49m\u001b[43m,\u001b[49m\n\u001b[1;32m   2666\u001b[0m \u001b[43m        \u001b[49m\u001b[43moverride_flat_arg_shapes\u001b[49m\u001b[38;5;241;43m=\u001b[39;49m\u001b[43moverride_flat_arg_shapes\u001b[49m\u001b[43m,\u001b[49m\n\u001b[1;32m   2667\u001b[0m \u001b[43m        \u001b[49m\u001b[43mcapture_by_value\u001b[49m\u001b[38;5;241;43m=\u001b[39;49m\u001b[38;5;28;43mself\u001b[39;49m\u001b[38;5;241;43m.\u001b[39;49m\u001b[43m_capture_by_value\u001b[49m\u001b[43m)\u001b[49m,\n\u001b[1;32m   2668\u001b[0m     \u001b[38;5;28mself\u001b[39m\u001b[38;5;241m.\u001b[39m_function_attributes,\n\u001b[1;32m   2669\u001b[0m     \u001b[38;5;66;03m# Tell the ConcreteFunction to clean up its graph once it goes out of\u001b[39;00m\n\u001b[1;32m   2670\u001b[0m     \u001b[38;5;66;03m# scope. This is not the default behavior since it gets used in some\u001b[39;00m\n\u001b[1;32m   2671\u001b[0m     \u001b[38;5;66;03m# places (like Keras) where the FuncGraph lives longer than the\u001b[39;00m\n\u001b[1;32m   2672\u001b[0m     \u001b[38;5;66;03m# ConcreteFunction.\u001b[39;00m\n\u001b[1;32m   2673\u001b[0m     shared_func_graph\u001b[38;5;241m=\u001b[39m\u001b[38;5;28;01mFalse\u001b[39;00m)\n\u001b[1;32m   2674\u001b[0m \u001b[38;5;28;01mreturn\u001b[39;00m graph_function\n",
      "File \u001b[0;32m~/anaconda3/envs/dnn_for_qubit_mapping/lib/python3.8/site-packages/tensorflow/python/framework/func_graph.py:981\u001b[0m, in \u001b[0;36mfunc_graph_from_py_func\u001b[0;34m(name, python_func, args, kwargs, signature, func_graph, autograph, autograph_options, add_control_dependencies, arg_names, op_return_value, collections, capture_by_value, override_flat_arg_shapes)\u001b[0m\n\u001b[1;32m    978\u001b[0m \u001b[38;5;28;01melse\u001b[39;00m:\n\u001b[1;32m    979\u001b[0m   _, original_func \u001b[38;5;241m=\u001b[39m tf_decorator\u001b[38;5;241m.\u001b[39munwrap(python_func)\n\u001b[0;32m--> 981\u001b[0m func_outputs \u001b[38;5;241m=\u001b[39m \u001b[43mpython_func\u001b[49m\u001b[43m(\u001b[49m\u001b[38;5;241;43m*\u001b[39;49m\u001b[43mfunc_args\u001b[49m\u001b[43m,\u001b[49m\u001b[43m \u001b[49m\u001b[38;5;241;43m*\u001b[39;49m\u001b[38;5;241;43m*\u001b[39;49m\u001b[43mfunc_kwargs\u001b[49m\u001b[43m)\u001b[49m\n\u001b[1;32m    983\u001b[0m \u001b[38;5;66;03m# invariant: `func_outputs` contains only Tensors, CompositeTensors,\u001b[39;00m\n\u001b[1;32m    984\u001b[0m \u001b[38;5;66;03m# TensorArrays and `None`s.\u001b[39;00m\n\u001b[1;32m    985\u001b[0m func_outputs \u001b[38;5;241m=\u001b[39m nest\u001b[38;5;241m.\u001b[39mmap_structure(convert, func_outputs,\n\u001b[1;32m    986\u001b[0m                                   expand_composites\u001b[38;5;241m=\u001b[39m\u001b[38;5;28;01mTrue\u001b[39;00m)\n",
      "File \u001b[0;32m~/anaconda3/envs/dnn_for_qubit_mapping/lib/python3.8/site-packages/tensorflow/python/eager/def_function.py:441\u001b[0m, in \u001b[0;36mFunction._defun_with_scope.<locals>.wrapped_fn\u001b[0;34m(*args, **kwds)\u001b[0m\n\u001b[1;32m    426\u001b[0m \u001b[38;5;66;03m# We register a variable creator with reduced priority. If an outer\u001b[39;00m\n\u001b[1;32m    427\u001b[0m \u001b[38;5;66;03m# variable creator is just modifying keyword arguments to the variable\u001b[39;00m\n\u001b[1;32m    428\u001b[0m \u001b[38;5;66;03m# constructor, this will work harmoniously. Since the `scope` registered\u001b[39;00m\n\u001b[0;32m   (...)\u001b[0m\n\u001b[1;32m    436\u001b[0m \u001b[38;5;66;03m# better than the alternative, tracing the initialization graph but giving\u001b[39;00m\n\u001b[1;32m    437\u001b[0m \u001b[38;5;66;03m# the user a variable type they didn't want.\u001b[39;00m\n\u001b[1;32m    438\u001b[0m \u001b[38;5;28;01mwith\u001b[39;00m ops\u001b[38;5;241m.\u001b[39mget_default_graph()\u001b[38;5;241m.\u001b[39m_variable_creator_scope(scope, priority\u001b[38;5;241m=\u001b[39m\u001b[38;5;241m50\u001b[39m):  \u001b[38;5;66;03m# pylint: disable=protected-access\u001b[39;00m\n\u001b[1;32m    439\u001b[0m   \u001b[38;5;66;03m# __wrapped__ allows AutoGraph to swap in a converted function. We give\u001b[39;00m\n\u001b[1;32m    440\u001b[0m   \u001b[38;5;66;03m# the function a weak reference to itself to avoid a reference cycle.\u001b[39;00m\n\u001b[0;32m--> 441\u001b[0m   \u001b[38;5;28;01mreturn\u001b[39;00m \u001b[43mweak_wrapped_fn\u001b[49m\u001b[43m(\u001b[49m\u001b[43m)\u001b[49m\u001b[38;5;241;43m.\u001b[39;49m\u001b[43m__wrapped__\u001b[49m\u001b[43m(\u001b[49m\u001b[38;5;241;43m*\u001b[39;49m\u001b[43margs\u001b[49m\u001b[43m,\u001b[49m\u001b[43m \u001b[49m\u001b[38;5;241;43m*\u001b[39;49m\u001b[38;5;241;43m*\u001b[39;49m\u001b[43mkwds\u001b[49m\u001b[43m)\u001b[49m\n",
      "File \u001b[0;32m~/anaconda3/envs/dnn_for_qubit_mapping/lib/python3.8/site-packages/tensorflow/python/framework/func_graph.py:968\u001b[0m, in \u001b[0;36mfunc_graph_from_py_func.<locals>.wrapper\u001b[0;34m(*args, **kwargs)\u001b[0m\n\u001b[1;32m    966\u001b[0m \u001b[38;5;28;01mexcept\u001b[39;00m \u001b[38;5;167;01mException\u001b[39;00m \u001b[38;5;28;01mas\u001b[39;00m e:  \u001b[38;5;66;03m# pylint:disable=broad-except\u001b[39;00m\n\u001b[1;32m    967\u001b[0m   \u001b[38;5;28;01mif\u001b[39;00m \u001b[38;5;28mhasattr\u001b[39m(e, \u001b[38;5;124m\"\u001b[39m\u001b[38;5;124mag_error_metadata\u001b[39m\u001b[38;5;124m\"\u001b[39m):\n\u001b[0;32m--> 968\u001b[0m     \u001b[38;5;28;01mraise\u001b[39;00m e\u001b[38;5;241m.\u001b[39mag_error_metadata\u001b[38;5;241m.\u001b[39mto_exception(e)\n\u001b[1;32m    969\u001b[0m   \u001b[38;5;28;01melse\u001b[39;00m:\n\u001b[1;32m    970\u001b[0m     \u001b[38;5;28;01mraise\u001b[39;00m\n",
      "\u001b[0;31mValueError\u001b[0m: in user code:\n\n    /home/ritu/anaconda3/envs/dnn_for_qubit_mapping/lib/python3.8/site-packages/tensorflow/python/keras/engine/training.py:1147 predict_function  *\n        outputs = self.distribute_strategy.run(\n    /home/ritu/anaconda3/envs/dnn_for_qubit_mapping/lib/python3.8/site-packages/tensorflow/python/distribute/distribute_lib.py:951 run  **\n        return self._extended.call_for_each_replica(fn, args=args, kwargs=kwargs)\n    /home/ritu/anaconda3/envs/dnn_for_qubit_mapping/lib/python3.8/site-packages/tensorflow/python/distribute/distribute_lib.py:2290 call_for_each_replica\n        return self._call_for_each_replica(fn, args, kwargs)\n    /home/ritu/anaconda3/envs/dnn_for_qubit_mapping/lib/python3.8/site-packages/tensorflow/python/distribute/distribute_lib.py:2649 _call_for_each_replica\n        return fn(*args, **kwargs)\n    /home/ritu/anaconda3/envs/dnn_for_qubit_mapping/lib/python3.8/site-packages/tensorflow/python/keras/engine/training.py:1122 predict_step  **\n        return self(x, training=False)\n    /home/ritu/anaconda3/envs/dnn_for_qubit_mapping/lib/python3.8/site-packages/tensorflow/python/keras/engine/base_layer.py:927 __call__\n        outputs = call_fn(cast_inputs, *args, **kwargs)\n    /home/ritu/anaconda3/envs/dnn_for_qubit_mapping/lib/python3.8/site-packages/tensorflow/python/keras/engine/network.py:717 call\n        return self._run_internal_graph(\n    /home/ritu/anaconda3/envs/dnn_for_qubit_mapping/lib/python3.8/site-packages/tensorflow/python/keras/engine/network.py:888 _run_internal_graph\n        output_tensors = layer(computed_tensors, **kwargs)\n    /home/ritu/anaconda3/envs/dnn_for_qubit_mapping/lib/python3.8/site-packages/tensorflow/python/keras/engine/base_layer.py:885 __call__\n        input_spec.assert_input_compatibility(self.input_spec, inputs,\n    /home/ritu/anaconda3/envs/dnn_for_qubit_mapping/lib/python3.8/site-packages/tensorflow/python/keras/engine/input_spec.py:212 assert_input_compatibility\n        raise ValueError(\n\n    ValueError: Input 0 of layer dense is incompatible with the layer: expected axis -1 of input shape to have value 89 but received input with shape [None, 378]\n"
     ]
    }
   ],
   "source": [
    "num_qubits = 7\n",
    "last_num_qubits = len(df.columns)-num_qubits\n",
    "\n",
    "\n",
    "iteration = [1]\n",
    "for qc in test_dataset[:1]:\n",
    "    data = datetime.datetime.today() - datetime.timedelta(days=random.randint(1,150))\n",
    "    backends = ['ibm_lagos','ibm_perth','ibm_nairobi']\n",
    "    backend = backends[np.random.randint(0,3)]\n",
    "    l = add_line(qc,backend, optimization_level=3, refresh=True, show= False, datatime=data)\n",
    "    \n",
    "    d={}\n",
    "    for i in range(len(l[0])):\n",
    "        d[str(l[0][i])] = l[1][i]\n",
    "    df = pd.DataFrame(d, index=[0])\n",
    "    df = clear_dataset(df, 7)\n",
    "    x = get_graph_features(df)\n",
    "    print(x.shape)\n",
    "    labels = df.iloc[:, last_num_qubits:].values\n",
    "    display(df)\n",
    "    print(loaded_model.predict(x))\n",
    "    print(labels)"
   ]
  },
  {
   "cell_type": "code",
   "execution_count": null,
   "id": "12356080",
   "metadata": {},
   "outputs": [],
   "source": []
  },
  {
   "cell_type": "code",
   "execution_count": null,
   "id": "040e7712",
   "metadata": {},
   "outputs": [],
   "source": []
  },
  {
   "cell_type": "code",
   "execution_count": null,
   "id": "b66c7d1b",
   "metadata": {},
   "outputs": [],
   "source": []
  },
  {
   "cell_type": "code",
   "execution_count": null,
   "id": "21064bf3",
   "metadata": {},
   "outputs": [],
   "source": []
  },
  {
   "cell_type": "code",
   "execution_count": 399,
   "id": "55bd9fc5",
   "metadata": {},
   "outputs": [],
   "source": [
    "import tensorflow as tf\n",
    "from tensorflow import keras"
   ]
  },
  {
   "cell_type": "code",
   "execution_count": 400,
   "id": "6004a6bf",
   "metadata": {},
   "outputs": [],
   "source": [
    "from Dataset import *"
   ]
  },
  {
   "cell_type": "code",
   "execution_count": 405,
   "id": "47323f55",
   "metadata": {},
   "outputs": [
    {
     "name": "stderr",
     "output_type": "stream",
     "text": [
      "2023-11-26 21:47:29.620831: I tensorflow/stream_executor/platform/default/dso_loader.cc:44] Successfully opened dynamic library libcuda.so.1\n",
      "2023-11-26 21:47:30.837094: E tensorflow/stream_executor/cuda/cuda_gpu_executor.cc:967] could not open file to read NUMA node: /sys/bus/pci/devices/0000:01:00.0/numa_node\n",
      "Your kernel may have been built without NUMA support.\n",
      "2023-11-26 21:47:30.839927: I tensorflow/core/common_runtime/gpu/gpu_device.cc:1561] Found device 0 with properties: \n",
      "pciBusID: 0000:01:00.0 name: NVIDIA GeForce GTX 1650 Ti computeCapability: 7.5\n",
      "coreClock: 1.485GHz coreCount: 16 deviceMemorySize: 4.00GiB deviceMemoryBandwidth: 178.84GiB/s\n",
      "2023-11-26 21:47:30.840144: W tensorflow/stream_executor/platform/default/dso_loader.cc:55] Could not load dynamic library 'libcudart.so.10.1'; dlerror: libcudart.so.10.1: cannot open shared object file: No such file or directory\n",
      "2023-11-26 21:47:30.840278: W tensorflow/stream_executor/platform/default/dso_loader.cc:55] Could not load dynamic library 'libcublas.so.10'; dlerror: libcublas.so.10: cannot open shared object file: No such file or directory\n",
      "2023-11-26 21:47:30.840327: W tensorflow/stream_executor/platform/default/dso_loader.cc:55] Could not load dynamic library 'libcufft.so.10'; dlerror: libcufft.so.10: cannot open shared object file: No such file or directory\n",
      "2023-11-26 21:47:30.840373: W tensorflow/stream_executor/platform/default/dso_loader.cc:55] Could not load dynamic library 'libcurand.so.10'; dlerror: libcurand.so.10: cannot open shared object file: No such file or directory\n",
      "2023-11-26 21:47:30.840417: W tensorflow/stream_executor/platform/default/dso_loader.cc:55] Could not load dynamic library 'libcusolver.so.10'; dlerror: libcusolver.so.10: cannot open shared object file: No such file or directory\n",
      "2023-11-26 21:47:30.840462: W tensorflow/stream_executor/platform/default/dso_loader.cc:55] Could not load dynamic library 'libcusparse.so.10'; dlerror: libcusparse.so.10: cannot open shared object file: No such file or directory\n",
      "2023-11-26 21:47:30.840517: W tensorflow/stream_executor/platform/default/dso_loader.cc:55] Could not load dynamic library 'libcudnn.so.7'; dlerror: libcudnn.so.7: cannot open shared object file: No such file or directory\n",
      "2023-11-26 21:47:30.840526: W tensorflow/core/common_runtime/gpu/gpu_device.cc:1598] Cannot dlopen some GPU libraries. Please make sure the missing libraries mentioned above are installed properly if you would like to use GPU. Follow the guide at https://www.tensorflow.org/install/gpu for how to download and setup the required libraries for your platform.\n",
      "Skipping registering GPU devices...\n",
      "2023-11-26 21:47:30.842011: I tensorflow/core/platform/cpu_feature_guard.cc:143] Your CPU supports instructions that this TensorFlow binary was not compiled to use: AVX2 FMA\n",
      "2023-11-26 21:47:30.854797: I tensorflow/core/platform/profile_utils/cpu_utils.cc:102] CPU Frequency: 2495725000 Hz\n",
      "2023-11-26 21:47:30.855591: I tensorflow/compiler/xla/service/service.cc:168] XLA service 0x7f2124000b70 initialized for platform Host (this does not guarantee that XLA will be used). Devices:\n",
      "2023-11-26 21:47:30.855612: I tensorflow/compiler/xla/service/service.cc:176]   StreamExecutor device (0): Host, Default Version\n",
      "2023-11-26 21:47:30.857677: I tensorflow/core/common_runtime/gpu/gpu_device.cc:1102] Device interconnect StreamExecutor with strength 1 edge matrix:\n",
      "2023-11-26 21:47:30.857702: I tensorflow/core/common_runtime/gpu/gpu_device.cc:1108]      \n"
     ]
    }
   ],
   "source": [
    "loaded_model = tf.keras.models.load_model(\"models/mlp.keras\")"
   ]
  },
  {
   "cell_type": "code",
   "execution_count": 406,
   "id": "8769fe6e",
   "metadata": {},
   "outputs": [
    {
     "name": "stdout",
     "output_type": "stream",
     "text": [
      "Model: \"model\"\n",
      "_________________________________________________________________\n",
      "Layer (type)                 Output Shape              Param #   \n",
      "=================================================================\n",
      "input (InputLayer)           [(None, 89)]              0         \n",
      "_________________________________________________________________\n",
      "dense (Dense)                (None, 70)                6300      \n",
      "_________________________________________________________________\n",
      "dense_1 (Dense)              (None, 49)                3479      \n",
      "=================================================================\n",
      "Total params: 9,779\n",
      "Trainable params: 9,779\n",
      "Non-trainable params: 0\n",
      "_________________________________________________________________\n"
     ]
    }
   ],
   "source": [
    "loaded_model.summary()"
   ]
  },
  {
   "cell_type": "code",
   "execution_count": null,
   "id": "59dbb66a",
   "metadata": {},
   "outputs": [],
   "source": []
  }
 ],
 "metadata": {
  "kernelspec": {
   "display_name": "Python [conda env:dnn_for_qubit_mapping]",
   "language": "python",
   "name": "conda-env-dnn_for_qubit_mapping-py"
  },
  "language_info": {
   "codemirror_mode": {
    "name": "ipython",
    "version": 3
   },
   "file_extension": ".py",
   "mimetype": "text/x-python",
   "name": "python",
   "nbconvert_exporter": "python",
   "pygments_lexer": "ipython3",
   "version": "3.8.18"
  }
 },
 "nbformat": 4,
 "nbformat_minor": 5
}
