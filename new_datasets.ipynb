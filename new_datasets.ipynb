{
 "cells": [
  {
   "cell_type": "code",
   "execution_count": 1,
   "id": "975d5b27",
   "metadata": {},
   "outputs": [],
   "source": [
    "# pip install qiskit==0.31.0"
   ]
  },
  {
   "cell_type": "code",
   "execution_count": 201,
   "id": "a2159363",
   "metadata": {},
   "outputs": [],
   "source": [
    "import qiskit\n",
    "from qiskit import QuantumCircuit, QuantumRegister, ClassicalRegister, execute, BasicAer\n",
    "import numpy as np\n",
    "from qiskit.visualization import plot_histogram\n",
    "from qiskit import BasicAer, execute\n",
    "from tqdm import tqdm\n",
    "import numpy as np\n",
    "backend = BasicAer.get_backend(\"qasm_simulator\")\n",
    "\n",
    "def qft(num_qubits,is_inverse):\n",
    "    qft_gate = QFT(num_qubits=num_qubits, do_swaps=False, inverse=is_inverse).to_gate()\n",
    "    return qft_gate\n",
    "def subroutine_add_const(num_qubits,const):\n",
    "    qc = QuantumCircuit(num_qubits)\n",
    "    for i in range(num_qubits):\n",
    "        angle = const*np.pi/(2**i)\n",
    "        qc.p(angle,i)\n",
    "    return qc.to_gate()"
   ]
  },
  {
   "cell_type": "code",
   "execution_count": 124,
   "id": "769a0d40",
   "metadata": {},
   "outputs": [],
   "source": [
    "qft_circuits=[]\n",
    "for i in range(1,8):\n",
    "    qft_gate = qft(num_qubits=i,is_inverse=False)\n",
    "    for j in range(8-i):\n",
    "        qr = QuantumRegister(7)\n",
    "        cr = ClassicalRegister(7)\n",
    "        qc = QuantumCircuit(qr,cr)\n",
    "        qc.append(qft_gate, qr[j:j+i])\n",
    "        qc.measure(qr,cr)\n",
    "        qft_circuits.append(qc)\n",
    "# qft_circuits[0].draw(output='mpl')"
   ]
  },
  {
   "cell_type": "code",
   "execution_count": 125,
   "id": "3c96c81a",
   "metadata": {
    "scrolled": false
   },
   "outputs": [
    {
     "name": "stderr",
     "output_type": "stream",
     "text": [
      "100%|████████████████████████████████████████████████████████████████████████████████████████████████████| 10795/10795 [00:54<00:00, 199.90it/s]\n"
     ]
    }
   ],
   "source": [
    "addition_circuits = []\n",
    "with tqdm(total=10795) as pbar:\n",
    "    for bits in range(1,8):\n",
    "        max_num = 2**bits\n",
    "        for i in range(max_num):\n",
    "            for j in range(1,max_num):\n",
    "                if i+j < max_num:\n",
    "                    qr = QuantumRegister(7)\n",
    "                    cr = ClassicalRegister(7)\n",
    "                    qc = QuantumCircuit(qr,cr)\n",
    "                    qft_gate = qft(num_qubits=bits,is_inverse=False)\n",
    "                    qc.append(qft_gate, qr[:bits])\n",
    "\n",
    "                    qc.append(subroutine_add_const(bits,i), qr[:bits])\n",
    "                    qc.append(subroutine_add_const(bits,j), qr[:bits])\n",
    "\n",
    "                    inverse_qft_gate = qft(num_qubits=bits,is_inverse=True)\n",
    "                    qc.append(inverse_qft_gate, qr[:bits])\n",
    "                    qc.measure(qr,cr)\n",
    "\n",
    "                    # counts = execute(qc,backend,shots=100).result().get_counts()\n",
    "                    # bin_val = int(list(counts.keys())[0],2)\n",
    "                    pbar.update(1)\n",
    "                    addition_circuits.append(qc)"
   ]
  },
  {
   "cell_type": "code",
   "execution_count": null,
   "id": "12aa4f78",
   "metadata": {},
   "outputs": [],
   "source": []
  },
  {
   "cell_type": "code",
   "execution_count": 126,
   "id": "55d8058f",
   "metadata": {},
   "outputs": [],
   "source": [
    "def ghz_recursive(qc, quantum_register, low, mid, high):\n",
    "    if low<mid and mid<high and low>=0 and mid>=0 and high>=0:\n",
    "        # print(low, (low+mid)//2, mid, (mid+high+1)//2) \n",
    "        if low< (low+mid)//2:\n",
    "            qc.cnot(quantum_register[low], quantum_register[(low+mid)//2])\n",
    "        if mid < (mid+high+1)//2:\n",
    "            qc.cnot(quantum_register[mid], quantum_register[(mid+high+1)//2])\n",
    "        ghz_recursive(qc, quantum_register, low, (low+mid)//2, mid-1)\n",
    "        ghz_recursive(qc, quantum_register, mid, (mid+high+1)//2, high)\n",
    "def generate_ghz_logn(n):\n",
    "    quantum_register = QuantumRegister(n)\n",
    "    qc = QuantumCircuit(quantum_register)\n",
    "\n",
    "    ####### your code goes here #######\n",
    "    qc.h(quantum_register[0])\n",
    "    qc.cnot(quantum_register[0], quantum_register[n//2])\n",
    "    ghz_recursive(qc, quantum_register, 0, n//2, n-1)\n",
    "\n",
    "    return qc.to_gate()\n",
    "\n",
    "\n",
    "ghz_rec_circuits=[]\n",
    "for i in range(2,8):\n",
    "    ghz_circuit = generate_ghz_logn(i)\n",
    "    for j in range(8-i):\n",
    "        qr = QuantumRegister(7)\n",
    "        cr = ClassicalRegister(7)\n",
    "        qc = QuantumCircuit(qr,cr)\n",
    "        qc.append(ghz_circuit, qr[j:j+i])\n",
    "        qc.measure(qr,cr)\n",
    "        ghz_rec_circuits.append(qc)\n",
    "# qft_circuits[0].draw(output='mpl')"
   ]
  },
  {
   "cell_type": "code",
   "execution_count": 127,
   "id": "74a1b4a8",
   "metadata": {},
   "outputs": [],
   "source": [
    "def generate_ghz(n):\n",
    "    quantum_register = QuantumRegister(n)\n",
    "    qc = QuantumCircuit(quantum_register)\n",
    "\n",
    "    ####### your code goes here #######\n",
    "    qc.h(quantum_register[0])\n",
    "    for i in range(1,n):\n",
    "        qc.cnot(quantum_register[0], quantum_register[i])\n",
    "    return qc.to_gate()\n",
    "\n",
    "\n",
    "ghz_circuits=[]\n",
    "for i in range(2,8):\n",
    "    ghz_circuit = generate_ghz(i)\n",
    "    for j in range(8-i):\n",
    "        qr = QuantumRegister(7)\n",
    "        cr = ClassicalRegister(7)\n",
    "        qc = QuantumCircuit(qr,cr)\n",
    "        qc.append(ghz_circuit, qr[j:j+i])\n",
    "        qc.measure(qr,cr)\n",
    "        ghz_circuits.append(qc)"
   ]
  },
  {
   "cell_type": "code",
   "execution_count": null,
   "id": "3e069ff6",
   "metadata": {},
   "outputs": [],
   "source": []
  },
  {
   "cell_type": "code",
   "execution_count": 187,
   "id": "ceeabdf5",
   "metadata": {},
   "outputs": [],
   "source": [
    "def oracle_func(qc,database,oracle,num_to_find):\n",
    "    bin_to_find = (bin(num_to_find)[2:]).rjust(len(database),'0')\n",
    "    \n",
    "    bin_to_find = bin_to_find[::-1]\n",
    "    for i in range(len(bin_to_find)):\n",
    "        if bin_to_find[i] == '0':\n",
    "            qc.x(database[i])\n",
    "    qc.mct(database[:], oracle[0]) \n",
    "    for i in range(len(bin_to_find)):\n",
    "        if bin_to_find[i] == '0':\n",
    "            qc.x(database[i])\n",
    "def grover_circuit(num_qubits, num_iteration, num_to_find):\n",
    "    database = QuantumRegister(num_qubits-1)\n",
    "    oracle = QuantumRegister(1)\n",
    "    qc = QuantumCircuit(database,oracle)\n",
    "    \n",
    "    # initialization\n",
    "    qc.h(database[:])\n",
    "    qc.x(oracle[0])\n",
    "    qc.h(oracle[0])\n",
    "    \n",
    "    # iters\n",
    "    for j in range(num_iteration):\n",
    "        # oracle\n",
    "        oracle_func(qc,database,oracle,num_to_find)\n",
    "\n",
    "        # diffusion\n",
    "        qc.h(database[:])\n",
    "        qc.x(database[:])\n",
    "        qc.h(database[-1])\n",
    "        qc.mct(database[0:-1], database[-1])\n",
    "        qc.h(database[-1])\n",
    "        qc.x(database[:])\n",
    "        qc.h(database[:])\n",
    "    qc.h(oracle[0])\n",
    "    qc.x(oracle[0])\n",
    "    return qc.to_gate()"
   ]
  },
  {
   "cell_type": "code",
   "execution_count": null,
   "id": "8aba6d68",
   "metadata": {},
   "outputs": [],
   "source": []
  },
  {
   "cell_type": "code",
   "execution_count": null,
   "id": "896560fa",
   "metadata": {},
   "outputs": [],
   "source": []
  },
  {
   "cell_type": "code",
   "execution_count": 218,
   "id": "42d7d565",
   "metadata": {},
   "outputs": [
    {
     "name": "stderr",
     "output_type": "stream",
     "text": [
      "100%|████████████████████████████████████████████████████████████████████████████████████████████████████████| 868/868 [00:01<00:00, 704.76it/s]\n"
     ]
    }
   ],
   "source": [
    "grover_circuits=[]\n",
    "with tqdm(total=868) as pbar:\n",
    "    for bits in range(3,8):\n",
    "        max_num = 2**(bits-1)\n",
    "        iterations = int(np.floor((np.pi/4)*np.sqrt(max_num)))\n",
    "        for itrs in range(1,iterations+1):\n",
    "            for num_to_find in range(max_num):\n",
    "                grover_gate = grover_circuit(num_qubits=bits, num_iteration=itrs, num_to_find=num_to_find)\n",
    "                for j in range(8-bits):\n",
    "                    qr = QuantumRegister(7)\n",
    "                    cr = ClassicalRegister(7)\n",
    "                    qc = QuantumCircuit(qr,cr)\n",
    "                    qc.append(grover_gate, qr[j:j+bits])\n",
    "                    qc.measure(qr,cr)\n",
    "                    grover_circuits.append(qc)\n",
    "                    pbar.update(1)"
   ]
  },
  {
   "cell_type": "code",
   "execution_count": 219,
   "id": "2d5726a9",
   "metadata": {},
   "outputs": [
    {
     "data": {
      "text/plain": [
       "868"
      ]
     },
     "execution_count": 219,
     "metadata": {},
     "output_type": "execute_result"
    }
   ],
   "source": [
    "len(grover_circuits)"
   ]
  },
  {
   "cell_type": "code",
   "execution_count": 249,
   "id": "73b0b1fe",
   "metadata": {},
   "outputs": [],
   "source": [
    "from qiskit.circuit.library import PhaseEstimation"
   ]
  },
  {
   "cell_type": "code",
   "execution_count": 250,
   "id": "42e45eaf",
   "metadata": {},
   "outputs": [
    {
     "data": {
      "image/png": "[encoded data removed]",
      "text/plain": [
       "<Figure size 185.453x117.056 with 1 Axes>"
      ]
     },
     "execution_count": 250,
     "metadata": {},
     "output_type": "execute_result"
    }
   ],
   "source": [
    "U = QuantumCircuit(1)\n",
    "U.p(5*np.pi/4,0)\n",
    "U.draw(output='mpl')"
   ]
  },
  {
   "cell_type": "code",
   "execution_count": 261,
   "id": "1f9155a8",
   "metadata": {},
   "outputs": [],
   "source": [
    "iqft = QFT(num_qubits=3, do_swaps=False, inverse=True)\n",
    "QPE = PhaseEstimation(num_evaluation_qubits=3, unitary=U, iqft=iqft ,name='QPE')"
   ]
  },
  {
   "cell_type": "code",
   "execution_count": 262,
   "id": "78a96081",
   "metadata": {},
   "outputs": [
    {
     "data": {
      "image/png": "[encoded data removed]",
      "text/plain": [
       "<Figure size 1333.49x367.889 with 1 Axes>"
      ]
     },
     "execution_count": 262,
     "metadata": {},
     "output_type": "execute_result"
    }
   ],
   "source": [
    "QPE.decompose().draw(output='mpl')"
   ]
  },
  {
   "cell_type": "code",
   "execution_count": 263,
   "id": "b1eedcea",
   "metadata": {},
   "outputs": [
    {
     "data": {
      "text/plain": [
       "<qiskit.circuit.instructionset.InstructionSet at 0x7f21d213fca0>"
      ]
     },
     "execution_count": 263,
     "metadata": {},
     "output_type": "execute_result"
    }
   ],
   "source": [
    "qr = QuantumRegister(4)\n",
    "cr = ClassicalRegister(3)\n",
    "qc = QuantumCircuit(qr,cr)\n",
    "qc.x(qr[-1])\n",
    "qc.append(QPE,qr[:])\n",
    "qc.measure(qr[:3],cr)"
   ]
  },
  {
   "cell_type": "code",
   "execution_count": 264,
   "id": "3a57c4a7",
   "metadata": {},
   "outputs": [
    {
     "data": {
      "image/png": "[encoded data removed]",
      "text/plain": [
       "<Figure size 648.117x451.5 with 1 Axes>"
      ]
     },
     "execution_count": 264,
     "metadata": {},
     "output_type": "execute_result"
    }
   ],
   "source": [
    "qc.decompose().draw(output='mpl')"
   ]
  },
  {
   "cell_type": "code",
   "execution_count": null,
   "id": "20e52f7d",
   "metadata": {},
   "outputs": [],
   "source": []
  },
  {
   "cell_type": "code",
   "execution_count": 265,
   "id": "c6d86863",
   "metadata": {},
   "outputs": [
    {
     "data": {
      "text/plain": [
       "{'001': 121, '101': 726, '110': 35, '100': 83, '010': 35}"
      ]
     },
     "execution_count": 265,
     "metadata": {},
     "output_type": "execute_result"
    }
   ],
   "source": [
    "from qiskit import BasicAer, execute\n",
    "backend = BasicAer.get_backend(\"qasm_simulator\")\n",
    "counts = execute(qc,backend,shots=1000).result().get_counts()\n",
    "counts"
   ]
  },
  {
   "cell_type": "code",
   "execution_count": null,
   "id": "709c2753",
   "metadata": {},
   "outputs": [],
   "source": []
  },
  {
   "cell_type": "code",
   "execution_count": null,
   "id": "a0d86b0c",
   "metadata": {},
   "outputs": [],
   "source": []
  },
  {
   "cell_type": "code",
   "execution_count": null,
   "id": "193a920a",
   "metadata": {},
   "outputs": [],
   "source": []
  },
  {
   "cell_type": "code",
   "execution_count": null,
   "id": "096e8699",
   "metadata": {},
   "outputs": [],
   "source": []
  },
  {
   "cell_type": "code",
   "execution_count": null,
   "id": "f2bcfbc2",
   "metadata": {},
   "outputs": [],
   "source": []
  },
  {
   "cell_type": "code",
   "execution_count": null,
   "id": "12356080",
   "metadata": {},
   "outputs": [],
   "source": []
  },
  {
   "cell_type": "code",
   "execution_count": null,
   "id": "040e7712",
   "metadata": {},
   "outputs": [],
   "source": []
  },
  {
   "cell_type": "code",
   "execution_count": null,
   "id": "b66c7d1b",
   "metadata": {},
   "outputs": [],
   "source": []
  },
  {
   "cell_type": "code",
   "execution_count": null,
   "id": "21064bf3",
   "metadata": {},
   "outputs": [],
   "source": []
  },
  {
   "cell_type": "code",
   "execution_count": null,
   "id": "55bd9fc5",
   "metadata": {},
   "outputs": [],
   "source": []
  },
  {
   "cell_type": "code",
   "execution_count": null,
   "id": "6004a6bf",
   "metadata": {},
   "outputs": [],
   "source": []
  }
 ],
 "metadata": {
  "kernelspec": {
   "display_name": "Python [conda env:dnn_for_qubit_mapping]",
   "language": "python",
   "name": "conda-env-dnn_for_qubit_mapping-py"
  },
  "language_info": {
   "codemirror_mode": {
    "name": "ipython",
    "version": 3
   },
   "file_extension": ".py",
   "mimetype": "text/x-python",
   "name": "python",
   "nbconvert_exporter": "python",
   "pygments_lexer": "ipython3",
   "version": "3.8.18"
  }
 },
 "nbformat": 4,
 "nbformat_minor": 5
}
