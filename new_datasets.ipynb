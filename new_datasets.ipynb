{
 "cells": [
  {
   "cell_type": "code",
   "execution_count": 1,
   "id": "975d5b27",
   "metadata": {},
   "outputs": [],
   "source": [
    "# pip install qiskit==0.31.0"
   ]
  },
  {
   "cell_type": "code",
   "execution_count": 201,
   "id": "a2159363",
   "metadata": {},
   "outputs": [],
   "source": [
    "import qiskit\n",
    "from qiskit import QuantumCircuit, QuantumRegister, ClassicalRegister, execute, BasicAer\n",
    "import numpy as np\n",
    "from qiskit.visualization import plot_histogram\n",
    "from qiskit import BasicAer, execute\n",
    "from tqdm import tqdm\n",
    "import numpy as np\n",
    "backend = BasicAer.get_backend(\"qasm_simulator\")\n",
    "\n",
    "def qft(num_qubits,is_inverse):\n",
    "    qft_gate = QFT(num_qubits=num_qubits, do_swaps=False, inverse=is_inverse).to_gate()\n",
    "    return qft_gate\n",
    "def subroutine_add_const(num_qubits,const):\n",
    "    qc = QuantumCircuit(num_qubits)\n",
    "    for i in range(num_qubits):\n",
    "        angle = const*np.pi/(2**i)\n",
    "        qc.p(angle,i)\n",
    "    return qc.to_gate()"
   ]
  },
  {
   "cell_type": "code",
   "execution_count": 124,
   "id": "4a11a444",
   "metadata": {},
   "outputs": [],
   "source": [
    "qft_circuits=[]\n",
    "for i in range(1,8):\n",
    "    qft_gate = qft(num_qubits=i,is_inverse=False)\n",
    "    for j in range(8-i):\n",
    "        qr = QuantumRegister(7)\n",
    "        cr = ClassicalRegister(7)\n",
    "        qc = QuantumCircuit(qr,cr)\n",
    "        qc.append(qft_gate, qr[j:j+i])\n",
    "        qc.measure(qr,cr)\n",
    "        qft_circuits.append(qc)\n",
    "# qft_circuits[0].draw(output='mpl')"
   ]
  },
  {
   "cell_type": "code",
   "execution_count": 125,
   "id": "fedb8881",
   "metadata": {
    "scrolled": false
   },
   "outputs": [
    {
     "name": "stderr",
     "output_type": "stream",
     "text": [
      "100%|████████████████████████████████████████████████████████████████████████████████████████████████████| 10795/10795 [00:54<00:00, 199.90it/s]\n"
     ]
    }
   ],
   "source": [
    "addition_circuits = []\n",
    "with tqdm(total=10795) as pbar:\n",
    "    for bits in range(1,8):\n",
    "        max_num = 2**bits\n",
    "        for i in range(max_num):\n",
    "            for j in range(1,max_num):\n",
    "                if i+j < max_num:\n",
    "                    qr = QuantumRegister(7)\n",
    "                    cr = ClassicalRegister(7)\n",
    "                    qc = QuantumCircuit(qr,cr)\n",
    "                    qft_gate = qft(num_qubits=bits,is_inverse=False)\n",
    "                    qc.append(qft_gate, qr[:bits])\n",
    "\n",
    "                    qc.append(subroutine_add_const(bits,i), qr[:bits])\n",
    "                    qc.append(subroutine_add_const(bits,j), qr[:bits])\n",
    "\n",
    "                    inverse_qft_gate = qft(num_qubits=bits,is_inverse=True)\n",
    "                    qc.append(inverse_qft_gate, qr[:bits])\n",
    "                    qc.measure(qr,cr)\n",
    "\n",
    "                    # counts = execute(qc,backend,shots=100).result().get_counts()\n",
    "                    # bin_val = int(list(counts.keys())[0],2)\n",
    "                    pbar.update(1)\n",
    "                    addition_circuits.append(qc)"
   ]
  },
  {
   "cell_type": "code",
   "execution_count": null,
   "id": "420b7861",
   "metadata": {},
   "outputs": [],
   "source": []
  },
  {
   "cell_type": "code",
   "execution_count": 126,
   "id": "5489fb28",
   "metadata": {},
   "outputs": [],
   "source": [
    "def ghz_recursive(qc, quantum_register, low, mid, high):\n",
    "    if low<mid and mid<high and low>=0 and mid>=0 and high>=0:\n",
    "        # print(low, (low+mid)//2, mid, (mid+high+1)//2) \n",
    "        if low< (low+mid)//2:\n",
    "            qc.cnot(quantum_register[low], quantum_register[(low+mid)//2])\n",
    "        if mid < (mid+high+1)//2:\n",
    "            qc.cnot(quantum_register[mid], quantum_register[(mid+high+1)//2])\n",
    "        ghz_recursive(qc, quantum_register, low, (low+mid)//2, mid-1)\n",
    "        ghz_recursive(qc, quantum_register, mid, (mid+high+1)//2, high)\n",
    "def generate_ghz_logn(n):\n",
    "    quantum_register = QuantumRegister(n)\n",
    "    qc = QuantumCircuit(quantum_register)\n",
    "\n",
    "    ####### your code goes here #######\n",
    "    qc.h(quantum_register[0])\n",
    "    qc.cnot(quantum_register[0], quantum_register[n//2])\n",
    "    ghz_recursive(qc, quantum_register, 0, n//2, n-1)\n",
    "\n",
    "    return qc.to_gate()\n",
    "\n",
    "\n",
    "ghz_rec_circuits=[]\n",
    "for i in range(2,8):\n",
    "    ghz_circuit = generate_ghz_logn(i)\n",
    "    for j in range(8-i):\n",
    "        qr = QuantumRegister(7)\n",
    "        cr = ClassicalRegister(7)\n",
    "        qc = QuantumCircuit(qr,cr)\n",
    "        qc.append(ghz_circuit, qr[j:j+i])\n",
    "        qc.measure(qr,cr)\n",
    "        ghz_rec_circuits.append(qc)\n",
    "# qft_circuits[0].draw(output='mpl')"
   ]
  },
  {
   "cell_type": "code",
   "execution_count": 127,
   "id": "1d370155",
   "metadata": {},
   "outputs": [],
   "source": [
    "def generate_ghz(n):\n",
    "    quantum_register = QuantumRegister(n)\n",
    "    qc = QuantumCircuit(quantum_register)\n",
    "\n",
    "    ####### your code goes here #######\n",
    "    qc.h(quantum_register[0])\n",
    "    for i in range(1,n):\n",
    "        qc.cnot(quantum_register[0], quantum_register[i])\n",
    "    return qc.to_gate()\n",
    "\n",
    "\n",
    "ghz_circuits=[]\n",
    "for i in range(2,8):\n",
    "    ghz_circuit = generate_ghz(i)\n",
    "    for j in range(8-i):\n",
    "        qr = QuantumRegister(7)\n",
    "        cr = ClassicalRegister(7)\n",
    "        qc = QuantumCircuit(qr,cr)\n",
    "        qc.append(ghz_circuit, qr[j:j+i])\n",
    "        qc.measure(qr,cr)\n",
    "        ghz_circuits.append(qc)"
   ]
  },
  {
   "cell_type": "code",
   "execution_count": null,
   "id": "74de189c",
   "metadata": {},
   "outputs": [],
   "source": []
  },
  {
   "cell_type": "code",
   "execution_count": 187,
   "id": "69109ba4",
   "metadata": {},
   "outputs": [],
   "source": [
    "def oracle_func(qc,database,oracle,num_to_find):\n",
    "    bin_to_find = (bin(num_to_find)[2:]).rjust(len(database),'0')\n",
    "    \n",
    "    bin_to_find = bin_to_find[::-1]\n",
    "    for i in range(len(bin_to_find)):\n",
    "        if bin_to_find[i] == '0':\n",
    "            qc.x(database[i])\n",
    "    qc.mct(database[:], oracle[0]) \n",
    "    for i in range(len(bin_to_find)):\n",
    "        if bin_to_find[i] == '0':\n",
    "            qc.x(database[i])\n",
    "def grover_circuit(num_qubits, num_iteration, num_to_find):\n",
    "    database = QuantumRegister(num_qubits-1)\n",
    "    oracle = QuantumRegister(1)\n",
    "    qc = QuantumCircuit(database,oracle)\n",
    "    \n",
    "    # initialization\n",
    "    qc.h(database[:])\n",
    "    qc.x(oracle[0])\n",
    "    qc.h(oracle[0])\n",
    "    \n",
    "    # iters\n",
    "    for j in range(num_iteration):\n",
    "        # oracle\n",
    "        oracle_func(qc,database,oracle,num_to_find)\n",
    "\n",
    "        # diffusion\n",
    "        qc.h(database[:])\n",
    "        qc.x(database[:])\n",
    "        qc.h(database[-1])\n",
    "        qc.mct(database[0:-1], database[-1])\n",
    "        qc.h(database[-1])\n",
    "        qc.x(database[:])\n",
    "        qc.h(database[:])\n",
    "    qc.h(oracle[0])\n",
    "    qc.x(oracle[0])\n",
    "    return qc.to_gate()"
   ]
  },
  {
   "cell_type": "code",
   "execution_count": null,
   "id": "9d55f7fd",
   "metadata": {},
   "outputs": [],
   "source": []
  },
  {
   "cell_type": "code",
   "execution_count": null,
   "id": "d4be2dce",
   "metadata": {},
   "outputs": [],
   "source": []
  },
  {
   "cell_type": "code",
   "execution_count": 218,
   "id": "4b89277b",
   "metadata": {},
   "outputs": [
    {
     "name": "stderr",
     "output_type": "stream",
     "text": [
      "100%|████████████████████████████████████████████████████████████████████████████████████████████████████████| 868/868 [00:01<00:00, 704.76it/s]\n"
     ]
    }
   ],
   "source": [
    "grover_circuits=[]\n",
    "with tqdm(total=868) as pbar:\n",
    "    for bits in range(3,8):\n",
    "        max_num = 2**(bits-1)\n",
    "        iterations = int(np.floor((np.pi/4)*np.sqrt(max_num)))\n",
    "        for itrs in range(1,iterations+1):\n",
    "            for num_to_find in range(max_num):\n",
    "                grover_gate = grover_circuit(num_qubits=bits, num_iteration=itrs, num_to_find=num_to_find)\n",
    "                for j in range(8-bits):\n",
    "                    qr = QuantumRegister(7)\n",
    "                    cr = ClassicalRegister(7)\n",
    "                    qc = QuantumCircuit(qr,cr)\n",
    "                    qc.append(grover_gate, qr[j:j+bits])\n",
    "                    qc.measure(qr,cr)\n",
    "                    grover_circuits.append(qc)\n",
    "                    pbar.update(1)"
   ]
  },
  {
   "cell_type": "code",
   "execution_count": 219,
   "id": "8794109a",
   "metadata": {},
   "outputs": [
    {
     "data": {
      "text/plain": [
       "868"
      ]
     },
     "execution_count": 219,
     "metadata": {},
     "output_type": "execute_result"
    }
   ],
   "source": [
    "len(grover_circuits)"
   ]
  },
  {
   "cell_type": "code",
   "execution_count": null,
   "id": "f23226f4",
   "metadata": {},
   "outputs": [],
   "source": []
  },
  {
   "cell_type": "code",
   "execution_count": null,
   "id": "4f5a488c",
   "metadata": {},
   "outputs": [],
   "source": []
  },
  {
   "cell_type": "code",
   "execution_count": null,
   "id": "c8bc2778",
   "metadata": {},
   "outputs": [],
   "source": []
  },
  {
   "cell_type": "code",
   "execution_count": null,
   "id": "7c09b6b6",
   "metadata": {},
   "outputs": [],
   "source": []
  },
  {
   "cell_type": "code",
   "execution_count": null,
   "id": "57bcfa13",
   "metadata": {},
   "outputs": [],
   "source": []
  },
  {
   "cell_type": "code",
   "execution_count": null,
   "id": "8fe1d5fb",
   "metadata": {},
   "outputs": [],
   "source": []
  },
  {
   "cell_type": "code",
   "execution_count": null,
   "id": "a5dfafd6",
   "metadata": {},
   "outputs": [],
   "source": []
  },
  {
   "cell_type": "code",
   "execution_count": 199,
   "id": "9f6a2607",
   "metadata": {},
   "outputs": [
    {
     "data": {
      "text/plain": [
       "{'0000000': 1000}"
      ]
     },
     "execution_count": 199,
     "metadata": {},
     "output_type": "execute_result"
    }
   ],
   "source": [
    "from qiskit import BasicAer, execute\n",
    "backend = BasicAer.get_backend(\"qasm_simulator\")\n",
    "counts = execute(qc,backend,shots=1000).result().get_counts()\n",
    "counts"
   ]
  },
  {
   "cell_type": "code",
   "execution_count": null,
   "id": "30aae647",
   "metadata": {},
   "outputs": [],
   "source": []
  },
  {
   "cell_type": "code",
   "execution_count": 19,
   "id": "62a14c9e",
   "metadata": {},
   "outputs": [
    {
     "data": {
      "image/png": "[encoded data removed]",
      "text/plain": [
       "<Figure size 1494.71x702.333 with 1 Axes>"
      ]
     },
     "execution_count": 19,
     "metadata": {},
     "output_type": "execute_result"
    }
   ],
   "source": [
    "qr = QuantumRegister(7)\n",
    "cr = ClassicalRegister(7)\n",
    "qc = QuantumCircuit(qr,cr)\n",
    "\n",
    "\n",
    "qft_gate = custom_qft()\n",
    "\n",
    "qc.append(qft_gate, qr[:])\n",
    "qc.append(subroutine_add_const(4),qr[:])\n",
    "qc.append(subroutine_add_const(2),qr[:])\n",
    "qc.append(qft_gate.inverse(), qr[:])\n",
    "\n",
    "\n",
    "qc.measure(qr,cr)\n",
    "qc.draw(output='mpl')"
   ]
  },
  {
   "cell_type": "code",
   "execution_count": 80,
   "id": "7200b414",
   "metadata": {},
   "outputs": [
    {
     "data": {
      "text/plain": [
       "1"
      ]
     },
     "execution_count": 80,
     "metadata": {},
     "output_type": "execute_result"
    }
   ],
   "source": [
    "int(list(counts.keys())[0],2)"
   ]
  },
  {
   "cell_type": "code",
   "execution_count": 24,
   "id": "fe6a8fa3",
   "metadata": {},
   "outputs": [
    {
     "data": {
      "image/png": "[encoded data removed]",
      "text/plain": [
       "<Figure size 993.048x702.333 with 1 Axes>"
      ]
     },
     "execution_count": 24,
     "metadata": {},
     "output_type": "execute_result"
    }
   ],
   "source": [
    "qft_circuits=[]\n",
    "for i in range(1,8):\n",
    "    qr = QuantumRegister(7)\n",
    "    cr = ClassicalRegister(7)\n",
    "    qc = QuantumCircuit(qr,cr)\n",
    "    \n",
    "    qft_gate = custom_qft()\n",
    "    \n",
    "    qc.append(qft_gate, qr[:])\n",
    "    qc.measure(qr,cr)\n",
    "    qft_circuits.append(qc)\n",
    "qft_circuits[1].draw(output='mpl')"
   ]
  },
  {
   "cell_type": "code",
   "execution_count": 103,
   "id": "d5ac6c29",
   "metadata": {},
   "outputs": [
    {
     "name": "stderr",
     "output_type": "stream",
     "text": [
      "ibmqfactory.load_account:WARNING:2023-11-26 17:31:37,489: Credentials are already in use. The existing account in the session will be replaced.\n"
     ]
    }
   ],
   "source": [
    "import qiskit\n",
    "from qiskit import *\n",
    "from qiskit.providers.ibmq import *\n",
    "# from qiskit.transpiler import PassManager\n",
    "# from qiskit.converters import circuit_to_dag\n",
    "# from qiskit.transpiler.passes import Unroller\n",
    "# from qiskit.circuit.random import random_circuit\n",
    "# from qiskit.transpiler.passes import LookaheadSwap, StochasticSwap\n",
    "# from qiskit.transpiler import CouplingMap\n",
    "IBMQ.load_account()\n",
    "provider = IBMQ.get_provider(hub='ibm-q')\n",
    "provider.backends(simulator=False)\n",
    "backend = provider.get_backend(\"ibm_nairobi\")"
   ]
  },
  {
   "cell_type": "code",
   "execution_count": 104,
   "id": "99c28869",
   "metadata": {},
   "outputs": [],
   "source": [
    "optimization_level = 3\n",
    "new_circ_lv3 = transpile(qft_circuits[1], backend=backend, optimization_level=optimization_level)\n",
    "new_circ_lv3_na = transpile(qft_circuits[1], backend=backend, optimization_level=optimization_level,layout_method='noise_adaptive')\n",
    "new_circ_lv3_sabre = transpile(qft_circuits[1], backend=backend, optimization_level=optimization_level,layout_method='sabre',routing_method='sabre')"
   ]
  },
  {
   "cell_type": "code",
   "execution_count": 105,
   "id": "682ddbb7",
   "metadata": {
    "scrolled": true
   },
   "outputs": [
    {
     "name": "stdout",
     "output_type": "stream",
     "text": [
      "Depth: [20, 20, 20, 20, 20, 20]\n",
      "na\n",
      "{4: Qubit(QuantumRegister(7, 'q126690'), 0), 5: Qubit(QuantumRegister(7, 'q126690'), 1), 0: Qubit(QuantumRegister(7, 'q126690'), 2), 1: Qubit(QuantumRegister(7, 'q126690'), 3), 2: Qubit(QuantumRegister(7, 'q126690'), 4), 3: Qubit(QuantumRegister(7, 'q126690'), 5), 6: Qubit(QuantumRegister(7, 'q126690'), 6)}\n",
      "SABRE\n",
      "{1: Qubit(QuantumRegister(7, 'q126690'), 0), 3: Qubit(QuantumRegister(7, 'q126690'), 1), 2: Qubit(QuantumRegister(7, 'q126690'), 2), 4: Qubit(QuantumRegister(7, 'q126690'), 3), 0: Qubit(QuantumRegister(7, 'q126690'), 4), 5: Qubit(QuantumRegister(7, 'q126690'), 5), 6: Qubit(QuantumRegister(7, 'q126690'), 6)}\n"
     ]
    }
   ],
   "source": [
    "coupling_map = IBMQBackend.configuration(backend).to_dict()['coupling_map']\n",
    "cp = CouplingMap(couplinglist=coupling_map)\n",
    "depths = []\n",
    "for qc in [new_circ_lv3_na, new_circ_lv3,new_circ_lv3_sabre]:\n",
    "    depth = qc.depth()\n",
    "    pass_manager = PassManager(LookaheadSwap(coupling_map=cp))\n",
    "    lc_qc = pass_manager.run(qc)\n",
    "    pass_manager = PassManager(StochasticSwap(coupling_map=cp))\n",
    "    st_qc = pass_manager.run(qc)\n",
    "    depths.append(depth + lc_qc.depth())\n",
    "    depths.append(depth + st_qc.depth())\n",
    "    #print('depth=', depth, ' depth + routing_lc_qc= ', depth + lc_qc.depth(), ' depth + routing_st_qc=',depth + st_qc.depth())\n",
    "print(\"Depth:\",depths)\n",
    "if depths.index(min(depths)) < 2:\n",
    "    print('na')\n",
    "    # if show == True:\n",
    "    #     plot_circuit_layout(new_circ_lv3_na, backend).show()\n",
    "    print(new_circ_lv3_na._layout.get_physical_bits())\n",
    "    \n",
    "\n",
    "if depths.index(min(depths)) >= 2 and depths.index(min(depths)) <4:\n",
    "    print('not na')\n",
    "    # if show == True:\n",
    "    #     plot_circuit_layout(new_circ_lv3, backend).show()\n",
    "    print(new_circ_lv3._layout.get_physical_bits())\n",
    "    \n",
    "\n",
    "else:\n",
    "    print('SABRE')\n",
    "    # if show == True:\n",
    "    #     plot_circuit_layout(new_circ_lv3_sabre, backend).show()\n",
    "    print(new_circ_lv3_sabre._layout.get_physical_bits())\n",
    "    "
   ]
  },
  {
   "cell_type": "code",
   "execution_count": 42,
   "id": "f5d17d90",
   "metadata": {},
   "outputs": [],
   "source": [
    "from qiskit.circuit.library import QFT"
   ]
  },
  {
   "cell_type": "code",
   "execution_count": 60,
   "id": "89601fed",
   "metadata": {},
   "outputs": [
    {
     "data": {
      "image/png": "[encoded data removed]",
      "text/plain": [
       "<Figure size 1076.86x702.333 with 1 Axes>"
      ]
     },
     "execution_count": 60,
     "metadata": {},
     "output_type": "execute_result"
    }
   ],
   "source": [
    "qc = QuantumRegister(7)\n",
    "cr = ClassicalRegister(7)\n",
    "qc = QuantumCircuit(qr,cr)\n",
    "def qft(num_qubits,is_inverse):\n",
    "    qft_gate = QFT(num_qubits=num_qubits, do_swaps=False, inverse=is_inverse).to_gate()\n",
    "    return qft_gate\n",
    "\n",
    "def subroutine_add_const(num_qubits,const):\n",
    "    qc = QuantumCircuit(num_qubits)\n",
    "\n",
    "    for i in range(num_qubits):\n",
    "        angle = const*np.pi/(2**i)\n",
    "        qc.p(angle,i)\n",
    "\n",
    "    return qc.to_gate()\n",
    "qc.append(qft(3,False), qr[:3])\n",
    "qc.append(subroutine_add_const(3,1), qr[:3])\n",
    "qc.append(subroutine_add_const(3,1), qr[:3])\n",
    "qc.append(qft(3,True), qr[:3])\n",
    "qc.measure(qr,cr)\n",
    "qc.draw(output='mpl')"
   ]
  },
  {
   "cell_type": "code",
   "execution_count": null,
   "id": "c724bf2d",
   "metadata": {},
   "outputs": [],
   "source": []
  },
  {
   "cell_type": "code",
   "execution_count": null,
   "id": "c5885fd5",
   "metadata": {},
   "outputs": [],
   "source": []
  },
  {
   "cell_type": "code",
   "execution_count": null,
   "id": "cf05e0bb",
   "metadata": {},
   "outputs": [],
   "source": []
  },
  {
   "cell_type": "code",
   "execution_count": null,
   "id": "b900064c",
   "metadata": {},
   "outputs": [],
   "source": []
  },
  {
   "cell_type": "code",
   "execution_count": 61,
   "id": "99a17e37",
   "metadata": {},
   "outputs": [
    {
     "data": {
      "text/plain": [
       "{'0000010': 100}"
      ]
     },
     "execution_count": 61,
     "metadata": {},
     "output_type": "execute_result"
    }
   ],
   "source": [
    "from qiskit import BasicAer, execute\n",
    "backend = BasicAer.get_backend(\"qasm_simulator\")\n",
    "counts = execute(qc,backend,shots=100).result().get_counts()\n",
    "counts"
   ]
  },
  {
   "cell_type": "code",
   "execution_count": null,
   "id": "a0d86b0c",
   "metadata": {},
   "outputs": [],
   "source": []
  },
  {
   "cell_type": "code",
   "execution_count": null,
   "id": "193a920a",
   "metadata": {},
   "outputs": [],
   "source": []
  },
  {
   "cell_type": "code",
   "execution_count": null,
   "id": "096e8699",
   "metadata": {},
   "outputs": [],
   "source": []
  },
  {
   "cell_type": "code",
   "execution_count": null,
   "id": "f2bcfbc2",
   "metadata": {},
   "outputs": [],
   "source": []
  },
  {
   "cell_type": "code",
   "execution_count": null,
   "id": "12356080",
   "metadata": {},
   "outputs": [],
   "source": []
  },
  {
   "cell_type": "code",
   "execution_count": null,
   "id": "040e7712",
   "metadata": {},
   "outputs": [],
   "source": []
  },
  {
   "cell_type": "code",
   "execution_count": null,
   "id": "b66c7d1b",
   "metadata": {},
   "outputs": [],
   "source": []
  },
  {
   "cell_type": "code",
   "execution_count": null,
   "id": "21064bf3",
   "metadata": {},
   "outputs": [],
   "source": []
  },
  {
   "cell_type": "code",
   "execution_count": null,
   "id": "55bd9fc5",
   "metadata": {},
   "outputs": [],
   "source": []
  },
  {
   "cell_type": "code",
   "execution_count": null,
   "id": "6004a6bf",
   "metadata": {},
   "outputs": [],
   "source": []
  }
 ],
 "metadata": {
  "kernelspec": {
   "display_name": "Python [conda env:dnn_for_qubit_mapping]",
   "language": "python",
   "name": "conda-env-dnn_for_qubit_mapping-py"
  },
  "language_info": {
   "codemirror_mode": {
    "name": "ipython",
    "version": 3
   },
   "file_extension": ".py",
   "mimetype": "text/x-python",
   "name": "python",
   "nbconvert_exporter": "python",
   "pygments_lexer": "ipython3",
   "version": "3.8.18"
  }
 },
 "nbformat": 4,
 "nbformat_minor": 5
}
