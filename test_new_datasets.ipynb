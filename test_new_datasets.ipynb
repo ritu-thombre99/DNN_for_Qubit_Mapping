{
 "cells": [
  {
   "cell_type": "code",
   "execution_count": 1,
   "id": "975d5b27",
   "metadata": {},
   "outputs": [],
   "source": [
    "# pip install qiskit==0.31.0"
   ]
  },
  {
   "cell_type": "code",
   "execution_count": 2,
   "id": "7fe40edc",
   "metadata": {},
   "outputs": [
    {
     "name": "stdout",
     "output_type": "stream",
     "text": [
      "Generating QPE circuits\n"
     ]
    }
   ],
   "source": [
    "from get_test_datasets import return_dataset\n",
    "test_dataset = return_dataset()"
   ]
  },
  {
   "cell_type": "code",
   "execution_count": 3,
   "id": "07b19af1",
   "metadata": {},
   "outputs": [
    {
     "data": {
      "text/plain": [
       "400"
      ]
     },
     "execution_count": 3,
     "metadata": {},
     "output_type": "execute_result"
    }
   ],
   "source": [
    "len(test_dataset)"
   ]
  },
  {
   "cell_type": "code",
   "execution_count": 4,
   "id": "75c6fc50",
   "metadata": {},
   "outputs": [
    {
     "name": "stderr",
     "output_type": "stream",
     "text": [
      "Using TensorFlow backend.\n",
      "ibmqfactory.load_account:WARNING:2023-11-27 07:00:20,000: Credentials are already in use. The existing account in the session will be replaced.\n"
     ]
    },
    {
     "name": "stdout",
     "output_type": "stream",
     "text": [
      "{'ibm_lagos': [[0, 1], [1, 0], [1, 2], [1, 3], [2, 1], [3, 1], [3, 5], [4, 5], [5, 3], [5, 4], [5, 6], [6, 5]], 'ibm_nairobi': [[0, 1], [1, 0], [1, 2], [1, 3], [2, 1], [3, 1], [3, 5], [4, 5], [5, 3], [5, 4], [5, 6], [6, 5]], 'ibm_perth': [[0, 1], [1, 0], [1, 2], [1, 3], [2, 1], [3, 1], [3, 5], [4, 5], [5, 3], [5, 4], [5, 6], [6, 5]]}\n"
     ]
    }
   ],
   "source": [
    "import tensorflow as tf\n",
    "from tensorflow import keras\n",
    "\n",
    "from sklearn.preprocessing import StandardScaler, MinMaxScaler\n",
    "from helper import *"
   ]
  },
  {
   "cell_type": "code",
   "execution_count": 5,
   "id": "c6b20b7c",
   "metadata": {},
   "outputs": [
    {
     "name": "stderr",
     "output_type": "stream",
     "text": [
      "2023-11-27 07:00:23.218948: I tensorflow/stream_executor/platform/default/dso_loader.cc:44] Successfully opened dynamic library libcuda.so.1\n",
      "2023-11-27 07:00:23.311667: E tensorflow/stream_executor/cuda/cuda_gpu_executor.cc:967] could not open file to read NUMA node: /sys/bus/pci/devices/0000:01:00.0/numa_node\n",
      "Your kernel may have been built without NUMA support.\n",
      "2023-11-27 07:00:23.311795: I tensorflow/core/common_runtime/gpu/gpu_device.cc:1561] Found device 0 with properties: \n",
      "pciBusID: 0000:01:00.0 name: NVIDIA GeForce GTX 1650 Ti computeCapability: 7.5\n",
      "coreClock: 1.485GHz coreCount: 16 deviceMemorySize: 4.00GiB deviceMemoryBandwidth: 178.84GiB/s\n",
      "2023-11-27 07:00:23.312056: W tensorflow/stream_executor/platform/default/dso_loader.cc:55] Could not load dynamic library 'libcudart.so.10.1'; dlerror: libcudart.so.10.1: cannot open shared object file: No such file or directory\n",
      "2023-11-27 07:00:23.312115: W tensorflow/stream_executor/platform/default/dso_loader.cc:55] Could not load dynamic library 'libcublas.so.10'; dlerror: libcublas.so.10: cannot open shared object file: No such file or directory\n",
      "2023-11-27 07:00:23.312185: W tensorflow/stream_executor/platform/default/dso_loader.cc:55] Could not load dynamic library 'libcufft.so.10'; dlerror: libcufft.so.10: cannot open shared object file: No such file or directory\n",
      "2023-11-27 07:00:23.312237: W tensorflow/stream_executor/platform/default/dso_loader.cc:55] Could not load dynamic library 'libcurand.so.10'; dlerror: libcurand.so.10: cannot open shared object file: No such file or directory\n",
      "2023-11-27 07:00:23.312282: W tensorflow/stream_executor/platform/default/dso_loader.cc:55] Could not load dynamic library 'libcusolver.so.10'; dlerror: libcusolver.so.10: cannot open shared object file: No such file or directory\n",
      "2023-11-27 07:00:23.312326: W tensorflow/stream_executor/platform/default/dso_loader.cc:55] Could not load dynamic library 'libcusparse.so.10'; dlerror: libcusparse.so.10: cannot open shared object file: No such file or directory\n",
      "2023-11-27 07:00:23.312371: W tensorflow/stream_executor/platform/default/dso_loader.cc:55] Could not load dynamic library 'libcudnn.so.7'; dlerror: libcudnn.so.7: cannot open shared object file: No such file or directory\n",
      "2023-11-27 07:00:23.312377: W tensorflow/core/common_runtime/gpu/gpu_device.cc:1598] Cannot dlopen some GPU libraries. Please make sure the missing libraries mentioned above are installed properly if you would like to use GPU. Follow the guide at https://www.tensorflow.org/install/gpu for how to download and setup the required libraries for your platform.\n",
      "Skipping registering GPU devices...\n",
      "2023-11-27 07:00:23.313362: I tensorflow/core/platform/cpu_feature_guard.cc:143] Your CPU supports instructions that this TensorFlow binary was not compiled to use: AVX2 FMA\n",
      "2023-11-27 07:00:23.325667: I tensorflow/core/platform/profile_utils/cpu_utils.cc:102] CPU Frequency: 2495725000 Hz\n",
      "2023-11-27 07:00:23.327039: I tensorflow/compiler/xla/service/service.cc:168] XLA service 0x7f260c000b70 initialized for platform Host (this does not guarantee that XLA will be used). Devices:\n",
      "2023-11-27 07:00:23.327068: I tensorflow/compiler/xla/service/service.cc:176]   StreamExecutor device (0): Host, Default Version\n",
      "2023-11-27 07:00:23.328951: I tensorflow/core/common_runtime/gpu/gpu_device.cc:1102] Device interconnect StreamExecutor with strength 1 edge matrix:\n",
      "2023-11-27 07:00:23.328969: I tensorflow/core/common_runtime/gpu/gpu_device.cc:1108]      \n"
     ]
    }
   ],
   "source": [
    "mlp_edge_feature = tf.keras.models.load_model(\"models/mlp_edge_features.keras\")\n",
    "dnn = tf.keras.models.load_model(\"models/dnn.keras\")\n",
    "mlp = tf.keras.models.load_model(\"models/mlp.keras\")"
   ]
  },
  {
   "cell_type": "code",
   "execution_count": 6,
   "id": "40b70001",
   "metadata": {},
   "outputs": [],
   "source": [
    "basis_gate_dict = {}\n",
    "provider = IBMQ.get_provider(hub='ibm-q')\n",
    "provider.backends(simulator=False)\n",
    "backends = ['ibm_lagos','ibm_perth','ibm_nairobi']\n",
    "for backend_name in backends:\n",
    "    backend = provider.get_backend(backend_name)\n",
    "    basis_gats = backend.configuration().basis_gates\n",
    "    basis_gate_dict[backend_name] = basis_gats\n"
   ]
  },
  {
   "cell_type": "code",
   "execution_count": 16,
   "id": "582c8840",
   "metadata": {},
   "outputs": [],
   "source": [
    "def get_transpiled_circ_results(qc, backend, initial_layout):\n",
    "    basis_gats = basis_gate_dict[backend]\n",
    "    pass_ = Unroller(basis_gats)\n",
    "    pm = PassManager(pass_)\n",
    "    backend = provider.get_backend(backend)\n",
    "    \n",
    "    tqc = transpile(qc, backend=backend,initial_layout=initial_layout, optimization_level=0,seed_transpiler=13)\n",
    "    tqc = pm.run(tqc)\n",
    "    gates = dict(tqc.count_ops())\n",
    "    return gates['cx'], tqc.depth()\n"
   ]
  },
  {
   "cell_type": "code",
   "execution_count": null,
   "id": "df331f45",
   "metadata": {},
   "outputs": [],
   "source": []
  },
  {
   "cell_type": "code",
   "execution_count": 17,
   "id": "ee8dcb7a",
   "metadata": {
    "scrolled": false
   },
   "outputs": [
    {
     "name": "stderr",
     "output_type": "stream",
     "text": [
      "\r",
      "  0%|                                                                                                                     | 0/5 [00:00<?, ?it/s]"
     ]
    },
    {
     "name": "stdout",
     "output_type": "stream",
     "text": [
      "2023-10-22 07:05:04.626054\n",
      "Backend topology: 2023-10-22 07:05:04.626054\n",
      "<qiskit.providers.models.backendproperties.BackendProperties object at 0x7f266204b550>\n",
      "Depth: [106, 106, 86, 86, 102, 102]\n",
      "not na\n",
      "[2, 1, 0, 3, 4, 5, 6] [2, 1, 0, 3, 4, 5, 6] [0, 1, 2, 3, 4, 5, 6]\n",
      "[6, 1, 4, 3, 4, 5, 6]\n"
     ]
    },
    {
     "name": "stderr",
     "output_type": "stream",
     "text": [
      "\n",
      "100%|████████████████████████████████████████████████████████████████████████████████████████████████████████████| 1/1 [00:00<00:00, 110.80it/s]\u001b[A\n",
      " 20%|█████████████████████▊                                                                                       | 1/5 [00:02<00:09,  2.35s/it]"
     ]
    },
    {
     "name": "stdout",
     "output_type": "stream",
     "text": [
      "[2, 1, 0, 3, 4, 5, 6]\n",
      "60 32\n",
      "2023-11-18 07:05:06.981760\n",
      "Backend topology: 2023-11-18 07:05:06.981760\n",
      "<qiskit.providers.models.backendproperties.BackendProperties object at 0x7f26c005b4f0>\n",
      "Depth: [190, 190, 86, 86, 86, 86]\n",
      "not na\n",
      "[2, 1, 0, 3, 4, 5, 6] [2, 1, 0, 3, 4, 5, 6] [0, 1, 2, 3, 4, 5, 6]\n",
      "[6, 1, 4, 3, 4, 5, 6]\n"
     ]
    },
    {
     "name": "stderr",
     "output_type": "stream",
     "text": [
      "\n",
      "100%|████████████████████████████████████████████████████████████████████████████████████████████████████████████| 1/1 [00:00<00:00, 127.20it/s]\u001b[A"
     ]
    },
    {
     "name": "stdout",
     "output_type": "stream",
     "text": [
      "[2, 1, 0, 3, 4, 5, 6]\n",
      "59 44\n"
     ]
    },
    {
     "name": "stderr",
     "output_type": "stream",
     "text": [
      "\n",
      "\r",
      " 40%|███████████████████████████████████████████▌                                                                 | 2/5 [00:05<00:07,  2.62s/it]"
     ]
    },
    {
     "name": "stdout",
     "output_type": "stream",
     "text": [
      "2023-08-13 07:05:09.789618\n",
      "Backend topology: 2023-08-13 07:05:09.789618\n",
      "<qiskit.providers.models.backendproperties.BackendProperties object at 0x7f2669cf06a0>\n",
      "Depth: [136, 136, 82, 82, 92, 92]\n",
      "not na\n",
      "[2, 1, 0, 3, 4, 5, 6] [2, 1, 0, 3, 4, 5, 6] [0, 1, 2, 3, 4, 5, 6]\n",
      "[6, 1, 4, 3, 4, 5, 6]\n"
     ]
    },
    {
     "name": "stderr",
     "output_type": "stream",
     "text": [
      "\n",
      "100%|████████████████████████████████████████████████████████████████████████████████████████████████████████████| 1/1 [00:00<00:00, 175.97it/s]\u001b[A\n",
      " 60%|█████████████████████████████████████████████████████████████████▍                                           | 3/5 [00:07<00:05,  2.52s/it]"
     ]
    },
    {
     "name": "stdout",
     "output_type": "stream",
     "text": [
      "[2, 1, 0, 3, 4, 5, 6]\n",
      "57 38\n",
      "2023-07-13 07:05:12.186202\n",
      "Backend topology: 2023-07-13 07:05:12.186202\n",
      "<qiskit.providers.models.backendproperties.BackendProperties object at 0x7f2668cc36a0>\n",
      "Depth: [100, 100, 80, 80, 92, 92]\n",
      "not na\n",
      "[2, 1, 0, 3, 4, 5, 6] [2, 1, 0, 3, 4, 5, 6] [0, 1, 2, 3, 4, 5, 6]\n",
      "[6, 1, 4, 3, 4, 5, 6]\n"
     ]
    },
    {
     "name": "stderr",
     "output_type": "stream",
     "text": [
      "\n",
      "100%|████████████████████████████████████████████████████████████████████████████████████████████████████████████| 1/1 [00:00<00:00, 156.35it/s]\u001b[A"
     ]
    },
    {
     "name": "stdout",
     "output_type": "stream",
     "text": [
      "[2, 1, 0, 3, 4, 5, 6]\n",
      "56 29\n"
     ]
    },
    {
     "name": "stderr",
     "output_type": "stream",
     "text": [
      "\n",
      "\r",
      " 80%|███████████████████████████████████████████████████████████████████████████████████████▏                     | 4/5 [00:10<00:02,  2.68s/it]"
     ]
    },
    {
     "name": "stdout",
     "output_type": "stream",
     "text": [
      "2023-08-31 07:05:15.108047\n",
      "Backend topology: 2023-08-31 07:05:15.108047\n",
      "<qiskit.providers.models.backendproperties.BackendProperties object at 0x7f26624505b0>\n",
      "Depth: [106, 106, 102, 102, 120, 120]\n",
      "not na\n",
      "[2, 1, 0, 3, 4, 5, 6] [2, 1, 0, 3, 4, 5, 6] [0, 1, 2, 3, 4, 5, 6]\n",
      "[6, 1, 4, 3, 4, 5, 6]\n"
     ]
    },
    {
     "name": "stderr",
     "output_type": "stream",
     "text": [
      "\n",
      "100%|████████████████████████████████████████████████████████████████████████████████████████████████████████████| 1/1 [00:00<00:00, 120.22it/s]\u001b[A"
     ]
    },
    {
     "name": "stdout",
     "output_type": "stream",
     "text": [
      "[2, 1, 0, 3, 4, 5, 6]\n",
      "60 32\n"
     ]
    },
    {
     "name": "stderr",
     "output_type": "stream",
     "text": [
      "\n",
      "100%|█████████████████████████████████████████████████████████████████████████████████████████████████████████████| 5/5 [00:18<00:00,  3.80s/it]"
     ]
    },
    {
     "name": "stdout",
     "output_type": "stream",
     "text": [
      "DNN accuracy without repair operator: 0.0\n",
      "DNN accuracy with repair operator: 0.0\n",
      "MLP accuracy: 0.0\n",
      "MLP with edge features accuracy: 0.0\n"
     ]
    },
    {
     "name": "stderr",
     "output_type": "stream",
     "text": [
      "\n"
     ]
    }
   ],
   "source": [
    "SS = StandardScaler()\n",
    "num_qubits = 7\n",
    "count_or = 0\n",
    "count_nr = 0\n",
    "count_mlp = 0\n",
    "count_mlp_edge = 0\n",
    "original_depth, original_CNOT = [],[]\n",
    "mlp_edge_depth, mlp_edge_CNOT = [],[]\n",
    "dnn_without_ro_depth,dnn_without_ro_CNOT = [],[] \n",
    "dnn_with_ro_depth,dnn_with_ro_CNOT = [],[] \n",
    "mlp_depth, mlp_CNOT = [],[]\n",
    "for qc_i in tqdm(range(len(test_dataset[-5:]))):\n",
    "    qc = test_dataset[qc_i]\n",
    "    data = datetime.today() - timedelta(days=random.randint(1,150))\n",
    "    backends = ['ibm_lagos','ibm_perth','ibm_nairobi']\n",
    "    backend = backends[np.random.randint(0,3)]\n",
    "    l = add_line(qc,backend, optimization_level=3, refresh=True, show= False, datatime=data)\n",
    "    \n",
    "    d={}\n",
    "    for i in range(len(l[0])):\n",
    "        d[str(l[0][i])] = l[1][i]\n",
    "    df = pd.DataFrame(d, index=[0])\n",
    "    df = clear_dataset(df, 7)\n",
    "    last_num_qubits = len(df.columns)-num_qubits\n",
    "\n",
    "    x = SS.fit_transform(df.iloc[:, 2:last_num_qubits].values)\n",
    "    labels = ((df.iloc[:, last_num_qubits:].values)[0]).tolist()\n",
    "    \n",
    "    predicted = dnn.predict(x)\n",
    "    \n",
    "    pred_or = np.array(pred_layout(predicted, num_qubits))[0].tolist()\n",
    "    pred_nr = np.array(pred_layout_diff_elem(predicted,num_qubits))[0].tolist()\n",
    "    print(pred_or, pred_nr, labels)\n",
    "    if(pred_or == labels):\n",
    "        count_or = count_or + 1\n",
    "    if(pred_nr == labels):\n",
    "        count_nr = count_nr + 1\n",
    "    \n",
    "    mlp_pred = get_labels(np.reshape(mlp.predict(x),(7,7)))\n",
    "    print(mlp_pred)\n",
    "    if mlp_pred == labels:\n",
    "        count_mlp = count_mlp + 1\n",
    "        \n",
    "        \n",
    "    x = SS.fit_transform(get_graph_features(df))\n",
    "    mlp_edges_pred = get_labels(np.reshape(mlp_edge_feature.predict(x),(7,7)))\n",
    "    print(mlp_edges_pred)\n",
    "    if mlp_edges_pred == labels:\n",
    "        count_mlp_edge = count_mlp_edge + 1\n",
    "    \n",
    "    \n",
    "    # original circuit after unrolling\n",
    "    cx, depth = get_transpiled_circ_results(qc, backend, initial_layout=labels)\n",
    "    original_depth.append(depth)\n",
    "    original_CNOT.append(cx)\n",
    "    print(original_depth[-1],original_CNOT[-1])\n",
    "    # NN with edge features\n",
    "#     qc = test_dataset[qc_i]\n",
    "    if len(mlp_edges_pred) == len(set(mlp_edges_pred)):\n",
    "        cx, depth = get_transpiled_circ_results(qc, backend, initial_layout=mlp_edges_pred)\n",
    "        mlp_edge_depth.append(depth)\n",
    "        mlp_edge_CNOT.append(cx)\n",
    "    else:\n",
    "        mlp_edge_depth.append(float('NaN'))\n",
    "        mlp_edge_CNOT.append(float('NaN'))\n",
    "        \n",
    "    # NN without edge features\n",
    "    if len(mlp_pred) == len(set(mlp_pred)):\n",
    "        cx, depth = get_transpiled_circ_results(qc, backend, initial_layout=mlp_pred)\n",
    "        mlp_depth.append(depth)\n",
    "        mlp_CNOT.append(cx)\n",
    "    else:\n",
    "        mlp_depth.append(float('NaN'))\n",
    "        mlp_CNOT.append(float('NaN'))\n",
    "        \n",
    "    # DNN without repair operator\n",
    "    if len(pred_or) == len(set(pred_or)):\n",
    "        cx, depth = get_transpiled_circ_results(qc, backend, initial_layout=pred_or)\n",
    "        dnn_without_ro_depth.append(depth)\n",
    "        dnn_without_ro_CNOT.append(cx)\n",
    "    else:\n",
    "        dnn_without_ro_depth.append(float(\"NaN\"))\n",
    "        dnn_without_ro_CNOT.append(float(\"NaN\"))\n",
    "        \n",
    "    # DNN with RO\n",
    "    cx, depth = get_transpiled_circ_results(qc, backend, initial_layout=pred_nr)\n",
    "    dnn_with_ro_depth.append(depth)\n",
    "    dnn_with_ro_CNOT.append(cx)\n",
    "print(\"DNN accuracy without repair operator:\", count_or/len(test_dataset))\n",
    "print(\"DNN accuracy with repair operator:\", count_nr/len(test_dataset))\n",
    "print(\"MLP accuracy:\", count_mlp/len(test_dataset))\n",
    "print(\"MLP with edge features accuracy:\", count_mlp_edge/len(test_dataset))"
   ]
  },
  {
   "cell_type": "code",
   "execution_count": 18,
   "id": "12356080",
   "metadata": {},
   "outputs": [],
   "source": [
    "df = pd.DataFrame()\n",
    "df[\"Label Depth\"] = original_depth\n",
    "df[\"Label CNOTs\"] = original_CNOT\n",
    "\n",
    "df[\"NN without edge features Depth\"] = mlp_depth\n",
    "df[\"NN without edge features CNOTs\"] = mlp_CNOT\n",
    "\n",
    "df[\"NN with edge features Depth\"] = mlp_edge_depth\n",
    "df[\"NN with edge features CNOTs\"] = mlp_edge_CNOT\n",
    "\n",
    "df[\"DNN without repair Depth\"] = dnn_without_ro_depth\n",
    "df[\"DNN without repair CNOTs\"] = dnn_without_ro_CNOT\n",
    "\n",
    "df[\"DNN with repair Depth\"] = dnn_with_ro_depth\n",
    "df[\"DNN with repair CNOTs\"] = dnn_with_ro_CNOT"
   ]
  },
  {
   "cell_type": "code",
   "execution_count": 19,
   "id": "41188257",
   "metadata": {},
   "outputs": [
    {
     "data": {
      "text/html": [
       "<div>\n",
       "<style scoped>\n",
       "    .dataframe tbody tr th:only-of-type {\n",
       "        vertical-align: middle;\n",
       "    }\n",
       "\n",
       "    .dataframe tbody tr th {\n",
       "        vertical-align: top;\n",
       "    }\n",
       "\n",
       "    .dataframe thead th {\n",
       "        text-align: right;\n",
       "    }\n",
       "</style>\n",
       "<table border=\"1\" class=\"dataframe\">\n",
       "  <thead>\n",
       "    <tr style=\"text-align: right;\">\n",
       "      <th></th>\n",
       "      <th>Label Depth</th>\n",
       "      <th>Label CNOTs</th>\n",
       "      <th>NN without edge features Depth</th>\n",
       "      <th>NN without edge features CNOTs</th>\n",
       "      <th>NN with edge features Depth</th>\n",
       "      <th>NN with edge features CNOTs</th>\n",
       "      <th>DNN without repair Depth</th>\n",
       "      <th>DNN without repair CNOTs</th>\n",
       "      <th>DNN with repair Depth</th>\n",
       "      <th>DNN with repair CNOTs</th>\n",
       "    </tr>\n",
       "  </thead>\n",
       "  <tbody>\n",
       "    <tr>\n",
       "      <th>0</th>\n",
       "      <td>60</td>\n",
       "      <td>32</td>\n",
       "      <td>NaN</td>\n",
       "      <td>NaN</td>\n",
       "      <td>62</td>\n",
       "      <td>35</td>\n",
       "      <td>62</td>\n",
       "      <td>35</td>\n",
       "      <td>62</td>\n",
       "      <td>35</td>\n",
       "    </tr>\n",
       "    <tr>\n",
       "      <th>1</th>\n",
       "      <td>59</td>\n",
       "      <td>44</td>\n",
       "      <td>NaN</td>\n",
       "      <td>NaN</td>\n",
       "      <td>59</td>\n",
       "      <td>44</td>\n",
       "      <td>59</td>\n",
       "      <td>44</td>\n",
       "      <td>59</td>\n",
       "      <td>44</td>\n",
       "    </tr>\n",
       "    <tr>\n",
       "      <th>2</th>\n",
       "      <td>57</td>\n",
       "      <td>38</td>\n",
       "      <td>NaN</td>\n",
       "      <td>NaN</td>\n",
       "      <td>57</td>\n",
       "      <td>38</td>\n",
       "      <td>57</td>\n",
       "      <td>38</td>\n",
       "      <td>57</td>\n",
       "      <td>38</td>\n",
       "    </tr>\n",
       "    <tr>\n",
       "      <th>3</th>\n",
       "      <td>56</td>\n",
       "      <td>29</td>\n",
       "      <td>NaN</td>\n",
       "      <td>NaN</td>\n",
       "      <td>56</td>\n",
       "      <td>29</td>\n",
       "      <td>56</td>\n",
       "      <td>29</td>\n",
       "      <td>56</td>\n",
       "      <td>29</td>\n",
       "    </tr>\n",
       "    <tr>\n",
       "      <th>4</th>\n",
       "      <td>60</td>\n",
       "      <td>32</td>\n",
       "      <td>NaN</td>\n",
       "      <td>NaN</td>\n",
       "      <td>62</td>\n",
       "      <td>35</td>\n",
       "      <td>62</td>\n",
       "      <td>35</td>\n",
       "      <td>62</td>\n",
       "      <td>35</td>\n",
       "    </tr>\n",
       "  </tbody>\n",
       "</table>\n",
       "</div>"
      ],
      "text/plain": [
       "   Label Depth  Label CNOTs  NN without edge features Depth  \\\n",
       "0           60           32                             NaN   \n",
       "1           59           44                             NaN   \n",
       "2           57           38                             NaN   \n",
       "3           56           29                             NaN   \n",
       "4           60           32                             NaN   \n",
       "\n",
       "   NN without edge features CNOTs  NN with edge features Depth  \\\n",
       "0                             NaN                           62   \n",
       "1                             NaN                           59   \n",
       "2                             NaN                           57   \n",
       "3                             NaN                           56   \n",
       "4                             NaN                           62   \n",
       "\n",
       "   NN with edge features CNOTs  DNN without repair Depth  \\\n",
       "0                           35                        62   \n",
       "1                           44                        59   \n",
       "2                           38                        57   \n",
       "3                           29                        56   \n",
       "4                           35                        62   \n",
       "\n",
       "   DNN without repair CNOTs  DNN with repair Depth  DNN with repair CNOTs  \n",
       "0                        35                     62                     35  \n",
       "1                        44                     59                     44  \n",
       "2                        38                     57                     38  \n",
       "3                        29                     56                     29  \n",
       "4                        35                     62                     35  "
      ]
     },
     "execution_count": 19,
     "metadata": {},
     "output_type": "execute_result"
    }
   ],
   "source": [
    "df"
   ]
  },
  {
   "cell_type": "code",
   "execution_count": null,
   "id": "26470181",
   "metadata": {},
   "outputs": [],
   "source": []
  },
  {
   "cell_type": "code",
   "execution_count": null,
   "id": "2ec5c302",
   "metadata": {},
   "outputs": [],
   "source": []
  },
  {
   "cell_type": "code",
   "execution_count": 20,
   "id": "027ec637",
   "metadata": {},
   "outputs": [
    {
     "name": "stdout",
     "output_type": "stream",
     "text": [
      "(0, 1, 2, 3, 4, 5, 6) 110 78\n",
      "(0, 1, 2, 3, 4, 6, 5) 108 75\n",
      "(0, 1, 2, 3, 5, 4, 6) 115 78\n",
      "(0, 1, 2, 3, 5, 6, 4) 109 72\n",
      "(0, 1, 2, 3, 6, 4, 5) 103 69\n",
      "(0, 1, 2, 3, 6, 5, 4) 107 72\n",
      "(0, 1, 2, 4, 3, 5, 6) 105 75\n",
      "(0, 1, 2, 4, 3, 6, 5) 104 72\n",
      "(0, 1, 2, 4, 5, 3, 6) 111 69\n",
      "(0, 1, 2, 4, 5, 6, 3) 104 72\n",
      "(0, 1, 2, 4, 6, 3, 5) 105 72\n",
      "(0, 1, 2, 4, 6, 5, 3) 104 75\n",
      "(0, 1, 2, 5, 3, 4, 6) 104 69\n",
      "(0, 1, 2, 5, 3, 6, 4) 104 72\n",
      "(0, 1, 2, 5, 4, 3, 6) 111 69\n",
      "(0, 1, 2, 5, 4, 6, 3) 109 78\n",
      "(0, 1, 2, 5, 6, 3, 4) 106 75\n",
      "(0, 1, 2, 5, 6, 4, 3) 103 66\n",
      "(0, 1, 2, 6, 3, 4, 5) 109 78\n",
      "(0, 1, 2, 6, 3, 5, 4) 105 69\n"
     ]
    }
   ],
   "source": [
    "import itertools\n",
    "layouts = list(itertools.permutations([0,1,2,3,4,5,6]))\n",
    "qc = test_dataset[-8]\n",
    "basis_gats = basis_gate_dict['ibm_nairobi']\n",
    "pass_ = Unroller(basis_gats)\n",
    "pm = PassManager(pass_)\n",
    "backend = provider.get_backend('ibm_nairobi')\n",
    "for l in layouts[:20]:\n",
    "    tqc = transpile(qc, backend=backend,initial_layout=list(l), optimization_level=0)\n",
    "    tqc = pm.run(tqc)\n",
    "    \n",
    "    print(l,tqc.depth(),dict(tqc.count_ops())['cx'])"
   ]
  },
  {
   "cell_type": "code",
   "execution_count": null,
   "id": "ce034ad4",
   "metadata": {},
   "outputs": [],
   "source": []
  },
  {
   "cell_type": "code",
   "execution_count": null,
   "id": "e39e433d",
   "metadata": {},
   "outputs": [],
   "source": []
  },
  {
   "cell_type": "code",
   "execution_count": null,
   "id": "056bf359",
   "metadata": {},
   "outputs": [],
   "source": []
  },
  {
   "cell_type": "code",
   "execution_count": null,
   "id": "a51bf152",
   "metadata": {},
   "outputs": [],
   "source": []
  },
  {
   "cell_type": "code",
   "execution_count": null,
   "id": "d10eab9f",
   "metadata": {},
   "outputs": [],
   "source": []
  },
  {
   "cell_type": "code",
   "execution_count": null,
   "id": "45a8665f",
   "metadata": {},
   "outputs": [],
   "source": []
  },
  {
   "cell_type": "code",
   "execution_count": null,
   "id": "9064e7f5",
   "metadata": {},
   "outputs": [],
   "source": []
  },
  {
   "cell_type": "code",
   "execution_count": null,
   "id": "473fa237",
   "metadata": {},
   "outputs": [],
   "source": []
  },
  {
   "cell_type": "code",
   "execution_count": null,
   "id": "9f68a700",
   "metadata": {},
   "outputs": [],
   "source": []
  },
  {
   "cell_type": "code",
   "execution_count": null,
   "id": "347acab4",
   "metadata": {},
   "outputs": [],
   "source": []
  },
  {
   "cell_type": "code",
   "execution_count": null,
   "id": "9b100189",
   "metadata": {},
   "outputs": [],
   "source": []
  },
  {
   "cell_type": "code",
   "execution_count": null,
   "id": "922594da",
   "metadata": {},
   "outputs": [],
   "source": []
  },
  {
   "cell_type": "code",
   "execution_count": null,
   "id": "ee8e6ff7",
   "metadata": {},
   "outputs": [],
   "source": []
  }
 ],
 "metadata": {
  "kernelspec": {
   "display_name": "Python [conda env:dnn_for_qubit_mapping]",
   "language": "python",
   "name": "conda-env-dnn_for_qubit_mapping-py"
  },
  "language_info": {
   "codemirror_mode": {
    "name": "ipython",
    "version": 3
   },
   "file_extension": ".py",
   "mimetype": "text/x-python",
   "name": "python",
   "nbconvert_exporter": "python",
   "pygments_lexer": "ipython3",
   "version": "3.8.18"
  }
 },
 "nbformat": 4,
 "nbformat_minor": 5
}
