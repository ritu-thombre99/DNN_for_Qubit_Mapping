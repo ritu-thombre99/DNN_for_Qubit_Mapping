{
 "cells": [
  {
   "cell_type": "code",
   "execution_count": 1,
   "id": "975d5b27",
   "metadata": {},
   "outputs": [],
   "source": [
    "# pip install qiskit==0.31.0"
   ]
  },
  {
   "cell_type": "code",
   "execution_count": 2,
   "id": "7fe40edc",
   "metadata": {},
   "outputs": [
    {
     "name": "stderr",
     "output_type": "stream",
     "text": [
      "/home/ritu/anaconda3/envs/dnn_for_qubit_mapping/lib/python3.8/site-packages/qiskit/version.py:20: DeprecationWarning: pkg_resources is deprecated as an API. See https://setuptools.pypa.io/en/latest/pkg_resources.html\n",
      "  import pkg_resources\n"
     ]
    },
    {
     "name": "stdout",
     "output_type": "stream",
     "text": [
      "Generating QPE circuits\n"
     ]
    }
   ],
   "source": [
    "from get_test_datasets import return_dataset\n",
    "test_dataset = return_dataset()"
   ]
  },
  {
   "cell_type": "code",
   "execution_count": 3,
   "id": "07b19af1",
   "metadata": {},
   "outputs": [
    {
     "data": {
      "text/plain": [
       "400"
      ]
     },
     "execution_count": 3,
     "metadata": {},
     "output_type": "execute_result"
    }
   ],
   "source": [
    "len(test_dataset)"
   ]
  },
  {
   "cell_type": "code",
   "execution_count": 4,
   "id": "75c6fc50",
   "metadata": {},
   "outputs": [
    {
     "name": "stderr",
     "output_type": "stream",
     "text": [
      "Using TensorFlow backend.\n",
      "ibmqfactory.load_account:WARNING:2023-11-27 11:00:18,393: Credentials are already in use. The existing account in the session will be replaced.\n"
     ]
    },
    {
     "name": "stdout",
     "output_type": "stream",
     "text": [
      "{'ibm_lagos': [[0, 1], [1, 0], [1, 2], [1, 3], [2, 1], [3, 1], [3, 5], [4, 5], [5, 3], [5, 4], [5, 6], [6, 5]], 'ibm_nairobi': [[0, 1], [1, 0], [1, 2], [1, 3], [2, 1], [3, 1], [3, 5], [4, 5], [5, 3], [5, 4], [5, 6], [6, 5]], 'ibm_perth': [[0, 1], [1, 0], [1, 2], [1, 3], [2, 1], [3, 1], [3, 5], [4, 5], [5, 3], [5, 4], [5, 6], [6, 5]]}\n"
     ]
    }
   ],
   "source": [
    "import tensorflow as tf\n",
    "from tensorflow import keras\n",
    "\n",
    "from sklearn.preprocessing import StandardScaler, MinMaxScaler\n",
    "from helper import *"
   ]
  },
  {
   "cell_type": "code",
   "execution_count": 5,
   "id": "c6b20b7c",
   "metadata": {},
   "outputs": [
    {
     "name": "stderr",
     "output_type": "stream",
     "text": [
      "2023-11-27 11:00:21.664828: I tensorflow/stream_executor/platform/default/dso_loader.cc:44] Successfully opened dynamic library libcuda.so.1\n",
      "2023-11-27 11:00:21.710942: I tensorflow/stream_executor/cuda/cuda_gpu_executor.cc:981] successful NUMA node read from SysFS had negative value (-1), but there must be at least one NUMA node, so returning NUMA node zero\n",
      "2023-11-27 11:00:21.711287: I tensorflow/core/common_runtime/gpu/gpu_device.cc:1561] Found device 0 with properties: \n",
      "pciBusID: 0000:01:00.0 name: NVIDIA GeForce RTX 4090 computeCapability: 8.9\n",
      "coreClock: 2.595GHz coreCount: 128 deviceMemorySize: 23.64GiB deviceMemoryBandwidth: 938.86GiB/s\n",
      "2023-11-27 11:00:21.711621: W tensorflow/stream_executor/platform/default/dso_loader.cc:55] Could not load dynamic library 'libcudart.so.10.1'; dlerror: libcudart.so.10.1: cannot open shared object file: No such file or directory\n",
      "2023-11-27 11:00:21.711752: W tensorflow/stream_executor/platform/default/dso_loader.cc:55] Could not load dynamic library 'libcublas.so.10'; dlerror: libcublas.so.10: cannot open shared object file: No such file or directory\n",
      "2023-11-27 11:00:21.711860: W tensorflow/stream_executor/platform/default/dso_loader.cc:55] Could not load dynamic library 'libcufft.so.10'; dlerror: libcufft.so.10: cannot open shared object file: No such file or directory\n",
      "2023-11-27 11:00:21.711965: W tensorflow/stream_executor/platform/default/dso_loader.cc:55] Could not load dynamic library 'libcurand.so.10'; dlerror: libcurand.so.10: cannot open shared object file: No such file or directory\n",
      "2023-11-27 11:00:21.712070: W tensorflow/stream_executor/platform/default/dso_loader.cc:55] Could not load dynamic library 'libcusolver.so.10'; dlerror: libcusolver.so.10: cannot open shared object file: No such file or directory\n",
      "2023-11-27 11:00:21.712175: W tensorflow/stream_executor/platform/default/dso_loader.cc:55] Could not load dynamic library 'libcusparse.so.10'; dlerror: libcusparse.so.10: cannot open shared object file: No such file or directory\n",
      "2023-11-27 11:00:21.712283: W tensorflow/stream_executor/platform/default/dso_loader.cc:55] Could not load dynamic library 'libcudnn.so.7'; dlerror: libcudnn.so.7: cannot open shared object file: No such file or directory\n",
      "2023-11-27 11:00:21.712297: W tensorflow/core/common_runtime/gpu/gpu_device.cc:1598] Cannot dlopen some GPU libraries. Please make sure the missing libraries mentioned above are installed properly if you would like to use GPU. Follow the guide at https://www.tensorflow.org/install/gpu for how to download and setup the required libraries for your platform.\n",
      "Skipping registering GPU devices...\n",
      "2023-11-27 11:00:21.714235: I tensorflow/core/platform/cpu_feature_guard.cc:143] Your CPU supports instructions that this TensorFlow binary was not compiled to use: AVX2 FMA\n",
      "2023-11-27 11:00:21.728537: I tensorflow/core/platform/profile_utils/cpu_utils.cc:102] CPU Frequency: 3609600000 Hz\n",
      "2023-11-27 11:00:21.730455: I tensorflow/compiler/xla/service/service.cc:168] XLA service 0x7f520c000b70 initialized for platform Host (this does not guarantee that XLA will be used). Devices:\n",
      "2023-11-27 11:00:21.730487: I tensorflow/compiler/xla/service/service.cc:176]   StreamExecutor device (0): Host, Default Version\n",
      "2023-11-27 11:00:21.732163: I tensorflow/core/common_runtime/gpu/gpu_device.cc:1102] Device interconnect StreamExecutor with strength 1 edge matrix:\n",
      "2023-11-27 11:00:21.732173: I tensorflow/core/common_runtime/gpu/gpu_device.cc:1108]      \n"
     ]
    }
   ],
   "source": [
    "mlp_edge_feature = tf.keras.models.load_model(\"models/mlp_edge_features.keras\")\n",
    "dnn = tf.keras.models.load_model(\"models/dnn.keras\")\n",
    "mlp = tf.keras.models.load_model(\"models/mlp.keras\")"
   ]
  },
  {
   "cell_type": "code",
   "execution_count": 6,
   "id": "5ce11605",
   "metadata": {},
   "outputs": [],
   "source": [
    "basis_gate_dict = {}\n",
    "provider = IBMQ.get_provider(hub='ibm-q')\n",
    "provider.backends(simulator=False)\n",
    "backends = ['ibm_lagos','ibm_perth','ibm_nairobi']\n",
    "for backend_name in backends:\n",
    "    backend = provider.get_backend(backend_name)\n",
    "    basis_gats = backend.configuration().basis_gates\n",
    "    basis_gate_dict[backend_name] = basis_gats\n"
   ]
  },
  {
   "cell_type": "code",
   "execution_count": 7,
   "id": "582c8840",
   "metadata": {},
   "outputs": [],
   "source": [
    "def get_transpiled_circ_results(qc, backend, initial_layout):\n",
    "    basis_gats = basis_gate_dict[backend]\n",
    "    pass_ = Unroller(basis_gats)\n",
    "    pm = PassManager(pass_)\n",
    "    backend = provider.get_backend(backend)\n",
    "    \n",
    "    tqc = transpile(qc, backend=backend,initial_layout=initial_layout, optimization_level=0,seed_transpiler=13)\n",
    "    tqc = pm.run(tqc)\n",
    "    gates = dict(tqc.count_ops())\n",
    "    return gates['cx'], tqc.depth()\n"
   ]
  },
  {
   "cell_type": "code",
   "execution_count": null,
   "id": "4d99880d",
   "metadata": {},
   "outputs": [],
   "source": []
  },
  {
   "cell_type": "code",
   "execution_count": 46,
   "id": "ee8dcb7a",
   "metadata": {
    "scrolled": true
   },
   "outputs": [
    {
     "name": "stderr",
     "output_type": "stream",
     "text": [
      "\r",
      "  0%|                                                                                                                                                            | 0/5 [00:00<?, ?it/s]"
     ]
    },
    {
     "name": "stdout",
     "output_type": "stream",
     "text": [
      "2023-10-09 12:15:08.683877\n",
      "Backend topology: 2023-10-09 12:15:08.683877\n",
      "<qiskit.providers.models.backendproperties.BackendProperties object at 0x7f529b0e50d0>\n",
      "Depth: [92, 92, 78, 78, 78, 78]\n",
      "not na\n"
     ]
    },
    {
     "data": {
      "text/html": [
       "<div>\n",
       "<style scoped>\n",
       "    .dataframe tbody tr th:only-of-type {\n",
       "        vertical-align: middle;\n",
       "    }\n",
       "\n",
       "    .dataframe tbody tr th {\n",
       "        vertical-align: top;\n",
       "    }\n",
       "\n",
       "    .dataframe thead th {\n",
       "        text-align: right;\n",
       "    }\n",
       "</style>\n",
       "<table border=\"1\" class=\"dataframe\">\n",
       "  <thead>\n",
       "    <tr style=\"text-align: right;\">\n",
       "      <th></th>\n",
       "      <th>last_update_date</th>\n",
       "      <th>backend_name</th>\n",
       "      <th>N_qubtis</th>\n",
       "      <th>N_cx</th>\n",
       "      <th>cx_01</th>\n",
       "      <th>cx_02</th>\n",
       "      <th>cx_03</th>\n",
       "      <th>cx_04</th>\n",
       "      <th>cx_05</th>\n",
       "      <th>cx_06</th>\n",
       "      <th>...</th>\n",
       "      <th>T1_6</th>\n",
       "      <th>T2_6</th>\n",
       "      <th>readout_error_6</th>\n",
       "      <th>0</th>\n",
       "      <th>1</th>\n",
       "      <th>2</th>\n",
       "      <th>3</th>\n",
       "      <th>4</th>\n",
       "      <th>5</th>\n",
       "      <th>6</th>\n",
       "    </tr>\n",
       "  </thead>\n",
       "  <tbody>\n",
       "    <tr>\n",
       "      <th>0</th>\n",
       "      <td>2023-10-09 11:39:03-07:00</td>\n",
       "      <td>ibm_perth</td>\n",
       "      <td>7</td>\n",
       "      <td>35</td>\n",
       "      <td>8</td>\n",
       "      <td>0</td>\n",
       "      <td>0</td>\n",
       "      <td>0</td>\n",
       "      <td>0</td>\n",
       "      <td>0</td>\n",
       "      <td>...</td>\n",
       "      <td>137.417059</td>\n",
       "      <td>216.542708</td>\n",
       "      <td>0.0112</td>\n",
       "      <td>0</td>\n",
       "      <td>1</td>\n",
       "      <td>2</td>\n",
       "      <td>3</td>\n",
       "      <td>4</td>\n",
       "      <td>5</td>\n",
       "      <td>6</td>\n",
       "    </tr>\n",
       "  </tbody>\n",
       "</table>\n",
       "<p>1 rows × 98 columns</p>\n",
       "</div>"
      ],
      "text/plain": [
       "           last_update_date backend_name  N_qubtis  N_cx  cx_01  cx_02  cx_03  \\\n",
       "0 2023-10-09 11:39:03-07:00    ibm_perth         7    35      8      0      0   \n",
       "\n",
       "   cx_04  cx_05  cx_06  ...        T1_6        T2_6  readout_error_6  0  1  2  \\\n",
       "0      0      0      0  ...  137.417059  216.542708           0.0112  0  1  2   \n",
       "\n",
       "   3  4  5  6  \n",
       "0  3  4  5  6  \n",
       "\n",
       "[1 rows x 98 columns]"
      ]
     },
     "metadata": {},
     "output_type": "display_data"
    },
    {
     "name": "stdout",
     "output_type": "stream",
     "text": [
      "[2, 1, 0, 3, 4, 5, 6] [2, 1, 0, 3, 4, 5, 6] [0, 1, 2, 3, 4, 5, 6]\n",
      "[6, 1, 4, 3, 4, 5, 6]\n"
     ]
    },
    {
     "name": "stderr",
     "output_type": "stream",
     "text": [
      "\n",
      "100%|███████████████████████████████████████████████████████████████████████████████████████████████████████████████████████████████████████████████████| 1/1 [00:00<00:00, 344.30it/s]\u001b[A\n",
      " 20%|█████████████████████████████▌                                                                                                                      | 1/5 [00:02<00:11,  2.99s/it]"
     ]
    },
    {
     "name": "stdout",
     "output_type": "stream",
     "text": [
      "[2, 1, 0, 3, 4, 5, 6]\n",
      "60 32\n",
      "2023-07-07 12:15:11.675377\n",
      "Backend topology: 2023-07-07 12:15:11.675377\n",
      "<qiskit.providers.models.backendproperties.BackendProperties object at 0x7f529412cdf0>\n",
      "Depth: [182, 182, 90, 90, 94, 94]\n",
      "not na\n"
     ]
    },
    {
     "data": {
      "text/html": [
       "<div>\n",
       "<style scoped>\n",
       "    .dataframe tbody tr th:only-of-type {\n",
       "        vertical-align: middle;\n",
       "    }\n",
       "\n",
       "    .dataframe tbody tr th {\n",
       "        vertical-align: top;\n",
       "    }\n",
       "\n",
       "    .dataframe thead th {\n",
       "        text-align: right;\n",
       "    }\n",
       "</style>\n",
       "<table border=\"1\" class=\"dataframe\">\n",
       "  <thead>\n",
       "    <tr style=\"text-align: right;\">\n",
       "      <th></th>\n",
       "      <th>last_update_date</th>\n",
       "      <th>backend_name</th>\n",
       "      <th>N_qubtis</th>\n",
       "      <th>N_cx</th>\n",
       "      <th>cx_01</th>\n",
       "      <th>cx_02</th>\n",
       "      <th>cx_03</th>\n",
       "      <th>cx_04</th>\n",
       "      <th>cx_05</th>\n",
       "      <th>cx_06</th>\n",
       "      <th>...</th>\n",
       "      <th>T1_6</th>\n",
       "      <th>T2_6</th>\n",
       "      <th>readout_error_6</th>\n",
       "      <th>0</th>\n",
       "      <th>1</th>\n",
       "      <th>2</th>\n",
       "      <th>3</th>\n",
       "      <th>4</th>\n",
       "      <th>5</th>\n",
       "      <th>6</th>\n",
       "    </tr>\n",
       "  </thead>\n",
       "  <tbody>\n",
       "    <tr>\n",
       "      <th>0</th>\n",
       "      <td>2023-07-07 10:42:22-07:00</td>\n",
       "      <td>ibm_lagos</td>\n",
       "      <td>7</td>\n",
       "      <td>44</td>\n",
       "      <td>0</td>\n",
       "      <td>0</td>\n",
       "      <td>0</td>\n",
       "      <td>0</td>\n",
       "      <td>0</td>\n",
       "      <td>0</td>\n",
       "      <td>...</td>\n",
       "      <td>181.749233</td>\n",
       "      <td>116.403708</td>\n",
       "      <td>0.0159</td>\n",
       "      <td>0</td>\n",
       "      <td>1</td>\n",
       "      <td>2</td>\n",
       "      <td>3</td>\n",
       "      <td>4</td>\n",
       "      <td>5</td>\n",
       "      <td>6</td>\n",
       "    </tr>\n",
       "  </tbody>\n",
       "</table>\n",
       "<p>1 rows × 98 columns</p>\n",
       "</div>"
      ],
      "text/plain": [
       "           last_update_date backend_name  N_qubtis  N_cx  cx_01  cx_02  cx_03  \\\n",
       "0 2023-07-07 10:42:22-07:00    ibm_lagos         7    44      0      0      0   \n",
       "\n",
       "   cx_04  cx_05  cx_06  ...        T1_6        T2_6  readout_error_6  0  1  2  \\\n",
       "0      0      0      0  ...  181.749233  116.403708           0.0159  0  1  2   \n",
       "\n",
       "   3  4  5  6  \n",
       "0  3  4  5  6  \n",
       "\n",
       "[1 rows x 98 columns]"
      ]
     },
     "metadata": {},
     "output_type": "display_data"
    },
    {
     "name": "stdout",
     "output_type": "stream",
     "text": [
      "[2, 1, 0, 3, 4, 5, 6] [2, 1, 0, 3, 4, 5, 6] [0, 1, 2, 3, 4, 5, 6]\n",
      "[6, 1, 4, 3, 4, 5, 6]\n"
     ]
    },
    {
     "name": "stderr",
     "output_type": "stream",
     "text": [
      "\n",
      "100%|███████████████████████████████████████████████████████████████████████████████████████████████████████████████████████████████████████████████████| 1/1 [00:00<00:00, 358.95it/s]\u001b[A\n",
      " 40%|███████████████████████████████████████████████████████████▏                                                                                        | 2/5 [00:07<00:11,  3.68s/it]"
     ]
    },
    {
     "name": "stdout",
     "output_type": "stream",
     "text": [
      "[2, 1, 0, 3, 4, 5, 6]\n",
      "59 44\n",
      "2023-08-27 12:15:15.839788\n",
      "Backend topology: 2023-08-27 12:15:15.839788\n",
      "<qiskit.providers.models.backendproperties.BackendProperties object at 0x7f529407ff40>\n",
      "Depth: [124, 124, 82, 82, 82, 82]\n",
      "not na\n"
     ]
    },
    {
     "data": {
      "text/html": [
       "<div>\n",
       "<style scoped>\n",
       "    .dataframe tbody tr th:only-of-type {\n",
       "        vertical-align: middle;\n",
       "    }\n",
       "\n",
       "    .dataframe tbody tr th {\n",
       "        vertical-align: top;\n",
       "    }\n",
       "\n",
       "    .dataframe thead th {\n",
       "        text-align: right;\n",
       "    }\n",
       "</style>\n",
       "<table border=\"1\" class=\"dataframe\">\n",
       "  <thead>\n",
       "    <tr style=\"text-align: right;\">\n",
       "      <th></th>\n",
       "      <th>last_update_date</th>\n",
       "      <th>backend_name</th>\n",
       "      <th>N_qubtis</th>\n",
       "      <th>N_cx</th>\n",
       "      <th>cx_01</th>\n",
       "      <th>cx_02</th>\n",
       "      <th>cx_03</th>\n",
       "      <th>cx_04</th>\n",
       "      <th>cx_05</th>\n",
       "      <th>cx_06</th>\n",
       "      <th>...</th>\n",
       "      <th>T1_6</th>\n",
       "      <th>T2_6</th>\n",
       "      <th>readout_error_6</th>\n",
       "      <th>0</th>\n",
       "      <th>1</th>\n",
       "      <th>2</th>\n",
       "      <th>3</th>\n",
       "      <th>4</th>\n",
       "      <th>5</th>\n",
       "      <th>6</th>\n",
       "    </tr>\n",
       "  </thead>\n",
       "  <tbody>\n",
       "    <tr>\n",
       "      <th>0</th>\n",
       "      <td>2023-08-27 12:10:31-07:00</td>\n",
       "      <td>ibm_perth</td>\n",
       "      <td>7</td>\n",
       "      <td>38</td>\n",
       "      <td>0</td>\n",
       "      <td>0</td>\n",
       "      <td>0</td>\n",
       "      <td>0</td>\n",
       "      <td>0</td>\n",
       "      <td>0</td>\n",
       "      <td>...</td>\n",
       "      <td>97.780636</td>\n",
       "      <td>288.278561</td>\n",
       "      <td>0.0097</td>\n",
       "      <td>0</td>\n",
       "      <td>1</td>\n",
       "      <td>2</td>\n",
       "      <td>3</td>\n",
       "      <td>4</td>\n",
       "      <td>5</td>\n",
       "      <td>6</td>\n",
       "    </tr>\n",
       "  </tbody>\n",
       "</table>\n",
       "<p>1 rows × 98 columns</p>\n",
       "</div>"
      ],
      "text/plain": [
       "           last_update_date backend_name  N_qubtis  N_cx  cx_01  cx_02  cx_03  \\\n",
       "0 2023-08-27 12:10:31-07:00    ibm_perth         7    38      0      0      0   \n",
       "\n",
       "   cx_04  cx_05  cx_06  ...       T1_6        T2_6  readout_error_6  0  1  2  \\\n",
       "0      0      0      0  ...  97.780636  288.278561           0.0097  0  1  2   \n",
       "\n",
       "   3  4  5  6  \n",
       "0  3  4  5  6  \n",
       "\n",
       "[1 rows x 98 columns]"
      ]
     },
     "metadata": {},
     "output_type": "display_data"
    },
    {
     "name": "stdout",
     "output_type": "stream",
     "text": [
      "[2, 1, 0, 3, 4, 5, 6] [2, 1, 0, 3, 4, 5, 6] [0, 1, 2, 3, 4, 5, 6]\n",
      "[6, 1, 4, 3, 4, 5, 6]\n"
     ]
    },
    {
     "name": "stderr",
     "output_type": "stream",
     "text": [
      "\n",
      "100%|███████████████████████████████████████████████████████████████████████████████████████████████████████████████████████████████████████████████████| 1/1 [00:00<00:00, 554.66it/s]\u001b[A\n",
      " 60%|████████████████████████████████████████████████████████████████████████████████████████▊                                                           | 3/5 [00:15<00:11,  5.66s/it]"
     ]
    },
    {
     "name": "stdout",
     "output_type": "stream",
     "text": [
      "[2, 1, 0, 3, 4, 5, 6]\n",
      "57 38\n",
      "2023-11-03 12:15:23.854522\n",
      "Backend topology: 2023-11-03 12:15:23.854522\n",
      "<qiskit.providers.models.backendproperties.BackendProperties object at 0x7f52911eda90>\n",
      "Depth: [120, 120, 76, 76, 80, 80]\n",
      "not na\n"
     ]
    },
    {
     "data": {
      "text/html": [
       "<div>\n",
       "<style scoped>\n",
       "    .dataframe tbody tr th:only-of-type {\n",
       "        vertical-align: middle;\n",
       "    }\n",
       "\n",
       "    .dataframe tbody tr th {\n",
       "        vertical-align: top;\n",
       "    }\n",
       "\n",
       "    .dataframe thead th {\n",
       "        text-align: right;\n",
       "    }\n",
       "</style>\n",
       "<table border=\"1\" class=\"dataframe\">\n",
       "  <thead>\n",
       "    <tr style=\"text-align: right;\">\n",
       "      <th></th>\n",
       "      <th>last_update_date</th>\n",
       "      <th>backend_name</th>\n",
       "      <th>N_qubtis</th>\n",
       "      <th>N_cx</th>\n",
       "      <th>cx_01</th>\n",
       "      <th>cx_02</th>\n",
       "      <th>cx_03</th>\n",
       "      <th>cx_04</th>\n",
       "      <th>cx_05</th>\n",
       "      <th>cx_06</th>\n",
       "      <th>...</th>\n",
       "      <th>T1_6</th>\n",
       "      <th>T2_6</th>\n",
       "      <th>readout_error_6</th>\n",
       "      <th>0</th>\n",
       "      <th>1</th>\n",
       "      <th>2</th>\n",
       "      <th>3</th>\n",
       "      <th>4</th>\n",
       "      <th>5</th>\n",
       "      <th>6</th>\n",
       "    </tr>\n",
       "  </thead>\n",
       "  <tbody>\n",
       "    <tr>\n",
       "      <th>0</th>\n",
       "      <td>2023-11-03 10:10:06-07:00</td>\n",
       "      <td>ibm_perth</td>\n",
       "      <td>7</td>\n",
       "      <td>35</td>\n",
       "      <td>0</td>\n",
       "      <td>0</td>\n",
       "      <td>0</td>\n",
       "      <td>0</td>\n",
       "      <td>0</td>\n",
       "      <td>0</td>\n",
       "      <td>...</td>\n",
       "      <td>188.137705</td>\n",
       "      <td>259.427085</td>\n",
       "      <td>0.0131</td>\n",
       "      <td>0</td>\n",
       "      <td>1</td>\n",
       "      <td>2</td>\n",
       "      <td>3</td>\n",
       "      <td>4</td>\n",
       "      <td>5</td>\n",
       "      <td>6</td>\n",
       "    </tr>\n",
       "  </tbody>\n",
       "</table>\n",
       "<p>1 rows × 98 columns</p>\n",
       "</div>"
      ],
      "text/plain": [
       "           last_update_date backend_name  N_qubtis  N_cx  cx_01  cx_02  cx_03  \\\n",
       "0 2023-11-03 10:10:06-07:00    ibm_perth         7    35      0      0      0   \n",
       "\n",
       "   cx_04  cx_05  cx_06  ...        T1_6        T2_6  readout_error_6  0  1  2  \\\n",
       "0      0      0      0  ...  188.137705  259.427085           0.0131  0  1  2   \n",
       "\n",
       "   3  4  5  6  \n",
       "0  3  4  5  6  \n",
       "\n",
       "[1 rows x 98 columns]"
      ]
     },
     "metadata": {},
     "output_type": "display_data"
    },
    {
     "name": "stdout",
     "output_type": "stream",
     "text": [
      "[2, 1, 0, 3, 4, 5, 6] [2, 1, 0, 3, 4, 5, 6] [0, 1, 2, 3, 4, 5, 6]\n",
      "[6, 1, 4, 3, 4, 5, 6]\n"
     ]
    },
    {
     "name": "stderr",
     "output_type": "stream",
     "text": [
      "\n",
      "100%|███████████████████████████████████████████████████████████████████████████████████████████████████████████████████████████████████████████████████| 1/1 [00:00<00:00, 521.42it/s]\u001b[A\n",
      " 80%|██████████████████████████████████████████████████████████████████████████████████████████████████████████████████████▍                             | 4/5 [00:16<00:04,  4.13s/it]"
     ]
    },
    {
     "name": "stdout",
     "output_type": "stream",
     "text": [
      "[2, 1, 0, 3, 4, 5, 6]\n",
      "56 29\n",
      "2023-09-12 12:15:25.646809\n",
      "Backend topology: 2023-09-12 12:15:25.646809\n",
      "<qiskit.providers.models.backendproperties.BackendProperties object at 0x7f5290c75d00>\n",
      "Depth: [110, 110, 80, 80, 80, 80]\n",
      "not na\n"
     ]
    },
    {
     "data": {
      "text/html": [
       "<div>\n",
       "<style scoped>\n",
       "    .dataframe tbody tr th:only-of-type {\n",
       "        vertical-align: middle;\n",
       "    }\n",
       "\n",
       "    .dataframe tbody tr th {\n",
       "        vertical-align: top;\n",
       "    }\n",
       "\n",
       "    .dataframe thead th {\n",
       "        text-align: right;\n",
       "    }\n",
       "</style>\n",
       "<table border=\"1\" class=\"dataframe\">\n",
       "  <thead>\n",
       "    <tr style=\"text-align: right;\">\n",
       "      <th></th>\n",
       "      <th>last_update_date</th>\n",
       "      <th>backend_name</th>\n",
       "      <th>N_qubtis</th>\n",
       "      <th>N_cx</th>\n",
       "      <th>cx_01</th>\n",
       "      <th>cx_02</th>\n",
       "      <th>cx_03</th>\n",
       "      <th>cx_04</th>\n",
       "      <th>cx_05</th>\n",
       "      <th>cx_06</th>\n",
       "      <th>...</th>\n",
       "      <th>T1_6</th>\n",
       "      <th>T2_6</th>\n",
       "      <th>readout_error_6</th>\n",
       "      <th>0</th>\n",
       "      <th>1</th>\n",
       "      <th>2</th>\n",
       "      <th>3</th>\n",
       "      <th>4</th>\n",
       "      <th>5</th>\n",
       "      <th>6</th>\n",
       "    </tr>\n",
       "  </thead>\n",
       "  <tbody>\n",
       "    <tr>\n",
       "      <th>0</th>\n",
       "      <td>2023-09-12 11:00:34-07:00</td>\n",
       "      <td>ibm_perth</td>\n",
       "      <td>7</td>\n",
       "      <td>32</td>\n",
       "      <td>4</td>\n",
       "      <td>0</td>\n",
       "      <td>0</td>\n",
       "      <td>0</td>\n",
       "      <td>0</td>\n",
       "      <td>0</td>\n",
       "      <td>...</td>\n",
       "      <td>248.836281</td>\n",
       "      <td>213.623966</td>\n",
       "      <td>0.0129</td>\n",
       "      <td>0</td>\n",
       "      <td>1</td>\n",
       "      <td>2</td>\n",
       "      <td>3</td>\n",
       "      <td>4</td>\n",
       "      <td>5</td>\n",
       "      <td>6</td>\n",
       "    </tr>\n",
       "  </tbody>\n",
       "</table>\n",
       "<p>1 rows × 98 columns</p>\n",
       "</div>"
      ],
      "text/plain": [
       "           last_update_date backend_name  N_qubtis  N_cx  cx_01  cx_02  cx_03  \\\n",
       "0 2023-09-12 11:00:34-07:00    ibm_perth         7    32      4      0      0   \n",
       "\n",
       "   cx_04  cx_05  cx_06  ...        T1_6        T2_6  readout_error_6  0  1  2  \\\n",
       "0      0      0      0  ...  248.836281  213.623966           0.0129  0  1  2   \n",
       "\n",
       "   3  4  5  6  \n",
       "0  3  4  5  6  \n",
       "\n",
       "[1 rows x 98 columns]"
      ]
     },
     "metadata": {},
     "output_type": "display_data"
    },
    {
     "name": "stdout",
     "output_type": "stream",
     "text": [
      "[2, 1, 0, 3, 4, 5, 6] [2, 1, 0, 3, 4, 5, 6] [0, 1, 2, 3, 4, 5, 6]\n",
      "[6, 1, 4, 3, 4, 5, 6]\n"
     ]
    },
    {
     "name": "stderr",
     "output_type": "stream",
     "text": [
      "\n",
      "100%|███████████████████████████████████████████████████████████████████████████████████████████████████████████████████████████████████████████████████| 1/1 [00:00<00:00, 329.53it/s]\u001b[A\n",
      "100%|████████████████████████████████████████████████████████████████████████████████████████████████████████████████████████████████████████████████████| 5/5 [00:18<00:00,  3.76s/it]"
     ]
    },
    {
     "name": "stdout",
     "output_type": "stream",
     "text": [
      "[2, 1, 0, 3, 4, 5, 6]\n",
      "60 32\n",
      "DNN accuracy without repair operator: 0.0\n",
      "DNN accuracy with repair operator: 0.0\n",
      "MLP accuracy: 0.0\n",
      "MLP with edge features accuracy: 0.0\n"
     ]
    },
    {
     "name": "stderr",
     "output_type": "stream",
     "text": [
      "\n"
     ]
    }
   ],
   "source": [
    "SS = StandardScaler()\n",
    "num_qubits = 7\n",
    "count_or = 0\n",
    "count_nr = 0\n",
    "count_mlp = 0\n",
    "count_mlp_edge = 0\n",
    "original_depth, original_CNOT = [],[]\n",
    "mlp_edge_depth, mlp_edge_CNOT = [],[]\n",
    "dnn_without_ro_depth,dnn_without_ro_CNOT = [],[] \n",
    "dnn_with_ro_depth,dnn_with_ro_CNOT = [],[] \n",
    "mlp_depth, mlp_CNOT = [],[]\n",
    "\n",
    "dnn_time = []\n",
    "mlp_time = []\n",
    "mlp_edge_time = []\n",
    "sabre_time,na_time,dense_time = [],[],[]\n",
    "for qc_i in tqdm(range(len(test_dataset[-5:]))):\n",
    "    qc = test_dataset[qc_i]\n",
    "    data = datetime.today() - timedelta(days=random.randint(1,150))\n",
    "    backends = ['ibm_lagos','ibm_perth','ibm_nairobi']\n",
    "    backend = backends[np.random.randint(0,3)]\n",
    "    l = add_line(qc,backend, optimization_level=3, refresh=True, show= False, datatime=data)\n",
    "    \n",
    "    d={}\n",
    "    for i in range(len(l[0])):\n",
    "        d[str(l[0][i])] = l[1][i]\n",
    "    df = pd.DataFrame(d, index=[0])\n",
    "    df = clear_dataset(df, 7)\n",
    "    last_num_qubits = len(df.columns)-num_qubits\n",
    "    labels = ((df.iloc[:, last_num_qubits:].values)[0]).tolist()\n",
    "    \n",
    "#     time_taken_to_get_df = get_df_time(qc,backend,data)\n",
    "#     print(\"Preprocess time:\",time_taken_to_get_df)\n",
    "    time_taken_to_get_df = 0\n",
    "    \n",
    "    start = time.time()\n",
    "    x = SS.fit_transform(df.iloc[:, 2:last_num_qubits].values)\n",
    "    predicted = dnn.predict(x)\n",
    "    pred_or = np.array(pred_layout(predicted, num_qubits))[0].tolist()\n",
    "    pred_nr = np.array(pred_layout_diff_elem(predicted,num_qubits))[0].tolist()\n",
    "    end = time.time()\n",
    "    dnn_time.append(time_taken_to_get_df + (end-start))\n",
    "    \n",
    "    print(pred_or, pred_nr, labels)\n",
    "    if(pred_or == labels):\n",
    "        count_or = count_or + 1\n",
    "    if(pred_nr == labels):\n",
    "        count_nr = count_nr + 1\n",
    "    \n",
    "    start = time.time()\n",
    "    mlp_pred = get_labels(np.reshape(mlp.predict(x),(7,7)))\n",
    "    end = time.time()\n",
    "    mlp_time.append(time_taken_to_get_df + (end-start))\n",
    "    print(mlp_pred)\n",
    "    if mlp_pred == labels:\n",
    "        count_mlp = count_mlp + 1\n",
    "        \n",
    "    start = time.time()\n",
    "    x = SS.fit_transform(get_graph_features(df))\n",
    "    mlp_edges_pred = get_labels(np.reshape(mlp_edge_feature.predict(x),(7,7)))\n",
    "    end = time.time()\n",
    "    mlp_edge_time.append(time_taken_to_get_df + (end-start))\n",
    "    print(mlp_edges_pred)\n",
    "    if mlp_edges_pred == labels:\n",
    "        count_mlp_edge = count_mlp_edge + 1\n",
    "    \n",
    "    \n",
    "    # original circuit after unrolling\n",
    "    cx, depth = get_transpiled_circ_results(qc, backend, initial_layout=labels)\n",
    "    original_depth.append(depth)\n",
    "    original_CNOT.append(cx)\n",
    "    print(original_depth[-1],original_CNOT[-1])\n",
    "    # NN with edge features\n",
    "    if len(mlp_edges_pred) == len(set(mlp_edges_pred)):\n",
    "        cx, depth = get_transpiled_circ_results(qc, backend, initial_layout=mlp_edges_pred)\n",
    "        mlp_edge_depth.append(depth)\n",
    "        mlp_edge_CNOT.append(cx)\n",
    "    else:\n",
    "        mlp_edge_depth.append(float('NaN'))\n",
    "        mlp_edge_CNOT.append(float('NaN'))\n",
    "        \n",
    "    # NN without edge features\n",
    "    if len(mlp_pred) == len(set(mlp_pred)):\n",
    "        cx, depth = get_transpiled_circ_results(qc, backend, initial_layout=mlp_pred)\n",
    "        mlp_depth.append(depth)\n",
    "        mlp_CNOT.append(cx)\n",
    "    else:\n",
    "        mlp_depth.append(float('NaN'))\n",
    "        mlp_CNOT.append(float('NaN'))\n",
    "        \n",
    "    # DNN without repair operator\n",
    "    if len(pred_or) == len(set(pred_or)):\n",
    "        cx, depth = get_transpiled_circ_results(qc, backend, initial_layout=pred_or)\n",
    "        dnn_without_ro_depth.append(depth)\n",
    "        dnn_without_ro_CNOT.append(cx)\n",
    "    else:\n",
    "        dnn_without_ro_depth.append(float(\"NaN\"))\n",
    "        dnn_without_ro_CNOT.append(float(\"NaN\"))\n",
    "        \n",
    "    # DNN with RO\n",
    "    cx, depth = get_transpiled_circ_results(qc, backend, initial_layout=pred_nr)\n",
    "    dnn_with_ro_depth.append(depth)\n",
    "    dnn_with_ro_CNOT.append(cx)\n",
    "    \n",
    "#     # execution times\n",
    "    basis_gats = basis_gate_dict[backend]\n",
    "    pass_ = Unroller(basis_gats)\n",
    "    pm = PassManager(pass_)\n",
    "    backend = provider.get_backend(backend)\n",
    "    tqc = transpile(qc, backend=backend, optimization_level=0)\n",
    "    tqc = pm.run(tqc)\n",
    "    # noise adaptive time\n",
    "    start = time.time()\n",
    "    new_circ_lv3_na = transpile(tqc, backend=backend, optimization_level=0,layout_method='noise_adaptive')\n",
    "    new_circ_lv3_na._layout.get_physical_bits()\n",
    "    end = time.time()\n",
    "    na_time.append(end-start)\n",
    "    #  sabre time\n",
    "    start = time.time()\n",
    "    new_circ_lv3_sabre = transpile(tqc, backend=backend, optimization_level=0,layout_method='sabre',routing_method='sabre')\n",
    "    new_circ_lv3_sabre._layout.get_physical_bits()\n",
    "    end = time.time()\n",
    "    sabre_time.append(end-start)\n",
    "    # dense time\n",
    "    start = time.time()\n",
    "    new_circ_lv3_dense = transpile(tqc, backend=backend, optimization_level=0)\n",
    "    new_circ_lv3_dense._layout.get_physical_bits()\n",
    "    end = time.time()\n",
    "    dense_time.append(end-start)\n",
    "    \n",
    "\n",
    "print(\"DNN accuracy without repair operator:\", count_or/len(test_dataset))\n",
    "print(\"DNN accuracy with repair operator:\", count_nr/len(test_dataset))\n",
    "print(\"MLP accuracy:\", count_mlp/len(test_dataset))\n",
    "print(\"MLP with edge features accuracy:\", count_mlp_edge/len(test_dataset))"
   ]
  },
  {
   "cell_type": "code",
   "execution_count": 20,
   "id": "12356080",
   "metadata": {},
   "outputs": [],
   "source": [
    "df = pd.DataFrame()\n",
    "df[\"Label Depth\"] = original_depth\n",
    "df[\"Label CNOTs\"] = original_CNOT\n",
    "\n",
    "df[\"NN without edge features Depth\"] = mlp_depth\n",
    "df[\"NN without edge features CNOTs\"] = mlp_CNOT\n",
    "\n",
    "df[\"NN with edge features Depth\"] = mlp_edge_depth\n",
    "df[\"NN with edge features CNOTs\"] = mlp_edge_CNOT\n",
    "\n",
    "df[\"DNN without repair Depth\"] = dnn_without_ro_depth\n",
    "df[\"DNN without repair CNOTs\"] = dnn_without_ro_CNOT\n",
    "\n",
    "df[\"DNN with repair Depth\"] = dnn_with_ro_depth\n",
    "df[\"DNN with repair CNOTs\"] = dnn_with_ro_CNOT\n",
    "\n",
    "df[\"DNN Mapping time\"] = dnn_time\n",
    "df[\"NN without edge features Mapping time\"] = mlp_time\n",
    "df[\"NN with edge features Mapping time\"] = mlp_edge_time\n",
    "df[\"SABRE mapping Mapping time\"] = sabre_time\n",
    "df[\"Noise Adaptive Mapping time\"] = na_time\n",
    "df[\"Dense Mapping time\"] = dense_time"
   ]
  },
  {
   "cell_type": "code",
   "execution_count": 21,
   "id": "17b14eaa",
   "metadata": {},
   "outputs": [
    {
     "data": {
      "text/html": [
       "<div>\n",
       "<style scoped>\n",
       "    .dataframe tbody tr th:only-of-type {\n",
       "        vertical-align: middle;\n",
       "    }\n",
       "\n",
       "    .dataframe tbody tr th {\n",
       "        vertical-align: top;\n",
       "    }\n",
       "\n",
       "    .dataframe thead th {\n",
       "        text-align: right;\n",
       "    }\n",
       "</style>\n",
       "<table border=\"1\" class=\"dataframe\">\n",
       "  <thead>\n",
       "    <tr style=\"text-align: right;\">\n",
       "      <th></th>\n",
       "      <th>Label Depth</th>\n",
       "      <th>Label CNOTs</th>\n",
       "      <th>NN without edge features Depth</th>\n",
       "      <th>NN without edge features CNOTs</th>\n",
       "      <th>NN with edge features Depth</th>\n",
       "      <th>NN with edge features CNOTs</th>\n",
       "      <th>DNN without repair Depth</th>\n",
       "      <th>DNN without repair CNOTs</th>\n",
       "      <th>DNN with repair Depth</th>\n",
       "      <th>DNN with repair CNOTs</th>\n",
       "      <th>DNN Mapping time</th>\n",
       "      <th>NN without edge features Mapping time</th>\n",
       "      <th>NN with edge features Mapping time</th>\n",
       "      <th>SABRE mapping Mapping time</th>\n",
       "      <th>Noise Adaptive Mapping time</th>\n",
       "      <th>Dense Mapping time</th>\n",
       "    </tr>\n",
       "  </thead>\n",
       "  <tbody>\n",
       "    <tr>\n",
       "      <th>0</th>\n",
       "      <td>60</td>\n",
       "      <td>32</td>\n",
       "      <td>NaN</td>\n",
       "      <td>NaN</td>\n",
       "      <td>62</td>\n",
       "      <td>35</td>\n",
       "      <td>62</td>\n",
       "      <td>35</td>\n",
       "      <td>62</td>\n",
       "      <td>35</td>\n",
       "      <td>0.010940</td>\n",
       "      <td>0.008420</td>\n",
       "      <td>0.013839</td>\n",
       "      <td>0.011827</td>\n",
       "      <td>0.011510</td>\n",
       "      <td>0.002655</td>\n",
       "    </tr>\n",
       "    <tr>\n",
       "      <th>1</th>\n",
       "      <td>59</td>\n",
       "      <td>44</td>\n",
       "      <td>NaN</td>\n",
       "      <td>NaN</td>\n",
       "      <td>59</td>\n",
       "      <td>44</td>\n",
       "      <td>59</td>\n",
       "      <td>44</td>\n",
       "      <td>59</td>\n",
       "      <td>44</td>\n",
       "      <td>0.010616</td>\n",
       "      <td>0.008597</td>\n",
       "      <td>0.012853</td>\n",
       "      <td>0.014319</td>\n",
       "      <td>0.014587</td>\n",
       "      <td>0.002804</td>\n",
       "    </tr>\n",
       "    <tr>\n",
       "      <th>2</th>\n",
       "      <td>57</td>\n",
       "      <td>38</td>\n",
       "      <td>NaN</td>\n",
       "      <td>NaN</td>\n",
       "      <td>57</td>\n",
       "      <td>38</td>\n",
       "      <td>57</td>\n",
       "      <td>38</td>\n",
       "      <td>57</td>\n",
       "      <td>38</td>\n",
       "      <td>0.011061</td>\n",
       "      <td>0.008651</td>\n",
       "      <td>0.012619</td>\n",
       "      <td>0.009130</td>\n",
       "      <td>0.015255</td>\n",
       "      <td>0.002752</td>\n",
       "    </tr>\n",
       "    <tr>\n",
       "      <th>3</th>\n",
       "      <td>66</td>\n",
       "      <td>44</td>\n",
       "      <td>NaN</td>\n",
       "      <td>NaN</td>\n",
       "      <td>56</td>\n",
       "      <td>29</td>\n",
       "      <td>56</td>\n",
       "      <td>29</td>\n",
       "      <td>56</td>\n",
       "      <td>29</td>\n",
       "      <td>0.010974</td>\n",
       "      <td>0.008689</td>\n",
       "      <td>0.013744</td>\n",
       "      <td>0.012737</td>\n",
       "      <td>0.011660</td>\n",
       "      <td>0.002606</td>\n",
       "    </tr>\n",
       "    <tr>\n",
       "      <th>4</th>\n",
       "      <td>56</td>\n",
       "      <td>29</td>\n",
       "      <td>NaN</td>\n",
       "      <td>NaN</td>\n",
       "      <td>62</td>\n",
       "      <td>35</td>\n",
       "      <td>62</td>\n",
       "      <td>35</td>\n",
       "      <td>62</td>\n",
       "      <td>35</td>\n",
       "      <td>0.010890</td>\n",
       "      <td>0.008564</td>\n",
       "      <td>0.013134</td>\n",
       "      <td>0.008358</td>\n",
       "      <td>0.002935</td>\n",
       "      <td>0.002746</td>\n",
       "    </tr>\n",
       "  </tbody>\n",
       "</table>\n",
       "</div>"
      ],
      "text/plain": [
       "   Label Depth  Label CNOTs  NN without edge features Depth  \\\n",
       "0           60           32                             NaN   \n",
       "1           59           44                             NaN   \n",
       "2           57           38                             NaN   \n",
       "3           66           44                             NaN   \n",
       "4           56           29                             NaN   \n",
       "\n",
       "   NN without edge features CNOTs  NN with edge features Depth  \\\n",
       "0                             NaN                           62   \n",
       "1                             NaN                           59   \n",
       "2                             NaN                           57   \n",
       "3                             NaN                           56   \n",
       "4                             NaN                           62   \n",
       "\n",
       "   NN with edge features CNOTs  DNN without repair Depth  \\\n",
       "0                           35                        62   \n",
       "1                           44                        59   \n",
       "2                           38                        57   \n",
       "3                           29                        56   \n",
       "4                           35                        62   \n",
       "\n",
       "   DNN without repair CNOTs  DNN with repair Depth  DNN with repair CNOTs  \\\n",
       "0                        35                     62                     35   \n",
       "1                        44                     59                     44   \n",
       "2                        38                     57                     38   \n",
       "3                        29                     56                     29   \n",
       "4                        35                     62                     35   \n",
       "\n",
       "   DNN Mapping time  NN without edge features Mapping time  \\\n",
       "0          0.010940                               0.008420   \n",
       "1          0.010616                               0.008597   \n",
       "2          0.011061                               0.008651   \n",
       "3          0.010974                               0.008689   \n",
       "4          0.010890                               0.008564   \n",
       "\n",
       "   NN with edge features Mapping time  SABRE mapping Mapping time  \\\n",
       "0                            0.013839                    0.011827   \n",
       "1                            0.012853                    0.014319   \n",
       "2                            0.012619                    0.009130   \n",
       "3                            0.013744                    0.012737   \n",
       "4                            0.013134                    0.008358   \n",
       "\n",
       "   Noise Adaptive Mapping time  Dense Mapping time  \n",
       "0                     0.011510            0.002655  \n",
       "1                     0.014587            0.002804  \n",
       "2                     0.015255            0.002752  \n",
       "3                     0.011660            0.002606  \n",
       "4                     0.002935            0.002746  "
      ]
     },
     "execution_count": 21,
     "metadata": {},
     "output_type": "execute_result"
    }
   ],
   "source": [
    "df"
   ]
  },
  {
   "cell_type": "code",
   "execution_count": null,
   "id": "ed84c056",
   "metadata": {},
   "outputs": [],
   "source": []
  },
  {
   "cell_type": "code",
   "execution_count": null,
   "id": "1cebcb0a",
   "metadata": {},
   "outputs": [],
   "source": []
  },
  {
   "cell_type": "code",
   "execution_count": null,
   "id": "c18eb0b2",
   "metadata": {},
   "outputs": [],
   "source": [
    "import itertools\n",
    "layouts = list(itertools.permutations([0,1,2,3,4,5,6]))\n",
    "qc = test_dataset[-8]\n",
    "basis_gats = basis_gate_dict['ibm_nairobi']\n",
    "pass_ = Unroller(basis_gats)\n",
    "pm = PassManager(pass_)\n",
    "backend = provider.get_backend('ibm_nairobi')\n",
    "for l in layouts[:20]:\n",
    "    tqc = transpile(qc, backend=backend,initial_layout=list(l), optimization_level=0)\n",
    "    tqc = pm.run(tqc)\n",
    "    \n",
    "    print(l,tqc.depth(),dict(tqc.count_ops())['cx'])"
   ]
  },
  {
   "cell_type": "code",
   "execution_count": null,
   "id": "7f4ca1f2",
   "metadata": {},
   "outputs": [],
   "source": []
  },
  {
   "cell_type": "markdown",
   "id": "5cc29b71",
   "metadata": {},
   "source": [
    "## Depth vs. Mapping time"
   ]
  },
  {
   "cell_type": "code",
   "execution_count": 75,
   "id": "ec4426f1",
   "metadata": {},
   "outputs": [],
   "source": [
    "from qiskit.circuit.random import random_circuit\n"
   ]
  },
  {
   "cell_type": "code",
   "execution_count": 93,
   "id": "84cbbfa9",
   "metadata": {
    "scrolled": true
   },
   "outputs": [
    {
     "name": "stderr",
     "output_type": "stream",
     "text": [
      "\r",
      "  0%|                                                                                                                                                           | 0/50 [00:00<?, ?it/s]"
     ]
    },
    {
     "name": "stdout",
     "output_type": "stream",
     "text": [
      "Current depth: 1\n",
      "2023-06-30 19:14:14.180618\n",
      "Backend topology: 2023-06-30 19:14:14.180618\n",
      "<qiskit.providers.models.backendproperties.BackendProperties object at 0x7f51883e4d90>\n",
      "Depth: [92, 92, 76, 76, 76, 76]\n",
      "not na\n"
     ]
    },
    {
     "name": "stderr",
     "output_type": "stream",
     "text": [
      "\n",
      "100%|███████████████████████████████████████████████████████████████████████████████████████████████████████████████████████████████████████████████████| 1/1 [00:00<00:00, 518.46it/s]\u001b[A\n"
     ]
    },
    {
     "name": "stdout",
     "output_type": "stream",
     "text": [
      "2023-08-27 19:14:16.131597\n",
      "Backend topology: 2023-08-27 19:14:16.131597\n",
      "<qiskit.providers.models.backendproperties.BackendProperties object at 0x7f5296158f70>\n",
      "Depth: [16, 16, 16, 16, 28, 28]\n",
      "na\n"
     ]
    },
    {
     "name": "stderr",
     "output_type": "stream",
     "text": [
      "\n",
      "100%|███████████████████████████████████████████████████████████████████████████████████████████████████████████████████████████████████████████████████| 1/1 [00:00<00:00, 264.04it/s]\u001b[A\n"
     ]
    },
    {
     "name": "stdout",
     "output_type": "stream",
     "text": [
      "2023-08-09 19:14:17.800440\n",
      "Backend topology: 2023-08-09 19:14:17.800440\n",
      "<qiskit.providers.models.backendproperties.BackendProperties object at 0x7f52807daeb0>\n",
      "Depth: [230, 230, 136, 136, 138, 138]\n",
      "not na\n"
     ]
    },
    {
     "name": "stderr",
     "output_type": "stream",
     "text": [
      "\n",
      "100%|███████████████████████████████████████████████████████████████████████████████████████████████████████████████████████████████████████████████████| 1/1 [00:00<00:00, 546.49it/s]\u001b[A\n"
     ]
    },
    {
     "name": "stdout",
     "output_type": "stream",
     "text": [
      "2023-10-09 19:14:20.088568\n",
      "Backend topology: 2023-10-09 19:14:20.088568\n",
      "<qiskit.providers.models.backendproperties.BackendProperties object at 0x7f518851e370>\n",
      "Depth: [122, 122, 72, 72, 110, 110]\n",
      "not na\n"
     ]
    },
    {
     "name": "stderr",
     "output_type": "stream",
     "text": [
      "\n",
      "100%|███████████████████████████████████████████████████████████████████████████████████████████████████████████████████████████████████████████████████| 1/1 [00:00<00:00, 536.49it/s]\u001b[A\n"
     ]
    },
    {
     "name": "stdout",
     "output_type": "stream",
     "text": [
      "2023-09-19 19:14:22.027179\n",
      "Backend topology: 2023-09-19 19:14:22.027179\n",
      "<qiskit.providers.models.backendproperties.BackendProperties object at 0x7f520431d070>\n",
      "Depth: [74, 74, 64, 64, 68, 68]\n",
      "not na\n"
     ]
    },
    {
     "name": "stderr",
     "output_type": "stream",
     "text": [
      "\n",
      "100%|███████████████████████████████████████████████████████████████████████████████████████████████████████████████████████████████████████████████████| 1/1 [00:00<00:00, 558.42it/s]\u001b[A\n"
     ]
    },
    {
     "name": "stdout",
     "output_type": "stream",
     "text": [
      "2023-10-07 19:14:23.789865\n",
      "Backend topology: 2023-10-07 19:14:23.789865\n",
      "<qiskit.providers.models.backendproperties.BackendProperties object at 0x7f51c8376d30>\n",
      "Depth: [118, 118, 118, 118, 116, 116]\n",
      "SABRE\n"
     ]
    },
    {
     "name": "stderr",
     "output_type": "stream",
     "text": [
      "\n",
      "100%|███████████████████████████████████████████████████████████████████████████████████████████████████████████████████████████████████████████████████| 1/1 [00:00<00:00, 518.01it/s]\u001b[A\n"
     ]
    },
    {
     "name": "stdout",
     "output_type": "stream",
     "text": [
      "2023-07-08 19:14:25.694251\n",
      "Backend topology: 2023-07-08 19:14:25.694251\n",
      "<qiskit.providers.models.backendproperties.BackendProperties object at 0x7f5149016970>\n",
      "Depth: [26, 26, 32, 32, 38, 38]\n",
      "na\n"
     ]
    },
    {
     "name": "stderr",
     "output_type": "stream",
     "text": [
      "\n",
      "100%|███████████████████████████████████████████████████████████████████████████████████████████████████████████████████████████████████████████████████| 1/1 [00:00<00:00, 512.50it/s]\u001b[A\n"
     ]
    },
    {
     "name": "stdout",
     "output_type": "stream",
     "text": [
      "2023-08-28 19:14:27.278285\n",
      "Backend topology: 2023-08-28 19:14:27.278285\n",
      "<qiskit.providers.models.backendproperties.BackendProperties object at 0x7f5188187250>\n",
      "Depth: [94, 94, 50, 50, 70, 70]\n",
      "not na\n"
     ]
    },
    {
     "name": "stderr",
     "output_type": "stream",
     "text": [
      "\n",
      "100%|███████████████████████████████████████████████████████████████████████████████████████████████████████████████████████████████████████████████████| 1/1 [00:00<00:00, 529.58it/s]\u001b[A\n"
     ]
    },
    {
     "name": "stdout",
     "output_type": "stream",
     "text": [
      "2023-10-30 19:14:29.078357\n",
      "Backend topology: 2023-10-30 19:14:29.078357\n",
      "<qiskit.providers.models.backendproperties.BackendProperties object at 0x7f524005ee50>\n",
      "Depth: [58, 58, 58, 58, 70, 70]\n",
      "na\n"
     ]
    },
    {
     "name": "stderr",
     "output_type": "stream",
     "text": [
      "\n",
      "100%|███████████████████████████████████████████████████████████████████████████████████████████████████████████████████████████████████████████████████| 1/1 [00:00<00:00, 530.12it/s]\u001b[A\n"
     ]
    },
    {
     "name": "stdout",
     "output_type": "stream",
     "text": [
      "2023-07-26 19:14:31.134773\n",
      "Backend topology: 2023-07-26 19:14:31.134773\n",
      "<qiskit.providers.models.backendproperties.BackendProperties object at 0x7f52043c5430>\n",
      "Depth: [54, 54, 20, 20, 20, 20]\n",
      "not na\n"
     ]
    },
    {
     "name": "stderr",
     "output_type": "stream",
     "text": [
      "\n",
      "100%|███████████████████████████████████████████████████████████████████████████████████████████████████████████████████████████████████████████████████| 1/1 [00:00<00:00, 521.68it/s]\u001b[A\n",
      "  2%|██▉                                                                                                                                                | 1/50 [00:22<18:36, 22.78s/it]"
     ]
    },
    {
     "name": "stdout",
     "output_type": "stream",
     "text": [
      "Current depth: 2\n",
      "2023-07-18 19:14:36.965704\n",
      "Backend topology: 2023-07-18 19:14:36.965704\n",
      "<qiskit.providers.models.backendproperties.BackendProperties object at 0x7f52042b4580>\n",
      "Depth: [80, 80, 80, 80, 80, 80]\n",
      "na\n"
     ]
    },
    {
     "name": "stderr",
     "output_type": "stream",
     "text": [
      "\n",
      "100%|███████████████████████████████████████████████████████████████████████████████████████████████████████████████████████████████████████████████████| 1/1 [00:00<00:00, 534.31it/s]\u001b[A\n"
     ]
    },
    {
     "name": "stdout",
     "output_type": "stream",
     "text": [
      "2023-09-16 19:14:53.800568\n",
      "Backend topology: 2023-09-16 19:14:53.800568\n",
      "<qiskit.providers.models.backendproperties.BackendProperties object at 0x7f5290d3e700>\n",
      "Depth: [376, 376, 128, 128, 128, 128]\n",
      "not na\n"
     ]
    },
    {
     "name": "stderr",
     "output_type": "stream",
     "text": [
      "\n",
      "100%|███████████████████████████████████████████████████████████████████████████████████████████████████████████████████████████████████████████████████| 1/1 [00:00<00:00, 538.15it/s]\u001b[A\n"
     ]
    },
    {
     "name": "stdout",
     "output_type": "stream",
     "text": [
      "2023-11-10 19:14:55.923989\n",
      "Backend topology: 2023-11-10 19:14:55.923989\n",
      "<qiskit.providers.models.backendproperties.BackendProperties object at 0x7f5264691130>\n",
      "Depth: [398, 398, 162, 162, 162, 162]\n",
      "not na\n"
     ]
    },
    {
     "name": "stderr",
     "output_type": "stream",
     "text": [
      "\n",
      "100%|███████████████████████████████████████████████████████████████████████████████████████████████████████████████████████████████████████████████████| 1/1 [00:00<00:00, 317.49it/s]\u001b[A\n"
     ]
    },
    {
     "name": "stdout",
     "output_type": "stream",
     "text": [
      "2023-10-05 19:14:58.462039\n",
      "Backend topology: 2023-10-05 19:14:58.462039\n",
      "<qiskit.providers.models.backendproperties.BackendProperties object at 0x7f52042b4d30>\n",
      "Depth: [150, 150, 150, 150, 148, 148]\n",
      "SABRE\n"
     ]
    },
    {
     "name": "stderr",
     "output_type": "stream",
     "text": [
      "\n",
      "100%|███████████████████████████████████████████████████████████████████████████████████████████████████████████████████████████████████████████████████| 1/1 [00:00<00:00, 382.31it/s]\u001b[A\n"
     ]
    },
    {
     "name": "stdout",
     "output_type": "stream",
     "text": [
      "2023-10-21 19:15:00.584356\n",
      "Backend topology: 2023-10-21 19:15:00.584356\n",
      "<qiskit.providers.models.backendproperties.BackendProperties object at 0x7f51883e8850>\n",
      "Depth: [126, 126, 126, 126, 172, 172]\n",
      "na\n"
     ]
    },
    {
     "name": "stderr",
     "output_type": "stream",
     "text": [
      "\n",
      "100%|███████████████████████████████████████████████████████████████████████████████████████████████████████████████████████████████████████████████████| 1/1 [00:00<00:00, 535.53it/s]\u001b[A\n"
     ]
    },
    {
     "name": "stdout",
     "output_type": "stream",
     "text": [
      "2023-08-12 19:15:02.894499\n",
      "Backend topology: 2023-08-12 19:15:02.894499\n",
      "<qiskit.providers.models.backendproperties.BackendProperties object at 0x7f5291473280>\n",
      "Depth: [126, 126, 126, 126, 126, 126]\n",
      "na\n"
     ]
    },
    {
     "name": "stderr",
     "output_type": "stream",
     "text": [
      "\n",
      "100%|███████████████████████████████████████████████████████████████████████████████████████████████████████████████████████████████████████████████████| 1/1 [00:00<00:00, 506.07it/s]\u001b[A\n"
     ]
    },
    {
     "name": "stdout",
     "output_type": "stream",
     "text": [
      "2023-08-07 19:15:05.111238\n",
      "Backend topology: 2023-08-07 19:15:05.111238\n",
      "<qiskit.providers.models.backendproperties.BackendProperties object at 0x7f52643235b0>\n",
      "Depth: [100, 100, 100, 100, 116, 116]\n",
      "na\n"
     ]
    },
    {
     "name": "stderr",
     "output_type": "stream",
     "text": [
      "\n",
      "100%|███████████████████████████████████████████████████████████████████████████████████████████████████████████████████████████████████████████████████| 1/1 [00:00<00:00, 340.75it/s]\u001b[A\n"
     ]
    },
    {
     "name": "stdout",
     "output_type": "stream",
     "text": [
      "2023-11-22 19:15:07.234501\n",
      "Backend topology: 2023-11-22 19:15:07.234501\n",
      "<qiskit.providers.models.backendproperties.BackendProperties object at 0x7f52910b8970>\n",
      "Depth: [142, 142, 138, 138, 138, 138]\n",
      "not na\n"
     ]
    },
    {
     "name": "stderr",
     "output_type": "stream",
     "text": [
      "\n",
      "100%|███████████████████████████████████████████████████████████████████████████████████████████████████████████████████████████████████████████████████| 1/1 [00:00<00:00, 383.57it/s]\u001b[A\n"
     ]
    },
    {
     "name": "stdout",
     "output_type": "stream",
     "text": [
      "2023-08-24 19:15:09.538035\n",
      "Backend topology: 2023-08-24 19:15:09.538035\n",
      "<qiskit.providers.models.backendproperties.BackendProperties object at 0x7f52040bb850>\n",
      "Depth: [148, 148, 148, 148, 202, 202]\n",
      "na\n"
     ]
    },
    {
     "name": "stderr",
     "output_type": "stream",
     "text": [
      "\n",
      "100%|███████████████████████████████████████████████████████████████████████████████████████████████████████████████████████████████████████████████████| 1/1 [00:00<00:00, 502.31it/s]\u001b[A\n"
     ]
    },
    {
     "name": "stdout",
     "output_type": "stream",
     "text": [
      "2023-09-17 19:15:14.131855\n",
      "Backend topology: 2023-09-17 19:15:14.131855\n",
      "<qiskit.providers.models.backendproperties.BackendProperties object at 0x7f52244d7c10>\n",
      "Depth: [240, 240, 102, 102, 102, 102]\n",
      "not na\n"
     ]
    },
    {
     "name": "stderr",
     "output_type": "stream",
     "text": [
      "\n",
      "100%|███████████████████████████████████████████████████████████████████████████████████████████████████████████████████████████████████████████████████| 1/1 [00:00<00:00, 561.41it/s]\u001b[A\n",
      "  4%|█████▉                                                                                                                                             | 2/50 [01:02<26:06, 32.63s/it]"
     ]
    },
    {
     "name": "stdout",
     "output_type": "stream",
     "text": [
      "Current depth: 3\n",
      "2023-07-06 19:15:16.485372\n",
      "Backend topology: 2023-07-06 19:15:16.485372\n",
      "<qiskit.providers.models.backendproperties.BackendProperties object at 0x7f51e805d4c0>\n",
      "Depth: [236, 236, 234, 234, 234, 234]\n",
      "not na\n"
     ]
    },
    {
     "name": "stderr",
     "output_type": "stream",
     "text": [
      "\n",
      "100%|███████████████████████████████████████████████████████████████████████████████████████████████████████████████████████████████████████████████████| 1/1 [00:00<00:00, 533.22it/s]\u001b[A\n"
     ]
    },
    {
     "name": "stdout",
     "output_type": "stream",
     "text": [
      "2023-11-11 19:15:18.858718\n",
      "Backend topology: 2023-11-11 19:15:18.858718\n",
      "<qiskit.providers.models.backendproperties.BackendProperties object at 0x7f518819f340>\n",
      "Depth: [92, 92, 86, 86, 120, 120]\n",
      "not na\n"
     ]
    },
    {
     "name": "stderr",
     "output_type": "stream",
     "text": [
      "\n",
      "100%|███████████████████████████████████████████████████████████████████████████████████████████████████████████████████████████████████████████████████| 1/1 [00:00<00:00, 540.78it/s]\u001b[A\n"
     ]
    },
    {
     "name": "stdout",
     "output_type": "stream",
     "text": [
      "2023-10-19 19:15:20.986630\n",
      "Backend topology: 2023-10-19 19:15:20.986630\n",
      "<qiskit.providers.models.backendproperties.BackendProperties object at 0x7f529594b8e0>\n",
      "Depth: [176, 176, 156, 156, 154, 154]\n",
      "SABRE\n"
     ]
    },
    {
     "name": "stderr",
     "output_type": "stream",
     "text": [
      "\n",
      "100%|███████████████████████████████████████████████████████████████████████████████████████████████████████████████████████████████████████████████████| 1/1 [00:00<00:00, 527.85it/s]\u001b[A\n"
     ]
    },
    {
     "name": "stdout",
     "output_type": "stream",
     "text": [
      "2023-11-06 19:15:23.130762\n",
      "Backend topology: 2023-11-06 19:15:23.130762\n",
      "<qiskit.providers.models.backendproperties.BackendProperties object at 0x7f5240526c70>\n",
      "Depth: [538, 538, 266, 266, 266, 266]\n",
      "not na\n"
     ]
    },
    {
     "name": "stderr",
     "output_type": "stream",
     "text": [
      "\n",
      "100%|███████████████████████████████████████████████████████████████████████████████████████████████████████████████████████████████████████████████████| 1/1 [00:00<00:00, 531.46it/s]\u001b[A\n"
     ]
    },
    {
     "name": "stdout",
     "output_type": "stream",
     "text": [
      "2023-11-04 19:15:25.929587\n",
      "Backend topology: 2023-11-04 19:15:25.929587\n",
      "<qiskit.providers.models.backendproperties.BackendProperties object at 0x7f520430a8b0>\n",
      "Depth: [166, 166, 168, 168, 168, 168]\n",
      "na\n"
     ]
    },
    {
     "name": "stderr",
     "output_type": "stream",
     "text": [
      "\n",
      "100%|███████████████████████████████████████████████████████████████████████████████████████████████████████████████████████████████████████████████████| 1/1 [00:00<00:00, 499.08it/s]\u001b[A\n"
     ]
    },
    {
     "name": "stdout",
     "output_type": "stream",
     "text": [
      "2023-10-04 19:15:28.232805\n",
      "Backend topology: 2023-10-04 19:15:28.232805\n",
      "<qiskit.providers.models.backendproperties.BackendProperties object at 0x7f5264323e80>\n",
      "Depth: [148, 148, 148, 148, 148, 148]\n",
      "na\n"
     ]
    },
    {
     "name": "stderr",
     "output_type": "stream",
     "text": [
      "\n",
      "100%|███████████████████████████████████████████████████████████████████████████████████████████████████████████████████████████████████████████████████| 1/1 [00:00<00:00, 523.31it/s]\u001b[A\n"
     ]
    },
    {
     "name": "stdout",
     "output_type": "stream",
     "text": [
      "2023-11-22 19:15:38.197105\n",
      "Backend topology: 2023-11-22 19:15:38.197105\n",
      "<qiskit.providers.models.backendproperties.BackendProperties object at 0x7f52402c85e0>\n",
      "Depth: [186, 186, 186, 186, 186, 186]\n",
      "na\n"
     ]
    },
    {
     "name": "stderr",
     "output_type": "stream",
     "text": [
      "\n",
      "100%|███████████████████████████████████████████████████████████████████████████████████████████████████████████████████████████████████████████████████| 1/1 [00:00<00:00, 571.66it/s]\u001b[A\n"
     ]
    },
    {
     "name": "stdout",
     "output_type": "stream",
     "text": [
      "2023-10-18 19:15:43.260444\n",
      "Backend topology: 2023-10-18 19:15:43.260444\n",
      "<qiskit.providers.models.backendproperties.BackendProperties object at 0x7f5293071400>\n",
      "Depth: [208, 208, 92, 92, 92, 92]\n",
      "not na\n"
     ]
    },
    {
     "name": "stderr",
     "output_type": "stream",
     "text": [
      "\n",
      "100%|███████████████████████████████████████████████████████████████████████████████████████████████████████████████████████████████████████████████████| 1/1 [00:00<00:00, 556.94it/s]\u001b[A\n"
     ]
    },
    {
     "name": "stdout",
     "output_type": "stream",
     "text": [
      "2023-11-03 19:15:45.792256\n",
      "Backend topology: 2023-11-03 19:15:45.792256\n",
      "<qiskit.providers.models.backendproperties.BackendProperties object at 0x7f52043e25b0>\n",
      "Depth: [146, 146, 146, 146, 204, 204]\n",
      "na\n"
     ]
    },
    {
     "name": "stderr",
     "output_type": "stream",
     "text": [
      "\n",
      "100%|███████████████████████████████████████████████████████████████████████████████████████████████████████████████████████████████████████████████████| 1/1 [00:00<00:00, 514.95it/s]\u001b[A\n"
     ]
    },
    {
     "name": "stdout",
     "output_type": "stream",
     "text": [
      "2023-10-03 19:16:00.101888\n",
      "Backend topology: 2023-10-03 19:16:00.101888\n",
      "<qiskit.providers.models.backendproperties.BackendProperties object at 0x7f5149239fa0>\n",
      "Depth: [484, 484, 214, 214, 214, 214]\n",
      "not na\n"
     ]
    },
    {
     "name": "stderr",
     "output_type": "stream",
     "text": [
      "\n",
      "100%|███████████████████████████████████████████████████████████████████████████████████████████████████████████████████████████████████████████████████| 1/1 [00:00<00:00, 509.39it/s]\u001b[A\n",
      "  6%|████████▊                                                                                                                                          | 3/50 [01:48<30:29, 38.92s/it]"
     ]
    },
    {
     "name": "stdout",
     "output_type": "stream",
     "text": [
      "Current depth: 4\n",
      "2023-08-04 19:16:02.894839\n",
      "Backend topology: 2023-08-04 19:16:02.894839\n",
      "<qiskit.providers.models.backendproperties.BackendProperties object at 0x7f528ed1d0d0>\n",
      "Depth: [450, 450, 294, 294, 294, 294]\n",
      "not na\n"
     ]
    },
    {
     "name": "stderr",
     "output_type": "stream",
     "text": [
      "\n",
      "100%|███████████████████████████████████████████████████████████████████████████████████████████████████████████████████████████████████████████████████| 1/1 [00:00<00:00, 535.47it/s]\u001b[A\n"
     ]
    },
    {
     "name": "stdout",
     "output_type": "stream",
     "text": [
      "2023-11-10 19:16:05.849073\n",
      "Backend topology: 2023-11-10 19:16:05.849073\n",
      "<qiskit.providers.models.backendproperties.BackendProperties object at 0x7f52244c0f70>\n",
      "Depth: [232, 232, 162, 162, 162, 162]\n",
      "not na\n"
     ]
    },
    {
     "name": "stderr",
     "output_type": "stream",
     "text": [
      "\n",
      "100%|███████████████████████████████████████████████████████████████████████████████████████████████████████████████████████████████████████████████████| 1/1 [00:00<00:00, 583.03it/s]\u001b[A\n"
     ]
    },
    {
     "name": "stdout",
     "output_type": "stream",
     "text": [
      "2023-08-25 19:16:07.949009\n",
      "Backend topology: 2023-08-25 19:16:07.949009\n",
      "<qiskit.providers.models.backendproperties.BackendProperties object at 0x7f51e805d4c0>\n",
      "Depth: [552, 552, 288, 288, 288, 288]\n",
      "not na\n"
     ]
    },
    {
     "name": "stderr",
     "output_type": "stream",
     "text": [
      "\n",
      "100%|███████████████████████████████████████████████████████████████████████████████████████████████████████████████████████████████████████████████████| 1/1 [00:00<00:00, 558.35it/s]\u001b[A\n"
     ]
    },
    {
     "name": "stdout",
     "output_type": "stream",
     "text": [
      "2023-11-06 19:16:11.259765\n",
      "Backend topology: 2023-11-06 19:16:11.259765\n",
      "<qiskit.providers.models.backendproperties.BackendProperties object at 0x7f5292ceb340>\n",
      "Depth: [306, 306, 202, 202, 202, 202]\n",
      "not na\n"
     ]
    },
    {
     "name": "stderr",
     "output_type": "stream",
     "text": [
      "\n",
      "100%|███████████████████████████████████████████████████████████████████████████████████████████████████████████████████████████████████████████████████| 1/1 [00:00<00:00, 545.42it/s]\u001b[A\n"
     ]
    },
    {
     "name": "stdout",
     "output_type": "stream",
     "text": [
      "2023-07-08 19:16:13.603090\n",
      "Backend topology: 2023-07-08 19:16:13.603090\n",
      "<qiskit.providers.models.backendproperties.BackendProperties object at 0x7f520432d250>\n",
      "Depth: [184, 184, 182, 182, 256, 256]\n",
      "not na\n"
     ]
    },
    {
     "name": "stderr",
     "output_type": "stream",
     "text": [
      "\n",
      "100%|███████████████████████████████████████████████████████████████████████████████████████████████████████████████████████████████████████████████████| 1/1 [00:00<00:00, 340.36it/s]\u001b[A\n"
     ]
    },
    {
     "name": "stdout",
     "output_type": "stream",
     "text": [
      "2023-09-16 19:16:15.986842\n",
      "Backend topology: 2023-09-16 19:16:15.986842\n",
      "<qiskit.providers.models.backendproperties.BackendProperties object at 0x7f52401e06d0>\n",
      "Depth: [230, 230, 232, 232, 232, 232]\n",
      "na\n"
     ]
    },
    {
     "name": "stderr",
     "output_type": "stream",
     "text": [
      "\n",
      "100%|███████████████████████████████████████████████████████████████████████████████████████████████████████████████████████████████████████████████████| 1/1 [00:00<00:00, 521.74it/s]\u001b[A\n"
     ]
    },
    {
     "name": "stdout",
     "output_type": "stream",
     "text": [
      "2023-11-17 19:16:18.287175\n",
      "Backend topology: 2023-11-17 19:16:18.287175\n",
      "<qiskit.providers.models.backendproperties.BackendProperties object at 0x7f51c81707c0>\n",
      "Depth: [232, 232, 236, 236, 232, 232]\n",
      "na\n"
     ]
    },
    {
     "name": "stderr",
     "output_type": "stream",
     "text": [
      "\n",
      "100%|███████████████████████████████████████████████████████████████████████████████████████████████████████████████████████████████████████████████████| 1/1 [00:00<00:00, 350.14it/s]\u001b[A\n"
     ]
    },
    {
     "name": "stdout",
     "output_type": "stream",
     "text": [
      "2023-09-24 19:16:20.754976\n",
      "Backend topology: 2023-09-24 19:16:20.754976\n",
      "<qiskit.providers.models.backendproperties.BackendProperties object at 0x7f520432b280>\n",
      "Depth: [196, 196, 204, 204, 204, 204]\n",
      "na\n"
     ]
    },
    {
     "name": "stderr",
     "output_type": "stream",
     "text": [
      "\n",
      "100%|███████████████████████████████████████████████████████████████████████████████████████████████████████████████████████████████████████████████████| 1/1 [00:00<00:00, 503.40it/s]\u001b[A\n"
     ]
    },
    {
     "name": "stdout",
     "output_type": "stream",
     "text": [
      "2023-07-07 19:16:23.368715\n",
      "Backend topology: 2023-07-07 19:16:23.368715\n",
      "<qiskit.providers.models.backendproperties.BackendProperties object at 0x7f51687bfc40>\n",
      "Depth: [254, 254, 192, 192, 192, 192]\n",
      "not na\n"
     ]
    },
    {
     "name": "stderr",
     "output_type": "stream",
     "text": [
      "\n",
      "100%|███████████████████████████████████████████████████████████████████████████████████████████████████████████████████████████████████████████████████| 1/1 [00:00<00:00, 540.99it/s]\u001b[A\n"
     ]
    },
    {
     "name": "stdout",
     "output_type": "stream",
     "text": [
      "2023-09-22 19:16:25.750348\n",
      "Backend topology: 2023-09-22 19:16:25.750348\n",
      "<qiskit.providers.models.backendproperties.BackendProperties object at 0x7f524056aaf0>\n",
      "Depth: [260, 260, 258, 258, 258, 258]\n",
      "not na\n"
     ]
    },
    {
     "name": "stderr",
     "output_type": "stream",
     "text": [
      "\n",
      "100%|███████████████████████████████████████████████████████████████████████████████████████████████████████████████████████████████████████████████████| 1/1 [00:00<00:00, 581.33it/s]\u001b[A\n",
      "  8%|███████████▊                                                                                                                                       | 4/50 [02:14<25:47, 33.63s/it]"
     ]
    },
    {
     "name": "stdout",
     "output_type": "stream",
     "text": [
      "Current depth: 5\n",
      "2023-11-11 19:16:28.421694\n",
      "Backend topology: 2023-11-11 19:16:28.421694\n",
      "<qiskit.providers.models.backendproperties.BackendProperties object at 0x7f528fd47eb0>\n",
      "Depth: [308, 308, 298, 298, 298, 298]\n",
      "not na\n"
     ]
    },
    {
     "name": "stderr",
     "output_type": "stream",
     "text": [
      "\n",
      "100%|███████████████████████████████████████████████████████████████████████████████████████████████████████████████████████████████████████████████████| 1/1 [00:00<00:00, 561.49it/s]\u001b[A\n"
     ]
    },
    {
     "name": "stdout",
     "output_type": "stream",
     "text": [
      "2023-11-06 19:16:31.074069\n",
      "Backend topology: 2023-11-06 19:16:31.074069\n",
      "<qiskit.providers.models.backendproperties.BackendProperties object at 0x7f522467aa30>\n",
      "Depth: [272, 272, 276, 276, 276, 276]\n",
      "na\n"
     ]
    },
    {
     "name": "stderr",
     "output_type": "stream",
     "text": [
      "\n",
      "100%|███████████████████████████████████████████████████████████████████████████████████████████████████████████████████████████████████████████████████| 1/1 [00:00<00:00, 382.69it/s]\u001b[A\n"
     ]
    },
    {
     "name": "stdout",
     "output_type": "stream",
     "text": [
      "2023-10-16 19:16:33.640581\n",
      "Backend topology: 2023-10-16 19:16:33.640581\n",
      "<qiskit.providers.models.backendproperties.BackendProperties object at 0x7f52244d7cd0>\n",
      "Depth: [256, 256, 256, 256, 256, 256]\n",
      "na\n"
     ]
    },
    {
     "name": "stderr",
     "output_type": "stream",
     "text": [
      "\n",
      "100%|███████████████████████████████████████████████████████████████████████████████████████████████████████████████████████████████████████████████████| 1/1 [00:00<00:00, 544.93it/s]\u001b[A\n"
     ]
    },
    {
     "name": "stdout",
     "output_type": "stream",
     "text": [
      "2023-08-11 19:16:36.293885\n",
      "Backend topology: 2023-08-11 19:16:36.293885\n",
      "<qiskit.providers.models.backendproperties.BackendProperties object at 0x7f5240231e80>\n",
      "Depth: [148, 148, 148, 148, 148, 148]\n",
      "na\n"
     ]
    },
    {
     "name": "stderr",
     "output_type": "stream",
     "text": [
      "\n",
      "100%|███████████████████████████████████████████████████████████████████████████████████████████████████████████████████████████████████████████████████| 1/1 [00:00<00:00, 358.79it/s]\u001b[A\n"
     ]
    },
    {
     "name": "stdout",
     "output_type": "stream",
     "text": [
      "2023-09-09 19:16:38.349409\n",
      "Backend topology: 2023-09-09 19:16:38.349409\n",
      "<qiskit.providers.models.backendproperties.BackendProperties object at 0x7f5295d86910>\n",
      "Depth: [264, 264, 254, 254, 254, 254]\n",
      "not na\n"
     ]
    },
    {
     "name": "stderr",
     "output_type": "stream",
     "text": [
      "\n",
      "100%|███████████████████████████████████████████████████████████████████████████████████████████████████████████████████████████████████████████████████| 1/1 [00:00<00:00, 496.02it/s]\u001b[A\n"
     ]
    },
    {
     "name": "stdout",
     "output_type": "stream",
     "text": [
      "2023-11-24 19:16:41.175993\n",
      "Backend topology: 2023-11-24 19:16:41.175993\n",
      "<qiskit.providers.models.backendproperties.BackendProperties object at 0x7f51883d54c0>\n",
      "Depth: [424, 424, 362, 362, 362, 362]\n",
      "not na\n"
     ]
    },
    {
     "name": "stderr",
     "output_type": "stream",
     "text": [
      "\n",
      "100%|███████████████████████████████████████████████████████████████████████████████████████████████████████████████████████████████████████████████████| 1/1 [00:00<00:00, 291.01it/s]\u001b[A\n"
     ]
    },
    {
     "name": "stdout",
     "output_type": "stream",
     "text": [
      "2023-07-03 19:16:44.285210\n",
      "Backend topology: 2023-07-03 19:16:44.285210\n",
      "<qiskit.providers.models.backendproperties.BackendProperties object at 0x7f5240232250>\n",
      "Depth: [374, 374, 368, 368, 368, 368]\n",
      "not na\n"
     ]
    },
    {
     "name": "stderr",
     "output_type": "stream",
     "text": [
      "\n",
      "100%|███████████████████████████████████████████████████████████████████████████████████████████████████████████████████████████████████████████████████| 1/1 [00:00<00:00, 604.89it/s]\u001b[A\n"
     ]
    },
    {
     "name": "stdout",
     "output_type": "stream",
     "text": [
      "2023-10-08 19:16:47.298703\n",
      "Backend topology: 2023-10-08 19:16:47.298703\n",
      "<qiskit.providers.models.backendproperties.BackendProperties object at 0x7f5224345070>\n",
      "Depth: [468, 468, 278, 278, 278, 278]\n",
      "not na\n"
     ]
    },
    {
     "name": "stderr",
     "output_type": "stream",
     "text": [
      "\n",
      "100%|███████████████████████████████████████████████████████████████████████████████████████████████████████████████████████████████████████████████████| 1/1 [00:00<00:00, 580.61it/s]\u001b[A\n"
     ]
    },
    {
     "name": "stdout",
     "output_type": "stream",
     "text": [
      "2023-08-03 19:16:50.550169\n",
      "Backend topology: 2023-08-03 19:16:50.550169\n",
      "<qiskit.providers.models.backendproperties.BackendProperties object at 0x7f5240232250>\n",
      "Depth: [498, 498, 312, 312, 312, 312]\n",
      "not na\n"
     ]
    },
    {
     "name": "stderr",
     "output_type": "stream",
     "text": [
      "\n",
      "100%|███████████████████████████████████████████████████████████████████████████████████████████████████████████████████████████████████████████████████| 1/1 [00:00<00:00, 587.52it/s]\u001b[A\n"
     ]
    },
    {
     "name": "stdout",
     "output_type": "stream",
     "text": [
      "2023-11-13 19:16:53.862984\n",
      "Backend topology: 2023-11-13 19:16:53.862984\n",
      "<qiskit.providers.models.backendproperties.BackendProperties object at 0x7f5293d74430>\n",
      "Depth: [468, 468, 302, 302, 302, 302]\n",
      "not na\n"
     ]
    },
    {
     "name": "stderr",
     "output_type": "stream",
     "text": [
      "\n",
      "100%|███████████████████████████████████████████████████████████████████████████████████████████████████████████████████████████████████████████████████| 1/1 [00:00<00:00, 559.09it/s]\u001b[A\n",
      " 10%|██████████████▋                                                                                                                                    | 5/50 [02:42<23:53, 31.85s/it]"
     ]
    },
    {
     "name": "stdout",
     "output_type": "stream",
     "text": [
      "Current depth: 6\n",
      "2023-07-02 19:16:57.113051\n",
      "Backend topology: 2023-07-02 19:16:57.113051\n",
      "<qiskit.providers.models.backendproperties.BackendProperties object at 0x7f51a822c0a0>\n",
      "Depth: [474, 474, 398, 398, 398, 398]\n",
      "not na\n"
     ]
    },
    {
     "name": "stderr",
     "output_type": "stream",
     "text": [
      "\n",
      "100%|███████████████████████████████████████████████████████████████████████████████████████████████████████████████████████████████████████████████████| 1/1 [00:00<00:00, 345.69it/s]\u001b[A\n"
     ]
    },
    {
     "name": "stdout",
     "output_type": "stream",
     "text": [
      "2023-09-07 19:17:00.178804\n",
      "Backend topology: 2023-09-07 19:17:00.178804\n",
      "<qiskit.providers.models.backendproperties.BackendProperties object at 0x7f5240152340>\n",
      "Depth: [326, 326, 334, 334, 336, 336]\n",
      "na\n"
     ]
    },
    {
     "name": "stderr",
     "output_type": "stream",
     "text": [
      "\n",
      "100%|███████████████████████████████████████████████████████████████████████████████████████████████████████████████████████████████████████████████████| 1/1 [00:00<00:00, 352.55it/s]\u001b[A\n"
     ]
    },
    {
     "name": "stdout",
     "output_type": "stream",
     "text": [
      "2023-07-22 19:17:03.099713\n",
      "Backend topology: 2023-07-22 19:17:03.099713\n",
      "<qiskit.providers.models.backendproperties.BackendProperties object at 0x7f5294139580>\n",
      "Depth: [792, 792, 354, 354, 354, 354]\n",
      "not na\n"
     ]
    },
    {
     "name": "stderr",
     "output_type": "stream",
     "text": [
      "\n",
      "100%|███████████████████████████████████████████████████████████████████████████████████████████████████████████████████████████████████████████████████| 1/1 [00:00<00:00, 604.98it/s]\u001b[A\n"
     ]
    },
    {
     "name": "stdout",
     "output_type": "stream",
     "text": [
      "2023-09-27 19:17:06.688831\n",
      "Backend topology: 2023-09-27 19:17:06.688831\n",
      "<qiskit.providers.models.backendproperties.BackendProperties object at 0x7f51c8587070>\n",
      "Depth: [354, 354, 350, 350, 348, 348]\n",
      "SABRE\n"
     ]
    },
    {
     "name": "stderr",
     "output_type": "stream",
     "text": [
      "\n",
      "100%|███████████████████████████████████████████████████████████████████████████████████████████████████████████████████████████████████████████████████| 1/1 [00:00<00:00, 543.09it/s]\u001b[A\n"
     ]
    },
    {
     "name": "stdout",
     "output_type": "stream",
     "text": [
      "2023-11-22 19:17:09.654201\n",
      "Backend topology: 2023-11-22 19:17:09.654201\n",
      "<qiskit.providers.models.backendproperties.BackendProperties object at 0x7f520420b4c0>\n",
      "Depth: [276, 276, 276, 276, 272, 272]\n",
      "SABRE\n"
     ]
    },
    {
     "name": "stderr",
     "output_type": "stream",
     "text": [
      "\n",
      "100%|███████████████████████████████████████████████████████████████████████████████████████████████████████████████████████████████████████████████████| 1/1 [00:00<00:00, 528.85it/s]\u001b[A\n"
     ]
    },
    {
     "name": "stdout",
     "output_type": "stream",
     "text": [
      "2023-08-23 19:17:12.524787\n",
      "Backend topology: 2023-08-23 19:17:12.524787\n",
      "<qiskit.providers.models.backendproperties.BackendProperties object at 0x7f52042077c0>\n",
      "Depth: [262, 262, 258, 258, 260, 260]\n",
      "not na\n"
     ]
    },
    {
     "name": "stderr",
     "output_type": "stream",
     "text": [
      "\n",
      "100%|███████████████████████████████████████████████████████████████████████████████████████████████████████████████████████████████████████████████████| 1/1 [00:00<00:00, 550.22it/s]\u001b[A\n"
     ]
    },
    {
     "name": "stdout",
     "output_type": "stream",
     "text": [
      "2023-10-01 19:17:14.844680\n",
      "Backend topology: 2023-10-01 19:17:14.844680\n",
      "<qiskit.providers.models.backendproperties.BackendProperties object at 0x7f5291447c10>\n",
      "Depth: [370, 370, 372, 372, 374, 374]\n",
      "na\n"
     ]
    },
    {
     "name": "stderr",
     "output_type": "stream",
     "text": [
      "\n",
      "100%|███████████████████████████████████████████████████████████████████████████████████████████████████████████████████████████████████████████████████| 1/1 [00:00<00:00, 562.69it/s]\u001b[A\n"
     ]
    },
    {
     "name": "stdout",
     "output_type": "stream",
     "text": [
      "2023-07-25 19:17:17.729249\n",
      "Backend topology: 2023-07-25 19:17:17.729249\n",
      "<qiskit.providers.models.backendproperties.BackendProperties object at 0x7f52400588e0>\n",
      "Depth: [388, 388, 376, 376, 384, 384]\n",
      "not na\n"
     ]
    },
    {
     "name": "stderr",
     "output_type": "stream",
     "text": [
      "\n",
      "100%|███████████████████████████████████████████████████████████████████████████████████████████████████████████████████████████████████████████████████| 1/1 [00:00<00:00, 363.93it/s]\u001b[A\n"
     ]
    },
    {
     "name": "stdout",
     "output_type": "stream",
     "text": [
      "2023-08-27 19:17:21.232974\n",
      "Backend topology: 2023-08-27 19:17:21.232974\n",
      "<qiskit.providers.models.backendproperties.BackendProperties object at 0x7f5264691130>\n",
      "Depth: [720, 720, 362, 362, 362, 362]\n",
      "not na\n"
     ]
    },
    {
     "name": "stderr",
     "output_type": "stream",
     "text": [
      "\n",
      "100%|███████████████████████████████████████████████████████████████████████████████████████████████████████████████████████████████████████████████████| 1/1 [00:00<00:00, 562.84it/s]\u001b[A\n"
     ]
    },
    {
     "name": "stdout",
     "output_type": "stream",
     "text": [
      "2023-11-07 19:17:24.874546\n",
      "Backend topology: 2023-11-07 19:17:24.874546\n",
      "<qiskit.providers.models.backendproperties.BackendProperties object at 0x7f528c04a8e0>\n",
      "Depth: [498, 498, 496, 496, 496, 496]\n",
      "not na\n"
     ]
    },
    {
     "name": "stderr",
     "output_type": "stream",
     "text": [
      "\n",
      "100%|███████████████████████████████████████████████████████████████████████████████████████████████████████████████████████████████████████████████████| 1/1 [00:00<00:00, 560.89it/s]\u001b[A\n",
      " 12%|█████████████████▋                                                                                                                                 | 6/50 [03:14<23:21, 31.86s/it]"
     ]
    },
    {
     "name": "stdout",
     "output_type": "stream",
     "text": [
      "Current depth: 7\n",
      "2023-07-07 19:17:28.988669\n",
      "Backend topology: 2023-07-07 19:17:28.988669\n",
      "<qiskit.providers.models.backendproperties.BackendProperties object at 0x7f528fc7f040>\n",
      "Depth: [930, 930, 466, 466, 466, 466]\n",
      "not na\n"
     ]
    },
    {
     "name": "stderr",
     "output_type": "stream",
     "text": [
      "\n",
      "100%|███████████████████████████████████████████████████████████████████████████████████████████████████████████████████████████████████████████████████| 1/1 [00:00<00:00, 560.59it/s]\u001b[A\n"
     ]
    },
    {
     "name": "stdout",
     "output_type": "stream",
     "text": [
      "2023-09-07 19:17:33.184652\n",
      "Backend topology: 2023-09-07 19:17:33.184652\n",
      "<qiskit.providers.models.backendproperties.BackendProperties object at 0x7f529612f9d0>\n",
      "Depth: [386, 386, 400, 400, 400, 400]\n",
      "na\n"
     ]
    },
    {
     "name": "stderr",
     "output_type": "stream",
     "text": [
      "\n",
      "100%|███████████████████████████████████████████████████████████████████████████████████████████████████████████████████████████████████████████████████| 1/1 [00:00<00:00, 573.31it/s]\u001b[A\n"
     ]
    },
    {
     "name": "stdout",
     "output_type": "stream",
     "text": [
      "2023-11-05 19:17:36.306010\n",
      "Backend topology: 2023-11-05 19:17:36.306010\n",
      "<qiskit.providers.models.backendproperties.BackendProperties object at 0x7f5292cd1af0>\n",
      "Depth: [460, 460, 354, 354, 354, 354]\n",
      "not na\n"
     ]
    },
    {
     "name": "stderr",
     "output_type": "stream",
     "text": [
      "\n",
      "100%|███████████████████████████████████████████████████████████████████████████████████████████████████████████████████████████████████████████████████| 1/1 [00:00<00:00, 376.34it/s]\u001b[A\n"
     ]
    },
    {
     "name": "stdout",
     "output_type": "stream",
     "text": [
      "2023-10-08 19:17:39.536463\n",
      "Backend topology: 2023-10-08 19:17:39.536463\n",
      "<qiskit.providers.models.backendproperties.BackendProperties object at 0x7f5264768a60>\n",
      "Depth: [482, 482, 488, 488, 500, 500]\n",
      "na\n"
     ]
    },
    {
     "name": "stderr",
     "output_type": "stream",
     "text": [
      "\n",
      "100%|███████████████████████████████████████████████████████████████████████████████████████████████████████████████████████████████████████████████████| 1/1 [00:00<00:00, 528.52it/s]\u001b[A\n"
     ]
    },
    {
     "name": "stdout",
     "output_type": "stream",
     "text": [
      "2023-07-14 19:17:43.249551\n",
      "Backend topology: 2023-07-14 19:17:43.249551\n",
      "<qiskit.providers.models.backendproperties.BackendProperties object at 0x7f5264365b80>\n",
      "Depth: [1034, 1034, 556, 556, 556, 556]\n",
      "not na\n"
     ]
    },
    {
     "name": "stderr",
     "output_type": "stream",
     "text": [
      "\n",
      "100%|███████████████████████████████████████████████████████████████████████████████████████████████████████████████████████████████████████████████████| 1/1 [00:00<00:00, 537.18it/s]\u001b[A\n"
     ]
    },
    {
     "name": "stdout",
     "output_type": "stream",
     "text": [
      "2023-10-08 19:17:48.298421\n",
      "Backend topology: 2023-10-08 19:17:48.298421\n",
      "<qiskit.providers.models.backendproperties.BackendProperties object at 0x7f526436c8e0>\n",
      "Depth: [318, 318, 318, 318, 318, 318]\n",
      "na\n"
     ]
    },
    {
     "name": "stderr",
     "output_type": "stream",
     "text": [
      "\n",
      "100%|███████████████████████████████████████████████████████████████████████████████████████████████████████████████████████████████████████████████████| 1/1 [00:00<00:00, 584.00it/s]\u001b[A\n"
     ]
    },
    {
     "name": "stdout",
     "output_type": "stream",
     "text": [
      "2023-07-15 19:18:17.726260\n",
      "Backend topology: 2023-07-15 19:18:17.726260\n",
      "<qiskit.providers.models.backendproperties.BackendProperties object at 0x7f51a8213040>\n"
     ]
    },
    {
     "name": "stderr",
     "output_type": "stream",
     "text": [
      "/home/ritu/anaconda3/envs/dnn_for_qubit_mapping/lib/python3.8/site-packages/qiskit/transpiler/runningpassmanager.py:166: UserWarning: Resynthesized \n",
      "\n",
      "<qiskit.circuit.library.standard_gates.sx.SXGate object at 0x7f52643ddf40>\n",
      "<qiskit.circuit.library.standard_gates.x.XGate object at 0x7f51c85c3940>\n",
      "\n",
      "and got\n",
      "\n",
      "<qiskit.circuit.library.standard_gates.rz.RZGate object at 0x7f51a8565e20>\n",
      "<qiskit.circuit.library.standard_gates.sx.SXGate object at 0x7f51a8565400>\n",
      "<qiskit.circuit.library.standard_gates.rz.RZGate object at 0x7f51a8565460>\n",
      "\n",
      "but the original was native (for ['id', 'rz', 'sx', 'x', 'cx', 'reset']) and the new value is longer.  This indicates an efficiency bug in synthesis.  Please report it by opening an issue here: https://github.com/Qiskit/qiskit-terra/issues/new/choose\n",
      "  new_dag = pass_.run(dag)\n",
      "/home/ritu/anaconda3/envs/dnn_for_qubit_mapping/lib/python3.8/site-packages/qiskit/transpiler/runningpassmanager.py:166: UserWarning: Resynthesized \n",
      "\n",
      "<qiskit.circuit.library.standard_gates.sx.SXGate object at 0x7f52643ddf40>\n",
      "<qiskit.circuit.library.standard_gates.x.XGate object at 0x7f51c85c3940>\n",
      "\n",
      "and got\n",
      "\n",
      "<qiskit.circuit.library.standard_gates.rz.RZGate object at 0x7f52240616d0>\n",
      "<qiskit.circuit.library.standard_gates.sx.SXGate object at 0x7f52240617c0>\n",
      "<qiskit.circuit.library.standard_gates.rz.RZGate object at 0x7f5224061880>\n",
      "\n",
      "but the original was native (for ['id', 'rz', 'sx', 'x', 'cx', 'reset']) and the new value is longer.  This indicates an efficiency bug in synthesis.  Please report it by opening an issue here: https://github.com/Qiskit/qiskit-terra/issues/new/choose\n",
      "  new_dag = pass_.run(dag)\n",
      "/home/ritu/anaconda3/envs/dnn_for_qubit_mapping/lib/python3.8/site-packages/qiskit/transpiler/runningpassmanager.py:166: UserWarning: Resynthesized \n",
      "\n",
      "<qiskit.circuit.library.standard_gates.sx.SXGate object at 0x7f52643ddf40>\n",
      "<qiskit.circuit.library.standard_gates.x.XGate object at 0x7f51c85c3940>\n",
      "\n",
      "and got\n",
      "\n",
      "<qiskit.circuit.library.standard_gates.rz.RZGate object at 0x7f520423d4c0>\n",
      "<qiskit.circuit.library.standard_gates.sx.SXGate object at 0x7f520423dd00>\n",
      "<qiskit.circuit.library.standard_gates.rz.RZGate object at 0x7f520423d430>\n",
      "\n",
      "but the original was native (for ['id', 'rz', 'sx', 'x', 'cx', 'reset']) and the new value is longer.  This indicates an efficiency bug in synthesis.  Please report it by opening an issue here: https://github.com/Qiskit/qiskit-terra/issues/new/choose\n",
      "  new_dag = pass_.run(dag)\n",
      "/home/ritu/anaconda3/envs/dnn_for_qubit_mapping/lib/python3.8/site-packages/qiskit/transpiler/runningpassmanager.py:166: UserWarning: Resynthesized \n",
      "\n",
      "<qiskit.circuit.library.standard_gates.sx.SXGate object at 0x7f52643ddf40>\n",
      "<qiskit.circuit.library.standard_gates.x.XGate object at 0x7f51c85c3940>\n",
      "\n",
      "and got\n",
      "\n",
      "<qiskit.circuit.library.standard_gates.rz.RZGate object at 0x7f528fc44430>\n",
      "<qiskit.circuit.library.standard_gates.sx.SXGate object at 0x7f51e821c9d0>\n",
      "<qiskit.circuit.library.standard_gates.rz.RZGate object at 0x7f51e821c520>\n",
      "\n",
      "but the original was native (for ['id', 'rz', 'sx', 'x', 'cx', 'reset']) and the new value is longer.  This indicates an efficiency bug in synthesis.  Please report it by opening an issue here: https://github.com/Qiskit/qiskit-terra/issues/new/choose\n",
      "  new_dag = pass_.run(dag)\n",
      "/home/ritu/anaconda3/envs/dnn_for_qubit_mapping/lib/python3.8/site-packages/qiskit/transpiler/runningpassmanager.py:166: UserWarning: Resynthesized \n",
      "\n",
      "<qiskit.circuit.library.standard_gates.sx.SXGate object at 0x7f52404ba370>\n",
      "<qiskit.circuit.library.standard_gates.x.XGate object at 0x7f52404ba0a0>\n",
      "\n",
      "and got\n",
      "\n",
      "<qiskit.circuit.library.standard_gates.rz.RZGate object at 0x7f51e8233100>\n",
      "<qiskit.circuit.library.standard_gates.sx.SXGate object at 0x7f51e8233400>\n",
      "<qiskit.circuit.library.standard_gates.rz.RZGate object at 0x7f51e8233f40>\n",
      "\n",
      "but the original was native (for ['id', 'rz', 'sx', 'x', 'cx', 'reset']) and the new value is longer.  This indicates an efficiency bug in synthesis.  Please report it by opening an issue here: https://github.com/Qiskit/qiskit-terra/issues/new/choose\n",
      "  new_dag = pass_.run(dag)\n",
      "/home/ritu/anaconda3/envs/dnn_for_qubit_mapping/lib/python3.8/site-packages/qiskit/transpiler/runningpassmanager.py:166: UserWarning: Resynthesized \n",
      "\n",
      "<qiskit.circuit.library.standard_gates.sx.SXGate object at 0x7f52404ba370>\n",
      "<qiskit.circuit.library.standard_gates.x.XGate object at 0x7f52404ba0a0>\n",
      "\n",
      "and got\n",
      "\n",
      "<qiskit.circuit.library.standard_gates.rz.RZGate object at 0x7f516820be80>\n",
      "<qiskit.circuit.library.standard_gates.sx.SXGate object at 0x7f51495024f0>\n",
      "<qiskit.circuit.library.standard_gates.rz.RZGate object at 0x7f5149502850>\n",
      "\n",
      "but the original was native (for ['id', 'rz', 'sx', 'x', 'cx', 'reset']) and the new value is longer.  This indicates an efficiency bug in synthesis.  Please report it by opening an issue here: https://github.com/Qiskit/qiskit-terra/issues/new/choose\n",
      "  new_dag = pass_.run(dag)\n",
      "/home/ritu/anaconda3/envs/dnn_for_qubit_mapping/lib/python3.8/site-packages/qiskit/transpiler/runningpassmanager.py:166: UserWarning: Resynthesized \n",
      "\n",
      "<qiskit.circuit.library.standard_gates.sx.SXGate object at 0x7f52404ba370>\n",
      "<qiskit.circuit.library.standard_gates.x.XGate object at 0x7f52404ba0a0>\n",
      "\n",
      "and got\n",
      "\n",
      "<qiskit.circuit.library.standard_gates.rz.RZGate object at 0x7f51a81fafa0>\n",
      "<qiskit.circuit.library.standard_gates.sx.SXGate object at 0x7f51a81fa610>\n",
      "<qiskit.circuit.library.standard_gates.rz.RZGate object at 0x7f51a81fa100>\n",
      "\n",
      "but the original was native (for ['id', 'rz', 'sx', 'x', 'cx', 'reset']) and the new value is longer.  This indicates an efficiency bug in synthesis.  Please report it by opening an issue here: https://github.com/Qiskit/qiskit-terra/issues/new/choose\n",
      "  new_dag = pass_.run(dag)\n",
      "/home/ritu/anaconda3/envs/dnn_for_qubit_mapping/lib/python3.8/site-packages/qiskit/transpiler/runningpassmanager.py:166: UserWarning: Resynthesized \n",
      "\n",
      "<qiskit.circuit.library.standard_gates.sx.SXGate object at 0x7f52404ba370>\n",
      "<qiskit.circuit.library.standard_gates.x.XGate object at 0x7f52404ba0a0>\n",
      "\n",
      "and got\n",
      "\n",
      "<qiskit.circuit.library.standard_gates.rz.RZGate object at 0x7f5224651400>\n",
      "<qiskit.circuit.library.standard_gates.sx.SXGate object at 0x7f5224651940>\n",
      "<qiskit.circuit.library.standard_gates.rz.RZGate object at 0x7f5224651910>\n",
      "\n",
      "but the original was native (for ['id', 'rz', 'sx', 'x', 'cx', 'reset']) and the new value is longer.  This indicates an efficiency bug in synthesis.  Please report it by opening an issue here: https://github.com/Qiskit/qiskit-terra/issues/new/choose\n",
      "  new_dag = pass_.run(dag)\n"
     ]
    },
    {
     "name": "stdout",
     "output_type": "stream",
     "text": [
      "Depth: [1054, 1054, 572, 572, 572, 572]\n",
      "not na\n"
     ]
    },
    {
     "name": "stderr",
     "output_type": "stream",
     "text": [
      "\n",
      "100%|███████████████████████████████████████████████████████████████████████████████████████████████████████████████████████████████████████████████████| 1/1 [00:00<00:00, 406.31it/s]\u001b[A\n"
     ]
    },
    {
     "name": "stdout",
     "output_type": "stream",
     "text": [
      "2023-11-23 19:18:23.207169\n",
      "Backend topology: 2023-11-23 19:18:23.207169\n",
      "<qiskit.providers.models.backendproperties.BackendProperties object at 0x7f528009b0d0>\n",
      "Depth: [412, 412, 322, 322, 322, 322]\n",
      "not na\n"
     ]
    },
    {
     "name": "stderr",
     "output_type": "stream",
     "text": [
      "\n",
      "100%|███████████████████████████████████████████████████████████████████████████████████████████████████████████████████████████████████████████████████| 1/1 [00:00<00:00, 345.32it/s]\u001b[A\n"
     ]
    },
    {
     "name": "stdout",
     "output_type": "stream",
     "text": [
      "2023-10-09 19:18:26.271688\n",
      "Backend topology: 2023-10-09 19:18:26.271688\n",
      "<qiskit.providers.models.backendproperties.BackendProperties object at 0x7f526454e6d0>\n",
      "Depth: [472, 472, 474, 474, 472, 472]\n",
      "na\n"
     ]
    },
    {
     "name": "stderr",
     "output_type": "stream",
     "text": [
      "\n",
      "100%|███████████████████████████████████████████████████████████████████████████████████████████████████████████████████████████████████████████████████| 1/1 [00:00<00:00, 264.56it/s]\u001b[A\n"
     ]
    },
    {
     "name": "stdout",
     "output_type": "stream",
     "text": [
      "2023-10-26 19:18:29.884521\n",
      "Backend topology: 2023-10-26 19:18:29.884521\n",
      "<qiskit.providers.models.backendproperties.BackendProperties object at 0x7f52407bd190>\n",
      "Depth: [396, 396, 390, 390, 388, 388]\n",
      "SABRE\n"
     ]
    },
    {
     "name": "stderr",
     "output_type": "stream",
     "text": [
      "\n",
      "100%|███████████████████████████████████████████████████████████████████████████████████████████████████████████████████████████████████████████████████| 1/1 [00:00<00:00, 534.58it/s]\u001b[A\n",
      " 14%|████████████████████▌                                                                                                                              | 7/50 [04:19<30:31, 42.59s/it]"
     ]
    },
    {
     "name": "stdout",
     "output_type": "stream",
     "text": [
      "Current depth: 8\n",
      "2023-11-25 19:18:33.667079\n",
      "Backend topology: 2023-11-25 19:18:33.667079\n",
      "<qiskit.providers.models.backendproperties.BackendProperties object at 0x7f526409f820>\n",
      "Depth: [790, 790, 492, 492, 492, 492]\n",
      "not na\n"
     ]
    },
    {
     "name": "stderr",
     "output_type": "stream",
     "text": [
      "\n",
      "100%|███████████████████████████████████████████████████████████████████████████████████████████████████████████████████████████████████████████████████| 1/1 [00:00<00:00, 556.27it/s]\u001b[A\n"
     ]
    },
    {
     "name": "stdout",
     "output_type": "stream",
     "text": [
      "2023-11-11 19:18:37.668620\n",
      "Backend topology: 2023-11-11 19:18:37.668620\n",
      "<qiskit.providers.models.backendproperties.BackendProperties object at 0x7f524054ba90>\n",
      "Depth: [824, 824, 474, 474, 474, 474]\n",
      "not na\n"
     ]
    },
    {
     "name": "stderr",
     "output_type": "stream",
     "text": [
      "\n",
      "100%|███████████████████████████████████████████████████████████████████████████████████████████████████████████████████████████████████████████████████| 1/1 [00:00<00:00, 600.99it/s]\u001b[A\n"
     ]
    },
    {
     "name": "stdout",
     "output_type": "stream",
     "text": [
      "2023-09-05 19:18:41.314590\n",
      "Backend topology: 2023-09-05 19:18:41.314590\n",
      "<qiskit.providers.models.backendproperties.BackendProperties object at 0x7f528c09dc40>\n",
      "Depth: [978, 978, 534, 534, 528, 528]\n",
      "SABRE\n"
     ]
    },
    {
     "name": "stderr",
     "output_type": "stream",
     "text": [
      "\n",
      "100%|███████████████████████████████████████████████████████████████████████████████████████████████████████████████████████████████████████████████████| 1/1 [00:00<00:00, 384.69it/s]\u001b[A\n"
     ]
    },
    {
     "name": "stdout",
     "output_type": "stream",
     "text": [
      "2023-10-23 19:18:45.499618\n",
      "Backend topology: 2023-10-23 19:18:45.499618\n",
      "<qiskit.providers.models.backendproperties.BackendProperties object at 0x7f522475d190>\n",
      "Depth: [540, 540, 472, 472, 472, 472]\n",
      "not na\n"
     ]
    },
    {
     "name": "stderr",
     "output_type": "stream",
     "text": [
      "\n",
      "100%|███████████████████████████████████████████████████████████████████████████████████████████████████████████████████████████████████████████████████| 1/1 [00:00<00:00, 531.33it/s]\u001b[A\n"
     ]
    },
    {
     "name": "stdout",
     "output_type": "stream",
     "text": [
      "2023-10-19 19:18:49.294821\n",
      "Backend topology: 2023-10-19 19:18:49.294821\n",
      "<qiskit.providers.models.backendproperties.BackendProperties object at 0x7f5290dba520>\n",
      "Depth: [314, 314, 308, 308, 316, 316]\n",
      "not na\n"
     ]
    },
    {
     "name": "stderr",
     "output_type": "stream",
     "text": [
      "\n",
      "100%|███████████████████████████████████████████████████████████████████████████████████████████████████████████████████████████████████████████████████| 1/1 [00:00<00:00, 556.79it/s]\u001b[A\n"
     ]
    },
    {
     "name": "stdout",
     "output_type": "stream",
     "text": [
      "2023-07-25 19:18:52.829809\n",
      "Backend topology: 2023-07-25 19:18:52.829809\n",
      "<qiskit.providers.models.backendproperties.BackendProperties object at 0x7f52930f19a0>\n",
      "Depth: [528, 528, 364, 364, 364, 364]\n",
      "not na\n"
     ]
    },
    {
     "name": "stderr",
     "output_type": "stream",
     "text": [
      "\n",
      "100%|███████████████████████████████████████████████████████████████████████████████████████████████████████████████████████████████████████████████████| 1/1 [00:00<00:00, 494.55it/s]\u001b[A\n"
     ]
    },
    {
     "name": "stdout",
     "output_type": "stream",
     "text": [
      "2023-07-03 19:18:56.173336\n",
      "Backend topology: 2023-07-03 19:18:56.173336\n",
      "<qiskit.providers.models.backendproperties.BackendProperties object at 0x7f51e87dc400>\n",
      "Depth: [512, 512, 522, 522, 512, 512]\n",
      "na\n"
     ]
    },
    {
     "name": "stderr",
     "output_type": "stream",
     "text": [
      "\n",
      "100%|███████████████████████████████████████████████████████████████████████████████████████████████████████████████████████████████████████████████████| 1/1 [00:00<00:00, 527.59it/s]\u001b[A\n"
     ]
    },
    {
     "name": "stdout",
     "output_type": "stream",
     "text": [
      "2023-10-19 19:18:59.869433\n",
      "Backend topology: 2023-10-19 19:18:59.869433\n",
      "<qiskit.providers.models.backendproperties.BackendProperties object at 0x7f5168684520>\n",
      "Depth: [432, 432, 428, 428, 424, 424]\n",
      "SABRE\n"
     ]
    },
    {
     "name": "stderr",
     "output_type": "stream",
     "text": [
      "\n",
      "100%|███████████████████████████████████████████████████████████████████████████████████████████████████████████████████████████████████████████████████| 1/1 [00:00<00:00, 541.83it/s]\u001b[A\n"
     ]
    },
    {
     "name": "stdout",
     "output_type": "stream",
     "text": [
      "2023-08-30 19:19:03.542173\n",
      "Backend topology: 2023-08-30 19:19:03.542173\n",
      "<qiskit.providers.models.backendproperties.BackendProperties object at 0x7f5290d1f580>\n",
      "Depth: [530, 530, 516, 516, 516, 516]\n",
      "not na\n"
     ]
    },
    {
     "name": "stderr",
     "output_type": "stream",
     "text": [
      "\n",
      "100%|███████████████████████████████████████████████████████████████████████████████████████████████████████████████████████████████████████████████████| 1/1 [00:00<00:00, 575.67it/s]\u001b[A\n"
     ]
    },
    {
     "name": "stdout",
     "output_type": "stream",
     "text": [
      "2023-09-13 19:19:07.507420\n",
      "Backend topology: 2023-09-13 19:19:07.507420\n",
      "<qiskit.providers.models.backendproperties.BackendProperties object at 0x7f51a856feb0>\n",
      "Depth: [1190, 1190, 572, 572, 572, 572]\n",
      "not na\n"
     ]
    },
    {
     "name": "stderr",
     "output_type": "stream",
     "text": [
      "\n",
      "100%|███████████████████████████████████████████████████████████████████████████████████████████████████████████████████████████████████████████████████| 1/1 [00:00<00:00, 530.12it/s]\u001b[A\n",
      " 16%|███████████████████████▌                                                                                                                           | 8/50 [05:07<30:54, 44.16s/it]"
     ]
    },
    {
     "name": "stdout",
     "output_type": "stream",
     "text": [
      "Current depth: 9\n",
      "2023-08-18 19:19:21.202244\n",
      "Backend topology: 2023-08-18 19:19:21.202244\n",
      "<qiskit.providers.models.backendproperties.BackendProperties object at 0x7f5290d33f40>\n",
      "Depth: [594, 594, 574, 574, 582, 582]\n",
      "not na\n"
     ]
    },
    {
     "name": "stderr",
     "output_type": "stream",
     "text": [
      "\n",
      "100%|███████████████████████████████████████████████████████████████████████████████████████████████████████████████████████████████████████████████████| 1/1 [00:00<00:00, 548.56it/s]\u001b[A\n"
     ]
    },
    {
     "name": "stdout",
     "output_type": "stream",
     "text": [
      "2023-08-03 19:19:25.988509\n",
      "Backend topology: 2023-08-03 19:19:25.988509\n",
      "<qiskit.providers.models.backendproperties.BackendProperties object at 0x7f51e825c490>\n",
      "Depth: [694, 694, 688, 688, 688, 688]\n",
      "not na\n"
     ]
    },
    {
     "name": "stderr",
     "output_type": "stream",
     "text": [
      "\n",
      "100%|███████████████████████████████████████████████████████████████████████████████████████████████████████████████████████████████████████████████████| 1/1 [00:00<00:00, 539.67it/s]\u001b[A\n"
     ]
    },
    {
     "name": "stdout",
     "output_type": "stream",
     "text": [
      "2023-07-22 19:19:30.369904\n",
      "Backend topology: 2023-07-22 19:19:30.369904\n",
      "<qiskit.providers.models.backendproperties.BackendProperties object at 0x7f52915ec9d0>\n",
      "Depth: [944, 944, 522, 522, 522, 522]\n",
      "not na\n"
     ]
    },
    {
     "name": "stderr",
     "output_type": "stream",
     "text": [
      "\n",
      "100%|███████████████████████████████████████████████████████████████████████████████████████████████████████████████████████████████████████████████████| 1/1 [00:00<00:00, 547.92it/s]\u001b[A\n"
     ]
    },
    {
     "name": "stdout",
     "output_type": "stream",
     "text": [
      "2023-09-06 19:19:34.648736\n",
      "Backend topology: 2023-09-06 19:19:34.648736\n",
      "<qiskit.providers.models.backendproperties.BackendProperties object at 0x7f516838a130>\n",
      "Depth: [514, 514, 514, 514, 516, 516]\n",
      "na\n"
     ]
    },
    {
     "name": "stderr",
     "output_type": "stream",
     "text": [
      "\n",
      "100%|███████████████████████████████████████████████████████████████████████████████████████████████████████████████████████████████████████████████████| 1/1 [00:00<00:00, 549.71it/s]\u001b[A\n"
     ]
    },
    {
     "name": "stdout",
     "output_type": "stream",
     "text": [
      "2023-07-07 19:19:38.597909\n",
      "Backend topology: 2023-07-07 19:19:38.597909\n",
      "<qiskit.providers.models.backendproperties.BackendProperties object at 0x7f528ec46be0>\n",
      "Depth: [552, 552, 546, 546, 552, 552]\n",
      "not na\n"
     ]
    },
    {
     "name": "stderr",
     "output_type": "stream",
     "text": [
      "\n",
      "100%|███████████████████████████████████████████████████████████████████████████████████████████████████████████████████████████████████████████████████| 1/1 [00:00<00:00, 596.97it/s]\u001b[A\n"
     ]
    },
    {
     "name": "stdout",
     "output_type": "stream",
     "text": [
      "2023-11-17 19:19:42.740701\n",
      "Backend topology: 2023-11-17 19:19:42.740701\n",
      "<qiskit.providers.models.backendproperties.BackendProperties object at 0x7f51a809b6a0>\n",
      "Depth: [498, 498, 496, 496, 498, 498]\n",
      "not na\n"
     ]
    },
    {
     "name": "stderr",
     "output_type": "stream",
     "text": [
      "\n",
      "100%|███████████████████████████████████████████████████████████████████████████████████████████████████████████████████████████████████████████████████| 1/1 [00:00<00:00, 385.79it/s]\u001b[A\n"
     ]
    },
    {
     "name": "stdout",
     "output_type": "stream",
     "text": [
      "2023-08-24 19:19:46.234391\n",
      "Backend topology: 2023-08-24 19:19:46.234391\n",
      "<qiskit.providers.models.backendproperties.BackendProperties object at 0x7f51e858c700>\n",
      "Depth: [366, 366, 354, 354, 362, 362]\n",
      "not na\n"
     ]
    },
    {
     "name": "stderr",
     "output_type": "stream",
     "text": [
      "\n",
      "100%|███████████████████████████████████████████████████████████████████████████████████████████████████████████████████████████████████████████████████| 1/1 [00:00<00:00, 544.01it/s]\u001b[A\n"
     ]
    },
    {
     "name": "stdout",
     "output_type": "stream",
     "text": [
      "2023-09-11 19:19:49.636195\n",
      "Backend topology: 2023-09-11 19:19:49.636195\n",
      "<qiskit.providers.models.backendproperties.BackendProperties object at 0x7f52245c3640>\n",
      "Depth: [1014, 1014, 546, 546, 546, 546]\n",
      "not na\n"
     ]
    },
    {
     "name": "stderr",
     "output_type": "stream",
     "text": [
      "\n",
      "100%|███████████████████████████████████████████████████████████████████████████████████████████████████████████████████████████████████████████████████| 1/1 [00:00<00:00, 519.55it/s]\u001b[A\n"
     ]
    },
    {
     "name": "stdout",
     "output_type": "stream",
     "text": [
      "2023-10-30 19:19:54.015499\n",
      "Backend topology: 2023-10-30 19:19:54.015499\n",
      "<qiskit.providers.models.backendproperties.BackendProperties object at 0x7f5293c70370>\n",
      "Depth: [434, 434, 432, 432, 432, 432]\n",
      "not na\n"
     ]
    },
    {
     "name": "stderr",
     "output_type": "stream",
     "text": [
      "\n",
      "100%|███████████████████████████████████████████████████████████████████████████████████████████████████████████████████████████████████████████████████| 1/1 [00:00<00:00, 600.90it/s]\u001b[A\n"
     ]
    },
    {
     "name": "stdout",
     "output_type": "stream",
     "text": [
      "2023-08-01 19:19:57.364887\n",
      "Backend topology: 2023-08-01 19:19:57.364887\n",
      "<qiskit.providers.models.backendproperties.BackendProperties object at 0x7f5293061610>\n",
      "Depth: [754, 754, 586, 586, 600, 600]\n",
      "not na\n"
     ]
    },
    {
     "name": "stderr",
     "output_type": "stream",
     "text": [
      "\n",
      "100%|███████████████████████████████████████████████████████████████████████████████████████████████████████████████████████████████████████████████████| 1/1 [00:00<00:00, 617.72it/s]\u001b[A\n",
      " 18%|██████████████████████████▍                                                                                                                        | 9/50 [05:47<29:23, 43.00s/it]"
     ]
    },
    {
     "name": "stdout",
     "output_type": "stream",
     "text": [
      "Current depth: 10\n",
      "2023-08-08 19:20:01.648970\n",
      "Backend topology: 2023-08-08 19:20:01.648970\n",
      "<qiskit.providers.models.backendproperties.BackendProperties object at 0x7f51c808cbe0>\n",
      "Depth: [516, 516, 516, 516, 516, 516]\n",
      "na\n"
     ]
    },
    {
     "name": "stderr",
     "output_type": "stream",
     "text": [
      "\n",
      "100%|███████████████████████████████████████████████████████████████████████████████████████████████████████████████████████████████████████████████████| 1/1 [00:00<00:00, 527.19it/s]\u001b[A\n"
     ]
    },
    {
     "name": "stdout",
     "output_type": "stream",
     "text": [
      "2023-09-16 19:20:05.428293\n",
      "Backend topology: 2023-09-16 19:20:05.428293\n",
      "<qiskit.providers.models.backendproperties.BackendProperties object at 0x7f51e82c7820>\n",
      "Depth: [664, 664, 664, 664, 662, 662]\n",
      "SABRE\n"
     ]
    },
    {
     "name": "stderr",
     "output_type": "stream",
     "text": [
      "\n",
      "100%|███████████████████████████████████████████████████████████████████████████████████████████████████████████████████████████████████████████████████| 1/1 [00:00<00:00, 422.39it/s]\u001b[A\n"
     ]
    },
    {
     "name": "stdout",
     "output_type": "stream",
     "text": [
      "2023-08-09 19:20:09.956664\n",
      "Backend topology: 2023-08-09 19:20:09.956664\n",
      "<qiskit.providers.models.backendproperties.BackendProperties object at 0x7f52645bdbb0>\n",
      "Depth: [772, 772, 798, 798, 772, 772]\n",
      "na\n"
     ]
    },
    {
     "name": "stderr",
     "output_type": "stream",
     "text": [
      "\n",
      "100%|███████████████████████████████████████████████████████████████████████████████████████████████████████████████████████████████████████████████████| 1/1 [00:00<00:00, 553.85it/s]\u001b[A\n"
     ]
    },
    {
     "name": "stdout",
     "output_type": "stream",
     "text": [
      "2023-09-01 19:20:14.634359\n",
      "Backend topology: 2023-09-01 19:20:14.634359\n",
      "<qiskit.providers.models.backendproperties.BackendProperties object at 0x7f52958eb580>\n",
      "Depth: [670, 670, 670, 670, 670, 670]\n",
      "na\n"
     ]
    },
    {
     "name": "stderr",
     "output_type": "stream",
     "text": [
      "\n",
      "100%|███████████████████████████████████████████████████████████████████████████████████████████████████████████████████████████████████████████████████| 1/1 [00:00<00:00, 584.08it/s]\u001b[A\n"
     ]
    },
    {
     "name": "stdout",
     "output_type": "stream",
     "text": [
      "2023-10-18 19:20:19.307184\n",
      "Backend topology: 2023-10-18 19:20:19.307184\n",
      "<qiskit.providers.models.backendproperties.BackendProperties object at 0x7f52400683a0>\n",
      "Depth: [582, 582, 580, 580, 584, 584]\n",
      "not na\n"
     ]
    },
    {
     "name": "stderr",
     "output_type": "stream",
     "text": [
      "\n",
      "100%|███████████████████████████████████████████████████████████████████████████████████████████████████████████████████████████████████████████████████| 1/1 [00:00<00:00, 395.32it/s]\u001b[A\n"
     ]
    },
    {
     "name": "stdout",
     "output_type": "stream",
     "text": [
      "2023-09-08 19:20:23.396265\n",
      "Backend topology: 2023-09-08 19:20:23.396265\n",
      "<qiskit.providers.models.backendproperties.BackendProperties object at 0x7f52645bdbb0>\n",
      "Depth: [894, 894, 530, 530, 524, 524]\n",
      "SABRE\n"
     ]
    },
    {
     "name": "stderr",
     "output_type": "stream",
     "text": [
      "\n",
      "100%|███████████████████████████████████████████████████████████████████████████████████████████████████████████████████████████████████████████████████| 1/1 [00:00<00:00, 622.49it/s]\u001b[A\n"
     ]
    },
    {
     "name": "stdout",
     "output_type": "stream",
     "text": [
      "2023-07-08 19:20:27.596596\n",
      "Backend topology: 2023-07-08 19:20:27.596596\n",
      "<qiskit.providers.models.backendproperties.BackendProperties object at 0x7f5224128700>\n",
      "Depth: [762, 762, 764, 764, 768, 768]\n",
      "na\n"
     ]
    },
    {
     "name": "stderr",
     "output_type": "stream",
     "text": [
      "\n",
      "100%|███████████████████████████████████████████████████████████████████████████████████████████████████████████████████████████████████████████████████| 1/1 [00:00<00:00, 578.84it/s]\u001b[A\n"
     ]
    },
    {
     "name": "stdout",
     "output_type": "stream",
     "text": [
      "2023-10-28 19:20:32.680119\n",
      "Backend topology: 2023-10-28 19:20:32.680119\n",
      "<qiskit.providers.models.backendproperties.BackendProperties object at 0x7f52245dc5e0>\n",
      "Depth: [640, 640, 642, 642, 640, 640]\n",
      "na\n"
     ]
    },
    {
     "name": "stderr",
     "output_type": "stream",
     "text": [
      "\n",
      "100%|███████████████████████████████████████████████████████████████████████████████████████████████████████████████████████████████████████████████████| 1/1 [00:00<00:00, 553.27it/s]\u001b[A\n"
     ]
    },
    {
     "name": "stdout",
     "output_type": "stream",
     "text": [
      "2023-10-07 19:20:37.436870\n",
      "Backend topology: 2023-10-07 19:20:37.436870\n",
      "<qiskit.providers.models.backendproperties.BackendProperties object at 0x7f52405e3550>\n",
      "Depth: [818, 818, 810, 810, 784, 784]\n",
      "SABRE\n"
     ]
    },
    {
     "name": "stderr",
     "output_type": "stream",
     "text": [
      "\n",
      "100%|███████████████████████████████████████████████████████████████████████████████████████████████████████████████████████████████████████████████████| 1/1 [00:00<00:00, 576.38it/s]\u001b[A\n"
     ]
    },
    {
     "name": "stdout",
     "output_type": "stream",
     "text": [
      "2023-08-02 19:20:42.366771\n",
      "Backend topology: 2023-08-02 19:20:42.366771\n",
      "<qiskit.providers.models.backendproperties.BackendProperties object at 0x7f5295dd9af0>\n",
      "Depth: [844, 844, 838, 838, 838, 838]\n",
      "not na\n"
     ]
    },
    {
     "name": "stderr",
     "output_type": "stream",
     "text": [
      "\n",
      "100%|███████████████████████████████████████████████████████████████████████████████████████████████████████████████████████████████████████████████████| 1/1 [00:00<00:00, 564.13it/s]\u001b[A\n",
      " 20%|█████████████████████████████▏                                                                                                                    | 10/50 [06:32<29:10, 43.76s/it]"
     ]
    },
    {
     "name": "stdout",
     "output_type": "stream",
     "text": [
      "Current depth: 11\n",
      "2023-10-24 19:20:47.123415\n",
      "Backend topology: 2023-10-24 19:20:47.123415\n",
      "<qiskit.providers.models.backendproperties.BackendProperties object at 0x7f51883ec820>\n",
      "Depth: [724, 724, 724, 724, 722, 722]\n",
      "SABRE\n"
     ]
    },
    {
     "name": "stderr",
     "output_type": "stream",
     "text": [
      "\n",
      "100%|███████████████████████████████████████████████████████████████████████████████████████████████████████████████████████████████████████████████████| 1/1 [00:00<00:00, 609.81it/s]\u001b[A\n"
     ]
    },
    {
     "name": "stdout",
     "output_type": "stream",
     "text": [
      "2023-09-24 19:20:51.484863\n",
      "Backend topology: 2023-09-24 19:20:51.484863\n",
      "<qiskit.providers.models.backendproperties.BackendProperties object at 0x7f5149239fa0>\n",
      "Depth: [650, 650, 584, 584, 578, 578]\n",
      "SABRE\n"
     ]
    },
    {
     "name": "stderr",
     "output_type": "stream",
     "text": [
      "\n",
      "100%|███████████████████████████████████████████████████████████████████████████████████████████████████████████████████████████████████████████████████| 1/1 [00:00<00:00, 587.77it/s]\u001b[A\n"
     ]
    },
    {
     "name": "stdout",
     "output_type": "stream",
     "text": [
      "2023-07-06 19:20:56.407854\n",
      "Backend topology: 2023-07-06 19:20:56.407854\n",
      "<qiskit.providers.models.backendproperties.BackendProperties object at 0x7f5264365b80>\n",
      "Depth: [1446, 1446, 720, 720, 720, 720]\n",
      "not na\n"
     ]
    },
    {
     "name": "stderr",
     "output_type": "stream",
     "text": [
      "\n",
      "100%|███████████████████████████████████████████████████████████████████████████████████████████████████████████████████████████████████████████████████| 1/1 [00:00<00:00, 589.09it/s]\u001b[A\n"
     ]
    },
    {
     "name": "stdout",
     "output_type": "stream",
     "text": [
      "2023-11-18 19:21:01.820158\n",
      "Backend topology: 2023-11-18 19:21:01.820158\n",
      "<qiskit.providers.models.backendproperties.BackendProperties object at 0x7f529618ceb0>\n",
      "Depth: [566, 566, 562, 562, 562, 562]\n",
      "not na\n"
     ]
    },
    {
     "name": "stderr",
     "output_type": "stream",
     "text": [
      "\n",
      "100%|███████████████████████████████████████████████████████████████████████████████████████████████████████████████████████████████████████████████████| 1/1 [00:00<00:00, 559.84it/s]\u001b[A\n"
     ]
    },
    {
     "name": "stdout",
     "output_type": "stream",
     "text": [
      "2023-11-18 19:21:05.832800\n",
      "Backend topology: 2023-11-18 19:21:05.832800\n",
      "<qiskit.providers.models.backendproperties.BackendProperties object at 0x7f52046f6340>\n",
      "Depth: [468, 468, 466, 466, 466, 466]\n",
      "not na\n"
     ]
    },
    {
     "name": "stderr",
     "output_type": "stream",
     "text": [
      "\n",
      "100%|███████████████████████████████████████████████████████████████████████████████████████████████████████████████████████████████████████████████████| 1/1 [00:00<00:00, 557.53it/s]\u001b[A\n"
     ]
    },
    {
     "name": "stdout",
     "output_type": "stream",
     "text": [
      "2023-09-15 19:21:09.120150\n",
      "Backend topology: 2023-09-15 19:21:09.120150\n",
      "<qiskit.providers.models.backendproperties.BackendProperties object at 0x7f5295925e50>\n",
      "Depth: [708, 708, 718, 718, 718, 718]\n",
      "na\n"
     ]
    },
    {
     "name": "stderr",
     "output_type": "stream",
     "text": [
      "\n",
      "100%|███████████████████████████████████████████████████████████████████████████████████████████████████████████████████████████████████████████████████| 1/1 [00:00<00:00, 597.31it/s]\u001b[A\n"
     ]
    },
    {
     "name": "stdout",
     "output_type": "stream",
     "text": [
      "2023-10-24 19:21:13.418765\n",
      "Backend topology: 2023-10-24 19:21:13.418765\n",
      "<qiskit.providers.models.backendproperties.BackendProperties object at 0x7f52407bda30>\n",
      "Depth: [744, 744, 742, 742, 740, 740]\n",
      "SABRE\n"
     ]
    },
    {
     "name": "stderr",
     "output_type": "stream",
     "text": [
      "\n",
      "100%|███████████████████████████████████████████████████████████████████████████████████████████████████████████████████████████████████████████████████| 1/1 [00:00<00:00, 603.93it/s]\u001b[A\n"
     ]
    },
    {
     "name": "stdout",
     "output_type": "stream",
     "text": [
      "2023-09-22 19:21:18.074617\n",
      "Backend topology: 2023-09-22 19:21:18.074617\n",
      "<qiskit.providers.models.backendproperties.BackendProperties object at 0x7f5240043eb0>\n",
      "Depth: [1284, 1284, 734, 734, 734, 734]\n",
      "not na\n"
     ]
    },
    {
     "name": "stderr",
     "output_type": "stream",
     "text": [
      "\n",
      "100%|███████████████████████████████████████████████████████████████████████████████████████████████████████████████████████████████████████████████████| 1/1 [00:00<00:00, 534.44it/s]\u001b[A\n"
     ]
    },
    {
     "name": "stdout",
     "output_type": "stream",
     "text": [
      "2023-11-22 19:21:23.328017\n",
      "Backend topology: 2023-11-22 19:21:23.328017\n",
      "<qiskit.providers.models.backendproperties.BackendProperties object at 0x7f5204313910>\n",
      "Depth: [864, 864, 880, 880, 880, 880]\n",
      "na\n"
     ]
    },
    {
     "name": "stderr",
     "output_type": "stream",
     "text": [
      "\n",
      "100%|███████████████████████████████████████████████████████████████████████████████████████████████████████████████████████████████████████████████████| 1/1 [00:00<00:00, 554.00it/s]\u001b[A\n"
     ]
    },
    {
     "name": "stdout",
     "output_type": "stream",
     "text": [
      "2023-08-29 19:21:28.571581\n",
      "Backend topology: 2023-08-29 19:21:28.571581\n",
      "<qiskit.providers.models.backendproperties.BackendProperties object at 0x7f528fc79850>\n",
      "Depth: [758, 758, 760, 760, 760, 760]\n",
      "na\n"
     ]
    },
    {
     "name": "stderr",
     "output_type": "stream",
     "text": [
      "\n",
      "100%|███████████████████████████████████████████████████████████████████████████████████████████████████████████████████████████████████████████████████| 1/1 [00:00<00:00, 560.14it/s]\u001b[A\n",
      " 22%|████████████████████████████████                                                                                                                  | 11/50 [07:18<28:51, 44.39s/it]"
     ]
    },
    {
     "name": "stdout",
     "output_type": "stream",
     "text": [
      "Current depth: 12\n",
      "2023-08-11 19:21:32.942690\n",
      "Backend topology: 2023-08-11 19:21:32.942690\n",
      "<qiskit.providers.models.backendproperties.BackendProperties object at 0x7f529294eb50>\n",
      "Depth: [1182, 1182, 652, 652, 652, 652]\n",
      "not na\n"
     ]
    },
    {
     "name": "stderr",
     "output_type": "stream",
     "text": [
      "\n",
      "100%|███████████████████████████████████████████████████████████████████████████████████████████████████████████████████████████████████████████████████| 1/1 [00:00<00:00, 402.91it/s]\u001b[A\n"
     ]
    },
    {
     "name": "stdout",
     "output_type": "stream",
     "text": [
      "2023-09-27 19:21:38.492623\n",
      "Backend topology: 2023-09-27 19:21:38.492623\n",
      "<qiskit.providers.models.backendproperties.BackendProperties object at 0x7f51c83ac670>\n",
      "Depth: [818, 818, 804, 804, 804, 804]\n",
      "not na\n"
     ]
    },
    {
     "name": "stderr",
     "output_type": "stream",
     "text": [
      "\n",
      "100%|███████████████████████████████████████████████████████████████████████████████████████████████████████████████████████████████████████████████████| 1/1 [00:00<00:00, 400.14it/s]\u001b[A\n"
     ]
    },
    {
     "name": "stdout",
     "output_type": "stream",
     "text": [
      "2023-07-05 19:21:43.398739\n",
      "Backend topology: 2023-07-05 19:21:43.398739\n",
      "<qiskit.providers.models.backendproperties.BackendProperties object at 0x7f5240221580>\n",
      "Depth: [648, 648, 646, 646, 650, 650]\n",
      "not na\n"
     ]
    },
    {
     "name": "stderr",
     "output_type": "stream",
     "text": [
      "\n",
      "100%|███████████████████████████████████████████████████████████████████████████████████████████████████████████████████████████████████████████████████| 1/1 [00:00<00:00, 389.12it/s]\u001b[A\n"
     ]
    },
    {
     "name": "stdout",
     "output_type": "stream",
     "text": [
      "2023-08-12 19:21:47.912750\n",
      "Backend topology: 2023-08-12 19:21:47.912750\n",
      "<qiskit.providers.models.backendproperties.BackendProperties object at 0x7f52245ed490>\n",
      "Depth: [642, 642, 624, 624, 624, 624]\n",
      "not na\n"
     ]
    },
    {
     "name": "stderr",
     "output_type": "stream",
     "text": [
      "\n",
      "100%|███████████████████████████████████████████████████████████████████████████████████████████████████████████████████████████████████████████████████| 1/1 [00:00<00:00, 620.64it/s]\u001b[A\n"
     ]
    },
    {
     "name": "stdout",
     "output_type": "stream",
     "text": [
      "2023-07-21 19:21:52.320330\n",
      "Backend topology: 2023-07-21 19:21:52.320330\n",
      "<qiskit.providers.models.backendproperties.BackendProperties object at 0x7f51e82e7340>\n",
      "Depth: [896, 896, 892, 892, 900, 900]\n",
      "not na\n"
     ]
    },
    {
     "name": "stderr",
     "output_type": "stream",
     "text": [
      "\n",
      "100%|███████████████████████████████████████████████████████████████████████████████████████████████████████████████████████████████████████████████████| 1/1 [00:00<00:00, 420.14it/s]\u001b[A\n"
     ]
    },
    {
     "name": "stdout",
     "output_type": "stream",
     "text": [
      "2023-09-11 19:21:58.917634\n",
      "Backend topology: 2023-09-11 19:21:58.917634\n",
      "<qiskit.providers.models.backendproperties.BackendProperties object at 0x7f520438b910>\n",
      "Depth: [1146, 1146, 656, 656, 656, 656]\n",
      "not na\n"
     ]
    },
    {
     "name": "stderr",
     "output_type": "stream",
     "text": [
      "\n",
      "100%|███████████████████████████████████████████████████████████████████████████████████████████████████████████████████████████████████████████████████| 1/1 [00:00<00:00, 578.84it/s]\u001b[A\n"
     ]
    },
    {
     "name": "stdout",
     "output_type": "stream",
     "text": [
      "2023-08-18 19:22:03.897819\n",
      "Backend topology: 2023-08-18 19:22:03.897819\n",
      "<qiskit.providers.models.backendproperties.BackendProperties object at 0x7f52404dea90>\n",
      "Depth: [1224, 1224, 654, 654, 654, 654]\n",
      "not na\n"
     ]
    },
    {
     "name": "stderr",
     "output_type": "stream",
     "text": [
      "\n",
      "100%|███████████████████████████████████████████████████████████████████████████████████████████████████████████████████████████████████████████████████| 1/1 [00:00<00:00, 589.50it/s]\u001b[A\n"
     ]
    },
    {
     "name": "stdout",
     "output_type": "stream",
     "text": [
      "2023-11-20 19:22:08.865039\n",
      "Backend topology: 2023-11-20 19:22:08.865039\n",
      "<qiskit.providers.models.backendproperties.BackendProperties object at 0x7f529304a7f0>\n",
      "Depth: [596, 596, 602, 602, 600, 600]\n",
      "na\n"
     ]
    },
    {
     "name": "stderr",
     "output_type": "stream",
     "text": [
      "\n",
      "100%|███████████████████████████████████████████████████████████████████████████████████████████████████████████████████████████████████████████████████| 1/1 [00:00<00:00, 572.68it/s]\u001b[A\n"
     ]
    },
    {
     "name": "stdout",
     "output_type": "stream",
     "text": [
      "2023-11-04 19:22:12.935058\n",
      "Backend topology: 2023-11-04 19:22:12.935058\n",
      "<qiskit.providers.models.backendproperties.BackendProperties object at 0x7f522407f130>\n",
      "Depth: [582, 582, 572, 572, 572, 572]\n",
      "not na\n"
     ]
    },
    {
     "name": "stderr",
     "output_type": "stream",
     "text": [
      "\n",
      "100%|███████████████████████████████████████████████████████████████████████████████████████████████████████████████████████████████████████████████████| 1/1 [00:00<00:00, 567.80it/s]\u001b[A\n"
     ]
    },
    {
     "name": "stdout",
     "output_type": "stream",
     "text": [
      "2023-11-06 19:22:17.468125\n",
      "Backend topology: 2023-11-06 19:22:17.468125\n",
      "<qiskit.providers.models.backendproperties.BackendProperties object at 0x7f522452b820>\n",
      "Depth: [1102, 1102, 806, 806, 792, 792]\n",
      "SABRE\n"
     ]
    },
    {
     "name": "stderr",
     "output_type": "stream",
     "text": [
      "\n",
      "100%|███████████████████████████████████████████████████████████████████████████████████████████████████████████████████████████████████████████████████| 1/1 [00:00<00:00, 566.03it/s]\u001b[A\n",
      " 24%|███████████████████████████████████                                                                                                               | 12/50 [08:08<29:07, 45.99s/it]"
     ]
    },
    {
     "name": "stdout",
     "output_type": "stream",
     "text": [
      "Current depth: 13\n",
      "2023-08-07 19:22:22.571519\n",
      "Backend topology: 2023-08-07 19:22:22.571519\n",
      "<qiskit.providers.models.backendproperties.BackendProperties object at 0x7f51687bfc40>\n",
      "Depth: [858, 858, 852, 852, 838, 838]\n",
      "SABRE\n"
     ]
    },
    {
     "name": "stderr",
     "output_type": "stream",
     "text": [
      "\n",
      "100%|███████████████████████████████████████████████████████████████████████████████████████████████████████████████████████████████████████████████████| 1/1 [00:00<00:00, 400.26it/s]\u001b[A\n"
     ]
    },
    {
     "name": "stdout",
     "output_type": "stream",
     "text": [
      "2023-08-12 19:22:27.834979\n",
      "Backend topology: 2023-08-12 19:22:27.834979\n",
      "<qiskit.providers.models.backendproperties.BackendProperties object at 0x7f5293d74430>\n",
      "Depth: [902, 902, 806, 806, 804, 804]\n",
      "SABRE\n"
     ]
    },
    {
     "name": "stderr",
     "output_type": "stream",
     "text": [
      "\n",
      "100%|███████████████████████████████████████████████████████████████████████████████████████████████████████████████████████████████████████████████████| 1/1 [00:00<00:00, 565.65it/s]\u001b[A\n"
     ]
    },
    {
     "name": "stdout",
     "output_type": "stream",
     "text": [
      "2023-08-24 19:22:33.760275\n",
      "Backend topology: 2023-08-24 19:22:33.760275\n",
      "<qiskit.providers.models.backendproperties.BackendProperties object at 0x7f5240432490>\n",
      "Depth: [814, 814, 796, 796, 814, 814]\n",
      "not na\n"
     ]
    },
    {
     "name": "stderr",
     "output_type": "stream",
     "text": [
      "\n",
      "100%|███████████████████████████████████████████████████████████████████████████████████████████████████████████████████████████████████████████████████| 1/1 [00:00<00:00, 557.31it/s]\u001b[A\n"
     ]
    },
    {
     "name": "stdout",
     "output_type": "stream",
     "text": [
      "2023-11-14 19:22:38.609539\n",
      "Backend topology: 2023-11-14 19:22:38.609539\n",
      "<qiskit.providers.models.backendproperties.BackendProperties object at 0x7f52909a79a0>\n",
      "Depth: [764, 764, 686, 686, 690, 690]\n",
      "not na\n"
     ]
    },
    {
     "name": "stderr",
     "output_type": "stream",
     "text": [
      "\n",
      "100%|███████████████████████████████████████████████████████████████████████████████████████████████████████████████████████████████████████████████████| 1/1 [00:00<00:00, 380.61it/s]\u001b[A\n"
     ]
    },
    {
     "name": "stdout",
     "output_type": "stream",
     "text": [
      "2023-08-06 19:22:43.437222\n",
      "Backend topology: 2023-08-06 19:22:43.437222\n",
      "<qiskit.providers.models.backendproperties.BackendProperties object at 0x7f51687cb070>\n",
      "Depth: [1116, 1116, 946, 946, 944, 944]\n",
      "SABRE\n"
     ]
    },
    {
     "name": "stderr",
     "output_type": "stream",
     "text": [
      "\n",
      "100%|███████████████████████████████████████████████████████████████████████████████████████████████████████████████████████████████████████████████████| 1/1 [00:00<00:00, 533.76it/s]\u001b[A\n"
     ]
    },
    {
     "name": "stdout",
     "output_type": "stream",
     "text": [
      "2023-10-15 19:22:48.695344\n",
      "Backend topology: 2023-10-15 19:22:48.695344\n",
      "<qiskit.providers.models.backendproperties.BackendProperties object at 0x7f52800cbe80>\n",
      "Depth: [798, 798, 708, 708, 708, 708]\n",
      "not na\n"
     ]
    },
    {
     "name": "stderr",
     "output_type": "stream",
     "text": [
      "\n",
      "100%|███████████████████████████████████████████████████████████████████████████████████████████████████████████████████████████████████████████████████| 1/1 [00:00<00:00, 599.19it/s]\u001b[A\n"
     ]
    },
    {
     "name": "stdout",
     "output_type": "stream",
     "text": [
      "2023-10-29 19:22:54.120008\n",
      "Backend topology: 2023-10-29 19:22:54.120008\n",
      "<qiskit.providers.models.backendproperties.BackendProperties object at 0x7f5290c63670>\n",
      "Depth: [934, 934, 928, 928, 928, 928]\n",
      "not na\n"
     ]
    },
    {
     "name": "stderr",
     "output_type": "stream",
     "text": [
      "\n",
      "100%|███████████████████████████████████████████████████████████████████████████████████████████████████████████████████████████████████████████████████| 1/1 [00:00<00:00, 584.57it/s]\u001b[A\n"
     ]
    },
    {
     "name": "stdout",
     "output_type": "stream",
     "text": [
      "2023-10-29 19:22:59.511132\n",
      "Backend topology: 2023-10-29 19:22:59.511132\n",
      "<qiskit.providers.models.backendproperties.BackendProperties object at 0x7f52247e1490>\n",
      "Depth: [896, 896, 712, 712, 712, 712]\n",
      "not na\n"
     ]
    },
    {
     "name": "stderr",
     "output_type": "stream",
     "text": [
      "\n",
      "100%|███████████████████████████████████████████████████████████████████████████████████████████████████████████████████████████████████████████████████| 1/1 [00:00<00:00, 544.15it/s]\u001b[A\n"
     ]
    },
    {
     "name": "stdout",
     "output_type": "stream",
     "text": [
      "2023-11-07 19:23:04.562403\n",
      "Backend topology: 2023-11-07 19:23:04.562403\n",
      "<qiskit.providers.models.backendproperties.BackendProperties object at 0x7f5264612cd0>\n",
      "Depth: [924, 924, 906, 906, 916, 916]\n",
      "not na\n"
     ]
    },
    {
     "name": "stderr",
     "output_type": "stream",
     "text": [
      "\n",
      "100%|███████████████████████████████████████████████████████████████████████████████████████████████████████████████████████████████████████████████████| 1/1 [00:00<00:00, 414.83it/s]\u001b[A\n"
     ]
    },
    {
     "name": "stdout",
     "output_type": "stream",
     "text": [
      "2023-10-10 19:23:10.648996\n",
      "Backend topology: 2023-10-10 19:23:10.648996\n",
      "<qiskit.providers.models.backendproperties.BackendProperties object at 0x7f5295593490>\n",
      "Depth: [626, 626, 620, 620, 620, 620]\n",
      "not na\n"
     ]
    },
    {
     "name": "stderr",
     "output_type": "stream",
     "text": [
      "\n",
      "100%|███████████████████████████████████████████████████████████████████████████████████████████████████████████████████████████████████████████████████| 1/1 [00:00<00:00, 365.33it/s]\u001b[A\n",
      " 26%|█████████████████████████████████████▉                                                                                                            | 13/50 [09:00<29:28, 47.81s/it]"
     ]
    },
    {
     "name": "stdout",
     "output_type": "stream",
     "text": [
      "Current depth: 14\n",
      "2023-07-06 19:23:14.572318\n",
      "Backend topology: 2023-07-06 19:23:14.572318\n",
      "<qiskit.providers.models.backendproperties.BackendProperties object at 0x7f51a87f1a00>\n",
      "Depth: [744, 744, 736, 736, 742, 742]\n",
      "not na\n"
     ]
    },
    {
     "name": "stderr",
     "output_type": "stream",
     "text": [
      "\n",
      "100%|███████████████████████████████████████████████████████████████████████████████████████████████████████████████████████████████████████████████████| 1/1 [00:00<00:00, 380.30it/s]\u001b[A\n"
     ]
    },
    {
     "name": "stdout",
     "output_type": "stream",
     "text": [
      "2023-11-04 19:23:19.011001\n",
      "Backend topology: 2023-11-04 19:23:19.011001\n",
      "<qiskit.providers.models.backendproperties.BackendProperties object at 0x7f520459ad90>\n",
      "Depth: [848, 848, 848, 848, 848, 848]\n",
      "na\n"
     ]
    },
    {
     "name": "stderr",
     "output_type": "stream",
     "text": [
      "\n",
      "100%|███████████████████████████████████████████████████████████████████████████████████████████████████████████████████████████████████████████████████| 1/1 [00:00<00:00, 585.14it/s]\u001b[A\n"
     ]
    },
    {
     "name": "stdout",
     "output_type": "stream",
     "text": [
      "2023-10-31 19:23:24.734584\n",
      "Backend topology: 2023-10-31 19:23:24.734584\n",
      "<qiskit.providers.models.backendproperties.BackendProperties object at 0x7f52958df430>\n",
      "Depth: [1118, 1118, 822, 822, 822, 822]\n",
      "not na\n"
     ]
    },
    {
     "name": "stderr",
     "output_type": "stream",
     "text": [
      "\n",
      "100%|███████████████████████████████████████████████████████████████████████████████████████████████████████████████████████████████████████████████████| 1/1 [00:00<00:00, 579.64it/s]\u001b[A\n"
     ]
    },
    {
     "name": "stdout",
     "output_type": "stream",
     "text": [
      "2023-11-17 19:23:30.805159\n",
      "Backend topology: 2023-11-17 19:23:30.805159\n",
      "<qiskit.providers.models.backendproperties.BackendProperties object at 0x7f52403f9280>\n",
      "Depth: [780, 780, 786, 786, 790, 790]\n",
      "na\n"
     ]
    },
    {
     "name": "stderr",
     "output_type": "stream",
     "text": [
      "\n",
      "100%|███████████████████████████████████████████████████████████████████████████████████████████████████████████████████████████████████████████████████| 1/1 [00:00<00:00, 599.61it/s]\u001b[A\n"
     ]
    },
    {
     "name": "stdout",
     "output_type": "stream",
     "text": [
      "2023-09-11 19:23:36.545686\n",
      "Backend topology: 2023-09-11 19:23:36.545686\n",
      "<qiskit.providers.models.backendproperties.BackendProperties object at 0x7f5292891820>\n",
      "Depth: [1028, 1028, 1028, 1028, 1028, 1028]\n",
      "na\n"
     ]
    },
    {
     "name": "stderr",
     "output_type": "stream",
     "text": [
      "\n",
      "100%|███████████████████████████████████████████████████████████████████████████████████████████████████████████████████████████████████████████████████| 1/1 [00:00<00:00, 408.48it/s]\u001b[A\n"
     ]
    },
    {
     "name": "stdout",
     "output_type": "stream",
     "text": [
      "2023-11-20 19:23:42.695398\n",
      "Backend topology: 2023-11-20 19:23:42.695398\n",
      "<qiskit.providers.models.backendproperties.BackendProperties object at 0x7f5240129310>\n",
      "Depth: [834, 834, 704, 704, 704, 704]\n",
      "not na\n"
     ]
    },
    {
     "name": "stderr",
     "output_type": "stream",
     "text": [
      "\n",
      "100%|███████████████████████████████████████████████████████████████████████████████████████████████████████████████████████████████████████████████████| 1/1 [00:00<00:00, 530.32it/s]\u001b[A\n"
     ]
    },
    {
     "name": "stdout",
     "output_type": "stream",
     "text": [
      "2023-09-30 19:23:47.632360\n",
      "Backend topology: 2023-09-30 19:23:47.632360\n",
      "<qiskit.providers.models.backendproperties.BackendProperties object at 0x7f52930549a0>\n",
      "Depth: [1138, 1138, 726, 726, 726, 726]\n",
      "not na\n"
     ]
    },
    {
     "name": "stderr",
     "output_type": "stream",
     "text": [
      "\n",
      "100%|███████████████████████████████████████████████████████████████████████████████████████████████████████████████████████████████████████████████████| 1/1 [00:00<00:00, 585.55it/s]\u001b[A\n"
     ]
    },
    {
     "name": "stdout",
     "output_type": "stream",
     "text": [
      "2023-08-15 19:23:53.278195\n",
      "Backend topology: 2023-08-15 19:23:53.278195\n",
      "<qiskit.providers.models.backendproperties.BackendProperties object at 0x7f5295d61b80>\n",
      "Depth: [1488, 1488, 892, 892, 892, 892]\n",
      "not na\n"
     ]
    },
    {
     "name": "stderr",
     "output_type": "stream",
     "text": [
      "\n",
      "100%|███████████████████████████████████████████████████████████████████████████████████████████████████████████████████████████████████████████████████| 1/1 [00:00<00:00, 606.90it/s]\u001b[A\n"
     ]
    },
    {
     "name": "stdout",
     "output_type": "stream",
     "text": [
      "2023-07-15 19:23:59.469133\n",
      "Backend topology: 2023-07-15 19:23:59.469133\n",
      "<qiskit.providers.models.backendproperties.BackendProperties object at 0x7f51a80833a0>\n",
      "Depth: [1476, 1476, 918, 918, 918, 918]\n",
      "not na\n"
     ]
    },
    {
     "name": "stderr",
     "output_type": "stream",
     "text": [
      "\n",
      "100%|███████████████████████████████████████████████████████████████████████████████████████████████████████████████████████████████████████████████████| 1/1 [00:00<00:00, 579.64it/s]\u001b[A\n"
     ]
    },
    {
     "name": "stdout",
     "output_type": "stream",
     "text": [
      "2023-11-08 19:24:05.582515\n",
      "Backend topology: 2023-11-08 19:24:05.582515\n",
      "<qiskit.providers.models.backendproperties.BackendProperties object at 0x7f5188345970>\n",
      "Depth: [1428, 1428, 842, 842, 842, 842]\n",
      "not na\n"
     ]
    },
    {
     "name": "stderr",
     "output_type": "stream",
     "text": [
      "\n",
      "100%|███████████████████████████████████████████████████████████████████████████████████████████████████████████████████████████████████████████████████| 1/1 [00:00<00:00, 572.76it/s]\u001b[A\n",
      " 28%|████████████████████████████████████████▉                                                                                                         | 14/50 [09:58<30:33, 50.92s/it]"
     ]
    },
    {
     "name": "stdout",
     "output_type": "stream",
     "text": [
      "Current depth: 15\n",
      "2023-09-25 19:24:12.674045\n",
      "Backend topology: 2023-09-25 19:24:12.674045\n",
      "<qiskit.providers.models.backendproperties.BackendProperties object at 0x7f51883d3730>\n",
      "Depth: [1044, 1044, 934, 934, 934, 934]\n",
      "not na\n"
     ]
    },
    {
     "name": "stderr",
     "output_type": "stream",
     "text": [
      "\n",
      "100%|███████████████████████████████████████████████████████████████████████████████████████████████████████████████████████████████████████████████████| 1/1 [00:00<00:00, 581.09it/s]\u001b[A\n"
     ]
    },
    {
     "name": "stdout",
     "output_type": "stream",
     "text": [
      "2023-08-05 19:24:18.522558\n",
      "Backend topology: 2023-08-05 19:24:18.522558\n",
      "<qiskit.providers.models.backendproperties.BackendProperties object at 0x7f52402934f0>\n",
      "Depth: [934, 934, 928, 928, 928, 928]\n",
      "not na\n"
     ]
    },
    {
     "name": "stderr",
     "output_type": "stream",
     "text": [
      "\n",
      "100%|███████████████████████████████████████████████████████████████████████████████████████████████████████████████████████████████████████████████████| 1/1 [00:00<00:00, 603.76it/s]\u001b[A\n"
     ]
    },
    {
     "name": "stdout",
     "output_type": "stream",
     "text": [
      "2023-07-26 19:24:24.731822\n",
      "Backend topology: 2023-07-26 19:24:24.731822\n",
      "<qiskit.providers.models.backendproperties.BackendProperties object at 0x7f526442a220>\n",
      "Depth: [978, 978, 982, 982, 978, 978]\n",
      "na\n"
     ]
    },
    {
     "name": "stderr",
     "output_type": "stream",
     "text": [
      "\n",
      "100%|███████████████████████████████████████████████████████████████████████████████████████████████████████████████████████████████████████████████████| 1/1 [00:00<00:00, 615.81it/s]\u001b[A\n"
     ]
    },
    {
     "name": "stdout",
     "output_type": "stream",
     "text": [
      "2023-08-19 19:24:30.567321\n",
      "Backend topology: 2023-08-19 19:24:30.567321\n",
      "<qiskit.providers.models.backendproperties.BackendProperties object at 0x7f5264645820>\n",
      "Depth: [1122, 1122, 1054, 1054, 1028, 1028]\n",
      "SABRE\n"
     ]
    },
    {
     "name": "stderr",
     "output_type": "stream",
     "text": [
      "\n",
      "100%|███████████████████████████████████████████████████████████████████████████████████████████████████████████████████████████████████████████████████| 1/1 [00:00<00:00, 606.38it/s]\u001b[A\n"
     ]
    },
    {
     "name": "stdout",
     "output_type": "stream",
     "text": [
      "2023-09-13 19:24:37.466976\n",
      "Backend topology: 2023-09-13 19:24:37.466976\n",
      "<qiskit.providers.models.backendproperties.BackendProperties object at 0x7f5293dd13a0>\n",
      "Depth: [958, 958, 960, 960, 970, 970]\n",
      "na\n"
     ]
    },
    {
     "name": "stderr",
     "output_type": "stream",
     "text": [
      "\n",
      "100%|███████████████████████████████████████████████████████████████████████████████████████████████████████████████████████████████████████████████████| 1/1 [00:00<00:00, 377.32it/s]\u001b[A\n"
     ]
    },
    {
     "name": "stdout",
     "output_type": "stream",
     "text": [
      "2023-10-09 19:24:51.336250\n",
      "Backend topology: 2023-10-09 19:24:51.336250\n",
      "<qiskit.providers.models.backendproperties.BackendProperties object at 0x7f51a861cdf0>\n",
      "Depth: [1216, 1216, 844, 844, 842, 842]\n",
      "SABRE\n"
     ]
    },
    {
     "name": "stderr",
     "output_type": "stream",
     "text": [
      "\n",
      "100%|███████████████████████████████████████████████████████████████████████████████████████████████████████████████████████████████████████████████████| 1/1 [00:00<00:00, 286.97it/s]\u001b[A\n"
     ]
    },
    {
     "name": "stdout",
     "output_type": "stream",
     "text": [
      "2023-10-31 19:24:57.680869\n",
      "Backend topology: 2023-10-31 19:24:57.680869\n",
      "<qiskit.providers.models.backendproperties.BackendProperties object at 0x7f520431d070>\n",
      "Depth: [1064, 1064, 1008, 1008, 1008, 1008]\n",
      "not na\n"
     ]
    },
    {
     "name": "stderr",
     "output_type": "stream",
     "text": [
      "\n",
      "100%|███████████████████████████████████████████████████████████████████████████████████████████████████████████████████████████████████████████████████| 1/1 [00:00<00:00, 563.67it/s]\u001b[A\n"
     ]
    },
    {
     "name": "stdout",
     "output_type": "stream",
     "text": [
      "2023-08-11 19:25:04.014815\n",
      "Backend topology: 2023-08-11 19:25:04.014815\n",
      "<qiskit.providers.models.backendproperties.BackendProperties object at 0x7f5290db4df0>\n",
      "Depth: [1726, 1726, 854, 854, 854, 854]\n",
      "not na\n"
     ]
    },
    {
     "name": "stderr",
     "output_type": "stream",
     "text": [
      "\n",
      "100%|███████████████████████████████████████████████████████████████████████████████████████████████████████████████████████████████████████████████████| 1/1 [00:00<00:00, 570.50it/s]\u001b[A\n"
     ]
    },
    {
     "name": "stdout",
     "output_type": "stream",
     "text": [
      "2023-11-26 19:25:11.114545\n",
      "Backend topology: 2023-11-26 19:25:11.114545\n",
      "<qiskit.providers.models.backendproperties.BackendProperties object at 0x7f5293dd13a0>\n",
      "Depth: [1310, 1310, 960, 960, 968, 968]\n",
      "not na\n"
     ]
    },
    {
     "name": "stderr",
     "output_type": "stream",
     "text": [
      "\n",
      "100%|███████████████████████████████████████████████████████████████████████████████████████████████████████████████████████████████████████████████████| 1/1 [00:00<00:00, 533.22it/s]\u001b[A\n"
     ]
    },
    {
     "name": "stdout",
     "output_type": "stream",
     "text": [
      "2023-10-26 19:25:17.642043\n",
      "Backend topology: 2023-10-26 19:25:17.642043\n",
      "<qiskit.providers.models.backendproperties.BackendProperties object at 0x7f51a8579f70>\n",
      "Depth: [1032, 1032, 1004, 1004, 1004, 1004]\n",
      "not na\n"
     ]
    },
    {
     "name": "stderr",
     "output_type": "stream",
     "text": [
      "\n",
      "100%|███████████████████████████████████████████████████████████████████████████████████████████████████████████████████████████████████████████████████| 1/1 [00:00<00:00, 264.69it/s]\u001b[A\n",
      " 30%|███████████████████████████████████████████▊                                                                                                      | 15/50 [11:10<33:28, 57.39s/it]"
     ]
    },
    {
     "name": "stdout",
     "output_type": "stream",
     "text": [
      "Current depth: 16\n",
      "2023-08-27 19:25:25.064346\n",
      "Backend topology: 2023-08-27 19:25:25.064346\n",
      "<qiskit.providers.models.backendproperties.BackendProperties object at 0x7f5240066250>\n",
      "Depth: [934, 934, 940, 940, 944, 944]\n",
      "na\n"
     ]
    },
    {
     "name": "stderr",
     "output_type": "stream",
     "text": [
      "\n",
      "100%|███████████████████████████████████████████████████████████████████████████████████████████████████████████████████████████████████████████████████| 1/1 [00:00<00:00, 580.61it/s]\u001b[A\n"
     ]
    },
    {
     "name": "stdout",
     "output_type": "stream",
     "text": [
      "2023-07-05 19:25:30.791545\n",
      "Backend topology: 2023-07-05 19:25:30.791545\n",
      "<qiskit.providers.models.backendproperties.BackendProperties object at 0x7f524038a670>\n",
      "Depth: [1176, 1176, 1044, 1044, 1044, 1044]\n",
      "not na\n"
     ]
    },
    {
     "name": "stderr",
     "output_type": "stream",
     "text": [
      "\n",
      "100%|███████████████████████████████████████████████████████████████████████████████████████████████████████████████████████████████████████████████████| 1/1 [00:00<00:00, 276.89it/s]\u001b[A\n"
     ]
    },
    {
     "name": "stdout",
     "output_type": "stream",
     "text": [
      "2023-08-14 19:25:51.011453\n",
      "Backend topology: 2023-08-14 19:25:51.011453\n",
      "<qiskit.providers.models.backendproperties.BackendProperties object at 0x7f52405e3130>\n",
      "Depth: [1466, 1466, 1080, 1080, 1080, 1080]\n",
      "not na\n"
     ]
    },
    {
     "name": "stderr",
     "output_type": "stream",
     "text": [
      "\n",
      "100%|███████████████████████████████████████████████████████████████████████████████████████████████████████████████████████████████████████████████████| 1/1 [00:00<00:00, 384.30it/s]\u001b[A\n"
     ]
    },
    {
     "name": "stdout",
     "output_type": "stream",
     "text": [
      "2023-11-14 19:25:58.088415\n",
      "Backend topology: 2023-11-14 19:25:58.088415\n",
      "<qiskit.providers.models.backendproperties.BackendProperties object at 0x7f52958a5b80>\n",
      "Depth: [1126, 1126, 988, 988, 988, 988]\n",
      "not na\n"
     ]
    },
    {
     "name": "stderr",
     "output_type": "stream",
     "text": [
      "\n",
      "100%|███████████████████████████████████████████████████████████████████████████████████████████████████████████████████████████████████████████████████| 1/1 [00:00<00:00, 508.46it/s]\u001b[A\n"
     ]
    },
    {
     "name": "stdout",
     "output_type": "stream",
     "text": [
      "2023-09-29 19:26:04.211719\n",
      "Backend topology: 2023-09-29 19:26:04.211719\n",
      "<qiskit.providers.models.backendproperties.BackendProperties object at 0x7f5188302a60>\n",
      "Depth: [1062, 1062, 1062, 1062, 1068, 1068]\n",
      "na\n"
     ]
    },
    {
     "name": "stderr",
     "output_type": "stream",
     "text": [
      "\n",
      "100%|███████████████████████████████████████████████████████████████████████████████████████████████████████████████████████████████████████████████████| 1/1 [00:00<00:00, 575.59it/s]\u001b[A\n"
     ]
    },
    {
     "name": "stdout",
     "output_type": "stream",
     "text": [
      "2023-08-03 19:26:09.963455\n",
      "Backend topology: 2023-08-03 19:26:09.963455\n",
      "<qiskit.providers.models.backendproperties.BackendProperties object at 0x7f5292969e80>\n",
      "Depth: [946, 946, 942, 942, 942, 942]\n",
      "not na\n"
     ]
    },
    {
     "name": "stderr",
     "output_type": "stream",
     "text": [
      "\n",
      "100%|███████████████████████████████████████████████████████████████████████████████████████████████████████████████████████████████████████████████████| 1/1 [00:00<00:00, 615.18it/s]\u001b[A\n"
     ]
    },
    {
     "name": "stdout",
     "output_type": "stream",
     "text": [
      "2023-07-29 19:26:16.634799\n",
      "Backend topology: 2023-07-29 19:26:16.634799\n",
      "<qiskit.providers.models.backendproperties.BackendProperties object at 0x7f5168248b80>\n",
      "Depth: [924, 924, 922, 922, 922, 922]\n",
      "not na\n"
     ]
    },
    {
     "name": "stderr",
     "output_type": "stream",
     "text": [
      "\n",
      "100%|███████████████████████████████████████████████████████████████████████████████████████████████████████████████████████████████████████████████████| 1/1 [00:00<00:00, 546.06it/s]\u001b[A\n"
     ]
    },
    {
     "name": "stdout",
     "output_type": "stream",
     "text": [
      "2023-07-19 19:26:21.938928\n",
      "Backend topology: 2023-07-19 19:26:21.938928\n",
      "<qiskit.providers.models.backendproperties.BackendProperties object at 0x7f5291511f10>\n",
      "Depth: [982, 982, 882, 882, 882, 882]\n",
      "not na\n"
     ]
    },
    {
     "name": "stderr",
     "output_type": "stream",
     "text": [
      "\n",
      "100%|███████████████████████████████████████████████████████████████████████████████████████████████████████████████████████████████████████████████████| 1/1 [00:00<00:00, 493.39it/s]\u001b[A\n"
     ]
    },
    {
     "name": "stdout",
     "output_type": "stream",
     "text": [
      "2023-07-17 19:26:27.596828\n",
      "Backend topology: 2023-07-17 19:26:27.596828\n",
      "<qiskit.providers.models.backendproperties.BackendProperties object at 0x7f51687f3e50>\n",
      "Depth: [848, 848, 818, 818, 816, 816]\n",
      "SABRE\n"
     ]
    },
    {
     "name": "stderr",
     "output_type": "stream",
     "text": [
      "\n",
      "100%|███████████████████████████████████████████████████████████████████████████████████████████████████████████████████████████████████████████████████| 1/1 [00:00<00:00, 278.03it/s]\u001b[A\n"
     ]
    },
    {
     "name": "stdout",
     "output_type": "stream",
     "text": [
      "2023-10-31 19:26:33.634346\n",
      "Backend topology: 2023-10-31 19:26:33.634346\n",
      "<qiskit.providers.models.backendproperties.BackendProperties object at 0x7f52403349d0>\n",
      "Depth: [1064, 1064, 1050, 1050, 1040, 1040]\n",
      "SABRE\n"
     ]
    },
    {
     "name": "stderr",
     "output_type": "stream",
     "text": [
      "\n",
      "100%|███████████████████████████████████████████████████████████████████████████████████████████████████████████████████████████████████████████████████| 1/1 [00:00<00:00, 531.06it/s]\u001b[A\n",
      " 32%|██████████████████████████████████████████████▋                                                                                                   | 16/50 [12:25<35:29, 62.63s/it]"
     ]
    },
    {
     "name": "stdout",
     "output_type": "stream",
     "text": [
      "Current depth: 17\n",
      "2023-09-03 19:26:39.852080\n",
      "Backend topology: 2023-09-03 19:26:39.852080\n",
      "<qiskit.providers.models.backendproperties.BackendProperties object at 0x7f526454fb80>\n",
      "Depth: [978, 978, 976, 976, 980, 980]\n",
      "not na\n"
     ]
    },
    {
     "name": "stderr",
     "output_type": "stream",
     "text": [
      "\n",
      "100%|███████████████████████████████████████████████████████████████████████████████████████████████████████████████████████████████████████████████████| 1/1 [00:00<00:00, 590.00it/s]\u001b[A\n"
     ]
    },
    {
     "name": "stdout",
     "output_type": "stream",
     "text": [
      "2023-08-23 19:26:45.487285\n",
      "Backend topology: 2023-08-23 19:26:45.487285\n",
      "<qiskit.providers.models.backendproperties.BackendProperties object at 0x7f529147e6a0>\n",
      "Depth: [1538, 1538, 936, 936, 936, 936]\n",
      "not na\n"
     ]
    },
    {
     "name": "stderr",
     "output_type": "stream",
     "text": [
      "\n",
      "100%|███████████████████████████████████████████████████████████████████████████████████████████████████████████████████████████████████████████████████| 1/1 [00:00<00:00, 576.85it/s]\u001b[A\n"
     ]
    },
    {
     "name": "stdout",
     "output_type": "stream",
     "text": [
      "2023-07-25 19:26:52.701162\n",
      "Backend topology: 2023-07-25 19:26:52.701162\n",
      "<qiskit.providers.models.backendproperties.BackendProperties object at 0x7f5204313f40>\n",
      "Depth: [1338, 1338, 988, 988, 988, 988]\n",
      "not na\n"
     ]
    },
    {
     "name": "stderr",
     "output_type": "stream",
     "text": [
      "\n",
      "100%|███████████████████████████████████████████████████████████████████████████████████████████████████████████████████████████████████████████████████| 1/1 [00:00<00:00, 530.05it/s]\u001b[A\n"
     ]
    },
    {
     "name": "stdout",
     "output_type": "stream",
     "text": [
      "2023-11-14 19:26:59.477602\n",
      "Backend topology: 2023-11-14 19:26:59.477602\n",
      "<qiskit.providers.models.backendproperties.BackendProperties object at 0x7f529404f610>\n",
      "Depth: [1110, 1110, 828, 828, 828, 828]\n",
      "not na\n"
     ]
    },
    {
     "name": "stderr",
     "output_type": "stream",
     "text": [
      "\n",
      "100%|███████████████████████████████████████████████████████████████████████████████████████████████████████████████████████████████████████████████████| 1/1 [00:00<00:00, 526.20it/s]\u001b[A\n"
     ]
    },
    {
     "name": "stdout",
     "output_type": "stream",
     "text": [
      "2023-08-08 19:27:05.998525\n",
      "Backend topology: 2023-08-08 19:27:05.998525\n",
      "<qiskit.providers.models.backendproperties.BackendProperties object at 0x7f5295da1e20>\n",
      "Depth: [1674, 1674, 1006, 1006, 1006, 1006]\n",
      "not na\n"
     ]
    },
    {
     "name": "stderr",
     "output_type": "stream",
     "text": [
      "\n",
      "100%|███████████████████████████████████████████████████████████████████████████████████████████████████████████████████████████████████████████████████| 1/1 [00:00<00:00, 590.00it/s]\u001b[A\n"
     ]
    },
    {
     "name": "stdout",
     "output_type": "stream",
     "text": [
      "2023-10-12 19:27:13.604314\n",
      "Backend topology: 2023-10-12 19:27:13.604314\n",
      "<qiskit.providers.models.backendproperties.BackendProperties object at 0x7f5204713490>\n",
      "Depth: [966, 966, 960, 960, 960, 960]\n",
      "not na\n"
     ]
    },
    {
     "name": "stderr",
     "output_type": "stream",
     "text": [
      "\n",
      "100%|███████████████████████████████████████████████████████████████████████████████████████████████████████████████████████████████████████████████████| 1/1 [00:00<00:00, 529.99it/s]\u001b[A\n"
     ]
    },
    {
     "name": "stdout",
     "output_type": "stream",
     "text": [
      "2023-08-01 19:27:20.183701\n",
      "Backend topology: 2023-08-01 19:27:20.183701\n",
      "<qiskit.providers.models.backendproperties.BackendProperties object at 0x7f51a8159310>\n",
      "Depth: [902, 902, 900, 900, 912, 912]\n",
      "not na\n"
     ]
    },
    {
     "name": "stderr",
     "output_type": "stream",
     "text": [
      "\n",
      "100%|███████████████████████████████████████████████████████████████████████████████████████████████████████████████████████████████████████████████████| 1/1 [00:00<00:00, 583.27it/s]\u001b[A\n"
     ]
    },
    {
     "name": "stdout",
     "output_type": "stream",
     "text": [
      "2023-08-28 19:27:26.634444\n",
      "Backend topology: 2023-08-28 19:27:26.634444\n",
      "<qiskit.providers.models.backendproperties.BackendProperties object at 0x7f529dccc670>\n",
      "Depth: [1298, 1298, 1294, 1294, 1294, 1294]\n",
      "not na\n"
     ]
    },
    {
     "name": "stderr",
     "output_type": "stream",
     "text": [
      "\n",
      "100%|███████████████████████████████████████████████████████████████████████████████████████████████████████████████████████████████████████████████████| 1/1 [00:00<00:00, 536.91it/s]\u001b[A\n"
     ]
    },
    {
     "name": "stdout",
     "output_type": "stream",
     "text": [
      "2023-11-23 19:27:33.800328\n",
      "Backend topology: 2023-11-23 19:27:33.800328\n",
      "<qiskit.providers.models.backendproperties.BackendProperties object at 0x7f51881bc790>\n",
      "Depth: [1328, 1328, 1332, 1332, 1304, 1304]\n",
      "SABRE\n"
     ]
    },
    {
     "name": "stderr",
     "output_type": "stream",
     "text": [
      "\n",
      "100%|███████████████████████████████████████████████████████████████████████████████████████████████████████████████████████████████████████████████████| 1/1 [00:00<00:00, 199.58it/s]\u001b[A\n"
     ]
    },
    {
     "name": "stdout",
     "output_type": "stream",
     "text": [
      "2023-09-14 19:27:43.577821\n",
      "Backend topology: 2023-09-14 19:27:43.577821\n",
      "<qiskit.providers.models.backendproperties.BackendProperties object at 0x7f52247c7f10>\n",
      "Depth: [876, 876, 898, 898, 876, 876]\n",
      "na\n"
     ]
    },
    {
     "name": "stderr",
     "output_type": "stream",
     "text": [
      "\n",
      "100%|███████████████████████████████████████████████████████████████████████████████████████████████████████████████████████████████████████████████████| 1/1 [00:00<00:00, 590.66it/s]\u001b[A\n",
      " 34%|█████████████████████████████████████████████████▋                                                                                                | 17/50 [13:38<36:03, 65.55s/it]"
     ]
    },
    {
     "name": "stdout",
     "output_type": "stream",
     "text": [
      "Current depth: 18\n",
      "2023-08-14 19:27:52.209571\n",
      "Backend topology: 2023-08-14 19:27:52.209571\n",
      "<qiskit.providers.models.backendproperties.BackendProperties object at 0x7f526442a220>\n",
      "Depth: [2020, 2020, 1050, 1050, 1050, 1050]\n",
      "not na\n"
     ]
    },
    {
     "name": "stderr",
     "output_type": "stream",
     "text": [
      "\n",
      "100%|███████████████████████████████████████████████████████████████████████████████████████████████████████████████████████████████████████████████████| 1/1 [00:00<00:00, 559.69it/s]\u001b[A\n"
     ]
    },
    {
     "name": "stdout",
     "output_type": "stream",
     "text": [
      "2023-11-17 19:28:00.163325\n",
      "Backend topology: 2023-11-17 19:28:00.163325\n",
      "<qiskit.providers.models.backendproperties.BackendProperties object at 0x7f522441ceb0>\n",
      "Depth: [1038, 1038, 1038, 1038, 1016, 1016]\n",
      "SABRE\n"
     ]
    },
    {
     "name": "stderr",
     "output_type": "stream",
     "text": [
      "\n",
      "100%|███████████████████████████████████████████████████████████████████████████████████████████████████████████████████████████████████████████████████| 1/1 [00:00<00:00, 550.36it/s]\u001b[A\n"
     ]
    },
    {
     "name": "stdout",
     "output_type": "stream",
     "text": [
      "2023-08-27 19:28:07.035253\n",
      "Backend topology: 2023-08-27 19:28:07.035253\n",
      "<qiskit.providers.models.backendproperties.BackendProperties object at 0x7f52045a10d0>\n",
      "Depth: [996, 996, 992, 992, 990, 990]\n",
      "SABRE\n"
     ]
    },
    {
     "name": "stderr",
     "output_type": "stream",
     "text": [
      "\n",
      "100%|███████████████████████████████████████████████████████████████████████████████████████████████████████████████████████████████████████████████████| 1/1 [00:00<00:00, 386.82it/s]\u001b[A\n"
     ]
    },
    {
     "name": "stdout",
     "output_type": "stream",
     "text": [
      "2023-10-14 19:28:14.023312\n",
      "Backend topology: 2023-10-14 19:28:14.023312\n",
      "<qiskit.providers.models.backendproperties.BackendProperties object at 0x7f526440e400>\n",
      "Depth: [1586, 1586, 1130, 1130, 1130, 1130]\n",
      "not na\n"
     ]
    },
    {
     "name": "stderr",
     "output_type": "stream",
     "text": [
      "\n",
      "100%|███████████████████████████████████████████████████████████████████████████████████████████████████████████████████████████████████████████████████| 1/1 [00:00<00:00, 605.50it/s]\u001b[A\n"
     ]
    },
    {
     "name": "stdout",
     "output_type": "stream",
     "text": [
      "2023-07-07 19:28:22.648434\n",
      "Backend topology: 2023-07-07 19:28:22.648434\n",
      "<qiskit.providers.models.backendproperties.BackendProperties object at 0x7f5240334250>\n",
      "Depth: [2170, 2170, 1156, 1156, 1156, 1156]\n",
      "not na\n"
     ]
    },
    {
     "name": "stderr",
     "output_type": "stream",
     "text": [
      "\n",
      "100%|███████████████████████████████████████████████████████████████████████████████████████████████████████████████████████████████████████████████████| 1/1 [00:00<00:00, 580.29it/s]\u001b[A\n"
     ]
    },
    {
     "name": "stdout",
     "output_type": "stream",
     "text": [
      "2023-08-25 19:28:33.090535\n",
      "Backend topology: 2023-08-25 19:28:33.090535\n",
      "<qiskit.providers.models.backendproperties.BackendProperties object at 0x7f52042a8b80>\n",
      "Depth: [1188, 1188, 708, 708, 708, 708]\n",
      "not na\n"
     ]
    },
    {
     "name": "stderr",
     "output_type": "stream",
     "text": [
      "\n",
      "100%|███████████████████████████████████████████████████████████████████████████████████████████████████████████████████████████████████████████████████| 1/1 [00:00<00:00, 591.75it/s]\u001b[A\n"
     ]
    },
    {
     "name": "stdout",
     "output_type": "stream",
     "text": [
      "2023-11-14 19:28:38.938312\n",
      "Backend topology: 2023-11-14 19:28:38.938312\n",
      "<qiskit.providers.models.backendproperties.BackendProperties object at 0x7f526476dd30>\n",
      "Depth: [954, 954, 948, 948, 948, 948]\n",
      "not na\n"
     ]
    },
    {
     "name": "stderr",
     "output_type": "stream",
     "text": [
      "\n",
      "100%|███████████████████████████████████████████████████████████████████████████████████████████████████████████████████████████████████████████████████| 1/1 [00:00<00:00, 616.54it/s]\u001b[A\n"
     ]
    },
    {
     "name": "stdout",
     "output_type": "stream",
     "text": [
      "2023-08-25 19:28:44.993644\n",
      "Backend topology: 2023-08-25 19:28:44.993644\n",
      "<qiskit.providers.models.backendproperties.BackendProperties object at 0x7f522431d280>\n",
      "Depth: [996, 996, 994, 994, 996, 996]\n",
      "not na\n"
     ]
    },
    {
     "name": "stderr",
     "output_type": "stream",
     "text": [
      "\n",
      "100%|███████████████████████████████████████████████████████████████████████████████████████████████████████████████████████████████████████████████████| 1/1 [00:00<00:00, 568.33it/s]\u001b[A\n"
     ]
    },
    {
     "name": "stdout",
     "output_type": "stream",
     "text": [
      "2023-08-04 19:28:56.019176\n",
      "Backend topology: 2023-08-04 19:28:56.019176\n",
      "<qiskit.providers.models.backendproperties.BackendProperties object at 0x7f52959a71f0>\n",
      "Depth: [1466, 1466, 1012, 1012, 1012, 1012]\n",
      "not na\n"
     ]
    },
    {
     "name": "stderr",
     "output_type": "stream",
     "text": [
      "\n",
      "100%|███████████████████████████████████████████████████████████████████████████████████████████████████████████████████████████████████████████████████| 1/1 [00:00<00:00, 564.28it/s]\u001b[A\n"
     ]
    },
    {
     "name": "stdout",
     "output_type": "stream",
     "text": [
      "2023-09-22 19:29:03.633373\n",
      "Backend topology: 2023-09-22 19:29:03.633373\n",
      "<qiskit.providers.models.backendproperties.BackendProperties object at 0x7f51e8266be0>\n",
      "Depth: [1218, 1218, 1208, 1208, 1218, 1218]\n",
      "not na\n"
     ]
    },
    {
     "name": "stderr",
     "output_type": "stream",
     "text": [
      "\n",
      "100%|███████████████████████████████████████████████████████████████████████████████████████████████████████████████████████████████████████████████████| 1/1 [00:00<00:00, 367.99it/s]\u001b[A\n",
      " 36%|████████████████████████████████████████████████████▌                                                                                             | 18/50 [14:56<36:58, 69.33s/it]"
     ]
    },
    {
     "name": "stdout",
     "output_type": "stream",
     "text": [
      "Current depth: 19\n",
      "2023-11-09 19:29:10.336531\n",
      "Backend topology: 2023-11-09 19:29:10.336531\n",
      "<qiskit.providers.models.backendproperties.BackendProperties object at 0x7f51883ce3d0>\n",
      "Depth: [980, 980, 974, 974, 974, 974]\n",
      "not na\n"
     ]
    },
    {
     "name": "stderr",
     "output_type": "stream",
     "text": [
      "\n",
      "100%|███████████████████████████████████████████████████████████████████████████████████████████████████████████████████████████████████████████████████| 1/1 [00:00<00:00, 494.44it/s]\u001b[A\n"
     ]
    },
    {
     "name": "stdout",
     "output_type": "stream",
     "text": [
      "2023-10-21 19:29:16.501714\n",
      "Backend topology: 2023-10-21 19:29:16.501714\n",
      "<qiskit.providers.models.backendproperties.BackendProperties object at 0x7f522467a910>\n",
      "Depth: [1600, 1600, 944, 944, 966, 966]\n",
      "not na\n"
     ]
    },
    {
     "name": "stderr",
     "output_type": "stream",
     "text": [
      "\n",
      "100%|███████████████████████████████████████████████████████████████████████████████████████████████████████████████████████████████████████████████████| 1/1 [00:00<00:00, 614.55it/s]\u001b[A\n"
     ]
    },
    {
     "name": "stdout",
     "output_type": "stream",
     "text": [
      "2023-11-03 19:29:24.352242\n",
      "Backend topology: 2023-11-03 19:29:24.352242\n",
      "<qiskit.providers.models.backendproperties.BackendProperties object at 0x7f5290cf2460>\n",
      "Depth: [1134, 1134, 1128, 1128, 1124, 1124]\n",
      "SABRE\n"
     ]
    },
    {
     "name": "stderr",
     "output_type": "stream",
     "text": [
      "\n",
      "100%|███████████████████████████████████████████████████████████████████████████████████████████████████████████████████████████████████████████████████| 1/1 [00:00<00:00, 622.76it/s]\u001b[A\n"
     ]
    },
    {
     "name": "stdout",
     "output_type": "stream",
     "text": [
      "2023-09-05 19:29:30.927267\n",
      "Backend topology: 2023-09-05 19:29:30.927267\n",
      "<qiskit.providers.models.backendproperties.BackendProperties object at 0x7f52404d4f70>\n",
      "Depth: [1028, 1028, 1026, 1026, 1030, 1030]\n",
      "not na\n"
     ]
    },
    {
     "name": "stderr",
     "output_type": "stream",
     "text": [
      "\n",
      "100%|███████████████████████████████████████████████████████████████████████████████████████████████████████████████████████████████████████████████████| 1/1 [00:00<00:00, 243.37it/s]\u001b[A\n"
     ]
    },
    {
     "name": "stdout",
     "output_type": "stream",
     "text": [
      "2023-07-05 19:29:38.515338\n",
      "Backend topology: 2023-07-05 19:29:38.515338\n",
      "<qiskit.providers.models.backendproperties.BackendProperties object at 0x7f522441ceb0>\n",
      "Depth: [1892, 1892, 1086, 1086, 1084, 1084]\n",
      "SABRE\n"
     ]
    },
    {
     "name": "stderr",
     "output_type": "stream",
     "text": [
      "\n",
      "100%|███████████████████████████████████████████████████████████████████████████████████████████████████████████████████████████████████████████████████| 1/1 [00:00<00:00, 566.42it/s]\u001b[A\n"
     ]
    },
    {
     "name": "stdout",
     "output_type": "stream",
     "text": [
      "2023-09-04 19:29:47.333204\n",
      "Backend topology: 2023-09-04 19:29:47.333204\n",
      "<qiskit.providers.models.backendproperties.BackendProperties object at 0x7f5149103880>\n",
      "Depth: [1208, 1208, 1190, 1190, 1190, 1190]\n",
      "not na\n"
     ]
    },
    {
     "name": "stderr",
     "output_type": "stream",
     "text": [
      "\n",
      "100%|███████████████████████████████████████████████████████████████████████████████████████████████████████████████████████████████████████████████████| 1/1 [00:00<00:00, 528.85it/s]\u001b[A\n"
     ]
    },
    {
     "name": "stdout",
     "output_type": "stream",
     "text": [
      "2023-10-28 19:29:54.595725\n",
      "Backend topology: 2023-10-28 19:29:54.595725\n",
      "<qiskit.providers.models.backendproperties.BackendProperties object at 0x7f52043d2190>\n",
      "Depth: [1302, 1302, 972, 972, 972, 972]\n",
      "not na\n"
     ]
    },
    {
     "name": "stderr",
     "output_type": "stream",
     "text": [
      "\n",
      "100%|███████████████████████████████████████████████████████████████████████████████████████████████████████████████████████████████████████████████████| 1/1 [00:00<00:00, 354.43it/s]\u001b[A\n"
     ]
    },
    {
     "name": "stdout",
     "output_type": "stream",
     "text": [
      "2023-09-30 19:30:02.571749\n",
      "Backend topology: 2023-09-30 19:30:02.571749\n",
      "<qiskit.providers.models.backendproperties.BackendProperties object at 0x7f52961fc9a0>\n",
      "Depth: [1768, 1768, 1000, 1000, 1002, 1002]\n",
      "not na\n"
     ]
    },
    {
     "name": "stderr",
     "output_type": "stream",
     "text": [
      "\n",
      "100%|███████████████████████████████████████████████████████████████████████████████████████████████████████████████████████████████████████████████████| 1/1 [00:00<00:00, 388.87it/s]\u001b[A\n"
     ]
    },
    {
     "name": "stdout",
     "output_type": "stream",
     "text": [
      "2023-08-29 19:30:10.694853\n",
      "Backend topology: 2023-08-29 19:30:10.694853\n",
      "<qiskit.providers.models.backendproperties.BackendProperties object at 0x7f52407c6df0>\n",
      "Depth: [1108, 1108, 1066, 1066, 1040, 1040]\n",
      "SABRE\n"
     ]
    },
    {
     "name": "stderr",
     "output_type": "stream",
     "text": [
      "\n",
      "100%|███████████████████████████████████████████████████████████████████████████████████████████████████████████████████████████████████████████████████| 1/1 [00:00<00:00, 559.54it/s]\u001b[A\n"
     ]
    },
    {
     "name": "stdout",
     "output_type": "stream",
     "text": [
      "2023-11-15 19:30:18.119959\n",
      "Backend topology: 2023-11-15 19:30:18.119959\n",
      "<qiskit.providers.models.backendproperties.BackendProperties object at 0x7f5188256430>\n",
      "Depth: [1116, 1116, 1116, 1116, 1122, 1122]\n",
      "na\n"
     ]
    },
    {
     "name": "stderr",
     "output_type": "stream",
     "text": [
      "\n",
      "100%|███████████████████████████████████████████████████████████████████████████████████████████████████████████████████████████████████████████████████| 1/1 [00:00<00:00, 531.73it/s]\u001b[A\n",
      " 38%|███████████████████████████████████████████████████████▍                                                                                          | 19/50 [16:10<36:32, 70.73s/it]"
     ]
    },
    {
     "name": "stdout",
     "output_type": "stream",
     "text": [
      "Current depth: 20\n",
      "2023-08-20 19:30:24.324480\n",
      "Backend topology: 2023-08-20 19:30:24.324480\n",
      "<qiskit.providers.models.backendproperties.BackendProperties object at 0x7f528ecc09d0>\n",
      "Depth: [1976, 1976, 1380, 1380, 1380, 1380]\n",
      "not na\n"
     ]
    },
    {
     "name": "stderr",
     "output_type": "stream",
     "text": [
      "\n",
      "100%|███████████████████████████████████████████████████████████████████████████████████████████████████████████████████████████████████████████████████| 1/1 [00:00<00:00, 379.06it/s]\u001b[A\n"
     ]
    },
    {
     "name": "stdout",
     "output_type": "stream",
     "text": [
      "2023-10-08 19:30:34.521856\n",
      "Backend topology: 2023-10-08 19:30:34.521856\n",
      "<qiskit.providers.models.backendproperties.BackendProperties object at 0x7f5292891820>\n",
      "Depth: [1416, 1416, 1406, 1406, 1422, 1422]\n",
      "not na\n"
     ]
    },
    {
     "name": "stderr",
     "output_type": "stream",
     "text": [
      "\n",
      "100%|███████████████████████████████████████████████████████████████████████████████████████████████████████████████████████████████████████████████████| 1/1 [00:00<00:00, 377.59it/s]\u001b[A\n"
     ]
    },
    {
     "name": "stdout",
     "output_type": "stream",
     "text": [
      "2023-07-03 19:30:42.540877\n",
      "Backend topology: 2023-07-03 19:30:42.540877\n",
      "<qiskit.providers.models.backendproperties.BackendProperties object at 0x7f5293dd13a0>\n",
      "Depth: [1400, 1400, 1406, 1406, 1406, 1406]\n",
      "na\n"
     ]
    },
    {
     "name": "stderr",
     "output_type": "stream",
     "text": [
      "\n",
      "100%|███████████████████████████████████████████████████████████████████████████████████████████████████████████████████████████████████████████████████| 1/1 [00:00<00:00, 523.44it/s]\u001b[A\n"
     ]
    },
    {
     "name": "stdout",
     "output_type": "stream",
     "text": [
      "2023-10-13 19:30:50.428456\n",
      "Backend topology: 2023-10-13 19:30:50.428456\n",
      "<qiskit.providers.models.backendproperties.BackendProperties object at 0x7f5293d74430>\n",
      "Depth: [1670, 1670, 1202, 1202, 1202, 1202]\n",
      "not na\n"
     ]
    },
    {
     "name": "stderr",
     "output_type": "stream",
     "text": [
      "\n",
      "100%|███████████████████████████████████████████████████████████████████████████████████████████████████████████████████████████████████████████████████| 1/1 [00:00<00:00, 553.63it/s]\u001b[A\n"
     ]
    },
    {
     "name": "stdout",
     "output_type": "stream",
     "text": [
      "2023-10-25 19:30:58.891222\n",
      "Backend topology: 2023-10-25 19:30:58.891222\n",
      "<qiskit.providers.models.backendproperties.BackendProperties object at 0x7f51e8430880>\n",
      "Depth: [1244, 1244, 1242, 1242, 1228, 1228]\n",
      "SABRE\n"
     ]
    },
    {
     "name": "stderr",
     "output_type": "stream",
     "text": [
      "\n",
      "100%|███████████████████████████████████████████████████████████████████████████████████████████████████████████████████████████████████████████████████| 1/1 [00:00<00:00, 558.20it/s]\u001b[A\n"
     ]
    },
    {
     "name": "stdout",
     "output_type": "stream",
     "text": [
      "2023-11-09 19:31:07.146444\n",
      "Backend topology: 2023-11-09 19:31:07.146444\n",
      "<qiskit.providers.models.backendproperties.BackendProperties object at 0x7f5296182250>\n",
      "Depth: [1350, 1350, 1330, 1330, 1352, 1352]\n",
      "not na\n"
     ]
    },
    {
     "name": "stderr",
     "output_type": "stream",
     "text": [
      "\n",
      "100%|███████████████████████████████████████████████████████████████████████████████████████████████████████████████████████████████████████████████████| 1/1 [00:00<00:00, 415.90it/s]\u001b[A\n"
     ]
    },
    {
     "name": "stdout",
     "output_type": "stream",
     "text": [
      "2023-08-29 19:31:14.753877\n",
      "Backend topology: 2023-08-29 19:31:14.753877\n",
      "<qiskit.providers.models.backendproperties.BackendProperties object at 0x7f5294091970>\n",
      "Depth: [1588, 1588, 1324, 1324, 1322, 1322]\n",
      "SABRE\n"
     ]
    },
    {
     "name": "stderr",
     "output_type": "stream",
     "text": [
      "\n",
      "100%|███████████████████████████████████████████████████████████████████████████████████████████████████████████████████████████████████████████████████| 1/1 [00:00<00:00, 551.95it/s]\u001b[A\n"
     ]
    },
    {
     "name": "stdout",
     "output_type": "stream",
     "text": [
      "2023-09-01 19:31:24.286151\n",
      "Backend topology: 2023-09-01 19:31:24.286151\n",
      "<qiskit.providers.models.backendproperties.BackendProperties object at 0x7f52407305b0>\n",
      "Depth: [1730, 1730, 1250, 1250, 1248, 1248]\n",
      "SABRE\n"
     ]
    },
    {
     "name": "stderr",
     "output_type": "stream",
     "text": [
      "\n",
      "100%|███████████████████████████████████████████████████████████████████████████████████████████████████████████████████████████████████████████████████| 1/1 [00:00<00:00, 541.83it/s]\u001b[A\n"
     ]
    },
    {
     "name": "stdout",
     "output_type": "stream",
     "text": [
      "2023-07-19 19:31:33.338317\n",
      "Backend topology: 2023-07-19 19:31:33.338317\n",
      "<qiskit.providers.models.backendproperties.BackendProperties object at 0x7f5295dbcd60>\n",
      "Depth: [994, 994, 986, 986, 994, 994]\n",
      "not na\n"
     ]
    },
    {
     "name": "stderr",
     "output_type": "stream",
     "text": [
      "\n",
      "100%|███████████████████████████████████████████████████████████████████████████████████████████████████████████████████████████████████████████████████| 1/1 [00:00<00:00, 225.40it/s]\u001b[A\n"
     ]
    },
    {
     "name": "stdout",
     "output_type": "stream",
     "text": [
      "2023-07-07 19:31:38.849759\n",
      "Backend topology: 2023-07-07 19:31:38.849759\n",
      "<qiskit.providers.models.backendproperties.BackendProperties object at 0x7f51e80d2a90>\n",
      "Depth: [1970, 1970, 1248, 1248, 1248, 1248]\n",
      "not na\n"
     ]
    },
    {
     "name": "stderr",
     "output_type": "stream",
     "text": [
      "\n",
      "100%|███████████████████████████████████████████████████████████████████████████████████████████████████████████████████████████████████████████████████| 1/1 [00:00<00:00, 589.00it/s]\u001b[A\n",
      " 40%|██████████████████████████████████████████████████████████▍                                                                                       | 20/50 [17:32<37:06, 74.22s/it]"
     ]
    },
    {
     "name": "stdout",
     "output_type": "stream",
     "text": [
      "Current depth: 21\n",
      "2023-07-26 19:31:46.688572\n",
      "Backend topology: 2023-07-26 19:31:46.688572\n",
      "<qiskit.providers.models.backendproperties.BackendProperties object at 0x7f518844da30>\n",
      "Depth: [1204, 1204, 1210, 1210, 1200, 1200]\n",
      "SABRE\n"
     ]
    },
    {
     "name": "stderr",
     "output_type": "stream",
     "text": [
      "\n",
      "100%|███████████████████████████████████████████████████████████████████████████████████████████████████████████████████████████████████████████████████| 1/1 [00:00<00:00, 609.37it/s]\u001b[A\n"
     ]
    },
    {
     "name": "stdout",
     "output_type": "stream",
     "text": [
      "2023-08-24 19:31:54.762375\n",
      "Backend topology: 2023-08-24 19:31:54.762375\n",
      "<qiskit.providers.models.backendproperties.BackendProperties object at 0x7f51e81ffa30>\n",
      "Depth: [1330, 1330, 1242, 1242, 1244, 1244]\n",
      "not na\n"
     ]
    },
    {
     "name": "stderr",
     "output_type": "stream",
     "text": [
      "\n",
      "100%|███████████████████████████████████████████████████████████████████████████████████████████████████████████████████████████████████████████████████| 1/1 [00:00<00:00, 568.56it/s]\u001b[A\n"
     ]
    },
    {
     "name": "stdout",
     "output_type": "stream",
     "text": [
      "2023-09-27 19:32:03.039690\n",
      "Backend topology: 2023-09-27 19:32:03.039690\n",
      "<qiskit.providers.models.backendproperties.BackendProperties object at 0x7f528c17fb50>\n",
      "Depth: [2018, 2018, 1156, 1156, 1156, 1156]\n",
      "not na\n"
     ]
    },
    {
     "name": "stderr",
     "output_type": "stream",
     "text": [
      "\n",
      "100%|███████████████████████████████████████████████████████████████████████████████████████████████████████████████████████████████████████████████████| 1/1 [00:00<00:00, 553.05it/s]\u001b[A\n"
     ]
    },
    {
     "name": "stdout",
     "output_type": "stream",
     "text": [
      "2023-11-15 19:32:11.104854\n",
      "Backend topology: 2023-11-15 19:32:11.104854\n",
      "<qiskit.providers.models.backendproperties.BackendProperties object at 0x7f52042077c0>\n",
      "Depth: [1792, 1792, 980, 980, 982, 982]\n",
      "not na\n"
     ]
    },
    {
     "name": "stderr",
     "output_type": "stream",
     "text": [
      "\n",
      "100%|███████████████████████████████████████████████████████████████████████████████████████████████████████████████████████████████████████████████████| 1/1 [00:00<00:00, 530.45it/s]\u001b[A\n"
     ]
    },
    {
     "name": "stdout",
     "output_type": "stream",
     "text": [
      "2023-10-08 19:32:19.863001\n",
      "Backend topology: 2023-10-08 19:32:19.863001\n",
      "<qiskit.providers.models.backendproperties.BackendProperties object at 0x7f51a80b7b80>\n",
      "Depth: [1756, 1756, 1436, 1436, 1438, 1438]\n",
      "not na\n"
     ]
    },
    {
     "name": "stderr",
     "output_type": "stream",
     "text": [
      "\n",
      "100%|███████████████████████████████████████████████████████████████████████████████████████████████████████████████████████████████████████████████████| 1/1 [00:00<00:00, 574.56it/s]\u001b[A\n"
     ]
    },
    {
     "name": "stdout",
     "output_type": "stream",
     "text": [
      "2023-08-11 19:32:36.663381\n",
      "Backend topology: 2023-08-11 19:32:36.663381\n",
      "<qiskit.providers.models.backendproperties.BackendProperties object at 0x7f529296dfd0>\n",
      "Depth: [1310, 1310, 1296, 1296, 1294, 1294]\n",
      "SABRE\n"
     ]
    },
    {
     "name": "stderr",
     "output_type": "stream",
     "text": [
      "\n",
      "100%|███████████████████████████████████████████████████████████████████████████████████████████████████████████████████████████████████████████████████| 1/1 [00:00<00:00, 540.16it/s]\u001b[A\n"
     ]
    },
    {
     "name": "stdout",
     "output_type": "stream",
     "text": [
      "2023-10-15 19:32:47.531213\n",
      "Backend topology: 2023-10-15 19:32:47.531213\n",
      "<qiskit.providers.models.backendproperties.BackendProperties object at 0x7f52400dfb20>\n",
      "Depth: [1176, 1176, 1184, 1184, 1184, 1184]\n",
      "na\n"
     ]
    },
    {
     "name": "stderr",
     "output_type": "stream",
     "text": [
      "\n",
      "100%|███████████████████████████████████████████████████████████████████████████████████████████████████████████████████████████████████████████████████| 1/1 [00:00<00:00, 618.99it/s]\u001b[A\n"
     ]
    },
    {
     "name": "stdout",
     "output_type": "stream",
     "text": [
      "2023-07-06 19:32:55.612795\n",
      "Backend topology: 2023-07-06 19:32:55.612795\n",
      "<qiskit.providers.models.backendproperties.BackendProperties object at 0x7f529614b040>\n",
      "Depth: [1488, 1488, 1478, 1478, 1478, 1478]\n",
      "not na\n"
     ]
    },
    {
     "name": "stderr",
     "output_type": "stream",
     "text": [
      "\n",
      "100%|███████████████████████████████████████████████████████████████████████████████████████████████████████████████████████████████████████████████████| 1/1 [00:00<00:00, 561.19it/s]\u001b[A\n"
     ]
    },
    {
     "name": "stdout",
     "output_type": "stream",
     "text": [
      "2023-09-05 19:33:03.888813\n",
      "Backend topology: 2023-09-05 19:33:03.888813\n",
      "<qiskit.providers.models.backendproperties.BackendProperties object at 0x7f524054ba90>\n",
      "Depth: [1996, 1996, 1100, 1100, 1100, 1100]\n",
      "not na\n"
     ]
    },
    {
     "name": "stderr",
     "output_type": "stream",
     "text": [
      "\n",
      "100%|███████████████████████████████████████████████████████████████████████████████████████████████████████████████████████████████████████████████████| 1/1 [00:00<00:00, 611.95it/s]\u001b[A\n"
     ]
    },
    {
     "name": "stdout",
     "output_type": "stream",
     "text": [
      "2023-10-06 19:33:11.393646\n",
      "Backend topology: 2023-10-06 19:33:11.393646\n",
      "<qiskit.providers.models.backendproperties.BackendProperties object at 0x7f528ed1d0d0>\n",
      "Depth: [1236, 1236, 1238, 1238, 1238, 1238]\n",
      "na\n"
     ]
    },
    {
     "name": "stderr",
     "output_type": "stream",
     "text": [
      "\n",
      "100%|███████████████████████████████████████████████████████████████████████████████████████████████████████████████████████████████████████████████████| 1/1 [00:00<00:00, 558.87it/s]\u001b[A\n",
      " 42%|█████████████████████████████████████████████████████████████▎                                                                                    | 21/50 [19:05<38:33, 79.77s/it]"
     ]
    },
    {
     "name": "stdout",
     "output_type": "stream",
     "text": [
      "Current depth: 22\n",
      "2023-10-11 19:33:19.381756\n",
      "Backend topology: 2023-10-11 19:33:19.381756\n",
      "<qiskit.providers.models.backendproperties.BackendProperties object at 0x7f5264691130>\n",
      "Depth: [1234, 1234, 1224, 1224, 1234, 1234]\n",
      "not na\n"
     ]
    },
    {
     "name": "stderr",
     "output_type": "stream",
     "text": [
      "\n",
      "100%|███████████████████████████████████████████████████████████████████████████████████████████████████████████████████████████████████████████████████| 1/1 [00:00<00:00, 550.43it/s]\u001b[A\n"
     ]
    },
    {
     "name": "stdout",
     "output_type": "stream",
     "text": [
      "2023-08-06 19:33:26.242184\n",
      "Backend topology: 2023-08-06 19:33:26.242184\n",
      "<qiskit.providers.models.backendproperties.BackendProperties object at 0x7f52807dabb0>\n",
      "Depth: [1564, 1564, 1268, 1268, 1268, 1268]\n",
      "not na\n"
     ]
    },
    {
     "name": "stderr",
     "output_type": "stream",
     "text": [
      "\n",
      "100%|███████████████████████████████████████████████████████████████████████████████████████████████████████████████████████████████████████████████████| 1/1 [00:00<00:00, 224.03it/s]\u001b[A\n"
     ]
    },
    {
     "name": "stdout",
     "output_type": "stream",
     "text": [
      "2023-11-02 19:33:33.791491\n",
      "Backend topology: 2023-11-02 19:33:33.791491\n",
      "<qiskit.providers.models.backendproperties.BackendProperties object at 0x7f51e842d190>\n",
      "Depth: [1456, 1456, 1452, 1452, 1450, 1450]\n",
      "SABRE\n"
     ]
    },
    {
     "name": "stderr",
     "output_type": "stream",
     "text": [
      "\n",
      "100%|███████████████████████████████████████████████████████████████████████████████████████████████████████████████████████████████████████████████████| 1/1 [00:00<00:00, 416.27it/s]\u001b[A\n"
     ]
    },
    {
     "name": "stdout",
     "output_type": "stream",
     "text": [
      "2023-08-15 19:33:42.803250\n",
      "Backend topology: 2023-08-15 19:33:42.803250\n",
      "<qiskit.providers.models.backendproperties.BackendProperties object at 0x7f528fc44ca0>\n",
      "Depth: [1348, 1348, 1344, 1344, 1350, 1350]\n",
      "not na\n"
     ]
    },
    {
     "name": "stderr",
     "output_type": "stream",
     "text": [
      "\n",
      "100%|███████████████████████████████████████████████████████████████████████████████████████████████████████████████████████████████████████████████████| 1/1 [00:00<00:00, 514.95it/s]\u001b[A\n"
     ]
    },
    {
     "name": "stdout",
     "output_type": "stream",
     "text": [
      "2023-08-10 19:33:52.298820\n",
      "Backend topology: 2023-08-10 19:33:52.298820\n",
      "<qiskit.providers.models.backendproperties.BackendProperties object at 0x7f5149208610>\n",
      "Depth: [1256, 1256, 1262, 1262, 1266, 1266]\n",
      "na\n"
     ]
    },
    {
     "name": "stderr",
     "output_type": "stream",
     "text": [
      "\n",
      "100%|███████████████████████████████████████████████████████████████████████████████████████████████████████████████████████████████████████████████████| 1/1 [00:00<00:00, 601.59it/s]\u001b[A\n"
     ]
    },
    {
     "name": "stdout",
     "output_type": "stream",
     "text": [
      "2023-08-15 19:34:00.432833\n",
      "Backend topology: 2023-08-15 19:34:00.432833\n",
      "<qiskit.providers.models.backendproperties.BackendProperties object at 0x7f5290ce10d0>\n",
      "Depth: [1550, 1550, 1154, 1154, 1156, 1156]\n",
      "not na\n"
     ]
    },
    {
     "name": "stderr",
     "output_type": "stream",
     "text": [
      "\n",
      "100%|███████████████████████████████████████████████████████████████████████████████████████████████████████████████████████████████████████████████████| 1/1 [00:00<00:00, 599.70it/s]\u001b[A\n"
     ]
    },
    {
     "name": "stdout",
     "output_type": "stream",
     "text": [
      "2023-11-12 19:34:08.968623\n",
      "Backend topology: 2023-11-12 19:34:08.968623\n",
      "<qiskit.providers.models.backendproperties.BackendProperties object at 0x7f529410fcd0>\n",
      "Depth: [1300, 1300, 1300, 1300, 1300, 1300]\n",
      "na\n"
     ]
    },
    {
     "name": "stderr",
     "output_type": "stream",
     "text": [
      "\n",
      "100%|███████████████████████████████████████████████████████████████████████████████████████████████████████████████████████████████████████████████████| 1/1 [00:00<00:00, 628.64it/s]\u001b[A\n"
     ]
    },
    {
     "name": "stdout",
     "output_type": "stream",
     "text": [
      "2023-09-01 19:34:16.499021\n",
      "Backend topology: 2023-09-01 19:34:16.499021\n",
      "<qiskit.providers.models.backendproperties.BackendProperties object at 0x7f51883ce3d0>\n",
      "Depth: [1278, 1278, 1284, 1284, 1290, 1290]\n",
      "na\n"
     ]
    },
    {
     "name": "stderr",
     "output_type": "stream",
     "text": [
      "\n",
      "100%|███████████████████████████████████████████████████████████████████████████████████████████████████████████████████████████████████████████████████| 1/1 [00:00<00:00, 541.62it/s]\u001b[A\n"
     ]
    },
    {
     "name": "stdout",
     "output_type": "stream",
     "text": [
      "2023-08-13 19:34:25.795093\n",
      "Backend topology: 2023-08-13 19:34:25.795093\n",
      "<qiskit.providers.models.backendproperties.BackendProperties object at 0x7f51687d62b0>\n",
      "Depth: [1270, 1270, 1160, 1160, 1162, 1162]\n",
      "not na\n"
     ]
    },
    {
     "name": "stderr",
     "output_type": "stream",
     "text": [
      "\n",
      "100%|███████████████████████████████████████████████████████████████████████████████████████████████████████████████████████████████████████████████████| 1/1 [00:00<00:00, 603.67it/s]\u001b[A\n"
     ]
    },
    {
     "name": "stdout",
     "output_type": "stream",
     "text": [
      "2023-10-09 19:34:34.058477\n",
      "Backend topology: 2023-10-09 19:34:34.058477\n",
      "<qiskit.providers.models.backendproperties.BackendProperties object at 0x7f5296158220>\n",
      "Depth: [1510, 1510, 1198, 1198, 1196, 1196]\n",
      "SABRE\n"
     ]
    },
    {
     "name": "stderr",
     "output_type": "stream",
     "text": [
      "\n",
      "100%|███████████████████████████████████████████████████████████████████████████████████████████████████████████████████████████████████████████████████| 1/1 [00:00<00:00, 598.08it/s]\u001b[A\n",
      " 44%|████████████████████████████████████████████████████████████████▏                                                                                 | 22/50 [20:28<37:46, 80.96s/it]"
     ]
    },
    {
     "name": "stdout",
     "output_type": "stream",
     "text": [
      "Current depth: 23\n",
      "2023-09-05 19:34:43.110412\n",
      "Backend topology: 2023-09-05 19:34:43.110412\n",
      "<qiskit.providers.models.backendproperties.BackendProperties object at 0x7f5264588dc0>\n",
      "Depth: [1134, 1134, 1090, 1090, 1090, 1090]\n",
      "not na\n"
     ]
    },
    {
     "name": "stderr",
     "output_type": "stream",
     "text": [
      "\n",
      "100%|███████████████████████████████████████████████████████████████████████████████████████████████████████████████████████████████████████████████████| 1/1 [00:00<00:00, 612.40it/s]\u001b[A\n"
     ]
    },
    {
     "name": "stdout",
     "output_type": "stream",
     "text": [
      "2023-08-19 19:34:50.280463\n",
      "Backend topology: 2023-08-19 19:34:50.280463\n",
      "<qiskit.providers.models.backendproperties.BackendProperties object at 0x7f528ed58700>\n",
      "Depth: [2108, 2108, 1518, 1518, 1518, 1518]\n",
      "not na\n"
     ]
    },
    {
     "name": "stderr",
     "output_type": "stream",
     "text": [
      "\n",
      "100%|███████████████████████████████████████████████████████████████████████████████████████████████████████████████████████████████████████████████████| 1/1 [00:00<00:00, 403.84it/s]\u001b[A\n"
     ]
    },
    {
     "name": "stdout",
     "output_type": "stream",
     "text": [
      "2023-10-16 19:35:00.658862\n",
      "Backend topology: 2023-10-16 19:35:00.658862\n",
      "<qiskit.providers.models.backendproperties.BackendProperties object at 0x7f51686795e0>\n",
      "Depth: [1212, 1212, 1224, 1224, 1220, 1220]\n",
      "na\n"
     ]
    },
    {
     "name": "stderr",
     "output_type": "stream",
     "text": [
      "\n",
      "100%|███████████████████████████████████████████████████████████████████████████████████████████████████████████████████████████████████████████████████| 1/1 [00:00<00:00, 545.14it/s]\u001b[A\n"
     ]
    },
    {
     "name": "stdout",
     "output_type": "stream",
     "text": [
      "2023-07-26 19:35:07.763086\n",
      "Backend topology: 2023-07-26 19:35:07.763086\n",
      "<qiskit.providers.models.backendproperties.BackendProperties object at 0x7f5290d960d0>\n",
      "Depth: [2278, 2278, 1356, 1356, 1364, 1364]\n",
      "not na\n"
     ]
    },
    {
     "name": "stderr",
     "output_type": "stream",
     "text": [
      "\n",
      "100%|███████████████████████████████████████████████████████████████████████████████████████████████████████████████████████████████████████████████████| 1/1 [00:00<00:00, 536.36it/s]\u001b[A\n"
     ]
    },
    {
     "name": "stdout",
     "output_type": "stream",
     "text": [
      "2023-07-04 19:35:18.462205\n",
      "Backend topology: 2023-07-04 19:35:18.462205\n",
      "<qiskit.providers.models.backendproperties.BackendProperties object at 0x7f5264691130>\n",
      "Depth: [1516, 1516, 1538, 1538, 1542, 1542]\n",
      "na\n"
     ]
    },
    {
     "name": "stderr",
     "output_type": "stream",
     "text": [
      "\n",
      "100%|███████████████████████████████████████████████████████████████████████████████████████████████████████████████████████████████████████████████████| 1/1 [00:00<00:00, 550.43it/s]\u001b[A\n"
     ]
    },
    {
     "name": "stdout",
     "output_type": "stream",
     "text": [
      "2023-08-04 19:35:28.775608\n",
      "Backend topology: 2023-08-04 19:35:28.775608\n",
      "<qiskit.providers.models.backendproperties.BackendProperties object at 0x7f52646ad9d0>\n",
      "Depth: [1224, 1224, 1226, 1226, 1224, 1224]\n",
      "na\n"
     ]
    },
    {
     "name": "stderr",
     "output_type": "stream",
     "text": [
      "\n",
      "100%|███████████████████████████████████████████████████████████████████████████████████████████████████████████████████████████████████████████████████| 1/1 [00:00<00:00, 583.03it/s]\u001b[A\n"
     ]
    },
    {
     "name": "stdout",
     "output_type": "stream",
     "text": [
      "2023-07-12 19:35:36.918069\n",
      "Backend topology: 2023-07-12 19:35:36.918069\n",
      "<qiskit.providers.models.backendproperties.BackendProperties object at 0x7f5240074640>\n",
      "Depth: [1318, 1318, 1312, 1312, 1320, 1320]\n",
      "not na\n"
     ]
    },
    {
     "name": "stderr",
     "output_type": "stream",
     "text": [
      "\n",
      "100%|███████████████████████████████████████████████████████████████████████████████████████████████████████████████████████████████████████████████████| 1/1 [00:00<00:00, 532.41it/s]\u001b[A\n"
     ]
    },
    {
     "name": "stdout",
     "output_type": "stream",
     "text": [
      "2023-10-01 19:35:43.927168\n",
      "Backend topology: 2023-10-01 19:35:43.927168\n",
      "<qiskit.providers.models.backendproperties.BackendProperties object at 0x7f528c0c0820>\n",
      "Depth: [1386, 1386, 1386, 1386, 1370, 1370]\n",
      "SABRE\n"
     ]
    },
    {
     "name": "stderr",
     "output_type": "stream",
     "text": [
      "\n",
      "100%|███████████████████████████████████████████████████████████████████████████████████████████████████████████████████████████████████████████████████| 1/1 [00:00<00:00, 573.62it/s]\u001b[A\n"
     ]
    },
    {
     "name": "stdout",
     "output_type": "stream",
     "text": [
      "2023-09-01 19:35:53.610795\n",
      "Backend topology: 2023-09-01 19:35:53.610795\n",
      "<qiskit.providers.models.backendproperties.BackendProperties object at 0x7f5224197f40>\n",
      "Depth: [1576, 1576, 1558, 1558, 1558, 1558]\n",
      "not na\n"
     ]
    },
    {
     "name": "stderr",
     "output_type": "stream",
     "text": [
      "\n",
      "100%|███████████████████████████████████████████████████████████████████████████████████████████████████████████████████████████████████████████████████| 1/1 [00:00<00:00, 618.81it/s]\u001b[A\n"
     ]
    },
    {
     "name": "stdout",
     "output_type": "stream",
     "text": [
      "2023-10-05 19:36:01.686700\n",
      "Backend topology: 2023-10-05 19:36:01.686700\n",
      "<qiskit.providers.models.backendproperties.BackendProperties object at 0x7f51681f9b80>\n",
      "Depth: [1360, 1360, 1362, 1362, 1364, 1364]\n",
      "na\n"
     ]
    },
    {
     "name": "stderr",
     "output_type": "stream",
     "text": [
      "\n",
      "100%|███████████████████████████████████████████████████████████████████████████████████████████████████████████████████████████████████████████████████| 1/1 [00:00<00:00, 600.13it/s]\u001b[A\n",
      " 46%|███████████████████████████████████████████████████████████████████▏                                                                              | 23/50 [21:56<37:18, 82.92s/it]"
     ]
    },
    {
     "name": "stdout",
     "output_type": "stream",
     "text": [
      "Current depth: 24\n",
      "2023-07-15 19:36:10.619596\n",
      "Backend topology: 2023-07-15 19:36:10.619596\n",
      "<qiskit.providers.models.backendproperties.BackendProperties object at 0x7f52959400a0>\n",
      "Depth: [1434, 1434, 1414, 1414, 1434, 1434]\n",
      "not na\n"
     ]
    },
    {
     "name": "stderr",
     "output_type": "stream",
     "text": [
      "\n",
      "100%|███████████████████████████████████████████████████████████████████████████████████████████████████████████████████████████████████████████████████| 1/1 [00:00<00:00, 589.09it/s]\u001b[A\n"
     ]
    },
    {
     "name": "stdout",
     "output_type": "stream",
     "text": [
      "2023-06-30 19:36:20.363375\n",
      "Backend topology: 2023-06-30 19:36:20.363375\n",
      "<qiskit.providers.models.backendproperties.BackendProperties object at 0x7f516818d790>\n",
      "Depth: [2304, 2304, 1354, 1354, 1354, 1354]\n",
      "not na\n"
     ]
    },
    {
     "name": "stderr",
     "output_type": "stream",
     "text": [
      "\n",
      "100%|███████████████████████████████████████████████████████████████████████████████████████████████████████████████████████████████████████████████████| 1/1 [00:00<00:00, 629.78it/s]\u001b[A\n"
     ]
    },
    {
     "name": "stdout",
     "output_type": "stream",
     "text": [
      "2023-07-11 19:36:29.809842\n",
      "Backend topology: 2023-07-11 19:36:29.809842\n",
      "<qiskit.providers.models.backendproperties.BackendProperties object at 0x7f5291530340>\n",
      "Depth: [1484, 1484, 1482, 1482, 1478, 1478]\n",
      "SABRE\n"
     ]
    },
    {
     "name": "stderr",
     "output_type": "stream",
     "text": [
      "\n",
      "100%|███████████████████████████████████████████████████████████████████████████████████████████████████████████████████████████████████████████████████| 1/1 [00:00<00:00, 596.37it/s]\u001b[A\n"
     ]
    },
    {
     "name": "stdout",
     "output_type": "stream",
     "text": [
      "2023-09-20 19:36:40.259239\n",
      "Backend topology: 2023-09-20 19:36:40.259239\n",
      "<qiskit.providers.models.backendproperties.BackendProperties object at 0x7f524054ba90>\n",
      "Depth: [1390, 1390, 1392, 1392, 1406, 1406]\n",
      "na\n"
     ]
    },
    {
     "name": "stderr",
     "output_type": "stream",
     "text": [
      "\n",
      "100%|███████████████████████████████████████████████████████████████████████████████████████████████████████████████████████████████████████████████████| 1/1 [00:00<00:00, 617.72it/s]\u001b[A\n"
     ]
    },
    {
     "name": "stdout",
     "output_type": "stream",
     "text": [
      "2023-07-20 19:36:49.924206\n",
      "Backend topology: 2023-07-20 19:36:49.924206\n",
      "<qiskit.providers.models.backendproperties.BackendProperties object at 0x7f51a809b6a0>\n",
      "Depth: [3022, 3022, 1668, 1668, 1670, 1670]\n",
      "not na\n"
     ]
    },
    {
     "name": "stderr",
     "output_type": "stream",
     "text": [
      "\n",
      "100%|███████████████████████████████████████████████████████████████████████████████████████████████████████████████████████████████████████████████████| 1/1 [00:00<00:00, 545.71it/s]\u001b[A\n"
     ]
    },
    {
     "name": "stdout",
     "output_type": "stream",
     "text": [
      "2023-09-20 19:37:02.507430\n",
      "Backend topology: 2023-09-20 19:37:02.507430\n",
      "<qiskit.providers.models.backendproperties.BackendProperties object at 0x7f516821f250>\n",
      "Depth: [1256, 1256, 1246, 1246, 1256, 1256]\n",
      "not na\n"
     ]
    },
    {
     "name": "stderr",
     "output_type": "stream",
     "text": [
      "\n",
      "100%|███████████████████████████████████████████████████████████████████████████████████████████████████████████████████████████████████████████████████| 1/1 [00:00<00:00, 406.62it/s]\u001b[A\n"
     ]
    },
    {
     "name": "stdout",
     "output_type": "stream",
     "text": [
      "2023-08-11 19:37:11.829930\n",
      "Backend topology: 2023-08-11 19:37:11.829930\n",
      "<qiskit.providers.models.backendproperties.BackendProperties object at 0x7f51687d62b0>\n",
      "Depth: [2286, 2286, 1634, 1634, 1636, 1636]\n",
      "not na\n"
     ]
    },
    {
     "name": "stderr",
     "output_type": "stream",
     "text": [
      "\n",
      "100%|███████████████████████████████████████████████████████████████████████████████████████████████████████████████████████████████████████████████████| 1/1 [00:00<00:00, 609.02it/s]\u001b[A\n"
     ]
    },
    {
     "name": "stdout",
     "output_type": "stream",
     "text": [
      "2023-09-19 19:37:24.414353\n",
      "Backend topology: 2023-09-19 19:37:24.414353\n",
      "<qiskit.providers.models.backendproperties.BackendProperties object at 0x7f51681fa850>\n",
      "Depth: [2332, 2332, 1482, 1482, 1482, 1482]\n",
      "not na\n"
     ]
    },
    {
     "name": "stderr",
     "output_type": "stream",
     "text": [
      "\n",
      "100%|███████████████████████████████████████████████████████████████████████████████████████████████████████████████████████████████████████████████████| 1/1 [00:00<00:00, 569.41it/s]\u001b[A\n"
     ]
    },
    {
     "name": "stdout",
     "output_type": "stream",
     "text": [
      "2023-07-15 19:37:35.677124\n",
      "Backend topology: 2023-07-15 19:37:35.677124\n",
      "<qiskit.providers.models.backendproperties.BackendProperties object at 0x7f52043acd00>\n",
      "Depth: [1430, 1430, 1452, 1452, 1454, 1454]\n",
      "na\n"
     ]
    },
    {
     "name": "stderr",
     "output_type": "stream",
     "text": [
      "\n",
      "100%|███████████████████████████████████████████████████████████████████████████████████████████████████████████████████████████████████████████████████| 1/1 [00:00<00:00, 556.27it/s]\u001b[A\n"
     ]
    },
    {
     "name": "stdout",
     "output_type": "stream",
     "text": [
      "2023-06-30 19:37:44.306276\n",
      "Backend topology: 2023-06-30 19:37:44.306276\n",
      "<qiskit.providers.models.backendproperties.BackendProperties object at 0x7f52914c7070>\n",
      "Depth: [1742, 1742, 1234, 1234, 1244, 1244]\n",
      "not na\n"
     ]
    },
    {
     "name": "stderr",
     "output_type": "stream",
     "text": [
      "\n",
      "100%|███████████████████████████████████████████████████████████████████████████████████████████████████████████████████████████████████████████████████| 1/1 [00:00<00:00, 548.56it/s]\u001b[A\n",
      " 48%|██████████████████████████████████████████████████████████████████████                                                                            | 24/50 [23:39<38:31, 88.89s/it]"
     ]
    },
    {
     "name": "stdout",
     "output_type": "stream",
     "text": [
      "Current depth: 25\n",
      "2023-11-20 19:37:53.427478\n",
      "Backend topology: 2023-11-20 19:37:53.427478\n",
      "<qiskit.providers.models.backendproperties.BackendProperties object at 0x7f51682c7e50>\n",
      "Depth: [1472, 1472, 1460, 1460, 1462, 1462]\n",
      "not na\n"
     ]
    },
    {
     "name": "stderr",
     "output_type": "stream",
     "text": [
      "\n",
      "100%|███████████████████████████████████████████████████████████████████████████████████████████████████████████████████████████████████████████████████| 1/1 [00:00<00:00, 597.73it/s]\u001b[A\n"
     ]
    },
    {
     "name": "stdout",
     "output_type": "stream",
     "text": [
      "2023-07-13 19:38:02.806808\n",
      "Backend topology: 2023-07-13 19:38:02.806808\n",
      "<qiskit.providers.models.backendproperties.BackendProperties object at 0x7f51a8681400>\n",
      "Depth: [1426, 1426, 1436, 1436, 1426, 1426]\n",
      "na\n"
     ]
    },
    {
     "name": "stderr",
     "output_type": "stream",
     "text": [
      "\n",
      "100%|███████████████████████████████████████████████████████████████████████████████████████████████████████████████████████████████████████████████████| 1/1 [00:00<00:00, 568.26it/s]\u001b[A\n"
     ]
    },
    {
     "name": "stdout",
     "output_type": "stream",
     "text": [
      "2023-08-08 19:38:12.161812\n",
      "Backend topology: 2023-08-08 19:38:12.161812\n",
      "<qiskit.providers.models.backendproperties.BackendProperties object at 0x7f5240789850>\n",
      "Depth: [1482, 1482, 1518, 1518, 1482, 1482]\n",
      "na\n"
     ]
    },
    {
     "name": "stderr",
     "output_type": "stream",
     "text": [
      "\n",
      "100%|███████████████████████████████████████████████████████████████████████████████████████████████████████████████████████████████████████████████████| 1/1 [00:00<00:00, 558.87it/s]\u001b[A\n"
     ]
    },
    {
     "name": "stdout",
     "output_type": "stream",
     "text": [
      "2023-07-13 19:38:21.091371\n",
      "Backend topology: 2023-07-13 19:38:21.091371\n",
      "<qiskit.providers.models.backendproperties.BackendProperties object at 0x7f529407a1c0>\n",
      "Depth: [1480, 1480, 1488, 1488, 1490, 1490]\n",
      "na\n"
     ]
    },
    {
     "name": "stderr",
     "output_type": "stream",
     "text": [
      "\n",
      "100%|███████████████████████████████████████████████████████████████████████████████████████████████████████████████████████████████████████████████████| 1/1 [00:00<00:00, 395.58it/s]\u001b[A\n"
     ]
    },
    {
     "name": "stdout",
     "output_type": "stream",
     "text": [
      "2023-11-22 19:38:30.551645\n",
      "Backend topology: 2023-11-22 19:38:30.551645\n",
      "<qiskit.providers.models.backendproperties.BackendProperties object at 0x7f520459aaf0>\n",
      "Depth: [1360, 1360, 1364, 1364, 1360, 1360]\n",
      "na\n"
     ]
    },
    {
     "name": "stderr",
     "output_type": "stream",
     "text": [
      "\n",
      "100%|███████████████████████████████████████████████████████████████████████████████████████████████████████████████████████████████████████████████████| 1/1 [00:00<00:00, 522.39it/s]\u001b[A\n"
     ]
    },
    {
     "name": "stdout",
     "output_type": "stream",
     "text": [
      "2023-10-15 19:38:40.065959\n",
      "Backend topology: 2023-10-15 19:38:40.065959\n",
      "<qiskit.providers.models.backendproperties.BackendProperties object at 0x7f5168372c70>\n",
      "Depth: [1966, 1966, 1762, 1762, 1762, 1762]\n",
      "not na\n"
     ]
    },
    {
     "name": "stderr",
     "output_type": "stream",
     "text": [
      "\n",
      "100%|███████████████████████████████████████████████████████████████████████████████████████████████████████████████████████████████████████████████████| 1/1 [00:00<00:00, 609.11it/s]\u001b[A\n"
     ]
    },
    {
     "name": "stdout",
     "output_type": "stream",
     "text": [
      "2023-08-07 19:38:48.822285\n",
      "Backend topology: 2023-08-07 19:38:48.822285\n",
      "<qiskit.providers.models.backendproperties.BackendProperties object at 0x7f51883d3460>\n",
      "Depth: [1678, 1678, 1494, 1494, 1494, 1494]\n",
      "not na\n"
     ]
    },
    {
     "name": "stderr",
     "output_type": "stream",
     "text": [
      "\n",
      "100%|███████████████████████████████████████████████████████████████████████████████████████████████████████████████████████████████████████████████████| 1/1 [00:00<00:00, 598.50it/s]\u001b[A\n"
     ]
    },
    {
     "name": "stdout",
     "output_type": "stream",
     "text": [
      "2023-09-22 19:38:59.225862\n",
      "Backend topology: 2023-09-22 19:38:59.225862\n",
      "<qiskit.providers.models.backendproperties.BackendProperties object at 0x7f52041a2310>\n",
      "Depth: [1658, 1658, 1656, 1656, 1658, 1658]\n",
      "not na\n"
     ]
    },
    {
     "name": "stderr",
     "output_type": "stream",
     "text": [
      "\n",
      "100%|███████████████████████████████████████████████████████████████████████████████████████████████████████████████████████████████████████████████████| 1/1 [00:00<00:00, 592.92it/s]\u001b[A\n"
     ]
    },
    {
     "name": "stdout",
     "output_type": "stream",
     "text": [
      "2023-09-14 19:39:10.397990\n",
      "Backend topology: 2023-09-14 19:39:10.397990\n",
      "<qiskit.providers.models.backendproperties.BackendProperties object at 0x7f52958a5a60>\n",
      "Depth: [1452, 1452, 1448, 1448, 1452, 1452]\n",
      "not na\n"
     ]
    },
    {
     "name": "stderr",
     "output_type": "stream",
     "text": [
      "\n",
      "100%|███████████████████████████████████████████████████████████████████████████████████████████████████████████████████████████████████████████████████| 1/1 [00:00<00:00, 389.62it/s]\u001b[A\n"
     ]
    },
    {
     "name": "stdout",
     "output_type": "stream",
     "text": [
      "2023-10-17 19:39:18.945146\n",
      "Backend topology: 2023-10-17 19:39:18.945146\n",
      "<qiskit.providers.models.backendproperties.BackendProperties object at 0x7f51687ce340>\n",
      "Depth: [1370, 1370, 1280, 1280, 1280, 1280]\n",
      "not na\n"
     ]
    },
    {
     "name": "stderr",
     "output_type": "stream",
     "text": [
      "\n",
      "100%|███████████████████████████████████████████████████████████████████████████████████████████████████████████████████████████████████████████████████| 1/1 [00:00<00:00, 598.93it/s]\u001b[A\n",
      " 50%|█████████████████████████████████████████████████████████████████████████                                                                         | 25/50 [25:12<37:36, 90.24s/it]"
     ]
    },
    {
     "name": "stdout",
     "output_type": "stream",
     "text": [
      "Current depth: 26\n",
      "2023-08-05 19:39:26.826557\n",
      "Backend topology: 2023-08-05 19:39:26.826557\n",
      "<qiskit.providers.models.backendproperties.BackendProperties object at 0x7f5293c70550>\n",
      "Depth: [1498, 1498, 1484, 1484, 1480, 1480]\n",
      "SABRE\n"
     ]
    },
    {
     "name": "stderr",
     "output_type": "stream",
     "text": [
      "\n",
      "100%|███████████████████████████████████████████████████████████████████████████████████████████████████████████████████████████████████████████████████| 1/1 [00:00<00:00, 559.54it/s]\u001b[A\n"
     ]
    },
    {
     "name": "stdout",
     "output_type": "stream",
     "text": [
      "2023-07-21 19:39:37.696481\n",
      "Backend topology: 2023-07-21 19:39:37.696481\n",
      "<qiskit.providers.models.backendproperties.BackendProperties object at 0x7f524075dbb0>\n",
      "Depth: [2438, 2438, 1790, 1790, 1788, 1788]\n",
      "SABRE\n"
     ]
    },
    {
     "name": "stderr",
     "output_type": "stream",
     "text": [
      "\n",
      "100%|███████████████████████████████████████████████████████████████████████████████████████████████████████████████████████████████████████████████████| 1/1 [00:00<00:00, 538.08it/s]\u001b[A\n"
     ]
    },
    {
     "name": "stdout",
     "output_type": "stream",
     "text": [
      "2023-08-02 19:39:50.209184\n",
      "Backend topology: 2023-08-02 19:39:50.209184\n",
      "<qiskit.providers.models.backendproperties.BackendProperties object at 0x7f5204726d30>\n",
      "Depth: [1566, 1566, 1424, 1424, 1434, 1434]\n",
      "not na\n"
     ]
    },
    {
     "name": "stderr",
     "output_type": "stream",
     "text": [
      "\n",
      "100%|███████████████████████████████████████████████████████████████████████████████████████████████████████████████████████████████████████████████████| 1/1 [00:00<00:00, 629.68it/s]\u001b[A\n"
     ]
    },
    {
     "name": "stdout",
     "output_type": "stream",
     "text": [
      "2023-09-27 19:40:00.032928\n",
      "Backend topology: 2023-09-27 19:40:00.032928\n",
      "<qiskit.providers.models.backendproperties.BackendProperties object at 0x7f51e805d4c0>\n",
      "Depth: [2618, 2618, 1468, 1468, 1468, 1468]\n",
      "not na\n"
     ]
    },
    {
     "name": "stderr",
     "output_type": "stream",
     "text": [
      "\n",
      "100%|███████████████████████████████████████████████████████████████████████████████████████████████████████████████████████████████████████████████████| 1/1 [00:00<00:00, 538.28it/s]\u001b[A\n"
     ]
    },
    {
     "name": "stdout",
     "output_type": "stream",
     "text": [
      "2023-09-06 19:40:11.319976\n",
      "Backend topology: 2023-09-06 19:40:11.319976\n",
      "<qiskit.providers.models.backendproperties.BackendProperties object at 0x7f526430a220>\n",
      "Depth: [1288, 1288, 1274, 1274, 1280, 1280]\n",
      "not na\n"
     ]
    },
    {
     "name": "stderr",
     "output_type": "stream",
     "text": [
      "\n",
      "100%|███████████████████████████████████████████████████████████████████████████████████████████████████████████████████████████████████████████████████| 1/1 [00:00<00:00, 405.48it/s]\u001b[A\n"
     ]
    },
    {
     "name": "stdout",
     "output_type": "stream",
     "text": [
      "2023-07-18 19:40:20.302101\n",
      "Backend topology: 2023-07-18 19:40:20.302101\n",
      "<qiskit.providers.models.backendproperties.BackendProperties object at 0x7f52800cbe80>\n",
      "Depth: [1752, 1752, 1746, 1746, 1744, 1744]\n",
      "SABRE\n"
     ]
    },
    {
     "name": "stderr",
     "output_type": "stream",
     "text": [
      "\n",
      "100%|███████████████████████████████████████████████████████████████████████████████████████████████████████████████████████████████████████████████████| 1/1 [00:00<00:00, 580.93it/s]\u001b[A\n"
     ]
    },
    {
     "name": "stdout",
     "output_type": "stream",
     "text": [
      "2023-09-24 19:40:32.782604\n",
      "Backend topology: 2023-09-24 19:40:32.782604\n",
      "<qiskit.providers.models.backendproperties.BackendProperties object at 0x7f514931e5e0>\n",
      "Depth: [1590, 1590, 1590, 1590, 1590, 1590]\n",
      "na\n"
     ]
    },
    {
     "name": "stderr",
     "output_type": "stream",
     "text": [
      "\n",
      "100%|███████████████████████████████████████████████████████████████████████████████████████████████████████████████████████████████████████████████████| 1/1 [00:00<00:00, 600.30it/s]\u001b[A\n"
     ]
    },
    {
     "name": "stdout",
     "output_type": "stream",
     "text": [
      "2023-08-30 19:40:51.058722\n",
      "Backend topology: 2023-08-30 19:40:51.058722\n",
      "<qiskit.providers.models.backendproperties.BackendProperties object at 0x7f520467dca0>\n",
      "Depth: [1640, 1640, 1644, 1644, 1614, 1614]\n",
      "SABRE\n"
     ]
    },
    {
     "name": "stderr",
     "output_type": "stream",
     "text": [
      "\n",
      "100%|███████████████████████████████████████████████████████████████████████████████████████████████████████████████████████████████████████████████████| 1/1 [00:00<00:00, 562.99it/s]\u001b[A\n"
     ]
    },
    {
     "name": "stdout",
     "output_type": "stream",
     "text": [
      "2023-07-04 19:41:02.511825\n",
      "Backend topology: 2023-07-04 19:41:02.511825\n",
      "<qiskit.providers.models.backendproperties.BackendProperties object at 0x7f52910be2b0>\n",
      "Depth: [1188, 1188, 1176, 1176, 1188, 1188]\n",
      "not na\n"
     ]
    },
    {
     "name": "stderr",
     "output_type": "stream",
     "text": [
      "\n",
      "100%|███████████████████████████████████████████████████████████████████████████████████████████████████████████████████████████████████████████████████| 1/1 [00:00<00:00, 516.73it/s]\u001b[A\n"
     ]
    },
    {
     "name": "stdout",
     "output_type": "stream",
     "text": [
      "2023-09-07 19:41:10.430921\n",
      "Backend topology: 2023-09-07 19:41:10.430921\n",
      "<qiskit.providers.models.backendproperties.BackendProperties object at 0x7f51687e4310>\n",
      "Depth: [1666, 1666, 1498, 1498, 1500, 1500]\n",
      "not na\n"
     ]
    },
    {
     "name": "stderr",
     "output_type": "stream",
     "text": [
      "\n",
      "100%|███████████████████████████████████████████████████████████████████████████████████████████████████████████████████████████████████████████████████| 1/1 [00:00<00:00, 590.83it/s]\u001b[A\n",
      " 52%|███████████████████████████████████████████████████████████████████████████▉                                                                      | 26/50 [27:06<38:52, 97.19s/it]"
     ]
    },
    {
     "name": "stdout",
     "output_type": "stream",
     "text": [
      "Current depth: 27\n",
      "2023-11-13 19:41:20.230551\n",
      "Backend topology: 2023-11-13 19:41:20.230551\n",
      "<qiskit.providers.models.backendproperties.BackendProperties object at 0x7f52930f19a0>\n",
      "Depth: [1592, 1592, 1638, 1638, 1610, 1610]\n",
      "na\n"
     ]
    },
    {
     "name": "stderr",
     "output_type": "stream",
     "text": [
      "\n",
      "100%|███████████████████████████████████████████████████████████████████████████████████████████████████████████████████████████████████████████████████| 1/1 [00:00<00:00, 525.67it/s]\u001b[A\n"
     ]
    },
    {
     "name": "stdout",
     "output_type": "stream",
     "text": [
      "2023-07-17 19:41:30.337958\n",
      "Backend topology: 2023-07-17 19:41:30.337958\n",
      "<qiskit.providers.models.backendproperties.BackendProperties object at 0x7f5295593dc0>\n",
      "Depth: [1722, 1722, 1662, 1662, 1634, 1634]\n",
      "SABRE\n"
     ]
    },
    {
     "name": "stderr",
     "output_type": "stream",
     "text": [
      "\n",
      "100%|███████████████████████████████████████████████████████████████████████████████████████████████████████████████████████████████████████████████████| 1/1 [00:00<00:00, 529.18it/s]\u001b[A\n"
     ]
    },
    {
     "name": "stdout",
     "output_type": "stream",
     "text": [
      "2023-08-19 19:41:41.810731\n",
      "Backend topology: 2023-08-19 19:41:41.810731\n",
      "<qiskit.providers.models.backendproperties.BackendProperties object at 0x7f5168628c70>\n",
      "Depth: [1724, 1724, 1718, 1718, 1716, 1716]\n",
      "SABRE\n"
     ]
    },
    {
     "name": "stderr",
     "output_type": "stream",
     "text": [
      "\n",
      "100%|███████████████████████████████████████████████████████████████████████████████████████████████████████████████████████████████████████████████████| 1/1 [00:00<00:00, 545.28it/s]\u001b[A\n"
     ]
    },
    {
     "name": "stdout",
     "output_type": "stream",
     "text": [
      "2023-11-02 19:41:52.395061\n",
      "Backend topology: 2023-11-02 19:41:52.395061\n",
      "<qiskit.providers.models.backendproperties.BackendProperties object at 0x7f5224193b20>\n",
      "Depth: [2964, 2964, 1764, 1764, 1764, 1764]\n",
      "not na\n"
     ]
    },
    {
     "name": "stderr",
     "output_type": "stream",
     "text": [
      "\n",
      "100%|███████████████████████████████████████████████████████████████████████████████████████████████████████████████████████████████████████████████████| 1/1 [00:00<00:00, 587.60it/s]\u001b[A\n"
     ]
    },
    {
     "name": "stdout",
     "output_type": "stream",
     "text": [
      "2023-11-12 19:42:05.523649\n",
      "Backend topology: 2023-11-12 19:42:05.523649\n",
      "<qiskit.providers.models.backendproperties.BackendProperties object at 0x7f529618c520>\n",
      "Depth: [1802, 1802, 1828, 1828, 1818, 1818]\n",
      "na\n"
     ]
    },
    {
     "name": "stderr",
     "output_type": "stream",
     "text": [
      "\n",
      "100%|███████████████████████████████████████████████████████████████████████████████████████████████████████████████████████████████████████████████████| 1/1 [00:00<00:00, 596.46it/s]\u001b[A\n"
     ]
    },
    {
     "name": "stdout",
     "output_type": "stream",
     "text": [
      "2023-11-09 19:42:17.398089\n",
      "Backend topology: 2023-11-09 19:42:17.398089\n",
      "<qiskit.providers.models.backendproperties.BackendProperties object at 0x7f529585bc40>\n",
      "Depth: [1730, 1730, 1664, 1664, 1664, 1664]\n",
      "not na\n"
     ]
    },
    {
     "name": "stderr",
     "output_type": "stream",
     "text": [
      "\n",
      "100%|███████████████████████████████████████████████████████████████████████████████████████████████████████████████████████████████████████████████████| 1/1 [00:00<00:00, 590.58it/s]\u001b[A\n"
     ]
    },
    {
     "name": "stdout",
     "output_type": "stream",
     "text": [
      "2023-11-10 19:42:30.332674\n",
      "Backend topology: 2023-11-10 19:42:30.332674\n",
      "<qiskit.providers.models.backendproperties.BackendProperties object at 0x7f51a80a1610>\n",
      "Depth: [1860, 1860, 1838, 1838, 1848, 1848]\n",
      "not na\n"
     ]
    },
    {
     "name": "stderr",
     "output_type": "stream",
     "text": [
      "\n",
      "100%|███████████████████████████████████████████████████████████████████████████████████████████████████████████████████████████████████████████████████| 1/1 [00:00<00:00, 551.16it/s]\u001b[A\n"
     ]
    },
    {
     "name": "stdout",
     "output_type": "stream",
     "text": [
      "2023-11-17 19:42:43.537007\n",
      "Backend topology: 2023-11-17 19:42:43.537007\n",
      "<qiskit.providers.models.backendproperties.BackendProperties object at 0x7f526438c370>\n",
      "Depth: [1642, 1642, 1652, 1652, 1638, 1638]\n",
      "SABRE\n"
     ]
    },
    {
     "name": "stderr",
     "output_type": "stream",
     "text": [
      "\n",
      "100%|███████████████████████████████████████████████████████████████████████████████████████████████████████████████████████████████████████████████████| 1/1 [00:00<00:00, 550.80it/s]\u001b[A\n"
     ]
    },
    {
     "name": "stdout",
     "output_type": "stream",
     "text": [
      "2023-10-14 19:42:54.399177\n",
      "Backend topology: 2023-10-14 19:42:54.399177\n",
      "<qiskit.providers.models.backendproperties.BackendProperties object at 0x7f528c184c40>\n",
      "Depth: [1814, 1814, 1574, 1574, 1576, 1576]\n",
      "not na\n"
     ]
    },
    {
     "name": "stderr",
     "output_type": "stream",
     "text": [
      "\n",
      "100%|███████████████████████████████████████████████████████████████████████████████████████████████████████████████████████████████████████████████████| 1/1 [00:00<00:00, 418.80it/s]\u001b[A\n"
     ]
    },
    {
     "name": "stdout",
     "output_type": "stream",
     "text": [
      "2023-09-26 19:43:05.068357\n",
      "Backend topology: 2023-09-26 19:43:05.068357\n",
      "<qiskit.providers.models.backendproperties.BackendProperties object at 0x7f520413e7f0>\n",
      "Depth: [2136, 2136, 1668, 1668, 1666, 1666]\n",
      "SABRE\n"
     ]
    },
    {
     "name": "stderr",
     "output_type": "stream",
     "text": [
      "\n",
      "100%|███████████████████████████████████████████████████████████████████████████████████████████████████████████████████████████████████████████████████| 1/1 [00:00<00:00, 364.47it/s]\u001b[A\n",
      " 54%|██████████████████████████████████████████████████████████████████████████████▎                                                                  | 27/50 [29:02<39:29, 103.04s/it]"
     ]
    },
    {
     "name": "stdout",
     "output_type": "stream",
     "text": [
      "Current depth: 28\n",
      "2023-07-13 19:43:16.899976\n",
      "Backend topology: 2023-07-13 19:43:16.899976\n",
      "<qiskit.providers.models.backendproperties.BackendProperties object at 0x7f5290de2370>\n",
      "Depth: [1810, 1810, 1806, 1806, 1806, 1806]\n",
      "not na\n"
     ]
    },
    {
     "name": "stderr",
     "output_type": "stream",
     "text": [
      "\n",
      "100%|███████████████████████████████████████████████████████████████████████████████████████████████████████████████████████████████████████████████████| 1/1 [00:00<00:00, 571.59it/s]\u001b[A\n"
     ]
    },
    {
     "name": "stdout",
     "output_type": "stream",
     "text": [
      "2023-07-14 19:43:28.293184\n",
      "Backend topology: 2023-07-14 19:43:28.293184\n",
      "<qiskit.providers.models.backendproperties.BackendProperties object at 0x7f52955da7f0>\n",
      "Depth: [1780, 1780, 1768, 1768, 1790, 1790]\n",
      "not na\n"
     ]
    },
    {
     "name": "stderr",
     "output_type": "stream",
     "text": [
      "\n",
      "100%|███████████████████████████████████████████████████████████████████████████████████████████████████████████████████████████████████████████████████| 1/1 [00:00<00:00, 554.22it/s]\u001b[A\n"
     ]
    },
    {
     "name": "stdout",
     "output_type": "stream",
     "text": [
      "2023-07-05 19:43:50.451005\n",
      "Backend topology: 2023-07-05 19:43:50.451005\n",
      "<qiskit.providers.models.backendproperties.BackendProperties object at 0x7f51e80a6af0>\n",
      "Depth: [3014, 3014, 1492, 1492, 1492, 1492]\n",
      "not na\n"
     ]
    },
    {
     "name": "stderr",
     "output_type": "stream",
     "text": [
      "\n",
      "100%|███████████████████████████████████████████████████████████████████████████████████████████████████████████████████████████████████████████████████| 1/1 [00:00<00:00, 353.92it/s]\u001b[A\n"
     ]
    },
    {
     "name": "stdout",
     "output_type": "stream",
     "text": [
      "2023-07-19 19:44:02.486596\n",
      "Backend topology: 2023-07-19 19:44:02.486596\n",
      "<qiskit.providers.models.backendproperties.BackendProperties object at 0x7f52807a5430>\n",
      "Depth: [1672, 1672, 1656, 1656, 1644, 1644]\n",
      "SABRE\n"
     ]
    },
    {
     "name": "stderr",
     "output_type": "stream",
     "text": [
      "\n",
      "100%|███████████████████████████████████████████████████████████████████████████████████████████████████████████████████████████████████████████████████| 1/1 [00:00<00:00, 547.63it/s]\u001b[A\n"
     ]
    },
    {
     "name": "stdout",
     "output_type": "stream",
     "text": [
      "2023-09-27 19:44:13.403614\n",
      "Backend topology: 2023-09-27 19:44:13.403614\n",
      "<qiskit.providers.models.backendproperties.BackendProperties object at 0x7f52959a71f0>\n",
      "Depth: [1758, 1758, 1630, 1630, 1628, 1628]\n",
      "SABRE\n"
     ]
    },
    {
     "name": "stderr",
     "output_type": "stream",
     "text": [
      "\n",
      "100%|███████████████████████████████████████████████████████████████████████████████████████████████████████████████████████████████████████████████████| 1/1 [00:00<00:00, 338.96it/s]\u001b[A\n"
     ]
    },
    {
     "name": "stdout",
     "output_type": "stream",
     "text": [
      "2023-07-31 19:44:24.944511\n",
      "Backend topology: 2023-07-31 19:44:24.944511\n",
      "<qiskit.providers.models.backendproperties.BackendProperties object at 0x7f5291467970>\n",
      "Depth: [1726, 1726, 1712, 1712, 1722, 1722]\n",
      "not na\n"
     ]
    },
    {
     "name": "stderr",
     "output_type": "stream",
     "text": [
      "\n",
      "100%|███████████████████████████████████████████████████████████████████████████████████████████████████████████████████████████████████████████████████| 1/1 [00:00<00:00, 553.56it/s]\u001b[A\n"
     ]
    },
    {
     "name": "stdout",
     "output_type": "stream",
     "text": [
      "2023-07-12 19:44:35.792849\n",
      "Backend topology: 2023-07-12 19:44:35.792849\n",
      "<qiskit.providers.models.backendproperties.BackendProperties object at 0x7f52645f79d0>\n",
      "Depth: [1466, 1466, 1456, 1456, 1478, 1478]\n",
      "not na\n"
     ]
    },
    {
     "name": "stderr",
     "output_type": "stream",
     "text": [
      "\n",
      "100%|███████████████████████████████████████████████████████████████████████████████████████████████████████████████████████████████████████████████████| 1/1 [00:00<00:00, 572.60it/s]\u001b[A\n"
     ]
    },
    {
     "name": "stdout",
     "output_type": "stream",
     "text": [
      "2023-11-13 19:44:44.844260\n",
      "Backend topology: 2023-11-13 19:44:44.844260\n",
      "<qiskit.providers.models.backendproperties.BackendProperties object at 0x7f52644b7100>\n",
      "Depth: [1634, 1634, 1622, 1622, 1624, 1624]\n",
      "not na\n"
     ]
    },
    {
     "name": "stderr",
     "output_type": "stream",
     "text": [
      "\n",
      "100%|███████████████████████████████████████████████████████████████████████████████████████████████████████████████████████████████████████████████████| 1/1 [00:00<00:00, 603.67it/s]\u001b[A\n"
     ]
    },
    {
     "name": "stdout",
     "output_type": "stream",
     "text": [
      "2023-11-01 19:44:55.892832\n",
      "Backend topology: 2023-11-01 19:44:55.892832\n",
      "<qiskit.providers.models.backendproperties.BackendProperties object at 0x7f528ecc0460>\n",
      "Depth: [1310, 1310, 1294, 1294, 1312, 1312]\n",
      "not na\n"
     ]
    },
    {
     "name": "stderr",
     "output_type": "stream",
     "text": [
      "\n",
      "100%|███████████████████████████████████████████████████████████████████████████████████████████████████████████████████████████████████████████████████| 1/1 [00:00<00:00, 527.45it/s]\u001b[A\n"
     ]
    },
    {
     "name": "stdout",
     "output_type": "stream",
     "text": [
      "2023-10-01 19:45:04.833719\n",
      "Backend topology: 2023-10-01 19:45:04.833719\n",
      "<qiskit.providers.models.backendproperties.BackendProperties object at 0x7f5295dfae50>\n",
      "Depth: [2894, 2894, 1618, 1618, 1618, 1618]\n",
      "not na\n"
     ]
    },
    {
     "name": "stderr",
     "output_type": "stream",
     "text": [
      "\n",
      "100%|███████████████████████████████████████████████████████████████████████████████████████████████████████████████████████████████████████████████████| 1/1 [00:00<00:00, 360.12it/s]\u001b[A\n",
      " 56%|█████████████████████████████████████████████████████████████████████████████████▏                                                               | 28/50 [31:02<39:39, 108.17s/it]"
     ]
    },
    {
     "name": "stdout",
     "output_type": "stream",
     "text": [
      "Current depth: 29\n",
      "2023-08-04 19:45:17.058881\n",
      "Backend topology: 2023-08-04 19:45:17.058881\n",
      "<qiskit.providers.models.backendproperties.BackendProperties object at 0x7f522479b8e0>\n",
      "Depth: [2030, 2030, 1658, 1658, 1658, 1658]\n",
      "not na\n"
     ]
    },
    {
     "name": "stderr",
     "output_type": "stream",
     "text": [
      "\n",
      "100%|███████████████████████████████████████████████████████████████████████████████████████████████████████████████████████████████████████████████████| 1/1 [00:00<00:00, 557.31it/s]\u001b[A\n"
     ]
    },
    {
     "name": "stdout",
     "output_type": "stream",
     "text": [
      "2023-08-16 19:45:29.792573\n",
      "Backend topology: 2023-08-16 19:45:29.792573\n",
      "<qiskit.providers.models.backendproperties.BackendProperties object at 0x7f522475dd00>\n",
      "Depth: [1910, 1910, 1892, 1892, 1892, 1892]\n",
      "not na\n"
     ]
    },
    {
     "name": "stderr",
     "output_type": "stream",
     "text": [
      "\n",
      "100%|███████████████████████████████████████████████████████████████████████████████████████████████████████████████████████████████████████████████████| 1/1 [00:00<00:00, 542.53it/s]\u001b[A\n"
     ]
    },
    {
     "name": "stdout",
     "output_type": "stream",
     "text": [
      "2023-11-21 19:45:39.310150\n",
      "Backend topology: 2023-11-21 19:45:39.310150\n",
      "<qiskit.providers.models.backendproperties.BackendProperties object at 0x7f528c0c0820>\n",
      "Depth: [2244, 2244, 1652, 1652, 1648, 1648]\n",
      "SABRE\n"
     ]
    },
    {
     "name": "stderr",
     "output_type": "stream",
     "text": [
      "\n",
      "100%|███████████████████████████████████████████████████████████████████████████████████████████████████████████████████████████████████████████████████| 1/1 [00:00<00:00, 362.77it/s]\u001b[A\n"
     ]
    },
    {
     "name": "stdout",
     "output_type": "stream",
     "text": [
      "2023-10-16 19:45:52.996650\n",
      "Backend topology: 2023-10-16 19:45:52.996650\n",
      "<qiskit.providers.models.backendproperties.BackendProperties object at 0x7f52242db910>\n",
      "Depth: [2138, 2138, 1874, 1874, 1896, 1896]\n",
      "not na\n"
     ]
    },
    {
     "name": "stderr",
     "output_type": "stream",
     "text": [
      "\n",
      "100%|███████████████████████████████████████████████████████████████████████████████████████████████████████████████████████████████████████████████████| 1/1 [00:00<00:00, 403.22it/s]\u001b[A\n"
     ]
    },
    {
     "name": "stdout",
     "output_type": "stream",
     "text": [
      "2023-07-08 19:46:05.523760\n",
      "Backend topology: 2023-07-08 19:46:05.523760\n",
      "<qiskit.providers.models.backendproperties.BackendProperties object at 0x7f52247c7cd0>\n",
      "Depth: [1570, 1570, 1564, 1564, 1564, 1564]\n",
      "not na\n"
     ]
    },
    {
     "name": "stderr",
     "output_type": "stream",
     "text": [
      "\n",
      "100%|███████████████████████████████████████████████████████████████████████████████████████████████████████████████████████████████████████████████████| 1/1 [00:00<00:00, 597.31it/s]\u001b[A\n"
     ]
    },
    {
     "name": "stdout",
     "output_type": "stream",
     "text": [
      "2023-11-04 19:46:16.080150\n",
      "Backend topology: 2023-11-04 19:46:16.080150\n",
      "<qiskit.providers.models.backendproperties.BackendProperties object at 0x7f52958eb580>\n",
      "Depth: [1574, 1574, 1582, 1582, 1580, 1580]\n",
      "na\n"
     ]
    },
    {
     "name": "stderr",
     "output_type": "stream",
     "text": [
      "\n",
      "100%|███████████████████████████████████████████████████████████████████████████████████████████████████████████████████████████████████████████████████| 1/1 [00:00<00:00, 556.64it/s]\u001b[A\n"
     ]
    },
    {
     "name": "stdout",
     "output_type": "stream",
     "text": [
      "2023-10-18 19:46:25.746215\n",
      "Backend topology: 2023-10-18 19:46:25.746215\n",
      "<qiskit.providers.models.backendproperties.BackendProperties object at 0x7f51e866bdc0>\n",
      "Depth: [1876, 1876, 1826, 1826, 1852, 1852]\n",
      "not na\n"
     ]
    },
    {
     "name": "stderr",
     "output_type": "stream",
     "text": [
      "\n",
      "100%|███████████████████████████████████████████████████████████████████████████████████████████████████████████████████████████████████████████████████| 1/1 [00:00<00:00, 361.11it/s]\u001b[A\n"
     ]
    },
    {
     "name": "stdout",
     "output_type": "stream",
     "text": [
      "2023-10-05 19:46:37.270535\n",
      "Backend topology: 2023-10-05 19:46:37.270535\n",
      "<qiskit.providers.models.backendproperties.BackendProperties object at 0x7f52910b86d0>\n",
      "Depth: [1776, 1776, 1666, 1666, 1664, 1664]\n",
      "SABRE\n"
     ]
    },
    {
     "name": "stderr",
     "output_type": "stream",
     "text": [
      "\n",
      "100%|███████████████████████████████████████████████████████████████████████████████████████████████████████████████████████████████████████████████████| 1/1 [00:00<00:00, 505.40it/s]\u001b[A\n"
     ]
    },
    {
     "name": "stdout",
     "output_type": "stream",
     "text": [
      "2023-09-23 19:46:49.813960\n",
      "Backend topology: 2023-09-23 19:46:49.813960\n",
      "<qiskit.providers.models.backendproperties.BackendProperties object at 0x7f51a80846a0>\n",
      "Depth: [2082, 2082, 2082, 2082, 2082, 2082]\n",
      "na\n"
     ]
    },
    {
     "name": "stderr",
     "output_type": "stream",
     "text": [
      "\n",
      "100%|███████████████████████████████████████████████████████████████████████████████████████████████████████████████████████████████████████████████████| 1/1 [00:00<00:00, 564.59it/s]\u001b[A\n"
     ]
    },
    {
     "name": "stdout",
     "output_type": "stream",
     "text": [
      "2023-10-03 19:47:00.362120\n",
      "Backend topology: 2023-10-03 19:47:00.362120\n",
      "<qiskit.providers.models.backendproperties.BackendProperties object at 0x7f52940b1880>\n",
      "Depth: [1480, 1480, 1482, 1482, 1480, 1480]\n",
      "na\n"
     ]
    },
    {
     "name": "stderr",
     "output_type": "stream",
     "text": [
      "\n",
      "100%|███████████████████████████████████████████████████████████████████████████████████████████████████████████████████████████████████████████████████| 1/1 [00:00<00:00, 580.85it/s]\u001b[A\n",
      " 58%|████████████████████████████████████████████████████████████████████████████████████                                                             | 29/50 [32:56<38:24, 109.73s/it]"
     ]
    },
    {
     "name": "stdout",
     "output_type": "stream",
     "text": [
      "Current depth: 30\n",
      "2023-07-04 19:47:10.413598\n",
      "Backend topology: 2023-07-04 19:47:10.413598\n",
      "<qiskit.providers.models.backendproperties.BackendProperties object at 0x7f528fc4c610>\n",
      "Depth: [1794, 1794, 1582, 1582, 1582, 1582]\n",
      "not na\n"
     ]
    },
    {
     "name": "stderr",
     "output_type": "stream",
     "text": [
      "\n",
      "100%|███████████████████████████████████████████████████████████████████████████████████████████████████████████████████████████████████████████████████| 1/1 [00:00<00:00, 380.37it/s]\u001b[A\n"
     ]
    },
    {
     "name": "stdout",
     "output_type": "stream",
     "text": [
      "2023-09-30 19:47:22.073039\n",
      "Backend topology: 2023-09-30 19:47:22.073039\n",
      "<qiskit.providers.models.backendproperties.BackendProperties object at 0x7f51a81865e0>\n",
      "Depth: [2306, 2306, 1954, 1954, 1954, 1954]\n",
      "not na\n"
     ]
    },
    {
     "name": "stderr",
     "output_type": "stream",
     "text": [
      "\n",
      "100%|███████████████████████████████████████████████████████████████████████████████████████████████████████████████████████████████████████████████████| 1/1 [00:00<00:00, 568.18it/s]\u001b[A\n"
     ]
    },
    {
     "name": "stdout",
     "output_type": "stream",
     "text": [
      "2023-10-04 19:47:35.557636\n",
      "Backend topology: 2023-10-04 19:47:35.557636\n",
      "<qiskit.providers.models.backendproperties.BackendProperties object at 0x7f52405b4a30>\n",
      "Depth: [1794, 1794, 1790, 1790, 1786, 1786]\n",
      "SABRE\n"
     ]
    },
    {
     "name": "stderr",
     "output_type": "stream",
     "text": [
      "\n",
      "100%|███████████████████████████████████████████████████████████████████████████████████████████████████████████████████████████████████████████████████| 1/1 [00:00<00:00, 227.62it/s]\u001b[A\n"
     ]
    },
    {
     "name": "stdout",
     "output_type": "stream",
     "text": [
      "2023-08-16 19:47:47.925147\n",
      "Backend topology: 2023-08-16 19:47:47.925147\n",
      "<qiskit.providers.models.backendproperties.BackendProperties object at 0x7f529411bbe0>\n",
      "Depth: [2408, 2408, 1704, 1704, 1702, 1702]\n",
      "SABRE\n"
     ]
    },
    {
     "name": "stderr",
     "output_type": "stream",
     "text": [
      "\n",
      "100%|███████████████████████████████████████████████████████████████████████████████████████████████████████████████████████████████████████████████████| 1/1 [00:00<00:00, 536.91it/s]\u001b[A\n"
     ]
    },
    {
     "name": "stdout",
     "output_type": "stream",
     "text": [
      "2023-09-08 19:48:01.566884\n",
      "Backend topology: 2023-09-08 19:48:01.566884\n",
      "<qiskit.providers.models.backendproperties.BackendProperties object at 0x7f51687d62b0>\n",
      "Depth: [1756, 1756, 1754, 1754, 1754, 1754]\n",
      "not na\n"
     ]
    },
    {
     "name": "stderr",
     "output_type": "stream",
     "text": [
      "\n",
      "100%|███████████████████████████████████████████████████████████████████████████████████████████████████████████████████████████████████████████████████| 1/1 [00:00<00:00, 598.42it/s]\u001b[A\n"
     ]
    },
    {
     "name": "stdout",
     "output_type": "stream",
     "text": [
      "2023-10-01 19:48:10.979686\n",
      "Backend topology: 2023-10-01 19:48:10.979686\n",
      "<qiskit.providers.models.backendproperties.BackendProperties object at 0x7f5204327520>\n",
      "Depth: [2482, 2482, 1746, 1746, 1748, 1748]\n",
      "not na\n"
     ]
    },
    {
     "name": "stderr",
     "output_type": "stream",
     "text": [
      "\n",
      "100%|███████████████████████████████████████████████████████████████████████████████████████████████████████████████████████████████████████████████████| 1/1 [00:00<00:00, 590.58it/s]\u001b[A\n"
     ]
    },
    {
     "name": "stdout",
     "output_type": "stream",
     "text": [
      "2023-11-17 19:48:22.630519\n",
      "Backend topology: 2023-11-17 19:48:22.630519\n",
      "<qiskit.providers.models.backendproperties.BackendProperties object at 0x7f529612f9d0>\n",
      "Depth: [2136, 2136, 2028, 2028, 2026, 2026]\n",
      "SABRE\n"
     ]
    },
    {
     "name": "stderr",
     "output_type": "stream",
     "text": [
      "\n",
      "100%|███████████████████████████████████████████████████████████████████████████████████████████████████████████████████████████████████████████████████| 1/1 [00:00<00:00, 622.85it/s]\u001b[A\n"
     ]
    },
    {
     "name": "stdout",
     "output_type": "stream",
     "text": [
      "2023-11-26 19:48:37.978055\n",
      "Backend topology: 2023-11-26 19:48:37.978055\n",
      "<qiskit.providers.models.backendproperties.BackendProperties object at 0x7f52404c7d90>\n",
      "Depth: [1700, 1700, 1704, 1704, 1742, 1742]\n",
      "na\n"
     ]
    },
    {
     "name": "stderr",
     "output_type": "stream",
     "text": [
      "\n",
      "100%|███████████████████████████████████████████████████████████████████████████████████████████████████████████████████████████████████████████████████| 1/1 [00:00<00:00, 570.27it/s]\u001b[A\n"
     ]
    },
    {
     "name": "stdout",
     "output_type": "stream",
     "text": [
      "2023-07-13 19:48:49.868234\n",
      "Backend topology: 2023-07-13 19:48:49.868234\n",
      "<qiskit.providers.models.backendproperties.BackendProperties object at 0x7f51687cb070>\n",
      "Depth: [2960, 2960, 1622, 1622, 1624, 1624]\n",
      "not na\n"
     ]
    },
    {
     "name": "stderr",
     "output_type": "stream",
     "text": [
      "\n",
      "100%|███████████████████████████████████████████████████████████████████████████████████████████████████████████████████████████████████████████████████| 1/1 [00:00<00:00, 523.96it/s]\u001b[A\n"
     ]
    },
    {
     "name": "stdout",
     "output_type": "stream",
     "text": [
      "2023-11-20 19:49:03.137256\n",
      "Backend topology: 2023-11-20 19:49:03.137256\n",
      "<qiskit.providers.models.backendproperties.BackendProperties object at 0x7f5149502f70>\n",
      "Depth: [1542, 1542, 1534, 1534, 1544, 1544]\n",
      "not na\n"
     ]
    },
    {
     "name": "stderr",
     "output_type": "stream",
     "text": [
      "\n",
      "100%|███████████████████████████████████████████████████████████████████████████████████████████████████████████████████████████████████████████████████| 1/1 [00:00<00:00, 607.61it/s]\u001b[A\n",
      " 60%|███████████████████████████████████████████████████████████████████████████████████████                                                          | 30/50 [34:58<37:48, 113.40s/it]"
     ]
    },
    {
     "name": "stdout",
     "output_type": "stream",
     "text": [
      "Current depth: 31\n",
      "2023-07-18 19:49:12.399314\n",
      "Backend topology: 2023-07-18 19:49:12.399314\n",
      "<qiskit.providers.models.backendproperties.BackendProperties object at 0x7f52958df430>\n",
      "Depth: [2320, 2320, 1938, 1938, 1938, 1938]\n",
      "not na\n"
     ]
    },
    {
     "name": "stderr",
     "output_type": "stream",
     "text": [
      "\n",
      "100%|███████████████████████████████████████████████████████████████████████████████████████████████████████████████████████████████████████████████████| 1/1 [00:00<00:00, 573.38it/s]\u001b[A\n"
     ]
    },
    {
     "name": "stdout",
     "output_type": "stream",
     "text": [
      "2023-09-22 19:49:22.891691\n",
      "Backend topology: 2023-09-22 19:49:22.891691\n",
      "<qiskit.providers.models.backendproperties.BackendProperties object at 0x7f52914c7070>\n",
      "Depth: [1776, 1776, 1774, 1774, 1772, 1772]\n",
      "SABRE\n"
     ]
    },
    {
     "name": "stderr",
     "output_type": "stream",
     "text": [
      "\n",
      "100%|███████████████████████████████████████████████████████████████████████████████████████████████████████████████████████████████████████████████████| 1/1 [00:00<00:00, 354.28it/s]\u001b[A\n"
     ]
    },
    {
     "name": "stdout",
     "output_type": "stream",
     "text": [
      "2023-11-11 19:49:35.450839\n",
      "Backend topology: 2023-11-11 19:49:35.450839\n",
      "<qiskit.providers.models.backendproperties.BackendProperties object at 0x7f52404eb130>\n",
      "Depth: [1568, 1568, 1556, 1556, 1556, 1556]\n",
      "not na\n"
     ]
    },
    {
     "name": "stderr",
     "output_type": "stream",
     "text": [
      "\n",
      "100%|███████████████████████████████████████████████████████████████████████████████████████████████████████████████████████████████████████████████████| 1/1 [00:00<00:00, 574.72it/s]\u001b[A\n"
     ]
    },
    {
     "name": "stdout",
     "output_type": "stream",
     "text": [
      "2023-11-02 19:49:43.848171\n",
      "Backend topology: 2023-11-02 19:49:43.848171\n",
      "<qiskit.providers.models.backendproperties.BackendProperties object at 0x7f52961dd6d0>\n",
      "Depth: [2126, 2126, 2130, 2130, 2124, 2124]\n",
      "SABRE\n"
     ]
    },
    {
     "name": "stderr",
     "output_type": "stream",
     "text": [
      "\n",
      "100%|███████████████████████████████████████████████████████████████████████████████████████████████████████████████████████████████████████████████████| 1/1 [00:00<00:00, 614.55it/s]\u001b[A\n"
     ]
    },
    {
     "name": "stdout",
     "output_type": "stream",
     "text": [
      "2023-07-25 19:49:57.752829\n",
      "Backend topology: 2023-07-25 19:49:57.752829\n",
      "<qiskit.providers.models.backendproperties.BackendProperties object at 0x7f522431d280>\n",
      "Depth: [2550, 2550, 1626, 1626, 1626, 1626]\n",
      "not na\n"
     ]
    },
    {
     "name": "stderr",
     "output_type": "stream",
     "text": [
      "\n",
      "100%|███████████████████████████████████████████████████████████████████████████████████████████████████████████████████████████████████████████████████| 1/1 [00:00<00:00, 576.93it/s]\u001b[A\n"
     ]
    },
    {
     "name": "stdout",
     "output_type": "stream",
     "text": [
      "2023-08-18 19:50:11.259827\n",
      "Backend topology: 2023-08-18 19:50:11.259827\n",
      "<qiskit.providers.models.backendproperties.BackendProperties object at 0x7f529614b040>\n",
      "Depth: [1760, 1760, 1762, 1762, 1766, 1766]\n",
      "na\n"
     ]
    },
    {
     "name": "stderr",
     "output_type": "stream",
     "text": [
      "\n",
      "100%|███████████████████████████████████████████████████████████████████████████████████████████████████████████████████████████████████████████████████| 1/1 [00:00<00:00, 596.37it/s]\u001b[A\n"
     ]
    },
    {
     "name": "stdout",
     "output_type": "stream",
     "text": [
      "2023-11-19 19:50:22.287945\n",
      "Backend topology: 2023-11-19 19:50:22.287945\n",
      "<qiskit.providers.models.backendproperties.BackendProperties object at 0x7f51e82338e0>\n",
      "Depth: [1988, 1988, 1742, 1742, 1742, 1742]\n",
      "not na\n"
     ]
    },
    {
     "name": "stderr",
     "output_type": "stream",
     "text": [
      "\n",
      "100%|███████████████████████████████████████████████████████████████████████████████████████████████████████████████████████████████████████████████████| 1/1 [00:00<00:00, 544.57it/s]\u001b[A\n"
     ]
    },
    {
     "name": "stdout",
     "output_type": "stream",
     "text": [
      "2023-08-01 19:50:32.767515\n",
      "Backend topology: 2023-08-01 19:50:32.767515\n",
      "<qiskit.providers.models.backendproperties.BackendProperties object at 0x7f5224195580>\n",
      "Depth: [2198, 2198, 1802, 1802, 1806, 1806]\n",
      "not na\n"
     ]
    },
    {
     "name": "stderr",
     "output_type": "stream",
     "text": [
      "\n",
      "100%|███████████████████████████████████████████████████████████████████████████████████████████████████████████████████████████████████████████████████| 1/1 [00:00<00:00, 614.37it/s]\u001b[A\n"
     ]
    },
    {
     "name": "stdout",
     "output_type": "stream",
     "text": [
      "2023-07-12 19:50:46.015963\n",
      "Backend topology: 2023-07-12 19:50:46.015963\n",
      "<qiskit.providers.models.backendproperties.BackendProperties object at 0x7f528f9dd160>\n",
      "Depth: [1906, 1906, 1688, 1688, 1688, 1688]\n",
      "not na\n"
     ]
    },
    {
     "name": "stderr",
     "output_type": "stream",
     "text": [
      "\n",
      "100%|███████████████████████████████████████████████████████████████████████████████████████████████████████████████████████████████████████████████████| 1/1 [00:00<00:00, 537.94it/s]\u001b[A\n"
     ]
    },
    {
     "name": "stdout",
     "output_type": "stream",
     "text": [
      "2023-11-03 19:50:58.081228\n",
      "Backend topology: 2023-11-03 19:50:58.081228\n",
      "<qiskit.providers.models.backendproperties.BackendProperties object at 0x7f529a0a9670>\n",
      "Depth: [1942, 1942, 1926, 1926, 1940, 1940]\n",
      "not na\n"
     ]
    },
    {
     "name": "stderr",
     "output_type": "stream",
     "text": [
      "\n",
      "100%|███████████████████████████████████████████████████████████████████████████████████████████████████████████████████████████████████████████████████| 1/1 [00:00<00:00, 552.25it/s]\u001b[A\n",
      " 62%|█████████████████████████████████████████████████████████████████████████████████████████▉                                                       | 31/50 [36:55<36:18, 114.68s/it]"
     ]
    },
    {
     "name": "stdout",
     "output_type": "stream",
     "text": [
      "Current depth: 32\n",
      "2023-08-31 19:51:10.064336\n",
      "Backend topology: 2023-08-31 19:51:10.064336\n",
      "<qiskit.providers.models.backendproperties.BackendProperties object at 0x7f52043e00d0>\n",
      "Depth: [2050, 2050, 2048, 2048, 2038, 2038]\n",
      "SABRE\n"
     ]
    },
    {
     "name": "stderr",
     "output_type": "stream",
     "text": [
      "\n",
      "100%|███████████████████████████████████████████████████████████████████████████████████████████████████████████████████████████████████████████████████| 1/1 [00:00<00:00, 392.25it/s]\u001b[A\n"
     ]
    },
    {
     "name": "stdout",
     "output_type": "stream",
     "text": [
      "2023-07-05 19:51:22.904025\n",
      "Backend topology: 2023-07-05 19:51:22.904025\n",
      "<qiskit.providers.models.backendproperties.BackendProperties object at 0x7f518879ca30>\n",
      "Depth: [2684, 2684, 1948, 1948, 1946, 1946]\n",
      "SABRE\n"
     ]
    },
    {
     "name": "stderr",
     "output_type": "stream",
     "text": [
      "\n",
      "100%|███████████████████████████████████████████████████████████████████████████████████████████████████████████████████████████████████████████████████| 1/1 [00:00<00:00, 557.16it/s]\u001b[A\n"
     ]
    },
    {
     "name": "stdout",
     "output_type": "stream",
     "text": [
      "2023-10-31 19:51:37.309702\n",
      "Backend topology: 2023-10-31 19:51:37.309702\n",
      "<qiskit.providers.models.backendproperties.BackendProperties object at 0x7f5240602040>\n",
      "Depth: [1932, 1932, 1934, 1934, 1936, 1936]\n",
      "na\n"
     ]
    },
    {
     "name": "stderr",
     "output_type": "stream",
     "text": [
      "\n",
      "100%|███████████████████████████████████████████████████████████████████████████████████████████████████████████████████████████████████████████████████| 1/1 [00:00<00:00, 622.39it/s]\u001b[A\n"
     ]
    },
    {
     "name": "stdout",
     "output_type": "stream",
     "text": [
      "2023-10-11 19:51:48.865443\n",
      "Backend topology: 2023-10-11 19:51:48.865443\n",
      "<qiskit.providers.models.backendproperties.BackendProperties object at 0x7f5290daa670>\n",
      "Depth: [2066, 2066, 2066, 2066, 2060, 2060]\n",
      "SABRE\n"
     ]
    },
    {
     "name": "stderr",
     "output_type": "stream",
     "text": [
      "\n",
      "100%|███████████████████████████████████████████████████████████████████████████████████████████████████████████████████████████████████████████████████| 1/1 [00:00<00:00, 557.16it/s]\u001b[A\n"
     ]
    },
    {
     "name": "stdout",
     "output_type": "stream",
     "text": [
      "2023-11-24 19:52:02.561049\n",
      "Backend topology: 2023-11-24 19:52:02.561049\n",
      "<qiskit.providers.models.backendproperties.BackendProperties object at 0x7f529a5227c0>\n",
      "Depth: [1912, 1912, 1918, 1918, 1914, 1914]\n",
      "na\n"
     ]
    },
    {
     "name": "stderr",
     "output_type": "stream",
     "text": [
      "\n",
      "100%|███████████████████████████████████████████████████████████████████████████████████████████████████████████████████████████████████████████████████| 1/1 [00:00<00:00, 600.56it/s]\u001b[A\n"
     ]
    },
    {
     "name": "stdout",
     "output_type": "stream",
     "text": [
      "2023-11-01 19:52:15.293782\n",
      "Backend topology: 2023-11-01 19:52:15.293782\n",
      "<qiskit.providers.models.backendproperties.BackendProperties object at 0x7f5292960820>\n",
      "Depth: [1914, 1914, 1834, 1834, 1836, 1836]\n",
      "not na\n"
     ]
    },
    {
     "name": "stderr",
     "output_type": "stream",
     "text": [
      "\n",
      "100%|███████████████████████████████████████████████████████████████████████████████████████████████████████████████████████████████████████████████████| 1/1 [00:00<00:00, 592.75it/s]\u001b[A\n"
     ]
    },
    {
     "name": "stdout",
     "output_type": "stream",
     "text": [
      "2023-11-07 19:52:28.449870\n",
      "Backend topology: 2023-11-07 19:52:28.449870\n",
      "<qiskit.providers.models.backendproperties.BackendProperties object at 0x7f51884d66d0>\n",
      "Depth: [2100, 2100, 2078, 2078, 2096, 2096]\n",
      "not na\n"
     ]
    },
    {
     "name": "stderr",
     "output_type": "stream",
     "text": [
      "\n",
      "100%|███████████████████████████████████████████████████████████████████████████████████████████████████████████████████████████████████████████████████| 1/1 [00:00<00:00, 387.93it/s]\u001b[A\n"
     ]
    },
    {
     "name": "stdout",
     "output_type": "stream",
     "text": [
      "2023-08-30 19:53:00.121200\n",
      "Backend topology: 2023-08-30 19:53:00.121200\n",
      "<qiskit.providers.models.backendproperties.BackendProperties object at 0x7f5204191580>\n",
      "Depth: [1710, 1710, 1692, 1692, 1684, 1684]\n",
      "SABRE\n"
     ]
    },
    {
     "name": "stderr",
     "output_type": "stream",
     "text": [
      "\n",
      "100%|███████████████████████████████████████████████████████████████████████████████████████████████████████████████████████████████████████████████████| 1/1 [00:00<00:00, 596.63it/s]\u001b[A\n"
     ]
    },
    {
     "name": "stdout",
     "output_type": "stream",
     "text": [
      "2023-07-27 19:53:12.399359\n",
      "Backend topology: 2023-07-27 19:53:12.399359\n",
      "<qiskit.providers.models.backendproperties.BackendProperties object at 0x7f52959a71f0>\n",
      "Depth: [1842, 1842, 1838, 1838, 1842, 1842]\n",
      "not na\n"
     ]
    },
    {
     "name": "stderr",
     "output_type": "stream",
     "text": [
      "\n",
      "100%|███████████████████████████████████████████████████████████████████████████████████████████████████████████████████████████████████████████████████| 1/1 [00:00<00:00, 535.67it/s]\u001b[A\n"
     ]
    },
    {
     "name": "stdout",
     "output_type": "stream",
     "text": [
      "2023-09-30 19:53:25.398670\n",
      "Backend topology: 2023-09-30 19:53:25.398670\n",
      "<qiskit.providers.models.backendproperties.BackendProperties object at 0x7f51c808cee0>\n",
      "Depth: [1992, 1992, 1994, 1994, 1996, 1996]\n",
      "na\n"
     ]
    },
    {
     "name": "stderr",
     "output_type": "stream",
     "text": [
      "\n",
      "100%|███████████████████████████████████████████████████████████████████████████████████████████████████████████████████████████████████████████████████| 1/1 [00:00<00:00, 594.68it/s]\u001b[A\n",
      " 64%|████████████████████████████████████████████████████████████████████████████████████████████▊                                                    | 32/50 [39:22<37:19, 124.40s/it]"
     ]
    },
    {
     "name": "stdout",
     "output_type": "stream",
     "text": [
      "Current depth: 33\n",
      "2023-09-08 19:53:37.136561\n",
      "Backend topology: 2023-09-08 19:53:37.136561\n",
      "<qiskit.providers.models.backendproperties.BackendProperties object at 0x7f5149437d00>\n",
      "Depth: [1718, 1718, 1702, 1702, 1706, 1706]\n",
      "not na\n"
     ]
    },
    {
     "name": "stderr",
     "output_type": "stream",
     "text": [
      "\n",
      "100%|███████████████████████████████████████████████████████████████████████████████████████████████████████████████████████████████████████████████████| 1/1 [00:00<00:00, 591.91it/s]\u001b[A\n"
     ]
    },
    {
     "name": "stdout",
     "output_type": "stream",
     "text": [
      "2023-10-21 19:53:49.550611\n",
      "Backend topology: 2023-10-21 19:53:49.550611\n",
      "<qiskit.providers.models.backendproperties.BackendProperties object at 0x7f51e82c7160>\n",
      "Depth: [3562, 3562, 2036, 2036, 2034, 2034]\n",
      "SABRE\n"
     ]
    },
    {
     "name": "stderr",
     "output_type": "stream",
     "text": [
      "\n",
      "100%|███████████████████████████████████████████████████████████████████████████████████████████████████████████████████████████████████████████████████| 1/1 [00:00<00:00, 566.87it/s]\u001b[A\n"
     ]
    },
    {
     "name": "stdout",
     "output_type": "stream",
     "text": [
      "2023-10-23 19:54:05.418296\n",
      "Backend topology: 2023-10-23 19:54:05.418296\n",
      "<qiskit.providers.models.backendproperties.BackendProperties object at 0x7f52910b7e20>\n",
      "Depth: [2004, 2004, 2020, 2020, 2030, 2030]\n",
      "na\n"
     ]
    },
    {
     "name": "stderr",
     "output_type": "stream",
     "text": [
      "\n",
      "100%|███████████████████████████████████████████████████████████████████████████████████████████████████████████████████████████████████████████████████| 1/1 [00:00<00:00, 583.76it/s]\u001b[A\n"
     ]
    },
    {
     "name": "stdout",
     "output_type": "stream",
     "text": [
      "2023-09-24 19:54:25.943668\n",
      "Backend topology: 2023-09-24 19:54:25.943668\n",
      "<qiskit.providers.models.backendproperties.BackendProperties object at 0x7f520467dca0>\n",
      "Depth: [1922, 1922, 1918, 1918, 1924, 1924]\n",
      "not na\n"
     ]
    },
    {
     "name": "stderr",
     "output_type": "stream",
     "text": [
      "\n",
      "100%|███████████████████████████████████████████████████████████████████████████████████████████████████████████████████████████████████████████████████| 1/1 [00:00<00:00, 555.98it/s]\u001b[A\n"
     ]
    },
    {
     "name": "stdout",
     "output_type": "stream",
     "text": [
      "2023-11-03 19:54:39.019729\n",
      "Backend topology: 2023-11-03 19:54:39.019729\n",
      "<qiskit.providers.models.backendproperties.BackendProperties object at 0x7f52807a5430>\n",
      "Depth: [1962, 1962, 1942, 1942, 1942, 1942]\n",
      "not na\n"
     ]
    },
    {
     "name": "stderr",
     "output_type": "stream",
     "text": [
      "\n",
      "100%|███████████████████████████████████████████████████████████████████████████████████████████████████████████████████████████████████████████████████| 1/1 [00:00<00:00, 557.83it/s]\u001b[A\n"
     ]
    },
    {
     "name": "stdout",
     "output_type": "stream",
     "text": [
      "2023-08-10 19:54:51.589188\n",
      "Backend topology: 2023-08-10 19:54:51.589188\n",
      "<qiskit.providers.models.backendproperties.BackendProperties object at 0x7f52910af6a0>\n",
      "Depth: [1706, 1706, 1700, 1700, 1706, 1706]\n",
      "not na\n"
     ]
    },
    {
     "name": "stderr",
     "output_type": "stream",
     "text": [
      "\n",
      "100%|███████████████████████████████████████████████████████████████████████████████████████████████████████████████████████████████████████████████████| 1/1 [00:00<00:00, 597.99it/s]\u001b[A\n"
     ]
    },
    {
     "name": "stdout",
     "output_type": "stream",
     "text": [
      "2023-08-30 19:55:03.452985\n",
      "Backend topology: 2023-08-30 19:55:03.452985\n",
      "<qiskit.providers.models.backendproperties.BackendProperties object at 0x7f51883ce3d0>\n"
     ]
    },
    {
     "name": "stderr",
     "output_type": "stream",
     "text": [
      "/home/ritu/anaconda3/envs/dnn_for_qubit_mapping/lib/python3.8/site-packages/qiskit/transpiler/runningpassmanager.py:166: UserWarning: Resynthesized \n",
      "\n",
      "<qiskit.circuit.library.standard_gates.x.XGate object at 0x7f51490e9ac0>\n",
      "<qiskit.circuit.library.standard_gates.sx.SXGate object at 0x7f518845e5e0>\n",
      "\n",
      "and got\n",
      "\n",
      "<qiskit.circuit.library.standard_gates.rz.RZGate object at 0x7f52403e2d60>\n",
      "<qiskit.circuit.library.standard_gates.sx.SXGate object at 0x7f52403e2850>\n",
      "<qiskit.circuit.library.standard_gates.rz.RZGate object at 0x7f52403e2dc0>\n",
      "\n",
      "but the original was native (for ['id', 'rz', 'sx', 'x', 'cx', 'reset']) and the new value is longer.  This indicates an efficiency bug in synthesis.  Please report it by opening an issue here: https://github.com/Qiskit/qiskit-terra/issues/new/choose\n",
      "  new_dag = pass_.run(dag)\n"
     ]
    },
    {
     "name": "stdout",
     "output_type": "stream",
     "text": [
      "Depth: [1682, 1682, 1670, 1670, 1680, 1680]\n",
      "not na\n"
     ]
    },
    {
     "name": "stderr",
     "output_type": "stream",
     "text": [
      "\n",
      "100%|███████████████████████████████████████████████████████████████████████████████████████████████████████████████████████████████████████████████████| 1/1 [00:00<00:00, 611.41it/s]\u001b[A\n"
     ]
    },
    {
     "name": "stdout",
     "output_type": "stream",
     "text": [
      "2023-09-15 19:55:14.525985\n",
      "Backend topology: 2023-09-15 19:55:14.525985\n",
      "<qiskit.providers.models.backendproperties.BackendProperties object at 0x7f51a87f1550>\n",
      "Depth: [2042, 2042, 1928, 1928, 1932, 1932]\n",
      "not na\n"
     ]
    },
    {
     "name": "stderr",
     "output_type": "stream",
     "text": [
      "\n",
      "100%|███████████████████████████████████████████████████████████████████████████████████████████████████████████████████████████████████████████████████| 1/1 [00:00<00:00, 578.37it/s]\u001b[A\n"
     ]
    },
    {
     "name": "stdout",
     "output_type": "stream",
     "text": [
      "2023-08-06 19:55:27.291277\n",
      "Backend topology: 2023-08-06 19:55:27.291277\n",
      "<qiskit.providers.models.backendproperties.BackendProperties object at 0x7f51e8266460>\n",
      "Depth: [2144, 2144, 2086, 2086, 2086, 2086]\n",
      "not na\n"
     ]
    },
    {
     "name": "stderr",
     "output_type": "stream",
     "text": [
      "\n",
      "100%|███████████████████████████████████████████████████████████████████████████████████████████████████████████████████████████████████████████████████| 1/1 [00:00<00:00, 378.92it/s]\u001b[A\n"
     ]
    },
    {
     "name": "stdout",
     "output_type": "stream",
     "text": [
      "2023-08-08 19:55:41.508721\n",
      "Backend topology: 2023-08-08 19:55:41.508721\n",
      "<qiskit.providers.models.backendproperties.BackendProperties object at 0x7f52940d1dc0>\n",
      "Depth: [1796, 1796, 1788, 1788, 1792, 1792]\n",
      "not na\n"
     ]
    },
    {
     "name": "stderr",
     "output_type": "stream",
     "text": [
      "\n",
      "100%|███████████████████████████████████████████████████████████████████████████████████████████████████████████████████████████████████████████████████| 1/1 [00:00<00:00, 568.56it/s]\u001b[A\n",
      " 66%|███████████████████████████████████████████████████████████████████████████████████████████████▋                                                 | 33/50 [41:39<36:15, 127.96s/it]"
     ]
    },
    {
     "name": "stdout",
     "output_type": "stream",
     "text": [
      "Current depth: 34\n",
      "2023-11-15 19:55:53.402400\n",
      "Backend topology: 2023-11-15 19:55:53.402400\n",
      "<qiskit.providers.models.backendproperties.BackendProperties object at 0x7f51687d62b0>\n",
      "Depth: [1976, 1976, 1964, 1964, 1972, 1972]\n",
      "not na\n"
     ]
    },
    {
     "name": "stderr",
     "output_type": "stream",
     "text": [
      "\n",
      "100%|███████████████████████████████████████████████████████████████████████████████████████████████████████████████████████████████████████████████████| 1/1 [00:00<00:00, 575.90it/s]\u001b[A\n"
     ]
    },
    {
     "name": "stdout",
     "output_type": "stream",
     "text": [
      "2023-10-19 19:56:07.690025\n",
      "Backend topology: 2023-10-19 19:56:07.690025\n",
      "<qiskit.providers.models.backendproperties.BackendProperties object at 0x7f5188527130>\n",
      "Depth: [2378, 2378, 1558, 1558, 1558, 1558]\n",
      "not na\n"
     ]
    },
    {
     "name": "stderr",
     "output_type": "stream",
     "text": [
      "\n",
      "100%|███████████████████████████████████████████████████████████████████████████████████████████████████████████████████████████████████████████████████| 1/1 [00:00<00:00, 533.56it/s]\u001b[A\n"
     ]
    },
    {
     "name": "stdout",
     "output_type": "stream",
     "text": [
      "2023-08-12 19:56:20.265085\n",
      "Backend topology: 2023-08-12 19:56:20.265085\n",
      "<qiskit.providers.models.backendproperties.BackendProperties object at 0x7f51883b9070>\n",
      "Depth: [1956, 1956, 1952, 1952, 1952, 1952]\n",
      "not na\n"
     ]
    },
    {
     "name": "stderr",
     "output_type": "stream",
     "text": [
      "\n",
      "100%|███████████████████████████████████████████████████████████████████████████████████████████████████████████████████████████████████████████████████| 1/1 [00:00<00:00, 552.46it/s]\u001b[A\n"
     ]
    },
    {
     "name": "stdout",
     "output_type": "stream",
     "text": [
      "2023-10-31 19:56:33.201223\n",
      "Backend topology: 2023-10-31 19:56:33.201223\n",
      "<qiskit.providers.models.backendproperties.BackendProperties object at 0x7f5296cf9e20>\n",
      "Depth: [2196, 2196, 2196, 2196, 2198, 2198]\n",
      "na\n"
     ]
    },
    {
     "name": "stderr",
     "output_type": "stream",
     "text": [
      "\n",
      "100%|███████████████████████████████████████████████████████████████████████████████████████████████████████████████████████████████████████████████████| 1/1 [00:00<00:00, 611.50it/s]\u001b[A\n"
     ]
    },
    {
     "name": "stdout",
     "output_type": "stream",
     "text": [
      "2023-08-30 19:56:47.864568\n",
      "Backend topology: 2023-08-30 19:56:47.864568\n",
      "<qiskit.providers.models.backendproperties.BackendProperties object at 0x7f520448d940>\n",
      "Depth: [1612, 1612, 1622, 1622, 1626, 1626]\n",
      "na\n"
     ]
    },
    {
     "name": "stderr",
     "output_type": "stream",
     "text": [
      "\n",
      "100%|███████████████████████████████████████████████████████████████████████████████████████████████████████████████████████████████████████████████████| 1/1 [00:00<00:00, 559.09it/s]\u001b[A\n"
     ]
    },
    {
     "name": "stdout",
     "output_type": "stream",
     "text": [
      "2023-07-18 19:56:59.026899\n",
      "Backend topology: 2023-07-18 19:56:59.026899\n",
      "<qiskit.providers.models.backendproperties.BackendProperties object at 0x7f51681fa850>\n",
      "Depth: [1948, 1948, 1952, 1952, 1924, 1924]\n",
      "SABRE\n"
     ]
    },
    {
     "name": "stderr",
     "output_type": "stream",
     "text": [
      "\n",
      "100%|███████████████████████████████████████████████████████████████████████████████████████████████████████████████████████████████████████████████████| 1/1 [00:00<00:00, 585.88it/s]\u001b[A\n"
     ]
    },
    {
     "name": "stdout",
     "output_type": "stream",
     "text": [
      "2023-09-12 19:57:11.619109\n",
      "Backend topology: 2023-09-12 19:57:11.619109\n",
      "<qiskit.providers.models.backendproperties.BackendProperties object at 0x7f528fc5a160>\n",
      "Depth: [2004, 2004, 2038, 2038, 2000, 2000]\n",
      "SABRE\n"
     ]
    },
    {
     "name": "stderr",
     "output_type": "stream",
     "text": [
      "\n",
      "100%|███████████████████████████████████████████████████████████████████████████████████████████████████████████████████████████████████████████████████| 1/1 [00:00<00:00, 533.97it/s]\u001b[A\n"
     ]
    },
    {
     "name": "stdout",
     "output_type": "stream",
     "text": [
      "2023-11-13 19:57:25.888109\n",
      "Backend topology: 2023-11-13 19:57:25.888109\n",
      "<qiskit.providers.models.backendproperties.BackendProperties object at 0x7f5224403970>\n"
     ]
    },
    {
     "name": "stderr",
     "output_type": "stream",
     "text": [
      "/home/ritu/anaconda3/envs/dnn_for_qubit_mapping/lib/python3.8/site-packages/qiskit/transpiler/runningpassmanager.py:166: UserWarning: Resynthesized \n",
      "\n",
      "<qiskit.circuit.library.standard_gates.x.XGate object at 0x7f51a8213b80>\n",
      "<qiskit.circuit.library.standard_gates.sx.SXGate object at 0x7f51c838b0a0>\n",
      "\n",
      "and got\n",
      "\n",
      "<qiskit.circuit.library.standard_gates.rz.RZGate object at 0x7f51885d7250>\n",
      "<qiskit.circuit.library.standard_gates.sx.SXGate object at 0x7f51885d7f40>\n",
      "<qiskit.circuit.library.standard_gates.rz.RZGate object at 0x7f51885d7790>\n",
      "\n",
      "but the original was native (for ['id', 'rz', 'sx', 'x', 'cx', 'reset']) and the new value is longer.  This indicates an efficiency bug in synthesis.  Please report it by opening an issue here: https://github.com/Qiskit/qiskit-terra/issues/new/choose\n",
      "  new_dag = pass_.run(dag)\n",
      "/home/ritu/anaconda3/envs/dnn_for_qubit_mapping/lib/python3.8/site-packages/qiskit/transpiler/runningpassmanager.py:166: UserWarning: Resynthesized \n",
      "\n",
      "<qiskit.circuit.library.standard_gates.x.XGate object at 0x7f51a8213b80>\n",
      "<qiskit.circuit.library.standard_gates.sx.SXGate object at 0x7f51c838b0a0>\n",
      "\n",
      "and got\n",
      "\n",
      "<qiskit.circuit.library.standard_gates.rz.RZGate object at 0x7f516825af40>\n",
      "<qiskit.circuit.library.standard_gates.sx.SXGate object at 0x7f5240231bb0>\n",
      "<qiskit.circuit.library.standard_gates.rz.RZGate object at 0x7f528c1846a0>\n",
      "\n",
      "but the original was native (for ['id', 'rz', 'sx', 'x', 'cx', 'reset']) and the new value is longer.  This indicates an efficiency bug in synthesis.  Please report it by opening an issue here: https://github.com/Qiskit/qiskit-terra/issues/new/choose\n",
      "  new_dag = pass_.run(dag)\n",
      "/home/ritu/anaconda3/envs/dnn_for_qubit_mapping/lib/python3.8/site-packages/qiskit/transpiler/runningpassmanager.py:166: UserWarning: Resynthesized \n",
      "\n",
      "<qiskit.circuit.library.standard_gates.x.XGate object at 0x7f51a8213b80>\n",
      "<qiskit.circuit.library.standard_gates.sx.SXGate object at 0x7f51c838b0a0>\n",
      "\n",
      "and got\n",
      "\n",
      "<qiskit.circuit.library.standard_gates.rz.RZGate object at 0x7f51490d97c0>\n",
      "<qiskit.circuit.library.standard_gates.sx.SXGate object at 0x7f51490d9820>\n",
      "<qiskit.circuit.library.standard_gates.rz.RZGate object at 0x7f51490d9d90>\n",
      "\n",
      "but the original was native (for ['id', 'rz', 'sx', 'x', 'cx', 'reset']) and the new value is longer.  This indicates an efficiency bug in synthesis.  Please report it by opening an issue here: https://github.com/Qiskit/qiskit-terra/issues/new/choose\n",
      "  new_dag = pass_.run(dag)\n"
     ]
    },
    {
     "name": "stdout",
     "output_type": "stream",
     "text": [
      "Depth: [2230, 2230, 2218, 2218, 2190, 2190]\n",
      "SABRE\n"
     ]
    },
    {
     "name": "stderr",
     "output_type": "stream",
     "text": [
      "\n",
      "100%|███████████████████████████████████████████████████████████████████████████████████████████████████████████████████████████████████████████████████| 1/1 [00:00<00:00, 586.12it/s]\u001b[A\n"
     ]
    },
    {
     "name": "stdout",
     "output_type": "stream",
     "text": [
      "2023-11-14 19:57:41.536980\n",
      "Backend topology: 2023-11-14 19:57:41.536980\n",
      "<qiskit.providers.models.backendproperties.BackendProperties object at 0x7f5224710b20>\n",
      "Depth: [2080, 2080, 1946, 1946, 1946, 1946]\n",
      "not na\n"
     ]
    },
    {
     "name": "stderr",
     "output_type": "stream",
     "text": [
      "\n",
      "100%|███████████████████████████████████████████████████████████████████████████████████████████████████████████████████████████████████████████████████| 1/1 [00:00<00:00, 394.39it/s]\u001b[A\n"
     ]
    },
    {
     "name": "stdout",
     "output_type": "stream",
     "text": [
      "2023-08-29 19:57:55.058980\n",
      "Backend topology: 2023-08-29 19:57:55.058980\n",
      "<qiskit.providers.models.backendproperties.BackendProperties object at 0x7f516803e430>\n",
      "Depth: [2258, 2258, 2096, 2096, 2098, 2098]\n",
      "not na\n"
     ]
    },
    {
     "name": "stderr",
     "output_type": "stream",
     "text": [
      "\n",
      "100%|███████████████████████████████████████████████████████████████████████████████████████████████████████████████████████████████████████████████████| 1/1 [00:00<00:00, 552.25it/s]\u001b[A\n",
      " 68%|██████████████████████████████████████████████████████████████████████████████████████████████████▌                                              | 34/50 [43:54<34:43, 130.21s/it]"
     ]
    },
    {
     "name": "stdout",
     "output_type": "stream",
     "text": [
      "Current depth: 35\n",
      "2023-08-17 19:58:08.850043\n",
      "Backend topology: 2023-08-17 19:58:08.850043\n",
      "<qiskit.providers.models.backendproperties.BackendProperties object at 0x7f5149239fa0>\n",
      "Depth: [2360, 2360, 2074, 2074, 2072, 2072]\n",
      "SABRE\n"
     ]
    },
    {
     "name": "stderr",
     "output_type": "stream",
     "text": [
      "\n",
      "100%|███████████████████████████████████████████████████████████████████████████████████████████████████████████████████████████████████████████████████| 1/1 [00:00<00:00, 602.46it/s]\u001b[A\n"
     ]
    },
    {
     "name": "stdout",
     "output_type": "stream",
     "text": [
      "2023-09-09 19:58:23.908689\n",
      "Backend topology: 2023-09-09 19:58:23.908689\n",
      "<qiskit.providers.models.backendproperties.BackendProperties object at 0x7f5293d74430>\n",
      "Depth: [1936, 1936, 1886, 1886, 1884, 1884]\n",
      "SABRE\n"
     ]
    },
    {
     "name": "stderr",
     "output_type": "stream",
     "text": [
      "\n",
      "100%|███████████████████████████████████████████████████████████████████████████████████████████████████████████████████████████████████████████████████| 1/1 [00:00<00:00, 542.11it/s]\u001b[A\n"
     ]
    },
    {
     "name": "stdout",
     "output_type": "stream",
     "text": [
      "2023-07-04 19:58:36.067909\n",
      "Backend topology: 2023-07-04 19:58:36.067909\n",
      "<qiskit.providers.models.backendproperties.BackendProperties object at 0x7f520438b910>\n",
      "Depth: [3898, 3898, 2064, 2064, 2064, 2064]\n",
      "not na\n"
     ]
    },
    {
     "name": "stderr",
     "output_type": "stream",
     "text": [
      "\n",
      "100%|███████████████████████████████████████████████████████████████████████████████████████████████████████████████████████████████████████████████████| 1/1 [00:00<00:00, 530.72it/s]\u001b[A\n"
     ]
    },
    {
     "name": "stdout",
     "output_type": "stream",
     "text": [
      "2023-10-06 19:58:52.767919\n",
      "Backend topology: 2023-10-06 19:58:52.767919\n",
      "<qiskit.providers.models.backendproperties.BackendProperties object at 0x7f512febb3a0>\n",
      "Depth: [2086, 2086, 2088, 2088, 2086, 2086]\n",
      "na\n"
     ]
    },
    {
     "name": "stderr",
     "output_type": "stream",
     "text": [
      "\n",
      "100%|███████████████████████████████████████████████████████████████████████████████████████████████████████████████████████████████████████████████████| 1/1 [00:00<00:00, 365.39it/s]\u001b[A\n"
     ]
    },
    {
     "name": "stdout",
     "output_type": "stream",
     "text": [
      "2023-11-11 19:59:08.326517\n",
      "Backend topology: 2023-11-11 19:59:08.326517\n",
      "<qiskit.providers.models.backendproperties.BackendProperties object at 0x7f5240632a30>\n",
      "Depth: [3332, 3332, 2050, 2050, 2048, 2048]\n",
      "SABRE\n"
     ]
    },
    {
     "name": "stderr",
     "output_type": "stream",
     "text": [
      "\n",
      "100%|███████████████████████████████████████████████████████████████████████████████████████████████████████████████████████████████████████████████████| 1/1 [00:00<00:00, 598.76it/s]\u001b[A\n"
     ]
    },
    {
     "name": "stdout",
     "output_type": "stream",
     "text": [
      "2023-07-15 19:59:23.605657\n",
      "Backend topology: 2023-07-15 19:59:23.605657\n",
      "<qiskit.providers.models.backendproperties.BackendProperties object at 0x7f52247c2340>\n",
      "Depth: [2204, 2204, 2228, 2228, 2228, 2228]\n",
      "na\n"
     ]
    },
    {
     "name": "stderr",
     "output_type": "stream",
     "text": [
      "\n",
      "100%|███████████████████████████████████████████████████████████████████████████████████████████████████████████████████████████████████████████████████| 1/1 [00:00<00:00, 516.86it/s]\u001b[A\n"
     ]
    },
    {
     "name": "stdout",
     "output_type": "stream",
     "text": [
      "2023-08-01 19:59:34.540536\n",
      "Backend topology: 2023-08-01 19:59:34.540536\n",
      "<qiskit.providers.models.backendproperties.BackendProperties object at 0x7f51e80a6af0>\n",
      "Depth: [2918, 2918, 1866, 1866, 1870, 1870]\n",
      "not na\n"
     ]
    },
    {
     "name": "stderr",
     "output_type": "stream",
     "text": [
      "\n",
      "100%|███████████████████████████████████████████████████████████████████████████████████████████████████████████████████████████████████████████████████| 1/1 [00:00<00:00, 557.98it/s]\u001b[A\n"
     ]
    },
    {
     "name": "stdout",
     "output_type": "stream",
     "text": [
      "2023-07-15 19:59:48.520657\n",
      "Backend topology: 2023-07-15 19:59:48.520657\n",
      "<qiskit.providers.models.backendproperties.BackendProperties object at 0x7f51c8589880>\n",
      "Depth: [2278, 2278, 2264, 2264, 2268, 2268]\n",
      "not na\n"
     ]
    },
    {
     "name": "stderr",
     "output_type": "stream",
     "text": [
      "\n",
      "100%|███████████████████████████████████████████████████████████████████████████████████████████████████████████████████████████████████████████████████| 1/1 [00:00<00:00, 584.73it/s]\u001b[A\n"
     ]
    },
    {
     "name": "stdout",
     "output_type": "stream",
     "text": [
      "2023-09-15 20:00:04.845046\n",
      "Backend topology: 2023-09-15 20:00:04.845046\n",
      "<qiskit.providers.models.backendproperties.BackendProperties object at 0x7f51681f9b80>\n",
      "Depth: [2144, 2144, 2146, 2146, 2136, 2136]\n",
      "SABRE\n"
     ]
    },
    {
     "name": "stderr",
     "output_type": "stream",
     "text": [
      "\n",
      "100%|███████████████████████████████████████████████████████████████████████████████████████████████████████████████████████████████████████████████████| 1/1 [00:00<00:00, 574.80it/s]\u001b[A\n"
     ]
    },
    {
     "name": "stdout",
     "output_type": "stream",
     "text": [
      "2023-08-17 20:00:19.530348\n",
      "Backend topology: 2023-08-17 20:00:19.530348\n",
      "<qiskit.providers.models.backendproperties.BackendProperties object at 0x7f516821fbb0>\n",
      "Depth: [2496, 2496, 2288, 2288, 2290, 2290]\n",
      "not na\n"
     ]
    },
    {
     "name": "stderr",
     "output_type": "stream",
     "text": [
      "\n",
      "100%|███████████████████████████████████████████████████████████████████████████████████████████████████████████████████████████████████████████████████| 1/1 [00:00<00:00, 617.45it/s]\u001b[A\n",
      " 70%|█████████████████████████████████████████████████████████████████████████████████████████████████████▌                                           | 35/50 [46:23<33:55, 135.67s/it]"
     ]
    },
    {
     "name": "stdout",
     "output_type": "stream",
     "text": [
      "Current depth: 36\n",
      "2023-10-19 20:00:37.265002\n",
      "Backend topology: 2023-10-19 20:00:37.265002\n",
      "<qiskit.providers.models.backendproperties.BackendProperties object at 0x7f52955c26d0>\n",
      "Depth: [2046, 2046, 2048, 2048, 2046, 2046]\n",
      "na\n"
     ]
    },
    {
     "name": "stderr",
     "output_type": "stream",
     "text": [
      "\n",
      "100%|███████████████████████████████████████████████████████████████████████████████████████████████████████████████████████████████████████████████████| 1/1 [00:00<00:00, 565.80it/s]\u001b[A\n"
     ]
    },
    {
     "name": "stdout",
     "output_type": "stream",
     "text": [
      "2023-10-02 20:00:50.014609\n",
      "Backend topology: 2023-10-02 20:00:50.014609\n",
      "<qiskit.providers.models.backendproperties.BackendProperties object at 0x7f5240368580>\n",
      "Depth: [2146, 2146, 2162, 2162, 2162, 2162]\n",
      "na\n"
     ]
    },
    {
     "name": "stderr",
     "output_type": "stream",
     "text": [
      "\n",
      "100%|███████████████████████████████████████████████████████████████████████████████████████████████████████████████████████████████████████████████████| 1/1 [00:00<00:00, 615.18it/s]\u001b[A\n"
     ]
    },
    {
     "name": "stdout",
     "output_type": "stream",
     "text": [
      "2023-09-27 20:01:03.866029\n",
      "Backend topology: 2023-09-27 20:01:03.866029\n",
      "<qiskit.providers.models.backendproperties.BackendProperties object at 0x7f52955c26d0>\n",
      "Depth: [2110, 2110, 1966, 1966, 1964, 1964]\n",
      "SABRE\n"
     ]
    },
    {
     "name": "stderr",
     "output_type": "stream",
     "text": [
      "\n",
      "100%|███████████████████████████████████████████████████████████████████████████████████████████████████████████████████████████████████████████████████| 1/1 [00:00<00:00, 567.64it/s]\u001b[A\n"
     ]
    },
    {
     "name": "stdout",
     "output_type": "stream",
     "text": [
      "2023-08-17 20:01:15.025730\n",
      "Backend topology: 2023-08-17 20:01:15.025730\n",
      "<qiskit.providers.models.backendproperties.BackendProperties object at 0x7f5293dd13a0>\n",
      "Depth: [2180, 2180, 2180, 2180, 2168, 2168]\n",
      "SABRE\n"
     ]
    },
    {
     "name": "stderr",
     "output_type": "stream",
     "text": [
      "\n",
      "100%|███████████████████████████████████████████████████████████████████████████████████████████████████████████████████████████████████████████████████| 1/1 [00:00<00:00, 378.10it/s]\u001b[A\n"
     ]
    },
    {
     "name": "stdout",
     "output_type": "stream",
     "text": [
      "2023-08-27 20:01:30.671427\n",
      "Backend topology: 2023-08-27 20:01:30.671427\n",
      "<qiskit.providers.models.backendproperties.BackendProperties object at 0x7f5294091970>\n",
      "Depth: [2208, 2208, 2202, 2202, 2206, 2206]\n",
      "not na\n"
     ]
    },
    {
     "name": "stderr",
     "output_type": "stream",
     "text": [
      "\n",
      "100%|███████████████████████████████████████████████████████████████████████████████████████████████████████████████████████████████████████████████████| 1/1 [00:00<00:00, 544.86it/s]\u001b[A\n"
     ]
    },
    {
     "name": "stdout",
     "output_type": "stream",
     "text": [
      "2023-11-01 20:01:46.842735\n",
      "Backend topology: 2023-11-01 20:01:46.842735\n",
      "<qiskit.providers.models.backendproperties.BackendProperties object at 0x7f526436c220>\n",
      "Depth: [2116, 2116, 2124, 2124, 2126, 2126]\n",
      "na\n"
     ]
    },
    {
     "name": "stderr",
     "output_type": "stream",
     "text": [
      "\n",
      "100%|███████████████████████████████████████████████████████████████████████████████████████████████████████████████████████████████████████████████████| 1/1 [00:00<00:00, 553.41it/s]\u001b[A\n"
     ]
    },
    {
     "name": "stdout",
     "output_type": "stream",
     "text": [
      "2023-08-28 20:02:00.777156\n",
      "Backend topology: 2023-08-28 20:02:00.777156\n",
      "<qiskit.providers.models.backendproperties.BackendProperties object at 0x7f52914708e0>\n",
      "Depth: [2400, 2400, 2384, 2384, 2380, 2380]\n",
      "SABRE\n"
     ]
    },
    {
     "name": "stderr",
     "output_type": "stream",
     "text": [
      "\n",
      "100%|███████████████████████████████████████████████████████████████████████████████████████████████████████████████████████████████████████████████████| 1/1 [00:00<00:00, 605.94it/s]\u001b[A\n"
     ]
    },
    {
     "name": "stdout",
     "output_type": "stream",
     "text": [
      "2023-10-08 20:02:18.154385\n",
      "Backend topology: 2023-10-08 20:02:18.154385\n",
      "<qiskit.providers.models.backendproperties.BackendProperties object at 0x7f52646ad9d0>\n",
      "Depth: [3624, 3624, 2056, 2056, 2058, 2058]\n",
      "not na\n"
     ]
    },
    {
     "name": "stderr",
     "output_type": "stream",
     "text": [
      "\n",
      "100%|███████████████████████████████████████████████████████████████████████████████████████████████████████████████████████████████████████████████████| 1/1 [00:00<00:00, 615.18it/s]\u001b[A\n"
     ]
    },
    {
     "name": "stdout",
     "output_type": "stream",
     "text": [
      "2023-08-25 20:02:34.158777\n",
      "Backend topology: 2023-08-25 20:02:34.158777\n",
      "<qiskit.providers.models.backendproperties.BackendProperties object at 0x7f52247c2340>\n",
      "Depth: [2208, 2208, 2244, 2244, 2240, 2240]\n",
      "na\n"
     ]
    },
    {
     "name": "stderr",
     "output_type": "stream",
     "text": [
      "\n",
      "100%|███████████████████████████████████████████████████████████████████████████████████████████████████████████████████████████████████████████████████| 1/1 [00:00<00:00, 576.22it/s]\u001b[A\n"
     ]
    },
    {
     "name": "stdout",
     "output_type": "stream",
     "text": [
      "2023-10-22 20:02:47.324026\n",
      "Backend topology: 2023-10-22 20:02:47.324026\n",
      "<qiskit.providers.models.backendproperties.BackendProperties object at 0x7f528fd78eb0>\n",
      "Depth: [2074, 2074, 2072, 2072, 2080, 2080]\n",
      "not na\n"
     ]
    },
    {
     "name": "stderr",
     "output_type": "stream",
     "text": [
      "\n",
      "100%|███████████████████████████████████████████████████████████████████████████████████████████████████████████████████████████████████████████████████| 1/1 [00:00<00:00, 599.02it/s]\u001b[A\n",
      " 72%|████████████████████████████████████████████████████████████████████████████████████████████████████████▍                                        | 36/50 [48:48<32:19, 138.50s/it]"
     ]
    },
    {
     "name": "stdout",
     "output_type": "stream",
     "text": [
      "Current depth: 37\n",
      "2023-08-03 20:03:02.387833\n",
      "Backend topology: 2023-08-03 20:03:02.387833\n",
      "<qiskit.providers.models.backendproperties.BackendProperties object at 0x7f528f0bc700>\n",
      "Depth: [2904, 2904, 2252, 2252, 2250, 2250]\n",
      "SABRE\n"
     ]
    },
    {
     "name": "stderr",
     "output_type": "stream",
     "text": [
      "\n",
      "100%|███████████████████████████████████████████████████████████████████████████████████████████████████████████████████████████████████████████████████| 1/1 [00:00<00:00, 596.21it/s]\u001b[A\n"
     ]
    },
    {
     "name": "stdout",
     "output_type": "stream",
     "text": [
      "2023-07-06 20:03:21.013198\n",
      "Backend topology: 2023-07-06 20:03:21.013198\n",
      "<qiskit.providers.models.backendproperties.BackendProperties object at 0x7f52642636a0>\n",
      "Depth: [2278, 2278, 2262, 2262, 2258, 2258]\n",
      "SABRE\n"
     ]
    },
    {
     "name": "stderr",
     "output_type": "stream",
     "text": [
      "\n",
      "100%|███████████████████████████████████████████████████████████████████████████████████████████████████████████████████████████████████████████████████| 1/1 [00:00<00:00, 617.81it/s]\u001b[A\n"
     ]
    },
    {
     "name": "stdout",
     "output_type": "stream",
     "text": [
      "2023-10-14 20:03:36.216282\n",
      "Backend topology: 2023-10-14 20:03:36.216282\n",
      "<qiskit.providers.models.backendproperties.BackendProperties object at 0x7f5264691130>\n",
      "Depth: [2320, 2320, 2332, 2332, 2320, 2320]\n",
      "na\n"
     ]
    },
    {
     "name": "stderr",
     "output_type": "stream",
     "text": [
      "\n",
      "100%|███████████████████████████████████████████████████████████████████████████████████████████████████████████████████████████████████████████████████| 1/1 [00:00<00:00, 390.93it/s]\u001b[A\n"
     ]
    },
    {
     "name": "stdout",
     "output_type": "stream",
     "text": [
      "2023-09-20 20:03:52.080354\n",
      "Backend topology: 2023-09-20 20:03:52.080354\n",
      "<qiskit.providers.models.backendproperties.BackendProperties object at 0x7f52646ad9d0>\n",
      "Depth: [2248, 2248, 2214, 2214, 2214, 2214]\n",
      "not na\n"
     ]
    },
    {
     "name": "stderr",
     "output_type": "stream",
     "text": [
      "\n",
      "100%|███████████████████████████████████████████████████████████████████████████████████████████████████████████████████████████████████████████████████| 1/1 [00:00<00:00, 579.48it/s]\u001b[A\n"
     ]
    },
    {
     "name": "stdout",
     "output_type": "stream",
     "text": [
      "2023-09-13 20:04:10.149861\n",
      "Backend topology: 2023-09-13 20:04:10.149861\n",
      "<qiskit.providers.models.backendproperties.BackendProperties object at 0x7f51490f40d0>\n",
      "Depth: [2480, 2480, 2474, 2474, 2472, 2472]\n",
      "SABRE\n"
     ]
    },
    {
     "name": "stderr",
     "output_type": "stream",
     "text": [
      "\n",
      "100%|███████████████████████████████████████████████████████████████████████████████████████████████████████████████████████████████████████████████████| 1/1 [00:00<00:00, 610.08it/s]\u001b[A\n"
     ]
    },
    {
     "name": "stdout",
     "output_type": "stream",
     "text": [
      "2023-07-27 20:04:26.446311\n",
      "Backend topology: 2023-07-27 20:04:26.446311\n",
      "<qiskit.providers.models.backendproperties.BackendProperties object at 0x7f51687bc9a0>\n",
      "Depth: [2094, 2094, 2102, 2102, 2074, 2074]\n",
      "SABRE\n"
     ]
    },
    {
     "name": "stderr",
     "output_type": "stream",
     "text": [
      "\n",
      "100%|███████████████████████████████████████████████████████████████████████████████████████████████████████████████████████████████████████████████████| 1/1 [00:00<00:00, 361.52it/s]\u001b[A\n"
     ]
    },
    {
     "name": "stdout",
     "output_type": "stream",
     "text": [
      "2023-08-13 20:04:40.476685\n",
      "Backend topology: 2023-08-13 20:04:40.476685\n",
      "<qiskit.providers.models.backendproperties.BackendProperties object at 0x7f52245e54f0>\n",
      "Depth: [2702, 2702, 2640, 2640, 2620, 2620]\n",
      "SABRE\n"
     ]
    },
    {
     "name": "stderr",
     "output_type": "stream",
     "text": [
      "\n",
      "100%|███████████████████████████████████████████████████████████████████████████████████████████████████████████████████████████████████████████████████| 1/1 [00:00<00:00, 603.24it/s]\u001b[A\n"
     ]
    },
    {
     "name": "stdout",
     "output_type": "stream",
     "text": [
      "2023-08-02 20:04:58.673452\n",
      "Backend topology: 2023-08-02 20:04:58.673452\n",
      "<qiskit.providers.models.backendproperties.BackendProperties object at 0x7f52404edf70>\n",
      "Depth: [2038, 2038, 2040, 2040, 2042, 2042]\n",
      "na\n"
     ]
    },
    {
     "name": "stderr",
     "output_type": "stream",
     "text": [
      "\n",
      "100%|███████████████████████████████████████████████████████████████████████████████████████████████████████████████████████████████████████████████████| 1/1 [00:00<00:00, 213.44it/s]\u001b[A\n"
     ]
    },
    {
     "name": "stdout",
     "output_type": "stream",
     "text": [
      "2023-09-18 20:05:13.974441\n",
      "Backend topology: 2023-09-18 20:05:13.974441\n",
      "<qiskit.providers.models.backendproperties.BackendProperties object at 0x7f5148f88670>\n",
      "Depth: [2212, 2212, 2204, 2204, 2208, 2208]\n",
      "not na\n"
     ]
    },
    {
     "name": "stderr",
     "output_type": "stream",
     "text": [
      "\n",
      "100%|███████████████████████████████████████████████████████████████████████████████████████████████████████████████████████████████████████████████████| 1/1 [00:00<00:00, 352.20it/s]\u001b[A\n"
     ]
    },
    {
     "name": "stdout",
     "output_type": "stream",
     "text": [
      "2023-11-16 20:05:26.900916\n",
      "Backend topology: 2023-11-16 20:05:26.900916\n",
      "<qiskit.providers.models.backendproperties.BackendProperties object at 0x7f528f8e3f40>\n",
      "Depth: [2776, 2776, 2354, 2354, 2358, 2358]\n",
      "not na\n"
     ]
    },
    {
     "name": "stderr",
     "output_type": "stream",
     "text": [
      "\n",
      "100%|███████████████████████████████████████████████████████████████████████████████████████████████████████████████████████████████████████████████████| 1/1 [00:00<00:00, 371.31it/s]\u001b[A\n",
      " 74%|███████████████████████████████████████████████████████████████████████████████████████████████████████████▎                                     | 37/50 [51:30<31:32, 145.59s/it]"
     ]
    },
    {
     "name": "stdout",
     "output_type": "stream",
     "text": [
      "Current depth: 38\n",
      "2023-11-22 20:05:44.525113\n",
      "Backend topology: 2023-11-22 20:05:44.525113\n",
      "<qiskit.providers.models.backendproperties.BackendProperties object at 0x7f522405bbe0>\n",
      "Depth: [2458, 2458, 2454, 2454, 2458, 2458]\n",
      "not na\n"
     ]
    },
    {
     "name": "stderr",
     "output_type": "stream",
     "text": [
      "\n",
      "100%|███████████████████████████████████████████████████████████████████████████████████████████████████████████████████████████████████████████████████| 1/1 [00:00<00:00, 612.31it/s]\u001b[A\n"
     ]
    },
    {
     "name": "stdout",
     "output_type": "stream",
     "text": [
      "2023-09-09 20:06:01.809097\n",
      "Backend topology: 2023-09-09 20:06:01.809097\n",
      "<qiskit.providers.models.backendproperties.BackendProperties object at 0x7f51c86ca040>\n",
      "Depth: [2350, 2350, 2344, 2344, 2332, 2332]\n",
      "SABRE\n"
     ]
    },
    {
     "name": "stderr",
     "output_type": "stream",
     "text": [
      "\n",
      "100%|███████████████████████████████████████████████████████████████████████████████████████████████████████████████████████████████████████████████████| 1/1 [00:00<00:00, 527.59it/s]\u001b[A\n"
     ]
    },
    {
     "name": "stdout",
     "output_type": "stream",
     "text": [
      "2023-11-06 20:06:18.754816\n",
      "Backend topology: 2023-11-06 20:06:18.754816\n",
      "<qiskit.providers.models.backendproperties.BackendProperties object at 0x7f52645d6e50>\n",
      "Depth: [2298, 2298, 2226, 2226, 2232, 2232]\n",
      "not na\n"
     ]
    },
    {
     "name": "stderr",
     "output_type": "stream",
     "text": [
      "\n",
      "100%|███████████████████████████████████████████████████████████████████████████████████████████████████████████████████████████████████████████████████| 1/1 [00:00<00:00, 594.43it/s]\u001b[A\n"
     ]
    },
    {
     "name": "stdout",
     "output_type": "stream",
     "text": [
      "2023-11-02 20:06:36.713777\n",
      "Backend topology: 2023-11-02 20:06:36.713777\n",
      "<qiskit.providers.models.backendproperties.BackendProperties object at 0x7f5292d2bee0>\n",
      "Depth: [3342, 3342, 2248, 2248, 2250, 2250]\n",
      "not na\n"
     ]
    },
    {
     "name": "stderr",
     "output_type": "stream",
     "text": [
      "\n",
      "100%|███████████████████████████████████████████████████████████████████████████████████████████████████████████████████████████████████████████████████| 1/1 [00:00<00:00, 567.56it/s]\u001b[A\n"
     ]
    },
    {
     "name": "stdout",
     "output_type": "stream",
     "text": [
      "2023-09-16 20:06:52.878351\n",
      "Backend topology: 2023-09-16 20:06:52.878351\n",
      "<qiskit.providers.models.backendproperties.BackendProperties object at 0x7f522455a4c0>\n",
      "Depth: [3938, 3938, 2374, 2374, 2370, 2370]\n",
      "SABRE\n"
     ]
    },
    {
     "name": "stderr",
     "output_type": "stream",
     "text": [
      "\n",
      "100%|███████████████████████████████████████████████████████████████████████████████████████████████████████████████████████████████████████████████████| 1/1 [00:00<00:00, 559.17it/s]\u001b[A\n"
     ]
    },
    {
     "name": "stdout",
     "output_type": "stream",
     "text": [
      "2023-09-14 20:07:11.879159\n",
      "Backend topology: 2023-09-14 20:07:11.879159\n",
      "<qiskit.providers.models.backendproperties.BackendProperties object at 0x7f51c8355070>\n",
      "Depth: [2680, 2680, 2052, 2052, 2054, 2054]\n",
      "not na\n"
     ]
    },
    {
     "name": "stderr",
     "output_type": "stream",
     "text": [
      "\n",
      "100%|███████████████████████████████████████████████████████████████████████████████████████████████████████████████████████████████████████████████████| 1/1 [00:00<00:00, 575.19it/s]\u001b[A\n"
     ]
    },
    {
     "name": "stdout",
     "output_type": "stream",
     "text": [
      "2023-11-19 20:07:42.354828\n",
      "Backend topology: 2023-11-19 20:07:42.354828\n",
      "<qiskit.providers.models.backendproperties.BackendProperties object at 0x7f518876ff40>\n",
      "Depth: [2250, 2250, 2268, 2268, 2270, 2270]\n",
      "na\n"
     ]
    },
    {
     "name": "stderr",
     "output_type": "stream",
     "text": [
      "\n",
      "100%|███████████████████████████████████████████████████████████████████████████████████████████████████████████████████████████████████████████████████| 1/1 [00:00<00:00, 590.91it/s]\u001b[A\n"
     ]
    },
    {
     "name": "stdout",
     "output_type": "stream",
     "text": [
      "2023-06-30 20:08:07.119672\n",
      "Backend topology: 2023-06-30 20:08:07.119672\n",
      "<qiskit.providers.models.backendproperties.BackendProperties object at 0x7f51a87f1a00>\n",
      "Depth: [2432, 2432, 2426, 2426, 2426, 2426]\n",
      "not na\n"
     ]
    },
    {
     "name": "stderr",
     "output_type": "stream",
     "text": [
      "\n",
      "100%|███████████████████████████████████████████████████████████████████████████████████████████████████████████████████████████████████████████████████| 1/1 [00:00<00:00, 404.78it/s]\u001b[A\n"
     ]
    },
    {
     "name": "stdout",
     "output_type": "stream",
     "text": [
      "2023-10-06 20:08:24.301760\n",
      "Backend topology: 2023-10-06 20:08:24.301760\n",
      "<qiskit.providers.models.backendproperties.BackendProperties object at 0x7f52407d9400>\n",
      "Depth: [2072, 2072, 2054, 2054, 2052, 2052]\n",
      "SABRE\n"
     ]
    },
    {
     "name": "stderr",
     "output_type": "stream",
     "text": [
      "\n",
      "100%|███████████████████████████████████████████████████████████████████████████████████████████████████████████████████████████████████████████████████| 1/1 [00:00<00:00, 578.60it/s]\u001b[A\n"
     ]
    },
    {
     "name": "stdout",
     "output_type": "stream",
     "text": [
      "2023-09-16 20:08:38.465750\n",
      "Backend topology: 2023-09-16 20:08:38.465750\n",
      "<qiskit.providers.models.backendproperties.BackendProperties object at 0x7f52646ad9d0>\n",
      "Depth: [2132, 2132, 2124, 2124, 2100, 2100]\n",
      "SABRE\n"
     ]
    },
    {
     "name": "stderr",
     "output_type": "stream",
     "text": [
      "\n",
      "100%|███████████████████████████████████████████████████████████████████████████████████████████████████████████████████████████████████████████████████| 1/1 [00:00<00:00, 381.54it/s]\u001b[A\n",
      " 76%|██████████████████████████████████████████████████████████████████████████████████████████████████████████████▏                                  | 38/50 [54:40<31:47, 158.93s/it]"
     ]
    },
    {
     "name": "stdout",
     "output_type": "stream",
     "text": [
      "Current depth: 39\n",
      "2023-11-24 20:08:54.556920\n",
      "Backend topology: 2023-11-24 20:08:54.556920\n",
      "<qiskit.providers.models.backendproperties.BackendProperties object at 0x7f5291466c40>\n",
      "Depth: [2620, 2620, 2616, 2616, 2616, 2616]\n",
      "not na\n"
     ]
    },
    {
     "name": "stderr",
     "output_type": "stream",
     "text": [
      "\n",
      "100%|███████████████████████████████████████████████████████████████████████████████████████████████████████████████████████████████████████████████████| 1/1 [00:00<00:00, 561.56it/s]\u001b[A\n"
     ]
    },
    {
     "name": "stdout",
     "output_type": "stream",
     "text": [
      "2023-07-07 20:09:13.062846\n",
      "Backend topology: 2023-07-07 20:09:13.062846\n",
      "<qiskit.providers.models.backendproperties.BackendProperties object at 0x7f5264118790>\n",
      "Depth: [2432, 2432, 2170, 2170, 2166, 2166]\n",
      "SABRE\n"
     ]
    },
    {
     "name": "stderr",
     "output_type": "stream",
     "text": [
      "\n",
      "100%|███████████████████████████████████████████████████████████████████████████████████████████████████████████████████████████████████████████████████| 1/1 [00:00<00:00, 538.42it/s]\u001b[A\n"
     ]
    },
    {
     "name": "stdout",
     "output_type": "stream",
     "text": [
      "2023-10-02 20:09:29.988603\n",
      "Backend topology: 2023-10-02 20:09:29.988603\n",
      "<qiskit.providers.models.backendproperties.BackendProperties object at 0x7f524005eee0>\n",
      "Depth: [2806, 2806, 2354, 2354, 2408, 2408]\n",
      "not na\n"
     ]
    },
    {
     "name": "stderr",
     "output_type": "stream",
     "text": [
      "\n",
      "100%|███████████████████████████████████████████████████████████████████████████████████████████████████████████████████████████████████████████████████| 1/1 [00:00<00:00, 561.94it/s]\u001b[A\n"
     ]
    },
    {
     "name": "stdout",
     "output_type": "stream",
     "text": [
      "2023-07-02 20:09:46.711412\n",
      "Backend topology: 2023-07-02 20:09:46.711412\n",
      "<qiskit.providers.models.backendproperties.BackendProperties object at 0x7f51e865e520>\n",
      "Depth: [2280, 2280, 2316, 2316, 2328, 2328]\n",
      "na\n"
     ]
    },
    {
     "name": "stderr",
     "output_type": "stream",
     "text": [
      "\n",
      "100%|███████████████████████████████████████████████████████████████████████████████████████████████████████████████████████████████████████████████████| 1/1 [00:00<00:00, 375.93it/s]\u001b[A\n"
     ]
    },
    {
     "name": "stdout",
     "output_type": "stream",
     "text": [
      "2023-09-22 20:10:02.730834\n",
      "Backend topology: 2023-09-22 20:10:02.730834\n",
      "<qiskit.providers.models.backendproperties.BackendProperties object at 0x7f52807a5430>\n",
      "Depth: [2406, 2406, 2408, 2408, 2404, 2404]\n",
      "SABRE\n"
     ]
    },
    {
     "name": "stderr",
     "output_type": "stream",
     "text": [
      "\n",
      "100%|███████████████████████████████████████████████████████████████████████████████████████████████████████████████████████████████████████████████████| 1/1 [00:00<00:00, 537.66it/s]\u001b[A\n"
     ]
    },
    {
     "name": "stdout",
     "output_type": "stream",
     "text": [
      "2023-08-30 20:10:20.653336\n",
      "Backend topology: 2023-08-30 20:10:20.653336\n",
      "<qiskit.providers.models.backendproperties.BackendProperties object at 0x7f5296d71640>\n"
     ]
    },
    {
     "name": "stderr",
     "output_type": "stream",
     "text": [
      "/home/ritu/anaconda3/envs/dnn_for_qubit_mapping/lib/python3.8/site-packages/qiskit/transpiler/runningpassmanager.py:166: UserWarning: Resynthesized \n",
      "\n",
      "<qiskit.circuit.library.standard_gates.x.XGate object at 0x7f51885c8100>\n",
      "<qiskit.circuit.library.standard_gates.sx.SXGate object at 0x7f5148d932e0>\n",
      "\n",
      "and got\n",
      "\n",
      "<qiskit.circuit.library.standard_gates.rz.RZGate object at 0x7f5264751340>\n",
      "<qiskit.circuit.library.standard_gates.sx.SXGate object at 0x7f5264751d90>\n",
      "<qiskit.circuit.library.standard_gates.rz.RZGate object at 0x7f5264751460>\n",
      "\n",
      "but the original was native (for ['id', 'rz', 'sx', 'x', 'cx', 'reset']) and the new value is longer.  This indicates an efficiency bug in synthesis.  Please report it by opening an issue here: https://github.com/Qiskit/qiskit-terra/issues/new/choose\n",
      "  new_dag = pass_.run(dag)\n",
      "/home/ritu/anaconda3/envs/dnn_for_qubit_mapping/lib/python3.8/site-packages/qiskit/transpiler/runningpassmanager.py:166: UserWarning: Resynthesized \n",
      "\n",
      "<qiskit.circuit.library.standard_gates.x.XGate object at 0x7f51885c8100>\n",
      "<qiskit.circuit.library.standard_gates.sx.SXGate object at 0x7f5148d932e0>\n",
      "\n",
      "and got\n",
      "\n",
      "<qiskit.circuit.library.standard_gates.rz.RZGate object at 0x7f528ecaf610>\n",
      "<qiskit.circuit.library.standard_gates.sx.SXGate object at 0x7f5204207880>\n",
      "<qiskit.circuit.library.standard_gates.rz.RZGate object at 0x7f52042077c0>\n",
      "\n",
      "but the original was native (for ['id', 'rz', 'sx', 'x', 'cx', 'reset']) and the new value is longer.  This indicates an efficiency bug in synthesis.  Please report it by opening an issue here: https://github.com/Qiskit/qiskit-terra/issues/new/choose\n",
      "  new_dag = pass_.run(dag)\n",
      "/home/ritu/anaconda3/envs/dnn_for_qubit_mapping/lib/python3.8/site-packages/qiskit/transpiler/runningpassmanager.py:166: UserWarning: Resynthesized \n",
      "\n",
      "<qiskit.circuit.library.standard_gates.x.XGate object at 0x7f51885c8100>\n",
      "<qiskit.circuit.library.standard_gates.sx.SXGate object at 0x7f5148d932e0>\n",
      "\n",
      "and got\n",
      "\n",
      "<qiskit.circuit.library.standard_gates.rz.RZGate object at 0x7f526460bc10>\n",
      "<qiskit.circuit.library.standard_gates.sx.SXGate object at 0x7f526460b460>\n",
      "<qiskit.circuit.library.standard_gates.rz.RZGate object at 0x7f526460b6a0>\n",
      "\n",
      "but the original was native (for ['id', 'rz', 'sx', 'x', 'cx', 'reset']) and the new value is longer.  This indicates an efficiency bug in synthesis.  Please report it by opening an issue here: https://github.com/Qiskit/qiskit-terra/issues/new/choose\n",
      "  new_dag = pass_.run(dag)\n",
      "/home/ritu/anaconda3/envs/dnn_for_qubit_mapping/lib/python3.8/site-packages/qiskit/transpiler/runningpassmanager.py:166: UserWarning: Resynthesized \n",
      "\n",
      "<qiskit.circuit.library.standard_gates.x.XGate object at 0x7f51885c8100>\n",
      "<qiskit.circuit.library.standard_gates.sx.SXGate object at 0x7f5148d932e0>\n",
      "\n",
      "and got\n",
      "\n",
      "<qiskit.circuit.library.standard_gates.rz.RZGate object at 0x7f52242b4fa0>\n",
      "<qiskit.circuit.library.standard_gates.sx.SXGate object at 0x7f52242b45b0>\n",
      "<qiskit.circuit.library.standard_gates.rz.RZGate object at 0x7f52242b4f10>\n",
      "\n",
      "but the original was native (for ['id', 'rz', 'sx', 'x', 'cx', 'reset']) and the new value is longer.  This indicates an efficiency bug in synthesis.  Please report it by opening an issue here: https://github.com/Qiskit/qiskit-terra/issues/new/choose\n",
      "  new_dag = pass_.run(dag)\n",
      "/home/ritu/anaconda3/envs/dnn_for_qubit_mapping/lib/python3.8/site-packages/qiskit/transpiler/runningpassmanager.py:166: UserWarning: Resynthesized \n",
      "\n",
      "<qiskit.circuit.library.standard_gates.x.XGate object at 0x7f51c83b2400>\n",
      "<qiskit.circuit.library.standard_gates.sx.SXGate object at 0x7f51a84025e0>\n",
      "\n",
      "and got\n",
      "\n",
      "<qiskit.circuit.library.standard_gates.rz.RZGate object at 0x7f5204470d00>\n",
      "<qiskit.circuit.library.standard_gates.sx.SXGate object at 0x7f5204470910>\n",
      "<qiskit.circuit.library.standard_gates.rz.RZGate object at 0x7f5204470100>\n",
      "\n",
      "but the original was native (for ['id', 'rz', 'sx', 'x', 'cx', 'reset']) and the new value is longer.  This indicates an efficiency bug in synthesis.  Please report it by opening an issue here: https://github.com/Qiskit/qiskit-terra/issues/new/choose\n",
      "  new_dag = pass_.run(dag)\n",
      "/home/ritu/anaconda3/envs/dnn_for_qubit_mapping/lib/python3.8/site-packages/qiskit/transpiler/runningpassmanager.py:166: UserWarning: Resynthesized \n",
      "\n",
      "<qiskit.circuit.library.standard_gates.x.XGate object at 0x7f51c83b2400>\n",
      "<qiskit.circuit.library.standard_gates.sx.SXGate object at 0x7f51a84025e0>\n",
      "\n",
      "and got\n",
      "\n",
      "<qiskit.circuit.library.standard_gates.rz.RZGate object at 0x7f514954a730>\n",
      "<qiskit.circuit.library.standard_gates.sx.SXGate object at 0x7f514954ab80>\n",
      "<qiskit.circuit.library.standard_gates.rz.RZGate object at 0x7f514954ac40>\n",
      "\n",
      "but the original was native (for ['id', 'rz', 'sx', 'x', 'cx', 'reset']) and the new value is longer.  This indicates an efficiency bug in synthesis.  Please report it by opening an issue here: https://github.com/Qiskit/qiskit-terra/issues/new/choose\n",
      "  new_dag = pass_.run(dag)\n",
      "/home/ritu/anaconda3/envs/dnn_for_qubit_mapping/lib/python3.8/site-packages/qiskit/transpiler/runningpassmanager.py:166: UserWarning: Resynthesized \n",
      "\n",
      "<qiskit.circuit.library.standard_gates.x.XGate object at 0x7f51c83b2400>\n",
      "<qiskit.circuit.library.standard_gates.sx.SXGate object at 0x7f51a84025e0>\n",
      "\n",
      "and got\n",
      "\n",
      "<qiskit.circuit.library.standard_gates.rz.RZGate object at 0x7f5148b46d90>\n",
      "<qiskit.circuit.library.standard_gates.sx.SXGate object at 0x7f5148b468b0>\n",
      "<qiskit.circuit.library.standard_gates.rz.RZGate object at 0x7f5148b46100>\n",
      "\n",
      "but the original was native (for ['id', 'rz', 'sx', 'x', 'cx', 'reset']) and the new value is longer.  This indicates an efficiency bug in synthesis.  Please report it by opening an issue here: https://github.com/Qiskit/qiskit-terra/issues/new/choose\n",
      "  new_dag = pass_.run(dag)\n",
      "/home/ritu/anaconda3/envs/dnn_for_qubit_mapping/lib/python3.8/site-packages/qiskit/transpiler/runningpassmanager.py:166: UserWarning: Resynthesized \n",
      "\n",
      "<qiskit.circuit.library.standard_gates.x.XGate object at 0x7f51c83b2400>\n",
      "<qiskit.circuit.library.standard_gates.sx.SXGate object at 0x7f51a84025e0>\n",
      "\n",
      "and got\n",
      "\n",
      "<qiskit.circuit.library.standard_gates.rz.RZGate object at 0x7f5149565f10>\n",
      "<qiskit.circuit.library.standard_gates.sx.SXGate object at 0x7f51495653a0>\n",
      "<qiskit.circuit.library.standard_gates.rz.RZGate object at 0x7f51495651f0>\n",
      "\n",
      "but the original was native (for ['id', 'rz', 'sx', 'x', 'cx', 'reset']) and the new value is longer.  This indicates an efficiency bug in synthesis.  Please report it by opening an issue here: https://github.com/Qiskit/qiskit-terra/issues/new/choose\n",
      "  new_dag = pass_.run(dag)\n",
      "/home/ritu/anaconda3/envs/dnn_for_qubit_mapping/lib/python3.8/site-packages/qiskit/transpiler/runningpassmanager.py:166: UserWarning: Resynthesized \n",
      "\n",
      "<qiskit.circuit.library.standard_gates.x.XGate object at 0x7f51492762b0>\n",
      "<qiskit.circuit.library.standard_gates.sx.SXGate object at 0x7f51a82b70a0>\n",
      "\n",
      "and got\n",
      "\n",
      "<qiskit.circuit.library.standard_gates.rz.RZGate object at 0x7f516818d9a0>\n",
      "<qiskit.circuit.library.standard_gates.sx.SXGate object at 0x7f516818d1c0>\n",
      "<qiskit.circuit.library.standard_gates.rz.RZGate object at 0x7f516818df70>\n",
      "\n",
      "but the original was native (for ['id', 'rz', 'sx', 'x', 'cx', 'reset']) and the new value is longer.  This indicates an efficiency bug in synthesis.  Please report it by opening an issue here: https://github.com/Qiskit/qiskit-terra/issues/new/choose\n",
      "  new_dag = pass_.run(dag)\n",
      "/home/ritu/anaconda3/envs/dnn_for_qubit_mapping/lib/python3.8/site-packages/qiskit/transpiler/runningpassmanager.py:166: UserWarning: Resynthesized \n",
      "\n",
      "<qiskit.circuit.library.standard_gates.x.XGate object at 0x7f51492762b0>\n",
      "<qiskit.circuit.library.standard_gates.sx.SXGate object at 0x7f51a82b70a0>\n",
      "\n",
      "and got\n",
      "\n",
      "<qiskit.circuit.library.standard_gates.rz.RZGate object at 0x7f5149073f70>\n",
      "<qiskit.circuit.library.standard_gates.sx.SXGate object at 0x7f51490739d0>\n",
      "<qiskit.circuit.library.standard_gates.rz.RZGate object at 0x7f51490733d0>\n",
      "\n",
      "but the original was native (for ['id', 'rz', 'sx', 'x', 'cx', 'reset']) and the new value is longer.  This indicates an efficiency bug in synthesis.  Please report it by opening an issue here: https://github.com/Qiskit/qiskit-terra/issues/new/choose\n",
      "  new_dag = pass_.run(dag)\n",
      "/home/ritu/anaconda3/envs/dnn_for_qubit_mapping/lib/python3.8/site-packages/qiskit/transpiler/runningpassmanager.py:166: UserWarning: Resynthesized \n",
      "\n",
      "<qiskit.circuit.library.standard_gates.x.XGate object at 0x7f51492762b0>\n",
      "<qiskit.circuit.library.standard_gates.sx.SXGate object at 0x7f51a82b70a0>\n",
      "\n",
      "and got\n",
      "\n",
      "<qiskit.circuit.library.standard_gates.rz.RZGate object at 0x7f522422cfd0>\n",
      "<qiskit.circuit.library.standard_gates.sx.SXGate object at 0x7f522422c490>\n",
      "<qiskit.circuit.library.standard_gates.rz.RZGate object at 0x7f522422caf0>\n",
      "\n",
      "but the original was native (for ['id', 'rz', 'sx', 'x', 'cx', 'reset']) and the new value is longer.  This indicates an efficiency bug in synthesis.  Please report it by opening an issue here: https://github.com/Qiskit/qiskit-terra/issues/new/choose\n",
      "  new_dag = pass_.run(dag)\n"
     ]
    },
    {
     "name": "stderr",
     "output_type": "stream",
     "text": [
      "/home/ritu/anaconda3/envs/dnn_for_qubit_mapping/lib/python3.8/site-packages/qiskit/transpiler/runningpassmanager.py:166: UserWarning: Resynthesized \n",
      "\n",
      "<qiskit.circuit.library.standard_gates.x.XGate object at 0x7f51492762b0>\n",
      "<qiskit.circuit.library.standard_gates.sx.SXGate object at 0x7f51a82b70a0>\n",
      "\n",
      "and got\n",
      "\n",
      "<qiskit.circuit.library.standard_gates.rz.RZGate object at 0x7f522454cd60>\n",
      "<qiskit.circuit.library.standard_gates.sx.SXGate object at 0x7f5295925d60>\n",
      "<qiskit.circuit.library.standard_gates.rz.RZGate object at 0x7f52959251f0>\n",
      "\n",
      "but the original was native (for ['id', 'rz', 'sx', 'x', 'cx', 'reset']) and the new value is longer.  This indicates an efficiency bug in synthesis.  Please report it by opening an issue here: https://github.com/Qiskit/qiskit-terra/issues/new/choose\n",
      "  new_dag = pass_.run(dag)\n"
     ]
    },
    {
     "name": "stdout",
     "output_type": "stream",
     "text": [
      "Depth: [2708, 2708, 2516, 2516, 2518, 2518]\n",
      "not na\n"
     ]
    },
    {
     "name": "stderr",
     "output_type": "stream",
     "text": [
      "\n",
      "100%|███████████████████████████████████████████████████████████████████████████████████████████████████████████████████████████████████████████████████| 1/1 [00:00<00:00, 559.39it/s]\u001b[A\n"
     ]
    },
    {
     "name": "stdout",
     "output_type": "stream",
     "text": [
      "2023-07-20 20:10:39.043988\n",
      "Backend topology: 2023-07-20 20:10:39.043988\n",
      "<qiskit.providers.models.backendproperties.BackendProperties object at 0x7f5296cdc640>\n",
      "Depth: [2080, 2080, 2070, 2070, 2078, 2078]\n",
      "not na\n"
     ]
    },
    {
     "name": "stderr",
     "output_type": "stream",
     "text": [
      "\n",
      "100%|███████████████████████████████████████████████████████████████████████████████████████████████████████████████████████████████████████████████████| 1/1 [00:00<00:00, 359.72it/s]\u001b[A\n"
     ]
    },
    {
     "name": "stdout",
     "output_type": "stream",
     "text": [
      "2023-09-13 20:10:52.692825\n",
      "Backend topology: 2023-09-13 20:10:52.692825\n",
      "<qiskit.providers.models.backendproperties.BackendProperties object at 0x7f528fcccb20>\n",
      "Depth: [3616, 3616, 2474, 2474, 2472, 2472]\n",
      "SABRE\n"
     ]
    },
    {
     "name": "stderr",
     "output_type": "stream",
     "text": [
      "\n",
      "100%|███████████████████████████████████████████████████████████████████████████████████████████████████████████████████████████████████████████████████| 1/1 [00:00<00:00, 557.23it/s]\u001b[A\n"
     ]
    },
    {
     "name": "stdout",
     "output_type": "stream",
     "text": [
      "2023-11-09 20:11:07.826193\n",
      "Backend topology: 2023-11-09 20:11:07.826193\n",
      "<qiskit.providers.models.backendproperties.BackendProperties object at 0x7f526438c370>\n",
      "Depth: [2234, 2234, 2228, 2228, 2224, 2224]\n",
      "SABRE\n"
     ]
    },
    {
     "name": "stderr",
     "output_type": "stream",
     "text": [
      "\n",
      "100%|███████████████████████████████████████████████████████████████████████████████████████████████████████████████████████████████████████████████████| 1/1 [00:00<00:00, 532.27it/s]\u001b[A\n"
     ]
    },
    {
     "name": "stdout",
     "output_type": "stream",
     "text": [
      "2023-08-20 20:11:33.135680\n",
      "Backend topology: 2023-08-20 20:11:33.135680\n",
      "<qiskit.providers.models.backendproperties.BackendProperties object at 0x7f52405e3a30>\n",
      "Depth: [2594, 2594, 2592, 2592, 2586, 2586]\n",
      "SABRE\n"
     ]
    },
    {
     "name": "stderr",
     "output_type": "stream",
     "text": [
      "\n",
      "100%|███████████████████████████████████████████████████████████████████████████████████████████████████████████████████████████████████████████████████| 1/1 [00:00<00:00, 601.51it/s]\u001b[A\n",
      " 78%|█████████████████████████████████████████████████████████████████████████████████████████████████████████████████                                | 39/50 [57:35<30:01, 163.75s/it]"
     ]
    },
    {
     "name": "stdout",
     "output_type": "stream",
     "text": [
      "Current depth: 40\n",
      "2023-07-10 20:11:49.557593\n",
      "Backend topology: 2023-07-10 20:11:49.557593\n",
      "<qiskit.providers.models.backendproperties.BackendProperties object at 0x7f529a5227c0>\n",
      "Depth: [2844, 2844, 2852, 2852, 2852, 2852]\n",
      "na\n"
     ]
    },
    {
     "name": "stderr",
     "output_type": "stream",
     "text": [
      "\n",
      "100%|███████████████████████████████████████████████████████████████████████████████████████████████████████████████████████████████████████████████████| 1/1 [00:00<00:00, 536.49it/s]\u001b[A\n"
     ]
    },
    {
     "name": "stdout",
     "output_type": "stream",
     "text": [
      "2023-09-13 20:12:08.298481\n",
      "Backend topology: 2023-09-13 20:12:08.298481\n",
      "<qiskit.providers.models.backendproperties.BackendProperties object at 0x7f5148c9ba30>\n",
      "Depth: [2118, 2118, 2128, 2128, 2126, 2126]\n",
      "na\n"
     ]
    },
    {
     "name": "stderr",
     "output_type": "stream",
     "text": [
      "\n",
      "100%|███████████████████████████████████████████████████████████████████████████████████████████████████████████████████████████████████████████████████| 1/1 [00:00<00:00, 595.27it/s]\u001b[A\n"
     ]
    },
    {
     "name": "stdout",
     "output_type": "stream",
     "text": [
      "2023-11-18 20:12:27.617800\n",
      "Backend topology: 2023-11-18 20:12:27.617800\n",
      "<qiskit.providers.models.backendproperties.BackendProperties object at 0x7f51c8525e50>\n",
      "Depth: [2272, 2272, 2272, 2272, 2270, 2270]\n",
      "SABRE\n"
     ]
    },
    {
     "name": "stderr",
     "output_type": "stream",
     "text": [
      "\n",
      "100%|███████████████████████████████████████████████████████████████████████████████████████████████████████████████████████████████████████████████████| 1/1 [00:00<00:00, 538.77it/s]\u001b[A\n"
     ]
    },
    {
     "name": "stdout",
     "output_type": "stream",
     "text": [
      "2023-11-26 20:12:44.149604\n",
      "Backend topology: 2023-11-26 20:12:44.149604\n",
      "<qiskit.providers.models.backendproperties.BackendProperties object at 0x7f5188345b80>\n",
      "Depth: [2514, 2514, 2508, 2508, 2512, 2512]\n",
      "not na\n"
     ]
    },
    {
     "name": "stderr",
     "output_type": "stream",
     "text": [
      "\n",
      "100%|███████████████████████████████████████████████████████████████████████████████████████████████████████████████████████████████████████████████████| 1/1 [00:00<00:00, 584.65it/s]\u001b[A\n"
     ]
    },
    {
     "name": "stdout",
     "output_type": "stream",
     "text": [
      "2023-08-24 20:13:01.552755\n",
      "Backend topology: 2023-08-24 20:13:01.552755\n",
      "<qiskit.providers.models.backendproperties.BackendProperties object at 0x7f5148d77730>\n",
      "Depth: [3056, 3056, 2212, 2212, 2210, 2210]\n",
      "SABRE\n"
     ]
    },
    {
     "name": "stderr",
     "output_type": "stream",
     "text": [
      "\n",
      "100%|███████████████████████████████████████████████████████████████████████████████████████████████████████████████████████████████████████████████████| 1/1 [00:00<00:00, 370.26it/s]\u001b[A\n"
     ]
    },
    {
     "name": "stdout",
     "output_type": "stream",
     "text": [
      "2023-07-05 20:13:14.605571\n",
      "Backend topology: 2023-07-05 20:13:14.605571\n",
      "<qiskit.providers.models.backendproperties.BackendProperties object at 0x7f52910af6a0>\n",
      "Depth: [2270, 2270, 2216, 2216, 2216, 2216]\n",
      "not na\n"
     ]
    },
    {
     "name": "stderr",
     "output_type": "stream",
     "text": [
      "\n",
      "100%|███████████████████████████████████████████████████████████████████████████████████████████████████████████████████████████████████████████████████| 1/1 [00:00<00:00, 532.14it/s]\u001b[A\n"
     ]
    },
    {
     "name": "stdout",
     "output_type": "stream",
     "text": [
      "2023-10-13 20:13:27.838799\n",
      "Backend topology: 2023-10-13 20:13:27.838799\n",
      "<qiskit.providers.models.backendproperties.BackendProperties object at 0x7f518846f1c0>\n",
      "Depth: [2568, 2568, 2568, 2568, 2548, 2548]\n",
      "SABRE\n"
     ]
    },
    {
     "name": "stderr",
     "output_type": "stream",
     "text": [
      "\n",
      "100%|███████████████████████████████████████████████████████████████████████████████████████████████████████████████████████████████████████████████████| 1/1 [00:00<00:00, 534.92it/s]\u001b[A\n"
     ]
    },
    {
     "name": "stdout",
     "output_type": "stream",
     "text": [
      "2023-11-01 20:13:46.300612\n",
      "Backend topology: 2023-11-01 20:13:46.300612\n",
      "<qiskit.providers.models.backendproperties.BackendProperties object at 0x7f52407305b0>\n",
      "Depth: [2950, 2950, 2526, 2526, 2532, 2532]\n",
      "not na\n"
     ]
    },
    {
     "name": "stderr",
     "output_type": "stream",
     "text": [
      "\n",
      "100%|███████████████████████████████████████████████████████████████████████████████████████████████████████████████████████████████████████████████████| 1/1 [00:00<00:00, 401.60it/s]\u001b[A\n"
     ]
    },
    {
     "name": "stdout",
     "output_type": "stream",
     "text": [
      "2023-09-22 20:14:13.540037\n",
      "Backend topology: 2023-09-22 20:14:13.540037\n",
      "<qiskit.providers.models.backendproperties.BackendProperties object at 0x7f51682c3520>\n",
      "Depth: [2116, 2116, 2116, 2116, 2096, 2096]\n",
      "SABRE\n"
     ]
    },
    {
     "name": "stderr",
     "output_type": "stream",
     "text": [
      "\n",
      "100%|███████████████████████████████████████████████████████████████████████████████████████████████████████████████████████████████████████████████████| 1/1 [00:00<00:00, 599.53it/s]\u001b[A\n"
     ]
    },
    {
     "name": "stdout",
     "output_type": "stream",
     "text": [
      "2023-08-18 20:14:30.094205\n",
      "Backend topology: 2023-08-18 20:14:30.094205\n",
      "<qiskit.providers.models.backendproperties.BackendProperties object at 0x7f528fc62bb0>\n",
      "Depth: [2942, 2942, 2102, 2102, 2092, 2092]\n",
      "SABRE\n"
     ]
    },
    {
     "name": "stderr",
     "output_type": "stream",
     "text": [
      "\n",
      "100%|███████████████████████████████████████████████████████████████████████████████████████████████████████████████████████████████████████████████████| 1/1 [00:00<00:00, 469.69it/s]\u001b[A\n",
      " 80%|██████████████████████████████████████████████████████████████████████████████████████████████████████████████████▍                            | 40/50 [1:00:31<27:54, 167.48s/it]"
     ]
    },
    {
     "name": "stdout",
     "output_type": "stream",
     "text": [
      "Current depth: 41\n",
      "2023-09-16 20:14:45.744467\n",
      "Backend topology: 2023-09-16 20:14:45.744467\n",
      "<qiskit.providers.models.backendproperties.BackendProperties object at 0x7f5292dd8490>\n",
      "Depth: [2474, 2474, 2474, 2474, 2476, 2476]\n",
      "na\n"
     ]
    },
    {
     "name": "stderr",
     "output_type": "stream",
     "text": [
      "\n",
      "100%|███████████████████████████████████████████████████████████████████████████████████████████████████████████████████████████████████████████████████| 1/1 [00:00<00:00, 602.20it/s]\u001b[A\n"
     ]
    },
    {
     "name": "stdout",
     "output_type": "stream",
     "text": [
      "2023-07-29 20:15:01.963163\n",
      "Backend topology: 2023-07-29 20:15:01.963163\n",
      "<qiskit.providers.models.backendproperties.BackendProperties object at 0x7f51884edca0>\n",
      "Depth: [2750, 2750, 2742, 2742, 2768, 2768]\n",
      "not na\n"
     ]
    },
    {
     "name": "stderr",
     "output_type": "stream",
     "text": [
      "\n",
      "100%|███████████████████████████████████████████████████████████████████████████████████████████████████████████████████████████████████████████████████| 1/1 [00:00<00:00, 607.61it/s]\u001b[A\n"
     ]
    },
    {
     "name": "stdout",
     "output_type": "stream",
     "text": [
      "2023-10-18 20:15:22.442899\n",
      "Backend topology: 2023-10-18 20:15:22.442899\n",
      "<qiskit.providers.models.backendproperties.BackendProperties object at 0x7f52924ea970>\n",
      "Depth: [2532, 2532, 2530, 2530, 2492, 2492]\n",
      "SABRE\n"
     ]
    },
    {
     "name": "stderr",
     "output_type": "stream",
     "text": [
      "\n",
      "100%|███████████████████████████████████████████████████████████████████████████████████████████████████████████████████████████████████████████████████| 1/1 [00:00<00:00, 517.11it/s]\u001b[A\n"
     ]
    },
    {
     "name": "stdout",
     "output_type": "stream",
     "text": [
      "2023-10-24 20:15:39.049404\n",
      "Backend topology: 2023-10-24 20:15:39.049404\n",
      "<qiskit.providers.models.backendproperties.BackendProperties object at 0x7f52800cbe80>\n",
      "Depth: [2286, 2286, 2284, 2284, 2286, 2286]\n",
      "not na\n"
     ]
    },
    {
     "name": "stderr",
     "output_type": "stream",
     "text": [
      "\n",
      "100%|███████████████████████████████████████████████████████████████████████████████████████████████████████████████████████████████████████████████████| 1/1 [00:00<00:00, 372.33it/s]\u001b[A\n"
     ]
    },
    {
     "name": "stdout",
     "output_type": "stream",
     "text": [
      "2023-08-28 20:15:55.192332\n",
      "Backend topology: 2023-08-28 20:15:55.192332\n",
      "<qiskit.providers.models.backendproperties.BackendProperties object at 0x7f5188420070>\n",
      "Depth: [2602, 2602, 2470, 2470, 2468, 2468]\n",
      "SABRE\n"
     ]
    },
    {
     "name": "stderr",
     "output_type": "stream",
     "text": [
      "\n",
      "100%|███████████████████████████████████████████████████████████████████████████████████████████████████████████████████████████████████████████████████| 1/1 [00:00<00:00, 565.57it/s]\u001b[A\n"
     ]
    },
    {
     "name": "stdout",
     "output_type": "stream",
     "text": [
      "2023-07-24 20:16:13.889232\n",
      "Backend topology: 2023-07-24 20:16:13.889232\n",
      "<qiskit.providers.models.backendproperties.BackendProperties object at 0x7f51883e8ee0>\n",
      "Depth: [2434, 2434, 2420, 2420, 2422, 2422]\n",
      "not na\n"
     ]
    },
    {
     "name": "stderr",
     "output_type": "stream",
     "text": [
      "\n",
      "100%|███████████████████████████████████████████████████████████████████████████████████████████████████████████████████████████████████████████████████| 1/1 [00:00<00:00, 530.32it/s]\u001b[A\n"
     ]
    },
    {
     "name": "stdout",
     "output_type": "stream",
     "text": [
      "2023-07-06 20:16:47.592951\n",
      "Backend topology: 2023-07-06 20:16:47.592951\n",
      "<qiskit.providers.models.backendproperties.BackendProperties object at 0x7f52407d9400>\n",
      "Depth: [2280, 2280, 2290, 2290, 2282, 2282]\n",
      "na\n"
     ]
    },
    {
     "name": "stderr",
     "output_type": "stream",
     "text": [
      "\n",
      "100%|███████████████████████████████████████████████████████████████████████████████████████████████████████████████████████████████████████████████████| 1/1 [00:00<00:00, 561.71it/s]\u001b[A\n"
     ]
    },
    {
     "name": "stdout",
     "output_type": "stream",
     "text": [
      "2023-07-05 20:17:06.983597\n",
      "Backend topology: 2023-07-05 20:17:06.983597\n",
      "<qiskit.providers.models.backendproperties.BackendProperties object at 0x7f514926d670>\n",
      "Depth: [3216, 3216, 2198, 2198, 2202, 2202]\n",
      "not na\n"
     ]
    },
    {
     "name": "stderr",
     "output_type": "stream",
     "text": [
      "\n",
      "100%|███████████████████████████████████████████████████████████████████████████████████████████████████████████████████████████████████████████████████| 1/1 [00:00<00:00, 593.76it/s]\u001b[A\n"
     ]
    },
    {
     "name": "stdout",
     "output_type": "stream",
     "text": [
      "2023-08-21 20:17:37.292303\n",
      "Backend topology: 2023-08-21 20:17:37.292303\n",
      "<qiskit.providers.models.backendproperties.BackendProperties object at 0x7f520413e7f0>\n",
      "Depth: [2814, 2814, 2576, 2576, 2576, 2576]\n",
      "not na\n"
     ]
    },
    {
     "name": "stderr",
     "output_type": "stream",
     "text": [
      "\n",
      "100%|███████████████████████████████████████████████████████████████████████████████████████████████████████████████████████████████████████████████████| 1/1 [00:00<00:00, 545.64it/s]\u001b[A\n"
     ]
    },
    {
     "name": "stdout",
     "output_type": "stream",
     "text": [
      "2023-09-05 20:17:56.260020\n",
      "Backend topology: 2023-09-05 20:17:56.260020\n",
      "<qiskit.providers.models.backendproperties.BackendProperties object at 0x7f5168211100>\n",
      "Depth: [2600, 2600, 2608, 2608, 2596, 2596]\n",
      "SABRE\n"
     ]
    },
    {
     "name": "stderr",
     "output_type": "stream",
     "text": [
      "\n",
      "100%|███████████████████████████████████████████████████████████████████████████████████████████████████████████████████████████████████████████████████| 1/1 [00:00<00:00, 586.37it/s]\u001b[A\n",
      " 82%|█████████████████████████████████████████████████████████████████████████████████████████████████████████████████████▎                         | 41/50 [1:03:59<26:57, 179.71s/it]"
     ]
    },
    {
     "name": "stdout",
     "output_type": "stream",
     "text": [
      "Current depth: 42\n",
      "2023-08-28 20:18:13.997764\n",
      "Backend topology: 2023-08-28 20:18:13.997764\n",
      "<qiskit.providers.models.backendproperties.BackendProperties object at 0x7f529614b040>\n",
      "Depth: [2326, 2326, 2322, 2322, 2320, 2320]\n",
      "SABRE\n"
     ]
    },
    {
     "name": "stderr",
     "output_type": "stream",
     "text": [
      "\n",
      "100%|███████████████████████████████████████████████████████████████████████████████████████████████████████████████████████████████████████████████████| 1/1 [00:00<00:00, 379.06it/s]\u001b[A\n"
     ]
    },
    {
     "name": "stdout",
     "output_type": "stream",
     "text": [
      "2023-09-24 20:18:29.457792\n",
      "Backend topology: 2023-09-24 20:18:29.457792\n",
      "<qiskit.providers.models.backendproperties.BackendProperties object at 0x7f52243bbdc0>\n",
      "Depth: [2584, 2584, 2524, 2524, 2524, 2524]\n",
      "not na\n"
     ]
    },
    {
     "name": "stderr",
     "output_type": "stream",
     "text": [
      "\n",
      "100%|███████████████████████████████████████████████████████████████████████████████████████████████████████████████████████████████████████████████████| 1/1 [00:00<00:00, 597.73it/s]\u001b[A\n"
     ]
    },
    {
     "name": "stdout",
     "output_type": "stream",
     "text": [
      "2023-10-07 20:18:48.079150\n",
      "Backend topology: 2023-10-07 20:18:48.079150\n",
      "<qiskit.providers.models.backendproperties.BackendProperties object at 0x7f52914784f0>\n",
      "Depth: [2596, 2596, 2612, 2612, 2608, 2608]\n",
      "na\n"
     ]
    },
    {
     "name": "stderr",
     "output_type": "stream",
     "text": [
      "\n",
      "100%|███████████████████████████████████████████████████████████████████████████████████████████████████████████████████████████████████████████████████| 1/1 [00:00<00:00, 560.81it/s]\u001b[A\n"
     ]
    },
    {
     "name": "stdout",
     "output_type": "stream",
     "text": [
      "2023-07-09 20:19:04.373435\n",
      "Backend topology: 2023-07-09 20:19:04.373435\n",
      "<qiskit.providers.models.backendproperties.BackendProperties object at 0x7f528fd7f8e0>\n",
      "Depth: [2800, 2800, 2700, 2700, 2698, 2698]\n",
      "SABRE\n"
     ]
    },
    {
     "name": "stderr",
     "output_type": "stream",
     "text": [
      "\n",
      "100%|███████████████████████████████████████████████████████████████████████████████████████████████████████████████████████████████████████████████████| 1/1 [00:00<00:00, 552.46it/s]\u001b[A\n"
     ]
    },
    {
     "name": "stdout",
     "output_type": "stream",
     "text": [
      "2023-08-03 20:19:23.565991\n",
      "Backend topology: 2023-08-03 20:19:23.565991\n",
      "<qiskit.providers.models.backendproperties.BackendProperties object at 0x7f5240060ac0>\n",
      "Depth: [2430, 2430, 2428, 2428, 2406, 2406]\n",
      "SABRE\n"
     ]
    },
    {
     "name": "stderr",
     "output_type": "stream",
     "text": [
      "\n",
      "100%|███████████████████████████████████████████████████████████████████████████████████████████████████████████████████████████████████████████████████| 1/1 [00:00<00:00, 588.43it/s]\u001b[A\n"
     ]
    },
    {
     "name": "stdout",
     "output_type": "stream",
     "text": [
      "2023-11-24 20:19:40.067875\n",
      "Backend topology: 2023-11-24 20:19:40.067875\n",
      "<qiskit.providers.models.backendproperties.BackendProperties object at 0x7f51c8666880>\n",
      "Depth: [2432, 2432, 2440, 2440, 2438, 2438]\n",
      "na\n"
     ]
    },
    {
     "name": "stderr",
     "output_type": "stream",
     "text": [
      "\n",
      "100%|███████████████████████████████████████████████████████████████████████████████████████████████████████████████████████████████████████████████████| 1/1 [00:00<00:00, 566.87it/s]\u001b[A\n"
     ]
    },
    {
     "name": "stdout",
     "output_type": "stream",
     "text": [
      "2023-09-26 20:19:57.339370\n",
      "Backend topology: 2023-09-26 20:19:57.339370\n",
      "<qiskit.providers.models.backendproperties.BackendProperties object at 0x7f528e1e4be0>\n",
      "Depth: [2338, 2338, 2330, 2330, 2336, 2336]\n",
      "not na\n"
     ]
    },
    {
     "name": "stderr",
     "output_type": "stream",
     "text": [
      "\n",
      "100%|███████████████████████████████████████████████████████████████████████████████████████████████████████████████████████████████████████████████████| 1/1 [00:00<00:00, 605.24it/s]\u001b[A\n"
     ]
    },
    {
     "name": "stdout",
     "output_type": "stream",
     "text": [
      "2023-10-21 20:20:13.465975\n",
      "Backend topology: 2023-10-21 20:20:13.465975\n",
      "<qiskit.providers.models.backendproperties.BackendProperties object at 0x7f520445f0d0>\n",
      "Depth: [2336, 2336, 2268, 2268, 2266, 2266]\n",
      "SABRE\n"
     ]
    },
    {
     "name": "stderr",
     "output_type": "stream",
     "text": [
      "\n",
      "100%|███████████████████████████████████████████████████████████████████████████████████████████████████████████████████████████████████████████████████| 1/1 [00:00<00:00, 604.72it/s]\u001b[A\n"
     ]
    },
    {
     "name": "stdout",
     "output_type": "stream",
     "text": [
      "2023-11-20 20:20:30.827251\n",
      "Backend topology: 2023-11-20 20:20:30.827251\n",
      "<qiskit.providers.models.backendproperties.BackendProperties object at 0x7f522431d280>\n",
      "Depth: [3222, 3222, 2560, 2560, 2558, 2558]\n",
      "SABRE\n"
     ]
    },
    {
     "name": "stderr",
     "output_type": "stream",
     "text": [
      "\n",
      "100%|███████████████████████████████████████████████████████████████████████████████████████████████████████████████████████████████████████████████████| 1/1 [00:00<00:00, 575.82it/s]\u001b[A\n"
     ]
    },
    {
     "name": "stdout",
     "output_type": "stream",
     "text": [
      "2023-09-25 20:20:49.179860\n",
      "Backend topology: 2023-09-25 20:20:49.179860\n",
      "<qiskit.providers.models.backendproperties.BackendProperties object at 0x7f52042a7340>\n",
      "Depth: [3712, 3712, 2630, 2630, 2628, 2628]\n",
      "SABRE\n"
     ]
    },
    {
     "name": "stderr",
     "output_type": "stream",
     "text": [
      "\n",
      "100%|███████████████████████████████████████████████████████████████████████████████████████████████████████████████████████████████████████████████████| 1/1 [00:00<00:00, 617.72it/s]\u001b[A\n",
      " 84%|████████████████████████████████████████████████████████████████████████████████████████████████████████████████████████                       | 42/50 [1:06:55<23:46, 178.36s/it]"
     ]
    },
    {
     "name": "stdout",
     "output_type": "stream",
     "text": [
      "Current depth: 43\n",
      "2023-08-03 20:21:09.219595\n",
      "Backend topology: 2023-08-03 20:21:09.219595\n",
      "<qiskit.providers.models.backendproperties.BackendProperties object at 0x7f52930f19a0>\n",
      "Depth: [2278, 2278, 2246, 2246, 2254, 2254]\n",
      "not na\n"
     ]
    },
    {
     "name": "stderr",
     "output_type": "stream",
     "text": [
      "\n",
      "100%|███████████████████████████████████████████████████████████████████████████████████████████████████████████████████████████████████████████████████| 1/1 [00:00<00:00, 586.04it/s]\u001b[A\n"
     ]
    },
    {
     "name": "stdout",
     "output_type": "stream",
     "text": [
      "2023-11-20 20:21:23.142280\n",
      "Backend topology: 2023-11-20 20:21:23.142280\n",
      "<qiskit.providers.models.backendproperties.BackendProperties object at 0x7f51c80e7ca0>\n",
      "Depth: [2652, 2652, 2640, 2640, 2644, 2644]\n",
      "not na\n"
     ]
    },
    {
     "name": "stderr",
     "output_type": "stream",
     "text": [
      "\n",
      "100%|███████████████████████████████████████████████████████████████████████████████████████████████████████████████████████████████████████████████████| 1/1 [00:00<00:00, 572.44it/s]\u001b[A\n"
     ]
    },
    {
     "name": "stdout",
     "output_type": "stream",
     "text": [
      "2023-11-22 20:21:42.631454\n",
      "Backend topology: 2023-11-22 20:21:42.631454\n",
      "<qiskit.providers.models.backendproperties.BackendProperties object at 0x7f522455bdf0>\n",
      "Depth: [2722, 2722, 2724, 2724, 2722, 2722]\n",
      "na\n"
     ]
    },
    {
     "name": "stderr",
     "output_type": "stream",
     "text": [
      "\n",
      "100%|███████████████████████████████████████████████████████████████████████████████████████████████████████████████████████████████████████████████████| 1/1 [00:00<00:00, 572.99it/s]\u001b[A\n"
     ]
    },
    {
     "name": "stdout",
     "output_type": "stream",
     "text": [
      "2023-10-25 20:22:01.947589\n",
      "Backend topology: 2023-10-25 20:22:01.947589\n",
      "<qiskit.providers.models.backendproperties.BackendProperties object at 0x7f5240368e20>\n",
      "Depth: [2286, 2286, 2282, 2282, 2302, 2302]\n",
      "not na\n"
     ]
    },
    {
     "name": "stderr",
     "output_type": "stream",
     "text": [
      "\n",
      "100%|███████████████████████████████████████████████████████████████████████████████████████████████████████████████████████████████████████████████████| 1/1 [00:00<00:00, 559.84it/s]\u001b[A\n"
     ]
    },
    {
     "name": "stdout",
     "output_type": "stream",
     "text": [
      "2023-11-01 20:22:16.994279\n",
      "Backend topology: 2023-11-01 20:22:16.994279\n",
      "<qiskit.providers.models.backendproperties.BackendProperties object at 0x7f51496c67f0>\n",
      "Depth: [4710, 4710, 3014, 3014, 3012, 3012]\n",
      "SABRE\n"
     ]
    },
    {
     "name": "stderr",
     "output_type": "stream",
     "text": [
      "\n",
      "100%|███████████████████████████████████████████████████████████████████████████████████████████████████████████████████████████████████████████████████| 1/1 [00:00<00:00, 602.20it/s]\u001b[A\n"
     ]
    },
    {
     "name": "stdout",
     "output_type": "stream",
     "text": [
      "2023-07-03 20:22:56.984520\n",
      "Backend topology: 2023-07-03 20:22:56.984520\n",
      "<qiskit.providers.models.backendproperties.BackendProperties object at 0x7f5149239fa0>\n",
      "Depth: [2530, 2530, 2530, 2530, 2528, 2528]\n",
      "SABRE\n"
     ]
    },
    {
     "name": "stderr",
     "output_type": "stream",
     "text": [
      "\n",
      "100%|███████████████████████████████████████████████████████████████████████████████████████████████████████████████████████████████████████████████████| 1/1 [00:00<00:00, 522.13it/s]\u001b[A\n"
     ]
    },
    {
     "name": "stdout",
     "output_type": "stream",
     "text": [
      "2023-07-30 20:23:25.748611\n",
      "Backend topology: 2023-07-30 20:23:25.748611\n",
      "<qiskit.providers.models.backendproperties.BackendProperties object at 0x7f52402c85e0>\n",
      "Depth: [2420, 2420, 2414, 2414, 2392, 2392]\n",
      "SABRE\n"
     ]
    },
    {
     "name": "stderr",
     "output_type": "stream",
     "text": [
      "\n",
      "100%|███████████████████████████████████████████████████████████████████████████████████████████████████████████████████████████████████████████████████| 1/1 [00:00<00:00, 544.50it/s]\u001b[A\n"
     ]
    },
    {
     "name": "stdout",
     "output_type": "stream",
     "text": [
      "2023-08-04 20:23:42.479191\n",
      "Backend topology: 2023-08-04 20:23:42.479191\n",
      "<qiskit.providers.models.backendproperties.BackendProperties object at 0x7f5295925d60>\n",
      "Depth: [2530, 2530, 2544, 2544, 2502, 2502]\n",
      "SABRE\n"
     ]
    },
    {
     "name": "stderr",
     "output_type": "stream",
     "text": [
      "\n",
      "100%|███████████████████████████████████████████████████████████████████████████████████████████████████████████████████████████████████████████████████| 1/1 [00:00<00:00, 538.70it/s]\u001b[A\n"
     ]
    },
    {
     "name": "stdout",
     "output_type": "stream",
     "text": [
      "2023-09-30 20:24:00.382496\n",
      "Backend topology: 2023-09-30 20:24:00.382496\n",
      "<qiskit.providers.models.backendproperties.BackendProperties object at 0x7f5204256f70>\n",
      "Depth: [2362, 2362, 2328, 2328, 2328, 2328]\n",
      "not na\n"
     ]
    },
    {
     "name": "stderr",
     "output_type": "stream",
     "text": [
      "\n",
      "100%|███████████████████████████████████████████████████████████████████████████████████████████████████████████████████████████████████████████████████| 1/1 [00:00<00:00, 577.41it/s]\u001b[A\n"
     ]
    },
    {
     "name": "stdout",
     "output_type": "stream",
     "text": [
      "2023-10-28 20:24:27.485336\n",
      "Backend topology: 2023-10-28 20:24:27.485336\n",
      "<qiskit.providers.models.backendproperties.BackendProperties object at 0x7f52407850a0>\n",
      "Depth: [2856, 2856, 2564, 2564, 2564, 2564]\n",
      "not na\n"
     ]
    },
    {
     "name": "stderr",
     "output_type": "stream",
     "text": [
      "\n",
      "100%|███████████████████████████████████████████████████████████████████████████████████████████████████████████████████████████████████████████████████| 1/1 [00:00<00:00, 517.30it/s]\u001b[A\n",
      " 86%|██████████████████████████████████████████████████████████████████████████████████████████████████████████████████████████▉                    | 43/50 [1:10:31<22:08, 189.85s/it]"
     ]
    },
    {
     "name": "stdout",
     "output_type": "stream",
     "text": [
      "Current depth: 44\n",
      "2023-09-15 20:24:45.869198\n",
      "Backend topology: 2023-09-15 20:24:45.869198\n",
      "<qiskit.providers.models.backendproperties.BackendProperties object at 0x7f52403a3610>\n",
      "Depth: [2644, 2644, 2650, 2650, 2662, 2662]\n",
      "na\n"
     ]
    },
    {
     "name": "stderr",
     "output_type": "stream",
     "text": [
      "\n",
      "100%|███████████████████████████████████████████████████████████████████████████████████████████████████████████████████████████████████████████████████| 1/1 [00:00<00:00, 631.39it/s]\u001b[A\n"
     ]
    },
    {
     "name": "stdout",
     "output_type": "stream",
     "text": [
      "2023-09-08 20:25:03.283246\n",
      "Backend topology: 2023-09-08 20:25:03.283246\n",
      "<qiskit.providers.models.backendproperties.BackendProperties object at 0x7f5291447c10>\n",
      "Depth: [2504, 2504, 2506, 2506, 2492, 2492]\n",
      "SABRE\n"
     ]
    },
    {
     "name": "stderr",
     "output_type": "stream",
     "text": [
      "\n",
      "100%|███████████████████████████████████████████████████████████████████████████████████████████████████████████████████████████████████████████████████| 1/1 [00:00<00:00, 593.34it/s]\u001b[A\n"
     ]
    },
    {
     "name": "stdout",
     "output_type": "stream",
     "text": [
      "2023-11-12 20:25:21.025082\n",
      "Backend topology: 2023-11-12 20:25:21.025082\n",
      "<qiskit.providers.models.backendproperties.BackendProperties object at 0x7f518829c2e0>\n",
      "Depth: [2626, 2626, 2620, 2620, 2636, 2636]\n",
      "not na\n"
     ]
    },
    {
     "name": "stderr",
     "output_type": "stream",
     "text": [
      "\n",
      "100%|███████████████████████████████████████████████████████████████████████████████████████████████████████████████████████████████████████████████████| 1/1 [00:00<00:00, 370.03it/s]\u001b[A\n"
     ]
    },
    {
     "name": "stdout",
     "output_type": "stream",
     "text": [
      "2023-10-23 20:25:38.279823\n",
      "Backend topology: 2023-10-23 20:25:38.279823\n",
      "<qiskit.providers.models.backendproperties.BackendProperties object at 0x7f522431d280>\n",
      "Depth: [4084, 4084, 2324, 2324, 2324, 2324]\n",
      "not na\n"
     ]
    },
    {
     "name": "stderr",
     "output_type": "stream",
     "text": [
      "\n",
      "100%|███████████████████████████████████████████████████████████████████████████████████████████████████████████████████████████████████████████████████| 1/1 [00:00<00:00, 534.78it/s]\u001b[A\n"
     ]
    },
    {
     "name": "stdout",
     "output_type": "stream",
     "text": [
      "2023-10-11 20:26:11.748331\n",
      "Backend topology: 2023-10-11 20:26:11.748331\n",
      "<qiskit.providers.models.backendproperties.BackendProperties object at 0x7f5295cd9a00>\n",
      "Depth: [2418, 2418, 2432, 2432, 2432, 2432]\n",
      "na\n"
     ]
    },
    {
     "name": "stderr",
     "output_type": "stream",
     "text": [
      "\n",
      "100%|███████████████████████████████████████████████████████████████████████████████████████████████████████████████████████████████████████████████████| 1/1 [00:00<00:00, 368.96it/s]\u001b[A\n"
     ]
    },
    {
     "name": "stdout",
     "output_type": "stream",
     "text": [
      "2023-07-08 20:26:28.138912\n",
      "Backend topology: 2023-07-08 20:26:28.138912\n",
      "<qiskit.providers.models.backendproperties.BackendProperties object at 0x7f52245c3640>\n",
      "Depth: [2996, 2996, 2994, 2994, 2998, 2998]\n",
      "not na\n"
     ]
    },
    {
     "name": "stderr",
     "output_type": "stream",
     "text": [
      "\n",
      "100%|███████████████████████████████████████████████████████████████████████████████████████████████████████████████████████████████████████████████████| 1/1 [00:00<00:00, 368.28it/s]\u001b[A\n"
     ]
    },
    {
     "name": "stdout",
     "output_type": "stream",
     "text": [
      "2023-10-31 20:26:50.755363\n",
      "Backend topology: 2023-10-31 20:26:50.755363\n",
      "<qiskit.providers.models.backendproperties.BackendProperties object at 0x7f51c835c0d0>\n",
      "Depth: [2594, 2594, 2588, 2588, 2550, 2550]\n",
      "SABRE\n"
     ]
    },
    {
     "name": "stderr",
     "output_type": "stream",
     "text": [
      "\n",
      "100%|███████████████████████████████████████████████████████████████████████████████████████████████████████████████████████████████████████████████████| 1/1 [00:00<00:00, 390.02it/s]\u001b[A\n"
     ]
    },
    {
     "name": "stdout",
     "output_type": "stream",
     "text": [
      "2023-09-07 20:27:07.960490\n",
      "Backend topology: 2023-09-07 20:27:07.960490\n",
      "<qiskit.providers.models.backendproperties.BackendProperties object at 0x7f52645031c0>\n",
      "Depth: [3528, 3528, 2786, 2786, 2790, 2790]\n",
      "not na\n"
     ]
    },
    {
     "name": "stderr",
     "output_type": "stream",
     "text": [
      "\n",
      "100%|███████████████████████████████████████████████████████████████████████████████████████████████████████████████████████████████████████████████████| 1/1 [00:00<00:00, 558.12it/s]\u001b[A\n"
     ]
    },
    {
     "name": "stdout",
     "output_type": "stream",
     "text": [
      "2023-09-26 20:27:29.404685\n",
      "Backend topology: 2023-09-26 20:27:29.404685\n",
      "<qiskit.providers.models.backendproperties.BackendProperties object at 0x7f524054ba90>\n",
      "Depth: [2936, 2936, 2628, 2628, 2628, 2628]\n",
      "not na\n"
     ]
    },
    {
     "name": "stderr",
     "output_type": "stream",
     "text": [
      "\n",
      "100%|███████████████████████████████████████████████████████████████████████████████████████████████████████████████████████████████████████████████████| 1/1 [00:00<00:00, 583.84it/s]\u001b[A\n"
     ]
    },
    {
     "name": "stdout",
     "output_type": "stream",
     "text": [
      "2023-10-10 20:27:50.756348\n",
      "Backend topology: 2023-10-10 20:27:50.756348\n",
      "<qiskit.providers.models.backendproperties.BackendProperties object at 0x7f522468de20>\n",
      "Depth: [2674, 2674, 2676, 2676, 2670, 2670]\n",
      "SABRE\n"
     ]
    },
    {
     "name": "stderr",
     "output_type": "stream",
     "text": [
      "\n",
      "100%|███████████████████████████████████████████████████████████████████████████████████████████████████████████████████████████████████████████████████| 1/1 [00:00<00:00, 610.61it/s]\u001b[A\n",
      " 88%|█████████████████████████████████████████████████████████████████████████████████████████████████████████████████████████████▊                 | 44/50 [1:13:55<19:24, 194.09s/it]"
     ]
    },
    {
     "name": "stdout",
     "output_type": "stream",
     "text": [
      "Current depth: 45\n",
      "2023-08-29 20:28:09.853214\n",
      "Backend topology: 2023-08-29 20:28:09.853214\n",
      "<qiskit.providers.models.backendproperties.BackendProperties object at 0x7f520459f910>\n",
      "Depth: [2930, 2930, 2918, 2918, 2918, 2918]\n",
      "not na\n"
     ]
    },
    {
     "name": "stderr",
     "output_type": "stream",
     "text": [
      "\n",
      "100%|███████████████████████████████████████████████████████████████████████████████████████████████████████████████████████████████████████████████████| 1/1 [00:00<00:00, 486.69it/s]\u001b[A\n"
     ]
    },
    {
     "name": "stdout",
     "output_type": "stream",
     "text": [
      "2023-09-16 20:28:31.808277\n",
      "Backend topology: 2023-09-16 20:28:31.808277\n",
      "<qiskit.providers.models.backendproperties.BackendProperties object at 0x7f52647d0e80>\n",
      "Depth: [2476, 2476, 2408, 2408, 2408, 2408]\n",
      "not na\n"
     ]
    },
    {
     "name": "stderr",
     "output_type": "stream",
     "text": [
      "\n",
      "100%|███████████████████████████████████████████████████████████████████████████████████████████████████████████████████████████████████████████████████| 1/1 [00:00<00:00, 528.32it/s]\u001b[A\n"
     ]
    },
    {
     "name": "stdout",
     "output_type": "stream",
     "text": [
      "2023-09-18 20:28:55.736803\n",
      "Backend topology: 2023-09-18 20:28:55.736803\n",
      "<qiskit.providers.models.backendproperties.BackendProperties object at 0x7f522422a670>\n",
      "Depth: [3196, 3196, 2768, 2768, 2770, 2770]\n",
      "not na\n"
     ]
    },
    {
     "name": "stderr",
     "output_type": "stream",
     "text": [
      "\n",
      "100%|███████████████████████████████████████████████████████████████████████████████████████████████████████████████████████████████████████████████████| 1/1 [00:00<00:00, 560.44it/s]\u001b[A\n"
     ]
    },
    {
     "name": "stdout",
     "output_type": "stream",
     "text": [
      "2023-10-10 20:29:17.308511\n",
      "Backend topology: 2023-10-10 20:29:17.308511\n",
      "<qiskit.providers.models.backendproperties.BackendProperties object at 0x7f5292cd1af0>\n",
      "Depth: [2514, 2514, 2542, 2542, 2508, 2508]\n",
      "SABRE\n"
     ]
    },
    {
     "name": "stderr",
     "output_type": "stream",
     "text": [
      "\n",
      "100%|███████████████████████████████████████████████████████████████████████████████████████████████████████████████████████████████████████████████████| 1/1 [00:00<00:00, 596.04it/s]\u001b[A\n"
     ]
    },
    {
     "name": "stdout",
     "output_type": "stream",
     "text": [
      "2023-11-13 20:29:35.425744\n",
      "Backend topology: 2023-11-13 20:29:35.425744\n",
      "<qiskit.providers.models.backendproperties.BackendProperties object at 0x7f51c86c0160>\n",
      "Depth: [2730, 2730, 2348, 2348, 2348, 2348]\n",
      "not na\n"
     ]
    },
    {
     "name": "stderr",
     "output_type": "stream",
     "text": [
      "\n",
      "100%|███████████████████████████████████████████████████████████████████████████████████████████████████████████████████████████████████████████████████| 1/1 [00:00<00:00, 515.59it/s]\u001b[A\n"
     ]
    },
    {
     "name": "stdout",
     "output_type": "stream",
     "text": [
      "2023-11-23 20:29:53.416672\n",
      "Backend topology: 2023-11-23 20:29:53.416672\n",
      "<qiskit.providers.models.backendproperties.BackendProperties object at 0x7f51c80f1640>\n",
      "Depth: [2774, 2774, 2738, 2738, 2732, 2732]\n",
      "SABRE\n"
     ]
    },
    {
     "name": "stderr",
     "output_type": "stream",
     "text": [
      "\n",
      "100%|███████████████████████████████████████████████████████████████████████████████████████████████████████████████████████████████████████████████████| 1/1 [00:00<00:00, 565.42it/s]\u001b[A\n"
     ]
    },
    {
     "name": "stdout",
     "output_type": "stream",
     "text": [
      "2023-10-24 20:30:16.404687\n",
      "Backend topology: 2023-10-24 20:30:16.404687\n",
      "<qiskit.providers.models.backendproperties.BackendProperties object at 0x7f5168211100>\n",
      "Depth: [2850, 2850, 2770, 2770, 2766, 2766]\n",
      "SABRE\n"
     ]
    },
    {
     "name": "stderr",
     "output_type": "stream",
     "text": [
      "\n",
      "100%|███████████████████████████████████████████████████████████████████████████████████████████████████████████████████████████████████████████████████| 1/1 [00:00<00:00, 542.46it/s]\u001b[A\n"
     ]
    },
    {
     "name": "stdout",
     "output_type": "stream",
     "text": [
      "2023-08-16 20:30:36.641933\n",
      "Backend topology: 2023-08-16 20:30:36.641933\n",
      "<qiskit.providers.models.backendproperties.BackendProperties object at 0x7f52930f19a0>\n",
      "Depth: [2606, 2606, 2606, 2606, 2612, 2612]\n",
      "na\n"
     ]
    },
    {
     "name": "stderr",
     "output_type": "stream",
     "text": [
      "\n",
      "100%|███████████████████████████████████████████████████████████████████████████████████████████████████████████████████████████████████████████████████| 1/1 [00:00<00:00, 594.60it/s]\u001b[A\n"
     ]
    },
    {
     "name": "stdout",
     "output_type": "stream",
     "text": [
      "2023-09-09 20:30:54.314429\n",
      "Backend topology: 2023-09-09 20:30:54.314429\n",
      "<qiskit.providers.models.backendproperties.BackendProperties object at 0x7f529411b910>\n",
      "Depth: [2464, 2464, 2464, 2464, 2462, 2462]\n",
      "SABRE\n"
     ]
    },
    {
     "name": "stderr",
     "output_type": "stream",
     "text": [
      "\n",
      "100%|███████████████████████████████████████████████████████████████████████████████████████████████████████████████████████████████████████████████████| 1/1 [00:00<00:00, 216.31it/s]\u001b[A\n"
     ]
    },
    {
     "name": "stdout",
     "output_type": "stream",
     "text": [
      "2023-07-15 20:31:11.325907\n",
      "Backend topology: 2023-07-15 20:31:11.325907\n",
      "<qiskit.providers.models.backendproperties.BackendProperties object at 0x7f51687d62b0>\n",
      "Depth: [2580, 2580, 2598, 2598, 2580, 2580]\n",
      "na\n"
     ]
    },
    {
     "name": "stderr",
     "output_type": "stream",
     "text": [
      "\n",
      "100%|███████████████████████████████████████████████████████████████████████████████████████████████████████████████████████████████████████████████████| 1/1 [00:00<00:00, 384.41it/s]\u001b[A\n",
      " 90%|████████████████████████████████████████████████████████████████████████████████████████████████████████████████████████████████▋              | 45/50 [1:17:14<16:17, 195.50s/it]"
     ]
    },
    {
     "name": "stdout",
     "output_type": "stream",
     "text": [
      "Current depth: 46\n",
      "2023-10-16 20:31:28.634119\n",
      "Backend topology: 2023-10-16 20:31:28.634119\n",
      "<qiskit.providers.models.backendproperties.BackendProperties object at 0x7f5240785970>\n",
      "Depth: [2964, 2964, 2960, 2960, 2958, 2958]\n",
      "SABRE\n"
     ]
    },
    {
     "name": "stderr",
     "output_type": "stream",
     "text": [
      "\n",
      "100%|███████████████████████████████████████████████████████████████████████████████████████████████████████████████████████████████████████████████████| 1/1 [00:00<00:00, 596.46it/s]\u001b[A\n"
     ]
    },
    {
     "name": "stdout",
     "output_type": "stream",
     "text": [
      "2023-08-18 20:31:49.399995\n",
      "Backend topology: 2023-08-18 20:31:49.399995\n",
      "<qiskit.providers.models.backendproperties.BackendProperties object at 0x7f5294091970>\n",
      "Depth: [3104, 3104, 2746, 2746, 2754, 2754]\n",
      "not na\n"
     ]
    },
    {
     "name": "stderr",
     "output_type": "stream",
     "text": [
      "\n",
      "100%|███████████████████████████████████████████████████████████████████████████████████████████████████████████████████████████████████████████████████| 1/1 [00:00<00:00, 619.27it/s]\u001b[A\n"
     ]
    },
    {
     "name": "stdout",
     "output_type": "stream",
     "text": [
      "2023-11-26 20:32:12.510430\n",
      "Backend topology: 2023-11-26 20:32:12.510430\n",
      "<qiskit.providers.models.backendproperties.BackendProperties object at 0x7f528f0bc2e0>\n",
      "Depth: [2682, 2682, 2656, 2656, 2662, 2662]\n",
      "not na\n"
     ]
    },
    {
     "name": "stderr",
     "output_type": "stream",
     "text": [
      "\n",
      "100%|███████████████████████████████████████████████████████████████████████████████████████████████████████████████████████████████████████████████████| 1/1 [00:00<00:00, 553.12it/s]\u001b[A\n"
     ]
    },
    {
     "name": "stdout",
     "output_type": "stream",
     "text": [
      "2023-09-09 20:32:31.832377\n",
      "Backend topology: 2023-09-09 20:32:31.832377\n",
      "<qiskit.providers.models.backendproperties.BackendProperties object at 0x7f5188045d30>\n",
      "Depth: [2776, 2776, 2780, 2780, 2774, 2774]\n",
      "SABRE\n"
     ]
    },
    {
     "name": "stderr",
     "output_type": "stream",
     "text": [
      "\n",
      "100%|███████████████████████████████████████████████████████████████████████████████████████████████████████████████████████████████████████████████████| 1/1 [00:00<00:00, 613.20it/s]\u001b[A\n"
     ]
    },
    {
     "name": "stdout",
     "output_type": "stream",
     "text": [
      "2023-09-18 20:32:50.705123\n",
      "Backend topology: 2023-09-18 20:32:50.705123\n",
      "<qiskit.providers.models.backendproperties.BackendProperties object at 0x7f528c0c0820>\n",
      "Depth: [3344, 3344, 2852, 2852, 2852, 2852]\n",
      "not na\n"
     ]
    },
    {
     "name": "stderr",
     "output_type": "stream",
     "text": [
      "\n",
      "100%|███████████████████████████████████████████████████████████████████████████████████████████████████████████████████████████████████████████████████| 1/1 [00:00<00:00, 560.74it/s]\u001b[A\n"
     ]
    },
    {
     "name": "stdout",
     "output_type": "stream",
     "text": [
      "2023-08-07 20:33:11.245434\n",
      "Backend topology: 2023-08-07 20:33:11.245434\n",
      "<qiskit.providers.models.backendproperties.BackendProperties object at 0x7f5295dfae50>\n",
      "Depth: [2372, 2372, 2376, 2376, 2342, 2342]\n",
      "SABRE\n"
     ]
    },
    {
     "name": "stderr",
     "output_type": "stream",
     "text": [
      "\n",
      "100%|███████████████████████████████████████████████████████████████████████████████████████████████████████████████████████████████████████████████████| 1/1 [00:00<00:00, 584.08it/s]\u001b[A\n"
     ]
    },
    {
     "name": "stdout",
     "output_type": "stream",
     "text": [
      "2023-07-09 20:33:28.656745\n",
      "Backend topology: 2023-07-09 20:33:28.656745\n",
      "<qiskit.providers.models.backendproperties.BackendProperties object at 0x7f518851e370>\n"
     ]
    },
    {
     "name": "stderr",
     "output_type": "stream",
     "text": [
      "/home/ritu/anaconda3/envs/dnn_for_qubit_mapping/lib/python3.8/site-packages/qiskit/transpiler/runningpassmanager.py:166: UserWarning: Resynthesized \n",
      "\n",
      "<qiskit.circuit.library.standard_gates.x.XGate object at 0x7f51a85a0d00>\n",
      "<qiskit.circuit.library.standard_gates.sx.SXGate object at 0x7f5149047670>\n",
      "\n",
      "and got\n",
      "\n",
      "<qiskit.circuit.library.standard_gates.rz.RZGate object at 0x7f512dafc2b0>\n",
      "<qiskit.circuit.library.standard_gates.sx.SXGate object at 0x7f512dafc9d0>\n",
      "<qiskit.circuit.library.standard_gates.rz.RZGate object at 0x7f512dafcaf0>\n",
      "\n",
      "but the original was native (for ['id', 'rz', 'sx', 'x', 'cx', 'reset']) and the new value is longer.  This indicates an efficiency bug in synthesis.  Please report it by opening an issue here: https://github.com/Qiskit/qiskit-terra/issues/new/choose\n",
      "  new_dag = pass_.run(dag)\n",
      "/home/ritu/anaconda3/envs/dnn_for_qubit_mapping/lib/python3.8/site-packages/qiskit/transpiler/runningpassmanager.py:166: UserWarning: Resynthesized \n",
      "\n",
      "<qiskit.circuit.library.standard_gates.x.XGate object at 0x7f52643dd820>\n",
      "<qiskit.circuit.library.standard_gates.sx.SXGate object at 0x7f512db8f340>\n",
      "\n",
      "and got\n",
      "\n",
      "<qiskit.circuit.library.standard_gates.rz.RZGate object at 0x7f5148af6880>\n",
      "<qiskit.circuit.library.standard_gates.sx.SXGate object at 0x7f5148af6700>\n",
      "<qiskit.circuit.library.standard_gates.rz.RZGate object at 0x7f5148af6970>\n",
      "\n",
      "but the original was native (for ['id', 'rz', 'sx', 'x', 'cx', 'reset']) and the new value is longer.  This indicates an efficiency bug in synthesis.  Please report it by opening an issue here: https://github.com/Qiskit/qiskit-terra/issues/new/choose\n",
      "  new_dag = pass_.run(dag)\n",
      "/home/ritu/anaconda3/envs/dnn_for_qubit_mapping/lib/python3.8/site-packages/qiskit/transpiler/runningpassmanager.py:166: UserWarning: Resynthesized \n",
      "\n",
      "<qiskit.circuit.library.standard_gates.x.XGate object at 0x7f51a85a0d00>\n",
      "<qiskit.circuit.library.standard_gates.sx.SXGate object at 0x7f5149047670>\n",
      "\n",
      "and got\n",
      "\n",
      "<qiskit.circuit.library.standard_gates.rz.RZGate object at 0x7f51a877e5e0>\n",
      "<qiskit.circuit.library.standard_gates.sx.SXGate object at 0x7f51a877ea30>\n",
      "<qiskit.circuit.library.standard_gates.rz.RZGate object at 0x7f51a877ebe0>\n",
      "\n",
      "but the original was native (for ['id', 'rz', 'sx', 'x', 'cx', 'reset']) and the new value is longer.  This indicates an efficiency bug in synthesis.  Please report it by opening an issue here: https://github.com/Qiskit/qiskit-terra/issues/new/choose\n",
      "  new_dag = pass_.run(dag)\n",
      "/home/ritu/anaconda3/envs/dnn_for_qubit_mapping/lib/python3.8/site-packages/qiskit/transpiler/runningpassmanager.py:166: UserWarning: Resynthesized \n",
      "\n",
      "<qiskit.circuit.library.standard_gates.x.XGate object at 0x7f52643dd820>\n",
      "<qiskit.circuit.library.standard_gates.sx.SXGate object at 0x7f512db8f340>\n",
      "\n",
      "and got\n",
      "\n",
      "<qiskit.circuit.library.standard_gates.rz.RZGate object at 0x7f51a84685b0>\n",
      "<qiskit.circuit.library.standard_gates.sx.SXGate object at 0x7f51a8468760>\n",
      "<qiskit.circuit.library.standard_gates.rz.RZGate object at 0x7f51a8468be0>\n",
      "\n",
      "but the original was native (for ['id', 'rz', 'sx', 'x', 'cx', 'reset']) and the new value is longer.  This indicates an efficiency bug in synthesis.  Please report it by opening an issue here: https://github.com/Qiskit/qiskit-terra/issues/new/choose\n",
      "  new_dag = pass_.run(dag)\n",
      "/home/ritu/anaconda3/envs/dnn_for_qubit_mapping/lib/python3.8/site-packages/qiskit/transpiler/runningpassmanager.py:166: UserWarning: Resynthesized \n",
      "\n",
      "<qiskit.circuit.library.standard_gates.x.XGate object at 0x7f51a85a0d00>\n",
      "<qiskit.circuit.library.standard_gates.sx.SXGate object at 0x7f5149047670>\n",
      "\n",
      "and got\n",
      "\n",
      "<qiskit.circuit.library.standard_gates.rz.RZGate object at 0x7f52640cdd90>\n",
      "<qiskit.circuit.library.standard_gates.sx.SXGate object at 0x7f512d7bd550>\n",
      "<qiskit.circuit.library.standard_gates.rz.RZGate object at 0x7f5168582640>\n",
      "\n",
      "but the original was native (for ['id', 'rz', 'sx', 'x', 'cx', 'reset']) and the new value is longer.  This indicates an efficiency bug in synthesis.  Please report it by opening an issue here: https://github.com/Qiskit/qiskit-terra/issues/new/choose\n",
      "  new_dag = pass_.run(dag)\n",
      "/home/ritu/anaconda3/envs/dnn_for_qubit_mapping/lib/python3.8/site-packages/qiskit/transpiler/runningpassmanager.py:166: UserWarning: Resynthesized \n",
      "\n",
      "<qiskit.circuit.library.standard_gates.x.XGate object at 0x7f52643dd820>\n",
      "<qiskit.circuit.library.standard_gates.sx.SXGate object at 0x7f512db8f340>\n",
      "\n",
      "and got\n",
      "\n",
      "<qiskit.circuit.library.standard_gates.rz.RZGate object at 0x7f51c809f9a0>\n",
      "<qiskit.circuit.library.standard_gates.sx.SXGate object at 0x7f51c809fac0>\n",
      "<qiskit.circuit.library.standard_gates.rz.RZGate object at 0x7f51c809f520>\n",
      "\n",
      "but the original was native (for ['id', 'rz', 'sx', 'x', 'cx', 'reset']) and the new value is longer.  This indicates an efficiency bug in synthesis.  Please report it by opening an issue here: https://github.com/Qiskit/qiskit-terra/issues/new/choose\n",
      "  new_dag = pass_.run(dag)\n",
      "/home/ritu/anaconda3/envs/dnn_for_qubit_mapping/lib/python3.8/site-packages/qiskit/transpiler/runningpassmanager.py:166: UserWarning: Resynthesized \n",
      "\n",
      "<qiskit.circuit.library.standard_gates.x.XGate object at 0x7f51a85a0d00>\n",
      "<qiskit.circuit.library.standard_gates.sx.SXGate object at 0x7f5149047670>\n",
      "\n",
      "and got\n",
      "\n",
      "<qiskit.circuit.library.standard_gates.rz.RZGate object at 0x7f51e8462d30>\n",
      "<qiskit.circuit.library.standard_gates.sx.SXGate object at 0x7f5148a9f580>\n",
      "<qiskit.circuit.library.standard_gates.rz.RZGate object at 0x7f5148a9fa90>\n",
      "\n",
      "but the original was native (for ['id', 'rz', 'sx', 'x', 'cx', 'reset']) and the new value is longer.  This indicates an efficiency bug in synthesis.  Please report it by opening an issue here: https://github.com/Qiskit/qiskit-terra/issues/new/choose\n",
      "  new_dag = pass_.run(dag)\n",
      "/home/ritu/anaconda3/envs/dnn_for_qubit_mapping/lib/python3.8/site-packages/qiskit/transpiler/runningpassmanager.py:166: UserWarning: Resynthesized \n",
      "\n",
      "<qiskit.circuit.library.standard_gates.x.XGate object at 0x7f52643dd820>\n",
      "<qiskit.circuit.library.standard_gates.sx.SXGate object at 0x7f512db8f340>\n",
      "\n",
      "and got\n",
      "\n",
      "<qiskit.circuit.library.standard_gates.rz.RZGate object at 0x7f51a8526d60>\n",
      "<qiskit.circuit.library.standard_gates.sx.SXGate object at 0x7f51a8526040>\n",
      "<qiskit.circuit.library.standard_gates.rz.RZGate object at 0x7f51a8526f70>\n",
      "\n",
      "but the original was native (for ['id', 'rz', 'sx', 'x', 'cx', 'reset']) and the new value is longer.  This indicates an efficiency bug in synthesis.  Please report it by opening an issue here: https://github.com/Qiskit/qiskit-terra/issues/new/choose\n",
      "  new_dag = pass_.run(dag)\n"
     ]
    },
    {
     "name": "stdout",
     "output_type": "stream",
     "text": [
      "Depth: [2624, 2624, 2624, 2624, 2632, 2632]\n",
      "na\n"
     ]
    },
    {
     "name": "stderr",
     "output_type": "stream",
     "text": [
      "\n",
      "100%|███████████████████████████████████████████████████████████████████████████████████████████████████████████████████████████████████████████████████| 1/1 [00:00<00:00, 382.90it/s]\u001b[A\n"
     ]
    },
    {
     "name": "stdout",
     "output_type": "stream",
     "text": [
      "2023-10-18 20:33:48.417574\n",
      "Backend topology: 2023-10-18 20:33:48.417574\n",
      "<qiskit.providers.models.backendproperties.BackendProperties object at 0x7f52645916d0>\n",
      "Depth: [3158, 3158, 3126, 3126, 3120, 3120]\n",
      "SABRE\n"
     ]
    },
    {
     "name": "stderr",
     "output_type": "stream",
     "text": [
      "\n",
      "100%|███████████████████████████████████████████████████████████████████████████████████████████████████████████████████████████████████████████████████| 1/1 [00:00<00:00, 611.15it/s]\u001b[A\n"
     ]
    },
    {
     "name": "stdout",
     "output_type": "stream",
     "text": [
      "2023-09-15 20:34:09.467821\n",
      "Backend topology: 2023-09-15 20:34:09.467821\n",
      "<qiskit.providers.models.backendproperties.BackendProperties object at 0x7f5224193b20>\n",
      "Depth: [3210, 3210, 2996, 2996, 2998, 2998]\n",
      "not na\n"
     ]
    },
    {
     "name": "stderr",
     "output_type": "stream",
     "text": [
      "\n",
      "100%|███████████████████████████████████████████████████████████████████████████████████████████████████████████████████████████████████████████████████| 1/1 [00:00<00:00, 401.71it/s]\u001b[A\n"
     ]
    },
    {
     "name": "stdout",
     "output_type": "stream",
     "text": [
      "2023-07-03 20:34:32.031285\n",
      "Backend topology: 2023-07-03 20:34:32.031285\n",
      "<qiskit.providers.models.backendproperties.BackendProperties object at 0x7f528ed58700>\n",
      "Depth: [3036, 3036, 3018, 3018, 3036, 3036]\n",
      "not na\n"
     ]
    },
    {
     "name": "stderr",
     "output_type": "stream",
     "text": [
      "\n",
      "100%|███████████████████████████████████████████████████████████████████████████████████████████████████████████████████████████████████████████████████| 1/1 [00:00<00:00, 388.83it/s]\u001b[A\n",
      " 92%|███████████████████████████████████████████████████████████████████████████████████████████████████████████████████████████████████▌           | 46/50 [1:20:36<13:09, 197.48s/it]"
     ]
    },
    {
     "name": "stdout",
     "output_type": "stream",
     "text": [
      "Current depth: 47\n",
      "2023-08-26 20:34:50.738710\n",
      "Backend topology: 2023-08-26 20:34:50.738710\n",
      "<qiskit.providers.models.backendproperties.BackendProperties object at 0x7f520435f6a0>\n",
      "Depth: [3236, 3236, 2592, 2592, 2592, 2592]\n",
      "not na\n"
     ]
    },
    {
     "name": "stderr",
     "output_type": "stream",
     "text": [
      "\n",
      "100%|███████████████████████████████████████████████████████████████████████████████████████████████████████████████████████████████████████████████████| 1/1 [00:00<00:00, 581.25it/s]\u001b[A\n"
     ]
    },
    {
     "name": "stdout",
     "output_type": "stream",
     "text": [
      "2023-11-05 20:35:09.054625\n",
      "Backend topology: 2023-11-05 20:35:09.054625\n",
      "<qiskit.providers.models.backendproperties.BackendProperties object at 0x7f52402c85e0>\n",
      "Depth: [2732, 2732, 2676, 2676, 2674, 2674]\n",
      "SABRE\n"
     ]
    },
    {
     "name": "stderr",
     "output_type": "stream",
     "text": [
      "\n",
      "100%|███████████████████████████████████████████████████████████████████████████████████████████████████████████████████████████████████████████████████| 1/1 [00:00<00:00, 512.75it/s]\u001b[A\n"
     ]
    },
    {
     "name": "stdout",
     "output_type": "stream",
     "text": [
      "2023-10-23 20:35:27.101078\n",
      "Backend topology: 2023-10-23 20:35:27.101078\n",
      "<qiskit.providers.models.backendproperties.BackendProperties object at 0x7f51687bfc40>\n",
      "Depth: [3020, 3020, 3008, 3008, 3016, 3016]\n",
      "not na\n"
     ]
    },
    {
     "name": "stderr",
     "output_type": "stream",
     "text": [
      "\n",
      "100%|███████████████████████████████████████████████████████████████████████████████████████████████████████████████████████████████████████████████████| 1/1 [00:00<00:00, 406.19it/s]\u001b[A\n"
     ]
    },
    {
     "name": "stdout",
     "output_type": "stream",
     "text": [
      "2023-10-27 20:35:47.793025\n",
      "Backend topology: 2023-10-27 20:35:47.793025\n",
      "<qiskit.providers.models.backendproperties.BackendProperties object at 0x7f5240432be0>\n",
      "Depth: [3958, 3958, 3106, 3106, 3102, 3102]\n",
      "SABRE\n"
     ]
    },
    {
     "name": "stderr",
     "output_type": "stream",
     "text": [
      "\n",
      "100%|███████████████████████████████████████████████████████████████████████████████████████████████████████████████████████████████████████████████████| 1/1 [00:00<00:00, 576.14it/s]\u001b[A\n"
     ]
    },
    {
     "name": "stdout",
     "output_type": "stream",
     "text": [
      "2023-10-19 20:36:12.156133\n",
      "Backend topology: 2023-10-19 20:36:12.156133\n",
      "<qiskit.providers.models.backendproperties.BackendProperties object at 0x7f52405b4a30>\n",
      "Depth: [3378, 3378, 3012, 3012, 3016, 3016]\n",
      "not na\n"
     ]
    },
    {
     "name": "stderr",
     "output_type": "stream",
     "text": [
      "\n",
      "100%|███████████████████████████████████████████████████████████████████████████████████████████████████████████████████████████████████████████████████| 1/1 [00:00<00:00, 596.88it/s]\u001b[A\n"
     ]
    },
    {
     "name": "stdout",
     "output_type": "stream",
     "text": [
      "2023-10-23 20:36:34.144823\n",
      "Backend topology: 2023-10-23 20:36:34.144823\n",
      "<qiskit.providers.models.backendproperties.BackendProperties object at 0x7f52645918e0>\n",
      "Depth: [2746, 2746, 2738, 2738, 2708, 2708]\n",
      "SABRE\n"
     ]
    },
    {
     "name": "stderr",
     "output_type": "stream",
     "text": [
      "\n",
      "100%|███████████████████████████████████████████████████████████████████████████████████████████████████████████████████████████████████████████████████| 1/1 [00:00<00:00, 585.31it/s]\u001b[A\n"
     ]
    },
    {
     "name": "stdout",
     "output_type": "stream",
     "text": [
      "2023-08-03 20:36:55.004336\n",
      "Backend topology: 2023-08-03 20:36:55.004336\n",
      "<qiskit.providers.models.backendproperties.BackendProperties object at 0x7f528003f9a0>\n",
      "Depth: [2454, 2454, 2442, 2442, 2464, 2464]\n",
      "not na\n"
     ]
    },
    {
     "name": "stderr",
     "output_type": "stream",
     "text": [
      "\n",
      "100%|███████████████████████████████████████████████████████████████████████████████████████████████████████████████████████████████████████████████████| 1/1 [00:00<00:00, 596.71it/s]\u001b[A\n"
     ]
    },
    {
     "name": "stdout",
     "output_type": "stream",
     "text": [
      "2023-07-08 20:37:12.112945\n",
      "Backend topology: 2023-07-08 20:37:12.112945\n",
      "<qiskit.providers.models.backendproperties.BackendProperties object at 0x7f528c024bb0>\n"
     ]
    },
    {
     "name": "stderr",
     "output_type": "stream",
     "text": [
      "/home/ritu/anaconda3/envs/dnn_for_qubit_mapping/lib/python3.8/site-packages/qiskit/transpiler/runningpassmanager.py:166: UserWarning: Resynthesized \n",
      "\n",
      "<qiskit.circuit.library.standard_gates.x.XGate object at 0x7f51488c5250>\n",
      "<qiskit.circuit.library.standard_gates.sx.SXGate object at 0x7f51c8113250>\n",
      "\n",
      "and got\n",
      "\n",
      "<qiskit.circuit.library.standard_gates.rz.RZGate object at 0x7f528fc76ee0>\n",
      "<qiskit.circuit.library.standard_gates.sx.SXGate object at 0x7f528fc76a30>\n",
      "<qiskit.circuit.library.standard_gates.rz.RZGate object at 0x7f528fc76eb0>\n",
      "\n",
      "but the original was native (for ['id', 'rz', 'sx', 'x', 'cx', 'reset']) and the new value is longer.  This indicates an efficiency bug in synthesis.  Please report it by opening an issue here: https://github.com/Qiskit/qiskit-terra/issues/new/choose\n",
      "  new_dag = pass_.run(dag)\n",
      "/home/ritu/anaconda3/envs/dnn_for_qubit_mapping/lib/python3.8/site-packages/qiskit/transpiler/runningpassmanager.py:166: UserWarning: Resynthesized \n",
      "\n",
      "<qiskit.circuit.library.standard_gates.x.XGate object at 0x7f51488c5250>\n",
      "<qiskit.circuit.library.standard_gates.sx.SXGate object at 0x7f51c8113250>\n",
      "\n",
      "and got\n",
      "\n",
      "<qiskit.circuit.library.standard_gates.rz.RZGate object at 0x7f528f0d3f40>\n",
      "<qiskit.circuit.library.standard_gates.sx.SXGate object at 0x7f528f0d3700>\n",
      "<qiskit.circuit.library.standard_gates.rz.RZGate object at 0x7f51e8224b50>\n",
      "\n",
      "but the original was native (for ['id', 'rz', 'sx', 'x', 'cx', 'reset']) and the new value is longer.  This indicates an efficiency bug in synthesis.  Please report it by opening an issue here: https://github.com/Qiskit/qiskit-terra/issues/new/choose\n",
      "  new_dag = pass_.run(dag)\n",
      "/home/ritu/anaconda3/envs/dnn_for_qubit_mapping/lib/python3.8/site-packages/qiskit/transpiler/runningpassmanager.py:166: UserWarning: Resynthesized \n",
      "\n",
      "<qiskit.circuit.library.standard_gates.x.XGate object at 0x7f51488c5250>\n",
      "<qiskit.circuit.library.standard_gates.sx.SXGate object at 0x7f51c8113250>\n",
      "\n",
      "and got\n",
      "\n",
      "<qiskit.circuit.library.standard_gates.rz.RZGate object at 0x7f51c86663a0>\n",
      "<qiskit.circuit.library.standard_gates.sx.SXGate object at 0x7f51c86667c0>\n",
      "<qiskit.circuit.library.standard_gates.rz.RZGate object at 0x7f51c8666550>\n",
      "\n",
      "but the original was native (for ['id', 'rz', 'sx', 'x', 'cx', 'reset']) and the new value is longer.  This indicates an efficiency bug in synthesis.  Please report it by opening an issue here: https://github.com/Qiskit/qiskit-terra/issues/new/choose\n",
      "  new_dag = pass_.run(dag)\n",
      "/home/ritu/anaconda3/envs/dnn_for_qubit_mapping/lib/python3.8/site-packages/qiskit/transpiler/runningpassmanager.py:166: UserWarning: Resynthesized \n",
      "\n",
      "<qiskit.circuit.library.standard_gates.x.XGate object at 0x7f52241106a0>\n",
      "<qiskit.circuit.library.standard_gates.sx.SXGate object at 0x7f512da4c430>\n",
      "\n",
      "and got\n",
      "\n",
      "<qiskit.circuit.library.standard_gates.rz.RZGate object at 0x7f51a85f8610>\n",
      "<qiskit.circuit.library.standard_gates.sx.SXGate object at 0x7f51a85f8820>\n",
      "<qiskit.circuit.library.standard_gates.rz.RZGate object at 0x7f51a85f8130>\n",
      "\n",
      "but the original was native (for ['id', 'rz', 'sx', 'x', 'cx', 'reset']) and the new value is longer.  This indicates an efficiency bug in synthesis.  Please report it by opening an issue here: https://github.com/Qiskit/qiskit-terra/issues/new/choose\n",
      "  new_dag = pass_.run(dag)\n",
      "/home/ritu/anaconda3/envs/dnn_for_qubit_mapping/lib/python3.8/site-packages/qiskit/transpiler/runningpassmanager.py:166: UserWarning: Resynthesized \n",
      "\n",
      "<qiskit.circuit.library.standard_gates.x.XGate object at 0x7f52241106a0>\n",
      "<qiskit.circuit.library.standard_gates.sx.SXGate object at 0x7f512da4c430>\n",
      "\n",
      "and got\n",
      "\n",
      "<qiskit.circuit.library.standard_gates.rz.RZGate object at 0x7f528c083730>\n",
      "<qiskit.circuit.library.standard_gates.sx.SXGate object at 0x7f528c083df0>\n",
      "<qiskit.circuit.library.standard_gates.rz.RZGate object at 0x7f528c083c40>\n",
      "\n",
      "but the original was native (for ['id', 'rz', 'sx', 'x', 'cx', 'reset']) and the new value is longer.  This indicates an efficiency bug in synthesis.  Please report it by opening an issue here: https://github.com/Qiskit/qiskit-terra/issues/new/choose\n",
      "  new_dag = pass_.run(dag)\n",
      "/home/ritu/anaconda3/envs/dnn_for_qubit_mapping/lib/python3.8/site-packages/qiskit/transpiler/runningpassmanager.py:166: UserWarning: Resynthesized \n",
      "\n",
      "<qiskit.circuit.library.standard_gates.x.XGate object at 0x7f52241106a0>\n",
      "<qiskit.circuit.library.standard_gates.sx.SXGate object at 0x7f512da4c430>\n",
      "\n",
      "and got\n",
      "\n",
      "<qiskit.circuit.library.standard_gates.rz.RZGate object at 0x7f5264674b50>\n",
      "<qiskit.circuit.library.standard_gates.sx.SXGate object at 0x7f5264674850>\n",
      "<qiskit.circuit.library.standard_gates.rz.RZGate object at 0x7f512de6f370>\n",
      "\n",
      "but the original was native (for ['id', 'rz', 'sx', 'x', 'cx', 'reset']) and the new value is longer.  This indicates an efficiency bug in synthesis.  Please report it by opening an issue here: https://github.com/Qiskit/qiskit-terra/issues/new/choose\n",
      "  new_dag = pass_.run(dag)\n"
     ]
    },
    {
     "name": "stdout",
     "output_type": "stream",
     "text": [
      "Depth: [2910, 2910, 2916, 2916, 2924, 2924]\n",
      "na\n"
     ]
    },
    {
     "name": "stderr",
     "output_type": "stream",
     "text": [
      "\n",
      "100%|███████████████████████████████████████████████████████████████████████████████████████████████████████████████████████████████████████████████████| 1/1 [00:00<00:00, 406.27it/s]\u001b[A\n"
     ]
    },
    {
     "name": "stdout",
     "output_type": "stream",
     "text": [
      "2023-07-28 20:37:33.129681\n",
      "Backend topology: 2023-07-28 20:37:33.129681\n",
      "<qiskit.providers.models.backendproperties.BackendProperties object at 0x7f52931aaac0>\n",
      "Depth: [2896, 2896, 2892, 2892, 2880, 2880]\n",
      "SABRE\n"
     ]
    },
    {
     "name": "stderr",
     "output_type": "stream",
     "text": [
      "\n",
      "100%|███████████████████████████████████████████████████████████████████████████████████████████████████████████████████████████████████████████████████| 1/1 [00:00<00:00, 610.17it/s]\u001b[A\n"
     ]
    },
    {
     "name": "stdout",
     "output_type": "stream",
     "text": [
      "2023-11-22 20:37:53.706428\n",
      "Backend topology: 2023-11-22 20:37:53.706428\n",
      "<qiskit.providers.models.backendproperties.BackendProperties object at 0x7f52241861c0>\n",
      "Depth: [2960, 2960, 2956, 2956, 3006, 3006]\n",
      "not na\n"
     ]
    },
    {
     "name": "stderr",
     "output_type": "stream",
     "text": [
      "\n",
      "100%|███████████████████████████████████████████████████████████████████████████████████████████████████████████████████████████████████████████████████| 1/1 [00:00<00:00, 498.85it/s]\u001b[A\n",
      " 94%|██████████████████████████████████████████████████████████████████████████████████████████████████████████████████████████████████████▍        | 47/50 [1:24:01<09:59, 199.75s/it]"
     ]
    },
    {
     "name": "stdout",
     "output_type": "stream",
     "text": [
      "Current depth: 48\n",
      "2023-09-01 20:38:15.772640\n",
      "Backend topology: 2023-09-01 20:38:15.772640\n",
      "<qiskit.providers.models.backendproperties.BackendProperties object at 0x7f51490471c0>\n",
      "Depth: [3008, 3008, 2994, 2994, 2994, 2994]\n",
      "not na\n"
     ]
    },
    {
     "name": "stderr",
     "output_type": "stream",
     "text": [
      "\n",
      "100%|███████████████████████████████████████████████████████████████████████████████████████████████████████████████████████████████████████████████████| 1/1 [00:00<00:00, 558.87it/s]\u001b[A\n"
     ]
    },
    {
     "name": "stdout",
     "output_type": "stream",
     "text": [
      "2023-09-15 20:38:37.337840\n",
      "Backend topology: 2023-09-15 20:38:37.337840\n",
      "<qiskit.providers.models.backendproperties.BackendProperties object at 0x7f52407c6df0>\n",
      "Depth: [3706, 3706, 2828, 2828, 2806, 2806]\n",
      "SABRE\n"
     ]
    },
    {
     "name": "stderr",
     "output_type": "stream",
     "text": [
      "\n",
      "100%|███████████████████████████████████████████████████████████████████████████████████████████████████████████████████████████████████████████████████| 1/1 [00:00<00:00, 569.34it/s]\u001b[A\n"
     ]
    },
    {
     "name": "stdout",
     "output_type": "stream",
     "text": [
      "2023-07-28 20:38:58.619123\n",
      "Backend topology: 2023-07-28 20:38:58.619123\n",
      "<qiskit.providers.models.backendproperties.BackendProperties object at 0x7f52644e2cd0>\n",
      "Depth: [2442, 2442, 2422, 2422, 2438, 2438]\n",
      "not na\n"
     ]
    },
    {
     "name": "stderr",
     "output_type": "stream",
     "text": [
      "\n",
      "100%|███████████████████████████████████████████████████████████████████████████████████████████████████████████████████████████████████████████████████| 1/1 [00:00<00:00, 595.95it/s]\u001b[A\n"
     ]
    },
    {
     "name": "stdout",
     "output_type": "stream",
     "text": [
      "2023-11-09 20:39:14.389846\n",
      "Backend topology: 2023-11-09 20:39:14.389846\n",
      "<qiskit.providers.models.backendproperties.BackendProperties object at 0x7f528fc7f040>\n",
      "Depth: [2670, 2670, 2676, 2676, 2674, 2674]\n",
      "na\n"
     ]
    },
    {
     "name": "stderr",
     "output_type": "stream",
     "text": [
      "\n",
      "100%|███████████████████████████████████████████████████████████████████████████████████████████████████████████████████████████████████████████████████| 1/1 [00:00<00:00, 570.73it/s]\u001b[A\n"
     ]
    },
    {
     "name": "stdout",
     "output_type": "stream",
     "text": [
      "2023-10-20 20:39:35.470180\n",
      "Backend topology: 2023-10-20 20:39:35.470180\n",
      "<qiskit.providers.models.backendproperties.BackendProperties object at 0x7f51e865e520>\n",
      "Depth: [2708, 2708, 2688, 2688, 2692, 2692]\n",
      "not na\n"
     ]
    },
    {
     "name": "stderr",
     "output_type": "stream",
     "text": [
      "\n",
      "100%|███████████████████████████████████████████████████████████████████████████████████████████████████████████████████████████████████████████████████| 1/1 [00:00<00:00, 618.54it/s]\u001b[A\n"
     ]
    },
    {
     "name": "stdout",
     "output_type": "stream",
     "text": [
      "2023-07-13 20:39:52.966736\n",
      "Backend topology: 2023-07-13 20:39:52.966736\n",
      "<qiskit.providers.models.backendproperties.BackendProperties object at 0x7f5264334430>\n",
      "Depth: [2590, 2590, 2588, 2588, 2576, 2576]\n",
      "SABRE\n"
     ]
    },
    {
     "name": "stderr",
     "output_type": "stream",
     "text": [
      "\n",
      "100%|███████████████████████████████████████████████████████████████████████████████████████████████████████████████████████████████████████████████████| 1/1 [00:00<00:00, 589.67it/s]\u001b[A\n"
     ]
    },
    {
     "name": "stdout",
     "output_type": "stream",
     "text": [
      "2023-10-15 20:40:12.808492\n",
      "Backend topology: 2023-10-15 20:40:12.808492\n",
      "<qiskit.providers.models.backendproperties.BackendProperties object at 0x7f52646ad9d0>\n",
      "Depth: [3112, 3112, 3114, 3114, 3114, 3114]\n",
      "na\n"
     ]
    },
    {
     "name": "stderr",
     "output_type": "stream",
     "text": [
      "\n",
      "100%|███████████████████████████████████████████████████████████████████████████████████████████████████████████████████████████████████████████████████| 1/1 [00:00<00:00, 546.77it/s]\u001b[A\n"
     ]
    },
    {
     "name": "stdout",
     "output_type": "stream",
     "text": [
      "2023-10-05 20:40:36.136751\n",
      "Backend topology: 2023-10-05 20:40:36.136751\n",
      "<qiskit.providers.models.backendproperties.BackendProperties object at 0x7f5290de6f10>\n",
      "Depth: [3296, 3296, 2876, 2876, 2884, 2884]\n",
      "not na\n"
     ]
    },
    {
     "name": "stderr",
     "output_type": "stream",
     "text": [
      "\n",
      "100%|███████████████████████████████████████████████████████████████████████████████████████████████████████████████████████████████████████████████████| 1/1 [00:00<00:00, 556.50it/s]\u001b[A\n"
     ]
    },
    {
     "name": "stdout",
     "output_type": "stream",
     "text": [
      "2023-09-06 20:40:57.654271\n",
      "Backend topology: 2023-09-06 20:40:57.654271\n",
      "<qiskit.providers.models.backendproperties.BackendProperties object at 0x7f528fce9250>\n",
      "Depth: [3080, 3080, 3082, 3082, 3024, 3024]\n",
      "SABRE\n"
     ]
    },
    {
     "name": "stderr",
     "output_type": "stream",
     "text": [
      "\n",
      "100%|███████████████████████████████████████████████████████████████████████████████████████████████████████████████████████████████████████████████████| 1/1 [00:00<00:00, 549.71it/s]\u001b[A\n"
     ]
    },
    {
     "name": "stdout",
     "output_type": "stream",
     "text": [
      "2023-08-12 20:41:20.342431\n",
      "Backend topology: 2023-08-12 20:41:20.342431\n",
      "<qiskit.providers.models.backendproperties.BackendProperties object at 0x7f524064e160>\n",
      "Depth: [2676, 2676, 2682, 2682, 2696, 2696]\n",
      "na\n"
     ]
    },
    {
     "name": "stderr",
     "output_type": "stream",
     "text": [
      "\n",
      "100%|███████████████████████████████████████████████████████████████████████████████████████████████████████████████████████████████████████████████████| 1/1 [00:00<00:00, 522.39it/s]\u001b[A\n",
      " 96%|█████████████████████████████████████████████████████████████████████████████████████████████████████████████████████████████████████████▎     | 48/50 [1:27:25<06:42, 201.05s/it]"
     ]
    },
    {
     "name": "stdout",
     "output_type": "stream",
     "text": [
      "Current depth: 49\n",
      "2023-10-03 20:41:39.881320\n",
      "Backend topology: 2023-10-03 20:41:39.881320\n",
      "<qiskit.providers.models.backendproperties.BackendProperties object at 0x7f528003ae80>\n"
     ]
    },
    {
     "name": "stderr",
     "output_type": "stream",
     "text": [
      "/home/ritu/anaconda3/envs/dnn_for_qubit_mapping/lib/python3.8/site-packages/qiskit/transpiler/runningpassmanager.py:166: UserWarning: Resynthesized \n",
      "\n",
      "<qiskit.circuit.library.standard_gates.x.XGate object at 0x7f51685efeb0>\n",
      "<qiskit.circuit.library.standard_gates.sx.SXGate object at 0x7f51a827d7f0>\n",
      "\n",
      "and got\n",
      "\n",
      "<qiskit.circuit.library.standard_gates.rz.RZGate object at 0x7f512decb5e0>\n",
      "<qiskit.circuit.library.standard_gates.sx.SXGate object at 0x7f512decbdf0>\n",
      "<qiskit.circuit.library.standard_gates.rz.RZGate object at 0x7f512decb6a0>\n",
      "\n",
      "but the original was native (for ['id', 'rz', 'sx', 'x', 'cx', 'reset']) and the new value is longer.  This indicates an efficiency bug in synthesis.  Please report it by opening an issue here: https://github.com/Qiskit/qiskit-terra/issues/new/choose\n",
      "  new_dag = pass_.run(dag)\n",
      "/home/ritu/anaconda3/envs/dnn_for_qubit_mapping/lib/python3.8/site-packages/qiskit/transpiler/runningpassmanager.py:166: UserWarning: Resynthesized \n",
      "\n",
      "<qiskit.circuit.library.standard_gates.x.XGate object at 0x7f51685efeb0>\n",
      "<qiskit.circuit.library.standard_gates.sx.SXGate object at 0x7f51a827d7f0>\n",
      "\n",
      "and got\n",
      "\n",
      "<qiskit.circuit.library.standard_gates.rz.RZGate object at 0x7f516819b280>\n",
      "<qiskit.circuit.library.standard_gates.sx.SXGate object at 0x7f516819ba30>\n",
      "<qiskit.circuit.library.standard_gates.rz.RZGate object at 0x7f516819be50>\n",
      "\n",
      "but the original was native (for ['id', 'rz', 'sx', 'x', 'cx', 'reset']) and the new value is longer.  This indicates an efficiency bug in synthesis.  Please report it by opening an issue here: https://github.com/Qiskit/qiskit-terra/issues/new/choose\n",
      "  new_dag = pass_.run(dag)\n",
      "/home/ritu/anaconda3/envs/dnn_for_qubit_mapping/lib/python3.8/site-packages/qiskit/transpiler/runningpassmanager.py:166: UserWarning: Resynthesized \n",
      "\n",
      "<qiskit.circuit.library.standard_gates.x.XGate object at 0x7f51685efeb0>\n",
      "<qiskit.circuit.library.standard_gates.sx.SXGate object at 0x7f51a827d7f0>\n",
      "\n",
      "and got\n",
      "\n",
      "<qiskit.circuit.library.standard_gates.rz.RZGate object at 0x7f51489a0f40>\n",
      "<qiskit.circuit.library.standard_gates.sx.SXGate object at 0x7f51489a0880>\n",
      "<qiskit.circuit.library.standard_gates.rz.RZGate object at 0x7f51489a0b20>\n",
      "\n",
      "but the original was native (for ['id', 'rz', 'sx', 'x', 'cx', 'reset']) and the new value is longer.  This indicates an efficiency bug in synthesis.  Please report it by opening an issue here: https://github.com/Qiskit/qiskit-terra/issues/new/choose\n",
      "  new_dag = pass_.run(dag)\n"
     ]
    },
    {
     "name": "stdout",
     "output_type": "stream",
     "text": [
      "Depth: [2978, 2978, 2976, 2976, 2986, 2986]\n",
      "not na\n"
     ]
    },
    {
     "name": "stderr",
     "output_type": "stream",
     "text": [
      "\n",
      "100%|███████████████████████████████████████████████████████████████████████████████████████████████████████████████████████████████████████████████████| 1/1 [00:00<00:00, 555.02it/s]\u001b[A\n"
     ]
    },
    {
     "name": "stdout",
     "output_type": "stream",
     "text": [
      "2023-10-05 20:42:03.400739\n",
      "Backend topology: 2023-10-05 20:42:03.400739\n",
      "<qiskit.providers.models.backendproperties.BackendProperties object at 0x7f52645031c0>\n",
      "Depth: [2952, 2952, 2942, 2942, 2950, 2950]\n",
      "not na\n"
     ]
    },
    {
     "name": "stderr",
     "output_type": "stream",
     "text": [
      "\n",
      "100%|███████████████████████████████████████████████████████████████████████████████████████████████████████████████████████████████████████████████████| 1/1 [00:00<00:00, 400.30it/s]\u001b[A\n"
     ]
    },
    {
     "name": "stdout",
     "output_type": "stream",
     "text": [
      "2023-09-25 20:42:25.983347\n",
      "Backend topology: 2023-09-25 20:42:25.983347\n",
      "<qiskit.providers.models.backendproperties.BackendProperties object at 0x7f52646ad9d0>\n"
     ]
    },
    {
     "name": "stderr",
     "output_type": "stream",
     "text": [
      "/home/ritu/anaconda3/envs/dnn_for_qubit_mapping/lib/python3.8/site-packages/qiskit/transpiler/runningpassmanager.py:166: UserWarning: Resynthesized \n",
      "\n",
      "<qiskit.circuit.library.standard_gates.x.XGate object at 0x7f5224061160>\n",
      "<qiskit.circuit.library.standard_gates.sx.SXGate object at 0x7f51a8185f70>\n",
      "\n",
      "and got\n",
      "\n",
      "<qiskit.circuit.library.standard_gates.rz.RZGate object at 0x7f512ff2a970>\n",
      "<qiskit.circuit.library.standard_gates.sx.SXGate object at 0x7f5264416dc0>\n",
      "<qiskit.circuit.library.standard_gates.rz.RZGate object at 0x7f5264416040>\n",
      "\n",
      "but the original was native (for ['id', 'rz', 'sx', 'x', 'cx', 'reset']) and the new value is longer.  This indicates an efficiency bug in synthesis.  Please report it by opening an issue here: https://github.com/Qiskit/qiskit-terra/issues/new/choose\n",
      "  new_dag = pass_.run(dag)\n",
      "/home/ritu/anaconda3/envs/dnn_for_qubit_mapping/lib/python3.8/site-packages/qiskit/transpiler/runningpassmanager.py:166: UserWarning: Resynthesized \n",
      "\n",
      "<qiskit.circuit.library.standard_gates.x.XGate object at 0x7f5224061160>\n",
      "<qiskit.circuit.library.standard_gates.sx.SXGate object at 0x7f51a8185f70>\n",
      "\n",
      "and got\n",
      "\n",
      "<qiskit.circuit.library.standard_gates.rz.RZGate object at 0x7f52403538b0>\n",
      "<qiskit.circuit.library.standard_gates.sx.SXGate object at 0x7f520427c520>\n",
      "<qiskit.circuit.library.standard_gates.rz.RZGate object at 0x7f51e878b2b0>\n",
      "\n",
      "but the original was native (for ['id', 'rz', 'sx', 'x', 'cx', 'reset']) and the new value is longer.  This indicates an efficiency bug in synthesis.  Please report it by opening an issue here: https://github.com/Qiskit/qiskit-terra/issues/new/choose\n",
      "  new_dag = pass_.run(dag)\n",
      "/home/ritu/anaconda3/envs/dnn_for_qubit_mapping/lib/python3.8/site-packages/qiskit/transpiler/runningpassmanager.py:166: UserWarning: Resynthesized \n",
      "\n",
      "<qiskit.circuit.library.standard_gates.x.XGate object at 0x7f5224061160>\n",
      "<qiskit.circuit.library.standard_gates.sx.SXGate object at 0x7f51a8185f70>\n",
      "\n",
      "and got\n",
      "\n",
      "<qiskit.circuit.library.standard_gates.rz.RZGate object at 0x7f5148349070>\n",
      "<qiskit.circuit.library.standard_gates.sx.SXGate object at 0x7f5148349550>\n",
      "<qiskit.circuit.library.standard_gates.rz.RZGate object at 0x7f5148349160>\n",
      "\n",
      "but the original was native (for ['id', 'rz', 'sx', 'x', 'cx', 'reset']) and the new value is longer.  This indicates an efficiency bug in synthesis.  Please report it by opening an issue here: https://github.com/Qiskit/qiskit-terra/issues/new/choose\n",
      "  new_dag = pass_.run(dag)\n",
      "/home/ritu/anaconda3/envs/dnn_for_qubit_mapping/lib/python3.8/site-packages/qiskit/transpiler/runningpassmanager.py:166: UserWarning: Resynthesized \n",
      "\n",
      "<qiskit.circuit.library.standard_gates.x.XGate object at 0x7f51e8206550>\n",
      "<qiskit.circuit.library.standard_gates.sx.SXGate object at 0x7f52642d5c40>\n",
      "\n",
      "and got\n",
      "\n",
      "<qiskit.circuit.library.standard_gates.rz.RZGate object at 0x7f5168439550>\n",
      "<qiskit.circuit.library.standard_gates.sx.SXGate object at 0x7f51491dffd0>\n",
      "<qiskit.circuit.library.standard_gates.rz.RZGate object at 0x7f51491dfca0>\n",
      "\n",
      "but the original was native (for ['id', 'rz', 'sx', 'x', 'cx', 'reset']) and the new value is longer.  This indicates an efficiency bug in synthesis.  Please report it by opening an issue here: https://github.com/Qiskit/qiskit-terra/issues/new/choose\n",
      "  new_dag = pass_.run(dag)\n",
      "/home/ritu/anaconda3/envs/dnn_for_qubit_mapping/lib/python3.8/site-packages/qiskit/transpiler/runningpassmanager.py:166: UserWarning: Resynthesized \n",
      "\n",
      "<qiskit.circuit.library.standard_gates.x.XGate object at 0x7f51e8206550>\n",
      "<qiskit.circuit.library.standard_gates.sx.SXGate object at 0x7f52642d5c40>\n",
      "\n",
      "and got\n",
      "\n",
      "<qiskit.circuit.library.standard_gates.rz.RZGate object at 0x7f5168610400>\n",
      "<qiskit.circuit.library.standard_gates.sx.SXGate object at 0x7f528c184ee0>\n",
      "<qiskit.circuit.library.standard_gates.rz.RZGate object at 0x7f528c184490>\n",
      "\n",
      "but the original was native (for ['id', 'rz', 'sx', 'x', 'cx', 'reset']) and the new value is longer.  This indicates an efficiency bug in synthesis.  Please report it by opening an issue here: https://github.com/Qiskit/qiskit-terra/issues/new/choose\n",
      "  new_dag = pass_.run(dag)\n",
      "/home/ritu/anaconda3/envs/dnn_for_qubit_mapping/lib/python3.8/site-packages/qiskit/transpiler/runningpassmanager.py:166: UserWarning: Resynthesized \n",
      "\n",
      "<qiskit.circuit.library.standard_gates.x.XGate object at 0x7f51e8206550>\n",
      "<qiskit.circuit.library.standard_gates.sx.SXGate object at 0x7f52642d5c40>\n",
      "\n",
      "and got\n",
      "\n",
      "<qiskit.circuit.library.standard_gates.rz.RZGate object at 0x7f52909baeb0>\n",
      "<qiskit.circuit.library.standard_gates.sx.SXGate object at 0x7f5240279340>\n",
      "<qiskit.circuit.library.standard_gates.rz.RZGate object at 0x7f5224101fa0>\n",
      "\n",
      "but the original was native (for ['id', 'rz', 'sx', 'x', 'cx', 'reset']) and the new value is longer.  This indicates an efficiency bug in synthesis.  Please report it by opening an issue here: https://github.com/Qiskit/qiskit-terra/issues/new/choose\n",
      "  new_dag = pass_.run(dag)\n",
      "/home/ritu/anaconda3/envs/dnn_for_qubit_mapping/lib/python3.8/site-packages/qiskit/transpiler/runningpassmanager.py:166: UserWarning: Resynthesized \n",
      "\n",
      "<qiskit.circuit.library.standard_gates.x.XGate object at 0x7f51e8206550>\n",
      "<qiskit.circuit.library.standard_gates.sx.SXGate object at 0x7f52642d5c40>\n",
      "\n",
      "and got\n",
      "\n",
      "<qiskit.circuit.library.standard_gates.rz.RZGate object at 0x7f512ff2a250>\n",
      "<qiskit.circuit.library.standard_gates.sx.SXGate object at 0x7f512ff2af10>\n",
      "<qiskit.circuit.library.standard_gates.rz.RZGate object at 0x7f512ff2abe0>\n",
      "\n",
      "but the original was native (for ['id', 'rz', 'sx', 'x', 'cx', 'reset']) and the new value is longer.  This indicates an efficiency bug in synthesis.  Please report it by opening an issue here: https://github.com/Qiskit/qiskit-terra/issues/new/choose\n",
      "  new_dag = pass_.run(dag)\n",
      "/home/ritu/anaconda3/envs/dnn_for_qubit_mapping/lib/python3.8/site-packages/qiskit/transpiler/runningpassmanager.py:166: UserWarning: Resynthesized \n",
      "\n",
      "<qiskit.circuit.library.standard_gates.x.XGate object at 0x7f526453cc40>\n",
      "<qiskit.circuit.library.standard_gates.sx.SXGate object at 0x7f52245b0040>\n",
      "\n",
      "and got\n",
      "\n",
      "<qiskit.circuit.library.standard_gates.rz.RZGate object at 0x7f512cf5c5e0>\n",
      "<qiskit.circuit.library.standard_gates.sx.SXGate object at 0x7f512cf5c880>\n",
      "<qiskit.circuit.library.standard_gates.rz.RZGate object at 0x7f512cf5c130>\n",
      "\n",
      "but the original was native (for ['id', 'rz', 'sx', 'x', 'cx', 'reset']) and the new value is longer.  This indicates an efficiency bug in synthesis.  Please report it by opening an issue here: https://github.com/Qiskit/qiskit-terra/issues/new/choose\n",
      "  new_dag = pass_.run(dag)\n",
      "/home/ritu/anaconda3/envs/dnn_for_qubit_mapping/lib/python3.8/site-packages/qiskit/transpiler/runningpassmanager.py:166: UserWarning: Resynthesized \n",
      "\n",
      "<qiskit.circuit.library.standard_gates.x.XGate object at 0x7f526453cc40>\n",
      "<qiskit.circuit.library.standard_gates.sx.SXGate object at 0x7f52245b0040>\n",
      "\n",
      "and got\n",
      "\n",
      "<qiskit.circuit.library.standard_gates.rz.RZGate object at 0x7f51882e7ee0>\n",
      "<qiskit.circuit.library.standard_gates.sx.SXGate object at 0x7f51882e7b20>\n",
      "<qiskit.circuit.library.standard_gates.rz.RZGate object at 0x7f51882e7e80>\n",
      "\n",
      "but the original was native (for ['id', 'rz', 'sx', 'x', 'cx', 'reset']) and the new value is longer.  This indicates an efficiency bug in synthesis.  Please report it by opening an issue here: https://github.com/Qiskit/qiskit-terra/issues/new/choose\n",
      "  new_dag = pass_.run(dag)\n",
      "/home/ritu/anaconda3/envs/dnn_for_qubit_mapping/lib/python3.8/site-packages/qiskit/transpiler/runningpassmanager.py:166: UserWarning: Resynthesized \n",
      "\n",
      "<qiskit.circuit.library.standard_gates.x.XGate object at 0x7f526453cc40>\n",
      "<qiskit.circuit.library.standard_gates.sx.SXGate object at 0x7f52245b0040>\n",
      "\n",
      "and got\n",
      "\n",
      "<qiskit.circuit.library.standard_gates.rz.RZGate object at 0x7f5264143580>\n",
      "<qiskit.circuit.library.standard_gates.sx.SXGate object at 0x7f5264143040>\n",
      "<qiskit.circuit.library.standard_gates.rz.RZGate object at 0x7f52641431c0>\n",
      "\n",
      "but the original was native (for ['id', 'rz', 'sx', 'x', 'cx', 'reset']) and the new value is longer.  This indicates an efficiency bug in synthesis.  Please report it by opening an issue here: https://github.com/Qiskit/qiskit-terra/issues/new/choose\n",
      "  new_dag = pass_.run(dag)\n"
     ]
    },
    {
     "name": "stdout",
     "output_type": "stream",
     "text": [
      "Depth: [3202, 3202, 2974, 2974, 2978, 2978]\n",
      "not na\n"
     ]
    },
    {
     "name": "stderr",
     "output_type": "stream",
     "text": [
      "\n",
      "100%|███████████████████████████████████████████████████████████████████████████████████████████████████████████████████████████████████████████████████| 1/1 [00:00<00:00, 542.46it/s]\u001b[A\n"
     ]
    },
    {
     "name": "stdout",
     "output_type": "stream",
     "text": [
      "2023-07-21 20:42:47.313786\n",
      "Backend topology: 2023-07-21 20:42:47.313786\n",
      "<qiskit.providers.models.backendproperties.BackendProperties object at 0x7f52924ea970>\n",
      "Depth: [3458, 3458, 3310, 3310, 3310, 3310]\n",
      "not na\n"
     ]
    },
    {
     "name": "stderr",
     "output_type": "stream",
     "text": [
      "\n",
      "100%|███████████████████████████████████████████████████████████████████████████████████████████████████████████████████████████████████████████████████| 1/1 [00:00<00:00, 603.76it/s]\u001b[A\n"
     ]
    },
    {
     "name": "stdout",
     "output_type": "stream",
     "text": [
      "2023-08-10 20:43:11.445441\n",
      "Backend topology: 2023-08-10 20:43:11.445441\n",
      "<qiskit.providers.models.backendproperties.BackendProperties object at 0x7f5148a04520>\n",
      "Depth: [3140, 3140, 2888, 2888, 2890, 2890]\n",
      "not na\n"
     ]
    },
    {
     "name": "stderr",
     "output_type": "stream",
     "text": [
      "\n",
      "100%|███████████████████████████████████████████████████████████████████████████████████████████████████████████████████████████████████████████████████| 1/1 [00:00<00:00, 602.37it/s]\u001b[A\n"
     ]
    },
    {
     "name": "stdout",
     "output_type": "stream",
     "text": [
      "2023-09-12 20:43:34.642526\n",
      "Backend topology: 2023-09-12 20:43:34.642526\n",
      "<qiskit.providers.models.backendproperties.BackendProperties object at 0x7f526430a580>\n",
      "Depth: [3506, 3506, 2964, 2964, 2964, 2964]\n",
      "not na\n"
     ]
    },
    {
     "name": "stderr",
     "output_type": "stream",
     "text": [
      "\n",
      "100%|███████████████████████████████████████████████████████████████████████████████████████████████████████████████████████████████████████████████████| 1/1 [00:00<00:00, 418.59it/s]\u001b[A\n"
     ]
    },
    {
     "name": "stdout",
     "output_type": "stream",
     "text": [
      "2023-11-25 20:43:59.257455\n",
      "Backend topology: 2023-11-25 20:43:59.257455\n",
      "<qiskit.providers.models.backendproperties.BackendProperties object at 0x7f52800cc100>\n",
      "Depth: [2838, 2838, 2898, 2898, 2892, 2892]\n",
      "na\n"
     ]
    },
    {
     "name": "stderr",
     "output_type": "stream",
     "text": [
      "\n",
      "100%|███████████████████████████████████████████████████████████████████████████████████████████████████████████████████████████████████████████████████| 1/1 [00:00<00:00, 621.56it/s]\u001b[A\n"
     ]
    },
    {
     "name": "stdout",
     "output_type": "stream",
     "text": [
      "2023-11-19 20:44:20.920561\n",
      "Backend topology: 2023-11-19 20:44:20.920561\n",
      "<qiskit.providers.models.backendproperties.BackendProperties object at 0x7f514884cf40>\n",
      "Depth: [2846, 2846, 2800, 2800, 2800, 2800]\n",
      "not na\n"
     ]
    },
    {
     "name": "stderr",
     "output_type": "stream",
     "text": [
      "\n",
      "100%|███████████████████████████████████████████████████████████████████████████████████████████████████████████████████████████████████████████████████| 1/1 [00:00<00:00, 601.25it/s]\u001b[A\n"
     ]
    },
    {
     "name": "stdout",
     "output_type": "stream",
     "text": [
      "2023-10-05 20:44:42.199937\n",
      "Backend topology: 2023-10-05 20:44:42.199937\n",
      "<qiskit.providers.models.backendproperties.BackendProperties object at 0x7f5290d33fa0>\n",
      "Depth: [2934, 2934, 2576, 2576, 2580, 2580]\n",
      "not na\n"
     ]
    },
    {
     "name": "stderr",
     "output_type": "stream",
     "text": [
      "\n",
      "100%|███████████████████████████████████████████████████████████████████████████████████████████████████████████████████████████████████████████████████| 1/1 [00:00<00:00, 379.20it/s]\u001b[A\n"
     ]
    },
    {
     "name": "stdout",
     "output_type": "stream",
     "text": [
      "2023-11-02 20:45:03.149325\n",
      "Backend topology: 2023-11-02 20:45:03.149325\n",
      "<qiskit.providers.models.backendproperties.BackendProperties object at 0x7f516833bd60>\n",
      "Depth: [3076, 3076, 3076, 3076, 3078, 3078]\n",
      "na\n"
     ]
    },
    {
     "name": "stderr",
     "output_type": "stream",
     "text": [
      "\n",
      "100%|███████████████████████████████████████████████████████████████████████████████████████████████████████████████████████████████████████████████████| 1/1 [00:00<00:00, 603.24it/s]\u001b[A\n",
      " 98%|████████████████████████████████████████████████████████████████████████████████████████████████████████████████████████████████████████████▏  | 49/50 [1:31:12<03:28, 208.80s/it]"
     ]
    },
    {
     "name": "stdout",
     "output_type": "stream",
     "text": [
      "Current depth: 50\n",
      "2023-10-23 20:45:26.756441\n",
      "Backend topology: 2023-10-23 20:45:26.756441\n",
      "<qiskit.providers.models.backendproperties.BackendProperties object at 0x7f526438c370>\n",
      "Depth: [4626, 4626, 2628, 2628, 2630, 2630]\n",
      "not na\n"
     ]
    },
    {
     "name": "stderr",
     "output_type": "stream",
     "text": [
      "\n",
      "100%|███████████████████████████████████████████████████████████████████████████████████████████████████████████████████████████████████████████████████| 1/1 [00:00<00:00, 589.34it/s]\u001b[A\n"
     ]
    },
    {
     "name": "stdout",
     "output_type": "stream",
     "text": [
      "2023-10-24 20:45:48.930388\n",
      "Backend topology: 2023-10-24 20:45:48.930388\n",
      "<qiskit.providers.models.backendproperties.BackendProperties object at 0x7f51e835b250>\n",
      "Depth: [3116, 3116, 3128, 3128, 3110, 3110]\n",
      "SABRE\n"
     ]
    },
    {
     "name": "stderr",
     "output_type": "stream",
     "text": [
      "\n",
      "100%|███████████████████████████████████████████████████████████████████████████████████████████████████████████████████████████████████████████████████| 1/1 [00:00<00:00, 553.92it/s]\u001b[A\n"
     ]
    },
    {
     "name": "stdout",
     "output_type": "stream",
     "text": [
      "2023-10-19 20:46:10.511657\n",
      "Backend topology: 2023-10-19 20:46:10.511657\n",
      "<qiskit.providers.models.backendproperties.BackendProperties object at 0x7f5296d71640>\n",
      "Depth: [3516, 3516, 3088, 3088, 3090, 3090]\n",
      "not na\n"
     ]
    },
    {
     "name": "stderr",
     "output_type": "stream",
     "text": [
      "\n",
      "100%|███████████████████████████████████████████████████████████████████████████████████████████████████████████████████████████████████████████████████| 1/1 [00:00<00:00, 617.90it/s]\u001b[A\n"
     ]
    },
    {
     "name": "stdout",
     "output_type": "stream",
     "text": [
      "2023-09-19 20:46:36.541151\n",
      "Backend topology: 2023-09-19 20:46:36.541151\n",
      "<qiskit.providers.models.backendproperties.BackendProperties object at 0x7f528fde1370>\n",
      "Depth: [2904, 2904, 2896, 2896, 2904, 2904]\n",
      "not na\n"
     ]
    },
    {
     "name": "stderr",
     "output_type": "stream",
     "text": [
      "\n",
      "100%|███████████████████████████████████████████████████████████████████████████████████████████████████████████████████████████████████████████████████| 1/1 [00:00<00:00, 599.96it/s]\u001b[A\n"
     ]
    },
    {
     "name": "stdout",
     "output_type": "stream",
     "text": [
      "2023-08-15 20:46:58.828247\n",
      "Backend topology: 2023-08-15 20:46:58.828247\n",
      "<qiskit.providers.models.backendproperties.BackendProperties object at 0x7f5292891820>\n",
      "Depth: [3018, 3018, 3002, 3002, 3006, 3006]\n",
      "not na\n"
     ]
    },
    {
     "name": "stderr",
     "output_type": "stream",
     "text": [
      "\n",
      "100%|███████████████████████████████████████████████████████████████████████████████████████████████████████████████████████████████████████████████████| 1/1 [00:00<00:00, 623.04it/s]\u001b[A\n"
     ]
    },
    {
     "name": "stdout",
     "output_type": "stream",
     "text": [
      "2023-09-05 20:47:21.466082\n",
      "Backend topology: 2023-09-05 20:47:21.466082\n",
      "<qiskit.providers.models.backendproperties.BackendProperties object at 0x7f524056a9d0>\n",
      "Depth: [3452, 3452, 2834, 2834, 2828, 2828]\n",
      "SABRE\n"
     ]
    },
    {
     "name": "stderr",
     "output_type": "stream",
     "text": [
      "\n",
      "100%|███████████████████████████████████████████████████████████████████████████████████████████████████████████████████████████████████████████████████| 1/1 [00:00<00:00, 534.71it/s]\u001b[A\n"
     ]
    },
    {
     "name": "stdout",
     "output_type": "stream",
     "text": [
      "2023-10-20 20:47:43.952266\n",
      "Backend topology: 2023-10-20 20:47:43.952266\n",
      "<qiskit.providers.models.backendproperties.BackendProperties object at 0x7f5240152340>\n",
      "Depth: [2884, 2884, 2884, 2884, 2884, 2884]\n",
      "na\n"
     ]
    },
    {
     "name": "stderr",
     "output_type": "stream",
     "text": [
      "\n",
      "100%|███████████████████████████████████████████████████████████████████████████████████████████████████████████████████████████████████████████████████| 1/1 [00:00<00:00, 590.25it/s]\u001b[A\n"
     ]
    },
    {
     "name": "stdout",
     "output_type": "stream",
     "text": [
      "2023-11-03 20:48:05.461642\n",
      "Backend topology: 2023-11-03 20:48:05.461642\n",
      "<qiskit.providers.models.backendproperties.BackendProperties object at 0x7f51c864d8e0>\n",
      "Depth: [2812, 2812, 2804, 2804, 2804, 2804]\n",
      "not na\n"
     ]
    },
    {
     "name": "stderr",
     "output_type": "stream",
     "text": [
      "\n",
      "100%|███████████████████████████████████████████████████████████████████████████████████████████████████████████████████████████████████████████████████| 1/1 [00:00<00:00, 574.88it/s]\u001b[A\n"
     ]
    },
    {
     "name": "stdout",
     "output_type": "stream",
     "text": [
      "2023-09-01 20:48:26.213496\n",
      "Backend topology: 2023-09-01 20:48:26.213496\n",
      "<qiskit.providers.models.backendproperties.BackendProperties object at 0x7f5296d71640>\n",
      "Depth: [3366, 3366, 3256, 3256, 3264, 3264]\n",
      "not na\n"
     ]
    },
    {
     "name": "stderr",
     "output_type": "stream",
     "text": [
      "\n",
      "100%|███████████████████████████████████████████████████████████████████████████████████████████████████████████████████████████████████████████████████| 1/1 [00:00<00:00, 595.02it/s]\u001b[A\n"
     ]
    },
    {
     "name": "stdout",
     "output_type": "stream",
     "text": [
      "2023-11-18 20:48:50.056560\n",
      "Backend topology: 2023-11-18 20:48:50.056560\n",
      "<qiskit.providers.models.backendproperties.BackendProperties object at 0x7f52924ea970>\n",
      "Depth: [3078, 3078, 3074, 3074, 3098, 3098]\n",
      "not na\n"
     ]
    },
    {
     "name": "stderr",
     "output_type": "stream",
     "text": [
      "\n",
      "100%|███████████████████████████████████████████████████████████████████████████████████████████████████████████████████████████████████████████████████| 1/1 [00:00<00:00, 591.08it/s]\u001b[A\n",
      "100%|███████████████████████████████████████████████████████████████████████████████████████████████████████████████████████████████████████████████| 50/50 [1:34:58<00:00, 113.97s/it]\n"
     ]
    }
   ],
   "source": [
    "dnn_time = []\n",
    "mlp_time = []\n",
    "mlp_edge_time = []\n",
    "sabre_time,na_time,dense_time = [],[],[]\n",
    "for depth in tqdm(range(1,51)):#51)):\n",
    "#     num_qubits = np.random.randint(5,8)\n",
    "    \n",
    "    curr_dnn_time,curr_mlp_time,curr_mlp_edge_time,curr_sabre_time,curr_na_time,curr_dense_time=0,0,0,0,0,0\n",
    "    print(\"Current depth:\",depth)\n",
    "    itrs=10\n",
    "    for _ in range(itrs):\n",
    "        qc = random_circuit(7, depth, measure=True)  \n",
    "        data = datetime.today() - timedelta(days=random.randint(1,150))\n",
    "        backends = ['ibm_lagos','ibm_perth','ibm_nairobi']\n",
    "        backend = backends[np.random.randint(0,3)]\n",
    "        l = add_line(qc,backend, optimization_level=3, refresh=True, show= False, datatime=data)\n",
    "\n",
    "        d={}\n",
    "        for i in range(len(l[0])):\n",
    "            d[str(l[0][i])] = l[1][i]\n",
    "        df = pd.DataFrame(d, index=[0])\n",
    "        df = clear_dataset(df, 7)\n",
    "        last_num_qubits = len(df.columns)-num_qubits\n",
    "        labels = ((df.iloc[:, last_num_qubits:].values)[0]).tolist()\n",
    "\n",
    "    #     time_taken_to_get_df = get_df_time(qc,backend,data)\n",
    "    #     print(\"Preprocess time:\",time_taken_to_get_df)\n",
    "        time_taken_to_get_df = 0\n",
    "\n",
    "        start = time.time()\n",
    "\n",
    "        x = SS.fit_transform(df.iloc[:, 2:last_num_qubits].values)\n",
    "        predicted = dnn.predict(x)\n",
    "        pred_or = np.array(pred_layout(predicted, num_qubits))[0].tolist()\n",
    "        pred_nr = np.array(pred_layout_diff_elem(predicted,num_qubits))[0].tolist()\n",
    "        end = time.time()\n",
    "        curr_dnn_time=curr_dnn_time+(time_taken_to_get_df + (end-start))\n",
    "\n",
    "\n",
    "        start = time.time()\n",
    "        mlp_pred = get_labels(np.reshape(mlp.predict(x),(7,7)))\n",
    "        end = time.time()\n",
    "        curr_mlp_time=curr_mlp_time + (time_taken_to_get_df + (end-start))\n",
    "\n",
    "\n",
    "        start = time.time()\n",
    "        x = SS.fit_transform(get_graph_features(df))\n",
    "        mlp_edges_pred = get_labels(np.reshape(mlp_edge_feature.predict(x),(7,7)))\n",
    "        end = time.time()\n",
    "        curr_mlp_edge_time=curr_mlp_edge_time+(time_taken_to_get_df + (end-start))\n",
    "\n",
    "    #     # execution times\n",
    "        basis_gats = basis_gate_dict[backend]\n",
    "        pass_ = Unroller(basis_gats)\n",
    "        pm = PassManager(pass_)\n",
    "        backend = provider.get_backend(backend)\n",
    "        tqc = transpile(qc, backend=backend, optimization_level=0)\n",
    "        tqc = pm.run(tqc)\n",
    "        # noise adaptive time\n",
    "        start = time.time()\n",
    "        new_circ_lv3_na = transpile(tqc, backend=backend, optimization_level=0,layout_method='noise_adaptive')\n",
    "        new_circ_lv3_na._layout.get_physical_bits()\n",
    "        end = time.time()\n",
    "        curr_na_time=curr_na_time+(end-start)\n",
    "        # sabre time\n",
    "        start = time.time()\n",
    "        new_circ_lv3_sabre = transpile(tqc, backend=backend, optimization_level=0,layout_method='sabre',routing_method='sabre')\n",
    "        new_circ_lv3_sabre._layout.get_physical_bits()\n",
    "        end = time.time()\n",
    "        curr_sabre_time=curr_sabre_time+(end-start)\n",
    "        # dense time\n",
    "        start = time.time()\n",
    "        new_circ_lv3_dense = transpile(tqc, backend=backend, optimization_level=0)\n",
    "        new_circ_lv3_dense._layout.get_physical_bits()\n",
    "        end = time.time()\n",
    "        curr_dense_time=curr_dense_time+(end-start)\n",
    "    dnn_time.append(curr_dnn_time/itrs)\n",
    "    mlp_time.append(curr_mlp_time/itrs)\n",
    "    mlp_edge_time.append(curr_mlp_edge_time/itrs)\n",
    "    sabre_time.append(curr_sabre_time/itrs)\n",
    "    dense_time.append(curr_dense_time/itrs)\n",
    "    na_time.append(curr_na_time/itrs)\n",
    "    \n",
    "\n",
    "    "
   ]
  },
  {
   "cell_type": "code",
   "execution_count": null,
   "id": "8bd41e2e",
   "metadata": {},
   "outputs": [],
   "source": []
  },
  {
   "cell_type": "code",
   "execution_count": null,
   "id": "770ff668",
   "metadata": {},
   "outputs": [],
   "source": []
  },
  {
   "cell_type": "code",
   "execution_count": null,
   "id": "cce26a63",
   "metadata": {},
   "outputs": [],
   "source": []
  },
  {
   "cell_type": "code",
   "execution_count": 94,
   "id": "3cfaf2c0",
   "metadata": {},
   "outputs": [],
   "source": [
    "df = pd.DataFrame()\n",
    "df[\"DNN\"] = dnn_time\n",
    "df[\"NN without edge features\"] = mlp_time\n",
    "df[\"NN with edge features\"] = mlp_edge_time\n",
    "df[\"SABRE\"] =  sabre_time\n",
    "df[\"Noise Adaptive\"] = na_time\n",
    "df[\"Dense\"] = dense_time\n",
    "# df[\"Index\"] = list(range(1,51))"
   ]
  },
  {
   "cell_type": "code",
   "execution_count": 95,
   "id": "6430559c",
   "metadata": {},
   "outputs": [],
   "source": [
    "import pandas as pd\n",
    "\n",
    "import seaborn as sns\n",
    "import math\n",
    "import matplotlib.pyplot as plt\n",
    "from matplotlib import cm\n",
    "import numpy as np"
   ]
  },
  {
   "cell_type": "code",
   "execution_count": 96,
   "id": "8af044d0",
   "metadata": {},
   "outputs": [
    {
     "data": {
      "text/plain": [
       "<matplotlib.legend.Legend at 0x7f51e866d070>"
      ]
     },
     "execution_count": 96,
     "metadata": {},
     "output_type": "execute_result"
    },
    {
     "data": {
      "image/png": "[encoded data removed]",
      "text/plain": [
       "<Figure size 700x700 with 1 Axes>"
      ]
     },
     "metadata": {},
     "output_type": "display_data"
    }
   ],
   "source": [
    "sns.set_theme(style=\"whitegrid\")\n",
    "a4_dims = (7,7)\n",
    "fig, ax = plt.subplots(figsize=a4_dims)\n",
    "sns.lineplot(data = df,markers=True, dashes=False)\n",
    "fig.suptitle('Depth vs. mapping time ', fontsize=20)\n",
    "plt.xlabel(\"Circuit depth\", fontsize=20)\n",
    "plt.ylabel(\"Mapping Time (sec)\", fontsize=20)\n",
    "plt.legend(loc='upper right')"
   ]
  },
  {
   "cell_type": "code",
   "execution_count": 97,
   "id": "7b89ade6",
   "metadata": {},
   "outputs": [
    {
     "data": {
      "text/plain": [
       "<matplotlib.legend.Legend at 0x7f52404e49a0>"
      ]
     },
     "execution_count": 97,
     "metadata": {},
     "output_type": "execute_result"
    },
    {
     "data": {
      "image/png": "[encoded data removed]",
      "text/plain": [
       "<Figure size 700x700 with 1 Axes>"
      ]
     },
     "metadata": {},
     "output_type": "display_data"
    }
   ],
   "source": [
    "sns.set_theme(style=\"whitegrid\")\n",
    "a4_dims = (7,7)\n",
    "fig, ax = plt.subplots(figsize=a4_dims)\n",
    "sns.lineplot(data = df[[\"DNN\",\"NN without edge features\",\"NN with edge features\"]],markers=True, dashes=False)\n",
    "fig.suptitle('Depth vs. mapping time ', fontsize=20)\n",
    "plt.xlabel(\"Circuit depth\", fontsize=20)\n",
    "plt.ylabel(\"Mapping Time (sec)\", fontsize=20)\n",
    "plt.legend(loc='upper right')"
   ]
  },
  {
   "cell_type": "code",
   "execution_count": 98,
   "id": "26944aef",
   "metadata": {},
   "outputs": [
    {
     "data": {
      "text/plain": [
       "<matplotlib.legend.Legend at 0x7f528c072fa0>"
      ]
     },
     "execution_count": 98,
     "metadata": {},
     "output_type": "execute_result"
    },
    {
     "data": {
      "image/png": "[encoded data removed]",
      "text/plain": [
       "<Figure size 700x700 with 1 Axes>"
      ]
     },
     "metadata": {},
     "output_type": "display_data"
    }
   ],
   "source": [
    "sns.set_theme(style=\"whitegrid\")\n",
    "a4_dims = (7,7)\n",
    "fig, ax = plt.subplots(figsize=a4_dims)\n",
    "sns.lineplot(data = df[[\"SABRE\",\"Dense\",\"Noise Adaptive\"]],markers=True, dashes=False)\n",
    "fig.suptitle('Depth vs. mapping time ', fontsize=20)\n",
    "plt.xlabel(\"Circuit depth\", fontsize=20)\n",
    "plt.ylabel(\"Mapping Time (sec)\", fontsize=20)\n",
    "plt.legend(loc='upper right')"
   ]
  },
  {
   "cell_type": "code",
   "execution_count": null,
   "id": "b9c59d22",
   "metadata": {},
   "outputs": [],
   "source": []
  },
  {
   "cell_type": "code",
   "execution_count": null,
   "id": "44d544ef",
   "metadata": {},
   "outputs": [],
   "source": []
  },
  {
   "cell_type": "code",
   "execution_count": null,
   "id": "b26e2d26",
   "metadata": {},
   "outputs": [],
   "source": []
  }
 ],
 "metadata": {
  "kernelspec": {
   "display_name": "Python [conda env:dnn_for_qubit_mapping]",
   "language": "python",
   "name": "conda-env-dnn_for_qubit_mapping-py"
  },
  "language_info": {
   "codemirror_mode": {
    "name": "ipython",
    "version": 3
   },
   "file_extension": ".py",
   "mimetype": "text/x-python",
   "name": "python",
   "nbconvert_exporter": "python",
   "pygments_lexer": "ipython3",
   "version": "3.8.18"
  }
 },
 "nbformat": 4,
 "nbformat_minor": 5
}
