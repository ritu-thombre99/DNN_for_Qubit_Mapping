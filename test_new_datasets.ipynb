{
 "cells": [
  {
   "cell_type": "code",
   "execution_count": 1,
   "id": "975d5b27",
   "metadata": {},
   "outputs": [],
   "source": [
    "# pip install qiskit==0.31.0"
   ]
  },
  {
   "cell_type": "code",
   "execution_count": 2,
   "id": "7fe40edc",
   "metadata": {},
   "outputs": [
    {
     "name": "stderr",
     "output_type": "stream",
     "text": [
      "/home/ritu/anaconda3/envs/dnn_for_qubit_mapping/lib/python3.8/site-packages/qiskit/version.py:20: DeprecationWarning: pkg_resources is deprecated as an API. See https://setuptools.pypa.io/en/latest/pkg_resources.html\n",
      "  import pkg_resources\n"
     ]
    },
    {
     "name": "stdout",
     "output_type": "stream",
     "text": [
      "Generating QPE circuits\n"
     ]
    }
   ],
   "source": [
    "from get_test_datasets import return_dataset\n",
    "test_dataset = return_dataset()"
   ]
  },
  {
   "cell_type": "code",
   "execution_count": 3,
   "id": "07b19af1",
   "metadata": {},
   "outputs": [
    {
     "data": {
      "text/plain": [
       "400"
      ]
     },
     "execution_count": 3,
     "metadata": {},
     "output_type": "execute_result"
    }
   ],
   "source": [
    "len(test_dataset)"
   ]
  },
  {
   "cell_type": "code",
   "execution_count": 4,
   "id": "75c6fc50",
   "metadata": {},
   "outputs": [
    {
     "name": "stderr",
     "output_type": "stream",
     "text": [
      "Using TensorFlow backend.\n",
      "ibmqfactory.load_account:WARNING:2023-11-27 11:00:18,393: Credentials are already in use. The existing account in the session will be replaced.\n"
     ]
    },
    {
     "name": "stdout",
     "output_type": "stream",
     "text": [
      "{'ibm_lagos': [[0, 1], [1, 0], [1, 2], [1, 3], [2, 1], [3, 1], [3, 5], [4, 5], [5, 3], [5, 4], [5, 6], [6, 5]], 'ibm_nairobi': [[0, 1], [1, 0], [1, 2], [1, 3], [2, 1], [3, 1], [3, 5], [4, 5], [5, 3], [5, 4], [5, 6], [6, 5]], 'ibm_perth': [[0, 1], [1, 0], [1, 2], [1, 3], [2, 1], [3, 1], [3, 5], [4, 5], [5, 3], [5, 4], [5, 6], [6, 5]]}\n"
     ]
    }
   ],
   "source": [
    "import tensorflow as tf\n",
    "from tensorflow import keras\n",
    "\n",
    "from sklearn.preprocessing import StandardScaler, MinMaxScaler\n",
    "from helper import *"
   ]
  },
  {
   "cell_type": "code",
   "execution_count": 5,
   "id": "c6b20b7c",
   "metadata": {},
   "outputs": [
    {
     "name": "stderr",
     "output_type": "stream",
     "text": [
      "2023-11-27 11:00:21.664828: I tensorflow/stream_executor/platform/default/dso_loader.cc:44] Successfully opened dynamic library libcuda.so.1\n",
      "2023-11-27 11:00:21.710942: I tensorflow/stream_executor/cuda/cuda_gpu_executor.cc:981] successful NUMA node read from SysFS had negative value (-1), but there must be at least one NUMA node, so returning NUMA node zero\n",
      "2023-11-27 11:00:21.711287: I tensorflow/core/common_runtime/gpu/gpu_device.cc:1561] Found device 0 with properties: \n",
      "pciBusID: 0000:01:00.0 name: NVIDIA GeForce RTX 4090 computeCapability: 8.9\n",
      "coreClock: 2.595GHz coreCount: 128 deviceMemorySize: 23.64GiB deviceMemoryBandwidth: 938.86GiB/s\n",
      "2023-11-27 11:00:21.711621: W tensorflow/stream_executor/platform/default/dso_loader.cc:55] Could not load dynamic library 'libcudart.so.10.1'; dlerror: libcudart.so.10.1: cannot open shared object file: No such file or directory\n",
      "2023-11-27 11:00:21.711752: W tensorflow/stream_executor/platform/default/dso_loader.cc:55] Could not load dynamic library 'libcublas.so.10'; dlerror: libcublas.so.10: cannot open shared object file: No such file or directory\n",
      "2023-11-27 11:00:21.711860: W tensorflow/stream_executor/platform/default/dso_loader.cc:55] Could not load dynamic library 'libcufft.so.10'; dlerror: libcufft.so.10: cannot open shared object file: No such file or directory\n",
      "2023-11-27 11:00:21.711965: W tensorflow/stream_executor/platform/default/dso_loader.cc:55] Could not load dynamic library 'libcurand.so.10'; dlerror: libcurand.so.10: cannot open shared object file: No such file or directory\n",
      "2023-11-27 11:00:21.712070: W tensorflow/stream_executor/platform/default/dso_loader.cc:55] Could not load dynamic library 'libcusolver.so.10'; dlerror: libcusolver.so.10: cannot open shared object file: No such file or directory\n",
      "2023-11-27 11:00:21.712175: W tensorflow/stream_executor/platform/default/dso_loader.cc:55] Could not load dynamic library 'libcusparse.so.10'; dlerror: libcusparse.so.10: cannot open shared object file: No such file or directory\n",
      "2023-11-27 11:00:21.712283: W tensorflow/stream_executor/platform/default/dso_loader.cc:55] Could not load dynamic library 'libcudnn.so.7'; dlerror: libcudnn.so.7: cannot open shared object file: No such file or directory\n",
      "2023-11-27 11:00:21.712297: W tensorflow/core/common_runtime/gpu/gpu_device.cc:1598] Cannot dlopen some GPU libraries. Please make sure the missing libraries mentioned above are installed properly if you would like to use GPU. Follow the guide at https://www.tensorflow.org/install/gpu for how to download and setup the required libraries for your platform.\n",
      "Skipping registering GPU devices...\n",
      "2023-11-27 11:00:21.714235: I tensorflow/core/platform/cpu_feature_guard.cc:143] Your CPU supports instructions that this TensorFlow binary was not compiled to use: AVX2 FMA\n",
      "2023-11-27 11:00:21.728537: I tensorflow/core/platform/profile_utils/cpu_utils.cc:102] CPU Frequency: 3609600000 Hz\n",
      "2023-11-27 11:00:21.730455: I tensorflow/compiler/xla/service/service.cc:168] XLA service 0x7f520c000b70 initialized for platform Host (this does not guarantee that XLA will be used). Devices:\n",
      "2023-11-27 11:00:21.730487: I tensorflow/compiler/xla/service/service.cc:176]   StreamExecutor device (0): Host, Default Version\n",
      "2023-11-27 11:00:21.732163: I tensorflow/core/common_runtime/gpu/gpu_device.cc:1102] Device interconnect StreamExecutor with strength 1 edge matrix:\n",
      "2023-11-27 11:00:21.732173: I tensorflow/core/common_runtime/gpu/gpu_device.cc:1108]      \n"
     ]
    }
   ],
   "source": [
    "mlp_edge_feature = tf.keras.models.load_model(\"models/mlp_edge_features.keras\")\n",
    "dnn = tf.keras.models.load_model(\"models/dnn.keras\")\n",
    "mlp = tf.keras.models.load_model(\"models/mlp.keras\")"
   ]
  },
  {
   "cell_type": "code",
   "execution_count": 6,
   "id": "5ce11605",
   "metadata": {},
   "outputs": [],
   "source": [
    "basis_gate_dict = {}\n",
    "provider = IBMQ.get_provider(hub='ibm-q')\n",
    "provider.backends(simulator=False)\n",
    "backends = ['ibm_lagos','ibm_perth','ibm_nairobi']\n",
    "for backend_name in backends:\n",
    "    backend = provider.get_backend(backend_name)\n",
    "    basis_gats = backend.configuration().basis_gates\n",
    "    basis_gate_dict[backend_name] = basis_gats\n"
   ]
  },
  {
   "cell_type": "code",
   "execution_count": 7,
   "id": "582c8840",
   "metadata": {},
   "outputs": [],
   "source": [
    "def get_transpiled_circ_results(qc, backend, initial_layout):\n",
    "    basis_gats = basis_gate_dict[backend]\n",
    "    pass_ = Unroller(basis_gats)\n",
    "    pm = PassManager(pass_)\n",
    "    backend = provider.get_backend(backend)\n",
    "    \n",
    "    tqc = transpile(qc, backend=backend,initial_layout=initial_layout, optimization_level=0,seed_transpiler=13)\n",
    "    tqc = pm.run(tqc)\n",
    "    gates = dict(tqc.count_ops())\n",
    "    return gates['cx'], tqc.depth()\n"
   ]
  },
  {
   "cell_type": "code",
   "execution_count": null,
   "id": "4d99880d",
   "metadata": {},
   "outputs": [],
   "source": []
  },
  {
   "cell_type": "code",
   "execution_count": 46,
   "id": "ee8dcb7a",
   "metadata": {
    "scrolled": true
   },
   "outputs": [
    {
     "name": "stderr",
     "output_type": "stream",
     "text": [
      "\r",
      "  0%|                                                                                                                                                            | 0/5 [00:00<?, ?it/s]"
     ]
    },
    {
     "name": "stdout",
     "output_type": "stream",
     "text": [
      "2023-10-09 12:15:08.683877\n",
      "Backend topology: 2023-10-09 12:15:08.683877\n",
      "<qiskit.providers.models.backendproperties.BackendProperties object at 0x7f529b0e50d0>\n",
      "Depth: [92, 92, 78, 78, 78, 78]\n",
      "not na\n"
     ]
    },
    {
     "data": {
      "text/html": [
       "<div>\n",
       "<style scoped>\n",
       "    .dataframe tbody tr th:only-of-type {\n",
       "        vertical-align: middle;\n",
       "    }\n",
       "\n",
       "    .dataframe tbody tr th {\n",
       "        vertical-align: top;\n",
       "    }\n",
       "\n",
       "    .dataframe thead th {\n",
       "        text-align: right;\n",
       "    }\n",
       "</style>\n",
       "<table border=\"1\" class=\"dataframe\">\n",
       "  <thead>\n",
       "    <tr style=\"text-align: right;\">\n",
       "      <th></th>\n",
       "      <th>last_update_date</th>\n",
       "      <th>backend_name</th>\n",
       "      <th>N_qubtis</th>\n",
       "      <th>N_cx</th>\n",
       "      <th>cx_01</th>\n",
       "      <th>cx_02</th>\n",
       "      <th>cx_03</th>\n",
       "      <th>cx_04</th>\n",
       "      <th>cx_05</th>\n",
       "      <th>cx_06</th>\n",
       "      <th>...</th>\n",
       "      <th>T1_6</th>\n",
       "      <th>T2_6</th>\n",
       "      <th>readout_error_6</th>\n",
       "      <th>0</th>\n",
       "      <th>1</th>\n",
       "      <th>2</th>\n",
       "      <th>3</th>\n",
       "      <th>4</th>\n",
       "      <th>5</th>\n",
       "      <th>6</th>\n",
       "    </tr>\n",
       "  </thead>\n",
       "  <tbody>\n",
       "    <tr>\n",
       "      <th>0</th>\n",
       "      <td>2023-10-09 11:39:03-07:00</td>\n",
       "      <td>ibm_perth</td>\n",
       "      <td>7</td>\n",
       "      <td>35</td>\n",
       "      <td>8</td>\n",
       "      <td>0</td>\n",
       "      <td>0</td>\n",
       "      <td>0</td>\n",
       "      <td>0</td>\n",
       "      <td>0</td>\n",
       "      <td>...</td>\n",
       "      <td>137.417059</td>\n",
       "      <td>216.542708</td>\n",
       "      <td>0.0112</td>\n",
       "      <td>0</td>\n",
       "      <td>1</td>\n",
       "      <td>2</td>\n",
       "      <td>3</td>\n",
       "      <td>4</td>\n",
       "      <td>5</td>\n",
       "      <td>6</td>\n",
       "    </tr>\n",
       "  </tbody>\n",
       "</table>\n",
       "<p>1 rows × 98 columns</p>\n",
       "</div>"
      ],
      "text/plain": [
       "           last_update_date backend_name  N_qubtis  N_cx  cx_01  cx_02  cx_03  \\\n",
       "0 2023-10-09 11:39:03-07:00    ibm_perth         7    35      8      0      0   \n",
       "\n",
       "   cx_04  cx_05  cx_06  ...        T1_6        T2_6  readout_error_6  0  1  2  \\\n",
       "0      0      0      0  ...  137.417059  216.542708           0.0112  0  1  2   \n",
       "\n",
       "   3  4  5  6  \n",
       "0  3  4  5  6  \n",
       "\n",
       "[1 rows x 98 columns]"
      ]
     },
     "metadata": {},
     "output_type": "display_data"
    },
    {
     "name": "stdout",
     "output_type": "stream",
     "text": [
      "[2, 1, 0, 3, 4, 5, 6] [2, 1, 0, 3, 4, 5, 6] [0, 1, 2, 3, 4, 5, 6]\n",
      "[6, 1, 4, 3, 4, 5, 6]\n"
     ]
    },
    {
     "name": "stderr",
     "output_type": "stream",
     "text": [
      "\n",
      "100%|███████████████████████████████████████████████████████████████████████████████████████████████████████████████████████████████████████████████████| 1/1 [00:00<00:00, 344.30it/s]\u001b[A\n",
      " 20%|█████████████████████████████▌                                                                                                                      | 1/5 [00:02<00:11,  2.99s/it]"
     ]
    },
    {
     "name": "stdout",
     "output_type": "stream",
     "text": [
      "[2, 1, 0, 3, 4, 5, 6]\n",
      "60 32\n",
      "2023-07-07 12:15:11.675377\n",
      "Backend topology: 2023-07-07 12:15:11.675377\n",
      "<qiskit.providers.models.backendproperties.BackendProperties object at 0x7f529412cdf0>\n",
      "Depth: [182, 182, 90, 90, 94, 94]\n",
      "not na\n"
     ]
    },
    {
     "data": {
      "text/html": [
       "<div>\n",
       "<style scoped>\n",
       "    .dataframe tbody tr th:only-of-type {\n",
       "        vertical-align: middle;\n",
       "    }\n",
       "\n",
       "    .dataframe tbody tr th {\n",
       "        vertical-align: top;\n",
       "    }\n",
       "\n",
       "    .dataframe thead th {\n",
       "        text-align: right;\n",
       "    }\n",
       "</style>\n",
       "<table border=\"1\" class=\"dataframe\">\n",
       "  <thead>\n",
       "    <tr style=\"text-align: right;\">\n",
       "      <th></th>\n",
       "      <th>last_update_date</th>\n",
       "      <th>backend_name</th>\n",
       "      <th>N_qubtis</th>\n",
       "      <th>N_cx</th>\n",
       "      <th>cx_01</th>\n",
       "      <th>cx_02</th>\n",
       "      <th>cx_03</th>\n",
       "      <th>cx_04</th>\n",
       "      <th>cx_05</th>\n",
       "      <th>cx_06</th>\n",
       "      <th>...</th>\n",
       "      <th>T1_6</th>\n",
       "      <th>T2_6</th>\n",
       "      <th>readout_error_6</th>\n",
       "      <th>0</th>\n",
       "      <th>1</th>\n",
       "      <th>2</th>\n",
       "      <th>3</th>\n",
       "      <th>4</th>\n",
       "      <th>5</th>\n",
       "      <th>6</th>\n",
       "    </tr>\n",
       "  </thead>\n",
       "  <tbody>\n",
       "    <tr>\n",
       "      <th>0</th>\n",
       "      <td>2023-07-07 10:42:22-07:00</td>\n",
       "      <td>ibm_lagos</td>\n",
       "      <td>7</td>\n",
       "      <td>44</td>\n",
       "      <td>0</td>\n",
       "      <td>0</td>\n",
       "      <td>0</td>\n",
       "      <td>0</td>\n",
       "      <td>0</td>\n",
       "      <td>0</td>\n",
       "      <td>...</td>\n",
       "      <td>181.749233</td>\n",
       "      <td>116.403708</td>\n",
       "      <td>0.0159</td>\n",
       "      <td>0</td>\n",
       "      <td>1</td>\n",
       "      <td>2</td>\n",
       "      <td>3</td>\n",
       "      <td>4</td>\n",
       "      <td>5</td>\n",
       "      <td>6</td>\n",
       "    </tr>\n",
       "  </tbody>\n",
       "</table>\n",
       "<p>1 rows × 98 columns</p>\n",
       "</div>"
      ],
      "text/plain": [
       "           last_update_date backend_name  N_qubtis  N_cx  cx_01  cx_02  cx_03  \\\n",
       "0 2023-07-07 10:42:22-07:00    ibm_lagos         7    44      0      0      0   \n",
       "\n",
       "   cx_04  cx_05  cx_06  ...        T1_6        T2_6  readout_error_6  0  1  2  \\\n",
       "0      0      0      0  ...  181.749233  116.403708           0.0159  0  1  2   \n",
       "\n",
       "   3  4  5  6  \n",
       "0  3  4  5  6  \n",
       "\n",
       "[1 rows x 98 columns]"
      ]
     },
     "metadata": {},
     "output_type": "display_data"
    },
    {
     "name": "stdout",
     "output_type": "stream",
     "text": [
      "[2, 1, 0, 3, 4, 5, 6] [2, 1, 0, 3, 4, 5, 6] [0, 1, 2, 3, 4, 5, 6]\n",
      "[6, 1, 4, 3, 4, 5, 6]\n"
     ]
    },
    {
     "name": "stderr",
     "output_type": "stream",
     "text": [
      "\n",
      "100%|███████████████████████████████████████████████████████████████████████████████████████████████████████████████████████████████████████████████████| 1/1 [00:00<00:00, 358.95it/s]\u001b[A\n",
      " 40%|███████████████████████████████████████████████████████████▏                                                                                        | 2/5 [00:07<00:11,  3.68s/it]"
     ]
    },
    {
     "name": "stdout",
     "output_type": "stream",
     "text": [
      "[2, 1, 0, 3, 4, 5, 6]\n",
      "59 44\n",
      "2023-08-27 12:15:15.839788\n",
      "Backend topology: 2023-08-27 12:15:15.839788\n",
      "<qiskit.providers.models.backendproperties.BackendProperties object at 0x7f529407ff40>\n",
      "Depth: [124, 124, 82, 82, 82, 82]\n",
      "not na\n"
     ]
    },
    {
     "data": {
      "text/html": [
       "<div>\n",
       "<style scoped>\n",
       "    .dataframe tbody tr th:only-of-type {\n",
       "        vertical-align: middle;\n",
       "    }\n",
       "\n",
       "    .dataframe tbody tr th {\n",
       "        vertical-align: top;\n",
       "    }\n",
       "\n",
       "    .dataframe thead th {\n",
       "        text-align: right;\n",
       "    }\n",
       "</style>\n",
       "<table border=\"1\" class=\"dataframe\">\n",
       "  <thead>\n",
       "    <tr style=\"text-align: right;\">\n",
       "      <th></th>\n",
       "      <th>last_update_date</th>\n",
       "      <th>backend_name</th>\n",
       "      <th>N_qubtis</th>\n",
       "      <th>N_cx</th>\n",
       "      <th>cx_01</th>\n",
       "      <th>cx_02</th>\n",
       "      <th>cx_03</th>\n",
       "      <th>cx_04</th>\n",
       "      <th>cx_05</th>\n",
       "      <th>cx_06</th>\n",
       "      <th>...</th>\n",
       "      <th>T1_6</th>\n",
       "      <th>T2_6</th>\n",
       "      <th>readout_error_6</th>\n",
       "      <th>0</th>\n",
       "      <th>1</th>\n",
       "      <th>2</th>\n",
       "      <th>3</th>\n",
       "      <th>4</th>\n",
       "      <th>5</th>\n",
       "      <th>6</th>\n",
       "    </tr>\n",
       "  </thead>\n",
       "  <tbody>\n",
       "    <tr>\n",
       "      <th>0</th>\n",
       "      <td>2023-08-27 12:10:31-07:00</td>\n",
       "      <td>ibm_perth</td>\n",
       "      <td>7</td>\n",
       "      <td>38</td>\n",
       "      <td>0</td>\n",
       "      <td>0</td>\n",
       "      <td>0</td>\n",
       "      <td>0</td>\n",
       "      <td>0</td>\n",
       "      <td>0</td>\n",
       "      <td>...</td>\n",
       "      <td>97.780636</td>\n",
       "      <td>288.278561</td>\n",
       "      <td>0.0097</td>\n",
       "      <td>0</td>\n",
       "      <td>1</td>\n",
       "      <td>2</td>\n",
       "      <td>3</td>\n",
       "      <td>4</td>\n",
       "      <td>5</td>\n",
       "      <td>6</td>\n",
       "    </tr>\n",
       "  </tbody>\n",
       "</table>\n",
       "<p>1 rows × 98 columns</p>\n",
       "</div>"
      ],
      "text/plain": [
       "           last_update_date backend_name  N_qubtis  N_cx  cx_01  cx_02  cx_03  \\\n",
       "0 2023-08-27 12:10:31-07:00    ibm_perth         7    38      0      0      0   \n",
       "\n",
       "   cx_04  cx_05  cx_06  ...       T1_6        T2_6  readout_error_6  0  1  2  \\\n",
       "0      0      0      0  ...  97.780636  288.278561           0.0097  0  1  2   \n",
       "\n",
       "   3  4  5  6  \n",
       "0  3  4  5  6  \n",
       "\n",
       "[1 rows x 98 columns]"
      ]
     },
     "metadata": {},
     "output_type": "display_data"
    },
    {
     "name": "stdout",
     "output_type": "stream",
     "text": [
      "[2, 1, 0, 3, 4, 5, 6] [2, 1, 0, 3, 4, 5, 6] [0, 1, 2, 3, 4, 5, 6]\n",
      "[6, 1, 4, 3, 4, 5, 6]\n"
     ]
    },
    {
     "name": "stderr",
     "output_type": "stream",
     "text": [
      "\n",
      "100%|███████████████████████████████████████████████████████████████████████████████████████████████████████████████████████████████████████████████████| 1/1 [00:00<00:00, 554.66it/s]\u001b[A\n",
      " 60%|████████████████████████████████████████████████████████████████████████████████████████▊                                                           | 3/5 [00:15<00:11,  5.66s/it]"
     ]
    },
    {
     "name": "stdout",
     "output_type": "stream",
     "text": [
      "[2, 1, 0, 3, 4, 5, 6]\n",
      "57 38\n",
      "2023-11-03 12:15:23.854522\n",
      "Backend topology: 2023-11-03 12:15:23.854522\n",
      "<qiskit.providers.models.backendproperties.BackendProperties object at 0x7f52911eda90>\n",
      "Depth: [120, 120, 76, 76, 80, 80]\n",
      "not na\n"
     ]
    },
    {
     "data": {
      "text/html": [
       "<div>\n",
       "<style scoped>\n",
       "    .dataframe tbody tr th:only-of-type {\n",
       "        vertical-align: middle;\n",
       "    }\n",
       "\n",
       "    .dataframe tbody tr th {\n",
       "        vertical-align: top;\n",
       "    }\n",
       "\n",
       "    .dataframe thead th {\n",
       "        text-align: right;\n",
       "    }\n",
       "</style>\n",
       "<table border=\"1\" class=\"dataframe\">\n",
       "  <thead>\n",
       "    <tr style=\"text-align: right;\">\n",
       "      <th></th>\n",
       "      <th>last_update_date</th>\n",
       "      <th>backend_name</th>\n",
       "      <th>N_qubtis</th>\n",
       "      <th>N_cx</th>\n",
       "      <th>cx_01</th>\n",
       "      <th>cx_02</th>\n",
       "      <th>cx_03</th>\n",
       "      <th>cx_04</th>\n",
       "      <th>cx_05</th>\n",
       "      <th>cx_06</th>\n",
       "      <th>...</th>\n",
       "      <th>T1_6</th>\n",
       "      <th>T2_6</th>\n",
       "      <th>readout_error_6</th>\n",
       "      <th>0</th>\n",
       "      <th>1</th>\n",
       "      <th>2</th>\n",
       "      <th>3</th>\n",
       "      <th>4</th>\n",
       "      <th>5</th>\n",
       "      <th>6</th>\n",
       "    </tr>\n",
       "  </thead>\n",
       "  <tbody>\n",
       "    <tr>\n",
       "      <th>0</th>\n",
       "      <td>2023-11-03 10:10:06-07:00</td>\n",
       "      <td>ibm_perth</td>\n",
       "      <td>7</td>\n",
       "      <td>35</td>\n",
       "      <td>0</td>\n",
       "      <td>0</td>\n",
       "      <td>0</td>\n",
       "      <td>0</td>\n",
       "      <td>0</td>\n",
       "      <td>0</td>\n",
       "      <td>...</td>\n",
       "      <td>188.137705</td>\n",
       "      <td>259.427085</td>\n",
       "      <td>0.0131</td>\n",
       "      <td>0</td>\n",
       "      <td>1</td>\n",
       "      <td>2</td>\n",
       "      <td>3</td>\n",
       "      <td>4</td>\n",
       "      <td>5</td>\n",
       "      <td>6</td>\n",
       "    </tr>\n",
       "  </tbody>\n",
       "</table>\n",
       "<p>1 rows × 98 columns</p>\n",
       "</div>"
      ],
      "text/plain": [
       "           last_update_date backend_name  N_qubtis  N_cx  cx_01  cx_02  cx_03  \\\n",
       "0 2023-11-03 10:10:06-07:00    ibm_perth         7    35      0      0      0   \n",
       "\n",
       "   cx_04  cx_05  cx_06  ...        T1_6        T2_6  readout_error_6  0  1  2  \\\n",
       "0      0      0      0  ...  188.137705  259.427085           0.0131  0  1  2   \n",
       "\n",
       "   3  4  5  6  \n",
       "0  3  4  5  6  \n",
       "\n",
       "[1 rows x 98 columns]"
      ]
     },
     "metadata": {},
     "output_type": "display_data"
    },
    {
     "name": "stdout",
     "output_type": "stream",
     "text": [
      "[2, 1, 0, 3, 4, 5, 6] [2, 1, 0, 3, 4, 5, 6] [0, 1, 2, 3, 4, 5, 6]\n",
      "[6, 1, 4, 3, 4, 5, 6]\n"
     ]
    },
    {
     "name": "stderr",
     "output_type": "stream",
     "text": [
      "\n",
      "100%|███████████████████████████████████████████████████████████████████████████████████████████████████████████████████████████████████████████████████| 1/1 [00:00<00:00, 521.42it/s]\u001b[A\n",
      " 80%|██████████████████████████████████████████████████████████████████████████████████████████████████████████████████████▍                             | 4/5 [00:16<00:04,  4.13s/it]"
     ]
    },
    {
     "name": "stdout",
     "output_type": "stream",
     "text": [
      "[2, 1, 0, 3, 4, 5, 6]\n",
      "56 29\n",
      "2023-09-12 12:15:25.646809\n",
      "Backend topology: 2023-09-12 12:15:25.646809\n",
      "<qiskit.providers.models.backendproperties.BackendProperties object at 0x7f5290c75d00>\n",
      "Depth: [110, 110, 80, 80, 80, 80]\n",
      "not na\n"
     ]
    },
    {
     "data": {
      "text/html": [
       "<div>\n",
       "<style scoped>\n",
       "    .dataframe tbody tr th:only-of-type {\n",
       "        vertical-align: middle;\n",
       "    }\n",
       "\n",
       "    .dataframe tbody tr th {\n",
       "        vertical-align: top;\n",
       "    }\n",
       "\n",
       "    .dataframe thead th {\n",
       "        text-align: right;\n",
       "    }\n",
       "</style>\n",
       "<table border=\"1\" class=\"dataframe\">\n",
       "  <thead>\n",
       "    <tr style=\"text-align: right;\">\n",
       "      <th></th>\n",
       "      <th>last_update_date</th>\n",
       "      <th>backend_name</th>\n",
       "      <th>N_qubtis</th>\n",
       "      <th>N_cx</th>\n",
       "      <th>cx_01</th>\n",
       "      <th>cx_02</th>\n",
       "      <th>cx_03</th>\n",
       "      <th>cx_04</th>\n",
       "      <th>cx_05</th>\n",
       "      <th>cx_06</th>\n",
       "      <th>...</th>\n",
       "      <th>T1_6</th>\n",
       "      <th>T2_6</th>\n",
       "      <th>readout_error_6</th>\n",
       "      <th>0</th>\n",
       "      <th>1</th>\n",
       "      <th>2</th>\n",
       "      <th>3</th>\n",
       "      <th>4</th>\n",
       "      <th>5</th>\n",
       "      <th>6</th>\n",
       "    </tr>\n",
       "  </thead>\n",
       "  <tbody>\n",
       "    <tr>\n",
       "      <th>0</th>\n",
       "      <td>2023-09-12 11:00:34-07:00</td>\n",
       "      <td>ibm_perth</td>\n",
       "      <td>7</td>\n",
       "      <td>32</td>\n",
       "      <td>4</td>\n",
       "      <td>0</td>\n",
       "      <td>0</td>\n",
       "      <td>0</td>\n",
       "      <td>0</td>\n",
       "      <td>0</td>\n",
       "      <td>...</td>\n",
       "      <td>248.836281</td>\n",
       "      <td>213.623966</td>\n",
       "      <td>0.0129</td>\n",
       "      <td>0</td>\n",
       "      <td>1</td>\n",
       "      <td>2</td>\n",
       "      <td>3</td>\n",
       "      <td>4</td>\n",
       "      <td>5</td>\n",
       "      <td>6</td>\n",
       "    </tr>\n",
       "  </tbody>\n",
       "</table>\n",
       "<p>1 rows × 98 columns</p>\n",
       "</div>"
      ],
      "text/plain": [
       "           last_update_date backend_name  N_qubtis  N_cx  cx_01  cx_02  cx_03  \\\n",
       "0 2023-09-12 11:00:34-07:00    ibm_perth         7    32      4      0      0   \n",
       "\n",
       "   cx_04  cx_05  cx_06  ...        T1_6        T2_6  readout_error_6  0  1  2  \\\n",
       "0      0      0      0  ...  248.836281  213.623966           0.0129  0  1  2   \n",
       "\n",
       "   3  4  5  6  \n",
       "0  3  4  5  6  \n",
       "\n",
       "[1 rows x 98 columns]"
      ]
     },
     "metadata": {},
     "output_type": "display_data"
    },
    {
     "name": "stdout",
     "output_type": "stream",
     "text": [
      "[2, 1, 0, 3, 4, 5, 6] [2, 1, 0, 3, 4, 5, 6] [0, 1, 2, 3, 4, 5, 6]\n",
      "[6, 1, 4, 3, 4, 5, 6]\n"
     ]
    },
    {
     "name": "stderr",
     "output_type": "stream",
     "text": [
      "\n",
      "100%|███████████████████████████████████████████████████████████████████████████████████████████████████████████████████████████████████████████████████| 1/1 [00:00<00:00, 329.53it/s]\u001b[A\n",
      "100%|████████████████████████████████████████████████████████████████████████████████████████████████████████████████████████████████████████████████████| 5/5 [00:18<00:00,  3.76s/it]"
     ]
    },
    {
     "name": "stdout",
     "output_type": "stream",
     "text": [
      "[2, 1, 0, 3, 4, 5, 6]\n",
      "60 32\n",
      "DNN accuracy without repair operator: 0.0\n",
      "DNN accuracy with repair operator: 0.0\n",
      "MLP accuracy: 0.0\n",
      "MLP with edge features accuracy: 0.0\n"
     ]
    },
    {
     "name": "stderr",
     "output_type": "stream",
     "text": [
      "\n"
     ]
    }
   ],
   "source": [
    "SS = StandardScaler()\n",
    "num_qubits = 7\n",
    "count_or = 0\n",
    "count_nr = 0\n",
    "count_mlp = 0\n",
    "count_mlp_edge = 0\n",
    "original_depth, original_CNOT = [],[]\n",
    "mlp_edge_depth, mlp_edge_CNOT = [],[]\n",
    "dnn_without_ro_depth,dnn_without_ro_CNOT = [],[] \n",
    "dnn_with_ro_depth,dnn_with_ro_CNOT = [],[] \n",
    "mlp_depth, mlp_CNOT = [],[]\n",
    "\n",
    "dnn_time = []\n",
    "mlp_time = []\n",
    "mlp_edge_time = []\n",
    "sabre_time,na_time,dense_time = [],[],[]\n",
    "for qc_i in tqdm(range(len(test_dataset[-5:]))):\n",
    "    qc = test_dataset[qc_i]\n",
    "    data = datetime.today() - timedelta(days=random.randint(1,150))\n",
    "    backends = ['ibm_lagos','ibm_perth','ibm_nairobi']\n",
    "    backend = backends[np.random.randint(0,3)]\n",
    "    l = add_line(qc,backend, optimization_level=3, refresh=True, show= False, datatime=data)\n",
    "    \n",
    "    d={}\n",
    "    for i in range(len(l[0])):\n",
    "        d[str(l[0][i])] = l[1][i]\n",
    "    df = pd.DataFrame(d, index=[0])\n",
    "    df = clear_dataset(df, 7)\n",
    "    last_num_qubits = len(df.columns)-num_qubits\n",
    "    labels = ((df.iloc[:, last_num_qubits:].values)[0]).tolist()\n",
    "    \n",
    "#     time_taken_to_get_df = get_df_time(qc,backend,data)\n",
    "#     print(\"Preprocess time:\",time_taken_to_get_df)\n",
    "    time_taken_to_get_df = 0\n",
    "    \n",
    "    start = time.time()\n",
    "    x = SS.fit_transform(df.iloc[:, 2:last_num_qubits].values)\n",
    "    predicted = dnn.predict(x)\n",
    "    pred_or = np.array(pred_layout(predicted, num_qubits))[0].tolist()\n",
    "    pred_nr = np.array(pred_layout_diff_elem(predicted,num_qubits))[0].tolist()\n",
    "    end = time.time()\n",
    "    dnn_time.append(time_taken_to_get_df + (end-start))\n",
    "    \n",
    "    print(pred_or, pred_nr, labels)\n",
    "    if(pred_or == labels):\n",
    "        count_or = count_or + 1\n",
    "    if(pred_nr == labels):\n",
    "        count_nr = count_nr + 1\n",
    "    \n",
    "    start = time.time()\n",
    "    mlp_pred = get_labels(np.reshape(mlp.predict(x),(7,7)))\n",
    "    end = time.time()\n",
    "    mlp_time.append(time_taken_to_get_df + (end-start))\n",
    "    print(mlp_pred)\n",
    "    if mlp_pred == labels:\n",
    "        count_mlp = count_mlp + 1\n",
    "        \n",
    "    start = time.time()\n",
    "    x = SS.fit_transform(get_graph_features(df))\n",
    "    mlp_edges_pred = get_labels(np.reshape(mlp_edge_feature.predict(x),(7,7)))\n",
    "    end = time.time()\n",
    "    mlp_edge_time.append(time_taken_to_get_df + (end-start))\n",
    "    print(mlp_edges_pred)\n",
    "    if mlp_edges_pred == labels:\n",
    "        count_mlp_edge = count_mlp_edge + 1\n",
    "    \n",
    "    \n",
    "    # original circuit after unrolling\n",
    "    cx, depth = get_transpiled_circ_results(qc, backend, initial_layout=labels)\n",
    "    original_depth.append(depth)\n",
    "    original_CNOT.append(cx)\n",
    "    print(original_depth[-1],original_CNOT[-1])\n",
    "    # NN with edge features\n",
    "    if len(mlp_edges_pred) == len(set(mlp_edges_pred)):\n",
    "        cx, depth = get_transpiled_circ_results(qc, backend, initial_layout=mlp_edges_pred)\n",
    "        mlp_edge_depth.append(depth)\n",
    "        mlp_edge_CNOT.append(cx)\n",
    "    else:\n",
    "        mlp_edge_depth.append(float('NaN'))\n",
    "        mlp_edge_CNOT.append(float('NaN'))\n",
    "        \n",
    "    # NN without edge features\n",
    "    if len(mlp_pred) == len(set(mlp_pred)):\n",
    "        cx, depth = get_transpiled_circ_results(qc, backend, initial_layout=mlp_pred)\n",
    "        mlp_depth.append(depth)\n",
    "        mlp_CNOT.append(cx)\n",
    "    else:\n",
    "        mlp_depth.append(float('NaN'))\n",
    "        mlp_CNOT.append(float('NaN'))\n",
    "        \n",
    "    # DNN without repair operator\n",
    "    if len(pred_or) == len(set(pred_or)):\n",
    "        cx, depth = get_transpiled_circ_results(qc, backend, initial_layout=pred_or)\n",
    "        dnn_without_ro_depth.append(depth)\n",
    "        dnn_without_ro_CNOT.append(cx)\n",
    "    else:\n",
    "        dnn_without_ro_depth.append(float(\"NaN\"))\n",
    "        dnn_without_ro_CNOT.append(float(\"NaN\"))\n",
    "        \n",
    "    # DNN with RO\n",
    "    cx, depth = get_transpiled_circ_results(qc, backend, initial_layout=pred_nr)\n",
    "    dnn_with_ro_depth.append(depth)\n",
    "    dnn_with_ro_CNOT.append(cx)\n",
    "    \n",
    "#     # execution times\n",
    "    basis_gats = basis_gate_dict[backend]\n",
    "    pass_ = Unroller(basis_gats)\n",
    "    pm = PassManager(pass_)\n",
    "    backend = provider.get_backend(backend)\n",
    "    tqc = transpile(qc, backend=backend, optimization_level=0)\n",
    "    tqc = pm.run(tqc)\n",
    "    # noise adaptive time\n",
    "    start = time.time()\n",
    "    new_circ_lv3_na = transpile(tqc, backend=backend, optimization_level=0,layout_method='noise_adaptive')\n",
    "    new_circ_lv3_na._layout.get_physical_bits()\n",
    "    end = time.time()\n",
    "    na_time.append(end-start)\n",
    "    #  sabre time\n",
    "    start = time.time()\n",
    "    new_circ_lv3_sabre = transpile(tqc, backend=backend, optimization_level=0,layout_method='sabre',routing_method='sabre')\n",
    "    new_circ_lv3_sabre._layout.get_physical_bits()\n",
    "    end = time.time()\n",
    "    sabre_time.append(end-start)\n",
    "    # dense time\n",
    "    start = time.time()\n",
    "    new_circ_lv3_dense = transpile(tqc, backend=backend, optimization_level=0)\n",
    "    new_circ_lv3_dense._layout.get_physical_bits()\n",
    "    end = time.time()\n",
    "    dense_time.append(end-start)\n",
    "    \n",
    "\n",
    "print(\"DNN accuracy without repair operator:\", count_or/len(test_dataset))\n",
    "print(\"DNN accuracy with repair operator:\", count_nr/len(test_dataset))\n",
    "print(\"MLP accuracy:\", count_mlp/len(test_dataset))\n",
    "print(\"MLP with edge features accuracy:\", count_mlp_edge/len(test_dataset))"
   ]
  },
  {
   "cell_type": "code",
   "execution_count": 20,
   "id": "12356080",
   "metadata": {},
   "outputs": [],
   "source": [
    "df = pd.DataFrame()\n",
    "df[\"Label Depth\"] = original_depth\n",
    "df[\"Label CNOTs\"] = original_CNOT\n",
    "\n",
    "df[\"NN without edge features Depth\"] = mlp_depth\n",
    "df[\"NN without edge features CNOTs\"] = mlp_CNOT\n",
    "\n",
    "df[\"NN with edge features Depth\"] = mlp_edge_depth\n",
    "df[\"NN with edge features CNOTs\"] = mlp_edge_CNOT\n",
    "\n",
    "df[\"DNN without repair Depth\"] = dnn_without_ro_depth\n",
    "df[\"DNN without repair CNOTs\"] = dnn_without_ro_CNOT\n",
    "\n",
    "df[\"DNN with repair Depth\"] = dnn_with_ro_depth\n",
    "df[\"DNN with repair CNOTs\"] = dnn_with_ro_CNOT\n",
    "\n",
    "df[\"DNN Mapping time\"] = dnn_time\n",
    "df[\"NN without edge features Mapping time\"] = mlp_time\n",
    "df[\"NN with edge features Mapping time\"] = mlp_edge_time\n",
    "df[\"SABRE mapping Mapping time\"] = sabre_time\n",
    "df[\"Noise Adaptive Mapping time\"] = na_time\n",
    "df[\"Dense Mapping time\"] = dense_time"
   ]
  },
  {
   "cell_type": "code",
   "execution_count": 21,
   "id": "17b14eaa",
   "metadata": {},
   "outputs": [
    {
     "data": {
      "text/html": [
       "<div>\n",
       "<style scoped>\n",
       "    .dataframe tbody tr th:only-of-type {\n",
       "        vertical-align: middle;\n",
       "    }\n",
       "\n",
       "    .dataframe tbody tr th {\n",
       "        vertical-align: top;\n",
       "    }\n",
       "\n",
       "    .dataframe thead th {\n",
       "        text-align: right;\n",
       "    }\n",
       "</style>\n",
       "<table border=\"1\" class=\"dataframe\">\n",
       "  <thead>\n",
       "    <tr style=\"text-align: right;\">\n",
       "      <th></th>\n",
       "      <th>Label Depth</th>\n",
       "      <th>Label CNOTs</th>\n",
       "      <th>NN without edge features Depth</th>\n",
       "      <th>NN without edge features CNOTs</th>\n",
       "      <th>NN with edge features Depth</th>\n",
       "      <th>NN with edge features CNOTs</th>\n",
       "      <th>DNN without repair Depth</th>\n",
       "      <th>DNN without repair CNOTs</th>\n",
       "      <th>DNN with repair Depth</th>\n",
       "      <th>DNN with repair CNOTs</th>\n",
       "      <th>DNN Mapping time</th>\n",
       "      <th>NN without edge features Mapping time</th>\n",
       "      <th>NN with edge features Mapping time</th>\n",
       "      <th>SABRE mapping Mapping time</th>\n",
       "      <th>Noise Adaptive Mapping time</th>\n",
       "      <th>Dense Mapping time</th>\n",
       "    </tr>\n",
       "  </thead>\n",
       "  <tbody>\n",
       "    <tr>\n",
       "      <th>0</th>\n",
       "      <td>60</td>\n",
       "      <td>32</td>\n",
       "      <td>NaN</td>\n",
       "      <td>NaN</td>\n",
       "      <td>62</td>\n",
       "      <td>35</td>\n",
       "      <td>62</td>\n",
       "      <td>35</td>\n",
       "      <td>62</td>\n",
       "      <td>35</td>\n",
       "      <td>0.010940</td>\n",
       "      <td>0.008420</td>\n",
       "      <td>0.013839</td>\n",
       "      <td>0.011827</td>\n",
       "      <td>0.011510</td>\n",
       "      <td>0.002655</td>\n",
       "    </tr>\n",
       "    <tr>\n",
       "      <th>1</th>\n",
       "      <td>59</td>\n",
       "      <td>44</td>\n",
       "      <td>NaN</td>\n",
       "      <td>NaN</td>\n",
       "      <td>59</td>\n",
       "      <td>44</td>\n",
       "      <td>59</td>\n",
       "      <td>44</td>\n",
       "      <td>59</td>\n",
       "      <td>44</td>\n",
       "      <td>0.010616</td>\n",
       "      <td>0.008597</td>\n",
       "      <td>0.012853</td>\n",
       "      <td>0.014319</td>\n",
       "      <td>0.014587</td>\n",
       "      <td>0.002804</td>\n",
       "    </tr>\n",
       "    <tr>\n",
       "      <th>2</th>\n",
       "      <td>57</td>\n",
       "      <td>38</td>\n",
       "      <td>NaN</td>\n",
       "      <td>NaN</td>\n",
       "      <td>57</td>\n",
       "      <td>38</td>\n",
       "      <td>57</td>\n",
       "      <td>38</td>\n",
       "      <td>57</td>\n",
       "      <td>38</td>\n",
       "      <td>0.011061</td>\n",
       "      <td>0.008651</td>\n",
       "      <td>0.012619</td>\n",
       "      <td>0.009130</td>\n",
       "      <td>0.015255</td>\n",
       "      <td>0.002752</td>\n",
       "    </tr>\n",
       "    <tr>\n",
       "      <th>3</th>\n",
       "      <td>66</td>\n",
       "      <td>44</td>\n",
       "      <td>NaN</td>\n",
       "      <td>NaN</td>\n",
       "      <td>56</td>\n",
       "      <td>29</td>\n",
       "      <td>56</td>\n",
       "      <td>29</td>\n",
       "      <td>56</td>\n",
       "      <td>29</td>\n",
       "      <td>0.010974</td>\n",
       "      <td>0.008689</td>\n",
       "      <td>0.013744</td>\n",
       "      <td>0.012737</td>\n",
       "      <td>0.011660</td>\n",
       "      <td>0.002606</td>\n",
       "    </tr>\n",
       "    <tr>\n",
       "      <th>4</th>\n",
       "      <td>56</td>\n",
       "      <td>29</td>\n",
       "      <td>NaN</td>\n",
       "      <td>NaN</td>\n",
       "      <td>62</td>\n",
       "      <td>35</td>\n",
       "      <td>62</td>\n",
       "      <td>35</td>\n",
       "      <td>62</td>\n",
       "      <td>35</td>\n",
       "      <td>0.010890</td>\n",
       "      <td>0.008564</td>\n",
       "      <td>0.013134</td>\n",
       "      <td>0.008358</td>\n",
       "      <td>0.002935</td>\n",
       "      <td>0.002746</td>\n",
       "    </tr>\n",
       "  </tbody>\n",
       "</table>\n",
       "</div>"
      ],
      "text/plain": [
       "   Label Depth  Label CNOTs  NN without edge features Depth  \\\n",
       "0           60           32                             NaN   \n",
       "1           59           44                             NaN   \n",
       "2           57           38                             NaN   \n",
       "3           66           44                             NaN   \n",
       "4           56           29                             NaN   \n",
       "\n",
       "   NN without edge features CNOTs  NN with edge features Depth  \\\n",
       "0                             NaN                           62   \n",
       "1                             NaN                           59   \n",
       "2                             NaN                           57   \n",
       "3                             NaN                           56   \n",
       "4                             NaN                           62   \n",
       "\n",
       "   NN with edge features CNOTs  DNN without repair Depth  \\\n",
       "0                           35                        62   \n",
       "1                           44                        59   \n",
       "2                           38                        57   \n",
       "3                           29                        56   \n",
       "4                           35                        62   \n",
       "\n",
       "   DNN without repair CNOTs  DNN with repair Depth  DNN with repair CNOTs  \\\n",
       "0                        35                     62                     35   \n",
       "1                        44                     59                     44   \n",
       "2                        38                     57                     38   \n",
       "3                        29                     56                     29   \n",
       "4                        35                     62                     35   \n",
       "\n",
       "   DNN Mapping time  NN without edge features Mapping time  \\\n",
       "0          0.010940                               0.008420   \n",
       "1          0.010616                               0.008597   \n",
       "2          0.011061                               0.008651   \n",
       "3          0.010974                               0.008689   \n",
       "4          0.010890                               0.008564   \n",
       "\n",
       "   NN with edge features Mapping time  SABRE mapping Mapping time  \\\n",
       "0                            0.013839                    0.011827   \n",
       "1                            0.012853                    0.014319   \n",
       "2                            0.012619                    0.009130   \n",
       "3                            0.013744                    0.012737   \n",
       "4                            0.013134                    0.008358   \n",
       "\n",
       "   Noise Adaptive Mapping time  Dense Mapping time  \n",
       "0                     0.011510            0.002655  \n",
       "1                     0.014587            0.002804  \n",
       "2                     0.015255            0.002752  \n",
       "3                     0.011660            0.002606  \n",
       "4                     0.002935            0.002746  "
      ]
     },
     "execution_count": 21,
     "metadata": {},
     "output_type": "execute_result"
    }
   ],
   "source": [
    "df"
   ]
  },
  {
   "cell_type": "code",
   "execution_count": null,
   "id": "ed84c056",
   "metadata": {},
   "outputs": [],
   "source": []
  },
  {
   "cell_type": "code",
   "execution_count": null,
   "id": "1cebcb0a",
   "metadata": {},
   "outputs": [],
   "source": []
  },
  {
   "cell_type": "code",
   "execution_count": null,
   "id": "c18eb0b2",
   "metadata": {},
   "outputs": [],
   "source": [
    "import itertools\n",
    "layouts = list(itertools.permutations([0,1,2,3,4,5,6]))\n",
    "qc = test_dataset[-8]\n",
    "basis_gats = basis_gate_dict['ibm_nairobi']\n",
    "pass_ = Unroller(basis_gats)\n",
    "pm = PassManager(pass_)\n",
    "backend = provider.get_backend('ibm_nairobi')\n",
    "for l in layouts[:20]:\n",
    "    tqc = transpile(qc, backend=backend,initial_layout=list(l), optimization_level=0)\n",
    "    tqc = pm.run(tqc)\n",
    "    \n",
    "    print(l,tqc.depth(),dict(tqc.count_ops())['cx'])"
   ]
  },
  {
   "cell_type": "code",
   "execution_count": null,
   "id": "7f4ca1f2",
   "metadata": {},
   "outputs": [],
   "source": []
  },
  {
   "cell_type": "markdown",
   "id": "d8239330",
   "metadata": {},
   "source": [
    "## Depth vs. Mapping time"
   ]
  },
  {
   "cell_type": "code",
   "execution_count": null,
   "id": "ec4426f1",
   "metadata": {},
   "outputs": [],
   "source": [
    "from qiskit.circuit.random import random_circuit\n"
   ]
  },
  {
   "cell_type": "code",
   "execution_count": 50,
   "id": "84cbbfa9",
   "metadata": {
    "scrolled": true
   },
   "outputs": [
    {
     "name": "stderr",
     "output_type": "stream",
     "text": [
      "\r",
      "  0%|                                                                                                                                                           | 0/50 [00:00<?, ?it/s]"
     ]
    },
    {
     "name": "stdout",
     "output_type": "stream",
     "text": [
      "2023-07-27 12:21:03.712325\n",
      "Backend topology: 2023-07-27 12:21:03.712325\n",
      "<qiskit.providers.models.backendproperties.BackendProperties object at 0x7f528fc76b20>\n",
      "Depth: [264, 264, 102, 102, 102, 102]\n",
      "not na\n",
      "[2, 1, 0, 3, 4, 5, 6] [2, 1, 0, 3, 4, 5, 6] [0, 1, 2, 3, 4, 5, 6]\n",
      "[6, 1, 4, 3, 4, 5, 6]\n"
     ]
    },
    {
     "name": "stderr",
     "output_type": "stream",
     "text": [
      "\n",
      "100%|███████████████████████████████████████████████████████████████████████████████████████████████████████████████████████████████████████████████████| 1/1 [00:00<00:00, 542.74it/s]\u001b[A\n",
      "  2%|██▉                                                                                                                                                | 1/50 [00:02<01:52,  2.30s/it]"
     ]
    },
    {
     "name": "stdout",
     "output_type": "stream",
     "text": [
      "[0.012806415557861328]\n",
      "2023-11-19 12:21:06.011577\n",
      "Backend topology: 2023-11-19 12:21:06.011577\n",
      "<qiskit.providers.models.backendproperties.BackendProperties object at 0x7f5240066bb0>\n",
      "Depth: [220, 220, 142, 142, 190, 190]\n",
      "not na\n",
      "[2, 1, 0, 3, 4, 5, 6] [2, 1, 0, 3, 4, 5, 6] [0, 1, 2, 3, 4, 5, 6]\n",
      "[6, 1, 4, 3, 4, 5, 6]\n"
     ]
    },
    {
     "name": "stderr",
     "output_type": "stream",
     "text": [
      "\n",
      "100%|███████████████████████████████████████████████████████████████████████████████████████████████████████████████████████████████████████████████████| 1/1 [00:00<00:00, 575.51it/s]\u001b[A\n",
      "  4%|█████▉                                                                                                                                             | 2/50 [00:04<01:49,  2.29s/it]"
     ]
    },
    {
     "name": "stdout",
     "output_type": "stream",
     "text": [
      "[0.012806415557861328, 0.014092683792114258]\n",
      "2023-08-28 12:21:08.291822\n",
      "Backend topology: 2023-08-28 12:21:08.291822\n",
      "<qiskit.providers.models.backendproperties.BackendProperties object at 0x7f529558c520>\n",
      "Depth: [222, 222, 184, 184, 232, 232]\n",
      "not na\n",
      "[2, 1, 0, 3, 4, 5, 6] [2, 1, 0, 3, 4, 5, 6] [0, 1, 2, 3, 4, 5, 6]\n",
      "[6, 1, 4, 3, 4, 5, 6]\n"
     ]
    },
    {
     "name": "stderr",
     "output_type": "stream",
     "text": [
      "\n",
      "100%|███████████████████████████████████████████████████████████████████████████████████████████████████████████████████████████████████████████████████| 1/1 [00:00<00:00, 551.01it/s]\u001b[A\n",
      "  6%|████████▊                                                                                                                                          | 3/50 [00:06<01:46,  2.27s/it]"
     ]
    },
    {
     "name": "stdout",
     "output_type": "stream",
     "text": [
      "[0.012806415557861328, 0.014092683792114258, 0.012465715408325195]\n",
      "2023-11-11 12:21:10.534628\n",
      "Backend topology: 2023-11-11 12:21:10.534628\n",
      "<qiskit.providers.models.backendproperties.BackendProperties object at 0x7f5296cdc640>\n",
      "Depth: [156, 156, 154, 154, 156, 156]\n",
      "not na\n",
      "[2, 1, 0, 3, 4, 5, 6] [2, 1, 0, 3, 4, 5, 6] [0, 1, 2, 3, 4, 5, 6]\n",
      "[6, 1, 4, 3, 4, 5, 6]\n"
     ]
    },
    {
     "name": "stderr",
     "output_type": "stream",
     "text": [
      "\n",
      "100%|███████████████████████████████████████████████████████████████████████████████████████████████████████████████████████████████████████████████████| 1/1 [00:00<00:00, 533.90it/s]\u001b[A\n",
      "  8%|███████████▊                                                                                                                                       | 4/50 [00:09<01:42,  2.24s/it]"
     ]
    },
    {
     "name": "stdout",
     "output_type": "stream",
     "text": [
      "[0.012806415557861328, 0.014092683792114258, 0.012465715408325195, 0.012949228286743164]\n",
      "2023-08-02 12:21:12.726940\n",
      "Backend topology: 2023-08-02 12:21:12.726940\n",
      "<qiskit.providers.models.backendproperties.BackendProperties object at 0x7f529b16a5e0>\n",
      "Depth: [610, 610, 300, 300, 300, 300]\n",
      "not na\n",
      "[2, 1, 0, 3, 4, 5, 6] [2, 1, 0, 3, 4, 5, 6] [0, 1, 2, 3, 4, 5, 6]\n",
      "[6, 1, 4, 3, 4, 5, 6]\n"
     ]
    },
    {
     "name": "stderr",
     "output_type": "stream",
     "text": [
      "\n",
      "100%|███████████████████████████████████████████████████████████████████████████████████████████████████████████████████████████████████████████████████| 1/1 [00:00<00:00, 542.25it/s]\u001b[A\n",
      " 10%|██████████████▋                                                                                                                                    | 5/50 [00:12<01:55,  2.58s/it]"
     ]
    },
    {
     "name": "stdout",
     "output_type": "stream",
     "text": [
      "[0.012806415557861328, 0.014092683792114258, 0.012465715408325195, 0.012949228286743164, 0.012993574142456055]\n",
      "2023-09-16 12:21:15.903584\n",
      "Backend topology: 2023-09-16 12:21:15.903584\n",
      "<qiskit.providers.models.backendproperties.BackendProperties object at 0x7f529407a5e0>\n",
      "Depth: [372, 372, 316, 316, 316, 316]\n",
      "not na\n",
      "[2, 1, 0, 3, 4, 5, 6] [2, 1, 0, 3, 4, 5, 6] [0, 1, 2, 3, 4, 5, 6]\n",
      "[6, 1, 4, 3, 4, 5, 6]\n"
     ]
    },
    {
     "name": "stderr",
     "output_type": "stream",
     "text": [
      "\n",
      "100%|███████████████████████████████████████████████████████████████████████████████████████████████████████████████████████████████████████████████████| 1/1 [00:00<00:00, 577.65it/s]\u001b[A\n",
      " 12%|█████████████████▋                                                                                                                                 | 6/50 [00:15<02:10,  2.97s/it]"
     ]
    },
    {
     "name": "stdout",
     "output_type": "stream",
     "text": [
      "[0.012806415557861328, 0.014092683792114258, 0.012465715408325195, 0.012949228286743164, 0.012993574142456055, 0.012790918350219727]\n",
      "2023-10-13 12:21:19.640877\n",
      "Backend topology: 2023-10-13 12:21:19.640877\n",
      "<qiskit.providers.models.backendproperties.BackendProperties object at 0x7f524005eb50>\n",
      "Depth: [364, 364, 358, 358, 372, 372]\n",
      "not na\n",
      "[2, 1, 0, 3, 4, 5, 6] [2, 1, 0, 3, 4, 5, 6] [0, 1, 2, 3, 4, 5, 6]\n",
      "[6, 1, 4, 3, 4, 5, 6]\n"
     ]
    },
    {
     "name": "stderr",
     "output_type": "stream",
     "text": [
      "\n",
      "100%|███████████████████████████████████████████████████████████████████████████████████████████████████████████████████████████████████████████████████| 1/1 [00:00<00:00, 556.94it/s]\u001b[A\n",
      " 14%|████████████████████▌                                                                                                                              | 7/50 [00:19<02:12,  3.09s/it]"
     ]
    },
    {
     "name": "stdout",
     "output_type": "stream",
     "text": [
      "[0.012806415557861328, 0.014092683792114258, 0.012465715408325195, 0.012949228286743164, 0.012993574142456055, 0.012790918350219727, 0.012472867965698242]\n",
      "2023-09-23 12:21:22.973886\n",
      "Backend topology: 2023-09-23 12:21:22.973886\n",
      "<qiskit.providers.models.backendproperties.BackendProperties object at 0x7f528ed1d0a0>\n",
      "Depth: [472, 472, 474, 474, 474, 474]\n",
      "na\n",
      "[2, 1, 0, 3, 4, 5, 6] [2, 1, 0, 3, 4, 5, 6] [2, 0, 1, 3, 6, 5, 4]\n",
      "[6, 1, 4, 3, 4, 5, 6]\n"
     ]
    },
    {
     "name": "stderr",
     "output_type": "stream",
     "text": [
      "\n",
      "100%|███████████████████████████████████████████████████████████████████████████████████████████████████████████████████████████████████████████████████| 1/1 [00:00<00:00, 372.63it/s]\u001b[A"
     ]
    },
    {
     "name": "stdout",
     "output_type": "stream",
     "text": [
      "[0.012806415557861328, 0.014092683792114258, 0.012465715408325195, 0.012949228286743164, 0.012993574142456055, 0.012790918350219727, 0.012472867965698242, 0.014516353607177734]\n"
     ]
    },
    {
     "name": "stderr",
     "output_type": "stream",
     "text": [
      "\n",
      " 16%|███████████████████████▌                                                                                                                           | 8/50 [00:24<02:32,  3.63s/it]"
     ]
    },
    {
     "name": "stdout",
     "output_type": "stream",
     "text": [
      "2023-11-10 12:21:27.765603\n",
      "Backend topology: 2023-11-10 12:21:27.765603\n",
      "<qiskit.providers.models.backendproperties.BackendProperties object at 0x7f5290d1f0d0>\n",
      "Depth: [556, 556, 558, 558, 560, 560]\n",
      "na\n",
      "[2, 1, 0, 3, 4, 5, 6] [2, 1, 0, 3, 4, 5, 6] [4, 5, 6, 3, 2, 1, 0]\n",
      "[6, 1, 4, 3, 4, 5, 6]\n"
     ]
    },
    {
     "name": "stderr",
     "output_type": "stream",
     "text": [
      "\n",
      "100%|███████████████████████████████████████████████████████████████████████████████████████████████████████████████████████████████████████████████████| 1/1 [00:00<00:00, 569.49it/s]\u001b[A"
     ]
    },
    {
     "name": "stdout",
     "output_type": "stream",
     "text": [
      "[0.012806415557861328, 0.014092683792114258, 0.012465715408325195, 0.012949228286743164, 0.012993574142456055, 0.012790918350219727, 0.012472867965698242, 0.014516353607177734, 0.013238191604614258]\n"
     ]
    },
    {
     "name": "stderr",
     "output_type": "stream",
     "text": [
      "\n",
      " 18%|██████████████████████████▍                                                                                                                        | 9/50 [00:27<02:27,  3.59s/it]"
     ]
    },
    {
     "name": "stdout",
     "output_type": "stream",
     "text": [
      "2023-07-03 12:21:31.253111\n",
      "Backend topology: 2023-07-03 12:21:31.253111\n",
      "<qiskit.providers.models.backendproperties.BackendProperties object at 0x7f52929f0430>\n",
      "Depth: [1166, 1166, 574, 574, 574, 574]\n",
      "not na\n",
      "[2, 1, 0, 3, 4, 5, 6] [2, 1, 0, 3, 4, 5, 6] [0, 1, 2, 3, 4, 5, 6]\n",
      "[6, 1, 4, 3, 4, 5, 6]\n"
     ]
    },
    {
     "name": "stderr",
     "output_type": "stream",
     "text": [
      "\n",
      "100%|███████████████████████████████████████████████████████████████████████████████████████████████████████████████████████████████████████████████████| 1/1 [00:00<00:00, 354.73it/s]\u001b[A"
     ]
    },
    {
     "name": "stdout",
     "output_type": "stream",
     "text": [
      "[0.012806415557861328, 0.014092683792114258, 0.012465715408325195, 0.012949228286743164, 0.012993574142456055, 0.012790918350219727, 0.012472867965698242, 0.014516353607177734, 0.013238191604614258, 0.014684677124023438]\n"
     ]
    },
    {
     "name": "stderr",
     "output_type": "stream",
     "text": [
      "\n",
      " 20%|█████████████████████████████▏                                                                                                                    | 10/50 [00:32<02:37,  3.94s/it]"
     ]
    },
    {
     "name": "stdout",
     "output_type": "stream",
     "text": [
      "2023-11-11 12:21:35.981025\n",
      "Backend topology: 2023-11-11 12:21:35.981025\n",
      "<qiskit.providers.models.backendproperties.BackendProperties object at 0x7f528c185d60>\n",
      "Depth: [704, 704, 704, 704, 706, 706]\n",
      "na\n",
      "[2, 1, 0, 3, 4, 5, 6] [2, 1, 0, 3, 4, 5, 6] [2, 0, 1, 3, 6, 5, 4]\n",
      "[6, 1, 4, 3, 4, 5, 6]\n"
     ]
    },
    {
     "name": "stderr",
     "output_type": "stream",
     "text": [
      "\n",
      "100%|███████████████████████████████████████████████████████████████████████████████████████████████████████████████████████████████████████████████████| 1/1 [00:00<00:00, 492.81it/s]\u001b[A"
     ]
    },
    {
     "name": "stdout",
     "output_type": "stream",
     "text": [
      "[0.012806415557861328, 0.014092683792114258, 0.012465715408325195, 0.012949228286743164, 0.012993574142456055, 0.012790918350219727, 0.012472867965698242, 0.014516353607177734, 0.013238191604614258, 0.014684677124023438, 0.01348257064819336]\n"
     ]
    },
    {
     "name": "stderr",
     "output_type": "stream",
     "text": [
      "\n",
      " 22%|████████████████████████████████                                                                                                                  | 11/50 [00:37<02:43,  4.18s/it]"
     ]
    },
    {
     "name": "stdout",
     "output_type": "stream",
     "text": [
      "2023-07-07 12:21:40.716901\n",
      "Backend topology: 2023-07-07 12:21:40.716901\n",
      "<qiskit.providers.models.backendproperties.BackendProperties object at 0x7f528fd24d60>\n",
      "Depth: [612, 612, 602, 602, 602, 602]\n",
      "not na\n",
      "[2, 1, 0, 3, 4, 5, 6] [2, 1, 0, 3, 4, 5, 6] [0, 1, 2, 3, 4, 5, 6]\n",
      "[6, 1, 4, 3, 4, 5, 6]\n"
     ]
    },
    {
     "name": "stderr",
     "output_type": "stream",
     "text": [
      "\n",
      "100%|███████████████████████████████████████████████████████████████████████████████████████████████████████████████████████████████████████████████████| 1/1 [00:00<00:00, 578.29it/s]\u001b[A"
     ]
    },
    {
     "name": "stdout",
     "output_type": "stream",
     "text": [
      "[0.012806415557861328, 0.014092683792114258, 0.012465715408325195, 0.012949228286743164, 0.012993574142456055, 0.012790918350219727, 0.012472867965698242, 0.014516353607177734, 0.013238191604614258, 0.014684677124023438, 0.01348257064819336, 0.012863636016845703]\n"
     ]
    },
    {
     "name": "stderr",
     "output_type": "stream",
     "text": [
      "\n",
      "\r",
      " 24%|███████████████████████████████████                                                                                                               | 12/50 [00:41<02:38,  4.17s/it]"
     ]
    },
    {
     "name": "stdout",
     "output_type": "stream",
     "text": [
      "2023-08-31 12:21:44.856842\n",
      "Backend topology: 2023-08-31 12:21:44.856842\n",
      "<qiskit.providers.models.backendproperties.BackendProperties object at 0x7f52643ab0d0>\n",
      "Depth: [1286, 1286, 744, 744, 744, 744]\n",
      "not na\n",
      "[2, 1, 0, 3, 4, 5, 6] [2, 1, 0, 3, 4, 5, 6] [0, 1, 2, 3, 4, 5, 6]\n",
      "[6, 1, 4, 3, 4, 5, 6]\n"
     ]
    },
    {
     "name": "stderr",
     "output_type": "stream",
     "text": [
      "\n",
      "100%|███████████████████████████████████████████████████████████████████████████████████████████████████████████████████████████████████████████████████| 1/1 [00:00<00:00, 583.43it/s]\u001b[A"
     ]
    },
    {
     "name": "stdout",
     "output_type": "stream",
     "text": [
      "[0.012806415557861328, 0.014092683792114258, 0.012465715408325195, 0.012949228286743164, 0.012993574142456055, 0.012790918350219727, 0.012472867965698242, 0.014516353607177734, 0.013238191604614258, 0.014684677124023438, 0.01348257064819336, 0.012863636016845703, 0.013819456100463867]\n"
     ]
    },
    {
     "name": "stderr",
     "output_type": "stream",
     "text": [
      "\n",
      " 26%|█████████████████████████████████████▉                                                                                                            | 13/50 [00:46<02:48,  4.54s/it]"
     ]
    },
    {
     "name": "stdout",
     "output_type": "stream",
     "text": [
      "2023-10-19 12:21:50.259225\n",
      "Backend topology: 2023-10-19 12:21:50.259225\n",
      "<qiskit.providers.models.backendproperties.BackendProperties object at 0x7f52939cc1f0>\n",
      "Depth: [964, 964, 876, 876, 896, 896]\n",
      "not na\n",
      "[2, 1, 0, 3, 4, 5, 6] [2, 1, 0, 3, 4, 5, 6] [0, 1, 2, 3, 4, 5, 6]\n",
      "[6, 1, 4, 3, 4, 5, 6]\n"
     ]
    },
    {
     "name": "stderr",
     "output_type": "stream",
     "text": [
      "\n",
      "100%|███████████████████████████████████████████████████████████████████████████████████████████████████████████████████████████████████████████████████| 1/1 [00:00<00:00, 403.34it/s]\u001b[A"
     ]
    },
    {
     "name": "stdout",
     "output_type": "stream",
     "text": [
      "[0.012806415557861328, 0.014092683792114258, 0.012465715408325195, 0.012949228286743164, 0.012993574142456055, 0.012790918350219727, 0.012472867965698242, 0.014516353607177734, 0.013238191604614258, 0.014684677124023438, 0.01348257064819336, 0.012863636016845703, 0.013819456100463867, 0.01368570327758789]\n"
     ]
    },
    {
     "name": "stderr",
     "output_type": "stream",
     "text": [
      "\n",
      " 28%|████████████████████████████████████████▉                                                                                                         | 14/50 [00:52<02:54,  4.86s/it]"
     ]
    },
    {
     "name": "stdout",
     "output_type": "stream",
     "text": [
      "2023-09-15 12:21:55.844044\n",
      "Backend topology: 2023-09-15 12:21:55.844044\n",
      "<qiskit.providers.models.backendproperties.BackendProperties object at 0x7f529310ebb0>\n",
      "Depth: [1176, 1176, 1012, 1012, 1012, 1012]\n",
      "not na\n",
      "[2, 1, 0, 3, 4, 5, 6] [2, 1, 0, 3, 4, 5, 6] [0, 1, 2, 3, 4, 5, 6]\n",
      "[6, 1, 4, 3, 4, 5, 6]\n"
     ]
    },
    {
     "name": "stderr",
     "output_type": "stream",
     "text": [
      "\n",
      "100%|███████████████████████████████████████████████████████████████████████████████████████████████████████████████████████████████████████████████████| 1/1 [00:00<00:00, 556.13it/s]\u001b[A"
     ]
    },
    {
     "name": "stdout",
     "output_type": "stream",
     "text": [
      "[0.012806415557861328, 0.014092683792114258, 0.012465715408325195, 0.012949228286743164, 0.012993574142456055, 0.012790918350219727, 0.012472867965698242, 0.014516353607177734, 0.013238191604614258, 0.014684677124023438, 0.01348257064819336, 0.012863636016845703, 0.013819456100463867, 0.01368570327758789, 0.012771844863891602]\n"
     ]
    },
    {
     "name": "stderr",
     "output_type": "stream",
     "text": [
      "\n",
      " 30%|███████████████████████████████████████████▊                                                                                                      | 15/50 [00:58<03:02,  5.20s/it]"
     ]
    },
    {
     "name": "stdout",
     "output_type": "stream",
     "text": [
      "2023-11-23 12:22:01.843862\n",
      "Backend topology: 2023-11-23 12:22:01.843862\n",
      "<qiskit.providers.models.backendproperties.BackendProperties object at 0x7f5292dd8e50>\n",
      "Depth: [1526, 1526, 1154, 1154, 1154, 1154]\n",
      "not na\n",
      "[2, 1, 0, 3, 4, 5, 6] [2, 1, 0, 3, 4, 5, 6] [0, 1, 2, 3, 4, 5, 6]\n",
      "[6, 1, 4, 3, 4, 5, 6]\n"
     ]
    },
    {
     "name": "stderr",
     "output_type": "stream",
     "text": [
      "\n",
      "100%|███████████████████████████████████████████████████████████████████████████████████████████████████████████████████████████████████████████████████| 1/1 [00:00<00:00, 594.26it/s]\u001b[A"
     ]
    },
    {
     "name": "stdout",
     "output_type": "stream",
     "text": [
      "[0.012806415557861328, 0.014092683792114258, 0.012465715408325195, 0.012949228286743164, 0.012993574142456055, 0.012790918350219727, 0.012472867965698242, 0.014516353607177734, 0.013238191604614258, 0.014684677124023438, 0.01348257064819336, 0.012863636016845703, 0.013819456100463867, 0.01368570327758789, 0.012771844863891602, 0.013649463653564453]\n"
     ]
    },
    {
     "name": "stderr",
     "output_type": "stream",
     "text": [
      "\n",
      " 32%|██████████████████████████████████████████████▋                                                                                                   | 16/50 [01:13<04:37,  8.15s/it]"
     ]
    },
    {
     "name": "stdout",
     "output_type": "stream",
     "text": [
      "2023-10-15 12:22:16.844854\n",
      "Backend topology: 2023-10-15 12:22:16.844854\n",
      "<qiskit.providers.models.backendproperties.BackendProperties object at 0x7f5291476a30>\n",
      "Depth: [1812, 1812, 1032, 1032, 1032, 1032]\n",
      "not na\n",
      "[2, 1, 0, 3, 4, 5, 6] [2, 1, 0, 3, 4, 5, 6] [0, 1, 2, 3, 4, 5, 6]\n",
      "[6, 1, 4, 3, 4, 5, 6]\n"
     ]
    },
    {
     "name": "stderr",
     "output_type": "stream",
     "text": [
      "\n",
      "100%|███████████████████████████████████████████████████████████████████████████████████████████████████████████████████████████████████████████████████| 1/1 [00:00<00:00, 560.29it/s]\u001b[A"
     ]
    },
    {
     "name": "stdout",
     "output_type": "stream",
     "text": [
      "[0.012806415557861328, 0.014092683792114258, 0.012465715408325195, 0.012949228286743164, 0.012993574142456055, 0.012790918350219727, 0.012472867965698242, 0.014516353607177734, 0.013238191604614258, 0.014684677124023438, 0.01348257064819336, 0.012863636016845703, 0.013819456100463867, 0.01368570327758789, 0.012771844863891602, 0.013649463653564453, 0.012921571731567383]\n"
     ]
    },
    {
     "name": "stderr",
     "output_type": "stream",
     "text": [
      "\n",
      " 34%|█████████████████████████████████████████████████▋                                                                                                | 17/50 [01:20<04:24,  8.02s/it]"
     ]
    },
    {
     "name": "stdout",
     "output_type": "stream",
     "text": [
      "2023-10-02 12:22:24.553948\n",
      "Backend topology: 2023-10-02 12:22:24.553948\n",
      "<qiskit.providers.models.backendproperties.BackendProperties object at 0x7f5224546e80>\n",
      "Depth: [1146, 1146, 1136, 1136, 1138, 1138]\n",
      "not na\n",
      "[2, 1, 0, 3, 4, 5, 6] [2, 1, 0, 3, 4, 5, 6] [0, 1, 2, 3, 4, 5, 6]\n",
      "[6, 1, 4, 3, 4, 5, 6]\n"
     ]
    },
    {
     "name": "stderr",
     "output_type": "stream",
     "text": [
      "\n",
      "100%|███████████████████████████████████████████████████████████████████████████████████████████████████████████████████████████████████████████████████| 1/1 [00:00<00:00, 384.02it/s]\u001b[A"
     ]
    },
    {
     "name": "stdout",
     "output_type": "stream",
     "text": [
      "[0.012806415557861328, 0.014092683792114258, 0.012465715408325195, 0.012949228286743164, 0.012993574142456055, 0.012790918350219727, 0.012472867965698242, 0.014516353607177734, 0.013238191604614258, 0.014684677124023438, 0.01348257064819336, 0.012863636016845703, 0.013819456100463867, 0.01368570327758789, 0.012771844863891602, 0.013649463653564453, 0.012921571731567383, 0.013665199279785156]\n"
     ]
    },
    {
     "name": "stderr",
     "output_type": "stream",
     "text": [
      "\n",
      " 36%|████████████████████████████████████████████████████▌                                                                                             | 18/50 [01:28<04:14,  7.94s/it]"
     ]
    },
    {
     "name": "stdout",
     "output_type": "stream",
     "text": [
      "2023-07-17 12:22:32.319498\n",
      "Backend topology: 2023-07-17 12:22:32.319498\n",
      "<qiskit.providers.models.backendproperties.BackendProperties object at 0x7f52247c28e0>\n",
      "Depth: [1184, 1184, 1130, 1130, 1130, 1130]\n",
      "not na\n",
      "[2, 1, 0, 3, 4, 5, 6] [2, 1, 0, 3, 4, 5, 6] [0, 1, 2, 3, 4, 5, 6]\n",
      "[6, 1, 4, 3, 4, 5, 6]\n"
     ]
    },
    {
     "name": "stderr",
     "output_type": "stream",
     "text": [
      "\n",
      "100%|███████████████████████████████████████████████████████████████████████████████████████████████████████████████████████████████████████████████████| 1/1 [00:00<00:00, 595.78it/s]\u001b[A"
     ]
    },
    {
     "name": "stdout",
     "output_type": "stream",
     "text": [
      "[0.012806415557861328, 0.014092683792114258, 0.012465715408325195, 0.012949228286743164, 0.012993574142456055, 0.012790918350219727, 0.012472867965698242, 0.014516353607177734, 0.013238191604614258, 0.014684677124023438, 0.01348257064819336, 0.012863636016845703, 0.013819456100463867, 0.01368570327758789, 0.012771844863891602, 0.013649463653564453, 0.012921571731567383, 0.013665199279785156, 0.013269901275634766]\n"
     ]
    },
    {
     "name": "stderr",
     "output_type": "stream",
     "text": [
      "\n",
      " 38%|███████████████████████████████████████████████████████▍                                                                                          | 19/50 [01:35<03:56,  7.64s/it]"
     ]
    },
    {
     "name": "stdout",
     "output_type": "stream",
     "text": [
      "2023-10-22 12:22:39.260861\n",
      "Backend topology: 2023-10-22 12:22:39.260861\n",
      "<qiskit.providers.models.backendproperties.BackendProperties object at 0x7f5292d12340>\n",
      "Depth: [1136, 1136, 1140, 1140, 1138, 1138]\n",
      "na\n",
      "[2, 1, 0, 3, 4, 5, 6] [2, 1, 0, 3, 4, 5, 6] [4, 5, 6, 3, 2, 1, 0]\n",
      "[6, 1, 4, 3, 4, 5, 6]\n"
     ]
    },
    {
     "name": "stderr",
     "output_type": "stream",
     "text": [
      "\n",
      "100%|███████████████████████████████████████████████████████████████████████████████████████████████████████████████████████████████████████████████████| 1/1 [00:00<00:00, 554.00it/s]\u001b[A"
     ]
    },
    {
     "name": "stdout",
     "output_type": "stream",
     "text": [
      "[0.012806415557861328, 0.014092683792114258, 0.012465715408325195, 0.012949228286743164, 0.012993574142456055, 0.012790918350219727, 0.012472867965698242, 0.014516353607177734, 0.013238191604614258, 0.014684677124023438, 0.01348257064819336, 0.012863636016845703, 0.013819456100463867, 0.01368570327758789, 0.012771844863891602, 0.013649463653564453, 0.012921571731567383, 0.013665199279785156, 0.013269901275634766, 0.013047933578491211]\n"
     ]
    },
    {
     "name": "stderr",
     "output_type": "stream",
     "text": [
      "\n",
      " 40%|██████████████████████████████████████████████████████████▍                                                                                       | 20/50 [01:43<03:56,  7.88s/it]"
     ]
    },
    {
     "name": "stdout",
     "output_type": "stream",
     "text": [
      "2023-07-08 12:22:47.689291\n",
      "Backend topology: 2023-07-08 12:22:47.689291\n",
      "<qiskit.providers.models.backendproperties.BackendProperties object at 0x7f52403682b0>\n",
      "Depth: [1358, 1358, 1348, 1348, 1348, 1348]\n",
      "not na\n",
      "[2, 1, 0, 3, 4, 5, 6] [2, 1, 0, 3, 4, 5, 6] [0, 1, 2, 3, 4, 5, 6]\n",
      "[6, 1, 4, 3, 4, 5, 6]\n"
     ]
    },
    {
     "name": "stderr",
     "output_type": "stream",
     "text": [
      "\n",
      "100%|███████████████████████████████████████████████████████████████████████████████████████████████████████████████████████████████████████████████████| 1/1 [00:00<00:00, 392.47it/s]\u001b[A"
     ]
    },
    {
     "name": "stdout",
     "output_type": "stream",
     "text": [
      "[0.012806415557861328, 0.014092683792114258, 0.012465715408325195, 0.012949228286743164, 0.012993574142456055, 0.012790918350219727, 0.012472867965698242, 0.014516353607177734, 0.013238191604614258, 0.014684677124023438, 0.01348257064819336, 0.012863636016845703, 0.013819456100463867, 0.01368570327758789, 0.012771844863891602, 0.013649463653564453, 0.012921571731567383, 0.013665199279785156, 0.013269901275634766, 0.013047933578491211, 0.013363838195800781]\n"
     ]
    },
    {
     "name": "stderr",
     "output_type": "stream",
     "text": [
      "\n",
      " 42%|█████████████████████████████████████████████████████████████▎                                                                                    | 21/50 [02:08<06:16, 13.00s/it]"
     ]
    },
    {
     "name": "stdout",
     "output_type": "stream",
     "text": [
      "2023-07-14 12:23:12.617511\n",
      "Backend topology: 2023-07-14 12:23:12.617511\n",
      "<qiskit.providers.models.backendproperties.BackendProperties object at 0x7f529411b9d0>\n",
      "Depth: [1194, 1194, 1196, 1196, 1196, 1196]\n",
      "na\n",
      "[2, 1, 0, 3, 4, 5, 6] [2, 1, 0, 3, 4, 5, 6] [2, 0, 1, 3, 6, 5, 4]\n",
      "[6, 1, 4, 3, 4, 5, 6]\n"
     ]
    },
    {
     "name": "stderr",
     "output_type": "stream",
     "text": [
      "\n",
      "100%|███████████████████████████████████████████████████████████████████████████████████████████████████████████████████████████████████████████████████| 1/1 [00:00<00:00, 570.27it/s]\u001b[A"
     ]
    },
    {
     "name": "stdout",
     "output_type": "stream",
     "text": [
      "[0.012806415557861328, 0.014092683792114258, 0.012465715408325195, 0.012949228286743164, 0.012993574142456055, 0.012790918350219727, 0.012472867965698242, 0.014516353607177734, 0.013238191604614258, 0.014684677124023438, 0.01348257064819336, 0.012863636016845703, 0.013819456100463867, 0.01368570327758789, 0.012771844863891602, 0.013649463653564453, 0.012921571731567383, 0.013665199279785156, 0.013269901275634766, 0.013047933578491211, 0.013363838195800781, 0.014853954315185547]\n"
     ]
    },
    {
     "name": "stderr",
     "output_type": "stream",
     "text": [
      "\n",
      " 44%|████████████████████████████████████████████████████████████████▏                                                                                 | 22/50 [02:16<05:21, 11.49s/it]"
     ]
    },
    {
     "name": "stdout",
     "output_type": "stream",
     "text": [
      "2023-10-30 12:23:20.597368\n",
      "Backend topology: 2023-10-30 12:23:20.597368\n",
      "<qiskit.providers.models.backendproperties.BackendProperties object at 0x7f524038d880>\n",
      "Depth: [2148, 2148, 1316, 1316, 1318, 1318]\n",
      "not na\n",
      "[2, 1, 0, 3, 4, 5, 6] [2, 1, 0, 3, 4, 5, 6] [0, 1, 2, 3, 4, 5, 6]\n",
      "[6, 1, 4, 3, 4, 5, 6]\n"
     ]
    },
    {
     "name": "stderr",
     "output_type": "stream",
     "text": [
      "\n",
      "100%|███████████████████████████████████████████████████████████████████████████████████████████████████████████████████████████████████████████████████| 1/1 [00:00<00:00, 555.76it/s]\u001b[A"
     ]
    },
    {
     "name": "stdout",
     "output_type": "stream",
     "text": [
      "[0.012806415557861328, 0.014092683792114258, 0.012465715408325195, 0.012949228286743164, 0.012993574142456055, 0.012790918350219727, 0.012472867965698242, 0.014516353607177734, 0.013238191604614258, 0.014684677124023438, 0.01348257064819336, 0.012863636016845703, 0.013819456100463867, 0.01368570327758789, 0.012771844863891602, 0.013649463653564453, 0.012921571731567383, 0.013665199279785156, 0.013269901275634766, 0.013047933578491211, 0.013363838195800781, 0.014853954315185547, 0.01282191276550293]\n"
     ]
    },
    {
     "name": "stderr",
     "output_type": "stream",
     "text": [
      "\n",
      " 46%|███████████████████████████████████████████████████████████████████▏                                                                              | 23/50 [02:26<04:58, 11.05s/it]"
     ]
    },
    {
     "name": "stdout",
     "output_type": "stream",
     "text": [
      "2023-07-09 12:23:30.617746\n",
      "Backend topology: 2023-07-09 12:23:30.617746\n",
      "<qiskit.providers.models.backendproperties.BackendProperties object at 0x7f528fd0b490>\n",
      "Depth: [2044, 2044, 1478, 1478, 1476, 1476]\n",
      "SABRE\n",
      "[2, 1, 0, 3, 4, 5, 6] [2, 1, 0, 3, 4, 5, 6] [2, 1, 0, 3, 4, 5, 6]\n",
      "[6, 1, 4, 3, 4, 5, 6]\n"
     ]
    },
    {
     "name": "stderr",
     "output_type": "stream",
     "text": [
      "\n",
      "100%|███████████████████████████████████████████████████████████████████████████████████████████████████████████████████████████████████████████████████| 1/1 [00:00<00:00, 589.58it/s]\u001b[A"
     ]
    },
    {
     "name": "stdout",
     "output_type": "stream",
     "text": [
      "[0.012806415557861328, 0.014092683792114258, 0.012465715408325195, 0.012949228286743164, 0.012993574142456055, 0.012790918350219727, 0.012472867965698242, 0.014516353607177734, 0.013238191604614258, 0.014684677124023438, 0.01348257064819336, 0.012863636016845703, 0.013819456100463867, 0.01368570327758789, 0.012771844863891602, 0.013649463653564453, 0.012921571731567383, 0.013665199279785156, 0.013269901275634766, 0.013047933578491211, 0.013363838195800781, 0.014853954315185547, 0.01282191276550293, 0.012760162353515625]\n"
     ]
    },
    {
     "name": "stderr",
     "output_type": "stream",
     "text": [
      "\n",
      " 48%|██████████████████████████████████████████████████████████████████████                                                                            | 24/50 [02:37<04:43, 10.90s/it]"
     ]
    },
    {
     "name": "stdout",
     "output_type": "stream",
     "text": [
      "2023-11-19 12:23:41.178692\n",
      "Backend topology: 2023-11-19 12:23:41.178692\n",
      "<qiskit.providers.models.backendproperties.BackendProperties object at 0x7f5296cda8b0>\n",
      "Depth: [1640, 1640, 1198, 1198, 1198, 1198]\n",
      "not na\n",
      "[2, 1, 0, 3, 4, 5, 6] [2, 1, 0, 3, 4, 5, 6] [0, 1, 2, 3, 4, 5, 6]\n",
      "[6, 1, 4, 3, 4, 5, 6]\n"
     ]
    },
    {
     "name": "stderr",
     "output_type": "stream",
     "text": [
      "\n",
      "100%|███████████████████████████████████████████████████████████████████████████████████████████████████████████████████████████████████████████████████| 1/1 [00:00<00:00, 561.86it/s]\u001b[A"
     ]
    },
    {
     "name": "stdout",
     "output_type": "stream",
     "text": [
      "[0.012806415557861328, 0.014092683792114258, 0.012465715408325195, 0.012949228286743164, 0.012993574142456055, 0.012790918350219727, 0.012472867965698242, 0.014516353607177734, 0.013238191604614258, 0.014684677124023438, 0.01348257064819336, 0.012863636016845703, 0.013819456100463867, 0.01368570327758789, 0.012771844863891602, 0.013649463653564453, 0.012921571731567383, 0.013665199279785156, 0.013269901275634766, 0.013047933578491211, 0.013363838195800781, 0.014853954315185547, 0.01282191276550293, 0.012760162353515625, 0.01376962661743164]\n"
     ]
    },
    {
     "name": "stderr",
     "output_type": "stream",
     "text": [
      "\n",
      " 50%|█████████████████████████████████████████████████████████████████████████                                                                         | 25/50 [02:45<04:12, 10.11s/it]"
     ]
    },
    {
     "name": "stdout",
     "output_type": "stream",
     "text": [
      "2023-08-24 12:23:49.430349\n",
      "Backend topology: 2023-08-24 12:23:49.430349\n",
      "<qiskit.providers.models.backendproperties.BackendProperties object at 0x7f52402b05e0>\n",
      "Depth: [1644, 1644, 1640, 1640, 1646, 1646]\n",
      "not na\n",
      "[2, 1, 0, 3, 4, 5, 6] [2, 1, 0, 3, 4, 5, 6] [0, 1, 2, 3, 4, 5, 6]\n",
      "[6, 1, 4, 3, 4, 5, 6]\n"
     ]
    },
    {
     "name": "stderr",
     "output_type": "stream",
     "text": [
      "\n",
      "100%|███████████████████████████████████████████████████████████████████████████████████████████████████████████████████████████████████████████████████| 1/1 [00:00<00:00, 396.47it/s]\u001b[A"
     ]
    },
    {
     "name": "stdout",
     "output_type": "stream",
     "text": [
      "[0.012806415557861328, 0.014092683792114258, 0.012465715408325195, 0.012949228286743164, 0.012993574142456055, 0.012790918350219727, 0.012472867965698242, 0.014516353607177734, 0.013238191604614258, 0.014684677124023438, 0.01348257064819336, 0.012863636016845703, 0.013819456100463867, 0.01368570327758789, 0.012771844863891602, 0.013649463653564453, 0.012921571731567383, 0.013665199279785156, 0.013269901275634766, 0.013047933578491211, 0.013363838195800781, 0.014853954315185547, 0.01282191276550293, 0.012760162353515625, 0.01376962661743164, 0.01449894905090332]\n"
     ]
    },
    {
     "name": "stderr",
     "output_type": "stream",
     "text": [
      "\n",
      " 52%|███████████████████████████████████████████████████████████████████████████▉                                                                      | 26/50 [02:56<04:04, 10.17s/it]"
     ]
    },
    {
     "name": "stdout",
     "output_type": "stream",
     "text": [
      "2023-08-22 12:23:59.744729\n",
      "Backend topology: 2023-08-22 12:23:59.744729\n",
      "<qiskit.providers.models.backendproperties.BackendProperties object at 0x7f524026d730>\n",
      "Depth: [1554, 1554, 1554, 1554, 1554, 1554]\n",
      "na\n",
      "[2, 1, 0, 3, 4, 5, 6] [2, 1, 0, 3, 4, 5, 6] [2, 0, 1, 3, 6, 5, 4]\n",
      "[6, 1, 4, 3, 4, 5, 6]\n"
     ]
    },
    {
     "name": "stderr",
     "output_type": "stream",
     "text": [
      "\n",
      "100%|███████████████████████████████████████████████████████████████████████████████████████████████████████████████████████████████████████████████████| 1/1 [00:00<00:00, 559.91it/s]\u001b[A"
     ]
    },
    {
     "name": "stdout",
     "output_type": "stream",
     "text": [
      "[0.012806415557861328, 0.014092683792114258, 0.012465715408325195, 0.012949228286743164, 0.012993574142456055, 0.012790918350219727, 0.012472867965698242, 0.014516353607177734, 0.013238191604614258, 0.014684677124023438, 0.01348257064819336, 0.012863636016845703, 0.013819456100463867, 0.01368570327758789, 0.012771844863891602, 0.013649463653564453, 0.012921571731567383, 0.013665199279785156, 0.013269901275634766, 0.013047933578491211, 0.013363838195800781, 0.014853954315185547, 0.01282191276550293, 0.012760162353515625, 0.01376962661743164, 0.01449894905090332, 0.012477874755859375]\n"
     ]
    },
    {
     "name": "stderr",
     "output_type": "stream",
     "text": [
      "\n",
      " 54%|██████████████████████████████████████████████████████████████████████████████▊                                                                   | 27/50 [03:06<03:55, 10.24s/it]"
     ]
    },
    {
     "name": "stdout",
     "output_type": "stream",
     "text": [
      "2023-08-09 12:24:10.138937\n",
      "Backend topology: 2023-08-09 12:24:10.138937\n",
      "<qiskit.providers.models.backendproperties.BackendProperties object at 0x7f5290c58d60>\n",
      "Depth: [1668, 1668, 1676, 1676, 1670, 1670]\n",
      "na\n",
      "[2, 1, 0, 3, 4, 5, 6] [2, 1, 0, 3, 4, 5, 6] [2, 0, 1, 3, 6, 5, 4]\n",
      "[6, 1, 4, 3, 4, 5, 6]\n"
     ]
    },
    {
     "name": "stderr",
     "output_type": "stream",
     "text": [
      "\n",
      "100%|███████████████████████████████████████████████████████████████████████████████████████████████████████████████████████████████████████████████████| 1/1 [00:00<00:00, 601.16it/s]\u001b[A"
     ]
    },
    {
     "name": "stdout",
     "output_type": "stream",
     "text": [
      "[0.012806415557861328, 0.014092683792114258, 0.012465715408325195, 0.012949228286743164, 0.012993574142456055, 0.012790918350219727, 0.012472867965698242, 0.014516353607177734, 0.013238191604614258, 0.014684677124023438, 0.01348257064819336, 0.012863636016845703, 0.013819456100463867, 0.01368570327758789, 0.012771844863891602, 0.013649463653564453, 0.012921571731567383, 0.013665199279785156, 0.013269901275634766, 0.013047933578491211, 0.013363838195800781, 0.014853954315185547, 0.01282191276550293, 0.012760162353515625, 0.01376962661743164, 0.01449894905090332, 0.012477874755859375, 0.013124227523803711]\n"
     ]
    },
    {
     "name": "stderr",
     "output_type": "stream",
     "text": [
      "\n",
      " 56%|█████████████████████████████████████████████████████████████████████████████████▊                                                                | 28/50 [03:17<03:52, 10.57s/it]"
     ]
    },
    {
     "name": "stdout",
     "output_type": "stream",
     "text": [
      "2023-06-30 12:24:21.480673\n",
      "Backend topology: 2023-06-30 12:24:21.480673\n",
      "<qiskit.providers.models.backendproperties.BackendProperties object at 0x7f52959a71f0>\n",
      "Depth: [1350, 1350, 1344, 1344, 1360, 1360]\n",
      "not na\n",
      "[2, 1, 0, 3, 4, 5, 6] [2, 1, 0, 3, 4, 5, 6] [0, 1, 2, 3, 4, 5, 6]\n",
      "[6, 1, 4, 3, 4, 5, 6]\n"
     ]
    },
    {
     "name": "stderr",
     "output_type": "stream",
     "text": [
      "\n",
      "100%|███████████████████████████████████████████████████████████████████████████████████████████████████████████████████████████████████████████████████| 1/1 [00:00<00:00, 525.80it/s]\u001b[A"
     ]
    },
    {
     "name": "stdout",
     "output_type": "stream",
     "text": [
      "[0.012806415557861328, 0.014092683792114258, 0.012465715408325195, 0.012949228286743164, 0.012993574142456055, 0.012790918350219727, 0.012472867965698242, 0.014516353607177734, 0.013238191604614258, 0.014684677124023438, 0.01348257064819336, 0.012863636016845703, 0.013819456100463867, 0.01368570327758789, 0.012771844863891602, 0.013649463653564453, 0.012921571731567383, 0.013665199279785156, 0.013269901275634766, 0.013047933578491211, 0.013363838195800781, 0.014853954315185547, 0.01282191276550293, 0.012760162353515625, 0.01376962661743164, 0.01449894905090332, 0.012477874755859375, 0.013124227523803711, 0.012715339660644531]\n"
     ]
    },
    {
     "name": "stderr",
     "output_type": "stream",
     "text": [
      "\n",
      " 58%|████████████████████████████████████████████████████████████████████████████████████▋                                                             | 29/50 [03:39<04:51, 13.87s/it]"
     ]
    },
    {
     "name": "stdout",
     "output_type": "stream",
     "text": [
      "2023-08-15 12:24:43.055905\n",
      "Backend topology: 2023-08-15 12:24:43.055905\n",
      "<qiskit.providers.models.backendproperties.BackendProperties object at 0x7f52939cc1f0>\n",
      "Depth: [1784, 1784, 1712, 1712, 1716, 1716]\n",
      "not na\n",
      "[2, 1, 0, 3, 4, 5, 6] [2, 1, 0, 3, 4, 5, 6] [0, 1, 2, 3, 4, 5, 6]\n",
      "[6, 1, 4, 3, 4, 5, 6]\n"
     ]
    },
    {
     "name": "stderr",
     "output_type": "stream",
     "text": [
      "\n",
      "100%|███████████████████████████████████████████████████████████████████████████████████████████████████████████████████████████████████████████████████| 1/1 [00:00<00:00, 378.65it/s]\u001b[A"
     ]
    },
    {
     "name": "stdout",
     "output_type": "stream",
     "text": [
      "[0.012806415557861328, 0.014092683792114258, 0.012465715408325195, 0.012949228286743164, 0.012993574142456055, 0.012790918350219727, 0.012472867965698242, 0.014516353607177734, 0.013238191604614258, 0.014684677124023438, 0.01348257064819336, 0.012863636016845703, 0.013819456100463867, 0.01368570327758789, 0.012771844863891602, 0.013649463653564453, 0.012921571731567383, 0.013665199279785156, 0.013269901275634766, 0.013047933578491211, 0.013363838195800781, 0.014853954315185547, 0.01282191276550293, 0.012760162353515625, 0.01376962661743164, 0.01449894905090332, 0.012477874755859375, 0.013124227523803711, 0.012715339660644531, 0.014731168746948242]\n"
     ]
    },
    {
     "name": "stderr",
     "output_type": "stream",
     "text": [
      "\n",
      " 60%|███████████████████████████████████████████████████████████████████████████████████████▌                                                          | 30/50 [03:49<04:16, 12.81s/it]"
     ]
    },
    {
     "name": "stdout",
     "output_type": "stream",
     "text": [
      "2023-09-16 12:24:53.399236\n",
      "Backend topology: 2023-09-16 12:24:53.399236\n",
      "<qiskit.providers.models.backendproperties.BackendProperties object at 0x7f529459d520>\n",
      "Depth: [2502, 2502, 1962, 1962, 1964, 1964]\n",
      "not na\n",
      "[2, 1, 0, 3, 4, 5, 6] [2, 1, 0, 3, 4, 5, 6] [0, 1, 2, 3, 4, 5, 6]\n",
      "[6, 1, 4, 3, 4, 5, 6]\n"
     ]
    },
    {
     "name": "stderr",
     "output_type": "stream",
     "text": [
      "\n",
      "100%|███████████████████████████████████████████████████████████████████████████████████████████████████████████████████████████████████████████████████| 1/1 [00:00<00:00, 600.47it/s]\u001b[A"
     ]
    },
    {
     "name": "stdout",
     "output_type": "stream",
     "text": [
      "[0.012806415557861328, 0.014092683792114258, 0.012465715408325195, 0.012949228286743164, 0.012993574142456055, 0.012790918350219727, 0.012472867965698242, 0.014516353607177734, 0.013238191604614258, 0.014684677124023438, 0.01348257064819336, 0.012863636016845703, 0.013819456100463867, 0.01368570327758789, 0.012771844863891602, 0.013649463653564453, 0.012921571731567383, 0.013665199279785156, 0.013269901275634766, 0.013047933578491211, 0.013363838195800781, 0.014853954315185547, 0.01282191276550293, 0.012760162353515625, 0.01376962661743164, 0.01449894905090332, 0.012477874755859375, 0.013124227523803711, 0.012715339660644531, 0.014731168746948242, 0.013813018798828125]\n"
     ]
    },
    {
     "name": "stderr",
     "output_type": "stream",
     "text": [
      "\n",
      " 62%|██████████████████████████████████████████████████████████████████████████████████████████▌                                                       | 31/50 [04:02<04:03, 12.83s/it]"
     ]
    },
    {
     "name": "stdout",
     "output_type": "stream",
     "text": [
      "2023-09-03 12:25:06.261147\n",
      "Backend topology: 2023-09-03 12:25:06.261147\n",
      "<qiskit.providers.models.backendproperties.BackendProperties object at 0x7f51c8350ac0>\n",
      "Depth: [1762, 1762, 1788, 1788, 1780, 1780]\n",
      "na\n",
      "[2, 1, 0, 3, 4, 5, 6] [2, 1, 0, 3, 4, 5, 6] [4, 5, 6, 3, 2, 1, 0]\n",
      "[6, 1, 4, 3, 4, 5, 6]\n"
     ]
    },
    {
     "name": "stderr",
     "output_type": "stream",
     "text": [
      "\n",
      "100%|███████████████████████████████████████████████████████████████████████████████████████████████████████████████████████████████████████████████████| 1/1 [00:00<00:00, 580.04it/s]\u001b[A"
     ]
    },
    {
     "name": "stdout",
     "output_type": "stream",
     "text": [
      "[0.012806415557861328, 0.014092683792114258, 0.012465715408325195, 0.012949228286743164, 0.012993574142456055, 0.012790918350219727, 0.012472867965698242, 0.014516353607177734, 0.013238191604614258, 0.014684677124023438, 0.01348257064819336, 0.012863636016845703, 0.013819456100463867, 0.01368570327758789, 0.012771844863891602, 0.013649463653564453, 0.012921571731567383, 0.013665199279785156, 0.013269901275634766, 0.013047933578491211, 0.013363838195800781, 0.014853954315185547, 0.01282191276550293, 0.012760162353515625, 0.01376962661743164, 0.01449894905090332, 0.012477874755859375, 0.013124227523803711, 0.012715339660644531, 0.014731168746948242, 0.013813018798828125, 0.01271963119506836]\n"
     ]
    },
    {
     "name": "stderr",
     "output_type": "stream",
     "text": [
      "\n",
      " 64%|█████████████████████████████████████████████████████████████████████████████████████████████▍                                                    | 32/50 [04:14<03:43, 12.44s/it]"
     ]
    },
    {
     "name": "stdout",
     "output_type": "stream",
     "text": [
      "2023-07-31 12:25:17.789462\n",
      "Backend topology: 2023-07-31 12:25:17.789462\n",
      "<qiskit.providers.models.backendproperties.BackendProperties object at 0x7f52247f6160>\n",
      "Depth: [2252, 2252, 2104, 2104, 2144, 2144]\n",
      "not na\n",
      "[2, 1, 0, 3, 4, 5, 6] [2, 1, 0, 3, 4, 5, 6] [0, 1, 2, 3, 4, 5, 6]\n",
      "[6, 1, 4, 3, 4, 5, 6]\n"
     ]
    },
    {
     "name": "stderr",
     "output_type": "stream",
     "text": [
      "\n",
      "100%|███████████████████████████████████████████████████████████████████████████████████████████████████████████████████████████████████████████████████| 1/1 [00:00<00:00, 542.46it/s]\u001b[A"
     ]
    },
    {
     "name": "stdout",
     "output_type": "stream",
     "text": [
      "[0.012806415557861328, 0.014092683792114258, 0.012465715408325195, 0.012949228286743164, 0.012993574142456055, 0.012790918350219727, 0.012472867965698242, 0.014516353607177734, 0.013238191604614258, 0.014684677124023438, 0.01348257064819336, 0.012863636016845703, 0.013819456100463867, 0.01368570327758789, 0.012771844863891602, 0.013649463653564453, 0.012921571731567383, 0.013665199279785156, 0.013269901275634766, 0.013047933578491211, 0.013363838195800781, 0.014853954315185547, 0.01282191276550293, 0.012760162353515625, 0.01376962661743164, 0.01449894905090332, 0.012477874755859375, 0.013124227523803711, 0.012715339660644531, 0.014731168746948242, 0.013813018798828125, 0.01271963119506836, 0.015584707260131836]\n"
     ]
    },
    {
     "name": "stderr",
     "output_type": "stream",
     "text": [
      "\n",
      " 66%|████████████████████████████████████████████████████████████████████████████████████████████████▎                                                 | 33/50 [04:28<03:40, 12.98s/it]"
     ]
    },
    {
     "name": "stdout",
     "output_type": "stream",
     "text": [
      "2023-08-16 12:25:32.030423\n",
      "Backend topology: 2023-08-16 12:25:32.030423\n",
      "<qiskit.providers.models.backendproperties.BackendProperties object at 0x7f5240368ca0>\n",
      "Depth: [2530, 2530, 2208, 2208, 2208, 2208]\n",
      "not na\n",
      "[2, 1, 0, 3, 4, 5, 6] [2, 1, 0, 3, 4, 5, 6] [0, 1, 2, 3, 4, 5, 6]\n",
      "[6, 1, 4, 3, 4, 5, 6]\n"
     ]
    },
    {
     "name": "stderr",
     "output_type": "stream",
     "text": [
      "\n",
      "100%|███████████████████████████████████████████████████████████████████████████████████████████████████████████████████████████████████████████████████| 1/1 [00:00<00:00, 596.97it/s]\u001b[A"
     ]
    },
    {
     "name": "stdout",
     "output_type": "stream",
     "text": [
      "[0.012806415557861328, 0.014092683792114258, 0.012465715408325195, 0.012949228286743164, 0.012993574142456055, 0.012790918350219727, 0.012472867965698242, 0.014516353607177734, 0.013238191604614258, 0.014684677124023438, 0.01348257064819336, 0.012863636016845703, 0.013819456100463867, 0.01368570327758789, 0.012771844863891602, 0.013649463653564453, 0.012921571731567383, 0.013665199279785156, 0.013269901275634766, 0.013047933578491211, 0.013363838195800781, 0.014853954315185547, 0.01282191276550293, 0.012760162353515625, 0.01376962661743164, 0.01449894905090332, 0.012477874755859375, 0.013124227523803711, 0.012715339660644531, 0.014731168746948242, 0.013813018798828125, 0.01271963119506836, 0.015584707260131836, 0.013130664825439453]\n"
     ]
    },
    {
     "name": "stderr",
     "output_type": "stream",
     "text": [
      "\n",
      " 68%|███████████████████████████████████████████████████████████████████████████████████████████████████▎                                              | 34/50 [04:39<03:20, 12.53s/it]"
     ]
    },
    {
     "name": "stdout",
     "output_type": "stream",
     "text": [
      "2023-10-27 12:25:43.499177\n",
      "Backend topology: 2023-10-27 12:25:43.499177\n",
      "<qiskit.providers.models.backendproperties.BackendProperties object at 0x7f51c868daf0>\n",
      "Depth: [1936, 1936, 1924, 1924, 1940, 1940]\n",
      "not na\n",
      "[2, 1, 0, 3, 4, 5, 6] [2, 1, 0, 3, 4, 5, 6] [0, 1, 2, 3, 4, 5, 6]\n",
      "[6, 1, 4, 3, 4, 5, 6]\n"
     ]
    },
    {
     "name": "stderr",
     "output_type": "stream",
     "text": [
      "\n",
      "100%|███████████████████████████████████████████████████████████████████████████████████████████████████████████████████████████████████████████████████| 1/1 [00:00<00:00, 542.74it/s]\u001b[A"
     ]
    },
    {
     "name": "stdout",
     "output_type": "stream",
     "text": [
      "[0.012806415557861328, 0.014092683792114258, 0.012465715408325195, 0.012949228286743164, 0.012993574142456055, 0.012790918350219727, 0.012472867965698242, 0.014516353607177734, 0.013238191604614258, 0.014684677124023438, 0.01348257064819336, 0.012863636016845703, 0.013819456100463867, 0.01368570327758789, 0.012771844863891602, 0.013649463653564453, 0.012921571731567383, 0.013665199279785156, 0.013269901275634766, 0.013047933578491211, 0.013363838195800781, 0.014853954315185547, 0.01282191276550293, 0.012760162353515625, 0.01376962661743164, 0.01449894905090332, 0.012477874755859375, 0.013124227523803711, 0.012715339660644531, 0.014731168746948242, 0.013813018798828125, 0.01271963119506836, 0.015584707260131836, 0.013130664825439453, 0.013388395309448242]\n"
     ]
    },
    {
     "name": "stderr",
     "output_type": "stream",
     "text": [
      "\n",
      " 70%|██████████████████████████████████████████████████████████████████████████████████████████████████████▏                                           | 35/50 [04:51<03:03, 12.23s/it]"
     ]
    },
    {
     "name": "stdout",
     "output_type": "stream",
     "text": [
      "2023-11-02 12:25:55.034874\n",
      "Backend topology: 2023-11-02 12:25:55.034874\n",
      "<qiskit.providers.models.backendproperties.BackendProperties object at 0x7f5291453790>\n",
      "Depth: [2044, 2044, 2032, 2032, 1998, 1998]\n",
      "SABRE\n",
      "[2, 1, 0, 3, 4, 5, 6] [2, 1, 0, 3, 4, 5, 6] [6, 5, 4, 3, 0, 1, 2]\n",
      "[6, 1, 4, 3, 4, 5, 6]\n"
     ]
    },
    {
     "name": "stderr",
     "output_type": "stream",
     "text": [
      "\n",
      "100%|███████████████████████████████████████████████████████████████████████████████████████████████████████████████████████████████████████████████████| 1/1 [00:00<00:00, 322.66it/s]\u001b[A"
     ]
    },
    {
     "name": "stdout",
     "output_type": "stream",
     "text": [
      "[0.012806415557861328, 0.014092683792114258, 0.012465715408325195, 0.012949228286743164, 0.012993574142456055, 0.012790918350219727, 0.012472867965698242, 0.014516353607177734, 0.013238191604614258, 0.014684677124023438, 0.01348257064819336, 0.012863636016845703, 0.013819456100463867, 0.01368570327758789, 0.012771844863891602, 0.013649463653564453, 0.012921571731567383, 0.013665199279785156, 0.013269901275634766, 0.013047933578491211, 0.013363838195800781, 0.014853954315185547, 0.01282191276550293, 0.012760162353515625, 0.01376962661743164, 0.01449894905090332, 0.012477874755859375, 0.013124227523803711, 0.012715339660644531, 0.014731168746948242, 0.013813018798828125, 0.01271963119506836, 0.015584707260131836, 0.013130664825439453, 0.013388395309448242, 0.014805793762207031]\n"
     ]
    },
    {
     "name": "stderr",
     "output_type": "stream",
     "text": [
      "\n",
      " 72%|█████████████████████████████████████████████████████████████████████████████████████████████████████████                                         | 36/50 [05:11<03:23, 14.54s/it]"
     ]
    },
    {
     "name": "stdout",
     "output_type": "stream",
     "text": [
      "2023-10-01 12:26:14.958780\n",
      "Backend topology: 2023-10-01 12:26:14.958780\n",
      "<qiskit.providers.models.backendproperties.BackendProperties object at 0x7f52940ad250>\n",
      "Depth: [2056, 2056, 2064, 2064, 2080, 2080]\n",
      "na\n",
      "[2, 1, 0, 3, 4, 5, 6] [2, 1, 0, 3, 4, 5, 6] [4, 5, 6, 3, 2, 1, 0]\n",
      "[6, 1, 4, 3, 4, 5, 6]\n"
     ]
    },
    {
     "name": "stderr",
     "output_type": "stream",
     "text": [
      "\n",
      "100%|███████████████████████████████████████████████████████████████████████████████████████████████████████████████████████████████████████████████████| 1/1 [00:00<00:00, 548.49it/s]\u001b[A"
     ]
    },
    {
     "name": "stdout",
     "output_type": "stream",
     "text": [
      "[0.012806415557861328, 0.014092683792114258, 0.012465715408325195, 0.012949228286743164, 0.012993574142456055, 0.012790918350219727, 0.012472867965698242, 0.014516353607177734, 0.013238191604614258, 0.014684677124023438, 0.01348257064819336, 0.012863636016845703, 0.013819456100463867, 0.01368570327758789, 0.012771844863891602, 0.013649463653564453, 0.012921571731567383, 0.013665199279785156, 0.013269901275634766, 0.013047933578491211, 0.013363838195800781, 0.014853954315185547, 0.01282191276550293, 0.012760162353515625, 0.01376962661743164, 0.01449894905090332, 0.012477874755859375, 0.013124227523803711, 0.012715339660644531, 0.014731168746948242, 0.013813018798828125, 0.01271963119506836, 0.015584707260131836, 0.013130664825439453, 0.013388395309448242, 0.014805793762207031, 0.01290440559387207]\n"
     ]
    },
    {
     "name": "stderr",
     "output_type": "stream",
     "text": [
      "\n",
      " 74%|████████████████████████████████████████████████████████████████████████████████████████████████████████████                                      | 37/50 [05:23<03:00, 13.86s/it]"
     ]
    },
    {
     "name": "stdout",
     "output_type": "stream",
     "text": [
      "2023-08-02 12:26:27.225023\n",
      "Backend topology: 2023-08-02 12:26:27.225023\n",
      "<qiskit.providers.models.backendproperties.BackendProperties object at 0x7f51c838b250>\n",
      "Depth: [2072, 2072, 2058, 2058, 2056, 2056]\n",
      "SABRE\n",
      "[2, 1, 0, 3, 4, 5, 6] [2, 1, 0, 3, 4, 5, 6] [0, 1, 2, 3, 4, 5, 6]\n",
      "[6, 1, 4, 3, 4, 5, 6]\n"
     ]
    },
    {
     "name": "stderr",
     "output_type": "stream",
     "text": [
      "\n",
      "100%|███████████████████████████████████████████████████████████████████████████████████████████████████████████████████████████████████████████████████| 1/1 [00:00<00:00, 575.43it/s]\u001b[A"
     ]
    },
    {
     "name": "stdout",
     "output_type": "stream",
     "text": [
      "[0.012806415557861328, 0.014092683792114258, 0.012465715408325195, 0.012949228286743164, 0.012993574142456055, 0.012790918350219727, 0.012472867965698242, 0.014516353607177734, 0.013238191604614258, 0.014684677124023438, 0.01348257064819336, 0.012863636016845703, 0.013819456100463867, 0.01368570327758789, 0.012771844863891602, 0.013649463653564453, 0.012921571731567383, 0.013665199279785156, 0.013269901275634766, 0.013047933578491211, 0.013363838195800781, 0.014853954315185547, 0.01282191276550293, 0.012760162353515625, 0.01376962661743164, 0.01449894905090332, 0.012477874755859375, 0.013124227523803711, 0.012715339660644531, 0.014731168746948242, 0.013813018798828125, 0.01271963119506836, 0.015584707260131836, 0.013130664825439453, 0.013388395309448242, 0.014805793762207031, 0.01290440559387207, 0.012985706329345703]\n"
     ]
    },
    {
     "name": "stderr",
     "output_type": "stream",
     "text": [
      "\n",
      " 76%|██████████████████████████████████████████████████████████████████████████████████████████████████████████████▉                                   | 38/50 [05:37<02:47, 13.94s/it]"
     ]
    },
    {
     "name": "stdout",
     "output_type": "stream",
     "text": [
      "2023-10-17 12:26:41.349553\n",
      "Backend topology: 2023-10-17 12:26:41.349553\n",
      "<qiskit.providers.models.backendproperties.BackendProperties object at 0x7f52928917c0>\n",
      "Depth: [2150, 2150, 2144, 2144, 2146, 2146]\n",
      "not na\n",
      "[2, 1, 0, 3, 4, 5, 6] [2, 1, 0, 3, 4, 5, 6] [0, 1, 2, 3, 4, 5, 6]\n",
      "[6, 1, 4, 3, 4, 5, 6]\n"
     ]
    },
    {
     "name": "stderr",
     "output_type": "stream",
     "text": [
      "\n",
      "100%|███████████████████████████████████████████████████████████████████████████████████████████████████████████████████████████████████████████████████| 1/1 [00:00<00:00, 625.92it/s]\u001b[A"
     ]
    },
    {
     "name": "stdout",
     "output_type": "stream",
     "text": [
      "[0.012806415557861328, 0.014092683792114258, 0.012465715408325195, 0.012949228286743164, 0.012993574142456055, 0.012790918350219727, 0.012472867965698242, 0.014516353607177734, 0.013238191604614258, 0.014684677124023438, 0.01348257064819336, 0.012863636016845703, 0.013819456100463867, 0.01368570327758789, 0.012771844863891602, 0.013649463653564453, 0.012921571731567383, 0.013665199279785156, 0.013269901275634766, 0.013047933578491211, 0.013363838195800781, 0.014853954315185547, 0.01282191276550293, 0.012760162353515625, 0.01376962661743164, 0.01449894905090332, 0.012477874755859375, 0.013124227523803711, 0.012715339660644531, 0.014731168746948242, 0.013813018798828125, 0.01271963119506836, 0.015584707260131836, 0.013130664825439453, 0.013388395309448242, 0.014805793762207031, 0.01290440559387207, 0.012985706329345703, 0.01289510726928711]\n"
     ]
    },
    {
     "name": "stderr",
     "output_type": "stream",
     "text": [
      "\n",
      " 78%|█████████████████████████████████████████████████████████████████████████████████████████████████████████████████▉                                | 39/50 [05:52<02:36, 14.24s/it]"
     ]
    },
    {
     "name": "stdout",
     "output_type": "stream",
     "text": [
      "2023-08-12 12:26:56.285077\n",
      "Backend topology: 2023-08-12 12:26:56.285077\n",
      "<qiskit.providers.models.backendproperties.BackendProperties object at 0x7f52909a3640>\n",
      "Depth: [2172, 2172, 2170, 2170, 2172, 2172]\n",
      "not na\n",
      "[2, 1, 0, 3, 4, 5, 6] [2, 1, 0, 3, 4, 5, 6] [0, 1, 2, 3, 4, 5, 6]\n",
      "[6, 1, 4, 3, 4, 5, 6]\n"
     ]
    },
    {
     "name": "stderr",
     "output_type": "stream",
     "text": [
      "\n",
      "100%|███████████████████████████████████████████████████████████████████████████████████████████████████████████████████████████████████████████████████| 1/1 [00:00<00:00, 571.98it/s]\u001b[A"
     ]
    },
    {
     "name": "stdout",
     "output_type": "stream",
     "text": [
      "[0.012806415557861328, 0.014092683792114258, 0.012465715408325195, 0.012949228286743164, 0.012993574142456055, 0.012790918350219727, 0.012472867965698242, 0.014516353607177734, 0.013238191604614258, 0.014684677124023438, 0.01348257064819336, 0.012863636016845703, 0.013819456100463867, 0.01368570327758789, 0.012771844863891602, 0.013649463653564453, 0.012921571731567383, 0.013665199279785156, 0.013269901275634766, 0.013047933578491211, 0.013363838195800781, 0.014853954315185547, 0.01282191276550293, 0.012760162353515625, 0.01376962661743164, 0.01449894905090332, 0.012477874755859375, 0.013124227523803711, 0.012715339660644531, 0.014731168746948242, 0.013813018798828125, 0.01271963119506836, 0.015584707260131836, 0.013130664825439453, 0.013388395309448242, 0.014805793762207031, 0.01290440559387207, 0.012985706329345703, 0.01289510726928711, 0.012449502944946289]\n"
     ]
    },
    {
     "name": "stderr",
     "output_type": "stream",
     "text": [
      "\n",
      " 80%|████████████████████████████████████████████████████████████████████████████████████████████████████████████████████▊                             | 40/50 [06:06<02:22, 14.22s/it]"
     ]
    },
    {
     "name": "stdout",
     "output_type": "stream",
     "text": [
      "2023-10-08 12:27:10.481723\n",
      "Backend topology: 2023-10-08 12:27:10.481723\n",
      "<qiskit.providers.models.backendproperties.BackendProperties object at 0x7f51886fe310>\n",
      "Depth: [3860, 3860, 2642, 2642, 2644, 2644]\n",
      "not na\n",
      "[2, 1, 0, 3, 4, 5, 6] [2, 1, 0, 3, 4, 5, 6] [0, 1, 2, 3, 4, 5, 6]\n",
      "[6, 1, 4, 3, 4, 5, 6]\n"
     ]
    },
    {
     "name": "stderr",
     "output_type": "stream",
     "text": [
      "\n",
      "100%|███████████████████████████████████████████████████████████████████████████████████████████████████████████████████████████████████████████████████| 1/1 [00:00<00:00, 398.21it/s]\u001b[A"
     ]
    },
    {
     "name": "stdout",
     "output_type": "stream",
     "text": [
      "[0.012806415557861328, 0.014092683792114258, 0.012465715408325195, 0.012949228286743164, 0.012993574142456055, 0.012790918350219727, 0.012472867965698242, 0.014516353607177734, 0.013238191604614258, 0.014684677124023438, 0.01348257064819336, 0.012863636016845703, 0.013819456100463867, 0.01368570327758789, 0.012771844863891602, 0.013649463653564453, 0.012921571731567383, 0.013665199279785156, 0.013269901275634766, 0.013047933578491211, 0.013363838195800781, 0.014853954315185547, 0.01282191276550293, 0.012760162353515625, 0.01376962661743164, 0.01449894905090332, 0.012477874755859375, 0.013124227523803711, 0.012715339660644531, 0.014731168746948242, 0.013813018798828125, 0.01271963119506836, 0.015584707260131836, 0.013130664825439453, 0.013388395309448242, 0.014805793762207031, 0.01290440559387207, 0.012985706329345703, 0.01289510726928711, 0.012449502944946289, 0.013762712478637695]\n"
     ]
    },
    {
     "name": "stderr",
     "output_type": "stream",
     "text": [
      "\n",
      " 82%|███████████████████████████████████████████████████████████████████████████████████████████████████████████████████████▋                          | 41/50 [06:27<02:24, 16.11s/it]"
     ]
    },
    {
     "name": "stdout",
     "output_type": "stream",
     "text": [
      "2023-06-30 12:27:30.977635\n",
      "Backend topology: 2023-06-30 12:27:30.977635\n",
      "<qiskit.providers.models.backendproperties.BackendProperties object at 0x7f5264658df0>\n",
      "Depth: [2616, 2616, 2598, 2598, 2600, 2600]\n",
      "not na\n",
      "[2, 1, 0, 3, 4, 5, 6] [2, 1, 0, 3, 4, 5, 6] [0, 1, 2, 3, 4, 5, 6]\n",
      "[6, 1, 4, 3, 4, 5, 6]\n"
     ]
    },
    {
     "name": "stderr",
     "output_type": "stream",
     "text": [
      "\n",
      "100%|███████████████████████████████████████████████████████████████████████████████████████████████████████████████████████████████████████████████████| 1/1 [00:00<00:00, 554.44it/s]\u001b[A"
     ]
    },
    {
     "name": "stdout",
     "output_type": "stream",
     "text": [
      "[0.012806415557861328, 0.014092683792114258, 0.012465715408325195, 0.012949228286743164, 0.012993574142456055, 0.012790918350219727, 0.012472867965698242, 0.014516353607177734, 0.013238191604614258, 0.014684677124023438, 0.01348257064819336, 0.012863636016845703, 0.013819456100463867, 0.01368570327758789, 0.012771844863891602, 0.013649463653564453, 0.012921571731567383, 0.013665199279785156, 0.013269901275634766, 0.013047933578491211, 0.013363838195800781, 0.014853954315185547, 0.01282191276550293, 0.012760162353515625, 0.01376962661743164, 0.01449894905090332, 0.012477874755859375, 0.013124227523803711, 0.012715339660644531, 0.014731168746948242, 0.013813018798828125, 0.01271963119506836, 0.015584707260131836, 0.013130664825439453, 0.013388395309448242, 0.014805793762207031, 0.01290440559387207, 0.012985706329345703, 0.01289510726928711, 0.012449502944946289, 0.013762712478637695, 0.013209819793701172]\n"
     ]
    },
    {
     "name": "stderr",
     "output_type": "stream",
     "text": [
      "\n",
      " 84%|██████████████████████████████████████████████████████████████████████████████████████████████████████████████████████████▋                       | 42/50 [06:45<02:12, 16.62s/it]"
     ]
    },
    {
     "name": "stdout",
     "output_type": "stream",
     "text": [
      "2023-07-10 12:27:48.813754\n",
      "Backend topology: 2023-07-10 12:27:48.813754\n",
      "<qiskit.providers.models.backendproperties.BackendProperties object at 0x7f528f0bc670>\n",
      "Depth: [2594, 2594, 2608, 2608, 2612, 2612]\n",
      "na\n",
      "[2, 1, 0, 3, 4, 5, 6] [2, 1, 0, 3, 4, 5, 6] [4, 5, 6, 3, 2, 1, 0]\n",
      "[6, 1, 4, 3, 4, 5, 6]\n"
     ]
    },
    {
     "name": "stderr",
     "output_type": "stream",
     "text": [
      "\n",
      "100%|███████████████████████████████████████████████████████████████████████████████████████████████████████████████████████████████████████████████████| 1/1 [00:00<00:00, 566.11it/s]\u001b[A"
     ]
    },
    {
     "name": "stdout",
     "output_type": "stream",
     "text": [
      "[0.012806415557861328, 0.014092683792114258, 0.012465715408325195, 0.012949228286743164, 0.012993574142456055, 0.012790918350219727, 0.012472867965698242, 0.014516353607177734, 0.013238191604614258, 0.014684677124023438, 0.01348257064819336, 0.012863636016845703, 0.013819456100463867, 0.01368570327758789, 0.012771844863891602, 0.013649463653564453, 0.012921571731567383, 0.013665199279785156, 0.013269901275634766, 0.013047933578491211, 0.013363838195800781, 0.014853954315185547, 0.01282191276550293, 0.012760162353515625, 0.01376962661743164, 0.01449894905090332, 0.012477874755859375, 0.013124227523803711, 0.012715339660644531, 0.014731168746948242, 0.013813018798828125, 0.01271963119506836, 0.015584707260131836, 0.013130664825439453, 0.013388395309448242, 0.014805793762207031, 0.01290440559387207, 0.012985706329345703, 0.01289510726928711, 0.012449502944946289, 0.013762712478637695, 0.013209819793701172, 0.011909961700439453]\n"
     ]
    },
    {
     "name": "stderr",
     "output_type": "stream",
     "text": [
      "\n",
      " 86%|█████████████████████████████████████████████████████████████████████████████████████████████████████████████████████████████▌                    | 43/50 [07:14<02:23, 20.45s/it]"
     ]
    },
    {
     "name": "stdout",
     "output_type": "stream",
     "text": [
      "2023-08-20 12:28:18.178587\n",
      "Backend topology: 2023-08-20 12:28:18.178587\n",
      "<qiskit.providers.models.backendproperties.BackendProperties object at 0x7f529a0ee790>\n",
      "Depth: [2600, 2600, 2600, 2600, 2604, 2604]\n",
      "na\n",
      "[2, 1, 0, 3, 4, 5, 6] [2, 1, 0, 3, 4, 5, 6] [2, 0, 1, 3, 6, 5, 4]\n",
      "[6, 1, 4, 3, 4, 5, 6]\n"
     ]
    },
    {
     "name": "stderr",
     "output_type": "stream",
     "text": [
      "\n",
      "100%|███████████████████████████████████████████████████████████████████████████████████████████████████████████████████████████████████████████████████| 1/1 [00:00<00:00, 335.36it/s]\u001b[A"
     ]
    },
    {
     "name": "stdout",
     "output_type": "stream",
     "text": [
      "[0.012806415557861328, 0.014092683792114258, 0.012465715408325195, 0.012949228286743164, 0.012993574142456055, 0.012790918350219727, 0.012472867965698242, 0.014516353607177734, 0.013238191604614258, 0.014684677124023438, 0.01348257064819336, 0.012863636016845703, 0.013819456100463867, 0.01368570327758789, 0.012771844863891602, 0.013649463653564453, 0.012921571731567383, 0.013665199279785156, 0.013269901275634766, 0.013047933578491211, 0.013363838195800781, 0.014853954315185547, 0.01282191276550293, 0.012760162353515625, 0.01376962661743164, 0.01449894905090332, 0.012477874755859375, 0.013124227523803711, 0.012715339660644531, 0.014731168746948242, 0.013813018798828125, 0.01271963119506836, 0.015584707260131836, 0.013130664825439453, 0.013388395309448242, 0.014805793762207031, 0.01290440559387207, 0.012985706329345703, 0.01289510726928711, 0.012449502944946289, 0.013762712478637695, 0.013209819793701172, 0.011909961700439453, 0.014327764511108398]\n"
     ]
    },
    {
     "name": "stderr",
     "output_type": "stream",
     "text": [
      "\n",
      " 88%|████████████████████████████████████████████████████████████████████████████████████████████████████████████████████████████████▍                 | 44/50 [07:32<01:58, 19.72s/it]"
     ]
    },
    {
     "name": "stdout",
     "output_type": "stream",
     "text": [
      "2023-10-13 12:28:36.215440\n",
      "Backend topology: 2023-10-13 12:28:36.215440\n",
      "<qiskit.providers.models.backendproperties.BackendProperties object at 0x7f5188345af0>\n",
      "Depth: [2690, 2690, 2694, 2694, 2694, 2694]\n",
      "na\n",
      "[2, 1, 0, 3, 4, 5, 6] [2, 1, 0, 3, 4, 5, 6] [4, 5, 6, 3, 2, 1, 0]\n",
      "[6, 1, 4, 3, 4, 5, 6]\n"
     ]
    },
    {
     "name": "stderr",
     "output_type": "stream",
     "text": [
      "\n",
      "100%|███████████████████████████████████████████████████████████████████████████████████████████████████████████████████████████████████████████████████| 1/1 [00:00<00:00, 554.07it/s]\u001b[A"
     ]
    },
    {
     "name": "stdout",
     "output_type": "stream",
     "text": [
      "[0.012806415557861328, 0.014092683792114258, 0.012465715408325195, 0.012949228286743164, 0.012993574142456055, 0.012790918350219727, 0.012472867965698242, 0.014516353607177734, 0.013238191604614258, 0.014684677124023438, 0.01348257064819336, 0.012863636016845703, 0.013819456100463867, 0.01368570327758789, 0.012771844863891602, 0.013649463653564453, 0.012921571731567383, 0.013665199279785156, 0.013269901275634766, 0.013047933578491211, 0.013363838195800781, 0.014853954315185547, 0.01282191276550293, 0.012760162353515625, 0.01376962661743164, 0.01449894905090332, 0.012477874755859375, 0.013124227523803711, 0.012715339660644531, 0.014731168746948242, 0.013813018798828125, 0.01271963119506836, 0.015584707260131836, 0.013130664825439453, 0.013388395309448242, 0.014805793762207031, 0.01290440559387207, 0.012985706329345703, 0.01289510726928711, 0.012449502944946289, 0.013762712478637695, 0.013209819793701172, 0.011909961700439453, 0.014327764511108398, 0.012137651443481445]\n"
     ]
    },
    {
     "name": "stderr",
     "output_type": "stream",
     "text": [
      "\n",
      " 90%|███████████████████████████████████████████████████████████████████████████████████████████████████████████████████████████████████▍              | 45/50 [07:50<01:36, 19.32s/it]"
     ]
    },
    {
     "name": "stdout",
     "output_type": "stream",
     "text": [
      "2023-11-07 12:28:54.596040\n",
      "Backend topology: 2023-11-07 12:28:54.596040\n",
      "<qiskit.providers.models.backendproperties.BackendProperties object at 0x7f5293c70c40>\n",
      "Depth: [2966, 2966, 3012, 3012, 2990, 2990]\n",
      "na\n",
      "[2, 1, 0, 3, 4, 5, 6] [2, 1, 0, 3, 4, 5, 6] [4, 5, 6, 3, 2, 1, 0]\n",
      "[6, 1, 4, 3, 4, 5, 6]\n"
     ]
    },
    {
     "name": "stderr",
     "output_type": "stream",
     "text": [
      "\n",
      "100%|███████████████████████████████████████████████████████████████████████████████████████████████████████████████████████████████████████████████████| 1/1 [00:00<00:00, 527.78it/s]\u001b[A"
     ]
    },
    {
     "name": "stdout",
     "output_type": "stream",
     "text": [
      "[0.012806415557861328, 0.014092683792114258, 0.012465715408325195, 0.012949228286743164, 0.012993574142456055, 0.012790918350219727, 0.012472867965698242, 0.014516353607177734, 0.013238191604614258, 0.014684677124023438, 0.01348257064819336, 0.012863636016845703, 0.013819456100463867, 0.01368570327758789, 0.012771844863891602, 0.013649463653564453, 0.012921571731567383, 0.013665199279785156, 0.013269901275634766, 0.013047933578491211, 0.013363838195800781, 0.014853954315185547, 0.01282191276550293, 0.012760162353515625, 0.01376962661743164, 0.01449894905090332, 0.012477874755859375, 0.013124227523803711, 0.012715339660644531, 0.014731168746948242, 0.013813018798828125, 0.01271963119506836, 0.015584707260131836, 0.013130664825439453, 0.013388395309448242, 0.014805793762207031, 0.01290440559387207, 0.012985706329345703, 0.01289510726928711, 0.012449502944946289, 0.013762712478637695, 0.013209819793701172, 0.011909961700439453, 0.014327764511108398, 0.012137651443481445, 0.012117147445678711]\n"
     ]
    },
    {
     "name": "stderr",
     "output_type": "stream",
     "text": [
      "\n",
      " 92%|██████████████████████████████████████████████████████████████████████████████████████████████████████████████████████████████████████▎           | 46/50 [08:11<01:18, 19.61s/it]"
     ]
    },
    {
     "name": "stdout",
     "output_type": "stream",
     "text": [
      "2023-08-16 12:29:14.893989\n",
      "Backend topology: 2023-08-16 12:29:14.893989\n",
      "<qiskit.providers.models.backendproperties.BackendProperties object at 0x7f529310ebb0>\n",
      "Depth: [2942, 2942, 2946, 2946, 2938, 2938]\n",
      "SABRE\n",
      "[2, 1, 0, 3, 4, 5, 6] [2, 1, 0, 3, 4, 5, 6] [0, 1, 2, 3, 6, 5, 4]\n",
      "[6, 1, 4, 3, 4, 5, 6]\n"
     ]
    },
    {
     "name": "stderr",
     "output_type": "stream",
     "text": [
      "\n",
      "100%|███████████████████████████████████████████████████████████████████████████████████████████████████████████████████████████████████████████████████| 1/1 [00:00<00:00, 546.20it/s]\u001b[A"
     ]
    },
    {
     "name": "stdout",
     "output_type": "stream",
     "text": [
      "[0.012806415557861328, 0.014092683792114258, 0.012465715408325195, 0.012949228286743164, 0.012993574142456055, 0.012790918350219727, 0.012472867965698242, 0.014516353607177734, 0.013238191604614258, 0.014684677124023438, 0.01348257064819336, 0.012863636016845703, 0.013819456100463867, 0.01368570327758789, 0.012771844863891602, 0.013649463653564453, 0.012921571731567383, 0.013665199279785156, 0.013269901275634766, 0.013047933578491211, 0.013363838195800781, 0.014853954315185547, 0.01282191276550293, 0.012760162353515625, 0.01376962661743164, 0.01449894905090332, 0.012477874755859375, 0.013124227523803711, 0.012715339660644531, 0.014731168746948242, 0.013813018798828125, 0.01271963119506836, 0.015584707260131836, 0.013130664825439453, 0.013388395309448242, 0.014805793762207031, 0.01290440559387207, 0.012985706329345703, 0.01289510726928711, 0.012449502944946289, 0.013762712478637695, 0.013209819793701172, 0.011909961700439453, 0.014327764511108398, 0.012137651443481445, 0.012117147445678711, 0.013005971908569336]\n"
     ]
    },
    {
     "name": "stderr",
     "output_type": "stream",
     "text": [
      "\n",
      " 94%|█████████████████████████████████████████████████████████████████████████████████████████████████████████████████████████████████████████▏        | 47/50 [08:32<01:00, 20.06s/it]"
     ]
    },
    {
     "name": "stdout",
     "output_type": "stream",
     "text": [
      "2023-09-06 12:29:35.978925\n",
      "Backend topology: 2023-09-06 12:29:35.978925\n",
      "<qiskit.providers.models.backendproperties.BackendProperties object at 0x7f528ed76df0>\n",
      "Depth: [2996, 2996, 2482, 2482, 2478, 2478]\n",
      "SABRE\n",
      "[2, 1, 0, 3, 4, 5, 6] [2, 1, 0, 3, 4, 5, 6] [4, 5, 6, 3, 0, 1, 2]\n",
      "[6, 1, 4, 3, 4, 5, 6]\n"
     ]
    },
    {
     "name": "stderr",
     "output_type": "stream",
     "text": [
      "\n",
      "100%|███████████████████████████████████████████████████████████████████████████████████████████████████████████████████████████████████████████████████| 1/1 [00:00<00:00, 571.35it/s]\u001b[A"
     ]
    },
    {
     "name": "stdout",
     "output_type": "stream",
     "text": [
      "[0.012806415557861328, 0.014092683792114258, 0.012465715408325195, 0.012949228286743164, 0.012993574142456055, 0.012790918350219727, 0.012472867965698242, 0.014516353607177734, 0.013238191604614258, 0.014684677124023438, 0.01348257064819336, 0.012863636016845703, 0.013819456100463867, 0.01368570327758789, 0.012771844863891602, 0.013649463653564453, 0.012921571731567383, 0.013665199279785156, 0.013269901275634766, 0.013047933578491211, 0.013363838195800781, 0.014853954315185547, 0.01282191276550293, 0.012760162353515625, 0.01376962661743164, 0.01449894905090332, 0.012477874755859375, 0.013124227523803711, 0.012715339660644531, 0.014731168746948242, 0.013813018798828125, 0.01271963119506836, 0.015584707260131836, 0.013130664825439453, 0.013388395309448242, 0.014805793762207031, 0.01290440559387207, 0.012985706329345703, 0.01289510726928711, 0.012449502944946289, 0.013762712478637695, 0.013209819793701172, 0.011909961700439453, 0.014327764511108398, 0.012137651443481445, 0.012117147445678711, 0.013005971908569336, 0.012612342834472656]\n"
     ]
    },
    {
     "name": "stderr",
     "output_type": "stream",
     "text": [
      "\n",
      " 96%|████████████████████████████████████████████████████████████████████████████████████████████████████████████████████████████████████████████▏     | 48/50 [08:54<00:41, 20.77s/it]"
     ]
    },
    {
     "name": "stdout",
     "output_type": "stream",
     "text": [
      "2023-10-08 12:29:58.410556\n",
      "Backend topology: 2023-10-08 12:29:58.410556\n",
      "<qiskit.providers.models.backendproperties.BackendProperties object at 0x7f52044705b0>\n",
      "Depth: [2786, 2786, 2780, 2780, 2800, 2800]\n",
      "not na\n",
      "[2, 1, 0, 3, 4, 5, 6] [2, 1, 0, 3, 4, 5, 6] [0, 1, 2, 3, 4, 5, 6]\n",
      "[6, 1, 4, 3, 4, 5, 6]\n"
     ]
    },
    {
     "name": "stderr",
     "output_type": "stream",
     "text": [
      "\n",
      "100%|███████████████████████████████████████████████████████████████████████████████████████████████████████████████████████████████████████████████████| 1/1 [00:00<00:00, 532.75it/s]\u001b[A"
     ]
    },
    {
     "name": "stdout",
     "output_type": "stream",
     "text": [
      "[0.012806415557861328, 0.014092683792114258, 0.012465715408325195, 0.012949228286743164, 0.012993574142456055, 0.012790918350219727, 0.012472867965698242, 0.014516353607177734, 0.013238191604614258, 0.014684677124023438, 0.01348257064819336, 0.012863636016845703, 0.013819456100463867, 0.01368570327758789, 0.012771844863891602, 0.013649463653564453, 0.012921571731567383, 0.013665199279785156, 0.013269901275634766, 0.013047933578491211, 0.013363838195800781, 0.014853954315185547, 0.01282191276550293, 0.012760162353515625, 0.01376962661743164, 0.01449894905090332, 0.012477874755859375, 0.013124227523803711, 0.012715339660644531, 0.014731168746948242, 0.013813018798828125, 0.01271963119506836, 0.015584707260131836, 0.013130664825439453, 0.013388395309448242, 0.014805793762207031, 0.01290440559387207, 0.012985706329345703, 0.01289510726928711, 0.012449502944946289, 0.013762712478637695, 0.013209819793701172, 0.011909961700439453, 0.014327764511108398, 0.012137651443481445, 0.012117147445678711, 0.013005971908569336, 0.012612342834472656, 0.012517213821411133]\n"
     ]
    },
    {
     "name": "stderr",
     "output_type": "stream",
     "text": [
      "\n",
      " 98%|███████████████████████████████████████████████████████████████████████████████████████████████████████████████████████████████████████████████   | 49/50 [09:19<00:21, 21.97s/it]"
     ]
    },
    {
     "name": "stdout",
     "output_type": "stream",
     "text": [
      "2023-08-05 12:30:23.201652\n",
      "Backend topology: 2023-08-05 12:30:23.201652\n",
      "<qiskit.providers.models.backendproperties.BackendProperties object at 0x7f5149008e50>\n",
      "Depth: [3336, 3336, 3330, 3330, 3326, 3326]\n",
      "SABRE\n",
      "[2, 1, 0, 3, 4, 5, 6] [2, 1, 0, 3, 4, 5, 6] [0, 1, 2, 3, 6, 5, 4]\n",
      "[6, 1, 4, 3, 4, 5, 6]\n"
     ]
    },
    {
     "name": "stderr",
     "output_type": "stream",
     "text": [
      "\n",
      "100%|███████████████████████████████████████████████████████████████████████████████████████████████████████████████████████████████████████████████████| 1/1 [00:00<00:00, 310.97it/s]\u001b[A"
     ]
    },
    {
     "name": "stdout",
     "output_type": "stream",
     "text": [
      "[0.012806415557861328, 0.014092683792114258, 0.012465715408325195, 0.012949228286743164, 0.012993574142456055, 0.012790918350219727, 0.012472867965698242, 0.014516353607177734, 0.013238191604614258, 0.014684677124023438, 0.01348257064819336, 0.012863636016845703, 0.013819456100463867, 0.01368570327758789, 0.012771844863891602, 0.013649463653564453, 0.012921571731567383, 0.013665199279785156, 0.013269901275634766, 0.013047933578491211, 0.013363838195800781, 0.014853954315185547, 0.01282191276550293, 0.012760162353515625, 0.01376962661743164, 0.01449894905090332, 0.012477874755859375, 0.013124227523803711, 0.012715339660644531, 0.014731168746948242, 0.013813018798828125, 0.01271963119506836, 0.015584707260131836, 0.013130664825439453, 0.013388395309448242, 0.014805793762207031, 0.01290440559387207, 0.012985706329345703, 0.01289510726928711, 0.012449502944946289, 0.013762712478637695, 0.013209819793701172, 0.011909961700439453, 0.014327764511108398, 0.012137651443481445, 0.012117147445678711, 0.013005971908569336, 0.012612342834472656, 0.012517213821411133, 0.018709421157836914]\n"
     ]
    },
    {
     "name": "stderr",
     "output_type": "stream",
     "text": [
      "\n",
      "100%|██████████████████████████████████████████████████████████████████████████████████████████████████████████████████████████████████████████████████| 50/50 [09:54<00:00, 11.88s/it]\n"
     ]
    }
   ],
   "source": [
    "dnn_time = []\n",
    "mlp_time = []\n",
    "mlp_edge_time = []\n",
    "sabre_time,na_time,dense_time = [],[],[]\n",
    "for depth in tqdm(range(1,51)):\n",
    "#     num_qubits = np.random.randint(5,8)\n",
    "    qc = random_circuit(7, depth, measure=True)\n",
    "    data = datetime.today() - timedelta(days=random.randint(1,150))\n",
    "    backends = ['ibm_lagos','ibm_perth','ibm_nairobi']\n",
    "    backend = backends[np.random.randint(0,3)]\n",
    "    l = add_line(qc,backend, optimization_level=3, refresh=True, show= False, datatime=data)\n",
    "    \n",
    "    d={}\n",
    "    for i in range(len(l[0])):\n",
    "        d[str(l[0][i])] = l[1][i]\n",
    "    df = pd.DataFrame(d, index=[0])\n",
    "    df = clear_dataset(df, 7)\n",
    "    last_num_qubits = len(df.columns)-num_qubits\n",
    "    labels = ((df.iloc[:, last_num_qubits:].values)[0]).tolist()\n",
    "    \n",
    "#     time_taken_to_get_df = get_df_time(qc,backend,data)\n",
    "#     print(\"Preprocess time:\",time_taken_to_get_df)\n",
    "    time_taken_to_get_df = 0\n",
    "    \n",
    "    start = time.time()\n",
    "    \n",
    "    x = SS.fit_transform(df.iloc[:, 2:last_num_qubits].values)\n",
    "    predicted = dnn.predict(x)\n",
    "    pred_or = np.array(pred_layout(predicted, num_qubits))[0].tolist()\n",
    "    pred_nr = np.array(pred_layout_diff_elem(predicted,num_qubits))[0].tolist()\n",
    "    end = time.time()\n",
    "    dnn_time.append(time_taken_to_get_df + (end-start))\n",
    "    \n",
    "    print(pred_or, pred_nr, labels)\n",
    "    if(pred_or == labels):\n",
    "        count_or = count_or + 1\n",
    "    if(pred_nr == labels):\n",
    "        count_nr = count_nr + 1\n",
    "    \n",
    "    start = time.time()\n",
    "    mlp_pred = get_labels(np.reshape(mlp.predict(x),(7,7)))\n",
    "    end = time.time()\n",
    "    mlp_time.append(time_taken_to_get_df + (end-start))\n",
    "    print(mlp_pred)\n",
    "    if mlp_pred == labels:\n",
    "        count_mlp = count_mlp + 1\n",
    "        \n",
    "    start = time.time()\n",
    "    x = SS.fit_transform(get_graph_features(df))\n",
    "    mlp_edges_pred = get_labels(np.reshape(mlp_edge_feature.predict(x),(7,7)))\n",
    "    end = time.time()\n",
    "    mlp_edge_time.append(time_taken_to_get_df + (end-start))\n",
    "    print(mlp_edge_time)\n",
    "    \n",
    "#     # execution times\n",
    "    basis_gats = basis_gate_dict[backend]\n",
    "    pass_ = Unroller(basis_gats)\n",
    "    pm = PassManager(pass_)\n",
    "    backend = provider.get_backend(backend)\n",
    "    tqc = transpile(qc, backend=backend, optimization_level=0)\n",
    "    tqc = pm.run(tqc)\n",
    "    # noise adaptive time\n",
    "    start = time.time()\n",
    "    new_circ_lv3_na = transpile(tqc, backend=backend, optimization_level=0,layout_method='noise_adaptive')\n",
    "    new_circ_lv3_na._layout.get_physical_bits()\n",
    "    end = time.time()\n",
    "    na_time.append(end-start)\n",
    "    # sabre time\n",
    "    start = time.time()\n",
    "    new_circ_lv3_sabre = transpile(tqc, backend=backend, optimization_level=0,layout_method='sabre',routing_method='sabre')\n",
    "    new_circ_lv3_sabre._layout.get_physical_bits()\n",
    "    end = time.time()\n",
    "    sabre_time.append(end-start)\n",
    "    # dense time\n",
    "    start = time.time()\n",
    "    new_circ_lv3_dense = transpile(tqc, backend=backend, optimization_level=0)\n",
    "    new_circ_lv3_dense._layout.get_physical_bits()\n",
    "    end = time.time()\n",
    "    dense_time.append(end-start)\n",
    "    \n",
    "    "
   ]
  },
  {
   "cell_type": "code",
   "execution_count": null,
   "id": "8bd41e2e",
   "metadata": {},
   "outputs": [],
   "source": []
  },
  {
   "cell_type": "code",
   "execution_count": null,
   "id": "0f57f422",
   "metadata": {},
   "outputs": [],
   "source": []
  },
  {
   "cell_type": "code",
   "execution_count": null,
   "id": "0a19f1ba",
   "metadata": {},
   "outputs": [],
   "source": []
  },
  {
   "cell_type": "code",
   "execution_count": 57,
   "id": "f28f4a96",
   "metadata": {},
   "outputs": [],
   "source": [
    "df = pd.DataFrame()\n",
    "df[\"DNN\"] = dnn_time\n",
    "df[\"NN without edge features\"] = mlp_time\n",
    "df[\"NN with edge features\"] = mlp_edge_time\n",
    "df[\"SABRE\"] =  sabre_time\n",
    "df[\"Noise Adaptive\"] = na_time\n",
    "df[\"Dense\"] = dense_time\n",
    "# df[\"Index\"] = list(range(1,51))"
   ]
  },
  {
   "cell_type": "code",
   "execution_count": 58,
   "id": "01df4fab",
   "metadata": {},
   "outputs": [],
   "source": [
    "import pandas as pd\n",
    "\n",
    "import seaborn as sns\n",
    "import math\n",
    "import matplotlib.pyplot as plt\n",
    "from matplotlib import cm\n",
    "import numpy as np"
   ]
  },
  {
   "cell_type": "code",
   "execution_count": 71,
   "id": "29593c95",
   "metadata": {},
   "outputs": [
    {
     "data": {
      "text/plain": [
       "<matplotlib.legend.Legend at 0x7f51883f6970>"
      ]
     },
     "execution_count": 71,
     "metadata": {},
     "output_type": "execute_result"
    },
    {
     "data": {
      "image/png": "[encoded data removed]",
      "text/plain": [
       "<Figure size 1300x700 with 1 Axes>"
      ]
     },
     "metadata": {},
     "output_type": "display_data"
    }
   ],
   "source": [
    "sns.set_theme(style=\"whitegrid\")\n",
    "a4_dims = (13,7)\n",
    "fig, ax = plt.subplots(figsize=a4_dims)\n",
    "sns.lineplot(data = df,markers=True, dashes=False)\n",
    "fig.suptitle('Depth vs. mapping time ', fontsize=20)\n",
    "plt.xlabel(\"Circuit depth\", fontsize=20)\n",
    "plt.ylabel(\"Mapping Time (sec)\", fontsize=20)\n",
    "plt.legend(loc='upper right')"
   ]
  },
  {
   "cell_type": "code",
   "execution_count": 70,
   "id": "764c7dbb",
   "metadata": {},
   "outputs": [
    {
     "data": {
      "text/plain": [
       "<matplotlib.legend.Legend at 0x7f518851e5e0>"
      ]
     },
     "execution_count": 70,
     "metadata": {},
     "output_type": "execute_result"
    },
    {
     "data": {
      "image/png": "[encoded data removed]",
      "text/plain": [
       "<Figure size 1300x700 with 1 Axes>"
      ]
     },
     "metadata": {},
     "output_type": "display_data"
    }
   ],
   "source": [
    "sns.set_theme(style=\"whitegrid\")\n",
    "a4_dims = (13,7)\n",
    "fig, ax = plt.subplots(figsize=a4_dims)\n",
    "sns.lineplot(data = df[[\"DNN\",\"NN without edge features\",\"NN with edge features\"]],markers=True, dashes=False)\n",
    "fig.suptitle('Depth vs. mapping time ', fontsize=20)\n",
    "plt.xlabel(\"Circuit depth\", fontsize=20)\n",
    "plt.ylabel(\"Mapping Time (sec)\", fontsize=20)\n",
    "plt.legend(loc='upper right')"
   ]
  },
  {
   "cell_type": "code",
   "execution_count": 69,
   "id": "f6f27ee8",
   "metadata": {},
   "outputs": [
    {
     "data": {
      "text/plain": [
       "<matplotlib.legend.Legend at 0x7f520416fc70>"
      ]
     },
     "execution_count": 69,
     "metadata": {},
     "output_type": "execute_result"
    },
    {
     "data": {
      "image/png": "[encoded data removed]",
      "text/plain": [
       "<Figure size 1300x700 with 1 Axes>"
      ]
     },
     "metadata": {},
     "output_type": "display_data"
    }
   ],
   "source": [
    "sns.set_theme(style=\"whitegrid\")\n",
    "a4_dims = (13,7)\n",
    "fig, ax = plt.subplots(figsize=a4_dims)\n",
    "sns.lineplot(data = df[[\"SABRE\",\"Dense\",\"Noise Adaptive\"]],markers=True, dashes=False)\n",
    "fig.suptitle('Depth vs. mapping time ', fontsize=20)\n",
    "plt.xlabel(\"Circuit depth\", fontsize=20)\n",
    "plt.ylabel(\"Mapping Time (sec)\", fontsize=20)\n",
    "plt.legend(loc='upper right')"
   ]
  },
  {
   "cell_type": "code",
   "execution_count": null,
   "id": "b061101f",
   "metadata": {},
   "outputs": [],
   "source": []
  }
 ],
 "metadata": {
  "kernelspec": {
   "display_name": "Python [conda env:dnn_for_qubit_mapping]",
   "language": "python",
   "name": "conda-env-dnn_for_qubit_mapping-py"
  },
  "language_info": {
   "codemirror_mode": {
    "name": "ipython",
    "version": 3
   },
   "file_extension": ".py",
   "mimetype": "text/x-python",
   "name": "python",
   "nbconvert_exporter": "python",
   "pygments_lexer": "ipython3",
   "version": "3.8.18"
  }
 },
 "nbformat": 4,
 "nbformat_minor": 5
}
