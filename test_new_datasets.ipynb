{
 "cells": [
  {
   "cell_type": "code",
   "execution_count": 1,
   "id": "975d5b27",
   "metadata": {},
   "outputs": [],
   "source": [
    "# pip install qiskit==0.31.0"
   ]
  },
  {
   "cell_type": "code",
   "execution_count": null,
   "id": "30a344d3",
   "metadata": {},
   "outputs": [
    {
     "name": "stdout",
     "output_type": "stream",
     "text": [
      "Generating QFT circuits\n",
      "Generating Addition circuits\n"
     ]
    },
    {
     "name": "stderr",
     "output_type": "stream",
     "text": [
      " 62%|███████████████████████████████████████████████████████████████                                      | 6736/10795 [00:32<00:17, 225.96it/s]"
     ]
    }
   ],
   "source": [
    "from get_test_datasets import return_dataset\n",
    "test_dataset = return_dataset()"
   ]
  },
  {
   "cell_type": "code",
   "execution_count": null,
   "id": "87ba7a7f",
   "metadata": {},
   "outputs": [],
   "source": [
    "len(test_dataset)"
   ]
  },
  {
   "cell_type": "code",
   "execution_count": null,
   "id": "d0de6e58",
   "metadata": {},
   "outputs": [],
   "source": [
    "import tensorflow as tf\n",
    "from tensorflow import keras\n",
    "\n",
    "from helper import *"
   ]
  },
  {
   "cell_type": "code",
   "execution_count": null,
   "id": "1cd2500a",
   "metadata": {},
   "outputs": [],
   "source": [
    "mlp_edge_feature = tf.keras.models.load_model(\"models/mlp_edge_features.keras\")\n",
    "dnn = tf.keras.models.load_model(\"models/dnn.keras\")\n",
    "mlp = tf.keras.models.load_model(\"models/mlp.keras\")"
   ]
  },
  {
   "cell_type": "code",
   "execution_count": 4,
   "id": "f03b7473",
   "metadata": {},
   "outputs": [],
   "source": [
    "\n",
    "def pred_layout(l, num_qubits):\n",
    "    layout=[]\n",
    "    for i in range(len(l[0])):\n",
    "        layout_i = []\n",
    "        for slots in l[:num_qubits]:\n",
    "            if np.argmax(slots[i]) != num_qubits:\n",
    "                layout_i.append(np.argmax(slots[i]))\n",
    "            else:\n",
    "                layout_i.append(np.nan)\n",
    "        layout.append(layout_i)\n",
    "    return layout\n",
    "\n",
    "def controlla_rip(l):\n",
    "    rip = []\n",
    "    for i in range(len(l)):\n",
    "        for j in range(i+1, len(l)):\n",
    "            if l[i] == l[j]:\n",
    "                if (i,j) not in rip:\n",
    "                    rip.append((i,j))\n",
    "\n",
    "    return rip\n",
    "\n",
    "def pred_layout_diff_elem(l,num_qubits):\n",
    "    layout=[]\n",
    "    for i in range(len(l[0])):\n",
    "        check = 0\n",
    "        while check != 1:\n",
    "            layout_i = []\n",
    "            for slots in l[:num_qubits]:\n",
    "                if np.argmax(slots[i]) != num_qubits:\n",
    "                    layout_i.append(np.argmax(slots[i]))\n",
    "                else:\n",
    "                    layout_i.append(np.nan)\n",
    "            rip = controlla_rip(layout_i)\n",
    "            if rip == []:\n",
    "                check = 1\n",
    "            else:\n",
    "                for index in rip:\n",
    "                    if l[index[0]][i][layout_i[index[0]]] > l[index[1]][i][layout_i[index[1]]]:\n",
    "                        l[index[1]][i][layout_i[index[1]]]=0\n",
    "                    else:\n",
    "                        l[index[0]][i][layout_i[index[0]]] = 0\n",
    "\n",
    "        layout.append(layout_i)\n",
    "    return layout\n"
   ]
  },
  {
   "cell_type": "code",
   "execution_count": 5,
   "id": "ee8dcb7a",
   "metadata": {},
   "outputs": [
    {
     "ename": "NameError",
     "evalue": "name 'df' is not defined",
     "output_type": "error",
     "traceback": [
      "\u001b[0;31m---------------------------------------------------------------------------\u001b[0m",
      "\u001b[0;31mNameError\u001b[0m                                 Traceback (most recent call last)",
      "Cell \u001b[0;32mIn[5], line 8\u001b[0m\n\u001b[1;32m      5\u001b[0m     \u001b[38;5;28;01mreturn\u001b[39;00m labels\n\u001b[1;32m      7\u001b[0m num_qubits \u001b[38;5;241m=\u001b[39m \u001b[38;5;241m7\u001b[39m\n\u001b[0;32m----> 8\u001b[0m last_num_qubits \u001b[38;5;241m=\u001b[39m \u001b[38;5;28mlen\u001b[39m(\u001b[43mdf\u001b[49m\u001b[38;5;241m.\u001b[39mcolumns)\u001b[38;5;241m-\u001b[39mnum_qubits\n\u001b[1;32m     11\u001b[0m \u001b[38;5;28;01mfor\u001b[39;00m qc \u001b[38;5;129;01min\u001b[39;00m test_dataset[\u001b[38;5;241m8989\u001b[39m:\u001b[38;5;241m8990\u001b[39m]:\n\u001b[1;32m     12\u001b[0m     data \u001b[38;5;241m=\u001b[39m datetime\u001b[38;5;241m.\u001b[39mdatetime\u001b[38;5;241m.\u001b[39mtoday() \u001b[38;5;241m-\u001b[39m datetime\u001b[38;5;241m.\u001b[39mtimedelta(days\u001b[38;5;241m=\u001b[39mrandom\u001b[38;5;241m.\u001b[39mrandint(\u001b[38;5;241m1\u001b[39m,\u001b[38;5;241m150\u001b[39m))\n",
      "\u001b[0;31mNameError\u001b[0m: name 'df' is not defined"
     ]
    }
   ],
   "source": [
    "def get_labels(y):\n",
    "    labels = []\n",
    "    for i in range(len(y)):\n",
    "        labels.append(np.where(y[i]==np.max(y[i]))[0][0])\n",
    "    return labels\n",
    "\n",
    "num_qubits = 7\n",
    "\n",
    "for qc in test_dataset[8989:8990]:\n",
    "    data = datetime.datetime.today() - datetime.timedelta(days=random.randint(1,150))\n",
    "    backends = ['ibm_lagos','ibm_perth','ibm_nairobi']\n",
    "    backend = backends[np.random.randint(0,3)]\n",
    "    l = add_line(qc,backend, optimization_level=3, refresh=True, show= False, datatime=data)\n",
    "    \n",
    "    d={}\n",
    "    for i in range(len(l[0])):\n",
    "        d[str(l[0][i])] = l[1][i]\n",
    "    df = pd.DataFrame(d, index=[0])\n",
    "    last_num_qubits = len(df.columns)-num_qubits\n",
    "    df = clear_dataset(df, 7)\n",
    "#     x = get_graph_features(df)\n",
    "    x = df.iloc[:, 2:last_num_qubits].values\n",
    "    print(x.shape)\n",
    "#     print(x.shape)\n",
    "    labels = df.iloc[:, last_num_qubits:].values\n",
    "    display(df)\n",
    "#     pred = (mlp_edge_feature.predict(x))\n",
    "#     predicted=get_labels(np.reshape(pred,(7,7)))\n",
    "    predicted = dnn.predict(x)\n",
    "    \n",
    "    \n",
    "    pred_or = np.array(pred_layout(predicted, num_qubits))\n",
    "    pred_nr = np.array(pred_layout_diff_elem(predicted,num_qubits))\n",
    "    print(pred_or, pred_nr)\n",
    "    print(predicted, labels[0])    \n",
    "#     print(predicted==labels[0])"
   ]
  },
  {
   "cell_type": "code",
   "execution_count": null,
   "id": "12356080",
   "metadata": {},
   "outputs": [],
   "source": []
  },
  {
   "cell_type": "code",
   "execution_count": null,
   "id": "040e7712",
   "metadata": {},
   "outputs": [],
   "source": []
  },
  {
   "cell_type": "code",
   "execution_count": null,
   "id": "b66c7d1b",
   "metadata": {},
   "outputs": [],
   "source": []
  },
  {
   "cell_type": "code",
   "execution_count": null,
   "id": "21064bf3",
   "metadata": {},
   "outputs": [],
   "source": []
  },
  {
   "cell_type": "code",
   "execution_count": 399,
   "id": "55bd9fc5",
   "metadata": {},
   "outputs": [],
   "source": [
    "import tensorflow as tf\n",
    "from tensorflow import keras"
   ]
  },
  {
   "cell_type": "code",
   "execution_count": 400,
   "id": "6004a6bf",
   "metadata": {},
   "outputs": [],
   "source": [
    "from Dataset import *"
   ]
  },
  {
   "cell_type": "code",
   "execution_count": 435,
   "id": "47323f55",
   "metadata": {},
   "outputs": [],
   "source": [
    "loaded_model = tf.keras.models.load_model(\"models/mlp_edge_features.keras\")"
   ]
  },
  {
   "cell_type": "code",
   "execution_count": 436,
   "id": "8769fe6e",
   "metadata": {},
   "outputs": [
    {
     "name": "stdout",
     "output_type": "stream",
     "text": [
      "Model: \"model\"\n",
      "_________________________________________________________________\n",
      "Layer (type)                 Output Shape              Param #   \n",
      "=================================================================\n",
      "input (InputLayer)           [(None, 378)]             0         \n",
      "_________________________________________________________________\n",
      "dense (Dense)                (None, 189)               71631     \n",
      "_________________________________________________________________\n",
      "dense_1 (Dense)              (None, 94)                17860     \n",
      "_________________________________________________________________\n",
      "dense_2 (Dense)              (None, 49)                4655      \n",
      "=================================================================\n",
      "Total params: 94,146\n",
      "Trainable params: 94,146\n",
      "Non-trainable params: 0\n",
      "_________________________________________________________________\n"
     ]
    }
   ],
   "source": [
    "loaded_model.summary()"
   ]
  },
  {
   "cell_type": "code",
   "execution_count": null,
   "id": "59dbb66a",
   "metadata": {},
   "outputs": [],
   "source": []
  }
 ],
 "metadata": {
  "kernelspec": {
   "display_name": "Python [conda env:dnn_for_qubit_mapping]",
   "language": "python",
   "name": "conda-env-dnn_for_qubit_mapping-py"
  },
  "language_info": {
   "codemirror_mode": {
    "name": "ipython",
    "version": 3
   },
   "file_extension": ".py",
   "mimetype": "text/x-python",
   "name": "python",
   "nbconvert_exporter": "python",
   "pygments_lexer": "ipython3",
   "version": "3.8.18"
  }
 },
 "nbformat": 4,
 "nbformat_minor": 5
}
