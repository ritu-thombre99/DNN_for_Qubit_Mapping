{
 "cells": [
  {
   "cell_type": "code",
   "execution_count": 1,
   "id": "975d5b27",
   "metadata": {},
   "outputs": [],
   "source": [
    "# pip install qiskit==0.31.0"
   ]
  },
  {
   "cell_type": "code",
   "execution_count": 1,
   "id": "7fe40edc",
   "metadata": {},
   "outputs": [
    {
     "name": "stdout",
     "output_type": "stream",
     "text": [
      "Generating QFT circuits\n",
      "Generating Grover circuits\n"
     ]
    },
    {
     "name": "stderr",
     "output_type": "stream",
     "text": [
      "100%|████████████████████████████████████████████████████████████████████████████████████████████████████████| 868/868 [00:01<00:00, 501.41it/s]\n"
     ]
    },
    {
     "name": "stdout",
     "output_type": "stream",
     "text": [
      "Generating QPE circuits\n"
     ]
    }
   ],
   "source": [
    "from get_test_datasets import return_dataset\n",
    "test_dataset = return_dataset()"
   ]
  },
  {
   "cell_type": "code",
   "execution_count": 2,
   "id": "07b19af1",
   "metadata": {},
   "outputs": [
    {
     "data": {
      "text/plain": [
       "1338"
      ]
     },
     "execution_count": 2,
     "metadata": {},
     "output_type": "execute_result"
    }
   ],
   "source": [
    "len(test_dataset)"
   ]
  },
  {
   "cell_type": "code",
   "execution_count": 5,
   "id": "75c6fc50",
   "metadata": {},
   "outputs": [
    {
     "name": "stderr",
     "output_type": "stream",
     "text": [
      "ibmqfactory.load_account:WARNING:2023-11-27 00:46:08,838: Credentials are already in use. The existing account in the session will be replaced.\n"
     ]
    },
    {
     "name": "stdout",
     "output_type": "stream",
     "text": [
      "{'ibm_brisbane': [[1, 0], [2, 1], [3, 2], [4, 3], [4, 5], [4, 15], [6, 5], [6, 7], [7, 8], [8, 9], [10, 9], [10, 11], [11, 12], [12, 17], [13, 12], [14, 0], [14, 18], [15, 22], [16, 8], [16, 26], [17, 30], [18, 19], [20, 19], [20, 33], [21, 20], [21, 22], [22, 23], [24, 23], [24, 34], [25, 24], [26, 25], [27, 26], [28, 27], [28, 29], [28, 35], [30, 29], [30, 31], [31, 32], [32, 36], [33, 39], [34, 43], [35, 47], [36, 51], [37, 38], [39, 38], [40, 39], [40, 41], [41, 53], [42, 41], [42, 43], [43, 44], [44, 45], [46, 45], [46, 47], [48, 47], [48, 49], [50, 49], [50, 51], [52, 37], [52, 56], [53, 60], [54, 45], [54, 64], [55, 49], [55, 68], [56, 57], [57, 58], [58, 59], [58, 71], [59, 60], [60, 61], [62, 61], [62, 63], [62, 72], [63, 64], [65, 64], [65, 66], [67, 66], [67, 68], [69, 68], [69, 70], [73, 66], [74, 70], [74, 89], [75, 90], [76, 75], [77, 71], [77, 76], [77, 78], [79, 78], [79, 80], [80, 81], [81, 72], [81, 82], [82, 83], [83, 92], [84, 83], [85, 73], [85, 84], [85, 86], [86, 87], [87, 88], [88, 89], [91, 79], [92, 102], [93, 87], [93, 106], [94, 90], [94, 95], [95, 96], [97, 96], [97, 98], [98, 91], [99, 98], [100, 99], [100, 110], [101, 100], [101, 102], [102, 103], [104, 103], [105, 104], [105, 106], [107, 106], [108, 107], [108, 112], [109, 96], [110, 118], [111, 104], [112, 126], [113, 114], [114, 109], [114, 115], [116, 115], [116, 117], [117, 118], [118, 119], [120, 119], [121, 120], [122, 111], [122, 121], [122, 123], [124, 123], [125, 124], [125, 126]], 'ibm_lagos': [[0, 1], [1, 0], [1, 2], [1, 3], [2, 1], [3, 1], [3, 5], [4, 5], [5, 3], [5, 4], [5, 6], [6, 5]], 'ibm_nairobi': [[0, 1], [1, 0], [1, 2], [1, 3], [2, 1], [3, 1], [3, 5], [4, 5], [5, 3], [5, 4], [5, 6], [6, 5]], 'ibm_perth': [[0, 1], [1, 0], [1, 2], [1, 3], [2, 1], [3, 1], [3, 5], [4, 5], [5, 3], [5, 4], [5, 6], [6, 5]]}\n"
     ]
    }
   ],
   "source": [
    "import tensorflow as tf\n",
    "from tensorflow import keras\n",
    "\n",
    "from sklearn.preprocessing import StandardScaler, MinMaxScaler\n",
    "from helper import *"
   ]
  },
  {
   "cell_type": "code",
   "execution_count": 6,
   "id": "c6b20b7c",
   "metadata": {},
   "outputs": [
    {
     "name": "stderr",
     "output_type": "stream",
     "text": [
      "2023-11-27 00:47:15.952479: I tensorflow/stream_executor/platform/default/dso_loader.cc:44] Successfully opened dynamic library libcuda.so.1\n",
      "2023-11-27 00:47:17.175433: E tensorflow/stream_executor/cuda/cuda_gpu_executor.cc:967] could not open file to read NUMA node: /sys/bus/pci/devices/0000:01:00.0/numa_node\n",
      "Your kernel may have been built without NUMA support.\n",
      "2023-11-27 00:47:17.179321: I tensorflow/core/common_runtime/gpu/gpu_device.cc:1561] Found device 0 with properties: \n",
      "pciBusID: 0000:01:00.0 name: NVIDIA GeForce GTX 1650 Ti computeCapability: 7.5\n",
      "coreClock: 1.485GHz coreCount: 16 deviceMemorySize: 4.00GiB deviceMemoryBandwidth: 178.84GiB/s\n",
      "2023-11-27 00:47:17.179616: W tensorflow/stream_executor/platform/default/dso_loader.cc:55] Could not load dynamic library 'libcudart.so.10.1'; dlerror: libcudart.so.10.1: cannot open shared object file: No such file or directory\n",
      "2023-11-27 00:47:17.179711: W tensorflow/stream_executor/platform/default/dso_loader.cc:55] Could not load dynamic library 'libcublas.so.10'; dlerror: libcublas.so.10: cannot open shared object file: No such file or directory\n",
      "2023-11-27 00:47:17.179826: W tensorflow/stream_executor/platform/default/dso_loader.cc:55] Could not load dynamic library 'libcufft.so.10'; dlerror: libcufft.so.10: cannot open shared object file: No such file or directory\n",
      "2023-11-27 00:47:17.179877: W tensorflow/stream_executor/platform/default/dso_loader.cc:55] Could not load dynamic library 'libcurand.so.10'; dlerror: libcurand.so.10: cannot open shared object file: No such file or directory\n",
      "2023-11-27 00:47:17.179923: W tensorflow/stream_executor/platform/default/dso_loader.cc:55] Could not load dynamic library 'libcusolver.so.10'; dlerror: libcusolver.so.10: cannot open shared object file: No such file or directory\n",
      "2023-11-27 00:47:17.179967: W tensorflow/stream_executor/platform/default/dso_loader.cc:55] Could not load dynamic library 'libcusparse.so.10'; dlerror: libcusparse.so.10: cannot open shared object file: No such file or directory\n",
      "2023-11-27 00:47:17.180014: W tensorflow/stream_executor/platform/default/dso_loader.cc:55] Could not load dynamic library 'libcudnn.so.7'; dlerror: libcudnn.so.7: cannot open shared object file: No such file or directory\n",
      "2023-11-27 00:47:17.180022: W tensorflow/core/common_runtime/gpu/gpu_device.cc:1598] Cannot dlopen some GPU libraries. Please make sure the missing libraries mentioned above are installed properly if you would like to use GPU. Follow the guide at https://www.tensorflow.org/install/gpu for how to download and setup the required libraries for your platform.\n",
      "Skipping registering GPU devices...\n",
      "2023-11-27 00:47:17.180900: I tensorflow/core/platform/cpu_feature_guard.cc:143] Your CPU supports instructions that this TensorFlow binary was not compiled to use: AVX2 FMA\n",
      "2023-11-27 00:47:17.191057: I tensorflow/core/platform/profile_utils/cpu_utils.cc:102] CPU Frequency: 2495725000 Hz\n",
      "2023-11-27 00:47:17.192205: I tensorflow/compiler/xla/service/service.cc:168] XLA service 0x7fa52c000b70 initialized for platform Host (this does not guarantee that XLA will be used). Devices:\n",
      "2023-11-27 00:47:17.192258: I tensorflow/compiler/xla/service/service.cc:176]   StreamExecutor device (0): Host, Default Version\n",
      "2023-11-27 00:47:17.194043: I tensorflow/core/common_runtime/gpu/gpu_device.cc:1102] Device interconnect StreamExecutor with strength 1 edge matrix:\n",
      "2023-11-27 00:47:17.194068: I tensorflow/core/common_runtime/gpu/gpu_device.cc:1108]      \n"
     ]
    }
   ],
   "source": [
    "mlp_edge_feature = tf.keras.models.load_model(\"models/mlp_edge_features.keras\")\n",
    "dnn = tf.keras.models.load_model(\"models/dnn.keras\")\n",
    "mlp = tf.keras.models.load_model(\"models/mlp.keras\")"
   ]
  },
  {
   "cell_type": "code",
   "execution_count": null,
   "id": "582c8840",
   "metadata": {},
   "outputs": [],
   "source": []
  },
  {
   "cell_type": "code",
   "execution_count": 7,
   "id": "ee8dcb7a",
   "metadata": {
    "scrolled": true
   },
   "outputs": [
    {
     "name": "stderr",
     "output_type": "stream",
     "text": [
      "\r",
      "  0%|                                                                                                                     | 0/5 [00:00<?, ?it/s]"
     ]
    },
    {
     "name": "stdout",
     "output_type": "stream",
     "text": [
      "2023-07-06 00:47:19.848567\n",
      "Backend topology: 2023-07-06 00:47:19.848567\n",
      "<qiskit.providers.models.backendproperties.BackendProperties object at 0x7fa5825b0f70>\n",
      "Depth: [6, 6, 6, 6, 6, 6]\n",
      "na\n",
      "[2, 1, 0, 3, 4, 5, 6] [2, 1, 0, 3, 4, 5, 6] [0, 1, 2, 3, 4, 5, 6]\n",
      "[6, 1, 4, 3, 4, 5, 6]\n"
     ]
    },
    {
     "name": "stderr",
     "output_type": "stream",
     "text": [
      "\n",
      "100%|████████████████████████████████████████████████████████████████████████████████████████████████████████████| 1/1 [00:00<00:00, 215.27it/s]\u001b[A\n",
      " 20%|█████████████████████▊                                                                                       | 1/5 [00:02<00:09,  2.49s/it]"
     ]
    },
    {
     "name": "stdout",
     "output_type": "stream",
     "text": [
      "[2, 1, 0, 3, 4, 5, 6]\n",
      "2023-07-24 00:47:22.337632\n",
      "Backend topology: 2023-07-24 00:47:22.337632\n",
      "<qiskit.providers.models.backendproperties.BackendProperties object at 0x7fa582469a60>\n",
      "Depth: [6, 6, 6, 6, 6, 6]\n",
      "na\n",
      "[2, 1, 0, 3, 4, 5, 6] [2, 1, 0, 3, 4, 5, 6] [0, 1, 2, 3, 4, 5, 6]\n",
      "[6, 1, 4, 3, 4, 5, 6]\n"
     ]
    },
    {
     "name": "stderr",
     "output_type": "stream",
     "text": [
      "\n",
      "100%|████████████████████████████████████████████████████████████████████████████████████████████████████████████| 1/1 [00:00<00:00, 137.89it/s]\u001b[A\n",
      " 40%|███████████████████████████████████████████▌                                                                 | 2/5 [00:04<00:05,  2.00s/it]"
     ]
    },
    {
     "name": "stdout",
     "output_type": "stream",
     "text": [
      "[2, 1, 0, 3, 4, 5, 6]\n",
      "2023-11-13 00:47:23.990790\n",
      "Backend topology: 2023-11-13 00:47:23.990790\n",
      "<qiskit.providers.models.backendproperties.BackendProperties object at 0x7fa57f5d85b0>\n",
      "Depth: [6, 6, 6, 6, 6, 6]\n",
      "na\n",
      "[2, 1, 0, 3, 4, 5, 6] [2, 1, 0, 3, 4, 5, 6] [0, 1, 2, 3, 4, 5, 6]\n",
      "[6, 1, 4, 3, 4, 5, 6]\n"
     ]
    },
    {
     "name": "stderr",
     "output_type": "stream",
     "text": [
      "\n",
      "100%|████████████████████████████████████████████████████████████████████████████████████████████████████████████| 1/1 [00:00<00:00, 134.35it/s]\u001b[A\n",
      " 60%|█████████████████████████████████████████████████████████████████▍                                           | 3/5 [00:05<00:03,  1.86s/it]"
     ]
    },
    {
     "name": "stdout",
     "output_type": "stream",
     "text": [
      "[2, 1, 0, 3, 4, 5, 6]\n",
      "2023-08-20 00:47:25.680667\n",
      "Backend topology: 2023-08-20 00:47:25.680667\n",
      "<qiskit.providers.models.backendproperties.BackendProperties object at 0x7fa57f5a0a90>\n",
      "Depth: [6, 6, 6, 6, 6, 6]\n",
      "na\n",
      "[2, 1, 0, 3, 4, 5, 6] [2, 1, 0, 3, 4, 5, 6] [0, 1, 2, 3, 4, 5, 6]\n",
      "[6, 1, 4, 3, 4, 5, 6]\n"
     ]
    },
    {
     "name": "stderr",
     "output_type": "stream",
     "text": [
      "\n",
      "100%|████████████████████████████████████████████████████████████████████████████████████████████████████████████| 1/1 [00:00<00:00, 177.16it/s]\u001b[A\n",
      " 80%|███████████████████████████████████████████████████████████████████████████████████████▏                     | 4/5 [00:09<00:02,  2.43s/it]"
     ]
    },
    {
     "name": "stdout",
     "output_type": "stream",
     "text": [
      "[2, 1, 0, 3, 4, 5, 6]\n",
      "2023-09-20 00:47:28.997476\n",
      "Backend topology: 2023-09-20 00:47:28.997476\n",
      "<qiskit.providers.models.backendproperties.BackendProperties object at 0x7fa57f86bb50>\n",
      "Depth: [6, 6, 6, 6, 6, 6]\n",
      "na\n",
      "[2, 1, 0, 3, 4, 5, 6] [2, 1, 0, 3, 4, 5, 6] [0, 1, 2, 3, 4, 5, 6]\n",
      "[6, 1, 4, 3, 4, 5, 6]\n"
     ]
    },
    {
     "name": "stderr",
     "output_type": "stream",
     "text": [
      "\n",
      "100%|████████████████████████████████████████████████████████████████████████████████████████████████████████████| 1/1 [00:00<00:00, 245.70it/s]\u001b[A\n",
      "100%|█████████████████████████████████████████████████████████████████████████████████████████████████████████████| 5/5 [00:10<00:00,  2.15s/it]"
     ]
    },
    {
     "name": "stdout",
     "output_type": "stream",
     "text": [
      "[2, 1, 0, 3, 4, 5, 6]\n",
      "DNN accuracy without repair operator: 0.0\n",
      "DNN accuracy with repair operator: 0.0\n",
      "MLP accuracy: 0.0\n",
      "MLP with edge features accuracy: 0.0\n"
     ]
    },
    {
     "name": "stderr",
     "output_type": "stream",
     "text": [
      "\n"
     ]
    }
   ],
   "source": [
    "SS = StandardScaler()\n",
    "num_qubits = 7\n",
    "count_or = 0\n",
    "count_nr = 0\n",
    "count_mlp = 0\n",
    "count_mlp_edge = 0\n",
    "for qc_i in tqdm(range(len(test_dataset[:5]))):\n",
    "    qc = test_dataset[qc_i]\n",
    "    data = datetime.today() - timedelta(days=random.randint(1,150))\n",
    "    backends = ['ibm_lagos','ibm_perth','ibm_nairobi']\n",
    "    backend = backends[np.random.randint(0,3)]\n",
    "    l = add_line(qc,backend, optimization_level=3, refresh=True, show= False, datatime=data)\n",
    "    \n",
    "    d={}\n",
    "    for i in range(len(l[0])):\n",
    "        d[str(l[0][i])] = l[1][i]\n",
    "    df = pd.DataFrame(d, index=[0])\n",
    "    df = clear_dataset(df, 7)\n",
    "    last_num_qubits = len(df.columns)-num_qubits\n",
    "\n",
    "    x = SS.fit_transform(df.iloc[:, 2:last_num_qubits].values)\n",
    "    labels = ((df.iloc[:, last_num_qubits:].values)[0]).tolist()\n",
    "    \n",
    "    predicted = dnn.predict(x)\n",
    "    \n",
    "    pred_or = np.array(pred_layout(predicted, num_qubits))[0].tolist()\n",
    "    pred_nr = np.array(pred_layout_diff_elem(predicted,num_qubits))[0].tolist()\n",
    "    print(pred_or, pred_nr, labels)\n",
    "    if(pred_or == labels):\n",
    "        count_or = count_or + 1\n",
    "    if(pred_nr == labels):\n",
    "        count_nr = count_nr + 1\n",
    "    \n",
    "    mlp_pred = get_labels(np.reshape(mlp.predict(x),(7,7)))\n",
    "    print(mlp_pred)\n",
    "    if mlp_pred == labels:\n",
    "        count_mlp = count_mlp + 1\n",
    "        \n",
    "        \n",
    "    x = SS.fit_transform(get_graph_features(df))\n",
    "    mlp_edges_pred = get_labels(np.reshape(mlp_edge_feature.predict(x),(7,7)))\n",
    "    print(mlp_edges_pred)\n",
    "    if mlp_edges_pred == labels:\n",
    "        count_mlp_edge = count_mlp_edge + 1\n",
    "        \n",
    "print(\"DNN accuracy without repair operator:\", count_or/len(test_dataset))\n",
    "print(\"DNN accuracy with repair operator:\", count_nr/len(test_dataset))\n",
    "print(\"MLP accuracy:\", count_mlp/len(test_dataset))\n",
    "print(\"MLP with edge features accuracy:\", count_mlp_edge/len(test_dataset))"
   ]
  },
  {
   "cell_type": "code",
   "execution_count": null,
   "id": "12356080",
   "metadata": {},
   "outputs": [],
   "source": []
  },
  {
   "cell_type": "code",
   "execution_count": null,
   "id": "040e7712",
   "metadata": {},
   "outputs": [],
   "source": []
  },
  {
   "cell_type": "code",
   "execution_count": null,
   "id": "59dbb66a",
   "metadata": {},
   "outputs": [],
   "source": []
  },
  {
   "cell_type": "code",
   "execution_count": null,
   "id": "420c79a4",
   "metadata": {},
   "outputs": [],
   "source": []
  },
  {
   "cell_type": "code",
   "execution_count": null,
   "id": "4e37e5c5",
   "metadata": {},
   "outputs": [],
   "source": []
  },
  {
   "cell_type": "code",
   "execution_count": null,
   "id": "a5c74d49",
   "metadata": {},
   "outputs": [],
   "source": []
  },
  {
   "cell_type": "code",
   "execution_count": null,
   "id": "3bd904c0",
   "metadata": {},
   "outputs": [],
   "source": []
  },
  {
   "cell_type": "code",
   "execution_count": null,
   "id": "acb38fb1",
   "metadata": {},
   "outputs": [],
   "source": []
  }
 ],
 "metadata": {
  "kernelspec": {
   "display_name": "Python [conda env:dnn_for_qubit_mapping]",
   "language": "python",
   "name": "conda-env-dnn_for_qubit_mapping-py"
  },
  "language_info": {
   "codemirror_mode": {
    "name": "ipython",
    "version": 3
   },
   "file_extension": ".py",
   "mimetype": "text/x-python",
   "name": "python",
   "nbconvert_exporter": "python",
   "pygments_lexer": "ipython3",
   "version": "3.8.18"
  }
 },
 "nbformat": 4,
 "nbformat_minor": 5
}
