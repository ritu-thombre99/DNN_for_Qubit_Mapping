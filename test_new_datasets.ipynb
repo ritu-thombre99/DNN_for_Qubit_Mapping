{
 "cells": [
  {
   "cell_type": "code",
   "execution_count": 1,
   "id": "975d5b27",
   "metadata": {},
   "outputs": [],
   "source": [
    "# pip install qiskit==0.31.0"
   ]
  },
  {
   "cell_type": "code",
   "execution_count": 2,
   "id": "7fe40edc",
   "metadata": {},
   "outputs": [
    {
     "name": "stderr",
     "output_type": "stream",
     "text": [
      "/home/ritu/anaconda3/envs/dnn_for_qubit_mapping/lib/python3.8/site-packages/qiskit/version.py:20: DeprecationWarning: pkg_resources is deprecated as an API. See https://setuptools.pypa.io/en/latest/pkg_resources.html\n",
      "  import pkg_resources\n"
     ]
    },
    {
     "name": "stdout",
     "output_type": "stream",
     "text": [
      "Generating QPE circuits\n"
     ]
    }
   ],
   "source": [
    "from get_test_datasets import return_dataset\n",
    "test_dataset = return_dataset()"
   ]
  },
  {
   "cell_type": "code",
   "execution_count": 3,
   "id": "07b19af1",
   "metadata": {},
   "outputs": [
    {
     "data": {
      "text/plain": [
       "400"
      ]
     },
     "execution_count": 3,
     "metadata": {},
     "output_type": "execute_result"
    }
   ],
   "source": [
    "len(test_dataset)"
   ]
  },
  {
   "cell_type": "code",
   "execution_count": 4,
   "id": "75c6fc50",
   "metadata": {},
   "outputs": [
    {
     "name": "stderr",
     "output_type": "stream",
     "text": [
      "Using TensorFlow backend.\n",
      "ibmqfactory.load_account:WARNING:2023-11-27 11:00:18,393: Credentials are already in use. The existing account in the session will be replaced.\n"
     ]
    },
    {
     "name": "stdout",
     "output_type": "stream",
     "text": [
      "{'ibm_lagos': [[0, 1], [1, 0], [1, 2], [1, 3], [2, 1], [3, 1], [3, 5], [4, 5], [5, 3], [5, 4], [5, 6], [6, 5]], 'ibm_nairobi': [[0, 1], [1, 0], [1, 2], [1, 3], [2, 1], [3, 1], [3, 5], [4, 5], [5, 3], [5, 4], [5, 6], [6, 5]], 'ibm_perth': [[0, 1], [1, 0], [1, 2], [1, 3], [2, 1], [3, 1], [3, 5], [4, 5], [5, 3], [5, 4], [5, 6], [6, 5]]}\n"
     ]
    }
   ],
   "source": [
    "import tensorflow as tf\n",
    "from tensorflow import keras\n",
    "\n",
    "from sklearn.preprocessing import StandardScaler, MinMaxScaler\n",
    "from helper import *"
   ]
  },
  {
   "cell_type": "code",
   "execution_count": 5,
   "id": "c6b20b7c",
   "metadata": {},
   "outputs": [
    {
     "name": "stderr",
     "output_type": "stream",
     "text": [
      "2023-11-27 11:00:21.664828: I tensorflow/stream_executor/platform/default/dso_loader.cc:44] Successfully opened dynamic library libcuda.so.1\n",
      "2023-11-27 11:00:21.710942: I tensorflow/stream_executor/cuda/cuda_gpu_executor.cc:981] successful NUMA node read from SysFS had negative value (-1), but there must be at least one NUMA node, so returning NUMA node zero\n",
      "2023-11-27 11:00:21.711287: I tensorflow/core/common_runtime/gpu/gpu_device.cc:1561] Found device 0 with properties: \n",
      "pciBusID: 0000:01:00.0 name: NVIDIA GeForce RTX 4090 computeCapability: 8.9\n",
      "coreClock: 2.595GHz coreCount: 128 deviceMemorySize: 23.64GiB deviceMemoryBandwidth: 938.86GiB/s\n",
      "2023-11-27 11:00:21.711621: W tensorflow/stream_executor/platform/default/dso_loader.cc:55] Could not load dynamic library 'libcudart.so.10.1'; dlerror: libcudart.so.10.1: cannot open shared object file: No such file or directory\n",
      "2023-11-27 11:00:21.711752: W tensorflow/stream_executor/platform/default/dso_loader.cc:55] Could not load dynamic library 'libcublas.so.10'; dlerror: libcublas.so.10: cannot open shared object file: No such file or directory\n",
      "2023-11-27 11:00:21.711860: W tensorflow/stream_executor/platform/default/dso_loader.cc:55] Could not load dynamic library 'libcufft.so.10'; dlerror: libcufft.so.10: cannot open shared object file: No such file or directory\n",
      "2023-11-27 11:00:21.711965: W tensorflow/stream_executor/platform/default/dso_loader.cc:55] Could not load dynamic library 'libcurand.so.10'; dlerror: libcurand.so.10: cannot open shared object file: No such file or directory\n",
      "2023-11-27 11:00:21.712070: W tensorflow/stream_executor/platform/default/dso_loader.cc:55] Could not load dynamic library 'libcusolver.so.10'; dlerror: libcusolver.so.10: cannot open shared object file: No such file or directory\n",
      "2023-11-27 11:00:21.712175: W tensorflow/stream_executor/platform/default/dso_loader.cc:55] Could not load dynamic library 'libcusparse.so.10'; dlerror: libcusparse.so.10: cannot open shared object file: No such file or directory\n",
      "2023-11-27 11:00:21.712283: W tensorflow/stream_executor/platform/default/dso_loader.cc:55] Could not load dynamic library 'libcudnn.so.7'; dlerror: libcudnn.so.7: cannot open shared object file: No such file or directory\n",
      "2023-11-27 11:00:21.712297: W tensorflow/core/common_runtime/gpu/gpu_device.cc:1598] Cannot dlopen some GPU libraries. Please make sure the missing libraries mentioned above are installed properly if you would like to use GPU. Follow the guide at https://www.tensorflow.org/install/gpu for how to download and setup the required libraries for your platform.\n",
      "Skipping registering GPU devices...\n",
      "2023-11-27 11:00:21.714235: I tensorflow/core/platform/cpu_feature_guard.cc:143] Your CPU supports instructions that this TensorFlow binary was not compiled to use: AVX2 FMA\n",
      "2023-11-27 11:00:21.728537: I tensorflow/core/platform/profile_utils/cpu_utils.cc:102] CPU Frequency: 3609600000 Hz\n",
      "2023-11-27 11:00:21.730455: I tensorflow/compiler/xla/service/service.cc:168] XLA service 0x7f520c000b70 initialized for platform Host (this does not guarantee that XLA will be used). Devices:\n",
      "2023-11-27 11:00:21.730487: I tensorflow/compiler/xla/service/service.cc:176]   StreamExecutor device (0): Host, Default Version\n",
      "2023-11-27 11:00:21.732163: I tensorflow/core/common_runtime/gpu/gpu_device.cc:1102] Device interconnect StreamExecutor with strength 1 edge matrix:\n",
      "2023-11-27 11:00:21.732173: I tensorflow/core/common_runtime/gpu/gpu_device.cc:1108]      \n"
     ]
    }
   ],
   "source": [
    "mlp_edge_feature = tf.keras.models.load_model(\"models/mlp_edge_features.keras\")\n",
    "dnn = tf.keras.models.load_model(\"models/dnn.keras\")\n",
    "mlp = tf.keras.models.load_model(\"models/mlp.keras\")"
   ]
  },
  {
   "cell_type": "code",
   "execution_count": 6,
   "id": "5ce11605",
   "metadata": {},
   "outputs": [],
   "source": [
    "basis_gate_dict = {}\n",
    "provider = IBMQ.get_provider(hub='ibm-q')\n",
    "provider.backends(simulator=False)\n",
    "backends = ['ibm_lagos','ibm_perth','ibm_nairobi']\n",
    "for backend_name in backends:\n",
    "    backend = provider.get_backend(backend_name)\n",
    "    basis_gats = backend.configuration().basis_gates\n",
    "    basis_gate_dict[backend_name] = basis_gats\n"
   ]
  },
  {
   "cell_type": "code",
   "execution_count": 7,
   "id": "582c8840",
   "metadata": {},
   "outputs": [],
   "source": [
    "def get_transpiled_circ_results(qc, backend, initial_layout):\n",
    "    basis_gats = basis_gate_dict[backend]\n",
    "    pass_ = Unroller(basis_gats)\n",
    "    pm = PassManager(pass_)\n",
    "    backend = provider.get_backend(backend)\n",
    "    \n",
    "    tqc = transpile(qc, backend=backend,initial_layout=initial_layout, optimization_level=0,seed_transpiler=13)\n",
    "    tqc = pm.run(tqc)\n",
    "    gates = dict(tqc.count_ops())\n",
    "    return gates['cx'], tqc.depth()\n"
   ]
  },
  {
   "cell_type": "code",
   "execution_count": null,
   "id": "4d99880d",
   "metadata": {},
   "outputs": [],
   "source": []
  },
  {
   "cell_type": "code",
   "execution_count": 19,
   "id": "ee8dcb7a",
   "metadata": {
    "scrolled": true
   },
   "outputs": [
    {
     "name": "stderr",
     "output_type": "stream",
     "text": [
      "\r",
      "  0%|                                                                                                                                                            | 0/5 [00:00<?, ?it/s]"
     ]
    },
    {
     "name": "stdout",
     "output_type": "stream",
     "text": [
      "2023-06-30 11:22:39.558970\n",
      "Backend topology: 2023-06-30 11:22:39.558970\n",
      "<qiskit.providers.models.backendproperties.BackendProperties object at 0x7f5294117c10>\n",
      "Depth: [84, 84, 78, 78, 78, 78]\n",
      "not na\n",
      "[2, 1, 0, 3, 4, 5, 6] [2, 1, 0, 3, 4, 5, 6] [0, 1, 2, 3, 4, 5, 6]\n",
      "[6, 1, 4, 3, 4, 5, 6]\n"
     ]
    },
    {
     "name": "stderr",
     "output_type": "stream",
     "text": [
      "\n",
      "100%|███████████████████████████████████████████████████████████████████████████████████████████████████████████████████████████████████████████████████| 1/1 [00:00<00:00, 500.69it/s]\u001b[A\n",
      " 20%|█████████████████████████████▌                                                                                                                      | 1/5 [00:02<00:10,  2.59s/it]"
     ]
    },
    {
     "name": "stdout",
     "output_type": "stream",
     "text": [
      "[2, 1, 0, 3, 4, 5, 6]\n",
      "60 32\n",
      "2023-08-20 11:22:42.150935\n",
      "Backend topology: 2023-08-20 11:22:42.150935\n",
      "<qiskit.providers.models.backendproperties.BackendProperties object at 0x7f52940758e0>\n",
      "Depth: [206, 206, 86, 86, 86, 86]\n",
      "not na\n",
      "[2, 1, 0, 3, 4, 5, 6] [2, 1, 0, 3, 4, 5, 6] [0, 1, 2, 3, 4, 5, 6]\n",
      "[6, 1, 4, 3, 4, 5, 6]\n"
     ]
    },
    {
     "name": "stderr",
     "output_type": "stream",
     "text": [
      "\n",
      "100%|███████████████████████████████████████████████████████████████████████████████████████████████████████████████████████████████████████████████████| 1/1 [00:00<00:00, 506.01it/s]\u001b[A\n",
      " 40%|███████████████████████████████████████████████████████████▏                                                                                        | 2/5 [00:04<00:07,  2.40s/it]"
     ]
    },
    {
     "name": "stdout",
     "output_type": "stream",
     "text": [
      "[2, 1, 0, 3, 4, 5, 6]\n",
      "59 44\n",
      "2023-08-30 11:22:44.418665\n",
      "Backend topology: 2023-08-30 11:22:44.418665\n",
      "<qiskit.providers.models.backendproperties.BackendProperties object at 0x7f5295593ac0>\n",
      "Depth: [144, 144, 82, 82, 82, 82]\n",
      "not na\n",
      "[2, 1, 0, 3, 4, 5, 6] [2, 1, 0, 3, 4, 5, 6] [0, 1, 2, 3, 4, 5, 6]\n",
      "[6, 1, 4, 3, 4, 5, 6]\n"
     ]
    },
    {
     "name": "stderr",
     "output_type": "stream",
     "text": [
      "\n",
      "100%|███████████████████████████████████████████████████████████████████████████████████████████████████████████████████████████████████████████████████| 1/1 [00:00<00:00, 595.27it/s]\u001b[A\n",
      " 60%|████████████████████████████████████████████████████████████████████████████████████████▊                                                           | 3/5 [00:06<00:04,  2.22s/it]"
     ]
    },
    {
     "name": "stdout",
     "output_type": "stream",
     "text": [
      "[2, 1, 0, 3, 4, 5, 6]\n",
      "57 38\n",
      "2023-10-28 11:22:46.429198\n",
      "Backend topology: 2023-10-28 11:22:46.429198\n",
      "<qiskit.providers.models.backendproperties.BackendProperties object at 0x7f5295d0eaf0>\n",
      "Depth: [72, 72, 80, 80, 102, 102]\n",
      "na\n",
      "[2, 1, 0, 3, 4, 5, 6] [2, 1, 0, 3, 4, 5, 6] [4, 3, 5, 6, 0, 1, 2]\n",
      "[6, 1, 4, 3, 4, 5, 6]\n"
     ]
    },
    {
     "name": "stderr",
     "output_type": "stream",
     "text": [
      "\n",
      "100%|███████████████████████████████████████████████████████████████████████████████████████████████████████████████████████████████████████████████████| 1/1 [00:00<00:00, 561.19it/s]\u001b[A\n",
      " 80%|██████████████████████████████████████████████████████████████████████████████████████████████████████████████████████▍                             | 4/5 [00:08<00:02,  2.06s/it]"
     ]
    },
    {
     "name": "stdout",
     "output_type": "stream",
     "text": [
      "[2, 1, 0, 3, 4, 5, 6]\n",
      "66 44\n",
      "2023-09-26 11:22:48.232514\n",
      "Backend topology: 2023-09-26 11:22:48.232514\n",
      "<qiskit.providers.models.backendproperties.BackendProperties object at 0x7f52939ccee0>\n",
      "Depth: [86, 86, 88, 88, 98, 98]\n",
      "na\n",
      "[2, 1, 0, 3, 4, 5, 6] [2, 1, 0, 3, 4, 5, 6] [4, 5, 6, 3, 2, 1, 0]\n",
      "[6, 1, 4, 3, 4, 5, 6]\n"
     ]
    },
    {
     "name": "stderr",
     "output_type": "stream",
     "text": [
      "\n",
      "100%|███████████████████████████████████████████████████████████████████████████████████████████████████████████████████████████████████████████████████| 1/1 [00:00<00:00, 540.36it/s]\u001b[A\n",
      "100%|████████████████████████████████████████████████████████████████████████████████████████████████████████████████████████████████████████████████████| 5/5 [00:10<00:00,  2.08s/it]"
     ]
    },
    {
     "name": "stdout",
     "output_type": "stream",
     "text": [
      "[2, 1, 0, 3, 4, 5, 6]\n",
      "56 29\n",
      "DNN accuracy without repair operator: 0.0\n",
      "DNN accuracy with repair operator: 0.0\n",
      "MLP accuracy: 0.0\n",
      "MLP with edge features accuracy: 0.0\n"
     ]
    },
    {
     "name": "stderr",
     "output_type": "stream",
     "text": [
      "\n"
     ]
    }
   ],
   "source": [
    "SS = StandardScaler()\n",
    "num_qubits = 7\n",
    "count_or = 0\n",
    "count_nr = 0\n",
    "count_mlp = 0\n",
    "count_mlp_edge = 0\n",
    "original_depth, original_CNOT = [],[]\n",
    "mlp_edge_depth, mlp_edge_CNOT = [],[]\n",
    "dnn_without_ro_depth,dnn_without_ro_CNOT = [],[] \n",
    "dnn_with_ro_depth,dnn_with_ro_CNOT = [],[] \n",
    "mlp_depth, mlp_CNOT = [],[]\n",
    "\n",
    "dnn_time = []\n",
    "mlp_time = []\n",
    "mlp_edge_time = []\n",
    "sabre_time,na_time,dense_time = [],[],[]\n",
    "for qc_i in tqdm(range(len(test_dataset[-5:]))):\n",
    "    qc = test_dataset[qc_i]\n",
    "    data = datetime.today() - timedelta(days=random.randint(1,150))\n",
    "    backends = ['ibm_lagos','ibm_perth','ibm_nairobi']\n",
    "    backend = backends[np.random.randint(0,3)]\n",
    "    l = add_line(qc,backend, optimization_level=3, refresh=True, show= False, datatime=data)\n",
    "    \n",
    "    d={}\n",
    "    for i in range(len(l[0])):\n",
    "        d[str(l[0][i])] = l[1][i]\n",
    "    df = pd.DataFrame(d, index=[0])\n",
    "    df = clear_dataset(df, 7)\n",
    "    last_num_qubits = len(df.columns)-num_qubits\n",
    "    labels = ((df.iloc[:, last_num_qubits:].values)[0]).tolist()\n",
    "    \n",
    "#     time_taken_to_get_df = get_df_time(qc,backend,data)\n",
    "#     print(\"Preprocess time:\",time_taken_to_get_df)\n",
    "    time_taken_to_get_df = 0\n",
    "    \n",
    "    start = time.time()\n",
    "    x = SS.fit_transform(df.iloc[:, 2:last_num_qubits].values)\n",
    "    predicted = dnn.predict(x)\n",
    "    pred_or = np.array(pred_layout(predicted, num_qubits))[0].tolist()\n",
    "    pred_nr = np.array(pred_layout_diff_elem(predicted,num_qubits))[0].tolist()\n",
    "    end = time.time()\n",
    "    dnn_time.append(time_taken_to_get_df + (end-start))\n",
    "    \n",
    "    print(pred_or, pred_nr, labels)\n",
    "    if(pred_or == labels):\n",
    "        count_or = count_or + 1\n",
    "    if(pred_nr == labels):\n",
    "        count_nr = count_nr + 1\n",
    "    \n",
    "    start = time.time()\n",
    "    mlp_pred = get_labels(np.reshape(mlp.predict(x),(7,7)))\n",
    "    end = time.time()\n",
    "    mlp_time.append(time_taken_to_get_df + (end-start))\n",
    "    print(mlp_pred)\n",
    "    if mlp_pred == labels:\n",
    "        count_mlp = count_mlp + 1\n",
    "        \n",
    "    start = time.time()\n",
    "    x = SS.fit_transform(get_graph_features(df))\n",
    "    mlp_edges_pred = get_labels(np.reshape(mlp_edge_feature.predict(x),(7,7)))\n",
    "    end = time.time()\n",
    "    mlp_edge_time.append(time_taken_to_get_df + (end-start))\n",
    "    print(mlp_edges_pred)\n",
    "    if mlp_edges_pred == labels:\n",
    "        count_mlp_edge = count_mlp_edge + 1\n",
    "    \n",
    "    \n",
    "    # original circuit after unrolling\n",
    "    cx, depth = get_transpiled_circ_results(qc, backend, initial_layout=labels)\n",
    "    original_depth.append(depth)\n",
    "    original_CNOT.append(cx)\n",
    "    print(original_depth[-1],original_CNOT[-1])\n",
    "    # NN with edge features\n",
    "    if len(mlp_edges_pred) == len(set(mlp_edges_pred)):\n",
    "        cx, depth = get_transpiled_circ_results(qc, backend, initial_layout=mlp_edges_pred)\n",
    "        mlp_edge_depth.append(depth)\n",
    "        mlp_edge_CNOT.append(cx)\n",
    "    else:\n",
    "        mlp_edge_depth.append(float('NaN'))\n",
    "        mlp_edge_CNOT.append(float('NaN'))\n",
    "        \n",
    "    # NN without edge features\n",
    "    if len(mlp_pred) == len(set(mlp_pred)):\n",
    "        cx, depth = get_transpiled_circ_results(qc, backend, initial_layout=mlp_pred)\n",
    "        mlp_depth.append(depth)\n",
    "        mlp_CNOT.append(cx)\n",
    "    else:\n",
    "        mlp_depth.append(float('NaN'))\n",
    "        mlp_CNOT.append(float('NaN'))\n",
    "        \n",
    "    # DNN without repair operator\n",
    "    if len(pred_or) == len(set(pred_or)):\n",
    "        cx, depth = get_transpiled_circ_results(qc, backend, initial_layout=pred_or)\n",
    "        dnn_without_ro_depth.append(depth)\n",
    "        dnn_without_ro_CNOT.append(cx)\n",
    "    else:\n",
    "        dnn_without_ro_depth.append(float(\"NaN\"))\n",
    "        dnn_without_ro_CNOT.append(float(\"NaN\"))\n",
    "        \n",
    "    # DNN with RO\n",
    "    cx, depth = get_transpiled_circ_results(qc, backend, initial_layout=pred_nr)\n",
    "    dnn_with_ro_depth.append(depth)\n",
    "    dnn_with_ro_CNOT.append(cx)\n",
    "    \n",
    "#     # execution times\n",
    "    basis_gats = basis_gate_dict[backend]\n",
    "    pass_ = Unroller(basis_gats)\n",
    "    pm = PassManager(pass_)\n",
    "    backend = provider.get_backend(backend)\n",
    "    tqc = transpile(qc, backend=backend, optimization_level=0)\n",
    "    tqc = pm.run(tqc)\n",
    "    # noise adaptive time\n",
    "    start = time.time()\n",
    "    new_circ_lv3_na = transpile(tqc, backend=backend, optimization_level=0,layout_method='noise_adaptive')\n",
    "    new_circ_lv3_na._layout.get_physical_bits()\n",
    "    end = time.time()\n",
    "    na_time.append(end-start)\n",
    "    # sabre time\n",
    "    start = time.time()\n",
    "    new_circ_lv3_sabre = transpile(tqc, backend=backend, optimization_level=0,layout_method='sabre',routing_method='sabre')\n",
    "    new_circ_lv3_sabre._layout.get_physical_bits()\n",
    "    end = time.time()\n",
    "    sabre_time.append(end-start)\n",
    "    # dense time\n",
    "    start = time.time()\n",
    "    new_circ_lv3_dense = transpile(tqc, backend=backend, optimization_level=0)\n",
    "    new_circ_lv3_dense._layout.get_physical_bits()\n",
    "    end = time.time()\n",
    "    dense_time.append(end-start)\n",
    "    \n",
    "\n",
    "print(\"DNN accuracy without repair operator:\", count_or/len(test_dataset))\n",
    "print(\"DNN accuracy with repair operator:\", count_nr/len(test_dataset))\n",
    "print(\"MLP accuracy:\", count_mlp/len(test_dataset))\n",
    "print(\"MLP with edge features accuracy:\", count_mlp_edge/len(test_dataset))"
   ]
  },
  {
   "cell_type": "code",
   "execution_count": 20,
   "id": "12356080",
   "metadata": {},
   "outputs": [],
   "source": [
    "df = pd.DataFrame()\n",
    "df[\"Label Depth\"] = original_depth\n",
    "df[\"Label CNOTs\"] = original_CNOT\n",
    "\n",
    "df[\"NN without edge features Depth\"] = mlp_depth\n",
    "df[\"NN without edge features CNOTs\"] = mlp_CNOT\n",
    "\n",
    "df[\"NN with edge features Depth\"] = mlp_edge_depth\n",
    "df[\"NN with edge features CNOTs\"] = mlp_edge_CNOT\n",
    "\n",
    "df[\"DNN without repair Depth\"] = dnn_without_ro_depth\n",
    "df[\"DNN without repair CNOTs\"] = dnn_without_ro_CNOT\n",
    "\n",
    "df[\"DNN with repair Depth\"] = dnn_with_ro_depth\n",
    "df[\"DNN with repair CNOTs\"] = dnn_with_ro_CNOT\n",
    "\n",
    "df[\"DNN Mapping time\"] = dnn_time\n",
    "df[\"NN without edge features Mapping time\"] = mlp_time\n",
    "df[\"NN with edge features Mapping time\"] = mlp_edge_time\n",
    "df[\"SABRE mapping Mapping time\"] = sabre_time\n",
    "df[\"Noise Adaptive Mapping time\"] = na_time\n",
    "df[\"Dense Mapping time\"] = dense_time"
   ]
  },
  {
   "cell_type": "code",
   "execution_count": 21,
   "id": "17b14eaa",
   "metadata": {},
   "outputs": [
    {
     "data": {
      "text/html": [
       "<div>\n",
       "<style scoped>\n",
       "    .dataframe tbody tr th:only-of-type {\n",
       "        vertical-align: middle;\n",
       "    }\n",
       "\n",
       "    .dataframe tbody tr th {\n",
       "        vertical-align: top;\n",
       "    }\n",
       "\n",
       "    .dataframe thead th {\n",
       "        text-align: right;\n",
       "    }\n",
       "</style>\n",
       "<table border=\"1\" class=\"dataframe\">\n",
       "  <thead>\n",
       "    <tr style=\"text-align: right;\">\n",
       "      <th></th>\n",
       "      <th>Label Depth</th>\n",
       "      <th>Label CNOTs</th>\n",
       "      <th>NN without edge features Depth</th>\n",
       "      <th>NN without edge features CNOTs</th>\n",
       "      <th>NN with edge features Depth</th>\n",
       "      <th>NN with edge features CNOTs</th>\n",
       "      <th>DNN without repair Depth</th>\n",
       "      <th>DNN without repair CNOTs</th>\n",
       "      <th>DNN with repair Depth</th>\n",
       "      <th>DNN with repair CNOTs</th>\n",
       "      <th>DNN Mapping time</th>\n",
       "      <th>NN without edge features Mapping time</th>\n",
       "      <th>NN with edge features Mapping time</th>\n",
       "      <th>SABRE mapping Mapping time</th>\n",
       "      <th>Noise Adaptive Mapping time</th>\n",
       "      <th>Dense Mapping time</th>\n",
       "    </tr>\n",
       "  </thead>\n",
       "  <tbody>\n",
       "    <tr>\n",
       "      <th>0</th>\n",
       "      <td>60</td>\n",
       "      <td>32</td>\n",
       "      <td>NaN</td>\n",
       "      <td>NaN</td>\n",
       "      <td>62</td>\n",
       "      <td>35</td>\n",
       "      <td>62</td>\n",
       "      <td>35</td>\n",
       "      <td>62</td>\n",
       "      <td>35</td>\n",
       "      <td>0.010940</td>\n",
       "      <td>0.008420</td>\n",
       "      <td>0.013839</td>\n",
       "      <td>0.011827</td>\n",
       "      <td>0.011510</td>\n",
       "      <td>0.002655</td>\n",
       "    </tr>\n",
       "    <tr>\n",
       "      <th>1</th>\n",
       "      <td>59</td>\n",
       "      <td>44</td>\n",
       "      <td>NaN</td>\n",
       "      <td>NaN</td>\n",
       "      <td>59</td>\n",
       "      <td>44</td>\n",
       "      <td>59</td>\n",
       "      <td>44</td>\n",
       "      <td>59</td>\n",
       "      <td>44</td>\n",
       "      <td>0.010616</td>\n",
       "      <td>0.008597</td>\n",
       "      <td>0.012853</td>\n",
       "      <td>0.014319</td>\n",
       "      <td>0.014587</td>\n",
       "      <td>0.002804</td>\n",
       "    </tr>\n",
       "    <tr>\n",
       "      <th>2</th>\n",
       "      <td>57</td>\n",
       "      <td>38</td>\n",
       "      <td>NaN</td>\n",
       "      <td>NaN</td>\n",
       "      <td>57</td>\n",
       "      <td>38</td>\n",
       "      <td>57</td>\n",
       "      <td>38</td>\n",
       "      <td>57</td>\n",
       "      <td>38</td>\n",
       "      <td>0.011061</td>\n",
       "      <td>0.008651</td>\n",
       "      <td>0.012619</td>\n",
       "      <td>0.009130</td>\n",
       "      <td>0.015255</td>\n",
       "      <td>0.002752</td>\n",
       "    </tr>\n",
       "    <tr>\n",
       "      <th>3</th>\n",
       "      <td>66</td>\n",
       "      <td>44</td>\n",
       "      <td>NaN</td>\n",
       "      <td>NaN</td>\n",
       "      <td>56</td>\n",
       "      <td>29</td>\n",
       "      <td>56</td>\n",
       "      <td>29</td>\n",
       "      <td>56</td>\n",
       "      <td>29</td>\n",
       "      <td>0.010974</td>\n",
       "      <td>0.008689</td>\n",
       "      <td>0.013744</td>\n",
       "      <td>0.012737</td>\n",
       "      <td>0.011660</td>\n",
       "      <td>0.002606</td>\n",
       "    </tr>\n",
       "    <tr>\n",
       "      <th>4</th>\n",
       "      <td>56</td>\n",
       "      <td>29</td>\n",
       "      <td>NaN</td>\n",
       "      <td>NaN</td>\n",
       "      <td>62</td>\n",
       "      <td>35</td>\n",
       "      <td>62</td>\n",
       "      <td>35</td>\n",
       "      <td>62</td>\n",
       "      <td>35</td>\n",
       "      <td>0.010890</td>\n",
       "      <td>0.008564</td>\n",
       "      <td>0.013134</td>\n",
       "      <td>0.008358</td>\n",
       "      <td>0.002935</td>\n",
       "      <td>0.002746</td>\n",
       "    </tr>\n",
       "  </tbody>\n",
       "</table>\n",
       "</div>"
      ],
      "text/plain": [
       "   Label Depth  Label CNOTs  NN without edge features Depth  \\\n",
       "0           60           32                             NaN   \n",
       "1           59           44                             NaN   \n",
       "2           57           38                             NaN   \n",
       "3           66           44                             NaN   \n",
       "4           56           29                             NaN   \n",
       "\n",
       "   NN without edge features CNOTs  NN with edge features Depth  \\\n",
       "0                             NaN                           62   \n",
       "1                             NaN                           59   \n",
       "2                             NaN                           57   \n",
       "3                             NaN                           56   \n",
       "4                             NaN                           62   \n",
       "\n",
       "   NN with edge features CNOTs  DNN without repair Depth  \\\n",
       "0                           35                        62   \n",
       "1                           44                        59   \n",
       "2                           38                        57   \n",
       "3                           29                        56   \n",
       "4                           35                        62   \n",
       "\n",
       "   DNN without repair CNOTs  DNN with repair Depth  DNN with repair CNOTs  \\\n",
       "0                        35                     62                     35   \n",
       "1                        44                     59                     44   \n",
       "2                        38                     57                     38   \n",
       "3                        29                     56                     29   \n",
       "4                        35                     62                     35   \n",
       "\n",
       "   DNN Mapping time  NN without edge features Mapping time  \\\n",
       "0          0.010940                               0.008420   \n",
       "1          0.010616                               0.008597   \n",
       "2          0.011061                               0.008651   \n",
       "3          0.010974                               0.008689   \n",
       "4          0.010890                               0.008564   \n",
       "\n",
       "   NN with edge features Mapping time  SABRE mapping Mapping time  \\\n",
       "0                            0.013839                    0.011827   \n",
       "1                            0.012853                    0.014319   \n",
       "2                            0.012619                    0.009130   \n",
       "3                            0.013744                    0.012737   \n",
       "4                            0.013134                    0.008358   \n",
       "\n",
       "   Noise Adaptive Mapping time  Dense Mapping time  \n",
       "0                     0.011510            0.002655  \n",
       "1                     0.014587            0.002804  \n",
       "2                     0.015255            0.002752  \n",
       "3                     0.011660            0.002606  \n",
       "4                     0.002935            0.002746  "
      ]
     },
     "execution_count": 21,
     "metadata": {},
     "output_type": "execute_result"
    }
   ],
   "source": [
    "df"
   ]
  },
  {
   "cell_type": "code",
   "execution_count": null,
   "id": "ed84c056",
   "metadata": {},
   "outputs": [],
   "source": []
  },
  {
   "cell_type": "code",
   "execution_count": null,
   "id": "1cebcb0a",
   "metadata": {},
   "outputs": [],
   "source": []
  },
  {
   "cell_type": "code",
   "execution_count": null,
   "id": "c18eb0b2",
   "metadata": {},
   "outputs": [],
   "source": [
    "import itertools\n",
    "layouts = list(itertools.permutations([0,1,2,3,4,5,6]))\n",
    "qc = test_dataset[-8]\n",
    "basis_gats = basis_gate_dict['ibm_nairobi']\n",
    "pass_ = Unroller(basis_gats)\n",
    "pm = PassManager(pass_)\n",
    "backend = provider.get_backend('ibm_nairobi')\n",
    "for l in layouts[:20]:\n",
    "    tqc = transpile(qc, backend=backend,initial_layout=list(l), optimization_level=0)\n",
    "    tqc = pm.run(tqc)\n",
    "    \n",
    "    print(l,tqc.depth(),dict(tqc.count_ops())['cx'])"
   ]
  },
  {
   "cell_type": "code",
   "execution_count": null,
   "id": "7f4ca1f2",
   "metadata": {},
   "outputs": [],
   "source": []
  },
  {
   "cell_type": "code",
   "execution_count": null,
   "id": "def77bc3",
   "metadata": {},
   "outputs": [],
   "source": []
  },
  {
   "cell_type": "code",
   "execution_count": null,
   "id": "ec4426f1",
   "metadata": {},
   "outputs": [],
   "source": []
  },
  {
   "cell_type": "code",
   "execution_count": null,
   "id": "84cbbfa9",
   "metadata": {},
   "outputs": [],
   "source": []
  },
  {
   "cell_type": "code",
   "execution_count": null,
   "id": "8bd41e2e",
   "metadata": {},
   "outputs": [],
   "source": []
  },
  {
   "cell_type": "code",
   "execution_count": null,
   "id": "bd225fa9",
   "metadata": {},
   "outputs": [],
   "source": []
  },
  {
   "cell_type": "code",
   "execution_count": null,
   "id": "a4883433",
   "metadata": {},
   "outputs": [],
   "source": []
  },
  {
   "cell_type": "code",
   "execution_count": null,
   "id": "3253b68f",
   "metadata": {},
   "outputs": [],
   "source": []
  },
  {
   "cell_type": "code",
   "execution_count": 57,
   "id": "11433816",
   "metadata": {},
   "outputs": [],
   "source": [
    "# def get_df(circuit,backend_name,datatime,show=False,refresh=True):\n",
    "#     provider = IBMQ.get_provider(hub='ibm-q')\n",
    "#     provider.backends(simulator=False)\n",
    "#     backend = provider.get_backend(backend_name)\n",
    "#     basis_gats = backend.configuration().basis_gates\n",
    "#     # print(basis_gats)\n",
    "#     pass_ = Unroller(basis_gats)\n",
    "#     pm = PassManager(pass_)\n",
    "\n",
    "#     # new_circ = pm.run(circuit)\n",
    "#     # need to transpile before passing to run\n",
    "#     new_circ = transpile(circuit, backend=backend, optimization_level=0)\n",
    "#     new_circ = pm.run(new_circ)\n",
    "    \n",
    "#     size_backend = len(backend.properties(refresh=refresh).to_dict()['qubits'])\n",
    "#     CA = circuit_analysis(backend, circuit, size_backend=size_backend, show=show)\n",
    "#     BT = Backend_Topology(backend_name, refresh, show, datatime=datatime)\n",
    "#     QP = Qubit_properties(backend_name, refresh, datatime=datatime)\n",
    "    \n",
    "#     Title_names =['last_update_date', 'backend_name'] + list(CA.keys())[:3] + list(CA['cx'].keys()) + list(CA['measure'].keys()) + list(BT['coupling'].keys())\n",
    "#     for i in range(size_backend):\n",
    "#         for title in list(QP.keys())[2:]:\n",
    "#             Title_names.append(title+'_'+str(i))\n",
    "\n",
    "#     date_name = [BT['last_update_date'], BT['backend_name']]\n",
    "#     Values = date_name + list(CA.values())[:3] + list(CA['cx'].values()) + list(CA['measure'].values()) + list(BT['coupling'].values())\n",
    "#     for i in range(size_backend):\n",
    "#         for value in list(QP.keys())[2:]:\n",
    "#             Values.append(QP[value][i])\n",
    "#     return [Title_names,Values]"
   ]
  },
  {
   "cell_type": "code",
   "execution_count": 58,
   "id": "1122cb29",
   "metadata": {},
   "outputs": [],
   "source": [
    "# qc = test_dataset[-5]"
   ]
  },
  {
   "cell_type": "code",
   "execution_count": 59,
   "id": "172822df",
   "metadata": {},
   "outputs": [],
   "source": [
    "# l=get_df(qc,'ibm_nairobi',datetime.today(),show=False)"
   ]
  },
  {
   "cell_type": "code",
   "execution_count": 60,
   "id": "e8d88b00",
   "metadata": {},
   "outputs": [],
   "source": [
    "# l"
   ]
  },
  {
   "cell_type": "code",
   "execution_count": null,
   "id": "d759bf4e",
   "metadata": {},
   "outputs": [],
   "source": []
  },
  {
   "cell_type": "code",
   "execution_count": 61,
   "id": "8a113916",
   "metadata": {},
   "outputs": [],
   "source": [
    "# len(l[0]), len(l[1])"
   ]
  },
  {
   "cell_type": "code",
   "execution_count": 62,
   "id": "d8b4e651",
   "metadata": {},
   "outputs": [],
   "source": [
    "\n",
    "# df"
   ]
  },
  {
   "cell_type": "code",
   "execution_count": null,
   "id": "1ce2c1ea",
   "metadata": {},
   "outputs": [],
   "source": []
  }
 ],
 "metadata": {
  "kernelspec": {
   "display_name": "Python [conda env:dnn_for_qubit_mapping]",
   "language": "python",
   "name": "conda-env-dnn_for_qubit_mapping-py"
  },
  "language_info": {
   "codemirror_mode": {
    "name": "ipython",
    "version": 3
   },
   "file_extension": ".py",
   "mimetype": "text/x-python",
   "name": "python",
   "nbconvert_exporter": "python",
   "pygments_lexer": "ipython3",
   "version": "3.8.18"
  }
 },
 "nbformat": 4,
 "nbformat_minor": 5
}
